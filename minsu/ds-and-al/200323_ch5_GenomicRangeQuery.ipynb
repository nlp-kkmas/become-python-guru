{
 "cells": [
  {
   "cell_type": "code",
   "execution_count": 41,
   "metadata": {
    "ExecuteTime": {
     "end_time": "2020-03-23T08:40:38.097925Z",
     "start_time": "2020-03-23T08:40:38.090885Z"
    }
   },
   "outputs": [],
   "source": [
    "def solution(S, P, Q):\n",
    "    dna_dict = {'A':1, 'C':2, 'G':3, 'T':4}\n",
    "    sr = [dna_dict[S[i]] for i in range(len(S))]\n",
    "    d = []\n",
    "    for i in range(len(P)):\n",
    "        d.append(min(sr[P[i] : Q[i]+1]))\n",
    "    return d"
   ]
  },
  {
   "cell_type": "code",
   "execution_count": 42,
   "metadata": {
    "ExecuteTime": {
     "end_time": "2020-03-23T08:40:38.438974Z",
     "start_time": "2020-03-23T08:40:38.433968Z"
    }
   },
   "outputs": [
    {
     "data": {
      "text/plain": [
       "[2, 4, 1]"
      ]
     },
     "execution_count": 42,
     "metadata": {},
     "output_type": "execute_result"
    }
   ],
   "source": [
    "solution('CAGCCTA', [2, 5, 0], [4, 5, 6])"
   ]
  },
  {
   "cell_type": "markdown",
   "metadata": {},
   "source": [
    "https://app.codility.com/demo/results/trainingYDTBJ3-RKM/"
   ]
  },
  {
   "cell_type": "code",
   "execution_count": 102,
   "metadata": {
    "ExecuteTime": {
     "end_time": "2020-03-23T11:00:13.025139Z",
     "start_time": "2020-03-23T11:00:13.019155Z"
    }
   },
   "outputs": [],
   "source": [
    "def solution(S, P, Q):\n",
    "    dna_dict = {'A':0, 'C':1, 'G':2, 'T':3}\n",
    "    d = [0] * 4\n",
    "    dd = [[0, 0, 0, 0]]\n",
    "    ddd = []\n",
    "    \n",
    "    for letter in S:\n",
    "        d[dna_dict[letter]] += 1\n",
    "        dd.append(d[:])\n",
    "        \n",
    "    for i in range(len(P)):\n",
    "        for j in range(4):\n",
    "            temp = dd[Q[i]+1][j] - dd[P[i]][j]\n",
    "            if  temp >= 1 :\n",
    "                ddd.append(j + 1)\n",
    "                break\n",
    "    return ddd"
   ]
  },
  {
   "cell_type": "code",
   "execution_count": 103,
   "metadata": {
    "ExecuteTime": {
     "end_time": "2020-03-23T11:00:13.199672Z",
     "start_time": "2020-03-23T11:00:13.194686Z"
    }
   },
   "outputs": [
    {
     "data": {
      "text/plain": [
       "[2, 4, 1]"
      ]
     },
     "execution_count": 103,
     "metadata": {},
     "output_type": "execute_result"
    }
   ],
   "source": [
    "solution('CAGCCTA', [2, 5, 0], [4, 5, 6])"
   ]
  },
  {
   "cell_type": "markdown",
   "metadata": {},
   "source": [
    "https://app.codility.com/demo/results/trainingNMYT4N-954/"
   ]
  },
  {
   "cell_type": "code",
   "execution_count": null,
   "metadata": {},
   "outputs": [],
   "source": []
  }
 ],
 "metadata": {
  "kernelspec": {
   "display_name": "Python 3",
   "language": "python",
   "name": "python3"
  },
  "language_info": {
   "codemirror_mode": {
    "name": "ipython",
    "version": 3
   },
   "file_extension": ".py",
   "mimetype": "text/x-python",
   "name": "python",
   "nbconvert_exporter": "python",
   "pygments_lexer": "ipython3",
   "version": "3.7.4"
  },
  "varInspector": {
   "cols": {
    "lenName": 16,
    "lenType": 16,
    "lenVar": 40
   },
   "kernels_config": {
    "python": {
     "delete_cmd_postfix": "",
     "delete_cmd_prefix": "del ",
     "library": "var_list.py",
     "varRefreshCmd": "print(var_dic_list())"
    },
    "r": {
     "delete_cmd_postfix": ") ",
     "delete_cmd_prefix": "rm(",
     "library": "var_list.r",
     "varRefreshCmd": "cat(var_dic_list()) "
    }
   },
   "types_to_exclude": [
    "module",
    "function",
    "builtin_function_or_method",
    "instance",
    "_Feature"
   ],
   "window_display": false
  }
 },
 "nbformat": 4,
 "nbformat_minor": 2
}
