{
 "cells": [
  {
   "cell_type": "code",
   "execution_count": 13,
   "metadata": {
    "ExecuteTime": {
     "end_time": "2020-05-11T07:44:31.114007Z",
     "start_time": "2020-05-11T07:44:31.109021Z"
    }
   },
   "outputs": [],
   "source": [
    "def solution(A):\n",
    "    n = len(A)\n",
    "    d = 0\n",
    "    for i in range(0, n-1):\n",
    "        result = max(A[i+1:]) - A[i]\n",
    "        d = max(result, d)\n",
    "    return d"
   ]
  },
  {
   "cell_type": "code",
   "execution_count": 14,
   "metadata": {
    "ExecuteTime": {
     "end_time": "2020-05-11T07:44:31.434149Z",
     "start_time": "2020-05-11T07:44:31.428166Z"
    }
   },
   "outputs": [
    {
     "data": {
      "text/plain": [
       "356"
      ]
     },
     "execution_count": 14,
     "metadata": {},
     "output_type": "execute_result"
    }
   ],
   "source": [
    "solution([23171, 21011, 21123, 21366, 21013, 21367])"
   ]
  },
  {
   "cell_type": "code",
   "execution_count": 19,
   "metadata": {
    "ExecuteTime": {
     "end_time": "2020-05-11T07:55:09.051335Z",
     "start_time": "2020-05-11T07:55:09.045416Z"
    }
   },
   "outputs": [],
   "source": [
    "def solution(A):\n",
    "    n = len(A)\n",
    "    if n < 2:\n",
    "        return 0\n",
    "    else:\n",
    "        result = A[1] - A[0]\n",
    "        pre_min = A[0]\n",
    "        for i in range(2, n):\n",
    "            pre_min = min(A[i-1], pre_min)\n",
    "            result = max(result, A[i]-pre_min)\n",
    "        if result < 0:\n",
    "            return 0\n",
    "    return result"
   ]
  },
  {
   "cell_type": "code",
   "execution_count": 20,
   "metadata": {
    "ExecuteTime": {
     "end_time": "2020-05-11T07:55:09.224870Z",
     "start_time": "2020-05-11T07:55:09.218887Z"
    }
   },
   "outputs": [
    {
     "data": {
      "text/plain": [
       "356"
      ]
     },
     "execution_count": 20,
     "metadata": {},
     "output_type": "execute_result"
    }
   ],
   "source": [
    "solution([23171, 21011, 21123, 21366, 21013, 21367])"
   ]
  },
  {
   "cell_type": "markdown",
   "metadata": {},
   "source": [
    "https://app.codility.com/demo/results/training3RKWGX-XQV/"
   ]
  },
  {
   "cell_type": "code",
   "execution_count": null,
   "metadata": {},
   "outputs": [],
   "source": []
  }
 ],
 "metadata": {
  "kernelspec": {
   "display_name": "Python 3",
   "language": "python",
   "name": "python3"
  },
  "language_info": {
   "codemirror_mode": {
    "name": "ipython",
    "version": 3
   },
   "file_extension": ".py",
   "mimetype": "text/x-python",
   "name": "python",
   "nbconvert_exporter": "python",
   "pygments_lexer": "ipython3",
   "version": "3.7.4"
  },
  "varInspector": {
   "cols": {
    "lenName": 16,
    "lenType": 16,
    "lenVar": 40
   },
   "kernels_config": {
    "python": {
     "delete_cmd_postfix": "",
     "delete_cmd_prefix": "del ",
     "library": "var_list.py",
     "varRefreshCmd": "print(var_dic_list())"
    },
    "r": {
     "delete_cmd_postfix": ") ",
     "delete_cmd_prefix": "rm(",
     "library": "var_list.r",
     "varRefreshCmd": "cat(var_dic_list()) "
    }
   },
   "types_to_exclude": [
    "module",
    "function",
    "builtin_function_or_method",
    "instance",
    "_Feature"
   ],
   "window_display": false
  }
 },
 "nbformat": 4,
 "nbformat_minor": 2
}
