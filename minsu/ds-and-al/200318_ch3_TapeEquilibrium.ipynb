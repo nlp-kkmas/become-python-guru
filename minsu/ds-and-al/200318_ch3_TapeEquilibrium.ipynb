{
 "cells": [
  {
   "cell_type": "code",
   "execution_count": 37,
   "metadata": {},
   "outputs": [],
   "source": [
    "def solution(A):\n",
    "    D = []\n",
    "    temp = 0\n",
    "    for i in range(len(A)-1):\n",
    "        temp += A[i] \n",
    "        D.append(temp)\n",
    "    temp = 0\n",
    "    E = []\n",
    "    for i in range(len(A)-1, 0, -1):\n",
    "        temp += A[i] \n",
    "        E.append(temp)\n",
    "    length = len(A) - 1\n",
    "    DD = [[D[i], E[length-1-i]] for i in range(length)]\n",
    "    \n",
    "    return min(map(lambda x: abs(x[0] - x[1]), DD))\n",
    "#     return DD[0]"
   ]
  },
  {
   "cell_type": "code",
   "execution_count": 38,
   "metadata": {},
   "outputs": [
    {
     "data": {
      "text/plain": [
       "1"
      ]
     },
     "execution_count": 38,
     "metadata": {},
     "output_type": "execute_result"
    }
   ],
   "source": [
    "solution([3, 1, 2, 4, 3])"
   ]
  },
  {
   "cell_type": "code",
   "execution_count": null,
   "metadata": {},
   "outputs": [],
   "source": []
  }
 ],
 "metadata": {
  "kernelspec": {
   "display_name": "Python 3",
   "language": "python",
   "name": "python3"
  },
  "language_info": {
   "codemirror_mode": {
    "name": "ipython",
    "version": 3
   },
   "file_extension": ".py",
   "mimetype": "text/x-python",
   "name": "python",
   "nbconvert_exporter": "python",
   "pygments_lexer": "ipython3",
   "version": "3.7.3"
  }
 },
 "nbformat": 4,
 "nbformat_minor": 2
}
