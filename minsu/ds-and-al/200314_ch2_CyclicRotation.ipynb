{
 "cells": [
  {
   "cell_type": "code",
   "execution_count": 145,
   "metadata": {
    "ExecuteTime": {
     "end_time": "2020-03-14T11:42:29.215503Z",
     "start_time": "2020-03-14T11:42:29.209520Z"
    }
   },
   "outputs": [],
   "source": [
    "# 1st. submit\n",
    "def solution(A, K):\n",
    "    length = len(A)\n",
    "    K = K % length\n",
    "    idx = list(range(length-K, length)) + list(range(length-K))\n",
    "    B = [A[idx[i]] for i in range(length)]\n",
    "    return B"
   ]
  },
  {
   "cell_type": "code",
   "execution_count": 146,
   "metadata": {
    "ExecuteTime": {
     "end_time": "2020-03-14T11:42:29.374080Z",
     "start_time": "2020-03-14T11:42:29.368095Z"
    }
   },
   "outputs": [],
   "source": [
    "# 2nd. submit\n",
    "## empty array 추가 버전\n",
    "\n",
    "def solution(A, K):\n",
    "    length = len(A)\n",
    "    if length == 0:\n",
    "        return []\n",
    "    K = K % length\n",
    "    idx = list(range(length-K, length)) + list(range(length-K))\n",
    "    B = [A[idx[i]] for i in range(length)]\n",
    "    return B"
   ]
  },
  {
   "cell_type": "code",
   "execution_count": 147,
   "metadata": {
    "ExecuteTime": {
     "end_time": "2020-03-14T11:42:29.517696Z",
     "start_time": "2020-03-14T11:42:29.511712Z"
    }
   },
   "outputs": [
    {
     "data": {
      "text/plain": [
       "[]"
      ]
     },
     "execution_count": 147,
     "metadata": {},
     "output_type": "execute_result"
    }
   ],
   "source": [
    "solution([], 2)"
   ]
  },
  {
   "cell_type": "code",
   "execution_count": null,
   "metadata": {},
   "outputs": [],
   "source": []
  }
 ],
 "metadata": {
  "kernelspec": {
   "display_name": "Python 3",
   "language": "python",
   "name": "python3"
  },
  "language_info": {
   "codemirror_mode": {
    "name": "ipython",
    "version": 3
   },
   "file_extension": ".py",
   "mimetype": "text/x-python",
   "name": "python",
   "nbconvert_exporter": "python",
   "pygments_lexer": "ipython3",
   "version": "3.7.4"
  },
  "varInspector": {
   "cols": {
    "lenName": 16,
    "lenType": 16,
    "lenVar": 40
   },
   "kernels_config": {
    "python": {
     "delete_cmd_postfix": "",
     "delete_cmd_prefix": "del ",
     "library": "var_list.py",
     "varRefreshCmd": "print(var_dic_list())"
    },
    "r": {
     "delete_cmd_postfix": ") ",
     "delete_cmd_prefix": "rm(",
     "library": "var_list.r",
     "varRefreshCmd": "cat(var_dic_list()) "
    }
   },
   "types_to_exclude": [
    "module",
    "function",
    "builtin_function_or_method",
    "instance",
    "_Feature"
   ],
   "window_display": false
  }
 },
 "nbformat": 4,
 "nbformat_minor": 2
}
