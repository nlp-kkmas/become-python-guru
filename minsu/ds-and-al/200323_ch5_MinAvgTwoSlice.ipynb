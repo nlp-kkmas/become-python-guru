{
 "cells": [
  {
   "cell_type": "code",
   "execution_count": 94,
   "metadata": {
    "ExecuteTime": {
     "end_time": "2020-03-23T12:44:22.024545Z",
     "start_time": "2020-03-23T12:44:22.017564Z"
    }
   },
   "outputs": [],
   "source": [
    "def solution(A):\n",
    "    ddd = []\n",
    "    length = len(A)\n",
    "    for j in range(length - 1):\n",
    "        d = [A[j]]\n",
    "        dd = []\n",
    "        for i in range(length-j-1):\n",
    "            d.append(d[i]+A[j+i+1])\n",
    "            dd.append(d[i+1] / (i+2))\n",
    "        ddd.append(min(dd))\n",
    "    return ddd.index(min(ddd))"
   ]
  },
  {
   "cell_type": "markdown",
   "metadata": {},
   "source": [
    "https://app.codility.com/demo/results/training43RH5C-TXG/"
   ]
  },
  {
   "cell_type": "code",
   "execution_count": 124,
   "metadata": {
    "ExecuteTime": {
     "end_time": "2020-03-24T02:34:31.017136Z",
     "start_time": "2020-03-24T02:34:31.010157Z"
    }
   },
   "outputs": [],
   "source": [
    "def solution(A):\n",
    "    length = len(A)\n",
    "    result = sum(A)\n",
    "    d = 0\n",
    "    for i in range(2, length):\n",
    "        for j in range(length):\n",
    "            if j+i <= length:\n",
    "                temp = sum(A[j:j+i]) / i\n",
    "                if temp < result:\n",
    "                    result = temp\n",
    "                    d = j\n",
    "    return d"
   ]
  },
  {
   "cell_type": "code",
   "execution_count": 125,
   "metadata": {
    "ExecuteTime": {
     "end_time": "2020-03-24T02:34:31.246521Z",
     "start_time": "2020-03-24T02:34:31.240539Z"
    }
   },
   "outputs": [
    {
     "data": {
      "text/plain": [
       "0"
      ]
     },
     "execution_count": 125,
     "metadata": {},
     "output_type": "execute_result"
    }
   ],
   "source": [
    "solution([4, 2])"
   ]
  },
  {
   "cell_type": "code",
   "execution_count": 149,
   "metadata": {
    "ExecuteTime": {
     "end_time": "2020-03-24T02:49:52.215762Z",
     "start_time": "2020-03-24T02:49:52.209782Z"
    }
   },
   "outputs": [],
   "source": [
    "dd = []\n",
    "length = len(A)\n",
    "for j in range(length-1):\n",
    "    s = A[j]\n",
    "    d = []\n",
    "    temp = A[j] + A[j+1] / 2\n",
    "    for i in range(1, length-j):\n",
    "        s += A[j+i]\n",
    "        if temp > s / (i + 1):\n",
    "            temp = s / (i + 1)\n",
    "    dd.append(temp)"
   ]
  },
  {
   "cell_type": "code",
   "execution_count": 151,
   "metadata": {
    "ExecuteTime": {
     "end_time": "2020-03-24T02:50:27.375469Z",
     "start_time": "2020-03-24T02:50:27.368487Z"
    }
   },
   "outputs": [],
   "source": [
    "def solution(A):\n",
    "    dd = []\n",
    "    length = len(A)\n",
    "    for j in range(length-1):\n",
    "        s = A[j]\n",
    "        d = []\n",
    "        temp = A[j] + A[j+1] / 2\n",
    "        for i in range(1, length-j):\n",
    "            s += A[j+i]\n",
    "            if temp > s / (i + 1):\n",
    "                temp = s / (i + 1)\n",
    "        dd.append(temp)\n",
    "    return dd.index(min(dd))"
   ]
  },
  {
   "cell_type": "code",
   "execution_count": 153,
   "metadata": {
    "ExecuteTime": {
     "end_time": "2020-03-24T02:50:36.111109Z",
     "start_time": "2020-03-24T02:50:36.105123Z"
    }
   },
   "outputs": [
    {
     "data": {
      "text/plain": [
       "0"
      ]
     },
     "execution_count": 153,
     "metadata": {},
     "output_type": "execute_result"
    }
   ],
   "source": [
    "solution([2, 2])"
   ]
  },
  {
   "cell_type": "code",
   "execution_count": 175,
   "metadata": {
    "ExecuteTime": {
     "end_time": "2020-03-24T03:20:27.679667Z",
     "start_time": "2020-03-24T03:20:27.672689Z"
    }
   },
   "outputs": [],
   "source": [
    "def solution(A):\n",
    "    d = [0]\n",
    "    length = len(A)\n",
    "    s = 2**64\n",
    "    for i in range(length-1):\n",
    "        t = (A[i] + A[i+1]) / 2\n",
    "        if t < s:\n",
    "            s = t\n",
    "            d.append(i)\n",
    "\n",
    "\n",
    "    for i in range(length-2):\n",
    "        tt = sum(A[i:i+3]) / 3\n",
    "        if tt < s:\n",
    "            s = tt\n",
    "            d.append(i)\n",
    "    return d[-1]"
   ]
  },
  {
   "cell_type": "code",
   "execution_count": 176,
   "metadata": {
    "ExecuteTime": {
     "end_time": "2020-03-24T03:20:27.855206Z",
     "start_time": "2020-03-24T03:20:27.850221Z"
    }
   },
   "outputs": [
    {
     "data": {
      "text/plain": [
       "2"
      ]
     },
     "execution_count": 176,
     "metadata": {},
     "output_type": "execute_result"
    }
   ],
   "source": [
    "solution([-3, -5, -8, -4, -10])"
   ]
  },
  {
   "cell_type": "markdown",
   "metadata": {},
   "source": [
    "https://app.codility.com/demo/results/trainingQEBBRX-YNG/"
   ]
  },
  {
   "cell_type": "code",
   "execution_count": null,
   "metadata": {},
   "outputs": [],
   "source": []
  }
 ],
 "metadata": {
  "kernelspec": {
   "display_name": "Python 3",
   "language": "python",
   "name": "python3"
  },
  "language_info": {
   "codemirror_mode": {
    "name": "ipython",
    "version": 3
   },
   "file_extension": ".py",
   "mimetype": "text/x-python",
   "name": "python",
   "nbconvert_exporter": "python",
   "pygments_lexer": "ipython3",
   "version": "3.7.4"
  },
  "varInspector": {
   "cols": {
    "lenName": 16,
    "lenType": 16,
    "lenVar": 40
   },
   "kernels_config": {
    "python": {
     "delete_cmd_postfix": "",
     "delete_cmd_prefix": "del ",
     "library": "var_list.py",
     "varRefreshCmd": "print(var_dic_list())"
    },
    "r": {
     "delete_cmd_postfix": ") ",
     "delete_cmd_prefix": "rm(",
     "library": "var_list.r",
     "varRefreshCmd": "cat(var_dic_list()) "
    }
   },
   "types_to_exclude": [
    "module",
    "function",
    "builtin_function_or_method",
    "instance",
    "_Feature"
   ],
   "window_display": false
  }
 },
 "nbformat": 4,
 "nbformat_minor": 2
}
