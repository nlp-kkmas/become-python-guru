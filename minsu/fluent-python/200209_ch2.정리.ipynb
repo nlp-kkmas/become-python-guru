{
 "cells": [
  {
   "cell_type": "markdown",
   "metadata": {},
   "source": [
    "# CHAPTER 2 시퀀스"
   ]
  },
  {
   "cell_type": "markdown",
   "metadata": {},
   "source": [
    "* 파이썬은 시퀀스를 단일하게 처리하는 ABC의 특징을 물려받았기 때문에 문자열, 리스트, 바이트 시퀀스, 배열 등등에 모두 반복, 슬라이싱, 정렬, 연결 등 공통된 연산을 적용할 수 있다."
   ]
  },
  {
   "attachments": {},
   "cell_type": "markdown",
   "metadata": {},
   "source": [
    "**공통 시퀀스 연산**\n",
    "![./ch_2_1](./ch2_1.jpg)\n",
    "출처 : https://kongdols-room.tistory.com/24"
   ]
  },
  {
   "cell_type": "markdown",
   "metadata": {},
   "source": [
    "# 2.1 내장 시퀀스 개요"
   ]
  },
  {
   "cell_type": "markdown",
   "metadata": {},
   "source": [
    "파이썬 표준 라이브러리의 제공 시퀀스\n",
    "* **컨테이너 시퀀스**\n",
    "    * 서로 다른 자료형의 항목들을 담을 수 있음.\n",
    "    * list, tuple, collections.deque 형.\n",
    "    * 객체에 대한 참조를 담고 있으며 객체는 어떤 자료형도 될 수 있음.\n",
    "      \n",
    "      \n",
    "* **균일 시퀀스**\n",
    "    * 단 하나의 자료형만 담을 수 있음.\n",
    "    * str, bytes, bytearray, memoryview, array.array 형.\n",
    "    * 객체에 대한 참조 대신 자신의 메모리 공간에 각 항목의 값을 직접 담기 때문에 메모리를 더 적게 사용함.\n",
    "    * 하지만, 문자, 바이트, 숫자 등 기본적인 자료형만 저장할 수 있음."
   ]
  },
  {
   "cell_type": "markdown",
   "metadata": {},
   "source": [
    "가변성에 따른 분류\n",
    "* **가변 시퀀스**\n",
    "    * list, bytearray, array.array, collections.deque, memoryview 형.\n",
    "    \n",
    "    \n",
    "* **불변 시퀀스**\n",
    "    * tuple, str, bytes 형."
   ]
  },
  {
   "cell_type": "markdown",
   "metadata": {},
   "source": [
    "# 2.2 지능형 리스트와 제너레이터 표현식"
   ]
  },
  {
   "cell_type": "markdown",
   "metadata": {},
   "source": [
    "***지능형 리스트나 제너레이터 표현식을 사용하면 시퀀스를 간단히 생성할뿐만 아니라, 가독성이 좋고 실행 속도도 빠르다!***"
   ]
  },
  {
   "cell_type": "code",
   "execution_count": 1,
   "metadata": {},
   "outputs": [
    {
     "data": {
      "text/plain": [
       "[36, 162, 163, 165, 8364, 164]"
      ]
     },
     "execution_count": 1,
     "metadata": {},
     "output_type": "execute_result"
    }
   ],
   "source": [
    "# 예제 2-1 문자열에서 유니코드 코드포인트 리스트 만들기(버전 1)\n",
    "symbols = '$¢£¥€¤'\n",
    "codes = []\n",
    "for symbol in symbols:\n",
    "    codes.append(ord(symbol))\n",
    "    \n",
    "codes"
   ]
  },
  {
   "cell_type": "code",
   "execution_count": 2,
   "metadata": {},
   "outputs": [
    {
     "data": {
      "text/plain": [
       "[36, 162, 163, 165, 8364, 164]"
      ]
     },
     "execution_count": 2,
     "metadata": {},
     "output_type": "execute_result"
    }
   ],
   "source": [
    "# 예제 2-2 문자열에서 유니코드 코드포인트 리스트 만들기(버전 2)\n",
    "symbols = '$¢£¥€¤'\n",
    "codes = [ord(symbol) for symbol in symbols]\n",
    "codes"
   ]
  },
  {
   "cell_type": "markdown",
   "metadata": {},
   "source": [
    "* 지능형 리스트(2-2)는 의도를 명확히 보여준다. \n",
    "* 왜 (2-1)은 의도가 명확하지 않을까? \n",
    "    * **-> for 루프는 시퀀스를 읽어서 개수를 세거나 어떤 항목을 골라내는 등 다양한 일에 사용할 수 있기 때문이다.**\n",
    "* 지능형 리스트는 오로지 새로운 리스트를 만드는 일만 한다.\n",
    "* 주의) 생성된 리스트를 사용하지 않을 것이라면, 지능형 리스트를 사용하지 말아야 한다.\n",
    "    * **-> 지능형 리스트를 남용해서 코드의 간결함을 잃을 수 있기 때문.**\n",
    "* 지능형 리스트 구문이 두 줄 이상 넘어가는 경우에는 코드를 분할하거나 for문을 이용해서 작성하는 것이 더 낫다.\n",
    "    * **-> 파이썬에서는 [], {}, () 안에서의 개행이 무시되기 떄문에 역슬래시를 사용하지 않고도 여러 줄에 걸쳐 리스트, 지능형 리스트, 제너레이터 표현식, 딕셔너리를 사용할 수 있다.**"
   ]
  },
  {
   "cell_type": "code",
   "execution_count": 3,
   "metadata": {},
   "outputs": [
    {
     "name": "stdout",
     "output_type": "stream",
     "text": [
      "ABC\n",
      "[65, 66, 67]\n"
     ]
    }
   ],
   "source": [
    "x = 'ABC'\n",
    "dummy = [ord(x) for x in x]\n",
    "\n",
    "print(x) # x의 값이 유지된다.\n",
    "print(dummy) # 지능형 리스트가 기대했던 리스트를 만든다."
   ]
  },
  {
   "cell_type": "markdown",
   "metadata": {},
   "source": [
    "Python3에서는 제너레이터 표현식(이하 Genexp), 지능형 리스트(이하 Listcomp), 지능형 집합(set comprehension), 지능형 딕셔너리(dict comprehension)은 함수처럼 **고유한 지역 범위**를 가진다.\n",
    "\n",
    "-> 따라서 표현식 안에서 할당된 변수는 지역 변수지만, 주변 범위의 변수를 여전히 참조할 수 있다!"
   ]
  },
  {
   "cell_type": "markdown",
   "metadata": {},
   "source": [
    "## 2.2.2 지능형 리스트와 map()/filter() 비교"
   ]
  },
  {
   "cell_type": "markdown",
   "metadata": {},
   "source": [
    "`map()`과 `filter()`에 람다(lambda)를 이용해서 리스트를 구현할 수도 있지만 속도가 빠르지는 않다.\n",
    "\n",
    "map(func, iter)  \n",
    "filter(func, iter)"
   ]
  },
  {
   "cell_type": "code",
   "execution_count": 6,
   "metadata": {},
   "outputs": [
    {
     "data": {
      "text/plain": [
       "[162, 163, 165, 8364, 164]"
      ]
     },
     "execution_count": 6,
     "metadata": {},
     "output_type": "execute_result"
    }
   ],
   "source": [
    "# 예제 2-3 지능형 리스트와 맵/필터 구성으로 만든 동일 리스트\n",
    "symbols = '$¢£¥€¤'\n",
    "beyond_ascii = [ord(s) for s in symbols if ord(s) > 127]\n",
    "(beyond_ascii)"
   ]
  },
  {
   "cell_type": "code",
   "execution_count": 7,
   "metadata": {},
   "outputs": [
    {
     "data": {
      "text/plain": [
       "[162, 163, 165, 8364, 164]"
      ]
     },
     "execution_count": 7,
     "metadata": {},
     "output_type": "execute_result"
    }
   ],
   "source": [
    "beyond_ascii = list(filter(lambda c: c > 127, map(ord, symbols)))\n",
    "beyond_ascii"
   ]
  },
  {
   "cell_type": "markdown",
   "metadata": {},
   "source": [
    "**속도를 비교해보자!**"
   ]
  },
  {
   "cell_type": "code",
   "execution_count": 26,
   "metadata": {},
   "outputs": [
    {
     "name": "stdout",
     "output_type": "stream",
     "text": [
      "listcomp        : 0.010 0.010 0.010 0.009 0.011\n",
      "listcomp + func : 0.014 0.015 0.014 0.014 0.014\n",
      "filter + lambda : 0.013 0.012 0.013 0.013 0.012\n",
      "filter + func   : 0.012 0.012 0.012 0.012 0.012\n"
     ]
    }
   ],
   "source": [
    "# 예제 코드 02-array-seq - listcomp_speed.py\n",
    "import timeit\n",
    "\n",
    "TIMES = 10000\n",
    "\n",
    "SETUP = \"\"\"\n",
    "symbols = '$¢£¥€¤'\n",
    "def non_ascii(c):\n",
    "    return c > 127\n",
    "\"\"\"\n",
    "\n",
    "def clock(label, cmd):\n",
    "    res = timeit.repeat(cmd, setup=SETUP, number=TIMES)\n",
    "    print(label, *('{:.3f}'.format(x) for x in res))\n",
    "    \n",
    "clock('listcomp        :', '[ord(s) for s in symbols if ord(s) > 127]')\n",
    "clock('listcomp + func :', '[ord(s) for s in symbols if non_ascii(ord(s))]')\n",
    "clock('filter + lambda :', 'list(filter(lambda c: c > 127, map(ord, symbols)))')\n",
    "clock('filter + func   :', 'list(filter(non_ascii, map(ord, symbols)))')\n",
    "# clock('listcomp + func :', '[filter(non_ascii, map(ord, symbols))]') 잘못된 방법!"
   ]
  },
  {
   "cell_type": "markdown",
   "metadata": {},
   "source": [
    "## 2.2.3 데카르트 곱"
   ]
  },
  {
   "cell_type": "markdown",
   "metadata": {},
   "source": [
    "Listcomp는 두 개 이상의 시퀀스 자료형의 데카르트 곱을 나타내는 리스트를 만들 수 있다."
   ]
  },
  {
   "cell_type": "code",
   "execution_count": 28,
   "metadata": {},
   "outputs": [],
   "source": [
    "# 예제 2-4 지능형 리스트를 이용한 데카르트 곱\n",
    "colors = ['black', 'white']\n",
    "sizes = ['S', 'M', 'L']"
   ]
  },
  {
   "cell_type": "code",
   "execution_count": 29,
   "metadata": {},
   "outputs": [
    {
     "data": {
      "text/plain": [
       "[('black', 'S'),\n",
       " ('black', 'M'),\n",
       " ('black', 'L'),\n",
       " ('white', 'S'),\n",
       " ('white', 'M'),\n",
       " ('white', 'L')]"
      ]
     },
     "execution_count": 29,
     "metadata": {},
     "output_type": "execute_result"
    }
   ],
   "source": [
    "# 튜플 리스트를 생성해서 만들기\n",
    "tshirts = [(color, size) for color in colors for size in sizes]\n",
    "tshirts"
   ]
  },
  {
   "cell_type": "code",
   "execution_count": 30,
   "metadata": {},
   "outputs": [
    {
     "data": {
      "text/plain": [
       "[('black', 'S'),\n",
       " ('white', 'S'),\n",
       " ('black', 'M'),\n",
       " ('white', 'M'),\n",
       " ('black', 'L'),\n",
       " ('white', 'L')]"
      ]
     },
     "execution_count": 30,
     "metadata": {},
     "output_type": "execute_result"
    }
   ],
   "source": [
    "# []안에서는 역슬래시가 필요없다!\n",
    "tshirts = [(color, size) for size in sizes\n",
    "                         for color in colors]\n",
    "tshirts"
   ]
  },
  {
   "cell_type": "markdown",
   "metadata": {},
   "source": [
    "## 2.2.4 제너레이터 표현식"
   ]
  },
  {
   "cell_type": "markdown",
   "metadata": {},
   "source": [
    "* 튜플, 배열 등의 시퀀스형을 초기화하려면 listcomp를 이용할 수 있다.\n",
    "* 하지만, 다른 생성자에 전달할 리스트를 통째로 만들지 않고 반복자 프로토콜(iterator protocol)을 이용해서 항목을 하나씩 생성하는 genexp은 메모리를 더 적게 사용한다."
   ]
  },
  {
   "cell_type": "code",
   "execution_count": 31,
   "metadata": {},
   "outputs": [
    {
     "data": {
      "text/plain": [
       "(36, 162, 163, 165, 8364, 164)"
      ]
     },
     "execution_count": 31,
     "metadata": {},
     "output_type": "execute_result"
    }
   ],
   "source": [
    "# 예제 2-5\n",
    "symbols = '$¢£¥€¤'\n",
    "tuple(ord(symbol) for symbol in symbols)"
   ]
  },
  {
   "cell_type": "code",
   "execution_count": 33,
   "metadata": {},
   "outputs": [
    {
     "data": {
      "text/plain": [
       "array('I', [36, 162, 163, 165, 8364, 164])"
      ]
     },
     "execution_count": 33,
     "metadata": {},
     "output_type": "execute_result"
    }
   ],
   "source": [
    "import array\n",
    "array.array('I', (ord(symbol) for symbol in symbols))\n",
    "# 배열 생성자의 첫번째 인수는 배열에 들어갈 숫자들을 저장할 자료형을 지정해야한다."
   ]
  },
  {
   "cell_type": "code",
   "execution_count": 36,
   "metadata": {},
   "outputs": [
    {
     "ename": "ValueError",
     "evalue": "bad typecode (must be b, B, u, h, H, i, I, l, L, q, Q, f or d)",
     "output_type": "error",
     "traceback": [
      "\u001b[1;31m---------------------------------------------------------------------------\u001b[0m",
      "\u001b[1;31mValueError\u001b[0m                                Traceback (most recent call last)",
      "\u001b[1;32m<ipython-input-36-096d9a567ac4>\u001b[0m in \u001b[0;36m<module>\u001b[1;34m\u001b[0m\n\u001b[1;32m----> 1\u001b[1;33m \u001b[0marray\u001b[0m\u001b[1;33m.\u001b[0m\u001b[0marray\u001b[0m\u001b[1;33m(\u001b[0m\u001b[1;34m'2'\u001b[0m\u001b[1;33m,\u001b[0m \u001b[1;33m(\u001b[0m\u001b[0mord\u001b[0m\u001b[1;33m(\u001b[0m\u001b[0msymbol\u001b[0m\u001b[1;33m)\u001b[0m \u001b[1;32mfor\u001b[0m \u001b[0msymbol\u001b[0m \u001b[1;32min\u001b[0m \u001b[0msymbols\u001b[0m\u001b[1;33m)\u001b[0m\u001b[1;33m)\u001b[0m\u001b[1;33m\u001b[0m\u001b[1;33m\u001b[0m\u001b[0m\n\u001b[0m",
      "\u001b[1;31mValueError\u001b[0m: bad typecode (must be b, B, u, h, H, i, I, l, L, q, Q, f or d)"
     ]
    }
   ],
   "source": [
    "array.array('2', (ord(symbol) for symbol in symbols))"
   ]
  },
  {
   "cell_type": "code",
   "execution_count": 37,
   "metadata": {},
   "outputs": [
    {
     "name": "stdout",
     "output_type": "stream",
     "text": [
      "black S\n",
      "black M\n",
      "black L\n",
      "white S\n",
      "white M\n",
      "white L\n"
     ]
    }
   ],
   "source": [
    "# 예제 2-6 제너레이터 표현식에서의 데카르트 곱\n",
    "colors = ['black', 'white']\n",
    "sizes = ['S', 'M', 'L']\n",
    "for tshirts in ('%s %s' % (c, s) for c in colors for s in sizes):\n",
    "    print(tshirts)"
   ]
  },
  {
   "cell_type": "markdown",
   "metadata": {},
   "source": [
    "위 결과에서 볼 수 있듯이, genexp는 한 번에 하나의 항목을 생성하며, 6개의 티셔츠 종류를 담고 있는 리스트는 만들지 않는다."
   ]
  },
  {
   "cell_type": "markdown",
   "metadata": {},
   "source": [
    "###  2.2 정리\n",
    "* Listcomp나 genexp는 리스트를 생성함에 있어서 가독성이 좋을 뿐만 아니라, 실행속도도 빠르다.\n",
    "* `filter()`, `map()`을 이용해서도 만들 수 있지만, 속도가 빠르진 않다.\n",
    "* Listcomp는 두 개 이상의 시퀀스를 만들 때도 사용할 수 있다, 이때는 개행으로 가독성을 확보해주자.\n",
    "* Listcomp와 달리 genexp는 모든 항목이 들어있는 리스트를 생성하지 않고 한 번에 하나의 항목을 생성한다. "
   ]
  },
  {
   "cell_type": "markdown",
   "metadata": {},
   "source": [
    "# 2.3 튜플은 단순한 불변 리스트가 아니다"
   ]
  },
  {
   "cell_type": "markdown",
   "metadata": {},
   "source": [
    "튜플은 불변 리스트로 사용할 수도 있지만, **필드명이 없는 레코드**로 사용할 수도 있다."
   ]
  },
  {
   "cell_type": "markdown",
   "metadata": {},
   "source": [
    "## 2.3.1 레코드로서의 튜플\n",
    "* 튜플의 각 항목은 레코드의 필드 하나를 의미하며 항목의 위치가 곧 의미를 결정한다. \n",
    "* 튜플을 필드의 집합으로 사용하는 경우에는 항목 수가 고정되어 있고 항목의 순서가 중요. "
   ]
  },
  {
   "cell_type": "code",
   "execution_count": 39,
   "metadata": {},
   "outputs": [],
   "source": [
    "# 예제 2-7 레코드로 사용된 튜플\n",
    "lax_coordinates = (33.9425, -118.408056)\n",
    "\n",
    "# 도쿄에 대한 데이터 (지명, 년도, 백만 단위 인구수, 인구변화율, 제곱킬로미터 단위 면적)\n",
    "city, year, pop, chg, area = ('Tokyo', 2003, 32450, 0.66, 8014)\n",
    "\n",
    "# (국가 코드, 여권 번호)\n",
    "traveler_ids = [('USA', '31195855'), ('BRA', 'CE342567'), ('ESP', 'XDA205856')]"
   ]
  },
  {
   "cell_type": "code",
   "execution_count": 45,
   "metadata": {},
   "outputs": [
    {
     "name": "stdout",
     "output_type": "stream",
     "text": [
      "BRA/CE342567\n",
      "ESP/XDA205856\n",
      "USA/31195855\n",
      "<class 'tuple'>\n"
     ]
    }
   ],
   "source": [
    "for passport in sorted(traveler_ids): # 리스트를 반복할 때 passport 변수가 각 튜플에 바인딩된다. \n",
    "    code, pass_num = passport\n",
    "    print(f'{code}/{pass_num}')\n",
    "print(type(passport))\n"
   ]
  },
  {
   "cell_type": "markdown",
   "metadata": {},
   "source": [
    "레코드로서 사용하는 경우에 튜플을 정렬(sorted)해서 정보가 파괴되었다. "
   ]
  },
  {
   "cell_type": "code",
   "execution_count": 46,
   "metadata": {},
   "outputs": [
    {
     "name": "stdout",
     "output_type": "stream",
     "text": [
      "USA\n",
      "BRA\n",
      "ESP\n"
     ]
    }
   ],
   "source": [
    "for country, _ in traveler_ids: # for 루프트는 튜플의 각 항목을 어떻게 가져와야 하는지 알고 있다.\n",
    "    print(country)              # (이 과정을 언패킹 이라고 함)"
   ]
  },
  {
   "cell_type": "markdown",
   "metadata": {},
   "source": [
    "## 2.3.2 튜플 언패킹\n",
    "* 튜플 언패킹은 시퀀스 객체라면 모두 적용할 수 있다.\n",
    "* 병렬 할당(parallel assignment)은 시퀀스 객체를 변수로 구성된 튜플에 할당하는 것을 말한다."
   ]
  },
  {
   "cell_type": "code",
   "execution_count": 47,
   "metadata": {},
   "outputs": [
    {
     "name": "stdout",
     "output_type": "stream",
     "text": [
      "latitude   : 33.9425\n",
      "longtitude : -118.408056\n"
     ]
    }
   ],
   "source": [
    "lax_coordinates = (33.9425, -118.408056)\n",
    "latitude, longtitude = lax_coordinates # 튜플 언패킹\n",
    "\n",
    "print('latitude   :', f'{latitude}')\n",
    "print('longtitude :', f'{longtitude}')"
   ]
  },
  {
   "cell_type": "markdown",
   "metadata": {},
   "source": [
    "튜플 언패킹을 이용하면 임시 변수를 사용하지 않고도 두 변수의 값을 서로 교환할 수 있다."
   ]
  },
  {
   "cell_type": "code",
   "execution_count": 49,
   "metadata": {},
   "outputs": [
    {
     "name": "stdout",
     "output_type": "stream",
     "text": [
      "a : 3\n",
      "b : 2\n"
     ]
    }
   ],
   "source": [
    "a = 2\n",
    "b = 3\n",
    "\n",
    "b, a = a, b\n",
    "\n",
    "print('a :', f'{a}')\n",
    "print('b :', f'{b}')"
   ]
  },
  {
   "cell_type": "markdown",
   "metadata": {},
   "source": [
    "함수를 호출할 때 인수 앞에 *를 붙여 튜플을 언패킹할 수 있다."
   ]
  },
  {
   "cell_type": "code",
   "execution_count": 50,
   "metadata": {},
   "outputs": [
    {
     "data": {
      "text/plain": [
       "(2, 4)"
      ]
     },
     "execution_count": 50,
     "metadata": {},
     "output_type": "execute_result"
    }
   ],
   "source": [
    "divmod(20, 8)"
   ]
  },
  {
   "cell_type": "code",
   "execution_count": 51,
   "metadata": {},
   "outputs": [
    {
     "data": {
      "text/plain": [
       "(2, 4)"
      ]
     },
     "execution_count": 51,
     "metadata": {},
     "output_type": "execute_result"
    }
   ],
   "source": [
    "t = (20, 8)\n",
    "divmod(*t)"
   ]
  },
  {
   "cell_type": "code",
   "execution_count": 55,
   "metadata": {},
   "outputs": [
    {
     "name": "stdout",
     "output_type": "stream",
     "text": [
      "(2, 4)\n"
     ]
    }
   ],
   "source": [
    "quotient, remainder = divmod(*t)\n",
    "print(f'{quotient, remainder}')"
   ]
  },
  {
   "cell_type": "code",
   "execution_count": 56,
   "metadata": {},
   "outputs": [
    {
     "data": {
      "text/plain": [
       "'idrsa.pub'"
      ]
     },
     "execution_count": 56,
     "metadata": {},
     "output_type": "execute_result"
    }
   ],
   "source": [
    "# 튜플 언패킹의 또다른 사용법\n",
    "import os\n",
    "_, filename = os.path.split('/home/luciano/.ssh/idrsa.pub')\n",
    "filename"
   ]
  },
  {
   "cell_type": "markdown",
   "metadata": {},
   "source": [
    "### 초과 항목을 잡기 위해 * 사용하기"
   ]
  },
  {
   "cell_type": "code",
   "execution_count": 57,
   "metadata": {},
   "outputs": [
    {
     "data": {
      "text/plain": [
       "(0, 1, [2, 3, 4])"
      ]
     },
     "execution_count": 57,
     "metadata": {},
     "output_type": "execute_result"
    }
   ],
   "source": [
    "a, b, *rest = range(5)\n",
    "a, b, rest"
   ]
  },
  {
   "cell_type": "code",
   "execution_count": 58,
   "metadata": {},
   "outputs": [
    {
     "data": {
      "text/plain": [
       "(0, 1, [])"
      ]
     },
     "execution_count": 58,
     "metadata": {},
     "output_type": "execute_result"
    }
   ],
   "source": [
    "a, b, *rest = range(2)\n",
    "a, b, rest"
   ]
  },
  {
   "cell_type": "markdown",
   "metadata": {},
   "source": [
    "## 2.3.4 명명된 튜플\n",
    "`collections.namedtuple()` 함수는 필드명과 클래스명을 추가한 튜플의 서브클래스를 생성하는 팩토리 함수. 디버깅할 때 듀용하다.  \n",
    "필드명이 클래스에 저장되므로 `namedtuple()`로 생성한 객체는 튜플과 동일한 크기의 메모리만 사용한다. 속성을 객체마다 존재하는 `__dict__` 에 저장하지 않으므로 일반적인 객체보다 메모리를 적게 사용한다. "
   ]
  },
  {
   "cell_type": "code",
   "execution_count": 59,
   "metadata": {},
   "outputs": [
    {
     "data": {
      "text/plain": [
       "City(name='Tokyo', country='JP', population=36.933, coordinates=(35.689722, 139.691667))"
      ]
     },
     "execution_count": 59,
     "metadata": {},
     "output_type": "execute_result"
    }
   ],
   "source": [
    "# 예제 2-9 namedtuple 정의하고 사용하기\n",
    "from collections import namedtuple\n",
    "City = namedtuple('City', 'name country population coordinates') # 클래스명, 필드명의 리스트를 인자로 받음.\n",
    "tokyo = City('Tokyo','JP', 36.933, (35.689722, 139.691667))\n",
    "tokyo"
   ]
  },
  {
   "cell_type": "code",
   "execution_count": 60,
   "metadata": {},
   "outputs": [
    {
     "data": {
      "text/plain": [
       "36.933"
      ]
     },
     "execution_count": 60,
     "metadata": {},
     "output_type": "execute_result"
    }
   ],
   "source": [
    "tokyo.population"
   ]
  },
  {
   "cell_type": "code",
   "execution_count": 61,
   "metadata": {},
   "outputs": [
    {
     "data": {
      "text/plain": [
       "(35.689722, 139.691667)"
      ]
     },
     "execution_count": 61,
     "metadata": {},
     "output_type": "execute_result"
    }
   ],
   "source": [
    "tokyo.coordinates"
   ]
  },
  {
   "cell_type": "code",
   "execution_count": 62,
   "metadata": {},
   "outputs": [
    {
     "data": {
      "text/plain": [
       "'JP'"
      ]
     },
     "execution_count": 62,
     "metadata": {},
     "output_type": "execute_result"
    }
   ],
   "source": [
    "tokyo[1]"
   ]
  },
  {
   "cell_type": "markdown",
   "metadata": {},
   "source": [
    "namedtuple은 튜플에서 상속받은 속성 외에 `_files`, `_make`(iterable) 클래스 메서드, `_asdict()` 객체 메서드를 사용할 수 있다."
   ]
  },
  {
   "cell_type": "code",
   "execution_count": 63,
   "metadata": {},
   "outputs": [
    {
     "data": {
      "text/plain": [
       "('name', 'country', 'population', 'coordinates')"
      ]
     },
     "execution_count": 63,
     "metadata": {},
     "output_type": "execute_result"
    }
   ],
   "source": [
    "# 예제 2-10 named tuple의 속성과 메서드\n",
    "City._fields # 클래스의 필드명을 담고 있는 튜플"
   ]
  },
  {
   "cell_type": "code",
   "execution_count": 67,
   "metadata": {},
   "outputs": [
    {
     "data": {
      "text/plain": [
       "OrderedDict([('name', 'Delhi NCR'),\n",
       "             ('country', 'IN'),\n",
       "             ('population', 21.935),\n",
       "             ('coordinates', Latlong(lat=28.613889, long=77.208889))])"
      ]
     },
     "execution_count": 67,
     "metadata": {},
     "output_type": "execute_result"
    }
   ],
   "source": [
    "LatLong = namedtuple('Latlong', 'lat long')\n",
    "\n",
    "delhi_data = ('Delhi NCR', 'IN', 21.935, LatLong(28.613889, 77.208889))\n",
    "\n",
    "delhi = City._make(delhi_data) \n",
    "# ._make()는 반복형 객체로부터 naemdtuple을 만든다. Cit(*delhi_data)를 호출하는 코드와 동일한 역할을 한다.\n",
    "\n",
    "delhi._asdict() # _asdict()는 namedtuple 객체에서 만들어진 collections.OrderedDict 객체를 반환한다."
   ]
  },
  {
   "cell_type": "code",
   "execution_count": 68,
   "metadata": {},
   "outputs": [
    {
     "name": "stdout",
     "output_type": "stream",
     "text": [
      "name: Delhi NCR\n",
      "country: IN\n",
      "population: 21.935\n",
      "coordinates: Latlong(lat=28.613889, long=77.208889)\n"
     ]
    }
   ],
   "source": [
    "for key, value in delhi._asdict().items():\n",
    "    print(key + ':', value)"
   ]
  },
  {
   "attachments": {},
   "cell_type": "markdown",
   "metadata": {},
   "source": [
    "## 2.3.5 불변 리시트로서의 튜플\n",
    "튜플을 불변 리스트로 사용할 때, 튜플과 리스트가 얼마나 비슷한지 알고 있으면 도움이 된다. \n",
    "![표 2-1](./ch2_2.jpg)"
   ]
  },
  {
   "cell_type": "markdown",
   "metadata": {},
   "source": [
    "## 2.4 슬라이싱"
   ]
  },
  {
   "cell_type": "markdown",
   "metadata": {},
   "source": [
    "## 2.4.1 슬라이스와 범위 지정시에 마지막 항목이 포함되지 않는 이유"
   ]
  },
  {
   "cell_type": "markdown",
   "metadata": {},
   "source": [
    "슬라이스와 범위 지정시에 마지막 항목을 포함하지 않는 관례 덕분에 아래와 같은 장점이 있다.\n",
    "* 세 개의 항목을 생성하는 `range(3)`나 `my_list[:3]`처럼 중단점만 이용해서 슬라이스나 범위를 지정할 때 **길이를 계산하기 쉽다.**\n",
    "* 시작점과 중단점을 모두 지정할 때도 길이를 계산하기 쉽다. **단지 중단점에서 시작점을 뺴면 된다.**\n",
    "* 다음 예제에서 보는 것처럼, x 인덱스를 기준으로 **겹침 없이 시퀀스를 분할하기 쉽다.** 단지 my_list[:x]와 my_list[x:]로 지정하면 된다."
   ]
  },
  {
   "cell_type": "code",
   "execution_count": 69,
   "metadata": {},
   "outputs": [
    {
     "data": {
      "text/plain": [
       "[10, 20]"
      ]
     },
     "execution_count": 69,
     "metadata": {},
     "output_type": "execute_result"
    }
   ],
   "source": [
    "l = [10, 20, 30, 40, 50, 60]\n",
    "l[:2] # 2번 인덱스에서 분할"
   ]
  },
  {
   "cell_type": "code",
   "execution_count": 70,
   "metadata": {},
   "outputs": [
    {
     "data": {
      "text/plain": [
       "[30, 40, 50, 60]"
      ]
     },
     "execution_count": 70,
     "metadata": {},
     "output_type": "execute_result"
    }
   ],
   "source": [
    "l[2:]"
   ]
  },
  {
   "cell_type": "markdown",
   "metadata": {},
   "source": [
    "## 2.4.2 슬라이스 객체\n",
    "`s[a:b:c]`는 c 보폭(stride)만큼씩 항목을 건너뛰게 만든다. 음수이면 거꾸로 거슬러 올라간다."
   ]
  },
  {
   "cell_type": "code",
   "execution_count": 71,
   "metadata": {},
   "outputs": [
    {
     "data": {
      "text/plain": [
       "'bye'"
      ]
     },
     "execution_count": 71,
     "metadata": {},
     "output_type": "execute_result"
    }
   ],
   "source": [
    "s = 'bicycle'\n",
    "s[::3]"
   ]
  },
  {
   "cell_type": "code",
   "execution_count": 73,
   "metadata": {},
   "outputs": [
    {
     "data": {
      "text/plain": [
       "'eccb'"
      ]
     },
     "execution_count": 73,
     "metadata": {},
     "output_type": "execute_result"
    }
   ],
   "source": [
    "s[::-2]"
   ]
  },
  {
   "cell_type": "markdown",
   "metadata": {},
   "source": [
    "* a:b:c 표기법은 인덱스 연산을 수행하는 []안에서만 사용할 수 있다.\n",
    "* `slice(a, b, c)` 객체를 생성한다.\n",
    "* `seq[start:stop:step]` 표현식을 평가하기 위해 `seq.__getitem__(slice(start, stop, step))`을 호출한다."
   ]
  },
  {
   "cell_type": "markdown",
   "metadata": {},
   "source": [
    "아래처럼 이름붙인 슬라이스 객체를 생성해서 가독성을 확보할 수 있다!"
   ]
  },
  {
   "cell_type": "code",
   "execution_count": 89,
   "metadata": {},
   "outputs": [
    {
     "data": {
      "text/plain": [
       "['1909  Pimoromi PiBrella                   $17.50    3    $52.50',\n",
       " '1489  6mm Tactile Switch x20               $4.95    2     $9.90',\n",
       " '1510  Panavise Jr. -Pv-201                $28.00    1    $28.00',\n",
       " '1601  PiTFT Mini Kit 320x240              $34.95    1    $34.95',\n",
       " '']"
      ]
     },
     "execution_count": 89,
     "metadata": {},
     "output_type": "execute_result"
    }
   ],
   "source": [
    "# 예제 2-11 단순 텍스트 파일 청구서의 행 항목들\n",
    "invoice = \"\"\"\n",
    "0.....6...............................40........52...55........\n",
    "1909  Pimoromi PiBrella                   $17.50    3    $52.50\n",
    "1489  6mm Tactile Switch x20               $4.95    2     $9.90\n",
    "1510  Panavise Jr. -Pv-201                $28.00    1    $28.00\n",
    "1601  PiTFT Mini Kit 320x240              $34.95    1    $34.95\n",
    "\"\"\"\n",
    "\n",
    "\n",
    "SKU = slice(0,6)\n",
    "DESCRIPTION = slice(6, 40)\n",
    "UNIT_PRICE = slice(40, 52)\n",
    "QUANTITY = slice(52, 55)\n",
    "ITEM_TOTAL = slice(55, None)\n",
    "line_items = invoice.split('\\n')[2:]\n",
    "\n",
    "line_items"
   ]
  },
  {
   "cell_type": "code",
   "execution_count": 90,
   "metadata": {},
   "outputs": [
    {
     "name": "stdout",
     "output_type": "stream",
     "text": [
      "  $17.50     Pimoromi PiBrella                 \n",
      "   $4.95     6mm Tactile Switch x20            \n",
      "  $28.00     Panavise Jr. -Pv-201              \n",
      "  $34.95     PiTFT Mini Kit 320x240            \n",
      " \n"
     ]
    }
   ],
   "source": [
    "for item in line_items:\n",
    "    print(item[UNIT_PRICE], item[DESCRIPTION])"
   ]
  },
  {
   "cell_type": "code",
   "execution_count": 91,
   "metadata": {},
   "outputs": [
    {
     "name": "stdout",
     "output_type": "stream",
     "text": [
      "  $52.50\n",
      "   $9.90\n",
      "  $28.00\n",
      "  $34.95\n",
      "\n"
     ]
    }
   ],
   "source": [
    "for item in line_items:\n",
    "    print(item[ITEM_TOTAL])"
   ]
  },
  {
   "cell_type": "markdown",
   "metadata": {},
   "source": [
    "## 2.4.3 다차원 슬라이싱과 생략 기호\n",
    "* [] 연사자를 처리하는 `__getitem__()`과 `__setitem__` 특수 메서드는 `a[i, j]`에 들어 있는 인덱스들을 튜플로 받는다. (`a.__getitem__((i, j))`를 호출)\n",
    "* 파이썬에 내장된 시퀀스형은 1차원이므로 단 하나의 인덱스나 슬라이스만 지원하고 튜플은 지원하지 않는다. \n",
    "* 세 개의 마침표(...)로 표현된 생략 기호는 Python parser에 의해 하나의 토큰으로 인식된다. \n",
    "* `f(a, ..., z)`처럼 함수의 인수나, `a[i:...]`처럼 슬라이스의 한 부분으로 전달할 수 있다."
   ]
  },
  {
   "cell_type": "markdown",
   "metadata": {},
   "source": [
    "## 2.4.4 슬라이스에 할당하기\n",
    "* 할당문 왼쪽에 슬라이스 표기법을 사용하거나, `del` 문의 대상 객체로 지정함으로써\n",
    "* 가변 시퀀스를 연결, 잘라 내기, 값 변경을 할 수 있다."
   ]
  },
  {
   "cell_type": "code",
   "execution_count": 100,
   "metadata": {},
   "outputs": [
    {
     "data": {
      "text/plain": [
       "[0, 1, 2, 3, 4, 5, 6, 7, 8, 9]"
      ]
     },
     "execution_count": 100,
     "metadata": {},
     "output_type": "execute_result"
    }
   ],
   "source": [
    "l = list(range(10))\n",
    "l"
   ]
  },
  {
   "cell_type": "code",
   "execution_count": 101,
   "metadata": {},
   "outputs": [
    {
     "data": {
      "text/plain": [
       "[0, 1, 20, 30, 5, 6, 7, 8, 9]"
      ]
     },
     "execution_count": 101,
     "metadata": {},
     "output_type": "execute_result"
    }
   ],
   "source": [
    "l[2:5] = [20, 30]\n",
    "l"
   ]
  },
  {
   "cell_type": "code",
   "execution_count": 102,
   "metadata": {},
   "outputs": [
    {
     "data": {
      "text/plain": [
       "[0, 1, 20, 30, 5, 8, 9]"
      ]
     },
     "execution_count": 102,
     "metadata": {},
     "output_type": "execute_result"
    }
   ],
   "source": [
    "del l[5:7]\n",
    "l"
   ]
  },
  {
   "cell_type": "code",
   "execution_count": 103,
   "metadata": {},
   "outputs": [],
   "source": [
    "l[3::2] = [11, 22]"
   ]
  },
  {
   "cell_type": "code",
   "execution_count": 104,
   "metadata": {},
   "outputs": [
    {
     "data": {
      "text/plain": [
       "[0, 1, 20, 11, 5, 22, 9]"
      ]
     },
     "execution_count": 104,
     "metadata": {},
     "output_type": "execute_result"
    }
   ],
   "source": [
    "l"
   ]
  },
  {
   "cell_type": "code",
   "execution_count": 105,
   "metadata": {},
   "outputs": [
    {
     "ename": "TypeError",
     "evalue": "can only assign an iterable",
     "output_type": "error",
     "traceback": [
      "\u001b[1;31m---------------------------------------------------------------------------\u001b[0m",
      "\u001b[1;31mTypeError\u001b[0m                                 Traceback (most recent call last)",
      "\u001b[1;32m<ipython-input-105-da8b10461280>\u001b[0m in \u001b[0;36m<module>\u001b[1;34m\u001b[0m\n\u001b[1;32m----> 1\u001b[1;33m \u001b[0ml\u001b[0m\u001b[1;33m[\u001b[0m\u001b[1;36m2\u001b[0m\u001b[1;33m:\u001b[0m\u001b[1;36m5\u001b[0m\u001b[1;33m]\u001b[0m \u001b[1;33m=\u001b[0m \u001b[1;36m100\u001b[0m\u001b[1;33m\u001b[0m\u001b[1;33m\u001b[0m\u001b[0m\n\u001b[0m",
      "\u001b[1;31mTypeError\u001b[0m: can only assign an iterable"
     ]
    }
   ],
   "source": [
    "l[2:5] = 100\n",
    "# 할당문의 대상이 슬라이스인 경우, 항목 하나만 할당하는 경우에도 할당문 오른쪽에는 iterable한 객체가 와야한다."
   ]
  },
  {
   "cell_type": "code",
   "execution_count": 106,
   "metadata": {},
   "outputs": [
    {
     "data": {
      "text/plain": [
       "[0, 1, 100, 22, 9]"
      ]
     },
     "execution_count": 106,
     "metadata": {},
     "output_type": "execute_result"
    }
   ],
   "source": [
    "l[2:5] = [100]\n",
    "l"
   ]
  },
  {
   "cell_type": "code",
   "execution_count": 107,
   "metadata": {},
   "outputs": [
    {
     "ename": "ValueError",
     "evalue": "attempt to assign sequence of size 2 to extended slice of size 1",
     "output_type": "error",
     "traceback": [
      "\u001b[1;31m---------------------------------------------------------------------------\u001b[0m",
      "\u001b[1;31mValueError\u001b[0m                                Traceback (most recent call last)",
      "\u001b[1;32m<ipython-input-107-369e6569c21e>\u001b[0m in \u001b[0;36m<module>\u001b[1;34m\u001b[0m\n\u001b[1;32m----> 1\u001b[1;33m \u001b[0ml\u001b[0m\u001b[1;33m[\u001b[0m\u001b[1;36m3\u001b[0m\u001b[1;33m:\u001b[0m\u001b[1;33m:\u001b[0m\u001b[1;36m2\u001b[0m\u001b[1;33m]\u001b[0m \u001b[1;33m=\u001b[0m \u001b[1;33m[\u001b[0m\u001b[1;36m11\u001b[0m\u001b[1;33m,\u001b[0m \u001b[1;36m22\u001b[0m\u001b[1;33m]\u001b[0m\u001b[1;33m\u001b[0m\u001b[1;33m\u001b[0m\u001b[0m\n\u001b[0m",
      "\u001b[1;31mValueError\u001b[0m: attempt to assign sequence of size 2 to extended slice of size 1"
     ]
    }
   ],
   "source": [
    "l[3::2] = [11, 22]\n",
    "# l[a:b:c]를 사용하는 경우, 오른쪽 할당 반복 객체에 갯수를 맞춰줘야한다!"
   ]
  },
  {
   "cell_type": "markdown",
   "metadata": {},
   "source": [
    "# 2.5 시퀀스에 덧셈과 곱셈 연산자 사용하기"
   ]
  },
  {
   "cell_type": "markdown",
   "metadata": {},
   "source": [
    "a가 가변 항목을 담고 있을 때 `a * n`과 같은 표현식을 사용하려면 주의해야 한다.  \n",
    "예를 들어, 리스트의 리스트를 초기화할 때 my_list = `[[]] * 3`으로 초기화하면 **동일한 내부 리스트에 대한 참조 세 개를 가진 리스트가 만들어지므로,** 원치 않는 결과가 나올 수 있다."
   ]
  },
  {
   "cell_type": "markdown",
   "metadata": {},
   "source": [
    "## 2.5.1 리스트의 리스트 만들기\n",
    "내포된 리스트를 가진 리스트를 초기화해야 하는 경우, listcomp를 사용하는 것이 가장 좋다."
   ]
  },
  {
   "cell_type": "code",
   "execution_count": 109,
   "metadata": {},
   "outputs": [
    {
     "data": {
      "text/plain": [
       "[['_', '_', '_'], ['_', '_', '_'], ['_', '_', '_']]"
      ]
     },
     "execution_count": 109,
     "metadata": {},
     "output_type": "execute_result"
    }
   ],
   "source": [
    "# 예제 2-12 길이가 3인 리스트 3개로 표현한 틱택토 보드\n",
    "board = [['_'] * 3 for i in range(3)]\n",
    "board"
   ]
  },
  {
   "cell_type": "code",
   "execution_count": 110,
   "metadata": {},
   "outputs": [
    {
     "data": {
      "text/plain": [
       "[['_', '_', '_'], ['_', '_', 'X'], ['_', '_', '_']]"
      ]
     },
     "execution_count": 110,
     "metadata": {},
     "output_type": "execute_result"
    }
   ],
   "source": [
    "board[1][2] = 'X'\n",
    "board"
   ]
  },
  {
   "cell_type": "code",
   "execution_count": 111,
   "metadata": {},
   "outputs": [
    {
     "data": {
      "text/plain": [
       "[['_', '_', '_'], ['_', '_', '_'], ['_', '_', '_']]"
      ]
     },
     "execution_count": 111,
     "metadata": {},
     "output_type": "execute_result"
    }
   ],
   "source": [
    "# 예제 2-13 동일한 리스트에 대한 세 개의 참조를 가진 리스트는 쓸모없다.\n",
    "weird_board = [['_'] * 3] * 3 # 최상위 리스트가 동일한 내부 리스트에 대한 참조 세 개를 가진다.\n",
    "weird_board"
   ]
  },
  {
   "cell_type": "code",
   "execution_count": 112,
   "metadata": {},
   "outputs": [
    {
     "data": {
      "text/plain": [
       "[['_', '_', 'O'], ['_', '_', 'O'], ['_', '_', 'O']]"
      ]
     },
     "execution_count": 112,
     "metadata": {},
     "output_type": "execute_result"
    }
   ],
   "source": [
    "# 동일한 참조를 가지기 때문에 이런 일이 발생한다..\n",
    "weird_board[1][2] = 'O'\n",
    "weird_board"
   ]
  },
  {
   "cell_type": "code",
   "execution_count": 114,
   "metadata": {},
   "outputs": [],
   "source": [
    "# 예제 2-13의 코드 작동 방식\n",
    "row = ['_'] * 3\n",
    "board = []\n",
    "for i in range(3):\n",
    "    board.append(row) # 동일한 행이 board 리스트에 세 번 추가된다."
   ]
  },
  {
   "cell_type": "code",
   "execution_count": 115,
   "metadata": {},
   "outputs": [],
   "source": [
    "# 예제 2-12의 listcomp의 코드 작동 방식\n",
    "board = []\n",
    "for i in range(3):\n",
    "    row = ['_'] * 3\n",
    "    board.append(row)"
   ]
  },
  {
   "cell_type": "markdown",
   "metadata": {},
   "source": [
    "# 2.6 시퀀스의 복합 할당"
   ]
  },
  {
   "cell_type": "markdown",
   "metadata": {},
   "source": [
    "* `+=`과 `*=`등의 복합 할당 연산자는 첫 번째 피연산자에 따라 상당히 다르게 작동한다. \n",
    "* `+=` 연산자가 작동하도록 만드는 특수 메서드는 `__iadd__()`다. \n",
    "* `__iadd__()` 메서드가 구현되어 있지 않으면, 파이썬은 `__add__()`를 대신 호출한다."
   ]
  },
  {
   "cell_type": "markdown",
   "metadata": {},
   "source": [
    "`a += b`  \n",
    "* a가 `__iadd__()` 메서드를 구현하면 구현된 메서드가 호출된다.\n",
    "* a가 list, bytearray, array.array 등 가변 시퀀스인 경우 a의 값이 변경된다.\n",
    "* 그런데 a가 `__iadd__()` 메서드를 구현하지 않는 경우 `a += b` 표현식은 `a = a + b`가 되어 `a + b`를 먼저 평가하고 , **객체를 새로 생성한 후 a에 할당된다.**\n",
    "* 즉, `__iadd__()` 메서드 구현 여부에 따라 a 변수가 가리키는 객체의 정체성이 바뀔 수도 있고 바뀌지 않을 수도 있다.\n",
    "* 일반적으로 가변 시퀀스에 대해서는 `__iadd__()` 메서드를 구현해서 `+=` 연산자가 기존 객체의 내용을 변경하게 만드는 것이 좋다. \n",
    "* 불변 시퀀스의 경우에는 이 연산을 수행할 수 없다.\n",
    "* `*=` 연산자의 경우 `__imul__()` 메서드를 통해 구현된다."
   ]
  },
  {
   "cell_type": "code",
   "execution_count": 116,
   "metadata": {},
   "outputs": [
    {
     "data": {
      "text/plain": [
       "1947438105224"
      ]
     },
     "execution_count": 116,
     "metadata": {},
     "output_type": "execute_result"
    }
   ],
   "source": [
    "l = [1, 2, 3]\n",
    "id(l) # 초기 리스트의 ID"
   ]
  },
  {
   "cell_type": "code",
   "execution_count": 117,
   "metadata": {},
   "outputs": [
    {
     "data": {
      "text/plain": [
       "[1, 2, 3, 1, 2, 3]"
      ]
     },
     "execution_count": 117,
     "metadata": {},
     "output_type": "execute_result"
    }
   ],
   "source": [
    "l *= 2\n",
    "l"
   ]
  },
  {
   "cell_type": "code",
   "execution_count": 118,
   "metadata": {},
   "outputs": [
    {
     "data": {
      "text/plain": [
       "1947438105224"
      ]
     },
     "execution_count": 118,
     "metadata": {},
     "output_type": "execute_result"
    }
   ],
   "source": [
    "id(l) # 곱셈 연산을 수행한 후 새로운 항목이 추가된 리스트 객체는 기존 객체와 같다. "
   ]
  },
  {
   "cell_type": "code",
   "execution_count": 119,
   "metadata": {},
   "outputs": [
    {
     "data": {
      "text/plain": [
       "1947437251864"
      ]
     },
     "execution_count": 119,
     "metadata": {},
     "output_type": "execute_result"
    }
   ],
   "source": [
    "t = (1, 2, 3)\n",
    "id(t) # 초기 튜플의 ID"
   ]
  },
  {
   "cell_type": "code",
   "execution_count": 120,
   "metadata": {},
   "outputs": [
    {
     "data": {
      "text/plain": [
       "1947449625000"
      ]
     },
     "execution_count": 120,
     "metadata": {},
     "output_type": "execute_result"
    }
   ],
   "source": [
    "t *= 2\n",
    "id(t) # 곱셈 연산을 수행한 후 새로운 튜플 객체가 만들어졌다."
   ]
  },
  {
   "cell_type": "markdown",
   "metadata": {},
   "source": [
    "예제에서 확인한 것처럼 **불변 시퀀스에 반복적으로 연결 연산을 수행하는 것은 비효율적**이다.   \n",
    "\n",
    "하지만, str 객체의 작동 방식은 위와 다르며, str 객체는 메모리 안에 여분의 공간을 갖고 할당되므로,  \n",
    "str 객체를 연결할 때 매번 전체 문자열을 다시 생성하지 않는다."
   ]
  },
  {
   "cell_type": "markdown",
   "metadata": {},
   "source": [
    "## 2.6.1 += 복합 할당 퀴즈"
   ]
  },
  {
   "cell_type": "code",
   "execution_count": 121,
   "metadata": {},
   "outputs": [
    {
     "ename": "TypeError",
     "evalue": "'tuple' object does not support item assignment",
     "output_type": "error",
     "traceback": [
      "\u001b[1;31m---------------------------------------------------------------------------\u001b[0m",
      "\u001b[1;31mTypeError\u001b[0m                                 Traceback (most recent call last)",
      "\u001b[1;32m<ipython-input-121-418028a73805>\u001b[0m in \u001b[0;36m<module>\u001b[1;34m\u001b[0m\n\u001b[0;32m      1\u001b[0m \u001b[1;31m# 예제 2-14 퀴즈\u001b[0m\u001b[1;33m\u001b[0m\u001b[1;33m\u001b[0m\u001b[1;33m\u001b[0m\u001b[0m\n\u001b[0;32m      2\u001b[0m \u001b[0mt\u001b[0m \u001b[1;33m=\u001b[0m \u001b[1;33m(\u001b[0m\u001b[1;36m1\u001b[0m\u001b[1;33m,\u001b[0m \u001b[1;36m2\u001b[0m\u001b[1;33m,\u001b[0m \u001b[1;33m[\u001b[0m\u001b[1;36m30\u001b[0m\u001b[1;33m,\u001b[0m \u001b[1;36m40\u001b[0m\u001b[1;33m]\u001b[0m\u001b[1;33m)\u001b[0m\u001b[1;33m\u001b[0m\u001b[1;33m\u001b[0m\u001b[0m\n\u001b[1;32m----> 3\u001b[1;33m \u001b[0mt\u001b[0m\u001b[1;33m[\u001b[0m\u001b[1;36m2\u001b[0m\u001b[1;33m]\u001b[0m \u001b[1;33m+=\u001b[0m \u001b[1;33m[\u001b[0m\u001b[1;36m50\u001b[0m\u001b[1;33m,\u001b[0m \u001b[1;36m60\u001b[0m\u001b[1;33m]\u001b[0m\u001b[1;33m\u001b[0m\u001b[1;33m\u001b[0m\u001b[0m\n\u001b[0m",
      "\u001b[1;31mTypeError\u001b[0m: 'tuple' object does not support item assignment"
     ]
    }
   ],
   "source": [
    "# 예제 2-14 퀴즈\n",
    "t = (1, 2, [30, 40])\n",
    "t[2] += [50, 60]"
   ]
  },
  {
   "cell_type": "code",
   "execution_count": 122,
   "metadata": {},
   "outputs": [
    {
     "data": {
      "text/plain": [
       "(1, 2, [30, 40, 50, 60])"
      ]
     },
     "execution_count": 122,
     "metadata": {},
     "output_type": "execute_result"
    }
   ],
   "source": [
    "t"
   ]
  },
  {
   "cell_type": "markdown",
   "metadata": {},
   "source": [
    "**이상하다;;**"
   ]
  },
  {
   "attachments": {},
   "cell_type": "markdown",
   "metadata": {},
   "source": [
    "![ch2_3.jpg](./ch2_3.jpg)"
   ]
  },
  {
   "attachments": {},
   "cell_type": "markdown",
   "metadata": {},
   "source": [
    "![ch2_4.jpg](./ch2_4.jpg)\n",
    "\n",
    "www.pythontutor.com"
   ]
  },
  {
   "cell_type": "markdown",
   "metadata": {},
   "source": [
    "**파이썬이 생성한 바이트코드를 살펴보자.**"
   ]
  },
  {
   "cell_type": "code",
   "execution_count": 123,
   "metadata": {},
   "outputs": [
    {
     "name": "stdout",
     "output_type": "stream",
     "text": [
      "  1           0 LOAD_NAME                0 (s)\n",
      "              2 LOAD_NAME                1 (a)\n",
      "              4 DUP_TOP_TWO\n",
      "              6 BINARY_SUBSCR\n",
      "              8 LOAD_NAME                2 (b)\n",
      "             10 INPLACE_ADD\n",
      "             12 ROT_THREE\n",
      "             14 STORE_SUBSCR\n",
      "             16 LOAD_CONST               0 (None)\n",
      "             18 RETURN_VALUE\n"
     ]
    }
   ],
   "source": [
    "import dis\n",
    "dis.dis('s[a] += b')"
   ]
  },
  {
   "cell_type": "markdown",
   "metadata": {},
   "source": [
    "* `s[a]` 값을 스택의 꼭대기(TOS; Top Of Stack)에 놓는다.\n",
    "* `TOS += b` 연산을 수행한다. `TOS`가 가변 객체([예제 2-15]에서의 리스트)를 가리키면 이 연산은 성공한다.\n",
    "* `TOS`를 `s[a]`에 할당한다. `s`가 불변 객체([예제 2-15]에서의 t 튜플)면 이 연산은 실채한다."
   ]
  },
  {
   "cell_type": "markdown",
   "metadata": {},
   "source": [
    "### 교훈\n",
    "* 가변 항목을 튜플에 넣는 것은 좋은 생각이 아니다.\n",
    "* 복합 할당은 원자적인 연산이 아니다(앞의 예제에서 일부 연산이 수행된 후 예외가 발생했다.)\n",
    "* 파이썬 바이트코드를 살펴보는 것은 그리 어렵지 않으며, 내부에서 어떤 일이 발생하고 있는지 살펴보는 데 도움이 된다."
   ]
  },
  {
   "cell_type": "markdown",
   "metadata": {},
   "source": [
    "# 2.7 list.sort()와 sorted() 내장 함수"
   ]
  },
  {
   "cell_type": "markdown",
   "metadata": {},
   "source": [
    "* `list.sort()` 메서드는 사본을 만들지 않고 리스트 내부를 변경해서 정렬한다.\n",
    "* `sort()` 메서드는 타깃 객체를 변경하고 새로운 리스트를 생성하지 않았음을 알려주기 위해 None을 반환한다.\n",
    "* **이건 파이썬 API의 중요한 관례다!**\n",
    "* 이와 반대로 `sorted()` 내장 함수는 새로운 리스트를 생성해서 반환한다.\n",
    "* `sorted()` 함수는 불변 시퀀스 및 제너레이터를 포함해서 **반복 가능한 모든 객체를 인수로 받을 수 있다.**"
   ]
  },
  {
   "cell_type": "markdown",
   "metadata": {},
   "source": [
    "**None을 반환하는 관례**\n",
    "* 객체를 직접 변경했다고 알려주기 위해 None을 반환하는 관례는 메서드를 연결해서 호출할 수 없다는 단점이 있다.  \n",
    "* 이와 반대로 str 객체의 메서드들처럼 새로운 객체를 반환하는 메서드는 플루언트 인터페이스 스타일로 메서드를 연결할 수 있다.  \n",
    "* 메서드 체이닝은 플루언트 인터페이스 형태를 구현하는 하나의 기법이다.\n",
    "  \n",
    "**Fluent Interface** : 소프트웨어 공학에서 fluent interface는 소스 코드의 가독성을 산문과 유사하게 만드는 것이 목적이다. 특히 인터페이스 안에 도메인 특화 언어를 작성한다."
   ]
  },
  {
   "cell_type": "code",
   "execution_count": 124,
   "metadata": {},
   "outputs": [
    {
     "data": {
      "text/plain": [
       "['apple', 'banana', 'grape', 'raspberry']"
      ]
     },
     "execution_count": 124,
     "metadata": {},
     "output_type": "execute_result"
    }
   ],
   "source": [
    "fruits = ['grape', 'raspberry', 'apple', 'banana']\n",
    "sorted(fruits) # 알파벳순으로 정렬된 정렬된 문자열을 담은 새로운 리스트 생성"
   ]
  },
  {
   "cell_type": "code",
   "execution_count": 125,
   "metadata": {},
   "outputs": [
    {
     "data": {
      "text/plain": [
       "['grape', 'raspberry', 'apple', 'banana']"
      ]
     },
     "execution_count": 125,
     "metadata": {},
     "output_type": "execute_result"
    }
   ],
   "source": [
    "fruits # 바뀌지 않았다."
   ]
  },
  {
   "cell_type": "code",
   "execution_count": 126,
   "metadata": {},
   "outputs": [
    {
     "data": {
      "text/plain": [
       "['raspberry', 'grape', 'banana', 'apple']"
      ]
     },
     "execution_count": 126,
     "metadata": {},
     "output_type": "execute_result"
    }
   ],
   "source": [
    "sorted(fruits, reverse=True) # 역순으로 정렬"
   ]
  },
  {
   "cell_type": "code",
   "execution_count": 127,
   "metadata": {},
   "outputs": [
    {
     "data": {
      "text/plain": [
       "['grape', 'apple', 'banana', 'raspberry']"
      ]
     },
     "execution_count": 127,
     "metadata": {},
     "output_type": "execute_result"
    }
   ],
   "source": [
    "sorted(fruits, key=len) # 문장 길이에 따라 정렬. 길이가 같은 것은 그대로 순서 유지. "
   ]
  },
  {
   "cell_type": "code",
   "execution_count": 128,
   "metadata": {},
   "outputs": [
    {
     "data": {
      "text/plain": [
       "['raspberry', 'banana', 'grape', 'apple']"
      ]
     },
     "execution_count": 128,
     "metadata": {},
     "output_type": "execute_result"
    }
   ],
   "source": [
    "sorted(fruits, key=len, reverse=True)"
   ]
  },
  {
   "cell_type": "code",
   "execution_count": 129,
   "metadata": {},
   "outputs": [
    {
     "data": {
      "text/plain": [
       "['grape', 'raspberry', 'apple', 'banana']"
      ]
     },
     "execution_count": 129,
     "metadata": {},
     "output_type": "execute_result"
    }
   ],
   "source": [
    "fruits"
   ]
  },
  {
   "cell_type": "code",
   "execution_count": 130,
   "metadata": {},
   "outputs": [],
   "source": [
    "fruits.sort() # 아무것도 반환하지 않는다."
   ]
  },
  {
   "cell_type": "code",
   "execution_count": 131,
   "metadata": {},
   "outputs": [
    {
     "data": {
      "text/plain": [
       "['apple', 'banana', 'grape', 'raspberry']"
      ]
     },
     "execution_count": 131,
     "metadata": {},
     "output_type": "execute_result"
    }
   ],
   "source": [
    "fruits # 원래 리스트 정렬"
   ]
  },
  {
   "cell_type": "markdown",
   "metadata": {},
   "source": [
    "# 2.8 정렬된 시퀀스를 bisect로 관리하기\n",
    "* `bisect()` : 이진 검색 알고리즘을 이용해서 시퀀스를 검색.\n",
    "* `insort()` : 정렬된 시퀀스 안에 항목을 삽입."
   ]
  },
  {
   "cell_type": "markdown",
   "metadata": {},
   "source": [
    "## 2.8.1 bisect()로 검색하기\n",
    "* `bisect(haystack, needle)`은 정렬된 시퀀스인 `haystack` 안에서 오름차순 정렬 상태를 유지한 채로 `needle`을 추가할 수 있는 위치를 찾아낸다.\n",
    "* 해당 위치 앞에는 `needle`보다 같거나 작은 항목이 온다. \n",
    "* `bisect(haystack, needle)`의 결과값을 인덱스(index)로 사용해서 `haystack.insert(index, needle)`을 호출할 수 있지만,\n",
    "* `insort()` 함수는 이 두 과정을 **더 빨리 처리한다.** "
   ]
  },
  {
   "cell_type": "markdown",
   "metadata": {},
   "source": [
    "`bisect()`  \n",
    "1) 선택 인수인 `lo`와 `hi`를 사용하면 삽입할 때 검색할 시퀀스영역을 좁힐 수 있다.\n",
    "* `lo`의 기본값은 `0`, `hi`의 기본값은 시퀀스의 `len()`이다.  \n",
    "\n",
    "2) `bisect`은 실제로 `bisect_right()`함수의 별명이며, `bisect_left()`도 있다. \n",
    "* 리스트 안의 항목과 `needle` 값이 같을 때만 차이가 난다."
   ]
  },
  {
   "cell_type": "code",
   "execution_count": 132,
   "metadata": {},
   "outputs": [
    {
     "name": "stdout",
     "output_type": "stream",
     "text": [
      "DEMO: bisect_right\n",
      "haystack ->  1  4  5  6  8 12 15 20 21 23 23 26 29 30\n",
      "31 @ 14      |  |  |  |  |  |  |  |  |  |  |  |  |  |31\n",
      "30 @ 14      |  |  |  |  |  |  |  |  |  |  |  |  |  |30\n",
      "29 @ 13      |  |  |  |  |  |  |  |  |  |  |  |  |29\n",
      "23 @ 11      |  |  |  |  |  |  |  |  |  |  |23\n",
      "22 @  9      |  |  |  |  |  |  |  |  |22\n",
      "10 @  5      |  |  |  |  |10\n",
      " 8 @  5      |  |  |  |  |8 \n",
      " 5 @  3      |  |  |5 \n",
      " 2 @  1      |2 \n",
      " 1 @  1      |1 \n",
      " 0 @  0    0 \n"
     ]
    }
   ],
   "source": [
    "# 예제 2-17 정렬된 시퀀스에서 항목을 추가할 위치를 찾아내는 bisect\n",
    "import bisect\n",
    "import sys\n",
    "\n",
    "HAYSTACK = [1, 4, 5, 6, 8, 12, 15, 20, 21, 23, 23, 26, 29, 30]\n",
    "NEEDLES = [0, 1, 2, 5, 8, 10, 22, 23, 29, 30, 31]\n",
    "\n",
    "ROW_FMT = '{0:2d} @ {1:2d}    {2}{0:<2d}'\n",
    "\n",
    "def demo(bisect_fn):\n",
    "    for needle in reversed(NEEDLES):\n",
    "        position = bisect_fn(HAYSTACK, needle) # bisect을 이용해서 삽입 위치를 찾음.\n",
    "        offset = position * '  |' # offsect에 비례한 수직 막대 패턴을 만듦.\n",
    "        print(ROW_FMT.format(needle, position, offset)) # needle과 삽입 위치를 보여주는 행 출력\n",
    "        \n",
    "if __name__ == '__main__':\n",
    "    if sys.argv[-1] == 'left': # 마지막 명령행 인수에 따라 사용할 bisect 함수 선택\n",
    "        bisect_fn = bisect.bisect_left\n",
    "    else:\n",
    "        bisect_fn = bisect.bisect\n",
    "        \n",
    "    print('DEMO:', bisect_fn.__name__)\n",
    "    print('haystack ->', ' '.join('%2d' % n for n in HAYSTACK))\n",
    "    demo(bisect_fn)"
   ]
  },
  {
   "cell_type": "code",
   "execution_count": 133,
   "metadata": {},
   "outputs": [
    {
     "ename": "SyntaxError",
     "evalue": "invalid syntax (<ipython-input-133-7a10db59c27b>, line 2)",
     "output_type": "error",
     "traceback": [
      "\u001b[1;36m  File \u001b[1;32m\"<ipython-input-133-7a10db59c27b>\"\u001b[1;36m, line \u001b[1;32m2\u001b[0m\n\u001b[1;33m    haystack ->  1  4  5  6  8 12 15 20 21 23 23 26 29 30\u001b[0m\n\u001b[1;37m              ^\u001b[0m\n\u001b[1;31mSyntaxError\u001b[0m\u001b[1;31m:\u001b[0m invalid syntax\n"
     ]
    }
   ],
   "source": [
    "DEMO: bisect_left  \n",
    "haystack ->  1  4  5  6  8 12 15 20 21 23 23 26 29 30  \n",
    "31 @ 14      |  |  |  |  |  |  |  |  |  |  |  |  |  |31  \n",
    "30 @ 13      |  |  |  |  |  |  |  |  |  |  |  |  |30  \n",
    "29 @ 12      |  |  |  |  |  |  |  |  |  |  |  |29  \n",
    "23 @  9      |  |  |  |  |  |  |  |  |23  \n",
    "22 @  9      |  |  |  |  |  |  |  |  |22  \n",
    "10 @  5      |  |  |  |  |10  \n",
    " 8 @  4      |  |  |  |8  \n",
    " 5 @  2      |  |5  \n",
    " 2 @  1      |2  \n",
    " 1 @  0    1  \n",
    " 0 @  0    0  "
   ]
  },
  {
   "cell_type": "code",
   "execution_count": 134,
   "metadata": {},
   "outputs": [
    {
     "data": {
      "text/plain": [
       "['F', 'A', 'C', 'C', 'B', 'A', 'A']"
      ]
     },
     "execution_count": 134,
     "metadata": {},
     "output_type": "execute_result"
    }
   ],
   "source": [
    "# 예제 2-18 시험 점수를 입력받아 등급 문자를 반환하는 grade() 함수\n",
    "def grade(score, breakpoints=[60, 70, 80, 90], grades='FDCBA'):\n",
    "    i = bisect.bisect(breakpoints, score)\n",
    "    return grades[i]\n",
    "\n",
    "[grade(score) for score in [33, 99, 77, 70, 89, 90, 100]]"
   ]
  },
  {
   "cell_type": "markdown",
   "metadata": {},
   "source": [
    "## 2.8.2 bisect.insort()로 삽입하기\n",
    "정렬은 값비싼 연산이므로 시퀀스를 일단 정렬한 후에는 정렬 상태를 유지하는 것이 좋다.  \n",
    "`insort(seq, item)`은 `seq`를 오름차순으로 유지한 채로 `item`을 `seq`에 삽입한다."
   ]
  },
  {
   "cell_type": "code",
   "execution_count": 137,
   "metadata": {},
   "outputs": [
    {
     "name": "stdout",
     "output_type": "stream",
     "text": [
      "10 -> [10]\n",
      " 0 -> [0, 10]\n",
      " 6 -> [0, 6, 10]\n",
      " 8 -> [0, 6, 8, 10]\n",
      " 7 -> [0, 6, 7, 8, 10]\n",
      " 2 -> [0, 2, 6, 7, 8, 10]\n",
      "10 -> [0, 2, 6, 7, 8, 10, 10]\n"
     ]
    }
   ],
   "source": [
    "# 예제 2-19 시퀀스를 항상 정렬된 상태로 유지하는 insort()\n",
    "import bisect\n",
    "import random\n",
    "\n",
    "SIZE = 7\n",
    "\n",
    "random.seed(1729)\n",
    "\n",
    "my_list = []\n",
    "for i in range(SIZE):\n",
    "    new_item = random.randrange(SIZE*2)\n",
    "    bisect.insort(my_list, new_item)\n",
    "    print(f'{new_item:2d} -> {my_list}')"
   ]
  },
  {
   "cell_type": "markdown",
   "metadata": {},
   "source": [
    "# 2.9 리스트가 답이 아닐 때\n",
    "* 배열은 모든 기능을 갖춘 float 객체 대신 C 언어의 배열과 마찬가지로 기계가 사용하는 형태로 표현된 **바이트 값만을 저장한다.**\n",
    "* 리스트의 양쪽 끝에 항목을 추가하거나 삭제하면서 FIFO, LIFO 데이터 구조를 구현할 때는 **덱(deque)** 이 더 빠르다."
   ]
  },
  {
   "cell_type": "markdown",
   "metadata": {},
   "source": [
    "## 2.9.1 배열\n",
    "* 리스트 안에 숫자만 들어있다면 배열이 리스트보다 훨씬 더 효율적이다.  \n",
    "* 배열에 저장되는 항목의 문자 **타입코드(typecode)를 지정하여 메모리가 절약된다.**\n",
    "* 배열은 `pop()`, `insert()`, `extend()`등을 포함해서 가변 시퀀스가 제공하는 모든 연산 + `frombytes()`와 `tofile()`메서드도 추가로 제공한다."
   ]
  },
  {
   "cell_type": "code",
   "execution_count": 138,
   "metadata": {},
   "outputs": [
    {
     "data": {
      "text/plain": [
       "0.5963321947530882"
      ]
     },
     "execution_count": 138,
     "metadata": {},
     "output_type": "execute_result"
    }
   ],
   "source": [
    "# 예제 -20 커다란 실수 배열의 생성, 저장, 로딩\n",
    "from array import array\n",
    "from random import random\n",
    "\n",
    "floats = array('d', (random() for i in range(10**7))) # 실수타입 'd' 배열 생성\n",
    "floats[-1]"
   ]
  },
  {
   "cell_type": "code",
   "execution_count": 139,
   "metadata": {},
   "outputs": [
    {
     "data": {
      "text/plain": [
       "0.5963321947530882"
      ]
     },
     "execution_count": 139,
     "metadata": {},
     "output_type": "execute_result"
    }
   ],
   "source": [
    "fp = open('floats.bin', 'wb')\n",
    "floats.tofile(fp) # 배열을 이진 파일에 저장\n",
    "fp.close()\n",
    "\n",
    "floats2 = array('d')\n",
    "\n",
    "fp = open('floats.bin', 'rb')\n",
    "floats2.fromfile(fp, 10**7) # 이진 파일에서 천만 개의 숫자를 읽어온다. \n",
    "fp.close()\n",
    "\n",
    "floats2[-1]"
   ]
  },
  {
   "cell_type": "code",
   "execution_count": 140,
   "metadata": {},
   "outputs": [
    {
     "data": {
      "text/plain": [
       "True"
      ]
     },
     "execution_count": 140,
     "metadata": {},
     "output_type": "execute_result"
    }
   ],
   "source": [
    "floats2 == floats"
   ]
  },
  {
   "cell_type": "markdown",
   "metadata": {},
   "source": [
    "* `float()` 내장 함수를 이용해서 파싱하면서 텍스트 파일에서 숫자를 읽어오는 것보다 **거의 60배 빠르다.**\n",
    "* `array.tofile()` 메서드로 저장하는 것은 각 행마다 실수 하나씩 텍스트 파일에 저장하는 것보다 **약 7배 빠르다.**\n",
    "* 배밀도 실수 천만 개를 저장한 이진 파일의 크기는 동일한 데이터를 저장한 텍스트 파일의 크기의 절반보다 적다.\n",
    "\n",
    "**Tip)** 객체를 직렬화하는 `pickle` 모듈의 `pickle.dump()` 메서드도 빠르게 저장할 뿐만 아니라 사용자 정의 객체 등 거의 모든 내장 자료형을 처리한다."
   ]
  },
  {
   "cell_type": "markdown",
   "metadata": {},
   "source": [
    "## 2.9.2 메모리 뷰\n",
    "메모리 뷰(`memoryview`) 내장 클래스는 공유 메모리 시퀀스형으로서 bytes를 복사하지 않고 배열의 슬라이스를 다룰 수 있게 해준다.\n",
    "\n",
    "**언제 메모리 뷰를 사용해야 하는가?**  \n",
    "*메모리 뷰는 본질적으로 (math를 포함하지 않은) 파이썬 자체에 들어 있는 NumPy 배열 구조체를 일반화한 것이다. 메모리 뷰는 PIL 이미지, SQLlite 데이터베이스, NumPy 배열 등 데이터 구조체를 복사하지 않고 메모리를 공유할 수 있게 해준다. 데이터셋이 커지는 경우 이것은 아주 중요한 기법이다.*"
   ]
  },
  {
   "cell_type": "markdown",
   "metadata": {},
   "source": [
    "* `memoryview.cast()` 메서드는 바이트를 이동시키지 않고 여러 바이트로 된 데이터를 읽거나 쓰는 방식을 바꿀 수 있게 해준다. \n",
    "* `memoryview.cast()`는 또 다른 `memoryview` 객체를 반환하며 언제나 동일한 메모리를 공유한다."
   ]
  },
  {
   "cell_type": "code",
   "execution_count": 141,
   "metadata": {},
   "outputs": [
    {
     "data": {
      "text/plain": [
       "5"
      ]
     },
     "execution_count": 141,
     "metadata": {},
     "output_type": "execute_result"
    }
   ],
   "source": [
    "# 예제 2-21 배열 항목 값의 바이트 중 하나를 변경하기\n",
    "import array\n",
    "\n",
    "numbers = array.array('h', [-2, -1, 0, 1, 2]) # signed integer \n",
    "memv = memoryview(numbers)\n",
    "\n",
    "len(memv)"
   ]
  },
  {
   "cell_type": "code",
   "execution_count": 143,
   "metadata": {},
   "outputs": [
    {
     "data": {
      "text/plain": [
       "-2"
      ]
     },
     "execution_count": 143,
     "metadata": {},
     "output_type": "execute_result"
    }
   ],
   "source": [
    "memv[0] # 다섯개 항목을 동일하게 본다. "
   ]
  },
  {
   "cell_type": "code",
   "execution_count": 144,
   "metadata": {},
   "outputs": [],
   "source": [
    "memv_oct = memv.cast('B') # memv요소를 unsigned char('B')로 형변환한 memv_oct 생성"
   ]
  },
  {
   "cell_type": "code",
   "execution_count": 147,
   "metadata": {},
   "outputs": [
    {
     "data": {
      "text/plain": [
       "[254, 255, 255, 255, 0, 0, 1, 0, 2, 0]"
      ]
     },
     "execution_count": 147,
     "metadata": {},
     "output_type": "execute_result"
    }
   ],
   "source": [
    "memv_oct.tolist() # 값을 조사하기 위해 list로 만듦\n",
    "# unsigned char 타입으로 변환하면, 숫자, 부호가 추가 되어서 리스트 공간이 두 배로 늘어남.\n",
    "# (-)부호는 255, +부호는 0으로 표현."
   ]
  },
  {
   "cell_type": "code",
   "execution_count": 148,
   "metadata": {},
   "outputs": [],
   "source": [
    "memv_oct[5] = 4"
   ]
  },
  {
   "cell_type": "code",
   "execution_count": 150,
   "metadata": {},
   "outputs": [
    {
     "data": {
      "text/plain": [
       "4"
      ]
     },
     "execution_count": 150,
     "metadata": {},
     "output_type": "execute_result"
    }
   ],
   "source": [
    "memv_oct[5]"
   ]
  },
  {
   "cell_type": "code",
   "execution_count": 151,
   "metadata": {},
   "outputs": [
    {
     "data": {
      "text/plain": [
       "array('h', [-2, -1, 1024, 1, 2])"
      ]
     },
     "execution_count": 151,
     "metadata": {},
     "output_type": "execute_result"
    }
   ],
   "source": [
    "numbers # 2 바이트 unsigned int의 최상위 바이트에서 4는 1024에 해당한다."
   ]
  },
  {
   "cell_type": "markdown",
   "metadata": {},
   "source": [
    "## 2.9.3 NumPy와 SciPy"
   ]
  },
  {
   "cell_type": "markdown",
   "metadata": {},
   "source": [
    "pass"
   ]
  },
  {
   "cell_type": "markdown",
   "metadata": {},
   "source": [
    "## 2.9.4 덱 및 기타 큐"
   ]
  },
  {
   "cell_type": "markdown",
   "metadata": {},
   "source": [
    "* `append()`와 `pop()` 메서드를 사용해서 리스트를 큐로 사용할 수 있지만,   \n",
    "리스트 왼쪽에 삽입 또는 삭제할 경우 **전체 리스트를 이동시켜야 하므로 처리 부담이 크다.**   \n",
    "\n",
    "\n",
    "* 덱(`collections.deque`) 클래스는 큐의 양쪽 어디에서든 빠르게 삽입 및 삭제가 가능한 thread-safe 양방향 큐다.\n",
    "\n",
    "* 덱은 최대 길이를 설정해서 제한된 항목만 유지할 수도 있으므로, 꽉찬 경우 새로운 항목을 삽입하면 반대쪽 항목이 제거된다."
   ]
  },
  {
   "cell_type": "code",
   "execution_count": 152,
   "metadata": {},
   "outputs": [
    {
     "data": {
      "text/plain": [
       "deque([0, 1, 2, 3, 4, 5, 6, 7, 8, 9])"
      ]
     },
     "execution_count": 152,
     "metadata": {},
     "output_type": "execute_result"
    }
   ],
   "source": [
    "# 예제 2-23 덱 이용하기\n",
    "from collections import deque\n",
    "\n",
    "# 선택적 인수 maxlen은 덱 객체가 수용할 수 있는 최대 항목 수를 설정한다.\n",
    "# 덱 객체를 생성할 때 읽기 전용 속성인 maxlen을 설정한다.\n",
    "dq = deque(range(10), maxlen=10)\n",
    "\n",
    "dq"
   ]
  },
  {
   "cell_type": "code",
   "execution_count": 153,
   "metadata": {},
   "outputs": [],
   "source": [
    "# 양수 인수를 받으면 오른쪽 끝에 있는 항목을 지정한 개수만큼 왼쪽 끝으로 이동\n",
    "dq.rotate(3)"
   ]
  },
  {
   "cell_type": "code",
   "execution_count": 154,
   "metadata": {},
   "outputs": [
    {
     "data": {
      "text/plain": [
       "deque([7, 8, 9, 0, 1, 2, 3, 4, 5, 6])"
      ]
     },
     "execution_count": 154,
     "metadata": {},
     "output_type": "execute_result"
    }
   ],
   "source": [
    "dq"
   ]
  },
  {
   "cell_type": "code",
   "execution_count": 155,
   "metadata": {},
   "outputs": [],
   "source": [
    "dq.rotate(-4)"
   ]
  },
  {
   "cell_type": "code",
   "execution_count": 156,
   "metadata": {},
   "outputs": [
    {
     "data": {
      "text/plain": [
       "deque([1, 2, 3, 4, 5, 6, 7, 8, 9, 0])"
      ]
     },
     "execution_count": 156,
     "metadata": {},
     "output_type": "execute_result"
    }
   ],
   "source": [
    "dq"
   ]
  },
  {
   "cell_type": "code",
   "execution_count": 157,
   "metadata": {},
   "outputs": [],
   "source": [
    "# 가득찬 덱에 항목을 추가하면 반대쪽 항목을 삭제한다.\n",
    "dq.appendleft(-1)"
   ]
  },
  {
   "cell_type": "code",
   "execution_count": 158,
   "metadata": {},
   "outputs": [
    {
     "data": {
      "text/plain": [
       "deque([-1, 1, 2, 3, 4, 5, 6, 7, 8, 9])"
      ]
     },
     "execution_count": 158,
     "metadata": {},
     "output_type": "execute_result"
    }
   ],
   "source": [
    "dq"
   ]
  },
  {
   "cell_type": "code",
   "execution_count": 159,
   "metadata": {},
   "outputs": [],
   "source": [
    "dq.extend([11, 22, 33])"
   ]
  },
  {
   "cell_type": "code",
   "execution_count": 160,
   "metadata": {},
   "outputs": [
    {
     "data": {
      "text/plain": [
       "deque([3, 4, 5, 6, 7, 8, 9, 11, 22, 33])"
      ]
     },
     "execution_count": 160,
     "metadata": {},
     "output_type": "execute_result"
    }
   ],
   "source": [
    "dq"
   ]
  },
  {
   "cell_type": "code",
   "execution_count": 161,
   "metadata": {},
   "outputs": [],
   "source": [
    "# extendleft(iter)는 iter 인수에서 생성되는 항목을 덱의 왼쪽에 하나씩 차례대로 추가한다,\n",
    "# 그래서 항목이 역순으로 추가된 것임.\n",
    "dq.extendleft([10, 20, 30, 40])"
   ]
  },
  {
   "cell_type": "code",
   "execution_count": 162,
   "metadata": {},
   "outputs": [
    {
     "data": {
      "text/plain": [
       "deque([40, 30, 20, 10, 3, 4, 5, 6, 7, 8])"
      ]
     },
     "execution_count": 162,
     "metadata": {},
     "output_type": "execute_result"
    }
   ],
   "source": [
    "dq"
   ]
  },
  {
   "cell_type": "code",
   "execution_count": null,
   "metadata": {},
   "outputs": [],
   "source": []
  }
 ],
 "metadata": {
  "kernelspec": {
   "display_name": "Python 3",
   "language": "python",
   "name": "python3"
  },
  "language_info": {
   "codemirror_mode": {
    "name": "ipython",
    "version": 3
   },
   "file_extension": ".py",
   "mimetype": "text/x-python",
   "name": "python",
   "nbconvert_exporter": "python",
   "pygments_lexer": "ipython3",
   "version": "3.7.4"
  }
 },
 "nbformat": 4,
 "nbformat_minor": 2
}
