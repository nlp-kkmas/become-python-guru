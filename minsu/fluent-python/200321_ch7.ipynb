{
 "cells": [
  {
   "cell_type": "markdown",
   "metadata": {},
   "source": [
    "# CHPATER 7. 함수 데커레이터와 클로저"
   ]
  },
  {
   "cell_type": "markdown",
   "metadata": {},
   "source": [
    "**함수 데커레이터**는 소스코드에 있는 함수를 '표시'해서 함수의 작동을 개선할 수 있게 해준다. 강력한 기능이지만, 데커레이터를 자유자재로 사용하려면 먼저 클로저를 알아야 한다. 데커레이터에서 사용하는 것 외에도, 클로저는 콜백을 이용한 효율적인 비동기 프로그래밍과 필요에 따라 함수형 스타일로 코딩하는 데에도 필수적이다.  \n",
    "    \n",
    "  \n",
    "**배우는 것**\n",
    "* 파이썬이 데커레이터 구문을 평가하는 방식\n",
    "* 변수가 지역 변수인지 파이썬이 판단하는 방식\n",
    "* 클로저의 존재 이유와 작동 방식\n",
    "* `nonlocal`로 해결할 수 있는 문제\n",
    "  \n",
    "**데커레이터 주제**\n",
    "* 잘 작동하는 데커레이터 구현하기\n",
    "* 표준 라이브러리에서 제공하는 재미있는 데커레이터들\n",
    "* 매개변수화된 데커레이터 구현하기"
   ]
  },
  {
   "cell_type": "markdown",
   "metadata": {},
   "source": [
    "## 7.1 데커레이터 기본 지식\n",
    "데커레이터는 다른 함수를 인수로 받는 콜러블(데커레이트된 함수)이다. 데커레이터는 데커레이트된 함수에 어떤 처리를 수행하고, 함수를 반환하거나 함수를 다른 함수나 콜러블 객체로 대체한다."
   ]
  },
  {
   "cell_type": "code",
   "execution_count": 1,
   "metadata": {
    "ExecuteTime": {
     "end_time": "2020-03-22T07:45:04.377730Z",
     "start_time": "2020-03-22T07:45:04.371749Z"
    }
   },
   "outputs": [],
   "source": [
    "def decorate(func):\n",
    "    def inner():\n",
    "        print('runing inner()')\n",
    "    return inner\n",
    "\n",
    "@decorate\n",
    "def target():\n",
    "    print('running target()')\n",
    "    \n",
    "target = decorate(target)"
   ]
  },
  {
   "cell_type": "code",
   "execution_count": 2,
   "metadata": {
    "ExecuteTime": {
     "end_time": "2020-03-22T07:45:04.398674Z",
     "start_time": "2020-03-22T07:45:04.380721Z"
    }
   },
   "outputs": [
    {
     "data": {
      "text/plain": [
       "<function __main__.decorate.<locals>.inner()>"
      ]
     },
     "execution_count": 2,
     "metadata": {},
     "output_type": "execute_result"
    }
   ],
   "source": [
    "target\n",
    "# target 객체는 target() 함수를 가리키는 것이 아니라 decorate(target)이 반환한 함수를 가리킨다."
   ]
  },
  {
   "cell_type": "code",
   "execution_count": 3,
   "metadata": {
    "ExecuteTime": {
     "end_time": "2020-03-22T07:45:04.407649Z",
     "start_time": "2020-03-22T07:45:04.401667Z"
    }
   },
   "outputs": [],
   "source": [
    "# 예제 7-1 일반적으로 데커레이터는 함수를 다른 함수로 대체한다.\n",
    "def deco(func):\n",
    "    def inner():\n",
    "        print('running inner()')\n",
    "    return inner    # deco()는 inner() 함수 객체를 반환한다.\n",
    "\n",
    "@deco    # target()을 deco로 데커레이트했다.\n",
    "def target():\n",
    "    print('running target()')"
   ]
  },
  {
   "cell_type": "code",
   "execution_count": 4,
   "metadata": {
    "ExecuteTime": {
     "end_time": "2020-03-22T07:45:04.422609Z",
     "start_time": "2020-03-22T07:45:04.409645Z"
    }
   },
   "outputs": [
    {
     "name": "stdout",
     "output_type": "stream",
     "text": [
      "running inner()\n"
     ]
    }
   ],
   "source": [
    "target()"
   ]
  },
  {
   "cell_type": "markdown",
   "metadata": {},
   "source": [
    "데커레이트된 `target()`을 호출하면 실제로는 `inner()`를 수행한다."
   ]
  },
  {
   "cell_type": "code",
   "execution_count": 5,
   "metadata": {
    "ExecuteTime": {
     "end_time": "2020-03-22T07:45:04.432582Z",
     "start_time": "2020-03-22T07:45:04.424605Z"
    }
   },
   "outputs": [
    {
     "data": {
      "text/plain": [
       "<function __main__.deco.<locals>.inner()>"
      ]
     },
     "execution_count": 5,
     "metadata": {},
     "output_type": "execute_result"
    }
   ],
   "source": [
    "target"
   ]
  },
  {
   "cell_type": "markdown",
   "metadata": {},
   "source": [
    "`target`은 실제로 `inner()`를 가리키고 있음을 알 수 있다.  "
   ]
  },
  {
   "cell_type": "markdown",
   "metadata": {},
   "source": [
    "데커레이터는 다른 함수를 인수로 전달해서 호출하는 일반적인 콜러블과 동일하다. 하지만 런타임에 프로그램 행위를 변경하는 **메타프로그래밍**을 할 때 데커레이터가 상당히 편리하다.  \n",
    "\n",
    "*메타프로그래밍* : 런타임에 수행해야 할 작업의 일부를 컴파일 타임 동안 수행하는 프로그래밍.\n",
    "  \n",
    "파이썬에서는 `type()` 메타클래스를 이용."
   ]
  },
  {
   "cell_type": "markdown",
   "metadata": {
    "ExecuteTime": {
     "end_time": "2020-03-22T05:08:04.345090Z",
     "start_time": "2020-03-22T05:08:04.341107Z"
    }
   },
   "source": [
    "### 요약\n",
    "* 데커레이터는 데커레이트된 함수를 다른 함수로 대체하는 능력이 있다.\n",
    "* 데커레이터는 모듈이 로딩될 때 바로 실행된다."
   ]
  },
  {
   "cell_type": "markdown",
   "metadata": {},
   "source": [
    "## 7.2 파이썬이 데커레이터를 실행하는 시점\n",
    "데커레이터의 핵심 특징은 데커레이트된 함수가 정의된 직후에 실행된다는 것이다. 이는 일반적으로 파이썬이 모듈을 로딩하는 시점, 즉 **임포트 타임**에 실행된다."
   ]
  },
  {
   "cell_type": "code",
   "execution_count": 6,
   "metadata": {
    "ExecuteTime": {
     "end_time": "2020-03-22T07:45:04.448540Z",
     "start_time": "2020-03-22T07:45:04.435574Z"
    }
   },
   "outputs": [
    {
     "name": "stdout",
     "output_type": "stream",
     "text": [
      "running register(<function f1 at 0x000001C8BFF81168>)\n",
      "running register(<function f2 at 0x000001C8BFF81438>)\n",
      "running main()\n",
      "registry -> [<function f1 at 0x000001C8BFF81168>, <function f2 at 0x000001C8BFF81438>]\n",
      "running f1()\n",
      "running f2()\n",
      "running f3()\n"
     ]
    }
   ],
   "source": [
    "# 예제 7-2 registration.py 모듈\n",
    "registry = []    # registry 배열은 @register로 데커레이트된 함수들에 대한 참조를 담는다.\n",
    "\n",
    "def register(func):\n",
    "    print(f'running register({func})')\n",
    "    registry.append(func)\n",
    "    return func\n",
    "\n",
    "@register\n",
    "def f1():\n",
    "    print('running f1()')\n",
    "    \n",
    "@register\n",
    "def f2():\n",
    "    print('running f2()')\n",
    "    \n",
    "def f3():\n",
    "    print('running f3()')\n",
    "    \n",
    "def main():\n",
    "    print('running main()')\n",
    "    print('registry ->', registry)\n",
    "    f1()\n",
    "    f2()\n",
    "    f3()\n",
    "    \n",
    "if __name__=='__main__':\n",
    "    main()"
   ]
  },
  {
   "cell_type": "markdown",
   "metadata": {},
   "source": [
    "`register()`는 `f1()`, `f2()`를 정의할 때 먼저 실행이 되고, 데커레이트된 함수를 인수로 받는다. (모듈이 로딩되는 시점)"
   ]
  },
  {
   "cell_type": "code",
   "execution_count": 7,
   "metadata": {
    "ExecuteTime": {
     "end_time": "2020-03-22T07:45:04.463501Z",
     "start_time": "2020-03-22T07:45:04.450534Z"
    }
   },
   "outputs": [
    {
     "name": "stdout",
     "output_type": "stream",
     "text": [
      "running register(<function f1 at 0x000001C8BFF81AF8>)\n",
      "running register(<function f2 at 0x000001C8BFF841F8>)\n"
     ]
    }
   ],
   "source": [
    "import registration"
   ]
  },
  {
   "cell_type": "code",
   "execution_count": 8,
   "metadata": {
    "ExecuteTime": {
     "end_time": "2020-03-22T07:45:04.471479Z",
     "start_time": "2020-03-22T07:45:04.465495Z"
    }
   },
   "outputs": [
    {
     "data": {
      "text/plain": [
       "[<function registration.f1()>, <function registration.f2()>]"
      ]
     },
     "execution_count": 8,
     "metadata": {},
     "output_type": "execute_result"
    }
   ],
   "source": [
    "registration.registry"
   ]
  },
  {
   "cell_type": "markdown",
   "metadata": {},
   "source": [
    "함수 데커레이터는 모듈이 임포트되자마자 실행이 되지만, 데커레이트된 함수는 명시적으로 호출될 때만 실행됨을 알 수 있다.  \n",
    "파이썬 개발자가 **임포트 타임(import time)** 이라고 부르는 것과 **런타임(runtime)** 이라고 부르는 것의 차이를 보여준다."
   ]
  },
  {
   "cell_type": "markdown",
   "metadata": {},
   "source": [
    "[예제 7-2]와 실제 코드에 흔히 사용되는 방식과의 차이점\n",
    "* 데커레이터 함수가 데커레이트되는 함수와 같은 모듈에 정의되어 있다. 일반적으로 실제 코드에서는 데커레이트 정의 모듈 / 데커레이터 적용 모듈을 분리해서 구현.\n",
    "* `register()` 데커레이터가 인수로 전달된 함수와 동일한 함수를 반환. 실제 코드에서는 대부분의 데커레이터는 내부 함수를 정의해서 반환.\n",
    "  \n",
    "*데커레이터가 인수 함수를 반환하는 것이 꼭 쓸모없는 것은 아니다!*  \n",
    "URL 패턴을 HTTP 응답 생성 함수에 매핑하는 레지스트리 등 함수를 어떤 중앙의 레지스트리에 추가하기 위해 Django 등에서 데커레이트를 사용하기도 한다."
   ]
  },
  {
   "cell_type": "markdown",
   "metadata": {},
   "source": [
    "## 7.3 데커레이터로 개선한 전략 패턴\n",
    "6장에서 나왔던 프로모션 할인 코드를 개선해보자.  \n",
    "아래 [예제 6-6]에서 `best_promo`는 `promos` 리스트에 함수명을 반복해서 사용하는데 만약, 새로운 프로모션 전략 함수를 `promos`에 깜빡하고 추가안했다면, 버그가 생길 수 있다."
   ]
  },
  {
   "cell_type": "code",
   "execution_count": 9,
   "metadata": {
    "ExecuteTime": {
     "end_time": "2020-03-22T07:45:04.543287Z",
     "start_time": "2020-03-22T07:45:04.473474Z"
    }
   },
   "outputs": [
    {
     "ename": "NameError",
     "evalue": "name 'fidelity_promo' is not defined",
     "output_type": "error",
     "traceback": [
      "\u001b[1;31m---------------------------------------------------------------------------\u001b[0m",
      "\u001b[1;31mNameError\u001b[0m                                 Traceback (most recent call last)",
      "\u001b[1;32m<ipython-input-9-f5895f9d1022>\u001b[0m in \u001b[0;36m<module>\u001b[1;34m\u001b[0m\n\u001b[0;32m      1\u001b[0m \u001b[1;31m# 예제 6-6 함수 리스트를 반복해서 최대 할인액을 찾아내는 best_promo() 함수\u001b[0m\u001b[1;33m\u001b[0m\u001b[1;33m\u001b[0m\u001b[1;33m\u001b[0m\u001b[0m\n\u001b[1;32m----> 2\u001b[1;33m \u001b[0mpromos\u001b[0m \u001b[1;33m=\u001b[0m \u001b[1;33m[\u001b[0m\u001b[0mfidelity_promo\u001b[0m\u001b[1;33m,\u001b[0m \u001b[0mbulk_item_promo\u001b[0m\u001b[1;33m,\u001b[0m \u001b[0mlarge_order_promo\u001b[0m\u001b[1;33m]\u001b[0m\u001b[1;33m\u001b[0m\u001b[1;33m\u001b[0m\u001b[0m\n\u001b[0m\u001b[0;32m      3\u001b[0m \u001b[1;33m\u001b[0m\u001b[0m\n\u001b[0;32m      4\u001b[0m \u001b[1;32mdef\u001b[0m \u001b[0mbest_promo\u001b[0m\u001b[1;33m(\u001b[0m\u001b[0morder\u001b[0m\u001b[1;33m)\u001b[0m\u001b[1;33m:\u001b[0m\u001b[1;33m\u001b[0m\u001b[1;33m\u001b[0m\u001b[0m\n\u001b[0;32m      5\u001b[0m     \u001b[1;34m\"\"\"최대로 할인받을 금액을 반환한다.\"\"\"\u001b[0m\u001b[1;33m\u001b[0m\u001b[1;33m\u001b[0m\u001b[0m\n",
      "\u001b[1;31mNameError\u001b[0m: name 'fidelity_promo' is not defined"
     ]
    }
   ],
   "source": [
    "# 예제 6-6 함수 리스트를 반복해서 최대 할인액을 찾아내는 best_promo() 함수\n",
    "promos = [fidelity_promo, bulk_item_promo, large_order_promo]\n",
    "\n",
    "def best_promo(order):\n",
    "    \"\"\"최대로 할인받을 금액을 반환한다.\"\"\"\n",
    "    return max(promo(order) for promo in promos)"
   ]
  },
  {
   "cell_type": "code",
   "execution_count": 10,
   "metadata": {
    "ExecuteTime": {
     "end_time": "2020-03-22T07:45:12.647688Z",
     "start_time": "2020-03-22T07:45:12.639651Z"
    }
   },
   "outputs": [],
   "source": [
    "# 예제 7-3 promotion 데커레이터로 채운 promos 리스트\n",
    "promos = []\n",
    "\n",
    "def promotion(promo_func):\n",
    "    promos.append(promo_func)\n",
    "    return promo_func\n",
    "\n",
    "@promotion\n",
    "def fidelity(order):\n",
    "    \"\"\"충성도 포인트가 1000점 이상인 고객에게 전체 5% 할인 적용\"\"\"\n",
    "    return order.total() * .05 if order.customer.fidelity >= 1000 else 0\n",
    "\n",
    "@promotion\n",
    "def bulk_item(order):\n",
    "    \"\"\"20개 이상의 동일 상품을 구입하면 10% 할인 적용\"\"\"\n",
    "    discount = 0\n",
    "    for item in order.cart:\n",
    "        if item.quantity >= 20:\n",
    "            discount += item.total() * .1\n",
    "    return discount\n",
    "\n",
    "@promotion\n",
    "def large_order(order):\n",
    "    \"\"\"10종류 이상의 상품을 구입하면 전체 7% 할인 적용\"\"\"\n",
    "    distinct_items = {item.product for item in order.cart}\n",
    "    if len(distinct_items) >= 10:\n",
    "        return order.total() * .07\n",
    "    return 0\n",
    "\n",
    "def best_promo(order):\n",
    "    \"\"\"최대로 할인받을 금액을 반환한다.\"\"\"\n",
    "    return max(promo(order) for promo in promos)"
   ]
  },
  {
   "cell_type": "markdown",
   "metadata": {},
   "source": [
    "대부분의 데커레이터는 데커레이트된 함수를 변경한다. 즉, 내부 함수를 정의하고 그것을 반환하여 데커레이트된 함수를 대체한다. 내부 함수를 사용하는 코드는 제대로 작동하기 위해 거의 항상 클로저에 의존한다. 다음 장에선, 클로저를 이해하기 위해 먼저 파이썬에서 변수 범위의 작동 방식에 대해 살펴본다."
   ]
  },
  {
   "cell_type": "markdown",
   "metadata": {},
   "source": [
    "## 7.4 변수 범위 규칙"
   ]
  },
  {
   "cell_type": "code",
   "execution_count": 11,
   "metadata": {
    "ExecuteTime": {
     "end_time": "2020-03-22T07:45:13.111385Z",
     "start_time": "2020-03-22T07:45:13.107396Z"
    }
   },
   "outputs": [],
   "source": [
    "# 예제 7-4 지역 및 전역 변수를 읽는 함수\n",
    "def f1(a):\n",
    "    print(a)\n",
    "    print(b)"
   ]
  },
  {
   "cell_type": "code",
   "execution_count": 12,
   "metadata": {
    "ExecuteTime": {
     "end_time": "2020-03-22T07:45:13.285918Z",
     "start_time": "2020-03-22T07:45:13.265971Z"
    }
   },
   "outputs": [
    {
     "name": "stdout",
     "output_type": "stream",
     "text": [
      "3\n"
     ]
    },
    {
     "ename": "NameError",
     "evalue": "name 'b' is not defined",
     "output_type": "error",
     "traceback": [
      "\u001b[1;31m---------------------------------------------------------------------------\u001b[0m",
      "\u001b[1;31mNameError\u001b[0m                                 Traceback (most recent call last)",
      "\u001b[1;32m<ipython-input-12-db0f80b394ed>\u001b[0m in \u001b[0;36m<module>\u001b[1;34m\u001b[0m\n\u001b[1;32m----> 1\u001b[1;33m \u001b[0mf1\u001b[0m\u001b[1;33m(\u001b[0m\u001b[1;36m3\u001b[0m\u001b[1;33m)\u001b[0m\u001b[1;33m\u001b[0m\u001b[1;33m\u001b[0m\u001b[0m\n\u001b[0m",
      "\u001b[1;32m<ipython-input-11-b55d941e31dd>\u001b[0m in \u001b[0;36mf1\u001b[1;34m(a)\u001b[0m\n\u001b[0;32m      2\u001b[0m \u001b[1;32mdef\u001b[0m \u001b[0mf1\u001b[0m\u001b[1;33m(\u001b[0m\u001b[0ma\u001b[0m\u001b[1;33m)\u001b[0m\u001b[1;33m:\u001b[0m\u001b[1;33m\u001b[0m\u001b[1;33m\u001b[0m\u001b[0m\n\u001b[0;32m      3\u001b[0m     \u001b[0mprint\u001b[0m\u001b[1;33m(\u001b[0m\u001b[0ma\u001b[0m\u001b[1;33m)\u001b[0m\u001b[1;33m\u001b[0m\u001b[1;33m\u001b[0m\u001b[0m\n\u001b[1;32m----> 4\u001b[1;33m     \u001b[0mprint\u001b[0m\u001b[1;33m(\u001b[0m\u001b[0mb\u001b[0m\u001b[1;33m)\u001b[0m\u001b[1;33m\u001b[0m\u001b[1;33m\u001b[0m\u001b[0m\n\u001b[0m",
      "\u001b[1;31mNameError\u001b[0m: name 'b' is not defined"
     ]
    }
   ],
   "source": [
    "f1(3)"
   ]
  },
  {
   "cell_type": "markdown",
   "metadata": {},
   "source": [
    "전역 변수 `b`에 값을 할당하고 `f1()`을 호출하면 제대로 작동한다."
   ]
  },
  {
   "cell_type": "code",
   "execution_count": 13,
   "metadata": {
    "ExecuteTime": {
     "end_time": "2020-03-22T07:45:13.552206Z",
     "start_time": "2020-03-22T07:45:13.547220Z"
    }
   },
   "outputs": [
    {
     "name": "stdout",
     "output_type": "stream",
     "text": [
      "3\n",
      "6\n"
     ]
    }
   ],
   "source": [
    "b = 6\n",
    "f1(3)"
   ]
  },
  {
   "cell_type": "code",
   "execution_count": 14,
   "metadata": {
    "ExecuteTime": {
     "end_time": "2020-03-22T07:45:13.698814Z",
     "start_time": "2020-03-22T07:45:13.693827Z"
    }
   },
   "outputs": [],
   "source": [
    "# 예제 7-5 함수 본체 안에서 값을 할당하기 때문에 지역 변수가 되는 b\n",
    "b = 6\n",
    "def f2(a):\n",
    "    print(a)\n",
    "    print(b)\n",
    "    b = 9"
   ]
  },
  {
   "cell_type": "code",
   "execution_count": 15,
   "metadata": {
    "ExecuteTime": {
     "end_time": "2020-03-22T07:45:13.848413Z",
     "start_time": "2020-03-22T07:45:13.837443Z"
    }
   },
   "outputs": [
    {
     "name": "stdout",
     "output_type": "stream",
     "text": [
      "3\n"
     ]
    },
    {
     "ename": "UnboundLocalError",
     "evalue": "local variable 'b' referenced before assignment",
     "output_type": "error",
     "traceback": [
      "\u001b[1;31m---------------------------------------------------------------------------\u001b[0m",
      "\u001b[1;31mUnboundLocalError\u001b[0m                         Traceback (most recent call last)",
      "\u001b[1;32m<ipython-input-15-ddde86392cb4>\u001b[0m in \u001b[0;36m<module>\u001b[1;34m\u001b[0m\n\u001b[1;32m----> 1\u001b[1;33m \u001b[0mf2\u001b[0m\u001b[1;33m(\u001b[0m\u001b[1;36m3\u001b[0m\u001b[1;33m)\u001b[0m\u001b[1;33m\u001b[0m\u001b[1;33m\u001b[0m\u001b[0m\n\u001b[0m",
      "\u001b[1;32m<ipython-input-14-3caf48561315>\u001b[0m in \u001b[0;36mf2\u001b[1;34m(a)\u001b[0m\n\u001b[0;32m      3\u001b[0m \u001b[1;32mdef\u001b[0m \u001b[0mf2\u001b[0m\u001b[1;33m(\u001b[0m\u001b[0ma\u001b[0m\u001b[1;33m)\u001b[0m\u001b[1;33m:\u001b[0m\u001b[1;33m\u001b[0m\u001b[1;33m\u001b[0m\u001b[0m\n\u001b[0;32m      4\u001b[0m     \u001b[0mprint\u001b[0m\u001b[1;33m(\u001b[0m\u001b[0ma\u001b[0m\u001b[1;33m)\u001b[0m\u001b[1;33m\u001b[0m\u001b[1;33m\u001b[0m\u001b[0m\n\u001b[1;32m----> 5\u001b[1;33m     \u001b[0mprint\u001b[0m\u001b[1;33m(\u001b[0m\u001b[0mb\u001b[0m\u001b[1;33m)\u001b[0m\u001b[1;33m\u001b[0m\u001b[1;33m\u001b[0m\u001b[0m\n\u001b[0m\u001b[0;32m      6\u001b[0m     \u001b[0mb\u001b[0m \u001b[1;33m=\u001b[0m \u001b[1;36m9\u001b[0m\u001b[1;33m\u001b[0m\u001b[1;33m\u001b[0m\u001b[0m\n",
      "\u001b[1;31mUnboundLocalError\u001b[0m: local variable 'b' referenced before assignment"
     ]
    }
   ],
   "source": [
    "f2(3)"
   ]
  },
  {
   "cell_type": "markdown",
   "metadata": {},
   "source": [
    "글쓴이가 놀란 이유 : 전역 변수 `b`가 있고 `print(b)` 다음에 지역 변수 `b`에 할당하는 문이 나오므로 전역 변수의 값인 6이 출력될 것이라고 생각했기 때문.  \n",
    "\n",
    "사실은 파이썬이 함수 본체를 컴파일할 때 `b`가 함수 안에서 할당되므로 `b`를 지역 변수로 판단한다.  \n",
    "`global` 키워드를 이용해서 문제를 해결하자."
   ]
  },
  {
   "cell_type": "code",
   "execution_count": 16,
   "metadata": {
    "ExecuteTime": {
     "end_time": "2020-03-22T07:45:14.135645Z",
     "start_time": "2020-03-22T07:45:14.131656Z"
    }
   },
   "outputs": [],
   "source": [
    "b = 6\n",
    "def f3(a):\n",
    "    global b\n",
    "    print(a)\n",
    "    print(b)\n",
    "    b = 9"
   ]
  },
  {
   "cell_type": "code",
   "execution_count": 17,
   "metadata": {
    "ExecuteTime": {
     "end_time": "2020-03-22T07:45:14.303196Z",
     "start_time": "2020-03-22T07:45:14.298211Z"
    }
   },
   "outputs": [
    {
     "name": "stdout",
     "output_type": "stream",
     "text": [
      "3\n",
      "6\n"
     ]
    }
   ],
   "source": [
    "f3(3)"
   ]
  },
  {
   "cell_type": "code",
   "execution_count": 18,
   "metadata": {
    "ExecuteTime": {
     "end_time": "2020-03-22T07:45:14.443822Z",
     "start_time": "2020-03-22T07:45:14.438892Z"
    }
   },
   "outputs": [
    {
     "data": {
      "text/plain": [
       "9"
      ]
     },
     "execution_count": 18,
     "metadata": {},
     "output_type": "execute_result"
    }
   ],
   "source": [
    "b"
   ]
  },
  {
   "cell_type": "code",
   "execution_count": 19,
   "metadata": {
    "ExecuteTime": {
     "end_time": "2020-03-22T07:45:14.600403Z",
     "start_time": "2020-03-22T07:45:14.595417Z"
    }
   },
   "outputs": [
    {
     "data": {
      "text/plain": [
       "30"
      ]
     },
     "execution_count": 19,
     "metadata": {},
     "output_type": "execute_result"
    }
   ],
   "source": [
    "b = 30\n",
    "b"
   ]
  },
  {
   "cell_type": "markdown",
   "metadata": {},
   "source": [
    "`f1()`와 `f2()`의 바이트코드를 비교해보자."
   ]
  },
  {
   "cell_type": "code",
   "execution_count": 20,
   "metadata": {
    "ExecuteTime": {
     "end_time": "2020-03-22T07:45:14.872674Z",
     "start_time": "2020-03-22T07:45:14.866690Z"
    }
   },
   "outputs": [
    {
     "name": "stdout",
     "output_type": "stream",
     "text": [
      "  3           0 LOAD_GLOBAL              0 (print)\n",
      "              2 LOAD_FAST                0 (a)\n",
      "              4 CALL_FUNCTION            1\n",
      "              6 POP_TOP\n",
      "\n",
      "  4           8 LOAD_GLOBAL              0 (print)\n",
      "             10 LOAD_GLOBAL              1 (b)\n",
      "             12 CALL_FUNCTION            1\n",
      "             14 POP_TOP\n",
      "             16 LOAD_CONST               0 (None)\n",
      "             18 RETURN_VALUE\n"
     ]
    }
   ],
   "source": [
    "from dis import dis\n",
    "dis(f1)"
   ]
  },
  {
   "cell_type": "code",
   "execution_count": 21,
   "metadata": {
    "ExecuteTime": {
     "end_time": "2020-03-22T07:45:15.043219Z",
     "start_time": "2020-03-22T07:45:15.037235Z"
    }
   },
   "outputs": [
    {
     "name": "stdout",
     "output_type": "stream",
     "text": [
      "  4           0 LOAD_GLOBAL              0 (print)\n",
      "              2 LOAD_FAST                0 (a)\n",
      "              4 CALL_FUNCTION            1\n",
      "              6 POP_TOP\n",
      "\n",
      "  5           8 LOAD_GLOBAL              0 (print)\n",
      "             10 LOAD_FAST                1 (b)\n",
      "             12 CALL_FUNCTION            1\n",
      "             14 POP_TOP\n",
      "\n",
      "  6          16 LOAD_CONST               1 (9)\n",
      "             18 STORE_FAST               1 (b)\n",
      "             20 LOAD_CONST               0 (None)\n",
      "             22 RETURN_VALUE\n"
     ]
    }
   ],
   "source": [
    "dis(f2)"
   ]
  },
  {
   "cell_type": "markdown",
   "metadata": {},
   "source": [
    "`f1()` 바이트 코드의 10번째 줄과 `f2()` 바이트 코드의 10번째 줄을 비교해보면, `f1()`은 `b`를 전역 변수로 간주하고, `f2()`는 지역 변수로 간주함을 알 수 있다."
   ]
  },
  {
   "cell_type": "markdown",
   "metadata": {},
   "source": [
    "## 7.5 클로저\n",
    "클로저는 함수 본체에서 정의하지 않고 참조하는 비전역(nonglobal) 변수를 포함한 확장 범위를 가진 함수다.   \n",
    "-> 어떤 함수를 함수 자신이 가지고 있는 환경과 함께 저장한 레코드.   \n",
    "함수가 익명 함수인지 여부는 중요하지 않고 함수 본체 외부에 정의된 비전역 변수에 접근할 수 있다는 것이 중요하다."
   ]
  },
  {
   "cell_type": "code",
   "execution_count": 22,
   "metadata": {
    "ExecuteTime": {
     "end_time": "2020-03-22T07:45:15.472072Z",
     "start_time": "2020-03-22T07:45:15.467086Z"
    }
   },
   "outputs": [],
   "source": [
    "# 예제 7-8 average_oo.py : 이동 평균을 계산하는 클래스\n",
    "class Averager():\n",
    "    \n",
    "    def __init__(self):\n",
    "        self.series = []\n",
    "        \n",
    "    def __call__(self, new_value):\n",
    "        self.series.append(new_value)\n",
    "        total = sum(self.series)\n",
    "        return total / len(self.series)"
   ]
  },
  {
   "cell_type": "code",
   "execution_count": 23,
   "metadata": {
    "ExecuteTime": {
     "end_time": "2020-03-22T07:45:15.637630Z",
     "start_time": "2020-03-22T07:45:15.633639Z"
    }
   },
   "outputs": [],
   "source": [
    "avg = Averager()"
   ]
  },
  {
   "cell_type": "code",
   "execution_count": 24,
   "metadata": {
    "ExecuteTime": {
     "end_time": "2020-03-22T07:45:15.770274Z",
     "start_time": "2020-03-22T07:45:15.765288Z"
    }
   },
   "outputs": [
    {
     "data": {
      "text/plain": [
       "10.0"
      ]
     },
     "execution_count": 24,
     "metadata": {},
     "output_type": "execute_result"
    }
   ],
   "source": [
    "avg(10)"
   ]
  },
  {
   "cell_type": "code",
   "execution_count": 25,
   "metadata": {
    "ExecuteTime": {
     "end_time": "2020-03-22T07:45:15.956776Z",
     "start_time": "2020-03-22T07:45:15.951789Z"
    }
   },
   "outputs": [
    {
     "data": {
      "text/plain": [
       "10.5"
      ]
     },
     "execution_count": 25,
     "metadata": {},
     "output_type": "execute_result"
    }
   ],
   "source": [
    "avg(11)"
   ]
  },
  {
   "cell_type": "code",
   "execution_count": 26,
   "metadata": {
    "ExecuteTime": {
     "end_time": "2020-03-22T07:45:16.120337Z",
     "start_time": "2020-03-22T07:45:16.115352Z"
    }
   },
   "outputs": [
    {
     "data": {
      "text/plain": [
       "11.0"
      ]
     },
     "execution_count": 26,
     "metadata": {},
     "output_type": "execute_result"
    }
   ],
   "source": [
    "avg(12)"
   ]
  },
  {
   "cell_type": "code",
   "execution_count": 27,
   "metadata": {
    "ExecuteTime": {
     "end_time": "2020-03-22T07:45:16.278914Z",
     "start_time": "2020-03-22T07:45:16.272931Z"
    }
   },
   "outputs": [
    {
     "data": {
      "text/plain": [
       "[10, 11, 12]"
      ]
     },
     "execution_count": 27,
     "metadata": {},
     "output_type": "execute_result"
    }
   ],
   "source": [
    "avg.series"
   ]
  },
  {
   "cell_type": "code",
   "execution_count": 28,
   "metadata": {
    "ExecuteTime": {
     "end_time": "2020-03-22T07:45:16.438487Z",
     "start_time": "2020-03-22T07:45:16.434498Z"
    }
   },
   "outputs": [],
   "source": [
    "# 예제 7-9 average.py : 이동 평균을 계산하는 고위 함수\n",
    "def make_averager():\n",
    "    series = []\n",
    "    \n",
    "    def averager(new_value):\n",
    "        series.append(new_value)\n",
    "        total = sum(series)\n",
    "        return total / len(series)\n",
    "    \n",
    "    return averager"
   ]
  },
  {
   "cell_type": "markdown",
   "metadata": {},
   "source": [
    "호출되면 `make_averager()`는 `average()` 함수 객체를 반환한다. `average()` 함수는 호출될 때마다 받은 인수를 `series` 리스트에 추가하고 [예제 7-10]과 같이 현재까지의 평균을 계산해서 출력한다."
   ]
  },
  {
   "cell_type": "code",
   "execution_count": 29,
   "metadata": {
    "ExecuteTime": {
     "end_time": "2020-03-22T07:45:16.760628Z",
     "start_time": "2020-03-22T07:45:16.755641Z"
    }
   },
   "outputs": [],
   "source": [
    "# 예제 7-10 [예제 7-9] 테스트\n",
    "avg = make_averager()"
   ]
  },
  {
   "cell_type": "code",
   "execution_count": 30,
   "metadata": {
    "ExecuteTime": {
     "end_time": "2020-03-22T07:45:16.904240Z",
     "start_time": "2020-03-22T07:45:16.899255Z"
    }
   },
   "outputs": [
    {
     "data": {
      "text/plain": [
       "10.0"
      ]
     },
     "execution_count": 30,
     "metadata": {},
     "output_type": "execute_result"
    }
   ],
   "source": [
    "avg(10)"
   ]
  },
  {
   "cell_type": "code",
   "execution_count": 31,
   "metadata": {
    "ExecuteTime": {
     "end_time": "2020-03-22T07:45:17.075783Z",
     "start_time": "2020-03-22T07:45:17.070797Z"
    }
   },
   "outputs": [
    {
     "data": {
      "text/plain": [
       "10.5"
      ]
     },
     "execution_count": 31,
     "metadata": {},
     "output_type": "execute_result"
    }
   ],
   "source": [
    "avg(11)"
   ]
  },
  {
   "cell_type": "code",
   "execution_count": 32,
   "metadata": {
    "ExecuteTime": {
     "end_time": "2020-03-22T07:45:17.274253Z",
     "start_time": "2020-03-22T07:45:17.268270Z"
    }
   },
   "outputs": [
    {
     "data": {
      "text/plain": [
       "11.0"
      ]
     },
     "execution_count": 32,
     "metadata": {},
     "output_type": "execute_result"
    }
   ],
   "source": [
    "avg(12)"
   ]
  },
  {
   "cell_type": "markdown",
   "metadata": {},
   "source": [
    "`make_average()` 함수 본체 안에서 `series = []`로 초기화하고 있기 때문에 `series`는 이 함수의 지역 변수다.  \n",
    "그렇지만 `avg(10)`을 호출할 때, `make_average()` 함수는 이미 반환했으므로 지역 범위도 이미 사라진 후다.   \n",
    "\n",
    "`average` 안에 들어 있는 `series`는 자유 변수(free variable)다.  \n",
    "자유 변수(free variable) : 코드블럭 안에서 사용은 되었지만, 그 코드블럭 안에서 정의되지 않은 변수."
   ]
  },
  {
   "cell_type": "markdown",
   "metadata": {},
   "source": [
    "![7-2.png](./7-2.png)"
   ]
  },
  {
   "cell_type": "code",
   "execution_count": 33,
   "metadata": {
    "ExecuteTime": {
     "end_time": "2020-03-22T07:45:18.000311Z",
     "start_time": "2020-03-22T07:45:17.995324Z"
    }
   },
   "outputs": [
    {
     "data": {
      "text/plain": [
       "('new_value', 'total')"
      ]
     },
     "execution_count": 33,
     "metadata": {},
     "output_type": "execute_result"
    }
   ],
   "source": [
    "# 예제 7-11 [예제 7-9]의 make_averager()로 생성한 함수 조사하기\n",
    "avg.__code__.co_varnames"
   ]
  },
  {
   "cell_type": "code",
   "execution_count": 34,
   "metadata": {
    "ExecuteTime": {
     "end_time": "2020-03-22T07:45:18.163873Z",
     "start_time": "2020-03-22T07:45:18.158886Z"
    }
   },
   "outputs": [
    {
     "data": {
      "text/plain": [
       "('series',)"
      ]
     },
     "execution_count": 34,
     "metadata": {},
     "output_type": "execute_result"
    }
   ],
   "source": [
    "avg.__code__.co_freevars"
   ]
  },
  {
   "cell_type": "code",
   "execution_count": 35,
   "metadata": {
    "ExecuteTime": {
     "end_time": "2020-03-22T07:45:18.333420Z",
     "start_time": "2020-03-22T07:45:18.328433Z"
    }
   },
   "outputs": [
    {
     "data": {
      "text/plain": [
       "(<cell at 0x000001C8BFF69708: list object at 0x000001C8C131FA48>,)"
      ]
     },
     "execution_count": 35,
     "metadata": {},
     "output_type": "execute_result"
    }
   ],
   "source": [
    "avg.__closure__"
   ]
  },
  {
   "cell_type": "code",
   "execution_count": 36,
   "metadata": {
    "ExecuteTime": {
     "end_time": "2020-03-22T07:45:18.490001Z",
     "start_time": "2020-03-22T07:45:18.485014Z"
    }
   },
   "outputs": [
    {
     "data": {
      "text/plain": [
       "[10, 11, 12]"
      ]
     },
     "execution_count": 36,
     "metadata": {},
     "output_type": "execute_result"
    }
   ],
   "source": [
    "avg.__closure__[0].cell_contents"
   ]
  },
  {
   "cell_type": "markdown",
   "metadata": {},
   "source": [
    "클로저는 함수를 정의할 때 존재하던 자유 변수에 대한 바인딩을 유지하는 함수다.  \n",
    "따라서 함수를 정의하는 범위가 사라진 후에 함수를 호출해도 자유 변수에 접근할 수 있다.  \n",
    "함수가 '비전역' 외부 변수를 다루는 경우는 그 함수가 다른 함수 안에 정의된 경우뿐이라는 점에 주의하자. "
   ]
  },
  {
   "cell_type": "markdown",
   "metadata": {},
   "source": [
    "## 7.6 nonlocal 선언\n",
    "앞에서 구현한 `make_averager()`는 효율적이지 않다. 왜냐하면 `average()`가 호출될 때마다 `sum`을 다시 계산했기 때문.  \n",
    "합계와 항목 수를 저장한 후 이 두 개의 숫자를 이용해서 평균을 구하면 훨씬 더 효율적으로 구현할 수 있다."
   ]
  },
  {
   "cell_type": "code",
   "execution_count": 37,
   "metadata": {
    "ExecuteTime": {
     "end_time": "2020-03-22T07:45:18.960741Z",
     "start_time": "2020-03-22T07:45:18.955755Z"
    }
   },
   "outputs": [],
   "source": [
    "# 예제 7-13 전체 이력을 유지하지 않고 이동 평균을 계산하는 잘못된 고위 함수\n",
    "def make_averager():\n",
    "    count = 0\n",
    "    total = 0\n",
    "    \n",
    "    def averager(new_value):\n",
    "        count += 1\n",
    "        total += new_value\n",
    "        return total / count\n",
    "    \n",
    "    return averager"
   ]
  },
  {
   "cell_type": "code",
   "execution_count": 38,
   "metadata": {
    "ExecuteTime": {
     "end_time": "2020-03-22T07:45:19.131286Z",
     "start_time": "2020-03-22T07:45:19.127296Z"
    }
   },
   "outputs": [],
   "source": [
    "avg = make_averager()"
   ]
  },
  {
   "cell_type": "code",
   "execution_count": 39,
   "metadata": {
    "ExecuteTime": {
     "end_time": "2020-03-22T07:45:19.332748Z",
     "start_time": "2020-03-22T07:45:19.321777Z"
    }
   },
   "outputs": [
    {
     "ename": "UnboundLocalError",
     "evalue": "local variable 'count' referenced before assignment",
     "output_type": "error",
     "traceback": [
      "\u001b[1;31m---------------------------------------------------------------------------\u001b[0m",
      "\u001b[1;31mUnboundLocalError\u001b[0m                         Traceback (most recent call last)",
      "\u001b[1;32m<ipython-input-39-ace390caaa2e>\u001b[0m in \u001b[0;36m<module>\u001b[1;34m\u001b[0m\n\u001b[1;32m----> 1\u001b[1;33m \u001b[0mavg\u001b[0m\u001b[1;33m(\u001b[0m\u001b[1;36m10\u001b[0m\u001b[1;33m)\u001b[0m\u001b[1;33m\u001b[0m\u001b[1;33m\u001b[0m\u001b[0m\n\u001b[0m",
      "\u001b[1;32m<ipython-input-37-e0070e13759c>\u001b[0m in \u001b[0;36maverager\u001b[1;34m(new_value)\u001b[0m\n\u001b[0;32m      5\u001b[0m \u001b[1;33m\u001b[0m\u001b[0m\n\u001b[0;32m      6\u001b[0m     \u001b[1;32mdef\u001b[0m \u001b[0maverager\u001b[0m\u001b[1;33m(\u001b[0m\u001b[0mnew_value\u001b[0m\u001b[1;33m)\u001b[0m\u001b[1;33m:\u001b[0m\u001b[1;33m\u001b[0m\u001b[1;33m\u001b[0m\u001b[0m\n\u001b[1;32m----> 7\u001b[1;33m         \u001b[0mcount\u001b[0m \u001b[1;33m+=\u001b[0m \u001b[1;36m1\u001b[0m\u001b[1;33m\u001b[0m\u001b[1;33m\u001b[0m\u001b[0m\n\u001b[0m\u001b[0;32m      8\u001b[0m         \u001b[0mtotal\u001b[0m \u001b[1;33m+=\u001b[0m \u001b[0mnew_value\u001b[0m\u001b[1;33m\u001b[0m\u001b[1;33m\u001b[0m\u001b[0m\n\u001b[0;32m      9\u001b[0m         \u001b[1;32mreturn\u001b[0m \u001b[0mtotal\u001b[0m \u001b[1;33m/\u001b[0m \u001b[0mcount\u001b[0m\u001b[1;33m\u001b[0m\u001b[1;33m\u001b[0m\u001b[0m\n",
      "\u001b[1;31mUnboundLocalError\u001b[0m: local variable 'count' referenced before assignment"
     ]
    }
   ],
   "source": [
    "avg(10)"
   ]
  },
  {
   "cell_type": "markdown",
   "metadata": {},
   "source": [
    "`count`에 `count + 1`이라는 할당을 하는 과정에서, `count`를 지역 변수로 만들기 때문에 문제가 생긴다. `count`가 더 이상 자유 변수가 아니므로 클로저에 저장되지 않는다. `total`도 마찬가지. "
   ]
  },
  {
   "cell_type": "markdown",
   "metadata": {},
   "source": [
    "이 문제는 `nonlocal` 선언으로 해결할 수 있다. 변수를 `nonlocal`로 선언하면 함수 안에서 변수에 새로운 값을 할당하더라도 그 변수는 자유 변수 임을 나타내준다.  \n",
    "\n",
    "`nonlocal`은 사용된 함수 바로 한 단계 바깥 쪽에 위치한 변수와 바인딩한다는 점에서 `global`과 차이가 있다."
   ]
  },
  {
   "cell_type": "code",
   "execution_count": 40,
   "metadata": {
    "ExecuteTime": {
     "end_time": "2020-03-22T07:45:19.783543Z",
     "start_time": "2020-03-22T07:45:19.779551Z"
    }
   },
   "outputs": [],
   "source": [
    "# 예제 7-14 전체 이력을 유지하지 않고 이동 평균 계산하기(nonlocal로 수정)\n",
    "def make_averager():\n",
    "    count = 0\n",
    "    total = 0\n",
    "    \n",
    "    def averager(new_value):\n",
    "        nonlocal count, total\n",
    "        count += 1\n",
    "        total += new_value\n",
    "        return total / count\n",
    "    \n",
    "    return averager"
   ]
  },
  {
   "cell_type": "code",
   "execution_count": 41,
   "metadata": {
    "ExecuteTime": {
     "end_time": "2020-03-22T07:45:19.947103Z",
     "start_time": "2020-03-22T07:45:19.943115Z"
    }
   },
   "outputs": [],
   "source": [
    "avg = make_averager()"
   ]
  },
  {
   "cell_type": "code",
   "execution_count": 42,
   "metadata": {
    "ExecuteTime": {
     "end_time": "2020-03-22T07:45:20.129617Z",
     "start_time": "2020-03-22T07:45:20.124628Z"
    }
   },
   "outputs": [
    {
     "data": {
      "text/plain": [
       "10.0"
      ]
     },
     "execution_count": 42,
     "metadata": {},
     "output_type": "execute_result"
    }
   ],
   "source": [
    "avg(10)"
   ]
  },
  {
   "cell_type": "markdown",
   "metadata": {},
   "source": [
    "## 7.7 간단한 데커레이터 구현하기"
   ]
  },
  {
   "cell_type": "code",
   "execution_count": 43,
   "metadata": {
    "ExecuteTime": {
     "end_time": "2020-03-22T07:45:20.697099Z",
     "start_time": "2020-03-22T07:45:20.691115Z"
    }
   },
   "outputs": [],
   "source": [
    "# 예제 7-15 함수의 실행 시간을 출력하는 간단한 데커레이터\n",
    "# clockdeco.py\n",
    "import time\n",
    "\n",
    "def clock(func):\n",
    "    def clocked(*args):\n",
    "        t0 = time.perf_counter() # 전체적인 시간을 모두 측정\n",
    "        result = func(*args)\n",
    "        elapsed = time.perf_counter() - t0\n",
    "        name = func.__name__\n",
    "        arg_str = ', '.join(repr(arg) for arg in args)\n",
    "        print(f'[{elapsed:.8f}s] {name}({arg_str}) -> {result}')\n",
    "        return result\n",
    "    return clocked"
   ]
  },
  {
   "cell_type": "code",
   "execution_count": 44,
   "metadata": {
    "ExecuteTime": {
     "end_time": "2020-03-22T07:45:21.010262Z",
     "start_time": "2020-03-22T07:45:20.870633Z"
    }
   },
   "outputs": [
    {
     "name": "stdout",
     "output_type": "stream",
     "text": [
      "**************************************** Calling snooze(.123)\n",
      "[0.12273630s] snooze(0.123) -> None\n",
      "**************************************** Calling factorial(6)\n",
      "[0.00000110s] factorial(1) -> 1\n",
      "[0.00060150s] factorial(2) -> 2\n",
      "[0.00131100s] factorial(3) -> 6\n",
      "[0.00183400s] factorial(4) -> 24\n",
      "[0.00232720s] factorial(5) -> 120\n",
      "[0.00279530s] factorial(6) -> 720\n",
      "6! = 720\n"
     ]
    }
   ],
   "source": [
    "# 예제 7-16 clock 데커레이터 사용하기\n",
    "# clockdeco_demo.py\n",
    "import time\n",
    "from clockdeco import clock\n",
    "\n",
    "@clock\n",
    "def snooze(seconds):\n",
    "    time.sleep(seconds)\n",
    "    \n",
    "@clock\n",
    "def factorial(n):\n",
    "    return 1 if n < 2 else n*factorial(n-1)\n",
    "\n",
    "if __name__=='__main__':\n",
    "    print('*' * 40, 'Calling snooze(.123)')\n",
    "    snooze(.123)\n",
    "    print('*' * 40, 'Calling factorial(6)')\n",
    "    print('6! =', factorial(6))"
   ]
  },
  {
   "cell_type": "markdown",
   "metadata": {},
   "source": [
    "### 7.7.1 작동 과정"
   ]
  },
  {
   "cell_type": "code",
   "execution_count": 45,
   "metadata": {
    "ExecuteTime": {
     "end_time": "2020-03-22T07:53:47.526184Z",
     "start_time": "2020-03-22T07:53:47.522196Z"
    }
   },
   "outputs": [],
   "source": [
    "@clock\n",
    "def factorial(n):\n",
    "    return 1 if n < 2 else n*factorial(n-1)"
   ]
  },
  {
   "cell_type": "markdown",
   "metadata": {},
   "source": [
    "위 코드는 실제로 다음 코드로 실행된다."
   ]
  },
  {
   "cell_type": "code",
   "execution_count": 46,
   "metadata": {
    "ExecuteTime": {
     "end_time": "2020-03-22T07:54:33.246622Z",
     "start_time": "2020-03-22T07:54:33.243628Z"
    }
   },
   "outputs": [],
   "source": [
    "def factorial(n):\n",
    "    return 1 if n < 2 else n*factorial(n-1)\n",
    "\n",
    "factorial = clock(factorial)"
   ]
  },
  {
   "cell_type": "markdown",
   "metadata": {},
   "source": [
    "앞의 두 예제에서 `clock()`은 `factorial()` 함수를 `func` 인수로 받는다. 그 후 `clock()` 함수를 만들어서 반환하는데, 파이썬 인터프리터가 내부적으로 `clocked()`를 `factorial`에 할당했다. 실제로 `clockdeco_demo` 모듈을 임포트해서 `factorial`의 `__name__`속성을 조사해보면 아래와 같다."
   ]
  },
  {
   "cell_type": "code",
   "execution_count": 47,
   "metadata": {
    "ExecuteTime": {
     "end_time": "2020-03-22T07:57:19.362233Z",
     "start_time": "2020-03-22T07:57:19.353257Z"
    }
   },
   "outputs": [
    {
     "data": {
      "text/plain": [
       "'clocked'"
      ]
     },
     "execution_count": 47,
     "metadata": {},
     "output_type": "execute_result"
    }
   ],
   "source": [
    "import clockdeco_demo\n",
    "clockdeco_demo.factorial.__name__"
   ]
  },
  {
   "cell_type": "markdown",
   "metadata": {},
   "source": [
    "`factorial`은 실제로 `clocked()` 함수를 참조한다. 이제부터 `factorial(n)`을 호출하면 `clocked(n)`이 실행된다. 본질적으로 `clocked()` 함수는 다음과 같은 연산을 수행한다.\n",
    "1. 초기 시작 `t0`를 기록한다.\n",
    "2. 원래의 `factorial()` 함수를 호출하고 결과를 저장한다.\n",
    "3. 흘러간 시간을 계산한다.\n",
    "4. 수집한 데이터를 포맷하고 출력한다.\n",
    "5. 2번째 단계에서 저장한 결과를 반환한다."
   ]
  },
  {
   "cell_type": "markdown",
   "metadata": {},
   "source": [
    "[예제 7-15]에서 구현한 `clock()` 데커레이터의 단점  \n",
    "* 키워드 인수를 지원하지 않음\n",
    "* 데커레이트된 함수의 `__name__`과 `__doc__` 속성을 가린다."
   ]
  },
  {
   "cell_type": "code",
   "execution_count": 48,
   "metadata": {
    "ExecuteTime": {
     "end_time": "2020-03-22T08:07:12.303531Z",
     "start_time": "2020-03-22T08:07:12.295610Z"
    }
   },
   "outputs": [],
   "source": [
    "# 예제 7-17 개선된 clock 데커레이터\n",
    "# clockdeco2.py\n",
    "\n",
    "import time\n",
    "import functools\n",
    "\n",
    "def clock(func):\n",
    "    @functools.wraps(func) # 표준 라이브러리에서 제공하는 데커레이터 중 하나.\n",
    "    def clocked(*args, **kwargs): # keyword 인수를 지원.\n",
    "        t0 = time.time()\n",
    "        result = func(*args, **kwargs)\n",
    "        elapsed = time.time() - t0\n",
    "        name = func.__name__\n",
    "        arg_lst = []\n",
    "        if args:\n",
    "            arg_lst.append(', '.join(repr(arg) for arg in args))\n",
    "        if kwargs:\n",
    "            pairs = ['%s=%r' % (k, w) for k, w in sorted(kwargs.items())]\n",
    "            arg_lst.append(', '.join(pairs))\n",
    "        arg_str = ', '.join(arg_lst)\n",
    "        print(f'[{elapsed:.8f}] {name}({arg_str}) -> {result}')\n",
    "        return result\n",
    "    return clocked"
   ]
  },
  {
   "cell_type": "code",
   "execution_count": 49,
   "metadata": {
    "ExecuteTime": {
     "end_time": "2020-03-22T08:09:56.325860Z",
     "start_time": "2020-03-22T08:09:56.317881Z"
    }
   },
   "outputs": [],
   "source": [
    "import clockdeco_demo2"
   ]
  },
  {
   "cell_type": "code",
   "execution_count": 50,
   "metadata": {
    "ExecuteTime": {
     "end_time": "2020-03-22T08:10:07.040206Z",
     "start_time": "2020-03-22T08:10:07.035219Z"
    }
   },
   "outputs": [
    {
     "data": {
      "text/plain": [
       "'factorial'"
      ]
     },
     "execution_count": 50,
     "metadata": {},
     "output_type": "execute_result"
    }
   ],
   "source": [
    "clockdeco_demo2.factorial.__name__"
   ]
  },
  {
   "cell_type": "markdown",
   "metadata": {},
   "source": [
    "## 7.8 표준 라이브러리에서 제공하는 데커레이터\n",
    "파이썬은 메서드의 데커레이트를 위해 `property()`, `classsmethod()`, `staticmethod()` 등 3개의 내장 함수를 제공한다.  \n",
    "`functools.wraps()`은 데커레이터를 만들기 위한 헬퍼. "
   ]
  },
  {
   "cell_type": "markdown",
   "metadata": {},
   "source": [
    "### 7.8.1 functools.lru_cache()를 이용한 메모이제이션"
   ]
  },
  {
   "cell_type": "code",
   "execution_count": 52,
   "metadata": {
    "ExecuteTime": {
     "end_time": "2020-03-23T02:48:36.102092Z",
     "start_time": "2020-03-23T02:48:36.094115Z"
    }
   },
   "outputs": [
    {
     "name": "stdout",
     "output_type": "stream",
     "text": [
      "[0.00000060s] fibonacci(0) -> 0\n",
      "[0.00000050s] fibonacci(1) -> 1\n",
      "[0.00008220s] fibonacci(2) -> 1\n",
      "[0.00000030s] fibonacci(1) -> 1\n",
      "[0.00000030s] fibonacci(0) -> 0\n",
      "[0.00000020s] fibonacci(1) -> 1\n",
      "[0.00002410s] fibonacci(2) -> 1\n",
      "[0.00034850s] fibonacci(3) -> 2\n",
      "[0.00052490s] fibonacci(4) -> 3\n",
      "[0.00000050s] fibonacci(1) -> 1\n",
      "[0.00000040s] fibonacci(0) -> 0\n",
      "[0.00000030s] fibonacci(1) -> 1\n",
      "[0.00002780s] fibonacci(2) -> 1\n",
      "[0.00006300s] fibonacci(3) -> 2\n",
      "[0.00000020s] fibonacci(0) -> 0\n",
      "[0.00000030s] fibonacci(1) -> 1\n",
      "[0.00002600s] fibonacci(2) -> 1\n",
      "[0.00000020s] fibonacci(1) -> 1\n",
      "[0.00000020s] fibonacci(0) -> 0\n",
      "[0.00000030s] fibonacci(1) -> 1\n",
      "[0.00003020s] fibonacci(2) -> 1\n",
      "[0.00005710s] fibonacci(3) -> 2\n",
      "[0.00010780s] fibonacci(4) -> 3\n",
      "[0.00019670s] fibonacci(5) -> 5\n",
      "[0.00081990s] fibonacci(6) -> 8\n",
      "8\n"
     ]
    }
   ],
   "source": [
    "# 예제 7-18 fibo_demo.py : 피보나치 수열에서 n번째 숫자를 아주 값비싸게 계산하는 방식\n",
    "from clockdeco import clock\n",
    "\n",
    "@clock\n",
    "def fibonacci(n):\n",
    "    if n < 2:\n",
    "        return n\n",
    "    return fibonacci(n-2) + fibonacci(n-1)\n",
    "\n",
    "if __name__=='__main__':\n",
    "    print(fibonacci(6))"
   ]
  },
  {
   "cell_type": "markdown",
   "metadata": {},
   "source": [
    "같은 계산이 여러 번 호출되는 등 계산 낭비가 많다."
   ]
  },
  {
   "cell_type": "code",
   "execution_count": 53,
   "metadata": {
    "ExecuteTime": {
     "end_time": "2020-03-23T02:50:58.117134Z",
     "start_time": "2020-03-23T02:50:58.110154Z"
    }
   },
   "outputs": [
    {
     "name": "stdout",
     "output_type": "stream",
     "text": [
      "[0.00000060s] fibonacci(0) -> 0\n",
      "[0.00000080s] fibonacci(1) -> 1\n",
      "[0.00031840s] fibonacci(2) -> 1\n",
      "[0.00000080s] fibonacci(3) -> 2\n",
      "[0.00036230s] fibonacci(4) -> 3\n",
      "[0.00000060s] fibonacci(5) -> 5\n",
      "[0.00039590s] fibonacci(6) -> 8\n",
      "8\n"
     ]
    }
   ],
   "source": [
    "# 예제 7-19 캐시를 이용한 더 빠른 구현\n",
    "import functools \n",
    "\n",
    "from clockdeco import clock\n",
    "\n",
    "@functools.lru_cache()\n",
    "@clock\n",
    "def fibonacci(n):\n",
    "    if n < 2:\n",
    "        return n\n",
    "    return fibonacci(n-2) + fibonacci(n-1)\n",
    "\n",
    "if __name__=='__main__':\n",
    "    print(fibonacci(6))"
   ]
  },
  {
   "cell_type": "markdown",
   "metadata": {},
   "source": [
    "실행 시간이 절반으로 줄었고, 각 n에 대해 함수가 딱 한번만 호출된 것을 볼 수 있다."
   ]
  },
  {
   "cell_type": "markdown",
   "metadata": {},
   "source": [
    "`lru_cache()`는 웹에서 정보를 가져와야하는 애플리케이션에서도 진가를 발휘한다."
   ]
  },
  {
   "cell_type": "code",
   "execution_count": 54,
   "metadata": {
    "ExecuteTime": {
     "end_time": "2020-03-23T06:49:45.162342Z",
     "start_time": "2020-03-23T06:49:45.156359Z"
    }
   },
   "outputs": [
    {
     "data": {
      "text/plain": [
       "<function functools.lru_cache.<locals>.decorating_function(user_function)>"
      ]
     },
     "execution_count": 54,
     "metadata": {},
     "output_type": "execute_result"
    }
   ],
   "source": [
    "functools.lru_cache(maxsize=128, typed=False)"
   ]
  },
  {
   "cell_type": "markdown",
   "metadata": {},
   "source": [
    "`maxsize`인수는 얼마나 많은 호출을 저장할지 결정. 캐시가 가득차면 가장 오래된 결과를 버린다.  \n",
    "최적의 성능을 내기 위해선 `maxsize`는 2의 제곱이 되어야 한다. -> ???  \n",
    "`typed` 인수는 `True`로 설정되는 경우 인수의 자료형이 다르면 결과를 따로 저장한다.  \n",
    "  \n",
    "`lru_cache()`가 결과를 저장하기 위해 딕셔너리를 사용하고, 호출할 때 사용한 위치 인수와 키워드 인수를 키로 사용하기 때문에, 데커레이트된 함수가 받는 인수는 모두 **해시 가능**해야 한다."
   ]
  },
  {
   "cell_type": "markdown",
   "metadata": {},
   "source": [
    "### 7.8.2 단일 디스패치를 이용한 범용 함수"
   ]
  },
  {
   "cell_type": "code",
   "execution_count": 70,
   "metadata": {
    "ExecuteTime": {
     "end_time": "2020-03-23T07:57:19.607573Z",
     "start_time": "2020-03-23T07:57:19.602649Z"
    }
   },
   "outputs": [],
   "source": [
    "# 파이썬 객체의 자료형마다 HTML 코드를 생성하고자 함.\n",
    "import html\n",
    "\n",
    "def htmlize(obj):\n",
    "    content = html.escape(repr(obj))\n",
    "    return '<pre>{}</pre>'.format(content)"
   ]
  },
  {
   "cell_type": "markdown",
   "metadata": {},
   "source": [
    "위 함수를 아래의 조건을 고려하도록 확장하고자 한다.\n",
    "* `str` : 개행 문자를 '`<br>\\n`'으로 대체하고 `<pre>`대신 `<p>` 태그를 사용한다.\n",
    "* `int` : 숫자를 10진수와 16진수로 보여준다.\n",
    "* `list` : 각 항목을 자료형에 따라 포맷한 HTML 리스트를 출력한다.\n",
    "  \n",
    "파이썬은 메서나 함수의 오버로딩을 지원하지 않으므로, 서로 다르게 처리하고자 하는 자료형별로 서로 다른 시그너처를 가진 `htmlize()`를 만들 수 없다."
   ]
  },
  {
   "cell_type": "code",
   "execution_count": 71,
   "metadata": {
    "ExecuteTime": {
     "end_time": "2020-03-23T07:57:19.995050Z",
     "start_time": "2020-03-23T07:57:19.988066Z"
    }
   },
   "outputs": [
    {
     "data": {
      "text/plain": [
       "'<pre>{1, 2, 3}</pre>'"
      ]
     },
     "execution_count": 71,
     "metadata": {},
     "output_type": "execute_result"
    }
   ],
   "source": [
    "# 예제 7-20 다른 객체형에 맞춰진 HTML을 생성하는 htmlize()\n",
    "htmlize({1, 2, 3})"
   ]
  },
  {
   "cell_type": "code",
   "execution_count": 72,
   "metadata": {
    "ExecuteTime": {
     "end_time": "2020-03-23T07:57:20.118717Z",
     "start_time": "2020-03-23T07:57:20.113730Z"
    }
   },
   "outputs": [
    {
     "data": {
      "text/plain": [
       "'<pre>&lt;built-in function abs&gt;</pre>'"
      ]
     },
     "execution_count": 72,
     "metadata": {},
     "output_type": "execute_result"
    }
   ],
   "source": [
    "htmlize(abs)"
   ]
  },
  {
   "cell_type": "code",
   "execution_count": 73,
   "metadata": {
    "ExecuteTime": {
     "end_time": "2020-03-23T07:57:20.386012Z",
     "start_time": "2020-03-23T07:57:20.377035Z"
    }
   },
   "outputs": [
    {
     "data": {
      "text/plain": [
       "'<pre>&#x27;Heimlich &amp; Co.\\\\n- a game&#x27;</pre>'"
      ]
     },
     "execution_count": 73,
     "metadata": {},
     "output_type": "execute_result"
    }
   ],
   "source": [
    "htmlize('Heimlich & Co.\\n- a game')"
   ]
  },
  {
   "cell_type": "code",
   "execution_count": 74,
   "metadata": {
    "ExecuteTime": {
     "end_time": "2020-03-23T07:57:20.649111Z",
     "start_time": "2020-03-23T07:57:20.645125Z"
    }
   },
   "outputs": [
    {
     "data": {
      "text/plain": [
       "'<pre>42</pre>'"
      ]
     },
     "execution_count": 74,
     "metadata": {},
     "output_type": "execute_result"
    }
   ],
   "source": [
    "htmlize(42)"
   ]
  },
  {
   "cell_type": "code",
   "execution_count": 75,
   "metadata": {
    "ExecuteTime": {
     "end_time": "2020-03-23T07:57:21.772150Z",
     "start_time": "2020-03-23T07:57:21.767222Z"
    }
   },
   "outputs": [
    {
     "name": "stdout",
     "output_type": "stream",
     "text": [
      "<pre>[&#x27;alpha&#x27;, 66, {1, 2, 3}]</pre>\n"
     ]
    }
   ],
   "source": [
    "print(htmlize(['alpha', 66, {3, 2, 1}]))"
   ]
  },
  {
   "cell_type": "markdown",
   "metadata": {},
   "source": [
    "일반 함수를 `@singledispatch`로 데커레이트하면, 이 함수는 **범용 함수**(generic function)이 된다. 즉, 일련의 함수가 첫 번째 인수의 자료형에 따라 서로 다른 방식으로 연산을 수행하게 된다."
   ]
  },
  {
   "cell_type": "code",
   "execution_count": 76,
   "metadata": {
    "ExecuteTime": {
     "end_time": "2020-03-23T07:57:25.219306Z",
     "start_time": "2020-03-23T07:57:25.212266Z"
    }
   },
   "outputs": [],
   "source": [
    "# 예제 7-21 여러 함수를 범용 함수로 묶는 커스텀 htmlize.register()를 생성하는 singledispatch\n",
    "from functools import singledispatch\n",
    "from collections import abc\n",
    "import numbers\n",
    "import html\n",
    "\n",
    "@singledispatch    # @singledispatch()는 객체형을 다룰 기반 함수를 표시한다.\n",
    "def htmlize(obj):\n",
    "    content = html.escape(repr(obj))\n",
    "    return '<pre>{}</pre>'.format(content)\n",
    "\n",
    "@htmlize.register(str)\n",
    "def _(text):\n",
    "    content = html.escape(text).replace('\\n', '<br>\\n')\n",
    "    return '<p>{0}</p>'.format(content)\n",
    "\n",
    "@htmlize.register(numbers.Integral)    # number.Integral은 int의 가상 수퍼클래스\n",
    "def _(n):\n",
    "    return '<pre>{0} (0x{0:x})</pre>'.format(n)\n",
    "\n",
    "@htmlize.register(tuple)\n",
    "@htmlize.register(abc.MutableSequence)\n",
    "def _(seq):\n",
    "    inner = '</li>\\n<li>'.join(htmlize(item) for item in seq)\n",
    "    return '<ul>\\n<li>' + inner + '</li>\\n</ul>'"
   ]
  },
  {
   "cell_type": "markdown",
   "metadata": {},
   "source": [
    "* 각각의 특화된 함수는 `@<기반_함수>.register(<객체형>)`으로 데커레이트된다.  \n",
    "* 동일한 함수로 여러 자료형을 지원하기 위해 `register` 데커레이터를 여러 개 쌓아올릴 수 있다."
   ]
  },
  {
   "cell_type": "code",
   "execution_count": 77,
   "metadata": {
    "ExecuteTime": {
     "end_time": "2020-03-23T07:57:25.581797Z",
     "start_time": "2020-03-23T07:57:25.575869Z"
    }
   },
   "outputs": [
    {
     "data": {
      "text/plain": [
       "'<pre>{1, 2, 3}</pre>'"
      ]
     },
     "execution_count": 77,
     "metadata": {},
     "output_type": "execute_result"
    }
   ],
   "source": [
    "htmlize({1, 2, 3})"
   ]
  },
  {
   "cell_type": "code",
   "execution_count": 78,
   "metadata": {
    "ExecuteTime": {
     "end_time": "2020-03-23T07:57:25.789847Z",
     "start_time": "2020-03-23T07:57:25.784860Z"
    }
   },
   "outputs": [
    {
     "data": {
      "text/plain": [
       "'<pre>&lt;built-in function abs&gt;</pre>'"
      ]
     },
     "execution_count": 78,
     "metadata": {},
     "output_type": "execute_result"
    }
   ],
   "source": [
    "htmlize(abs)"
   ]
  },
  {
   "cell_type": "code",
   "execution_count": 79,
   "metadata": {
    "ExecuteTime": {
     "end_time": "2020-03-23T07:57:26.013862Z",
     "start_time": "2020-03-23T07:57:26.006878Z"
    }
   },
   "outputs": [
    {
     "data": {
      "text/plain": [
       "'<p>Heimlich &amp; Co.<br>\\n- a game</p>'"
      ]
     },
     "execution_count": 79,
     "metadata": {},
     "output_type": "execute_result"
    }
   ],
   "source": [
    "htmlize('Heimlich & Co.\\n- a game')"
   ]
  },
  {
   "cell_type": "code",
   "execution_count": 80,
   "metadata": {
    "ExecuteTime": {
     "end_time": "2020-03-23T07:57:26.115105Z",
     "start_time": "2020-03-23T07:57:26.110117Z"
    }
   },
   "outputs": [
    {
     "data": {
      "text/plain": [
       "'<pre>42 (0x2a)</pre>'"
      ]
     },
     "execution_count": 80,
     "metadata": {},
     "output_type": "execute_result"
    }
   ],
   "source": [
    "htmlize(42)"
   ]
  },
  {
   "cell_type": "code",
   "execution_count": 81,
   "metadata": {
    "ExecuteTime": {
     "end_time": "2020-03-23T07:57:26.374414Z",
     "start_time": "2020-03-23T07:57:26.369425Z"
    }
   },
   "outputs": [
    {
     "name": "stdout",
     "output_type": "stream",
     "text": [
      "<ul>\n",
      "<li><p>alpha</p></li>\n",
      "<li><pre>66 (0x42)</pre></li>\n",
      "<li><pre>{1, 2, 3}</pre></li>\n",
      "</ul>\n"
     ]
    }
   ],
   "source": [
    "print(htmlize(['alpha', 66, {3, 2, 1}]))"
   ]
  },
  {
   "cell_type": "markdown",
   "metadata": {},
   "source": [
    "가능하면 `int`나 `list`와 같은 구상 클래스보다 `numbers.Integral`이나 `abc.MutableSequence`와 같은 추상 베이스 클래스를 처리하도록 특화된 함수를 등록하는 것이 좋다. 추상 베이스 클래스로 등록하면 호환되는 자료형을 폭넓게 지원할 수 있다.(11장에서 다룬다고 함.)"
   ]
  },
  {
   "cell_type": "markdown",
   "metadata": {},
   "source": [
    "## 7.9 누적된 데커레이터\n",
    "하나의 함수 `f()`에 두 데커레이터 `@d1`과 `@d2`를 차례대로 적용하면, 결과는 `f = d1(d2(f))`와 동일하다."
   ]
  },
  {
   "cell_type": "code",
   "execution_count": 82,
   "metadata": {
    "ExecuteTime": {
     "end_time": "2020-03-23T08:05:24.954278Z",
     "start_time": "2020-03-23T08:05:24.945302Z"
    }
   },
   "outputs": [
    {
     "ename": "NameError",
     "evalue": "name 'd1' is not defined",
     "output_type": "error",
     "traceback": [
      "\u001b[1;31m---------------------------------------------------------------------------\u001b[0m",
      "\u001b[1;31mNameError\u001b[0m                                 Traceback (most recent call last)",
      "\u001b[1;32m<ipython-input-82-791c80d0c319>\u001b[0m in \u001b[0;36m<module>\u001b[1;34m\u001b[0m\n\u001b[1;32m----> 1\u001b[1;33m \u001b[1;33m@\u001b[0m\u001b[0md1\u001b[0m\u001b[1;33m\u001b[0m\u001b[1;33m\u001b[0m\u001b[0m\n\u001b[0m\u001b[0;32m      2\u001b[0m \u001b[1;33m@\u001b[0m\u001b[0md2\u001b[0m\u001b[1;33m\u001b[0m\u001b[1;33m\u001b[0m\u001b[0m\n\u001b[0;32m      3\u001b[0m \u001b[1;32mdef\u001b[0m \u001b[0mf\u001b[0m\u001b[1;33m(\u001b[0m\u001b[1;33m)\u001b[0m\u001b[1;33m:\u001b[0m\u001b[1;33m\u001b[0m\u001b[1;33m\u001b[0m\u001b[0m\n\u001b[0;32m      4\u001b[0m     \u001b[0mprint\u001b[0m\u001b[1;33m(\u001b[0m\u001b[1;34m'f'\u001b[0m\u001b[1;33m)\u001b[0m\u001b[1;33m\u001b[0m\u001b[1;33m\u001b[0m\u001b[0m\n",
      "\u001b[1;31mNameError\u001b[0m: name 'd1' is not defined"
     ]
    }
   ],
   "source": [
    "@d1\n",
    "@d2\n",
    "def f():\n",
    "    print('f')"
   ]
  },
  {
   "cell_type": "markdown",
   "metadata": {},
   "source": [
    "위 코드는 다음 코드와 동일하다."
   ]
  },
  {
   "cell_type": "code",
   "execution_count": 83,
   "metadata": {
    "ExecuteTime": {
     "end_time": "2020-03-23T08:05:52.521906Z",
     "start_time": "2020-03-23T08:05:52.512931Z"
    }
   },
   "outputs": [
    {
     "ename": "NameError",
     "evalue": "name 'd1' is not defined",
     "output_type": "error",
     "traceback": [
      "\u001b[1;31m---------------------------------------------------------------------------\u001b[0m",
      "\u001b[1;31mNameError\u001b[0m                                 Traceback (most recent call last)",
      "\u001b[1;32m<ipython-input-83-2d86bc0ac8bf>\u001b[0m in \u001b[0;36m<module>\u001b[1;34m\u001b[0m\n\u001b[0;32m      2\u001b[0m     \u001b[0mprint\u001b[0m\u001b[1;33m(\u001b[0m\u001b[1;34m'f'\u001b[0m\u001b[1;33m)\u001b[0m\u001b[1;33m\u001b[0m\u001b[1;33m\u001b[0m\u001b[0m\n\u001b[0;32m      3\u001b[0m \u001b[1;33m\u001b[0m\u001b[0m\n\u001b[1;32m----> 4\u001b[1;33m \u001b[0mf\u001b[0m \u001b[1;33m=\u001b[0m \u001b[0md1\u001b[0m\u001b[1;33m(\u001b[0m\u001b[0md2\u001b[0m\u001b[1;33m(\u001b[0m\u001b[0mf\u001b[0m\u001b[1;33m)\u001b[0m\u001b[1;33m)\u001b[0m\u001b[1;33m\u001b[0m\u001b[1;33m\u001b[0m\u001b[0m\n\u001b[0m",
      "\u001b[1;31mNameError\u001b[0m: name 'd1' is not defined"
     ]
    }
   ],
   "source": [
    "def f():\n",
    "    print('f')\n",
    "    \n",
    "f = d1(d2(f))"
   ]
  },
  {
   "cell_type": "markdown",
   "metadata": {},
   "source": [
    "## 7.10 매개변수화된 데커레이터\n",
    "소스코드에서 데커레이터를 파싱할 때 파이썬은 데커레이트된 함수를 가져와서 데커레이터 함수의 첫 번째 인수로 넘겨준다.  \n",
    "그러면 어떻게 다른 인수를 받는 데커레이터를 만들 수 있을까?  \n",
    "-> 인수를 받아 데커레이터를 반환하는 데커레이터 팩토리를 만들고 나서, 데커레이트될 함수에 데커레이터 팩토리를 적용하면 된다."
   ]
  },
  {
   "cell_type": "code",
   "execution_count": 84,
   "metadata": {
    "ExecuteTime": {
     "end_time": "2020-03-23T11:07:09.675183Z",
     "start_time": "2020-03-23T11:07:09.668202Z"
    }
   },
   "outputs": [
    {
     "name": "stdout",
     "output_type": "stream",
     "text": [
      "running register(<function f1 at 0x000001C8BFF811F8>)\n",
      "running main()\n",
      "registry -> [<function f1 at 0x000001C8BFF811F8>]\n",
      "running f1()\n"
     ]
    }
   ],
   "source": [
    "# 예제 7-22 [예제 7-2]의 registration.py 축약 버전\n",
    "registry = []\n",
    "\n",
    "def register(func):\n",
    "    print(f'running register({func})')\n",
    "    registry.append(func)\n",
    "    return func\n",
    "\n",
    "@register\n",
    "def f1():\n",
    "    print('running f1()')\n",
    "    \n",
    "print('running main()')\n",
    "print('registry ->', registry)\n",
    "f1()"
   ]
  },
  {
   "cell_type": "markdown",
   "metadata": {},
   "source": [
    "### 7.10.1 매개변수화된 등록 데커레이터\n",
    "`register()`가 등록하는 함수를 활성화 혹은 비활성화하기 쉽게 만들기 위해, 선택적인 인수 `active`를 받도록 만들어보자. `active`가 `False`면 데커레이트된 함수를 등록 해제한다. 새로 만든 `register()` 함수는 개념적으로는 데커레이터가 아니라 데커레이터 팩토리다. 호출되면 대상 함수에 적용할 실제 데커레이터를 반환하기 때문이다."
   ]
  },
  {
   "cell_type": "code",
   "execution_count": 85,
   "metadata": {
    "ExecuteTime": {
     "end_time": "2020-03-23T11:10:42.781159Z",
     "start_time": "2020-03-23T11:10:42.773180Z"
    }
   },
   "outputs": [
    {
     "name": "stdout",
     "output_type": "stream",
     "text": [
      "running register(active=False)->decorate<function f1 at 0x000001C8C13FB168>\n",
      "running register(active=True)->decorate<function f2 at 0x000001C8C13FB288>\n"
     ]
    }
   ],
   "source": [
    "# 예제 7-23 매개변수를 받기 위해 함수로 호출되어야 하는 새로운 register() 데커레이터 : registration_param.py\n",
    "\n",
    "registry = set()\n",
    "\n",
    "def register(active=True):\n",
    "    def decorate(func):\n",
    "        print(f'running register(active={active})->decorate{func}')\n",
    "        if active:\n",
    "            registry.add(func)\n",
    "        else:\n",
    "            registry.discard(func)\n",
    "            \n",
    "        return func\n",
    "    return decorate\n",
    "\n",
    "@register(active=False)\n",
    "def f1():\n",
    "    print('running f1()')\n",
    "\n",
    "@register()\n",
    "def f2():\n",
    "    print('running f2()')\n",
    "    \n",
    "def f3():\n",
    "    print('running f3()')"
   ]
  },
  {
   "cell_type": "markdown",
   "metadata": {},
   "source": [
    "`register()`가 `decorate()`를 반환하고, 데커레이트될 함수에 `decorate()`가 적용된다."
   ]
  },
  {
   "cell_type": "code",
   "execution_count": 88,
   "metadata": {
    "ExecuteTime": {
     "end_time": "2020-03-23T11:15:00.382670Z",
     "start_time": "2020-03-23T11:15:00.374690Z"
    }
   },
   "outputs": [
    {
     "name": "stdout",
     "output_type": "stream",
     "text": [
      "running register(active=False)->decorate<function f1 at 0x000001C8C1403318>\n",
      "running register(active=True)->decorate<function f2 at 0x000001C8C1403558>\n"
     ]
    }
   ],
   "source": [
    "import registration_param"
   ]
  },
  {
   "cell_type": "code",
   "execution_count": 89,
   "metadata": {
    "ExecuteTime": {
     "end_time": "2020-03-23T11:15:09.813448Z",
     "start_time": "2020-03-23T11:15:09.807464Z"
    }
   },
   "outputs": [
    {
     "data": {
      "text/plain": [
       "{<function registration_param.f2()>}"
      ]
     },
     "execution_count": 89,
     "metadata": {},
     "output_type": "execute_result"
    }
   ],
   "source": [
    "registration_param.registry"
   ]
  },
  {
   "cell_type": "markdown",
   "metadata": {},
   "source": [
    "`f2()`함수만 `registry`에 남아있다. `register()`데커레이터 팩토리에 `active=False` 인수를 전달했으므로 `f1()`에 적용된 `decorate()`는 `registry`에 `f1()` 함수를 추가하지 않았다."
   ]
  },
  {
   "cell_type": "code",
   "execution_count": 90,
   "metadata": {
    "ExecuteTime": {
     "end_time": "2020-03-23T11:16:51.300793Z",
     "start_time": "2020-03-23T11:16:51.296803Z"
    }
   },
   "outputs": [],
   "source": [
    "# 예제 7-24 [예제 7-23]에 나열된 registration_param 모듈 사용하기\n",
    "from registration_param import *"
   ]
  },
  {
   "cell_type": "markdown",
   "metadata": {},
   "source": [
    "임포트 타임에만 데코레이터가 실행된다."
   ]
  },
  {
   "cell_type": "code",
   "execution_count": 91,
   "metadata": {
    "ExecuteTime": {
     "end_time": "2020-03-23T11:16:58.506521Z",
     "start_time": "2020-03-23T11:16:58.501536Z"
    }
   },
   "outputs": [
    {
     "data": {
      "text/plain": [
       "{<function registration_param.f2()>}"
      ]
     },
     "execution_count": 91,
     "metadata": {},
     "output_type": "execute_result"
    }
   ],
   "source": [
    "registry"
   ]
  },
  {
   "cell_type": "code",
   "execution_count": 92,
   "metadata": {
    "ExecuteTime": {
     "end_time": "2020-03-23T11:17:05.105872Z",
     "start_time": "2020-03-23T11:17:05.100885Z"
    }
   },
   "outputs": [
    {
     "name": "stdout",
     "output_type": "stream",
     "text": [
      "running register(active=True)->decorate<function f3 at 0x000001C8C1403288>\n"
     ]
    },
    {
     "data": {
      "text/plain": [
       "<function registration_param.f3()>"
      ]
     },
     "execution_count": 92,
     "metadata": {},
     "output_type": "execute_result"
    }
   ],
   "source": [
    "register()(f3)"
   ]
  },
  {
   "cell_type": "markdown",
   "metadata": {},
   "source": [
    "커머셜 앳(`@`) 구문을 사용하는 대신 `register()`를 일반 함수로 사용하려면 괄호를 사용한다.  \n",
    "`register()` 표현식은 `decorate()`를 반환하고, 이 데커레이터가 `f3()`에 적용된다."
   ]
  },
  {
   "cell_type": "code",
   "execution_count": 93,
   "metadata": {
    "ExecuteTime": {
     "end_time": "2020-03-23T11:17:17.238426Z",
     "start_time": "2020-03-23T11:17:17.232446Z"
    }
   },
   "outputs": [
    {
     "data": {
      "text/plain": [
       "{<function registration_param.f2()>, <function registration_param.f3()>}"
      ]
     },
     "execution_count": 93,
     "metadata": {},
     "output_type": "execute_result"
    }
   ],
   "source": [
    "registry"
   ]
  },
  {
   "cell_type": "code",
   "execution_count": 94,
   "metadata": {
    "ExecuteTime": {
     "end_time": "2020-03-23T11:17:28.964068Z",
     "start_time": "2020-03-23T11:17:28.958084Z"
    }
   },
   "outputs": [
    {
     "name": "stdout",
     "output_type": "stream",
     "text": [
      "running register(active=False)->decorate<function f2 at 0x000001C8C1403558>\n"
     ]
    },
    {
     "data": {
      "text/plain": [
       "<function registration_param.f2()>"
      ]
     },
     "execution_count": 94,
     "metadata": {},
     "output_type": "execute_result"
    }
   ],
   "source": [
    "register(active=False)(f2)"
   ]
  },
  {
   "cell_type": "code",
   "execution_count": 95,
   "metadata": {
    "ExecuteTime": {
     "end_time": "2020-03-23T11:17:30.428152Z",
     "start_time": "2020-03-23T11:17:30.423167Z"
    }
   },
   "outputs": [
    {
     "data": {
      "text/plain": [
       "{<function registration_param.f3()>}"
      ]
     },
     "execution_count": 95,
     "metadata": {},
     "output_type": "execute_result"
    }
   ],
   "source": [
    "registry"
   ]
  },
  {
   "cell_type": "markdown",
   "metadata": {},
   "source": [
    "### 7.10.2 매개변수화된 clock 데커레이터\n",
    "아래 예제는 사용자가 포맷 문자열을 전달해서 데커레이트된 함수가 출력할 문자열을 설정한다."
   ]
  },
  {
   "cell_type": "code",
   "execution_count": 96,
   "metadata": {
    "ExecuteTime": {
     "end_time": "2020-03-23T11:25:17.813000Z",
     "start_time": "2020-03-23T11:25:17.433015Z"
    }
   },
   "outputs": [
    {
     "name": "stdout",
     "output_type": "stream",
     "text": [
      "[0.12367082s] snooze(0.123) -> None\n",
      "[0.12366915s] snooze(0.123) -> None\n",
      "[0.12366939s] snooze(0.123) -> None\n"
     ]
    }
   ],
   "source": [
    "# 코드를 간단히 하기 위해 [예제 7-25]는 @functools.wraps()를 이용해서 \n",
    "# 함수 계층을 한 단계 더 추가하는 개선된 [예제 7-17] 대신, [예제 7-15]에서 구현한\n",
    "# 초기 clock() 예제에 기반해서 구현했다.\n",
    "\n",
    "# 예제 7-25 clockdeco_param.py 모듈 : 매개변수화된 clock() 데커레이터\n",
    "\n",
    "import time\n",
    "\n",
    "DEFAULT_FMT = '[{elapsed:0.8f}s] {name}({args}) -> {result}'\n",
    "\n",
    "def clock(fmt=DEFAULT_FMT):                 # 매개변수화된 데커레이터 팩토리\n",
    "    def decorate(func):                     # 실제 데커레이터\n",
    "        def clocked(*_args):                # 데커레이트된 함수를 래핑\n",
    "            t0 = time.time()\n",
    "            _result = func(*_args)          # 데커레이트된 함수의 결과를 저장\n",
    "            elapsed = time.time() - t0 \n",
    "            name = func.__name__\n",
    "            args = ', '.join(repr(arg) for arg in _args)\n",
    "#             print('args :', args)         # args : 0.123\n",
    "            result = repr(_result)\n",
    "#             print([local for local in locals()])\n",
    "#             ['_args', 't0', '_result', 'elapsed', 'name', 'args', 'result', 'fmt', 'func']\n",
    "            print(fmt.format(**locals()))   # fmt가 clocked()의 지역 변수를 모두 참조할 수 있게 해준다.\n",
    "            return _result\n",
    "        return clocked\n",
    "    return decorate\n",
    "\n",
    "if __name__ == '__main__':\n",
    "    \n",
    "    @clock()\n",
    "    def snooze(seconds):\n",
    "        time.sleep(seconds)\n",
    "        \n",
    "    for i in range(3):\n",
    "        snooze(.123)"
   ]
  },
  {
   "cell_type": "code",
   "execution_count": 1,
   "metadata": {
    "ExecuteTime": {
     "end_time": "2020-03-23T11:41:41.855156Z",
     "start_time": "2020-03-23T11:41:41.473176Z"
    }
   },
   "outputs": [
    {
     "name": "stdout",
     "output_type": "stream",
     "text": [
      "snooze: 0.12366914749145508s\n",
      "snooze: 0.1237344741821289s\n",
      "snooze: 0.12360620498657227s\n"
     ]
    }
   ],
   "source": [
    "# 예제 7-26 clockdeco_param_demo1.py\n",
    "\n",
    "import time\n",
    "from clockdeco_param import clock\n",
    "\n",
    "@clock('{name}: {elapsed}s')\n",
    "def snooze(seconds):\n",
    "    time.sleep(seconds)\n",
    "    \n",
    "for i in range(3):\n",
    "    snooze(.123)"
   ]
  },
  {
   "cell_type": "code",
   "execution_count": 2,
   "metadata": {
    "ExecuteTime": {
     "end_time": "2020-03-23T11:43:01.938821Z",
     "start_time": "2020-03-23T11:43:01.560899Z"
    }
   },
   "outputs": [
    {
     "name": "stdout",
     "output_type": "stream",
     "text": [
      "snooze(0.123) dt=0.124s\n",
      "snooze(0.123) dt=0.124s\n",
      "snooze(0.123) dt=0.124s\n"
     ]
    }
   ],
   "source": [
    "# 예제 7-27 clockdeco_param_demo2.py\n",
    "import time\n",
    "from clockdeco_param import clock\n",
    "\n",
    "@clock('{name}({args}) dt={elapsed:0.3f}s')\n",
    "def snooze(seconds):\n",
    "    time.sleep(seconds)\n",
    "    \n",
    "for i in range(3):\n",
    "    snooze(.123)"
   ]
  },
  {
   "cell_type": "markdown",
   "metadata": {},
   "source": [
    "## 7.11 요약\n",
    "* 매개변수화된 데커레이터는 거의 항상 최소 두 단계의 내포된 함수를 가지고 있다. \n",
    "* 고급 기법을 지원하는 데커레이터를 구현하기 위해 `@functools.wraps`를 사용하는 경우 세 단계 이상 내포\n",
    "* 표준 라이브러리의 `functools` 모듈에서 제공하는 `@lru_cache()`와 `@singledispatch`를 사용했다.\n",
    "* **임포트 타임**과 **런타임**의 차이를 알았다."
   ]
  },
  {
   "cell_type": "code",
   "execution_count": null,
   "metadata": {},
   "outputs": [],
   "source": []
  }
 ],
 "metadata": {
  "kernelspec": {
   "display_name": "Python 3",
   "language": "python",
   "name": "python3"
  },
  "language_info": {
   "codemirror_mode": {
    "name": "ipython",
    "version": 3
   },
   "file_extension": ".py",
   "mimetype": "text/x-python",
   "name": "python",
   "nbconvert_exporter": "python",
   "pygments_lexer": "ipython3",
   "version": "3.7.4"
  },
  "varInspector": {
   "cols": {
    "lenName": 16,
    "lenType": 16,
    "lenVar": 40
   },
   "kernels_config": {
    "python": {
     "delete_cmd_postfix": "",
     "delete_cmd_prefix": "del ",
     "library": "var_list.py",
     "varRefreshCmd": "print(var_dic_list())"
    },
    "r": {
     "delete_cmd_postfix": ") ",
     "delete_cmd_prefix": "rm(",
     "library": "var_list.r",
     "varRefreshCmd": "cat(var_dic_list()) "
    }
   },
   "types_to_exclude": [
    "module",
    "function",
    "builtin_function_or_method",
    "instance",
    "_Feature"
   ],
   "window_display": false
  }
 },
 "nbformat": 4,
 "nbformat_minor": 2
}
