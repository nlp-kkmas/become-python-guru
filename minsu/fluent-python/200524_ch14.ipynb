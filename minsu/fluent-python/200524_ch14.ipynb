{
 "cells": [
  {
   "cell_type": "markdown",
   "metadata": {},
   "source": [
    "# Part 5 제어 흐름\n",
    "분기, 루프, 서브루틴 등 순차 제어 흐름을 뛰어넘는 파이썬 언어 기능과 라이브러리에 대해 다룹니다."
   ]
  },
  {
   "cell_type": "markdown",
   "metadata": {},
   "source": [
    "# CHPATER 14 반복형, 반복자, 제너레이터"
   ]
  },
  {
   "cell_type": "markdown",
   "metadata": {},
   "source": [
    "반복자 패턴은 데이터를 처리할 때, 한 번에 하나씩 필요할 때 가져올 수 있게 해줍니다. 이 장에서는 파이썬 어에서 반복자 패턴이 어떻게 구현되어 있는지를 설명합니다.  \n",
    "\n",
    "모든 제너레이터는 반복자입니다. 제너레이터가 반복자 인터페이스를 구현하고 있기 때문입니다. 하지만, **반복자**는 디자인 패턴에서 정의한 대로 컬렉션에서 항목을 가져오지만, **제너레이터**는 항목을 생성할 수 있습니다.  \n",
    "\n",
    "파이썬의 컬렉션은 모두 **반복형**입니다. 아래와 같은 연산을 지원하기 위해 내부적으로 반복자를 사용합니다,\n",
    "* for 루프\n",
    "* 컬렉션형 생성과 확장\n",
    "* 텍스트 파일을 한 줄씩 반복\n",
    "* 지능형 리스트/딕셔너리/집합\n",
    "* 튜플 언패킹\n",
    "* 함수 호출 시 * 를 이용해서 실제 매개변수를 언패킹"
   ]
  },
  {
   "cell_type": "markdown",
   "metadata": {},
   "source": [
    "**이 장에서 다루는 내용**\n",
    "* 반복형 객체를 처리하기 위해 내부적으로 `iter()` 내장 함수를 사용하는 방법\n",
    "* 파이썬에서 고전적인 반복자 패턴을 구현하는 방법\n",
    "* 제너레이터가 작동하는 방식을 한 줄씩 상세히 설명\n",
    "* 고전적인 반복자를 제너레이터 함수나 제너레이터 표현식으로 바꾸는 방법\n",
    "* 표준 라이브러리에서의 범용 제너레이터 함수의 활용\n",
    "* 제너레이터를 결합하기 위해 새로 추가된 `yield from`을 사용하는 방법\n",
    "* 사례 연구 : 대형 데이터셋을 사용하도록 설계된 데이터베이스 변환 유틸리티에서 제너레이터 함수 이용\n",
    "* 비슷해 보이는 제너레이터와 코루틴이 실제로는 아주 다르며, 혼합해서 사용하면 안 되는 이유"
   ]
  },
  {
   "cell_type": "markdown",
   "metadata": {},
   "source": [
    "## 14.1 Sentence 버전 #1: 단어 시퀀스"
   ]
  },
  {
   "cell_type": "markdown",
   "metadata": {},
   "source": [
    "아래 `Sentence`라는 클래스의 생성자는 텍스트로 구성된 문자열을 받은 후 단어별로 반복한다. #1 버전은 시퀀스 프로토콜을 구현하며 반복한다. "
   ]
  },
  {
   "cell_type": "code",
   "execution_count": 1,
   "metadata": {
    "ExecuteTime": {
     "end_time": "2020-05-25T02:14:42.791481Z",
     "start_time": "2020-05-25T02:14:42.785496Z"
    }
   },
   "outputs": [],
   "source": [
    "# 예제 14-1 sentence.py : 단어 시퀀스로서의 Sentence 클래스\n",
    "import re\n",
    "import reprlib\n",
    "\n",
    "RE_WORD = re.compile('\\w+') # 문자열을 찾습니다.\n",
    "\n",
    "class Sentence:\n",
    "    \n",
    "    def __init__(self, text):\n",
    "        self.text = text\n",
    "        self.words = RE_WORD.findall(text)\n",
    "        \n",
    "    def __getitem__(self, index):\n",
    "        return self.words[index] \n",
    "    # self.words가 위 findall()의 결과를 담고 있으므로, 주어진 인덱스에 해당하는 단어를 반환합니다.\n",
    "    \n",
    "    def __len__(self): # 완전한 시퀀스 프로토콜에 따르려면 __len__메서드가 필요. 하지만 반복형 객체에 필요한 것은 아님\n",
    "        return len(self.words)\n",
    "    \n",
    "    def __repr__(self):\n",
    "        return 'Sentence(%s)' % reprlib.repr(self.text)\n",
    "        # reprlib.repr()은 유틸리티 함수로, 매우 큰 데이터 구조체를 표현하는 문자열을 축약해서 생성(30자로 제한)"
   ]
  },
  {
   "cell_type": "code",
   "execution_count": 2,
   "metadata": {
    "ExecuteTime": {
     "end_time": "2020-05-25T02:14:42.811427Z",
     "start_time": "2020-05-25T02:14:42.794471Z"
    }
   },
   "outputs": [
    {
     "data": {
      "text/plain": [
       "Sentence('\"The time ha... Walrus said,')"
      ]
     },
     "execution_count": 2,
     "metadata": {},
     "output_type": "execute_result"
    }
   ],
   "source": [
    "# 예제 14-2 Sentence 객체의 반복 텍스트\n",
    "s = Sentence('\"The time has com, \" the Walrus said,') # 문자열을 이용해서 Sentence 객체를 생성.\n",
    "s"
   ]
  },
  {
   "cell_type": "code",
   "execution_count": 3,
   "metadata": {
    "ExecuteTime": {
     "end_time": "2020-05-25T02:14:42.825389Z",
     "start_time": "2020-05-25T02:14:42.814419Z"
    }
   },
   "outputs": [
    {
     "name": "stdout",
     "output_type": "stream",
     "text": [
      "The\n",
      "time\n",
      "has\n",
      "com\n",
      "the\n",
      "Walrus\n",
      "said\n"
     ]
    }
   ],
   "source": [
    "for word in s:\n",
    "    print(word)"
   ]
  },
  {
   "cell_type": "code",
   "execution_count": 4,
   "metadata": {
    "ExecuteTime": {
     "end_time": "2020-05-25T02:14:42.835363Z",
     "start_time": "2020-05-25T02:14:42.828381Z"
    }
   },
   "outputs": [
    {
     "data": {
      "text/plain": [
       "['The', 'time', 'has', 'com', 'the', 'Walrus', 'said']"
      ]
     },
     "execution_count": 4,
     "metadata": {},
     "output_type": "execute_result"
    }
   ],
   "source": [
    "list(s)"
   ]
  },
  {
   "cell_type": "markdown",
   "metadata": {},
   "source": [
    "위에서 만든 `Sentence` 객체는 반복할 수 있기 때문에 리스트 혹은 다른 반복형을 생성하기 위한 입력으로 사용할 수 있음."
   ]
  },
  {
   "cell_type": "code",
   "execution_count": 5,
   "metadata": {
    "ExecuteTime": {
     "end_time": "2020-05-25T02:14:42.843341Z",
     "start_time": "2020-05-25T02:14:42.837357Z"
    }
   },
   "outputs": [
    {
     "data": {
      "text/plain": [
       "'The'"
      ]
     },
     "execution_count": 5,
     "metadata": {},
     "output_type": "execute_result"
    }
   ],
   "source": [
    "# 예제 14-1에서의 구현은 아래처럼 인덱스를 이용해서 단어를 가져올 수 있다.\n",
    "s[0]"
   ]
  },
  {
   "cell_type": "code",
   "execution_count": 6,
   "metadata": {
    "ExecuteTime": {
     "end_time": "2020-05-25T02:14:42.854313Z",
     "start_time": "2020-05-25T02:14:42.845336Z"
    }
   },
   "outputs": [
    {
     "data": {
      "text/plain": [
       "'Walrus'"
      ]
     },
     "execution_count": 6,
     "metadata": {},
     "output_type": "execute_result"
    }
   ],
   "source": [
    "s[5]"
   ]
  },
  {
   "cell_type": "code",
   "execution_count": 7,
   "metadata": {
    "ExecuteTime": {
     "end_time": "2020-05-25T02:14:42.863289Z",
     "start_time": "2020-05-25T02:14:42.857305Z"
    }
   },
   "outputs": [
    {
     "data": {
      "text/plain": [
       "'said'"
      ]
     },
     "execution_count": 7,
     "metadata": {},
     "output_type": "execute_result"
    }
   ],
   "source": [
    "s[-1]"
   ]
  },
  {
   "cell_type": "markdown",
   "metadata": {},
   "source": [
    "## 14.1.1 Sequence가 반복 가능한 이유 : iter( ) 함수\n",
    "파이썬 인터프리터가 `x` 객체를 반복해야 할 때는 언제나 `iter(x)`를 자동으로 호출한다.\n",
    "\n",
    "`iter()`내장 함수는 다음 과정을 수행한다.\n",
    "1. 객체가 `__iter()__` 메서드를 구현하는지 확인하고, 이 메서드를 호출해서 반복자를 가져온다.\n",
    "2. `__iter__()` 메서드가 구현되어 있지 않지만 `__getitem__()`이 구현되어 있다면, 파이써은 인덱스 0에서 시작해서 항목을 순서대로 가져오는 반복자를 생성한다.\n",
    "3. 이 과정이 모두 실패하면 파이썬은 `TypeError: 'C' object is not iterable`이라는 메시지와 함께 `TypeError`가 발생한다. 여기서 `C`는 대상 객체의 클래스다."
   ]
  },
  {
   "cell_type": "markdown",
   "metadata": {},
   "source": [
    "시퀀스가 `__getitem__()`을 구현하고 있기 때문에 모든 파이썬 시퀀스는 반복할 수 있다. (2번에 의해서)  \n",
    "표준 시퀀스는 `__iter__()` 메서드도 구현하고 있으므로 시퀀스를 직접 정의한다면 `__iter__()`를 정의해야 한다.  "
   ]
  },
  {
   "cell_type": "code",
   "execution_count": 8,
   "metadata": {
    "ExecuteTime": {
     "end_time": "2020-05-25T02:14:42.870270Z",
     "start_time": "2020-05-25T02:14:42.866280Z"
    }
   },
   "outputs": [],
   "source": [
    "class Foo:\n",
    "    def __iter__(self):\n",
    "        pass"
   ]
  },
  {
   "cell_type": "code",
   "execution_count": 9,
   "metadata": {
    "ExecuteTime": {
     "end_time": "2020-05-25T02:14:42.877251Z",
     "start_time": "2020-05-25T02:14:42.872264Z"
    }
   },
   "outputs": [],
   "source": [
    "from collections import abc"
   ]
  },
  {
   "cell_type": "code",
   "execution_count": 10,
   "metadata": {
    "ExecuteTime": {
     "end_time": "2020-05-25T02:14:42.886228Z",
     "start_time": "2020-05-25T02:14:42.878248Z"
    }
   },
   "outputs": [
    {
     "data": {
      "text/plain": [
       "True"
      ]
     },
     "execution_count": 10,
     "metadata": {},
     "output_type": "execute_result"
    }
   ],
   "source": [
    "issubclass(Foo, abc.Iterable)"
   ]
  },
  {
   "cell_type": "markdown",
   "metadata": {},
   "source": [
    "`issubclass(class, classinfo)` : class가 classinfo의 sub class면 True를 리턴."
   ]
  },
  {
   "cell_type": "code",
   "execution_count": 11,
   "metadata": {
    "ExecuteTime": {
     "end_time": "2020-05-25T02:14:42.901187Z",
     "start_time": "2020-05-25T02:14:42.887224Z"
    }
   },
   "outputs": [],
   "source": [
    "f = Foo()"
   ]
  },
  {
   "cell_type": "code",
   "execution_count": 12,
   "metadata": {
    "ExecuteTime": {
     "end_time": "2020-05-25T02:14:42.916149Z",
     "start_time": "2020-05-25T02:14:42.903182Z"
    }
   },
   "outputs": [
    {
     "data": {
      "text/plain": [
       "True"
      ]
     },
     "execution_count": 12,
     "metadata": {},
     "output_type": "execute_result"
    }
   ],
   "source": [
    "isinstance(f, abc.Iterable)"
   ]
  },
  {
   "cell_type": "code",
   "execution_count": 13,
   "metadata": {
    "ExecuteTime": {
     "end_time": "2020-05-25T02:14:42.925125Z",
     "start_time": "2020-05-25T02:14:42.919141Z"
    }
   },
   "outputs": [
    {
     "data": {
      "text/plain": [
       "False"
      ]
     },
     "execution_count": 13,
     "metadata": {},
     "output_type": "execute_result"
    }
   ],
   "source": [
    "# Sentence 클래스는 반복형으로 사용하고 있지만 iter()메서드가 없으므로 통과하지 못함.\n",
    "issubclass(Sentence, abc.Iterable)"
   ]
  },
  {
   "cell_type": "markdown",
   "metadata": {},
   "source": [
    "객체를 반복하기 전에 반복형인지 명시적으로 검사할 필요는 없다. 파이썬이 `TypeErorr`를 발생시키기 때문. 예외를 발생시키기 전에 `try/except` 블록으로 처리할 수 있으면 좋음. 반복하기 위해 객체에 저장해두는 경우는 미리 명시적으로 검사해도 좋다."
   ]
  },
  {
   "cell_type": "markdown",
   "metadata": {},
   "source": [
    "## 14.2 반복형과 반복자\n"
   ]
  },
  {
   "cell_type": "markdown",
   "metadata": {},
   "source": [
    "**반복형**  \n",
    "`iter()` 내장 함수가 반복자를 가져올 수 있는 모든 객체와 **반복자**를 반환하는 `__iter__()` 메서드를 구현하는 객체는 반복형이다. 0에서 시작하는 인덱스를 받는 `__getitem__()` 메서드를 구현하는 객체인 시퀀스도 마찬가지다."
   ]
  },
  {
   "cell_type": "markdown",
   "metadata": {},
   "source": [
    "반복형과 반복자의 관계 : 반복형 객체에서 반복자를 가져온다."
   ]
  },
  {
   "cell_type": "code",
   "execution_count": 14,
   "metadata": {
    "ExecuteTime": {
     "end_time": "2020-05-25T02:14:42.933101Z",
     "start_time": "2020-05-25T02:14:42.926121Z"
    }
   },
   "outputs": [
    {
     "name": "stdout",
     "output_type": "stream",
     "text": [
      "A\n",
      "B\n",
      "C\n"
     ]
    }
   ],
   "source": [
    "# 'ABC' 문자열은 반복형. 반복자는 내부 어딘가에 있다.\n",
    "s = 'ABC'\n",
    "for char in s:\n",
    "    print(char)"
   ]
  },
  {
   "cell_type": "code",
   "execution_count": 15,
   "metadata": {
    "ExecuteTime": {
     "end_time": "2020-05-25T02:14:42.940084Z",
     "start_time": "2020-05-25T02:14:42.935098Z"
    }
   },
   "outputs": [
    {
     "name": "stdout",
     "output_type": "stream",
     "text": [
      "A\n",
      "B\n",
      "C\n"
     ]
    }
   ],
   "source": [
    "# while 문을 이용하여 작성\n",
    "s = 'ABC'\n",
    "it = iter(s) # 반복형으로부터 반복자 it 생성.\n",
    "while True:\n",
    "    try:\n",
    "        print(next(it)) # 반복자에서 next를 호출해 다음 항목을 가져옴.\n",
    "    except StopIteration: # 반복자 모두 소진\n",
    "        del it # it에 대한 참조를 해제해서 반복자 객체를 제거함.\n",
    "        break"
   ]
  },
  {
   "cell_type": "markdown",
   "metadata": {},
   "source": [
    "반복자에 대한 표준 인터페이스는 아래와 같은 메서드 두 개를 정의한다.  \n",
    "`__next__()` : 다음에 사용할 항목을 반환, 항목을 모두 소진하면 `Stopiteration`을 발생  \n",
    "`__iter__()` : `self`를 반환. 그래서 `for` 루프 등 반복형이 필요한 곳에 반복자를 사용할 수 있게 해줌."
   ]
  },
  {
   "cell_type": "markdown",
   "metadata": {
    "ExecuteTime": {
     "end_time": "2020-05-24T04:56:32.450621Z",
     "start_time": "2020-05-24T04:56:32.411724Z"
    }
   },
   "source": [
    "![그림14-1](./14-1.png)"
   ]
  },
  {
   "cell_type": "markdown",
   "metadata": {},
   "source": [
    "`Iterator ABC`는 `return self` 문장만으로 `__iter__()` 메서드를 구현한다. 이렇게 하면 반복형이 필요한 곳에 반복자를 사용할 수 있다."
   ]
  },
  {
   "cell_type": "code",
   "execution_count": 16,
   "metadata": {
    "ExecuteTime": {
     "end_time": "2020-05-25T02:14:43.018872Z",
     "start_time": "2020-05-25T02:14:42.942082Z"
    }
   },
   "outputs": [
    {
     "ename": "NameError",
     "evalue": "name 'Iterable' is not defined",
     "output_type": "error",
     "traceback": [
      "\u001b[1;31m---------------------------------------------------------------------------\u001b[0m",
      "\u001b[1;31mNameError\u001b[0m                                 Traceback (most recent call last)",
      "\u001b[1;32m<ipython-input-16-1dc886ad65e9>\u001b[0m in \u001b[0;36m<module>\u001b[1;34m\u001b[0m\n\u001b[0;32m      1\u001b[0m \u001b[1;31m# 예제 14-13 abc.iterator 클래스의 일부\u001b[0m\u001b[1;33m\u001b[0m\u001b[1;33m\u001b[0m\u001b[1;33m\u001b[0m\u001b[0m\n\u001b[1;32m----> 2\u001b[1;33m \u001b[1;32mclass\u001b[0m \u001b[0mIterator\u001b[0m\u001b[1;33m(\u001b[0m\u001b[0mIterable\u001b[0m\u001b[1;33m)\u001b[0m\u001b[1;33m:\u001b[0m\u001b[1;33m\u001b[0m\u001b[1;33m\u001b[0m\u001b[0m\n\u001b[0m\u001b[0;32m      3\u001b[0m \u001b[1;33m\u001b[0m\u001b[0m\n\u001b[0;32m      4\u001b[0m     \u001b[0m__slots__\u001b[0m \u001b[1;33m=\u001b[0m \u001b[1;33m(\u001b[0m\u001b[1;33m)\u001b[0m\u001b[1;33m\u001b[0m\u001b[1;33m\u001b[0m\u001b[0m\n\u001b[0;32m      5\u001b[0m \u001b[1;33m\u001b[0m\u001b[0m\n",
      "\u001b[1;31mNameError\u001b[0m: name 'Iterable' is not defined"
     ]
    }
   ],
   "source": [
    "# 예제 14-13 abc.iterator 클래스의 일부\n",
    "class Iterator(Iterable):\n",
    "    \n",
    "    __slots__ = ()\n",
    "    \n",
    "    @abstractmethod\n",
    "    def __next__(self):\n",
    "        '''반복자에서 다음 항목을 반환한다. 항목이 소진되면 StopIteration 발생'''\n",
    "        raise StopIteration\n",
    "        \n",
    "    def __iter__(self):\n",
    "        return self\n",
    "    \n",
    "    @classmethod\n",
    "    def __subclasshook__(cls, C):\n",
    "        if cls is Iterator:\n",
    "            if (any(\"__next__\" in B.__dict__ for B in C.__mro__) and\n",
    "                any(\"__iter__\" in B.__dict__ for B in C.__mro__)):\n",
    "                return True\n",
    "        return NotImplemented"
   ]
  },
  {
   "cell_type": "code",
   "execution_count": 19,
   "metadata": {
    "ExecuteTime": {
     "end_time": "2020-05-25T02:14:52.755851Z",
     "start_time": "2020-05-25T02:14:52.751862Z"
    }
   },
   "outputs": [],
   "source": [
    "s3 = Sentence('Pig and Pepper')"
   ]
  },
  {
   "cell_type": "code",
   "execution_count": 20,
   "metadata": {
    "ExecuteTime": {
     "end_time": "2020-05-25T02:14:52.955317Z",
     "start_time": "2020-05-25T02:14:52.951327Z"
    }
   },
   "outputs": [],
   "source": [
    "it = iter(s3)"
   ]
  },
  {
   "cell_type": "code",
   "execution_count": 21,
   "metadata": {
    "ExecuteTime": {
     "end_time": "2020-05-25T02:14:53.149802Z",
     "start_time": "2020-05-25T02:14:53.140825Z"
    }
   },
   "outputs": [
    {
     "data": {
      "text/plain": [
       "<iterator at 0x203a3f75cc8>"
      ]
     },
     "execution_count": 21,
     "metadata": {},
     "output_type": "execute_result"
    }
   ],
   "source": [
    "it # doctest: +ELLIPSIS"
   ]
  },
  {
   "cell_type": "code",
   "execution_count": 22,
   "metadata": {
    "ExecuteTime": {
     "end_time": "2020-05-25T02:14:53.390156Z",
     "start_time": "2020-05-25T02:14:53.385169Z"
    }
   },
   "outputs": [
    {
     "data": {
      "text/plain": [
       "'Pig'"
      ]
     },
     "execution_count": 22,
     "metadata": {},
     "output_type": "execute_result"
    }
   ],
   "source": [
    "next(it)"
   ]
  },
  {
   "cell_type": "code",
   "execution_count": 23,
   "metadata": {
    "ExecuteTime": {
     "end_time": "2020-05-25T02:14:53.455982Z",
     "start_time": "2020-05-25T02:14:53.448002Z"
    }
   },
   "outputs": [
    {
     "data": {
      "text/plain": [
       "'and'"
      ]
     },
     "execution_count": 23,
     "metadata": {},
     "output_type": "execute_result"
    }
   ],
   "source": [
    "next(it)"
   ]
  },
  {
   "cell_type": "code",
   "execution_count": 24,
   "metadata": {
    "ExecuteTime": {
     "end_time": "2020-05-25T02:14:53.511830Z",
     "start_time": "2020-05-25T02:14:53.506843Z"
    }
   },
   "outputs": [
    {
     "data": {
      "text/plain": [
       "'Pepper'"
      ]
     },
     "execution_count": 24,
     "metadata": {},
     "output_type": "execute_result"
    }
   ],
   "source": [
    "next(it)"
   ]
  },
  {
   "cell_type": "code",
   "execution_count": 25,
   "metadata": {
    "ExecuteTime": {
     "end_time": "2020-05-25T02:14:53.801057Z",
     "start_time": "2020-05-25T02:14:53.784102Z"
    }
   },
   "outputs": [
    {
     "ename": "StopIteration",
     "evalue": "",
     "output_type": "error",
     "traceback": [
      "\u001b[1;31m---------------------------------------------------------------------------\u001b[0m",
      "\u001b[1;31mStopIteration\u001b[0m                             Traceback (most recent call last)",
      "\u001b[1;32m<ipython-input-25-bc1ab118995a>\u001b[0m in \u001b[0;36m<module>\u001b[1;34m\u001b[0m\n\u001b[1;32m----> 1\u001b[1;33m \u001b[0mnext\u001b[0m\u001b[1;33m(\u001b[0m\u001b[0mit\u001b[0m\u001b[1;33m)\u001b[0m\u001b[1;33m\u001b[0m\u001b[1;33m\u001b[0m\u001b[0m\n\u001b[0m",
      "\u001b[1;31mStopIteration\u001b[0m: "
     ]
    }
   ],
   "source": [
    "next(it)"
   ]
  },
  {
   "cell_type": "code",
   "execution_count": 26,
   "metadata": {
    "ExecuteTime": {
     "end_time": "2020-05-25T02:14:53.914755Z",
     "start_time": "2020-05-25T02:14:53.905779Z"
    }
   },
   "outputs": [
    {
     "data": {
      "text/plain": [
       "[]"
      ]
     },
     "execution_count": 26,
     "metadata": {},
     "output_type": "execute_result"
    }
   ],
   "source": [
    "list(it)"
   ]
  },
  {
   "cell_type": "code",
   "execution_count": 27,
   "metadata": {
    "ExecuteTime": {
     "end_time": "2020-05-25T02:14:53.954647Z",
     "start_time": "2020-05-25T02:14:53.950658Z"
    }
   },
   "outputs": [
    {
     "data": {
      "text/plain": [
       "['Pig', 'and', 'Pepper']"
      ]
     },
     "execution_count": 27,
     "metadata": {},
     "output_type": "execute_result"
    }
   ],
   "source": [
    "list(iter(s3))"
   ]
  },
  {
   "cell_type": "markdown",
   "metadata": {},
   "source": [
    "### 이 장의 정리\n",
    "**반복자** : 다음 항목을 반환하거나, 다음 항목이 없을 때 `StopIteration` 예외를 발생시키는, 인수를 받지 않는 `__next__()` 메서드를 구현하는 객체. 파이썬 반복자는 `__iter__()` 메서드도 구현하므로 **반복형**이기도 하다."
   ]
  },
  {
   "cell_type": "markdown",
   "metadata": {},
   "source": [
    "## 14.3 Sentence 버전 #2: 고전적인 반복자"
   ]
  },
  {
   "cell_type": "markdown",
   "metadata": {},
   "source": [
    "예제 14-4의 `Sentence` 클래스는 반복형이다. `__iter__()` 메서드를 구현하고 있고, 이 메서드가 `SentenceIterator`를 반환하기 때문. 이 방식이 원래 디자인 패턴에서 설명하고 있는 반복자 디자인 패턴이다."
   ]
  },
  {
   "cell_type": "code",
   "execution_count": 28,
   "metadata": {
    "ExecuteTime": {
     "end_time": "2020-05-25T02:14:54.717608Z",
     "start_time": "2020-05-25T02:14:54.710625Z"
    }
   },
   "outputs": [],
   "source": [
    "# 예제 14-4 Sentence_iter.py : 반복자 패턴을 이용한 Sentence 구현\n",
    "import re\n",
    "import reprlib\n",
    "\n",
    "RE_WORD = re.compile('\\w+')\n",
    "\n",
    "class Sentence:\n",
    "    \n",
    "    def __init__(self, text):\n",
    "        self.text = text\n",
    "        self.words = RE_WORD.findall(text)\n",
    "        \n",
    "    def __repr__(self):\n",
    "        return 'Sentence(%s)' % reprlib.repr(self.text)\n",
    "    \n",
    "    def __iter__(self): # 반복형 객체를 생성해서 반환함으로써 반복형 프로토콜을 완전히 구현\n",
    "        return SentenceIterator(self.words)\n",
    "    \n",
    "class SentenceIterator: # 단어 리스트에 대한 참조를 담고 있음, 반복자는 __next__()와 __iter__()를 모두 구현해야함\n",
    "    \n",
    "    def __init__(self, words):\n",
    "        self.words = words\n",
    "        self.index = 0\n",
    "        \n",
    "    def __next__(self):\n",
    "        try:\n",
    "            word = self.words[self.index] # self.index에 있는 단어를 가져옴\n",
    "        except IndexError:\n",
    "            raise StopIteration()\n",
    "        self.index += 1\n",
    "        return word\n",
    "    \n",
    "    def __iter__(self):\n",
    "        return self"
   ]
  },
  {
   "cell_type": "markdown",
   "metadata": {},
   "source": [
    "## 14.3.1 Sentence를 반복자로 만들기: 좋지 않은 생각"
   ]
  },
  {
   "cell_type": "markdown",
   "metadata": {},
   "source": [
    "반복형과 반복자를 혼동하지 말자.  \n",
    "반복형은 호출될 때마다 반복자를 새로 생성하는 `__iter__()` 메서드를 가지고 있음.  \n",
    "반복자는 개별 항목을 반환하는 `__next__()` 메서드와 `self`를 반환하는 `__iter__()` 메서드를 가지고 있음.  \n",
    "  \n",
    "따라서, 반복자는 반복형이지만, 반복형은 반복자가 아니다."
   ]
  },
  {
   "cell_type": "markdown",
   "metadata": {},
   "source": [
    "위에서 정의한 `Sentence` 클래스 안에 `__iter__()` 외에 `__next__()`도 구현해서 `Sentence` 객체를 반복형이자 반복자로 만들고 싶을 수 있지만 이렇게 해선 안된다!  \n",
    "  \n",
    "반복자 패턴은 다음과 같은 용도에 사용하라.\n",
    "* 집합 객체의 내부 표현을 노출시키지 않고 내용에 접근하는 경우\n",
    "* 집합 객체의 다중 반복을 지원하는 경우\n",
    "* 다양한 집합 구조체를 반복하기 위한 통일된 인터페이스를 제공하는 경우  \n",
    "\n",
    "'다중 반복을 지원'하려면 동일한 반복형 객체로부터 여러 독립적인 반복자를 가질 수 있어야 하며, 각 반복자는 고유한 내부 상태를 유지. 따라서 `iter(my_iterable)`을 호출할 때마다 독립적인 반복자가 새로 만들어져야 한다. 때문에 `SentenceIterator` 클래스가 필요한 것임."
   ]
  },
  {
   "cell_type": "markdown",
   "metadata": {},
   "source": [
    "## 14.4 Sentence 버전 #3: 제너레이터 함수"
   ]
  },
  {
   "cell_type": "code",
   "execution_count": 29,
   "metadata": {
    "ExecuteTime": {
     "end_time": "2020-05-25T02:14:55.376846Z",
     "start_time": "2020-05-25T02:14:55.368868Z"
    }
   },
   "outputs": [],
   "source": [
    "# 예제 14-5 sentence_gen.py : 제너레이터 함수를 사용해서 구현한 Sentence\n",
    "import re\n",
    "import reprlib\n",
    "\n",
    "RE_WORD = re.compile('\\w+')\n",
    "\n",
    "class Sentence:\n",
    "    \n",
    "    def __init__(self, text):\n",
    "        self.text = text\n",
    "        self.words = RE_WORD.findall(text)\n",
    "        \n",
    "    def __repr__(self):\n",
    "        return 'Sentence(%s)' % reprlib.repr(self.text)\n",
    "    \n",
    "    def __iter__(self):\n",
    "        for word in self.words:\n",
    "            yield word # 현재 단어(word)를 생성\n",
    "        return # 함수에 끝에 도달하면 값을 자동으로 반환하므로, 이 return문은 필요 없음. \n",
    "        # 제너레이터 함수는 StopIteration도 발생시키지 않음. 값을 모두 생산한 후 그냥 빠져나간다.\n",
    "    \n",
    "# 완료! "
   ]
  },
  {
   "cell_type": "markdown",
   "metadata": {},
   "source": [
    "## 14.4.1 제너레이터 함수의 작동 방식\n",
    "본체 안에 `yield` 키워드를 가진 함수는 모두 제너레이터 함수. 제너레이터 함수는 호출되면 제너레이터 객체를 반환한다."
   ]
  },
  {
   "cell_type": "code",
   "execution_count": 30,
   "metadata": {
    "ExecuteTime": {
     "end_time": "2020-05-25T02:14:55.633161Z",
     "start_time": "2020-05-25T02:14:55.629171Z"
    }
   },
   "outputs": [],
   "source": [
    "def gen_123():\n",
    "    yield 1\n",
    "    yield 2\n",
    "    yield 3\n",
    "    yield 4    "
   ]
  },
  {
   "cell_type": "code",
   "execution_count": 31,
   "metadata": {
    "ExecuteTime": {
     "end_time": "2020-05-25T02:14:55.907430Z",
     "start_time": "2020-05-25T02:14:55.899452Z"
    }
   },
   "outputs": [
    {
     "data": {
      "text/plain": [
       "<function __main__.gen_123()>"
      ]
     },
     "execution_count": 31,
     "metadata": {},
     "output_type": "execute_result"
    }
   ],
   "source": [
    "gen_123 # doctest: +ELLIPSIS"
   ]
  },
  {
   "cell_type": "code",
   "execution_count": 32,
   "metadata": {
    "ExecuteTime": {
     "end_time": "2020-05-25T02:14:55.989209Z",
     "start_time": "2020-05-25T02:14:55.984223Z"
    }
   },
   "outputs": [
    {
     "data": {
      "text/plain": [
       "<generator object gen_123 at 0x00000203A2E86AC8>"
      ]
     },
     "execution_count": 32,
     "metadata": {},
     "output_type": "execute_result"
    }
   ],
   "source": [
    "gen_123() # doctest: +ELLIPSIS"
   ]
  },
  {
   "cell_type": "code",
   "execution_count": 33,
   "metadata": {
    "ExecuteTime": {
     "end_time": "2020-05-25T02:14:56.247522Z",
     "start_time": "2020-05-25T02:14:56.239544Z"
    }
   },
   "outputs": [
    {
     "name": "stdout",
     "output_type": "stream",
     "text": [
      "1\n",
      "2\n",
      "3\n",
      "4\n"
     ]
    }
   ],
   "source": [
    "for i in gen_123():\n",
    "    print(i)"
   ]
  },
  {
   "cell_type": "code",
   "execution_count": 34,
   "metadata": {
    "ExecuteTime": {
     "end_time": "2020-05-25T02:14:56.552703Z",
     "start_time": "2020-05-25T02:14:56.549711Z"
    }
   },
   "outputs": [],
   "source": [
    "g = gen_123()"
   ]
  },
  {
   "cell_type": "code",
   "execution_count": 35,
   "metadata": {
    "ExecuteTime": {
     "end_time": "2020-05-25T02:14:56.620523Z",
     "start_time": "2020-05-25T02:14:56.613540Z"
    }
   },
   "outputs": [
    {
     "data": {
      "text/plain": [
       "1"
      ]
     },
     "execution_count": 35,
     "metadata": {},
     "output_type": "execute_result"
    }
   ],
   "source": [
    "next(g)"
   ]
  },
  {
   "cell_type": "code",
   "execution_count": 36,
   "metadata": {
    "ExecuteTime": {
     "end_time": "2020-05-25T02:14:56.944656Z",
     "start_time": "2020-05-25T02:14:56.939669Z"
    }
   },
   "outputs": [
    {
     "data": {
      "text/plain": [
       "2"
      ]
     },
     "execution_count": 36,
     "metadata": {},
     "output_type": "execute_result"
    }
   ],
   "source": [
    "next(g)"
   ]
  },
  {
   "cell_type": "code",
   "execution_count": 37,
   "metadata": {
    "ExecuteTime": {
     "end_time": "2020-05-25T02:14:57.016465Z",
     "start_time": "2020-05-25T02:14:57.009482Z"
    }
   },
   "outputs": [
    {
     "data": {
      "text/plain": [
       "3"
      ]
     },
     "execution_count": 37,
     "metadata": {},
     "output_type": "execute_result"
    }
   ],
   "source": [
    "next(g)"
   ]
  },
  {
   "cell_type": "code",
   "execution_count": 38,
   "metadata": {
    "ExecuteTime": {
     "end_time": "2020-05-25T02:14:57.250837Z",
     "start_time": "2020-05-25T02:14:57.246848Z"
    }
   },
   "outputs": [
    {
     "data": {
      "text/plain": [
       "4"
      ]
     },
     "execution_count": 38,
     "metadata": {},
     "output_type": "execute_result"
    }
   ],
   "source": [
    "next(g)"
   ]
  },
  {
   "cell_type": "code",
   "execution_count": 39,
   "metadata": {
    "ExecuteTime": {
     "end_time": "2020-05-25T02:14:57.434347Z",
     "start_time": "2020-05-25T02:14:57.418392Z"
    }
   },
   "outputs": [
    {
     "ename": "StopIteration",
     "evalue": "",
     "output_type": "error",
     "traceback": [
      "\u001b[1;31m---------------------------------------------------------------------------\u001b[0m",
      "\u001b[1;31mStopIteration\u001b[0m                             Traceback (most recent call last)",
      "\u001b[1;32m<ipython-input-39-e734f8aca5ac>\u001b[0m in \u001b[0;36m<module>\u001b[1;34m\u001b[0m\n\u001b[1;32m----> 1\u001b[1;33m \u001b[0mnext\u001b[0m\u001b[1;33m(\u001b[0m\u001b[0mg\u001b[0m\u001b[1;33m)\u001b[0m\u001b[1;33m\u001b[0m\u001b[1;33m\u001b[0m\u001b[0m\n\u001b[0m",
      "\u001b[1;31mStopIteration\u001b[0m: "
     ]
    }
   ],
   "source": [
    "next(g)"
   ]
  },
  {
   "cell_type": "code",
   "execution_count": 40,
   "metadata": {
    "ExecuteTime": {
     "end_time": "2020-05-25T02:14:57.731553Z",
     "start_time": "2020-05-25T02:14:57.726566Z"
    }
   },
   "outputs": [],
   "source": [
    "# 예제 14-6 실행할 때 메시지를 출력하는 제너레이터 함수\n",
    "def gen_AB():\n",
    "    print('start')\n",
    "    yield 'A'\n",
    "    print('continue')\n",
    "    yield 'B'\n",
    "    print('end.')"
   ]
  },
  {
   "cell_type": "code",
   "execution_count": 41,
   "metadata": {
    "ExecuteTime": {
     "end_time": "2020-05-25T02:14:57.808347Z",
     "start_time": "2020-05-25T02:14:57.800370Z"
    }
   },
   "outputs": [
    {
     "name": "stdout",
     "output_type": "stream",
     "text": [
      "start\n",
      "--> A\n",
      "continue\n",
      "--> B\n",
      "end.\n"
     ]
    }
   ],
   "source": [
    "for c in gen_AB():\n",
    "    print('-->', c)\n",
    "    # for 루프에서 첫 next()를 암묵적으로 실행하면 첫 yield 'A'에서 멈춘다. "
   ]
  },
  {
   "cell_type": "markdown",
   "metadata": {},
   "source": [
    "## 14.5 Sentence 버전 #4: 느긋한 구현"
   ]
  },
  {
   "cell_type": "markdown",
   "metadata": {},
   "source": [
    "느긋한 버전이 왜 필요해요? -> 메모리를 절약하기 위해서입니다.  \n",
    "  \n",
    "지금까지 구현한 `Sentence` 버전은 `__iter__()`에서 텍스트 안에 있는 단어의 리스트를 조급하게 생성해서 `self.words` 속성에 바인딩했다. 그러므로 전체 텍스트를 처리하며, 리스트는 거의 텍스트와 맞먹는 양의 메모리를 소비한다.  "
   ]
  },
  {
   "cell_type": "code",
   "execution_count": 42,
   "metadata": {
    "ExecuteTime": {
     "end_time": "2020-05-25T02:14:58.452626Z",
     "start_time": "2020-05-25T02:14:58.440658Z"
    }
   },
   "outputs": [],
   "source": [
    "# 예제 14-7 sentence_gen2.py : re.finditer() 제너레이터 함수를 호출하는 생성자 함수를 이용해서 구현한 Sentence\n",
    "import re\n",
    "import reprlib\n",
    "\n",
    "RE_WORD = re.compile('\\w+')\n",
    "\n",
    "class Sentence:\n",
    "    \n",
    "    def __init__(self, text):\n",
    "        self.text = text\n",
    "        \n",
    "    def __repr__(self):\n",
    "        return 'Sentence (%s)' % reprlib.repr(self.text)\n",
    "    \n",
    "    def __iter__(self):\n",
    "        for match in RE_WORD.finditer(self.text): # re.findall()을 쓰지 않고 필요에 따라 match 객체 생성\n",
    "            yield match.group() # MatchObject 객체에서 매칭되는 텍스트를 추출"
   ]
  },
  {
   "cell_type": "markdown",
   "metadata": {},
   "source": [
    "## 14.6 Sentence 버전 #5: 제너레이터 표현식"
   ]
  },
  {
   "cell_type": "markdown",
   "metadata": {},
   "source": [
    "제너레이터 표현식은 지능형 리스트의 느긋한 버전. 필요에 따라 항목을 생성하는 제너레이터를 반환할 수 있기 때문."
   ]
  },
  {
   "cell_type": "code",
   "execution_count": 43,
   "metadata": {
    "ExecuteTime": {
     "end_time": "2020-05-25T02:14:59.012132Z",
     "start_time": "2020-05-25T02:14:59.004154Z"
    }
   },
   "outputs": [],
   "source": [
    "def gen_AB():\n",
    "    print('start')\n",
    "    yield 'A'\n",
    "    print('continue')\n",
    "    yield 'B'\n",
    "    print('end.')"
   ]
  },
  {
   "cell_type": "code",
   "execution_count": 44,
   "metadata": {
    "ExecuteTime": {
     "end_time": "2020-05-25T02:14:59.305346Z",
     "start_time": "2020-05-25T02:14:59.298366Z"
    }
   },
   "outputs": [
    {
     "name": "stdout",
     "output_type": "stream",
     "text": [
      "start\n",
      "continue\n",
      "end.\n"
     ]
    }
   ],
   "source": [
    "# 지능형 리스트는 gen_AB()를 호출해서 생성된 제너레이터 객체가 생성한 항목을 조급하게 반복함.\n",
    "res1 = [x*3 for x in gen_AB()]"
   ]
  },
  {
   "cell_type": "code",
   "execution_count": 45,
   "metadata": {
    "ExecuteTime": {
     "end_time": "2020-05-25T02:14:59.370174Z",
     "start_time": "2020-05-25T02:14:59.365187Z"
    }
   },
   "outputs": [
    {
     "name": "stdout",
     "output_type": "stream",
     "text": [
      "--> AAA\n",
      "--> BBB\n"
     ]
    }
   ],
   "source": [
    "for i in res1: # 지능형 리스트가 생성한 res1 리스트를 반복\n",
    "    print('-->', i)"
   ]
  },
  {
   "cell_type": "code",
   "execution_count": 46,
   "metadata": {
    "ExecuteTime": {
     "end_time": "2020-05-25T02:14:59.538723Z",
     "start_time": "2020-05-25T02:14:59.534733Z"
    }
   },
   "outputs": [],
   "source": [
    "res2 = (x*3 for x in gen_AB())"
   ]
  },
  {
   "cell_type": "code",
   "execution_count": 47,
   "metadata": {
    "ExecuteTime": {
     "end_time": "2020-05-25T02:14:59.880813Z",
     "start_time": "2020-05-25T02:14:59.871834Z"
    }
   },
   "outputs": [
    {
     "data": {
      "text/plain": [
       "<generator object <genexpr> at 0x00000203A42EFD48>"
      ]
     },
     "execution_count": 47,
     "metadata": {},
     "output_type": "execute_result"
    }
   ],
   "source": [
    "res2"
   ]
  },
  {
   "cell_type": "code",
   "execution_count": 48,
   "metadata": {
    "ExecuteTime": {
     "end_time": "2020-05-25T02:14:59.939651Z",
     "start_time": "2020-05-25T02:14:59.934665Z"
    }
   },
   "outputs": [
    {
     "name": "stdout",
     "output_type": "stream",
     "text": [
      "start\n",
      "--> AAA\n",
      "continue\n",
      "--> BBB\n",
      "end.\n"
     ]
    }
   ],
   "source": [
    "# for 루프가 res2를 반복해야 gen_AB()의 본체가 비로소 실행된다.\n",
    "for i in res2:\n",
    "    print('-->', i)"
   ]
  },
  {
   "cell_type": "code",
   "execution_count": 49,
   "metadata": {
    "ExecuteTime": {
     "end_time": "2020-05-25T02:15:00.157070Z",
     "start_time": "2020-05-25T02:15:00.152083Z"
    }
   },
   "outputs": [],
   "source": [
    "# 예제 14-9 sentence_genexp.py : 제너레이터 표현식을 사용한 Sentence\n",
    "import re\n",
    "import reprlib\n",
    "\n",
    "RE_WORD = re.compile('\\w+')\n",
    "\n",
    "class Sentence:\n",
    "    \n",
    "    def __init__(self, text):\n",
    "        self.text = text\n",
    "        \n",
    "    def __repr__(self, text):\n",
    "        return 'Sentence(%s)' % reprlib.repr(self.text)\n",
    "    \n",
    "    def __iter__(self):\n",
    "        return (match.group() for match in RE_WORD.finditer(self.text)) # 제너레이터 표현식 사용"
   ]
  },
  {
   "cell_type": "markdown",
   "metadata": {},
   "source": [
    "## 14.7 제너레이터 표현식: 언제 사용하나?\n",
    "제너레이터 표현식이 여러 줄에 걸쳐있을 때는 가독성을 위해 제너레이터 함수를 사용."
   ]
  },
  {
   "cell_type": "markdown",
   "metadata": {},
   "source": [
    "## 14.8 또 다른 예제: 등차수열 제너레이터"
   ]
  },
  {
   "cell_type": "code",
   "execution_count": 50,
   "metadata": {
    "ExecuteTime": {
     "end_time": "2020-05-25T02:15:00.923024Z",
     "start_time": "2020-05-25T02:15:00.915045Z"
    }
   },
   "outputs": [],
   "source": [
    "# 예제 14-11 ArithmeticProgression 클래스\n",
    "\n",
    "class ArithmeticProgression:\n",
    "    \n",
    "    def __init__(self, begin, step, end=None): # end는 선택인수\n",
    "        self.begin = begin \n",
    "        self.step = step\n",
    "        self.end = end # None이면 무한 수열. \n",
    "        \n",
    "    def __iter__(self):\n",
    "        result = type(self.begin + self.step)(self.begin) # 이후에 더할 값에 맞춰 자료형 강제 변환\n",
    "        forever = self.end is None # forever 플래그\n",
    "        index = 0\n",
    "        while forever or result < self.end:\n",
    "            yield result\n",
    "            index += 1\n",
    "            result = self.begin + self.step * index # 다음에 가져올 result 미리 계싼. "
   ]
  },
  {
   "cell_type": "code",
   "execution_count": 51,
   "metadata": {
    "ExecuteTime": {
     "end_time": "2020-05-25T02:15:01.020762Z",
     "start_time": "2020-05-25T02:15:01.016773Z"
    }
   },
   "outputs": [],
   "source": [
    "# 예제 14-10 ArithmeticProgression 사용 예\n",
    "ap = ArithmeticProgression(0, 1, 3)"
   ]
  },
  {
   "cell_type": "code",
   "execution_count": 52,
   "metadata": {
    "ExecuteTime": {
     "end_time": "2020-05-25T02:15:01.591242Z",
     "start_time": "2020-05-25T02:15:01.582263Z"
    }
   },
   "outputs": [
    {
     "data": {
      "text/plain": [
       "[0, 1, 2]"
      ]
     },
     "execution_count": 52,
     "metadata": {},
     "output_type": "execute_result"
    }
   ],
   "source": [
    "list(ap)"
   ]
  },
  {
   "cell_type": "code",
   "execution_count": 53,
   "metadata": {
    "ExecuteTime": {
     "end_time": "2020-05-25T02:15:01.881464Z",
     "start_time": "2020-05-25T02:15:01.874483Z"
    }
   },
   "outputs": [],
   "source": [
    "ap = ArithmeticProgression(0, 1/3, 1)"
   ]
  },
  {
   "cell_type": "code",
   "execution_count": 54,
   "metadata": {
    "ExecuteTime": {
     "end_time": "2020-05-25T02:15:01.939308Z",
     "start_time": "2020-05-25T02:15:01.935318Z"
    }
   },
   "outputs": [
    {
     "data": {
      "text/plain": [
       "[0.0, 0.3333333333333333, 0.6666666666666666]"
      ]
     },
     "execution_count": 54,
     "metadata": {},
     "output_type": "execute_result"
    }
   ],
   "source": [
    "list(ap)"
   ]
  },
  {
   "cell_type": "code",
   "execution_count": 55,
   "metadata": {
    "ExecuteTime": {
     "end_time": "2020-05-25T02:15:02.271421Z",
     "start_time": "2020-05-25T02:15:02.255464Z"
    }
   },
   "outputs": [],
   "source": [
    "from fractions import Fraction"
   ]
  },
  {
   "cell_type": "code",
   "execution_count": 56,
   "metadata": {
    "ExecuteTime": {
     "end_time": "2020-05-25T02:15:02.352204Z",
     "start_time": "2020-05-25T02:15:02.348215Z"
    }
   },
   "outputs": [],
   "source": [
    "ap = ArithmeticProgression(0, Fraction(1, 3), 1)"
   ]
  },
  {
   "cell_type": "code",
   "execution_count": 57,
   "metadata": {
    "ExecuteTime": {
     "end_time": "2020-05-25T02:15:02.623479Z",
     "start_time": "2020-05-25T02:15:02.614510Z"
    }
   },
   "outputs": [
    {
     "data": {
      "text/plain": [
       "[Fraction(0, 1), Fraction(1, 3), Fraction(2, 3)]"
      ]
     },
     "execution_count": 57,
     "metadata": {},
     "output_type": "execute_result"
    }
   ],
   "source": [
    "list(ap)"
   ]
  },
  {
   "cell_type": "code",
   "execution_count": 58,
   "metadata": {
    "ExecuteTime": {
     "end_time": "2020-05-25T02:15:02.925671Z",
     "start_time": "2020-05-25T02:15:02.921681Z"
    }
   },
   "outputs": [],
   "source": [
    "from decimal import Decimal"
   ]
  },
  {
   "cell_type": "code",
   "execution_count": 59,
   "metadata": {
    "ExecuteTime": {
     "end_time": "2020-05-25T02:15:03.245818Z",
     "start_time": "2020-05-25T02:15:03.240829Z"
    }
   },
   "outputs": [],
   "source": [
    "ap = ArithmeticProgression(0, Decimal('.1'), .3)"
   ]
  },
  {
   "cell_type": "code",
   "execution_count": 60,
   "metadata": {
    "ExecuteTime": {
     "end_time": "2020-05-25T02:15:03.443290Z",
     "start_time": "2020-05-25T02:15:03.439298Z"
    }
   },
   "outputs": [
    {
     "data": {
      "text/plain": [
       "[Decimal('0'), Decimal('0.1'), Decimal('0.2')]"
      ]
     },
     "execution_count": 60,
     "metadata": {},
     "output_type": "execute_result"
    }
   ],
   "source": [
    "list(ap)"
   ]
  },
  {
   "cell_type": "code",
   "execution_count": 61,
   "metadata": {
    "ExecuteTime": {
     "end_time": "2020-05-25T02:15:03.707588Z",
     "start_time": "2020-05-25T02:15:03.697611Z"
    }
   },
   "outputs": [],
   "source": [
    "# 예제 14-12 atitprog_gen() 제너레이터 함수\n",
    "def aritprog_gen(begin, step, end=None):\n",
    "    result = type(begin + step)(begin)\n",
    "    forever = end is None\n",
    "    index = 0\n",
    "    while forever or result < end:\n",
    "        yield result\n",
    "        index += 1\n",
    "        result = begin + step * index"
   ]
  },
  {
   "cell_type": "markdown",
   "metadata": {},
   "source": [
    "## 14.8.1 itertools를 이용한 등차수열"
   ]
  },
  {
   "cell_type": "markdown",
   "metadata": {},
   "source": [
    "`itertools.count()` 함수는 숫자를 생성하는 제너레이터를 반환한다. 인수를 지정하지 않으면 0에서 시작하는 수열을 생성.  \n",
    "그러나 `start`와 `stop` 인수를 지정하면 앞에서 구현한 `aritprog_gen()` 함수와 아주 비슷한 결과를 낼 수 있다."
   ]
  },
  {
   "cell_type": "code",
   "execution_count": 62,
   "metadata": {
    "ExecuteTime": {
     "end_time": "2020-05-25T02:15:04.948269Z",
     "start_time": "2020-05-25T02:15:04.942285Z"
    }
   },
   "outputs": [],
   "source": [
    "import itertools"
   ]
  },
  {
   "cell_type": "code",
   "execution_count": 63,
   "metadata": {
    "ExecuteTime": {
     "end_time": "2020-05-25T02:15:05.147734Z",
     "start_time": "2020-05-25T02:15:05.143746Z"
    }
   },
   "outputs": [],
   "source": [
    "gen = itertools.count(1, .5)"
   ]
  },
  {
   "cell_type": "code",
   "execution_count": 64,
   "metadata": {
    "ExecuteTime": {
     "end_time": "2020-05-25T02:15:05.335232Z",
     "start_time": "2020-05-25T02:15:05.330245Z"
    }
   },
   "outputs": [
    {
     "data": {
      "text/plain": [
       "1"
      ]
     },
     "execution_count": 64,
     "metadata": {},
     "output_type": "execute_result"
    }
   ],
   "source": [
    "next(gen)"
   ]
  },
  {
   "cell_type": "code",
   "execution_count": 65,
   "metadata": {
    "ExecuteTime": {
     "end_time": "2020-05-25T02:15:05.581575Z",
     "start_time": "2020-05-25T02:15:05.577583Z"
    }
   },
   "outputs": [
    {
     "data": {
      "text/plain": [
       "1.5"
      ]
     },
     "execution_count": 65,
     "metadata": {},
     "output_type": "execute_result"
    }
   ],
   "source": [
    "next(gen)"
   ]
  },
  {
   "cell_type": "code",
   "execution_count": 66,
   "metadata": {
    "ExecuteTime": {
     "end_time": "2020-05-25T02:15:05.782040Z",
     "start_time": "2020-05-25T02:15:05.775057Z"
    }
   },
   "outputs": [
    {
     "data": {
      "text/plain": [
       "2.0"
      ]
     },
     "execution_count": 66,
     "metadata": {},
     "output_type": "execute_result"
    }
   ],
   "source": [
    "next(gen)"
   ]
  },
  {
   "cell_type": "code",
   "execution_count": 67,
   "metadata": {
    "ExecuteTime": {
     "end_time": "2020-05-25T02:15:06.110162Z",
     "start_time": "2020-05-25T02:15:06.104177Z"
    }
   },
   "outputs": [
    {
     "data": {
      "text/plain": [
       "2.5"
      ]
     },
     "execution_count": 67,
     "metadata": {},
     "output_type": "execute_result"
    }
   ],
   "source": [
    "next(gen)"
   ]
  },
  {
   "cell_type": "markdown",
   "metadata": {},
   "source": [
    "`itertools.count()`는 끝이 없다.. 따라서 `list(count())`를 실행하면 실패함.  \n",
    "`itertools.takewhile()`이라는 함수는 다른 제너레이터를 소비하면서 주어진 조건식(predicate)이 `False`가 되면 중단되는 제너레이터를 생성한다."
   ]
  },
  {
   "cell_type": "code",
   "execution_count": 68,
   "metadata": {
    "ExecuteTime": {
     "end_time": "2020-05-25T02:15:06.862153Z",
     "start_time": "2020-05-25T02:15:06.855173Z"
    }
   },
   "outputs": [],
   "source": [
    "gen = itertools.takewhile(lambda n: n < 3, itertools.count(1, .5))"
   ]
  },
  {
   "cell_type": "code",
   "execution_count": 69,
   "metadata": {
    "ExecuteTime": {
     "end_time": "2020-05-25T02:15:07.138415Z",
     "start_time": "2020-05-25T02:15:07.129439Z"
    }
   },
   "outputs": [
    {
     "data": {
      "text/plain": [
       "[1, 1.5, 2.0, 2.5]"
      ]
     },
     "execution_count": 69,
     "metadata": {},
     "output_type": "execute_result"
    }
   ],
   "source": [
    "list(gen)"
   ]
  },
  {
   "cell_type": "code",
   "execution_count": 70,
   "metadata": {
    "ExecuteTime": {
     "end_time": "2020-05-25T02:15:07.201245Z",
     "start_time": "2020-05-25T02:15:07.197257Z"
    }
   },
   "outputs": [],
   "source": [
    "# 예제 14-13 aritprog_v3.py : 이전 aritprog_gen() 함수와 동일하게 작동\n",
    "import itertools\n",
    "\n",
    "def aritprog_gen(begin, step, end=None):\n",
    "    first = type(begin + step)(begin)\n",
    "    ap_gen = itertools.count(first, step)\n",
    "    if end is not None:\n",
    "        ap_gen = itertools.takewhile(lambda n: n < end, ap_gen)\n",
    "    return ap_gen"
   ]
  },
  {
   "cell_type": "markdown",
   "metadata": {},
   "source": [
    "## 14.9 표준 라이브러리의 제너레이터 함수"
   ]
  },
  {
   "cell_type": "markdown",
   "metadata": {},
   "source": [
    "### 필터링 제너레이터"
   ]
  },
  {
   "cell_type": "code",
   "execution_count": 71,
   "metadata": {
    "ExecuteTime": {
     "end_time": "2020-05-25T02:15:08.971517Z",
     "start_time": "2020-05-25T02:15:08.967526Z"
    }
   },
   "outputs": [],
   "source": [
    "# 예제 14-14 필터링 제너레이터 함수 예\n",
    "def vowel(c):\n",
    "    return c.lower() in 'aeiou'"
   ]
  },
  {
   "cell_type": "code",
   "execution_count": 72,
   "metadata": {
    "ExecuteTime": {
     "end_time": "2020-05-25T02:15:09.275704Z",
     "start_time": "2020-05-25T02:15:09.266727Z"
    }
   },
   "outputs": [
    {
     "data": {
      "text/plain": [
       "['A', 'a', 'a']"
      ]
     },
     "execution_count": 72,
     "metadata": {},
     "output_type": "execute_result"
    }
   ],
   "source": [
    "list(filter(vowel, 'Aardvark'))"
   ]
  },
  {
   "cell_type": "code",
   "execution_count": 73,
   "metadata": {
    "ExecuteTime": {
     "end_time": "2020-05-25T02:15:09.531019Z",
     "start_time": "2020-05-25T02:15:09.525036Z"
    }
   },
   "outputs": [],
   "source": [
    "import itertools"
   ]
  },
  {
   "cell_type": "markdown",
   "metadata": {},
   "source": [
    "`filterfalse(predicate, it)` : `filter()`와 같지만 반대 논리를 적용. `predicate`로 거짓된 값이 나오는 항목 모두 생성"
   ]
  },
  {
   "cell_type": "code",
   "execution_count": 74,
   "metadata": {
    "ExecuteTime": {
     "end_time": "2020-05-25T02:15:09.869118Z",
     "start_time": "2020-05-25T02:15:09.859143Z"
    }
   },
   "outputs": [
    {
     "data": {
      "text/plain": [
       "['r', 'd', 'v', 'r', 'k']"
      ]
     },
     "execution_count": 74,
     "metadata": {},
     "output_type": "execute_result"
    }
   ],
   "source": [
    "list(itertools.filterfalse(vowel, 'Aardvark'))"
   ]
  },
  {
   "cell_type": "markdown",
   "metadata": {},
   "source": [
    "`dropwhile(predicate, it)` : `predicate`가 참된 값인 동안 항목들을 지나가면서 `it`를 소비한 후, 추가 검사 없이 남아 있는 항목을 모두 생성"
   ]
  },
  {
   "cell_type": "code",
   "execution_count": 75,
   "metadata": {
    "ExecuteTime": {
     "end_time": "2020-05-25T02:15:10.745772Z",
     "start_time": "2020-05-25T02:15:10.740785Z"
    }
   },
   "outputs": [
    {
     "data": {
      "text/plain": [
       "['r', 'd', 'v', 'a', 'r', 'k']"
      ]
     },
     "execution_count": 75,
     "metadata": {},
     "output_type": "execute_result"
    }
   ],
   "source": [
    "list(itertools.dropwhile(vowel, 'Aardvark'))"
   ]
  },
  {
   "cell_type": "markdown",
   "metadata": {},
   "source": [
    "`compress(it, selector_it)` : 두 개의 반복형을 병렬로 소비. `selector_it`의 해당 항목이 참된 값일 때마다 `it`에서 항목을 생성"
   ]
  },
  {
   "cell_type": "code",
   "execution_count": 76,
   "metadata": {
    "ExecuteTime": {
     "end_time": "2020-05-25T02:15:11.482805Z",
     "start_time": "2020-05-25T02:15:11.472830Z"
    }
   },
   "outputs": [
    {
     "data": {
      "text/plain": [
       "['A', 'r', 'd', 'a']"
      ]
     },
     "execution_count": 76,
     "metadata": {},
     "output_type": "execute_result"
    }
   ],
   "source": [
    "list(itertools.compress('Aardvark', (1,0,1,1,0,1)))"
   ]
  },
  {
   "cell_type": "markdown",
   "metadata": {},
   "source": [
    "`islice(it.stop)` or `islice(it, start, stop, step=1)` : s[:stop]이나 s[start:stop:step]과 비슷하게, 반복할 수 있는 모든 객체에서 느긋하게 연산을 적용해서 `it`의 슬라이스 항목을 생성"
   ]
  },
  {
   "cell_type": "code",
   "execution_count": 77,
   "metadata": {
    "ExecuteTime": {
     "end_time": "2020-05-25T02:15:12.397360Z",
     "start_time": "2020-05-25T02:15:12.387387Z"
    }
   },
   "outputs": [
    {
     "data": {
      "text/plain": [
       "['A', 'a', 'r', 'd']"
      ]
     },
     "execution_count": 77,
     "metadata": {},
     "output_type": "execute_result"
    }
   ],
   "source": [
    "list(itertools.islice('Aardvark', 4))"
   ]
  },
  {
   "cell_type": "code",
   "execution_count": 78,
   "metadata": {
    "ExecuteTime": {
     "end_time": "2020-05-25T02:15:13.059591Z",
     "start_time": "2020-05-25T02:15:13.050613Z"
    }
   },
   "outputs": [
    {
     "data": {
      "text/plain": [
       "['v', 'a', 'r']"
      ]
     },
     "execution_count": 78,
     "metadata": {},
     "output_type": "execute_result"
    }
   ],
   "source": [
    "list(itertools.islice('Aardvark', 4, 7))"
   ]
  },
  {
   "cell_type": "code",
   "execution_count": 79,
   "metadata": {
    "ExecuteTime": {
     "end_time": "2020-05-25T02:15:13.571223Z",
     "start_time": "2020-05-25T02:15:13.563242Z"
    }
   },
   "outputs": [
    {
     "data": {
      "text/plain": [
       "['a', 'd', 'a']"
      ]
     },
     "execution_count": 79,
     "metadata": {},
     "output_type": "execute_result"
    }
   ],
   "source": [
    "list(itertools.islice('Aardvark', 1, 7, 2))"
   ]
  },
  {
   "cell_type": "markdown",
   "metadata": {},
   "source": [
    "### 매핑 제너레이터"
   ]
  },
  {
   "cell_type": "code",
   "execution_count": 80,
   "metadata": {
    "ExecuteTime": {
     "end_time": "2020-05-25T02:15:14.561577Z",
     "start_time": "2020-05-25T02:15:14.550604Z"
    }
   },
   "outputs": [
    {
     "data": {
      "text/plain": [
       "[5, 9, 11, 19, 26, 32, 35, 35, 44, 45]"
      ]
     },
     "execution_count": 80,
     "metadata": {},
     "output_type": "execute_result"
    }
   ],
   "source": [
    "# 예제 14-15 itertools.accumulate() 제너레이터 함수 예\n",
    "sample = [5, 4, 2, 8, 7, 6, 3, 0, 9, 1]\n",
    "import itertools\n",
    "list(itertools.accumulate(sample))"
   ]
  },
  {
   "cell_type": "code",
   "execution_count": 81,
   "metadata": {
    "ExecuteTime": {
     "end_time": "2020-05-25T02:15:14.742094Z",
     "start_time": "2020-05-25T02:15:14.734114Z"
    }
   },
   "outputs": [
    {
     "data": {
      "text/plain": [
       "[5, 4, 2, 2, 2, 2, 2, 0, 0, 0]"
      ]
     },
     "execution_count": 81,
     "metadata": {},
     "output_type": "execute_result"
    }
   ],
   "source": [
    "list(itertools.accumulate(sample, min))"
   ]
  },
  {
   "cell_type": "code",
   "execution_count": 82,
   "metadata": {
    "ExecuteTime": {
     "end_time": "2020-05-25T02:15:14.913633Z",
     "start_time": "2020-05-25T02:15:14.908647Z"
    }
   },
   "outputs": [
    {
     "data": {
      "text/plain": [
       "[5, 5, 5, 8, 8, 8, 8, 8, 9, 9]"
      ]
     },
     "execution_count": 82,
     "metadata": {},
     "output_type": "execute_result"
    }
   ],
   "source": [
    "list(itertools.accumulate(sample, max))"
   ]
  },
  {
   "cell_type": "code",
   "execution_count": 83,
   "metadata": {
    "ExecuteTime": {
     "end_time": "2020-05-25T02:15:15.181917Z",
     "start_time": "2020-05-25T02:15:15.178924Z"
    }
   },
   "outputs": [],
   "source": [
    "import operator"
   ]
  },
  {
   "cell_type": "code",
   "execution_count": 84,
   "metadata": {
    "ExecuteTime": {
     "end_time": "2020-05-25T02:15:15.448206Z",
     "start_time": "2020-05-25T02:15:15.438233Z"
    }
   },
   "outputs": [
    {
     "data": {
      "text/plain": [
       "[5, 20, 40, 320, 2240, 13440, 40320, 0, 0, 0]"
      ]
     },
     "execution_count": 84,
     "metadata": {},
     "output_type": "execute_result"
    }
   ],
   "source": [
    "list(itertools.accumulate(sample, operator.mul))"
   ]
  },
  {
   "cell_type": "code",
   "execution_count": 85,
   "metadata": {
    "ExecuteTime": {
     "end_time": "2020-05-25T02:15:15.587831Z",
     "start_time": "2020-05-25T02:15:15.582844Z"
    }
   },
   "outputs": [
    {
     "data": {
      "text/plain": [
       "[1, 2, 6, 24, 120, 720, 5040, 40320, 362880, 3628800]"
      ]
     },
     "execution_count": 85,
     "metadata": {},
     "output_type": "execute_result"
    }
   ],
   "source": [
    "list(itertools.accumulate(range(1, 11), operator.mul))"
   ]
  },
  {
   "cell_type": "code",
   "execution_count": 86,
   "metadata": {
    "ExecuteTime": {
     "end_time": "2020-05-25T02:15:15.830184Z",
     "start_time": "2020-05-25T02:15:15.825197Z"
    }
   },
   "outputs": [
    {
     "data": {
      "text/plain": [
       "[(1, 'a'),\n",
       " (2, 'l'),\n",
       " (3, 'b'),\n",
       " (4, 'a'),\n",
       " (5, 't'),\n",
       " (6, 'r'),\n",
       " (7, 'o'),\n",
       " (8, 'z')]"
      ]
     },
     "execution_count": 86,
     "metadata": {},
     "output_type": "execute_result"
    }
   ],
   "source": [
    "# 예제 14-16 매핑 제너레이터 함수 예\n",
    "list(enumerate('albatroz', 1))"
   ]
  },
  {
   "cell_type": "code",
   "execution_count": 87,
   "metadata": {
    "ExecuteTime": {
     "end_time": "2020-05-25T02:15:16.045607Z",
     "start_time": "2020-05-25T02:15:16.040621Z"
    }
   },
   "outputs": [],
   "source": [
    "import operator"
   ]
  },
  {
   "cell_type": "code",
   "execution_count": 88,
   "metadata": {
    "ExecuteTime": {
     "end_time": "2020-05-25T02:15:16.123400Z",
     "start_time": "2020-05-25T02:15:16.118414Z"
    }
   },
   "outputs": [
    {
     "data": {
      "text/plain": [
       "[0, 1, 4, 9, 16, 25, 36, 49, 64, 81, 100]"
      ]
     },
     "execution_count": 88,
     "metadata": {},
     "output_type": "execute_result"
    }
   ],
   "source": [
    "# 정수의 제곱을 구한다.\n",
    "list(map(operator.mul, range(11), range(11)))"
   ]
  },
  {
   "cell_type": "code",
   "execution_count": 89,
   "metadata": {
    "ExecuteTime": {
     "end_time": "2020-05-25T02:15:16.410633Z",
     "start_time": "2020-05-25T02:15:16.403651Z"
    }
   },
   "outputs": [
    {
     "data": {
      "text/plain": [
       "[0, 4, 16]"
      ]
     },
     "execution_count": 89,
     "metadata": {},
     "output_type": "execute_result"
    }
   ],
   "source": [
    "# 나란히 가져온 숫자를 곱한다. range(11)에서 0, 1, 2 밖에 안 빼냄\n",
    "list(map(operator.mul, range(11), [2, 4, 8]))"
   ]
  },
  {
   "cell_type": "code",
   "execution_count": 90,
   "metadata": {
    "ExecuteTime": {
     "end_time": "2020-05-25T02:15:16.475460Z",
     "start_time": "2020-05-25T02:15:16.468478Z"
    }
   },
   "outputs": [
    {
     "data": {
      "text/plain": [
       "[(0, 2), (1, 4), (2, 8)]"
      ]
     },
     "execution_count": 90,
     "metadata": {},
     "output_type": "execute_result"
    }
   ],
   "source": [
    "# zip() 내장 함수의 연산을 모방한다.\n",
    "list(map(lambda a, b: (a, b), range(11), [2, 4, 8]))"
   ]
  },
  {
   "cell_type": "code",
   "execution_count": 91,
   "metadata": {
    "ExecuteTime": {
     "end_time": "2020-05-25T02:15:16.624062Z",
     "start_time": "2020-05-25T02:15:16.619075Z"
    }
   },
   "outputs": [
    {
     "data": {
      "text/plain": [
       "['a', 'll', 'bbb', 'aaaa', 'ttttt', 'rrrrrr', 'ooooooo', 'zzzzzzzz']"
      ]
     },
     "execution_count": 91,
     "metadata": {},
     "output_type": "execute_result"
    }
   ],
   "source": [
    "# 1부터 시작해서 단어 안의 각 글자를 인덱스만큼 반복한다.\n",
    "import itertools\n",
    "list(itertools.starmap(operator.mul, enumerate('albatroz', 1)))"
   ]
  },
  {
   "cell_type": "code",
   "execution_count": 92,
   "metadata": {
    "ExecuteTime": {
     "end_time": "2020-05-25T02:15:16.742745Z",
     "start_time": "2020-05-25T02:15:16.738756Z"
    }
   },
   "outputs": [],
   "source": [
    "sample = [5, 4, 2, 8, 7, 6, 3, 0, 9, 1]"
   ]
  },
  {
   "cell_type": "code",
   "execution_count": 93,
   "metadata": {
    "ExecuteTime": {
     "end_time": "2020-05-25T02:15:17.063887Z",
     "start_time": "2020-05-25T02:15:17.058900Z"
    }
   },
   "outputs": [
    {
     "data": {
      "text/plain": [
       "[5.0,\n",
       " 4.5,\n",
       " 3.6666666666666665,\n",
       " 4.75,\n",
       " 5.2,\n",
       " 5.333333333333333,\n",
       " 5.0,\n",
       " 4.375,\n",
       " 4.888888888888889,\n",
       " 4.5]"
      ]
     },
     "execution_count": 93,
     "metadata": {},
     "output_type": "execute_result"
    }
   ],
   "source": [
    "# 이동 평균 구하기\n",
    "list(itertools.starmap(lambda a, b: b/a,\n",
    "                       enumerate(itertools.accumulate(sample), 1)))"
   ]
  },
  {
   "cell_type": "markdown",
   "metadata": {},
   "source": [
    "### 병합 제너레이터 함수"
   ]
  },
  {
   "cell_type": "code",
   "execution_count": 94,
   "metadata": {
    "ExecuteTime": {
     "end_time": "2020-05-25T02:15:17.207504Z",
     "start_time": "2020-05-25T02:15:17.201521Z"
    }
   },
   "outputs": [
    {
     "data": {
      "text/plain": [
       "['A', 'B', 'C', 0, 1]"
      ]
     },
     "execution_count": 94,
     "metadata": {},
     "output_type": "execute_result"
    }
   ],
   "source": [
    "# 예제 14-17 병합 생성자 함수 예\n",
    "\n",
    "# 일반적으로 chain()은 두 개 이상의 반복형을 전달해서 호출한다.\n",
    "list(itertools.chain('ABC', range(2)))"
   ]
  },
  {
   "cell_type": "code",
   "execution_count": 95,
   "metadata": {
    "ExecuteTime": {
     "end_time": "2020-05-25T02:15:17.575519Z",
     "start_time": "2020-05-25T02:15:17.569535Z"
    }
   },
   "outputs": [
    {
     "data": {
      "text/plain": [
       "[(0, 'A'), (1, 'B'), (2, 'C')]"
      ]
     },
     "execution_count": 95,
     "metadata": {},
     "output_type": "execute_result"
    }
   ],
   "source": [
    "# 반복형을 하나만 입력받으면, chain()은 별로 유용한 작업을 수행하지 않는다.\n",
    "list(itertools.chain(enumerate('ABC')))"
   ]
  },
  {
   "cell_type": "code",
   "execution_count": 96,
   "metadata": {
    "ExecuteTime": {
     "end_time": "2020-05-25T02:15:17.642341Z",
     "start_time": "2020-05-25T02:15:17.636357Z"
    }
   },
   "outputs": [
    {
     "data": {
      "text/plain": [
       "[0, 'A', 1, 'B', 2, 'C']"
      ]
     },
     "execution_count": 96,
     "metadata": {},
     "output_type": "execute_result"
    }
   ],
   "source": [
    "# chain.from_iterable()은 반복형에서 항목을 하나씩 가져와서, 각 항목이 반복형이면 시퀀스 안에 연결한다.\n",
    "list(itertools.chain.from_iterable(enumerate('ABC')))"
   ]
  },
  {
   "cell_type": "code",
   "execution_count": 97,
   "metadata": {
    "ExecuteTime": {
     "end_time": "2020-05-25T02:15:17.711160Z",
     "start_time": "2020-05-25T02:15:17.701185Z"
    }
   },
   "outputs": [
    {
     "data": {
      "text/plain": [
       "[('A', 0), ('B', 1), ('C', 2)]"
      ]
     },
     "execution_count": 97,
     "metadata": {},
     "output_type": "execute_result"
    }
   ],
   "source": [
    "# 일반적으로 zip()은 두 개의 반복형을 이용해서 두 항목으로 구성된 튜플의 열을 만든다.\n",
    "list(zip('ABC', range(5)))"
   ]
  },
  {
   "cell_type": "code",
   "execution_count": 98,
   "metadata": {
    "ExecuteTime": {
     "end_time": "2020-05-25T02:15:18.018336Z",
     "start_time": "2020-05-25T02:15:18.010358Z"
    }
   },
   "outputs": [
    {
     "data": {
      "text/plain": [
       "[('A', 0, 10), ('B', 1, 20), ('C', 2, 30)]"
      ]
     },
     "execution_count": 98,
     "metadata": {},
     "output_type": "execute_result"
    }
   ],
   "source": [
    "# zip()은 여러 개의 반복형도 병렬로 소비할 수 있지만, 가장 짧은 반복형이 끝나자마자 생성을 중단한다.\n",
    "list(zip('ABC', range(5), [10, 20, 30, 40]))"
   ]
  },
  {
   "cell_type": "code",
   "execution_count": 99,
   "metadata": {
    "ExecuteTime": {
     "end_time": "2020-05-25T02:15:18.089148Z",
     "start_time": "2020-05-25T02:15:18.078178Z"
    }
   },
   "outputs": [
    {
     "data": {
      "text/plain": [
       "[('A', 0), ('B', 1), ('C', 2), (None, 3), (None, 4)]"
      ]
     },
     "execution_count": 99,
     "metadata": {},
     "output_type": "execute_result"
    }
   ],
   "source": [
    "# itertools.zip_longest()는 zip()과 비슷하지만, 필요에 따라 튜플을 None으로 채워가며 모든 반복형을 소모할 때 까지 생성한다.\n",
    "list(itertools.zip_longest('ABC', range(5)))"
   ]
  },
  {
   "cell_type": "code",
   "execution_count": 100,
   "metadata": {
    "ExecuteTime": {
     "end_time": "2020-05-25T02:15:18.161952Z",
     "start_time": "2020-05-25T02:15:18.156966Z"
    }
   },
   "outputs": [
    {
     "data": {
      "text/plain": [
       "[('A', 0), ('B', 1), ('C', 2), ('?', 3), ('?', 4)]"
      ]
     },
     "execution_count": 100,
     "metadata": {},
     "output_type": "execute_result"
    }
   ],
   "source": [
    "# fillvalue 키워드 인수를 이용해서 빈 항목을 채우는 값으로 사용한다. \n",
    "list(itertools.zip_longest('ABC', range(5), fillvalue='?'))"
   ]
  },
  {
   "cell_type": "code",
   "execution_count": 101,
   "metadata": {
    "ExecuteTime": {
     "end_time": "2020-05-25T02:15:18.542934Z",
     "start_time": "2020-05-25T02:15:18.539942Z"
    }
   },
   "outputs": [],
   "source": [
    "# 예제 14-18 itertools.product() 제너레이터 함수 예"
   ]
  },
  {
   "cell_type": "code",
   "execution_count": 102,
   "metadata": {
    "ExecuteTime": {
     "end_time": "2020-05-25T02:15:18.576843Z",
     "start_time": "2020-05-25T02:15:18.570859Z"
    }
   },
   "outputs": [
    {
     "data": {
      "text/plain": [
       "[('A', 0), ('A', 1), ('B', 0), ('B', 1), ('C', 0), ('C', 1)]"
      ]
     },
     "execution_count": 102,
     "metadata": {},
     "output_type": "execute_result"
    }
   ],
   "source": [
    "list(itertools.product('ABC', range(2)))"
   ]
  },
  {
   "cell_type": "code",
   "execution_count": 103,
   "metadata": {
    "ExecuteTime": {
     "end_time": "2020-05-25T02:15:18.661617Z",
     "start_time": "2020-05-25T02:15:18.657627Z"
    }
   },
   "outputs": [],
   "source": [
    "suits = 'spades hearts diamonds clubs'.split()"
   ]
  },
  {
   "cell_type": "code",
   "execution_count": 104,
   "metadata": {
    "ExecuteTime": {
     "end_time": "2020-05-25T02:15:18.928903Z",
     "start_time": "2020-05-25T02:15:18.921922Z"
    }
   },
   "outputs": [
    {
     "data": {
      "text/plain": [
       "[('A', 'spades'),\n",
       " ('A', 'hearts'),\n",
       " ('A', 'diamonds'),\n",
       " ('A', 'clubs'),\n",
       " ('K', 'spades'),\n",
       " ('K', 'hearts'),\n",
       " ('K', 'diamonds'),\n",
       " ('K', 'clubs')]"
      ]
     },
     "execution_count": 104,
     "metadata": {},
     "output_type": "execute_result"
    }
   ],
   "source": [
    "list(itertools.product('AK', suits))"
   ]
  },
  {
   "cell_type": "code",
   "execution_count": 105,
   "metadata": {
    "ExecuteTime": {
     "end_time": "2020-05-25T02:15:18.988743Z",
     "start_time": "2020-05-25T02:15:18.983756Z"
    }
   },
   "outputs": [
    {
     "data": {
      "text/plain": [
       "[('A',), ('B',), ('C',)]"
      ]
     },
     "execution_count": 105,
     "metadata": {},
     "output_type": "execute_result"
    }
   ],
   "source": [
    "list(itertools.product('ABC'))"
   ]
  },
  {
   "cell_type": "code",
   "execution_count": 106,
   "metadata": {
    "ExecuteTime": {
     "end_time": "2020-05-25T02:15:19.413606Z",
     "start_time": "2020-05-25T02:15:19.408620Z"
    }
   },
   "outputs": [
    {
     "data": {
      "text/plain": [
       "[('A', 'A'),\n",
       " ('A', 'B'),\n",
       " ('A', 'C'),\n",
       " ('B', 'A'),\n",
       " ('B', 'B'),\n",
       " ('B', 'C'),\n",
       " ('C', 'A'),\n",
       " ('C', 'B'),\n",
       " ('C', 'C')]"
      ]
     },
     "execution_count": 106,
     "metadata": {},
     "output_type": "execute_result"
    }
   ],
   "source": [
    "list(itertools.product('ABC', repeat=2))"
   ]
  },
  {
   "cell_type": "code",
   "execution_count": 107,
   "metadata": {
    "ExecuteTime": {
     "end_time": "2020-05-25T02:15:19.471453Z",
     "start_time": "2020-05-25T02:15:19.465469Z"
    }
   },
   "outputs": [
    {
     "data": {
      "text/plain": [
       "[(0, 0, 0),\n",
       " (0, 0, 1),\n",
       " (0, 1, 0),\n",
       " (0, 1, 1),\n",
       " (1, 0, 0),\n",
       " (1, 0, 1),\n",
       " (1, 1, 0),\n",
       " (1, 1, 1)]"
      ]
     },
     "execution_count": 107,
     "metadata": {},
     "output_type": "execute_result"
    }
   ],
   "source": [
    "list(itertools.product(range(2), repeat=3))"
   ]
  },
  {
   "cell_type": "code",
   "execution_count": 108,
   "metadata": {
    "ExecuteTime": {
     "end_time": "2020-05-25T02:15:19.540270Z",
     "start_time": "2020-05-25T02:15:19.533289Z"
    }
   },
   "outputs": [],
   "source": [
    "rows = itertools.product('AB', range(2), repeat=2)"
   ]
  },
  {
   "cell_type": "code",
   "execution_count": 109,
   "metadata": {
    "ExecuteTime": {
     "end_time": "2020-05-25T02:15:19.731757Z",
     "start_time": "2020-05-25T02:15:19.722781Z"
    }
   },
   "outputs": [
    {
     "name": "stdout",
     "output_type": "stream",
     "text": [
      "('A', 0, 'A', 0)\n",
      "('A', 0, 'A', 1)\n",
      "('A', 0, 'B', 0)\n",
      "('A', 0, 'B', 1)\n",
      "('A', 1, 'A', 0)\n",
      "('A', 1, 'A', 1)\n",
      "('A', 1, 'B', 0)\n",
      "('A', 1, 'B', 1)\n",
      "('B', 0, 'A', 0)\n",
      "('B', 0, 'A', 1)\n",
      "('B', 0, 'B', 0)\n",
      "('B', 0, 'B', 1)\n",
      "('B', 1, 'A', 0)\n",
      "('B', 1, 'A', 1)\n",
      "('B', 1, 'B', 0)\n",
      "('B', 1, 'B', 1)\n"
     ]
    }
   ],
   "source": [
    "for row in rows: print(row)"
   ]
  },
  {
   "cell_type": "code",
   "execution_count": 110,
   "metadata": {
    "ExecuteTime": {
     "end_time": "2020-05-25T02:15:19.807554Z",
     "start_time": "2020-05-25T02:15:19.804562Z"
    }
   },
   "outputs": [],
   "source": [
    "# 예제 14-19 count(), cycle(), repeat() 사용 예"
   ]
  },
  {
   "cell_type": "code",
   "execution_count": 111,
   "metadata": {
    "ExecuteTime": {
     "end_time": "2020-05-25T02:15:19.999042Z",
     "start_time": "2020-05-25T02:15:19.995053Z"
    }
   },
   "outputs": [],
   "source": [
    "ct = itertools.count()"
   ]
  },
  {
   "cell_type": "code",
   "execution_count": 112,
   "metadata": {
    "ExecuteTime": {
     "end_time": "2020-05-25T02:15:20.339134Z",
     "start_time": "2020-05-25T02:15:20.335144Z"
    }
   },
   "outputs": [
    {
     "data": {
      "text/plain": [
       "0"
      ]
     },
     "execution_count": 112,
     "metadata": {},
     "output_type": "execute_result"
    }
   ],
   "source": [
    "next(ct)"
   ]
  },
  {
   "cell_type": "code",
   "execution_count": 113,
   "metadata": {
    "ExecuteTime": {
     "end_time": "2020-05-25T02:15:20.469784Z",
     "start_time": "2020-05-25T02:15:20.460810Z"
    }
   },
   "outputs": [
    {
     "data": {
      "text/plain": [
       "(1, 2, 3)"
      ]
     },
     "execution_count": 113,
     "metadata": {},
     "output_type": "execute_result"
    }
   ],
   "source": [
    "next(ct), next(ct), next(ct)"
   ]
  },
  {
   "cell_type": "code",
   "execution_count": 114,
   "metadata": {
    "ExecuteTime": {
     "end_time": "2020-05-25T02:15:20.528627Z",
     "start_time": "2020-05-25T02:15:20.523640Z"
    }
   },
   "outputs": [
    {
     "data": {
      "text/plain": [
       "[1, 1.3, 1.6]"
      ]
     },
     "execution_count": 114,
     "metadata": {},
     "output_type": "execute_result"
    }
   ],
   "source": [
    "list(itertools.islice(itertools.count(1, .3), 3))"
   ]
  },
  {
   "cell_type": "code",
   "execution_count": 115,
   "metadata": {
    "ExecuteTime": {
     "end_time": "2020-05-25T02:15:20.757017Z",
     "start_time": "2020-05-25T02:15:20.753027Z"
    }
   },
   "outputs": [],
   "source": [
    "cy = itertools.cycle('ABC')"
   ]
  },
  {
   "cell_type": "code",
   "execution_count": 116,
   "metadata": {
    "ExecuteTime": {
     "end_time": "2020-05-25T02:15:20.830820Z",
     "start_time": "2020-05-25T02:15:20.825833Z"
    }
   },
   "outputs": [
    {
     "data": {
      "text/plain": [
       "'A'"
      ]
     },
     "execution_count": 116,
     "metadata": {},
     "output_type": "execute_result"
    }
   ],
   "source": [
    "next(cy)"
   ]
  },
  {
   "cell_type": "code",
   "execution_count": 117,
   "metadata": {
    "ExecuteTime": {
     "end_time": "2020-05-25T02:15:21.228756Z",
     "start_time": "2020-05-25T02:15:21.223769Z"
    }
   },
   "outputs": [
    {
     "data": {
      "text/plain": [
       "['B', 'C', 'A', 'B', 'C', 'A', 'B']"
      ]
     },
     "execution_count": 117,
     "metadata": {},
     "output_type": "execute_result"
    }
   ],
   "source": [
    "list(itertools.islice(cy, 7))"
   ]
  },
  {
   "cell_type": "code",
   "execution_count": 118,
   "metadata": {
    "ExecuteTime": {
     "end_time": "2020-05-25T02:15:21.328490Z",
     "start_time": "2020-05-25T02:15:21.324500Z"
    }
   },
   "outputs": [],
   "source": [
    "rp = itertools.repeat(7)"
   ]
  },
  {
   "cell_type": "code",
   "execution_count": 119,
   "metadata": {
    "ExecuteTime": {
     "end_time": "2020-05-25T02:15:21.396308Z",
     "start_time": "2020-05-25T02:15:21.390325Z"
    }
   },
   "outputs": [
    {
     "data": {
      "text/plain": [
       "(7, 7)"
      ]
     },
     "execution_count": 119,
     "metadata": {},
     "output_type": "execute_result"
    }
   ],
   "source": [
    "next(rp), next(rp)"
   ]
  },
  {
   "cell_type": "code",
   "execution_count": 120,
   "metadata": {
    "ExecuteTime": {
     "end_time": "2020-05-25T02:15:21.636665Z",
     "start_time": "2020-05-25T02:15:21.630682Z"
    }
   },
   "outputs": [
    {
     "data": {
      "text/plain": [
       "[8, 8, 8, 8]"
      ]
     },
     "execution_count": 120,
     "metadata": {},
     "output_type": "execute_result"
    }
   ],
   "source": [
    "list(itertools.repeat(8, 4))"
   ]
  },
  {
   "cell_type": "code",
   "execution_count": 121,
   "metadata": {
    "ExecuteTime": {
     "end_time": "2020-05-25T02:15:21.714458Z",
     "start_time": "2020-05-25T02:15:21.709471Z"
    }
   },
   "outputs": [
    {
     "data": {
      "text/plain": [
       "[0, 5, 10, 15, 20, 25, 30, 35, 40, 45, 50]"
      ]
     },
     "execution_count": 121,
     "metadata": {},
     "output_type": "execute_result"
    }
   ],
   "source": [
    "list(map(operator.mul, range(11), itertools.repeat(5)))"
   ]
  },
  {
   "cell_type": "code",
   "execution_count": 122,
   "metadata": {
    "ExecuteTime": {
     "end_time": "2020-05-25T02:15:22.083472Z",
     "start_time": "2020-05-25T02:15:22.078484Z"
    }
   },
   "outputs": [
    {
     "data": {
      "text/plain": [
       "[('A', 'B'), ('A', 'C'), ('B', 'C')]"
      ]
     },
     "execution_count": 122,
     "metadata": {},
     "output_type": "execute_result"
    }
   ],
   "source": [
    "# 예제 14-20 하나의 입력 항목마다 값을 여러 개 생성하는 순열 조합 제너레이터 함수\n",
    "list(itertools.combinations('ABC', 2))"
   ]
  },
  {
   "cell_type": "code",
   "execution_count": 123,
   "metadata": {
    "ExecuteTime": {
     "end_time": "2020-05-25T02:15:22.187198Z",
     "start_time": "2020-05-25T02:15:22.177224Z"
    }
   },
   "outputs": [
    {
     "data": {
      "text/plain": [
       "[('A', 'A'), ('A', 'B'), ('A', 'C'), ('B', 'B'), ('B', 'C'), ('C', 'C')]"
      ]
     },
     "execution_count": 123,
     "metadata": {},
     "output_type": "execute_result"
    }
   ],
   "source": [
    "list(itertools.combinations_with_replacement('ABC', 2))"
   ]
  },
  {
   "cell_type": "code",
   "execution_count": 124,
   "metadata": {
    "ExecuteTime": {
     "end_time": "2020-05-25T02:15:22.265984Z",
     "start_time": "2020-05-25T02:15:22.260997Z"
    }
   },
   "outputs": [
    {
     "data": {
      "text/plain": [
       "[('A', 'B'), ('A', 'C'), ('B', 'A'), ('B', 'C'), ('C', 'A'), ('C', 'B')]"
      ]
     },
     "execution_count": 124,
     "metadata": {},
     "output_type": "execute_result"
    }
   ],
   "source": [
    "list(itertools.permutations('ABC', 2))"
   ]
  },
  {
   "cell_type": "code",
   "execution_count": 125,
   "metadata": {
    "ExecuteTime": {
     "end_time": "2020-05-25T02:15:23.578477Z",
     "start_time": "2020-05-25T02:15:23.570498Z"
    }
   },
   "outputs": [
    {
     "data": {
      "text/plain": [
       "[('A', 'A'),\n",
       " ('A', 'B'),\n",
       " ('A', 'C'),\n",
       " ('B', 'A'),\n",
       " ('B', 'B'),\n",
       " ('B', 'C'),\n",
       " ('C', 'A'),\n",
       " ('C', 'B'),\n",
       " ('C', 'C')]"
      ]
     },
     "execution_count": 125,
     "metadata": {},
     "output_type": "execute_result"
    }
   ],
   "source": [
    "list(itertools.product('ABC', repeat=2))"
   ]
  },
  {
   "cell_type": "code",
   "execution_count": 126,
   "metadata": {
    "ExecuteTime": {
     "end_time": "2020-05-25T02:15:23.891639Z",
     "start_time": "2020-05-25T02:15:23.885655Z"
    }
   },
   "outputs": [
    {
     "data": {
      "text/plain": [
       "[('L', <itertools._grouper at 0x203a432f648>),\n",
       " ('A', <itertools._grouper at 0x203a432fdc8>),\n",
       " ('G', <itertools._grouper at 0x203a432f188>)]"
      ]
     },
     "execution_count": 126,
     "metadata": {},
     "output_type": "execute_result"
    }
   ],
   "source": [
    "# 예제 14-21 itertools.groupby()와 내장 함수 reversed()의 사용 예\n",
    "list(itertools.groupby('LLLLAAGGG'))"
   ]
  },
  {
   "cell_type": "code",
   "execution_count": 127,
   "metadata": {
    "ExecuteTime": {
     "end_time": "2020-05-25T02:15:23.953474Z",
     "start_time": "2020-05-25T02:15:23.948488Z"
    }
   },
   "outputs": [
    {
     "name": "stdout",
     "output_type": "stream",
     "text": [
      "L -> ['L', 'L', 'L', 'L']\n",
      "A -> ['A', 'A', 'A']\n",
      "G -> ['G', 'G']\n"
     ]
    }
   ],
   "source": [
    "for char, group in itertools.groupby('LLLLAAAGG'):\n",
    "    print(char, '->', list(group))"
   ]
  },
  {
   "cell_type": "code",
   "execution_count": 128,
   "metadata": {
    "ExecuteTime": {
     "end_time": "2020-05-25T02:15:24.331464Z",
     "start_time": "2020-05-25T02:15:24.327474Z"
    }
   },
   "outputs": [],
   "source": [
    "animals = ['duck', 'eagle', 'rat', 'giraffe', 'bear', 'bat', 'dolphin', 'shark', 'lion']"
   ]
  },
  {
   "cell_type": "code",
   "execution_count": 129,
   "metadata": {
    "ExecuteTime": {
     "end_time": "2020-05-25T02:15:24.402279Z",
     "start_time": "2020-05-25T02:15:24.396292Z"
    }
   },
   "outputs": [],
   "source": [
    "animals.sort(key=len)"
   ]
  },
  {
   "cell_type": "code",
   "execution_count": 130,
   "metadata": {
    "ExecuteTime": {
     "end_time": "2020-05-25T02:15:24.505000Z",
     "start_time": "2020-05-25T02:15:24.500014Z"
    }
   },
   "outputs": [
    {
     "data": {
      "text/plain": [
       "['rat', 'bat', 'duck', 'bear', 'lion', 'eagle', 'shark', 'giraffe', 'dolphin']"
      ]
     },
     "execution_count": 130,
     "metadata": {},
     "output_type": "execute_result"
    }
   ],
   "source": [
    "animals"
   ]
  },
  {
   "cell_type": "code",
   "execution_count": 131,
   "metadata": {
    "ExecuteTime": {
     "end_time": "2020-05-25T02:15:24.769296Z",
     "start_time": "2020-05-25T02:15:24.759321Z"
    }
   },
   "outputs": [
    {
     "name": "stdout",
     "output_type": "stream",
     "text": [
      "3 -> ['rat', 'bat']\n",
      "4 -> ['duck', 'bear', 'lion']\n",
      "5 -> ['eagle', 'shark']\n",
      "7 -> ['giraffe', 'dolphin']\n"
     ]
    }
   ],
   "source": [
    "for length, group in itertools.groupby(animals, len):\n",
    "    print(length, '->', list(group))"
   ]
  },
  {
   "cell_type": "code",
   "execution_count": 132,
   "metadata": {
    "ExecuteTime": {
     "end_time": "2020-05-25T02:15:24.834122Z",
     "start_time": "2020-05-25T02:15:24.827140Z"
    }
   },
   "outputs": [
    {
     "name": "stdout",
     "output_type": "stream",
     "text": [
      "7 -> ['dolphin', 'giraffe']\n",
      "5 -> ['shark', 'eagle']\n",
      "4 -> ['lion', 'bear', 'duck']\n",
      "3 -> ['bat', 'rat']\n"
     ]
    }
   ],
   "source": [
    "for length, group in itertools.groupby(reversed(animals), len):\n",
    "    print(length, '->', list(group))"
   ]
  },
  {
   "cell_type": "code",
   "execution_count": 133,
   "metadata": {
    "ExecuteTime": {
     "end_time": "2020-05-25T02:15:24.972751Z",
     "start_time": "2020-05-25T02:15:24.968761Z"
    }
   },
   "outputs": [
    {
     "data": {
      "text/plain": [
       "[<itertools._tee at 0x203a42f9e48>, <itertools._tee at 0x203a43520c8>]"
      ]
     },
     "execution_count": 133,
     "metadata": {},
     "output_type": "execute_result"
    }
   ],
   "source": [
    "# 예제 14-22 itertools.tee()는 여러 개의 제너레이터를 생성하며, 각 제너레이터는 입력된 내용을 그대로 생성한다.\n",
    "list(itertools.tee('ABC'))"
   ]
  },
  {
   "cell_type": "code",
   "execution_count": 134,
   "metadata": {
    "ExecuteTime": {
     "end_time": "2020-05-25T02:15:25.272947Z",
     "start_time": "2020-05-25T02:15:25.269955Z"
    }
   },
   "outputs": [],
   "source": [
    "g1, g2 = itertools.tee('ABC')"
   ]
  },
  {
   "cell_type": "code",
   "execution_count": 135,
   "metadata": {
    "ExecuteTime": {
     "end_time": "2020-05-25T02:15:25.433519Z",
     "start_time": "2020-05-25T02:15:25.428531Z"
    }
   },
   "outputs": [
    {
     "data": {
      "text/plain": [
       "'A'"
      ]
     },
     "execution_count": 135,
     "metadata": {},
     "output_type": "execute_result"
    }
   ],
   "source": [
    "next(g1)"
   ]
  },
  {
   "cell_type": "code",
   "execution_count": 136,
   "metadata": {
    "ExecuteTime": {
     "end_time": "2020-05-25T02:15:25.508320Z",
     "start_time": "2020-05-25T02:15:25.502335Z"
    }
   },
   "outputs": [
    {
     "data": {
      "text/plain": [
       "'A'"
      ]
     },
     "execution_count": 136,
     "metadata": {},
     "output_type": "execute_result"
    }
   ],
   "source": [
    "next(g2)"
   ]
  },
  {
   "cell_type": "code",
   "execution_count": 137,
   "metadata": {
    "ExecuteTime": {
     "end_time": "2020-05-25T02:15:25.578132Z",
     "start_time": "2020-05-25T02:15:25.574143Z"
    }
   },
   "outputs": [
    {
     "data": {
      "text/plain": [
       "'B'"
      ]
     },
     "execution_count": 137,
     "metadata": {},
     "output_type": "execute_result"
    }
   ],
   "source": [
    "next(g2)"
   ]
  },
  {
   "cell_type": "code",
   "execution_count": 138,
   "metadata": {
    "ExecuteTime": {
     "end_time": "2020-05-25T02:15:25.813502Z",
     "start_time": "2020-05-25T02:15:25.808516Z"
    }
   },
   "outputs": [
    {
     "data": {
      "text/plain": [
       "['B', 'C']"
      ]
     },
     "execution_count": 138,
     "metadata": {},
     "output_type": "execute_result"
    }
   ],
   "source": [
    "list(g1)"
   ]
  },
  {
   "cell_type": "code",
   "execution_count": 139,
   "metadata": {
    "ExecuteTime": {
     "end_time": "2020-05-25T02:15:25.885311Z",
     "start_time": "2020-05-25T02:15:25.880324Z"
    }
   },
   "outputs": [
    {
     "data": {
      "text/plain": [
       "['C']"
      ]
     },
     "execution_count": 139,
     "metadata": {},
     "output_type": "execute_result"
    }
   ],
   "source": [
    "list(g2)"
   ]
  },
  {
   "cell_type": "code",
   "execution_count": 140,
   "metadata": {
    "ExecuteTime": {
     "end_time": "2020-05-25T02:15:26.068821Z",
     "start_time": "2020-05-25T02:15:26.062837Z"
    }
   },
   "outputs": [
    {
     "data": {
      "text/plain": [
       "[('A', 'A'), ('B', 'B'), ('C', 'C')]"
      ]
     },
     "execution_count": 140,
     "metadata": {},
     "output_type": "execute_result"
    }
   ],
   "source": [
    "list(zip(*itertools.tee('ABC')))"
   ]
  },
  {
   "cell_type": "markdown",
   "metadata": {},
   "source": [
    "## 14.10 파이썬 3.3의 새로운 구문: yield from"
   ]
  },
  {
   "cell_type": "code",
   "execution_count": 141,
   "metadata": {
    "ExecuteTime": {
     "end_time": "2020-05-25T02:15:26.483715Z",
     "start_time": "2020-05-25T02:15:26.476731Z"
    }
   },
   "outputs": [],
   "source": [
    "def chain(*iterables):\n",
    "    for it in iterables:\n",
    "        for i in it:\n",
    "            yield i"
   ]
  },
  {
   "cell_type": "code",
   "execution_count": 142,
   "metadata": {
    "ExecuteTime": {
     "end_time": "2020-05-25T02:15:26.539563Z",
     "start_time": "2020-05-25T02:15:26.535573Z"
    }
   },
   "outputs": [],
   "source": [
    "s = 'ABC'"
   ]
  },
  {
   "cell_type": "code",
   "execution_count": 143,
   "metadata": {
    "ExecuteTime": {
     "end_time": "2020-05-25T02:15:26.851731Z",
     "start_time": "2020-05-25T02:15:26.846742Z"
    }
   },
   "outputs": [],
   "source": [
    "t = tuple(range(3))"
   ]
  },
  {
   "cell_type": "code",
   "execution_count": 144,
   "metadata": {
    "ExecuteTime": {
     "end_time": "2020-05-25T02:15:26.915559Z",
     "start_time": "2020-05-25T02:15:26.909575Z"
    }
   },
   "outputs": [
    {
     "data": {
      "text/plain": [
       "['A', 'B', 'C', 0, 1, 2]"
      ]
     },
     "execution_count": 144,
     "metadata": {},
     "output_type": "execute_result"
    }
   ],
   "source": [
    "list(chain(s, t))"
   ]
  },
  {
   "cell_type": "code",
   "execution_count": 145,
   "metadata": {
    "ExecuteTime": {
     "end_time": "2020-05-25T02:15:27.117020Z",
     "start_time": "2020-05-25T02:15:27.113031Z"
    }
   },
   "outputs": [],
   "source": [
    "def chain(*iterables):\n",
    "    for i in iterables:\n",
    "        yield from i # for문을 완전히 대체함. "
   ]
  },
  {
   "cell_type": "code",
   "execution_count": 146,
   "metadata": {
    "ExecuteTime": {
     "end_time": "2020-05-25T02:15:27.361367Z",
     "start_time": "2020-05-25T02:15:27.356381Z"
    }
   },
   "outputs": [
    {
     "data": {
      "text/plain": [
       "['A', 'B', 'C', 0, 1, 2]"
      ]
     },
     "execution_count": 146,
     "metadata": {},
     "output_type": "execute_result"
    }
   ],
   "source": [
    "list(chain(s, t))"
   ]
  },
  {
   "cell_type": "markdown",
   "metadata": {},
   "source": [
    "## 14.11 반복형을 리듀스하는 함수"
   ]
  },
  {
   "cell_type": "markdown",
   "metadata": {},
   "source": [
    "[표 14-6]의 함수는 모두 반복형을 입력받아 하나의 값을 반환하는 '리듀스', '폴딩', '누적' 함수."
   ]
  },
  {
   "attachments": {},
   "cell_type": "markdown",
   "metadata": {},
   "source": [
    "![표14-6](./14-2.png)"
   ]
  },
  {
   "cell_type": "code",
   "execution_count": 147,
   "metadata": {
    "ExecuteTime": {
     "end_time": "2020-05-25T02:15:29.016943Z",
     "start_time": "2020-05-25T02:15:29.011955Z"
    }
   },
   "outputs": [
    {
     "data": {
      "text/plain": [
       "True"
      ]
     },
     "execution_count": 147,
     "metadata": {},
     "output_type": "execute_result"
    }
   ],
   "source": [
    "# 예제 14-23 어떤 시퀀스에 all()과 any()를 적용한 결과\n",
    "all([1, 2, 3])"
   ]
  },
  {
   "cell_type": "code",
   "execution_count": 148,
   "metadata": {
    "ExecuteTime": {
     "end_time": "2020-05-25T02:15:29.155572Z",
     "start_time": "2020-05-25T02:15:29.150585Z"
    }
   },
   "outputs": [
    {
     "data": {
      "text/plain": [
       "False"
      ]
     },
     "execution_count": 148,
     "metadata": {},
     "output_type": "execute_result"
    }
   ],
   "source": [
    "all([1, 0, 3])"
   ]
  },
  {
   "cell_type": "code",
   "execution_count": 149,
   "metadata": {
    "ExecuteTime": {
     "end_time": "2020-05-25T02:15:30.069130Z",
     "start_time": "2020-05-25T02:15:30.061153Z"
    }
   },
   "outputs": [
    {
     "data": {
      "text/plain": [
       "True"
      ]
     },
     "execution_count": 149,
     "metadata": {},
     "output_type": "execute_result"
    }
   ],
   "source": [
    "all([])"
   ]
  },
  {
   "cell_type": "code",
   "execution_count": 150,
   "metadata": {
    "ExecuteTime": {
     "end_time": "2020-05-25T02:15:30.125978Z",
     "start_time": "2020-05-25T02:15:30.120991Z"
    }
   },
   "outputs": [
    {
     "data": {
      "text/plain": [
       "True"
      ]
     },
     "execution_count": 150,
     "metadata": {},
     "output_type": "execute_result"
    }
   ],
   "source": [
    "any([1, 2, 3])"
   ]
  },
  {
   "cell_type": "code",
   "execution_count": 151,
   "metadata": {
    "ExecuteTime": {
     "end_time": "2020-05-25T02:15:30.388280Z",
     "start_time": "2020-05-25T02:15:30.380300Z"
    }
   },
   "outputs": [
    {
     "data": {
      "text/plain": [
       "True"
      ]
     },
     "execution_count": 151,
     "metadata": {},
     "output_type": "execute_result"
    }
   ],
   "source": [
    "any([1, 0, 3])"
   ]
  },
  {
   "cell_type": "code",
   "execution_count": 152,
   "metadata": {
    "ExecuteTime": {
     "end_time": "2020-05-25T02:15:30.448117Z",
     "start_time": "2020-05-25T02:15:30.443130Z"
    }
   },
   "outputs": [
    {
     "data": {
      "text/plain": [
       "False"
      ]
     },
     "execution_count": 152,
     "metadata": {},
     "output_type": "execute_result"
    }
   ],
   "source": [
    "any([0, 0.0])"
   ]
  },
  {
   "cell_type": "code",
   "execution_count": 153,
   "metadata": {
    "ExecuteTime": {
     "end_time": "2020-05-25T02:15:30.689472Z",
     "start_time": "2020-05-25T02:15:30.684486Z"
    }
   },
   "outputs": [
    {
     "data": {
      "text/plain": [
       "False"
      ]
     },
     "execution_count": 153,
     "metadata": {},
     "output_type": "execute_result"
    }
   ],
   "source": [
    "any([])"
   ]
  },
  {
   "cell_type": "code",
   "execution_count": 154,
   "metadata": {
    "ExecuteTime": {
     "end_time": "2020-05-25T02:15:30.890933Z",
     "start_time": "2020-05-25T02:15:30.886944Z"
    }
   },
   "outputs": [],
   "source": [
    "g = (n for n in [0, 0.0, 7, 8])"
   ]
  },
  {
   "cell_type": "code",
   "execution_count": 155,
   "metadata": {
    "ExecuteTime": {
     "end_time": "2020-05-25T02:15:30.955762Z",
     "start_time": "2020-05-25T02:15:30.947783Z"
    }
   },
   "outputs": [
    {
     "data": {
      "text/plain": [
       "True"
      ]
     },
     "execution_count": 155,
     "metadata": {},
     "output_type": "execute_result"
    }
   ],
   "source": [
    "any(g)"
   ]
  },
  {
   "cell_type": "code",
   "execution_count": 156,
   "metadata": {
    "ExecuteTime": {
     "end_time": "2020-05-25T02:15:31.146253Z",
     "start_time": "2020-05-25T02:15:31.137277Z"
    }
   },
   "outputs": [
    {
     "data": {
      "text/plain": [
       "8"
      ]
     },
     "execution_count": 156,
     "metadata": {},
     "output_type": "execute_result"
    }
   ],
   "source": [
    "next(g)"
   ]
  },
  {
   "cell_type": "markdown",
   "metadata": {},
   "source": [
    "## 14.12 iter() 함수 들여다보기"
   ]
  },
  {
   "cell_type": "markdown",
   "metadata": {},
   "source": [
    "`iter()` 함수를 일반 함수나 콜러블 객체로부터 반복자를 생성하기 위해 두 개의 인수를 전달해서 호출할 수 있다. 이렇게 사용하려면, 첫 번째 인수는 값을 생성하기 위해 인수없이 반복적으로 호출되는 콜러블이어야 하며, 두번째 인수는 구분 표시(sentinel)로서, 콜러블에서 이 값이 반환되면 반복자가 `StopIteration` 예외를 발생시키도록 만든다."
   ]
  },
  {
   "cell_type": "code",
   "execution_count": 157,
   "metadata": {
    "ExecuteTime": {
     "end_time": "2020-05-25T02:15:31.876301Z",
     "start_time": "2020-05-25T02:15:31.873308Z"
    }
   },
   "outputs": [],
   "source": [
    "from random import randint"
   ]
  },
  {
   "cell_type": "code",
   "execution_count": 158,
   "metadata": {
    "ExecuteTime": {
     "end_time": "2020-05-25T02:15:31.968058Z",
     "start_time": "2020-05-25T02:15:31.961075Z"
    }
   },
   "outputs": [],
   "source": [
    "# 1이 나올 때까지 주사위를 굴려보자\n",
    "def d6():\n",
    "    return randint(1, 6)"
   ]
  },
  {
   "cell_type": "code",
   "execution_count": 159,
   "metadata": {
    "ExecuteTime": {
     "end_time": "2020-05-25T02:15:32.055820Z",
     "start_time": "2020-05-25T02:15:32.051832Z"
    }
   },
   "outputs": [],
   "source": [
    "d6_iter = iter(d6, 1)"
   ]
  },
  {
   "cell_type": "code",
   "execution_count": 160,
   "metadata": {
    "ExecuteTime": {
     "end_time": "2020-05-25T02:15:32.318120Z",
     "start_time": "2020-05-25T02:15:32.312136Z"
    }
   },
   "outputs": [
    {
     "data": {
      "text/plain": [
       "<callable_iterator at 0x203a42f00c8>"
      ]
     },
     "execution_count": 160,
     "metadata": {},
     "output_type": "execute_result"
    }
   ],
   "source": [
    "d6_iter"
   ]
  },
  {
   "cell_type": "code",
   "execution_count": 161,
   "metadata": {
    "ExecuteTime": {
     "end_time": "2020-05-25T02:15:32.719049Z",
     "start_time": "2020-05-25T02:15:32.712068Z"
    }
   },
   "outputs": [
    {
     "name": "stdout",
     "output_type": "stream",
     "text": [
      "2\n"
     ]
    }
   ],
   "source": [
    "for roll in d6_iter:\n",
    "    print(roll)"
   ]
  },
  {
   "cell_type": "markdown",
   "metadata": {},
   "source": [
    "여기서 `iter()` 함수가 `callable_iterator` 객체를 반환함에 주의. 예제 안에 있는 for 루프는 아무리 오래 실행하더라도 결코 1을 출력하지 않음. 1이 구분 표시이기 때문이다. 반복자와 마찬가지로 `d6_iter` 객체는 일단 소모하고 난 후에는 쓸모가 없어진다. 다시 시작하려면 `iter()` 함수를 한 번 더 호출해서 반복자를 다시 만들어야 한다."
   ]
  },
  {
   "cell_type": "code",
   "execution_count": 162,
   "metadata": {
    "ExecuteTime": {
     "end_time": "2020-05-25T02:15:33.068115Z",
     "start_time": "2020-05-25T02:15:33.049166Z"
    }
   },
   "outputs": [
    {
     "ename": "FileNotFoundError",
     "evalue": "[Errno 2] No such file or directory: 'mydata.txt'",
     "output_type": "error",
     "traceback": [
      "\u001b[1;31m---------------------------------------------------------------------------\u001b[0m",
      "\u001b[1;31mFileNotFoundError\u001b[0m                         Traceback (most recent call last)",
      "\u001b[1;32m<ipython-input-162-4d5f68c1d275>\u001b[0m in \u001b[0;36m<module>\u001b[1;34m\u001b[0m\n\u001b[0;32m      1\u001b[0m \u001b[1;31m# 빈 줄을 발견하거나 파일의 끝에 도달할 때까지 한 줄씩 읽어서 처리\u001b[0m\u001b[1;33m\u001b[0m\u001b[1;33m\u001b[0m\u001b[1;33m\u001b[0m\u001b[0m\n\u001b[1;32m----> 2\u001b[1;33m \u001b[1;32mwith\u001b[0m \u001b[0mopen\u001b[0m\u001b[1;33m(\u001b[0m\u001b[1;34m'mydata.txt'\u001b[0m\u001b[1;33m)\u001b[0m \u001b[1;32mas\u001b[0m \u001b[0mfp\u001b[0m\u001b[1;33m:\u001b[0m\u001b[1;33m\u001b[0m\u001b[1;33m\u001b[0m\u001b[0m\n\u001b[0m\u001b[0;32m      3\u001b[0m     \u001b[1;32mfor\u001b[0m \u001b[0mlin\u001b[0m \u001b[1;32min\u001b[0m \u001b[0miter\u001b[0m\u001b[1;33m(\u001b[0m\u001b[0mfp\u001b[0m\u001b[1;33m.\u001b[0m\u001b[0mreadline\u001b[0m\u001b[1;33m,\u001b[0m \u001b[1;34m''\u001b[0m\u001b[1;33m)\u001b[0m\u001b[1;33m:\u001b[0m\u001b[1;33m\u001b[0m\u001b[1;33m\u001b[0m\u001b[0m\n\u001b[0;32m      4\u001b[0m         \u001b[0mprocess_line\u001b[0m\u001b[1;33m(\u001b[0m\u001b[0mline\u001b[0m\u001b[1;33m)\u001b[0m\u001b[1;33m\u001b[0m\u001b[1;33m\u001b[0m\u001b[0m\n",
      "\u001b[1;31mFileNotFoundError\u001b[0m: [Errno 2] No such file or directory: 'mydata.txt'"
     ]
    }
   ],
   "source": [
    "# 빈 줄을 발견하거나 파일의 끝에 도달할 때까지 한 줄씩 읽어서 처리\n",
    "with open('mydata.txt') as fp:\n",
    "    for lin in iter(fp.readline, ''):\n",
    "        process_line(line)"
   ]
  },
  {
   "cell_type": "markdown",
   "metadata": {},
   "source": [
    "## 14.13 사례 연구: 데이터베이스 변환 유틸리티 안의 제너레이터"
   ]
  },
  {
   "cell_type": "markdown",
   "metadata": {},
   "source": [
    "대충 하나의 for 루프 안에서 두 개의 다른 API로 파일을 읽어야 하는데, 이 때 제너레이터 함수를 두 개를 읽어 처리함."
   ]
  },
  {
   "cell_type": "markdown",
   "metadata": {},
   "source": [
    "## 14.14 코루틴으로서의 제너레이터"
   ]
  },
  {
   "cell_type": "markdown",
   "metadata": {},
   "source": [
    "`send()` : 제너레이터가 다음 `yield`로 넘어가게 만들지만, 제너레이터를 사용하는 호출자가 제너레이터에 데이터를 보낼 수도 있게 해준다. `send()`에 전달된 인수는 모두 제너레이터 함수 본체 안에서 해당 `yield` 표현식의 값이 된다. 즉, 호출자가 제너레이터로부터 데이터를 받는 것만 허용하는 `__next()__`와 달리, `send()` 메서드는 호출자와 제너레이터가 양방향으로 데이터를 교환할 수 있게 해준다."
   ]
  },
  {
   "cell_type": "markdown",
   "metadata": {},
   "source": [
    "## 14.15 요약"
   ]
  },
  {
   "cell_type": "markdown",
   "metadata": {},
   "source": [
    "* `Sentence` 클래스에 제너레이터를 사용하여 간결하고 가독성있게 구성했다.\n",
    "* 등차수열 제너레이터를 구현해봤다.\n",
    "* `itertools` 모듈 사용법을 익혔다.\n",
    "* `iter(func, sentinel)` 내장 함수를 사용했다."
   ]
  },
  {
   "cell_type": "markdown",
   "metadata": {},
   "source": [
    "## 14.16 읽을거리"
   ]
  },
  {
   "cell_type": "markdown",
   "metadata": {},
   "source": [
    "### 제너레이터와 반복자의 의미\n",
    "\n",
    "반복자와 제너레이터의 관계는 세 가지 측면에서 바라볼 수 있다.\n",
    "1. 인터페이스 관점  \n",
    "파이썬 반복자 프로토콜은 `__next__()`와 `__iter__()` 메서드를 정의한다. 제너레이터 객체는 이 메서드를 모두 구현하므로, 이런 관점에서 보면 제너레이터는 일종의 반복자다. 이 정의에 따르면 `enumerate()` 내장 함수로 생성한 객체는 반복자다."
   ]
  },
  {
   "cell_type": "code",
   "execution_count": 163,
   "metadata": {
    "ExecuteTime": {
     "end_time": "2020-05-25T02:15:36.295492Z",
     "start_time": "2020-05-25T02:15:36.287513Z"
    }
   },
   "outputs": [
    {
     "data": {
      "text/plain": [
       "True"
      ]
     },
     "execution_count": 163,
     "metadata": {},
     "output_type": "execute_result"
    }
   ],
   "source": [
    "from collections import abc\n",
    "e = enumerate('ABC')\n",
    "isinstance(e, abc.Iterator)"
   ]
  },
  {
   "cell_type": "markdown",
   "metadata": {},
   "source": [
    "2. 구현 관점  \n",
    "    * 이 관점에서 보면, 제너레이터는 `yield` 키워드를 가진 함수나 제너레이터 표현식으로 구현할 수 있는 파이썬 언어 구성체.\n",
    "    * 제너레이터 함수를 호출 또는 제너레이터 표현식을 평가해서 생성된 제너레이터 객체는 내부적으로는 `GeneratorType` 객체로 다뤄짐.\n",
    "    * 이 관점에서 보면 모든 제너레이터는 반복자.\n",
    "    * 하지만, 예제 14-4(Sentence 클래스 - getitem없이 만든 고전적인 반복자)처럼 제너레이터가 아닌 반복자도 만들 수 있다.\n",
    "    * 이 관점에서는 `enumerate` 객체는 제너레이터가 아니다."
   ]
  },
  {
   "cell_type": "code",
   "execution_count": 164,
   "metadata": {
    "ExecuteTime": {
     "end_time": "2020-05-25T02:15:36.824111Z",
     "start_time": "2020-05-25T02:15:36.820089Z"
    }
   },
   "outputs": [
    {
     "data": {
      "text/plain": [
       "False"
      ]
     },
     "execution_count": 164,
     "metadata": {},
     "output_type": "execute_result"
    }
   ],
   "source": [
    "import types\n",
    "e = enumerate('ABC')\n",
    "isinstance(e, types.GeneratorType)"
   ]
  },
  {
   "cell_type": "markdown",
   "metadata": {},
   "source": [
    "3. 개념적 관점\n",
    "    * 디자인 패턴에 정의한 고전적인 반복자 디자인 패턴에서는 반복자 컬렉션을 순회하면서 항목을 생성한다고 정의.\n",
    "    * 반복자는 기존 데이터를 읽고, `next(it)`가 호출되면 읽은 값을 변경하지 않고 그대로 생성해야 함.\n",
    "    * 제너레이터는 `range()`와 마찬가지로 컬렉션을 순회하지 않고도 값을 생성할 수 있다.\n",
    "    * 컬렉션에 연결되어 있는 경우에도, 그 안에 들어있는 항목을 그대로 사용하지 않고 유도한 값을 생성할 수 있음.\n",
    "    * `enumerate()`가 대표적인 제너레이터(튜플을 생성하므로 반복자가 아님!)"
   ]
  },
  {
   "cell_type": "code",
   "execution_count": 165,
   "metadata": {
    "ExecuteTime": {
     "end_time": "2020-05-25T02:15:37.535176Z",
     "start_time": "2020-05-25T02:15:37.528196Z"
    }
   },
   "outputs": [],
   "source": [
    "# 예제 14-26 fibo_by_hand.py: GeneratorType 객체를 사용하지 않고 구현한 피보나치 수열 제너레이터\n",
    "class Fibonacci:\n",
    "    \n",
    "    def __iter__(self):\n",
    "        return FibonacciGenerator()\n",
    "    \n",
    "class FibonacciGenerator:\n",
    "    \n",
    "    def __init__(self):\n",
    "        self.a = 0\n",
    "        self.b = 1\n",
    "        \n",
    "    def __next__(self):\n",
    "        result = self.a\n",
    "        self.a, self.b = self.b, self.a + self.b\n",
    "        return result\n",
    "    \n",
    "    def __iter__(self):\n",
    "        return self"
   ]
  },
  {
   "cell_type": "code",
   "execution_count": 166,
   "metadata": {
    "ExecuteTime": {
     "end_time": "2020-05-25T02:15:38.046811Z",
     "start_time": "2020-05-25T02:15:38.042821Z"
    }
   },
   "outputs": [],
   "source": [
    "# list(f)"
   ]
  },
  {
   "cell_type": "code",
   "execution_count": 167,
   "metadata": {
    "ExecuteTime": {
     "end_time": "2020-05-25T02:16:49.901769Z",
     "start_time": "2020-05-25T02:16:49.896782Z"
    }
   },
   "outputs": [],
   "source": [
    "def fibonacci():\n",
    "    a, b = 0, 1\n",
    "    while True:\n",
    "        yield a\n",
    "        a, b = b, a + b"
   ]
  },
  {
   "cell_type": "code",
   "execution_count": 173,
   "metadata": {
    "ExecuteTime": {
     "end_time": "2020-05-25T02:18:27.578506Z",
     "start_time": "2020-05-25T02:18:27.574515Z"
    }
   },
   "outputs": [],
   "source": [
    "# 위에껀 무한 피보나치 수열...\n",
    "def fibonacci(end):\n",
    "    a, b = 0, 1\n",
    "    while a < end:\n",
    "        yield a\n",
    "        a, b = b, a + b"
   ]
  },
  {
   "cell_type": "code",
   "execution_count": 181,
   "metadata": {
    "ExecuteTime": {
     "end_time": "2020-05-25T02:20:30.893826Z",
     "start_time": "2020-05-25T02:20:30.889903Z"
    }
   },
   "outputs": [],
   "source": [
    "a = fibonacci(10)"
   ]
  },
  {
   "cell_type": "code",
   "execution_count": 182,
   "metadata": {
    "ExecuteTime": {
     "end_time": "2020-05-25T02:20:31.082322Z",
     "start_time": "2020-05-25T02:20:31.077335Z"
    }
   },
   "outputs": [
    {
     "data": {
      "text/plain": [
       "[0, 1, 1, 2, 3, 5, 8]"
      ]
     },
     "execution_count": 182,
     "metadata": {},
     "output_type": "execute_result"
    }
   ],
   "source": [
    "list(a)"
   ]
  },
  {
   "cell_type": "code",
   "execution_count": null,
   "metadata": {},
   "outputs": [],
   "source": []
  }
 ],
 "metadata": {
  "kernelspec": {
   "display_name": "Python 3",
   "language": "python",
   "name": "python3"
  },
  "language_info": {
   "codemirror_mode": {
    "name": "ipython",
    "version": 3
   },
   "file_extension": ".py",
   "mimetype": "text/x-python",
   "name": "python",
   "nbconvert_exporter": "python",
   "pygments_lexer": "ipython3",
   "version": "3.7.4"
  },
  "varInspector": {
   "cols": {
    "lenName": 16,
    "lenType": 16,
    "lenVar": 40
   },
   "kernels_config": {
    "python": {
     "delete_cmd_postfix": "",
     "delete_cmd_prefix": "del ",
     "library": "var_list.py",
     "varRefreshCmd": "print(var_dic_list())"
    },
    "r": {
     "delete_cmd_postfix": ") ",
     "delete_cmd_prefix": "rm(",
     "library": "var_list.r",
     "varRefreshCmd": "cat(var_dic_list()) "
    }
   },
   "types_to_exclude": [
    "module",
    "function",
    "builtin_function_or_method",
    "instance",
    "_Feature"
   ],
   "window_display": false
  }
 },
 "nbformat": 4,
 "nbformat_minor": 2
}
