{
 "cells": [
  {
   "cell_type": "markdown",
   "metadata": {},
   "source": [
    "# CHAPTER 6 일급 함수 디자인 패턴"
   ]
  },
  {
   "cell_type": "markdown",
   "metadata": {},
   "source": [
    "## 6.1 사례: 전략 패턴의 리팩토링\n",
    "전략 패턴은 파이썬에서 함수를 일급 객체로 사용하면 더욱 간단해질 수 있는 디자인 패턴의 대표적인 사례다."
   ]
  },
  {
   "cell_type": "markdown",
   "metadata": {},
   "source": [
    "### 6.1.1 고전적인 전략"
   ]
  },
  {
   "cell_type": "markdown",
   "metadata": {},
   "source": [
    "전략 패턴에 대한 UML 클래스 다이어그램에 들어가는 구성 요소  \n",
    "\n",
    "**콘텍스트**  \n",
    "일부 계산을 서로 다른 알고리즘을 구현하는 교환 가능한 컴포넌트에 위임함으로써 서비스를 제공한다. 전자상거래 예제에서 콘텍스트는 `Order`로서, 여러 알고리즘 중 하나에 따라 프로모션 할인을 적용하도록 설정된다.  \n",
    "\n",
    "**전략**  \n",
    "여러 알고리즘을 구현하는 컴포넌트에 공통된 인터페이스, 전자상거래 예제에서는 이 역할을 `Promotion`이라는 추상 클래스가 담당한다.  \n",
    "\n",
    "**구체적인 전략**  \n",
    "전략의 구상 서브클래스 중 하나, 여기서는 `FidelityPromo`, `BulkItemPromo`, `LargeOrderPromo` 등 총 3개의 구체적인 전략이 구현되어 있다."
   ]
  },
  {
   "cell_type": "markdown",
   "metadata": {},
   "source": [
    "**디자인 패턴**에서는 전략 패턴을 다음과 같이 설명한다.\n",
    "\n",
    "* 일련의 알고리즘을 정의하고 각각을 하나의 클래스 안에 넣어서 교체하기 쉽게 만든다. 전략을 이용하면 사용하는 클라이언트에 따라 알고리즘을 독립적으로 변경할 수 있다.  "
   ]
  },
  {
   "cell_type": "markdown",
   "metadata": {},
   "source": [
    "온라인 상점의 할인 규칙\n",
    "* 충성도 포인트가 1,000점 이상인 고객은 전체 주문에 대해 5% 할인을 적용한다.\n",
    "* 하나의 주문에서 20개 이상의 동일 상품을 구입하면 해당 상품에 대해 10% 할인을 적용한다.\n",
    "* 서로 다른 상품을 10종류 이상 주문하면 전체 주문에 대해 7% 할인을 적용한다."
   ]
  },
  {
   "cell_type": "code",
   "execution_count": 2,
   "metadata": {
    "ExecuteTime": {
     "end_time": "2020-03-17T07:26:51.132781Z",
     "start_time": "2020-03-17T07:26:51.128793Z"
    }
   },
   "outputs": [],
   "source": [
    "# 예제 6-1 플러그형 할인 전략을 가진 Order 클래스 구현\n",
    "# 디자인 패턴에 설명된 대로 구체적인 전략은 콘텍스트 클래스의 클라이언트에 의해 선택된다.\n",
    "# 이 예제에서는 주문 객체를 생성하기 전에 시스템이 할인 전략을 선택해서 Order 생성자에 전달한다.\n",
    "# 전략의 선택은 패턴 범위를 벗어난다.\n",
    "from abc import ABC, abstractmethod\n",
    "from collections import namedtuple\n",
    "\n",
    "Customer = namedtuple('Customer', 'name fidelity')"
   ]
  },
  {
   "cell_type": "code",
   "execution_count": 3,
   "metadata": {
    "ExecuteTime": {
     "end_time": "2020-03-17T07:27:38.261979Z",
     "start_time": "2020-03-17T07:27:38.257057Z"
    }
   },
   "outputs": [],
   "source": [
    "class LineItem:\n",
    "    \n",
    "    def __init__(self, product, quantity, price):\n",
    "        self.product = product\n",
    "        self.quantity = quantity\n",
    "        self.price = price\n",
    "        \n",
    "    def total(self):\n",
    "        return self.price * self.quantity"
   ]
  },
  {
   "cell_type": "code",
   "execution_count": 12,
   "metadata": {
    "ExecuteTime": {
     "end_time": "2020-03-17T07:40:33.429373Z",
     "start_time": "2020-03-17T07:40:33.422326Z"
    }
   },
   "outputs": [],
   "source": [
    "class Order: # 콘텍스트\n",
    "    \n",
    "    def __init__(self, customer, cart, promotion=None):\n",
    "        self.customer = customer\n",
    "        self.cart = list(cart)\n",
    "        self.promotion = promotion\n",
    "        \n",
    "    def total(self):\n",
    "        if not hasattr(self, '__total'):\n",
    "            self.__total = sum(item.total() for item in self.cart)\n",
    "        return self.__total\n",
    "    \n",
    "    def due(self):\n",
    "        if self.promotion is None:\n",
    "            discount = 0\n",
    "        else:\n",
    "            discount = self.promotion.discount(self) ################ 이 부분이 바뀔 것임.\n",
    "        return self.total() - discount\n",
    "    \n",
    "    def __repr__(self):\n",
    "        fmt = '<Order total: {:.2f} due: {:.2f}>'\n",
    "        return fmt.format(self.total(), self.due())"
   ]
  },
  {
   "cell_type": "code",
   "execution_count": 5,
   "metadata": {
    "ExecuteTime": {
     "end_time": "2020-03-17T07:31:21.349517Z",
     "start_time": "2020-03-17T07:31:21.344529Z"
    }
   },
   "outputs": [],
   "source": [
    "class Promotion(ABC): # 전략: 추상 베이스 클래스\n",
    "    \n",
    "    @abstractmethod\n",
    "    def discount(self, order):\n",
    "        \"\"\"할인액을 구체적인 숫자로 반환한다.\"\"\""
   ]
  },
  {
   "cell_type": "code",
   "execution_count": 6,
   "metadata": {
    "ExecuteTime": {
     "end_time": "2020-03-17T07:35:06.787417Z",
     "start_time": "2020-03-17T07:35:06.782428Z"
    }
   },
   "outputs": [],
   "source": [
    "class FidelityPromo(Promotion): # 첫 번째 구체적인 전략\n",
    "    \"\"\"충성도 포인트가 1000점 이상인 고객에게 전체 5% 할인 적용\"\"\"\n",
    "    \n",
    "    def discount(self, order):\n",
    "        return order.total() * .05 if order.customer.fidelity >= 1000 else 0"
   ]
  },
  {
   "cell_type": "code",
   "execution_count": 7,
   "metadata": {
    "ExecuteTime": {
     "end_time": "2020-03-17T07:36:04.830631Z",
     "start_time": "2020-03-17T07:36:04.824589Z"
    }
   },
   "outputs": [],
   "source": [
    "class BulkItemPromo(Promotion): # 두 번째 구체적인 전략\n",
    "    \"\"\"20개 이상의 동일 상품을 구입하면 10% 할인 적용\"\"\"\n",
    "    \n",
    "    def discount(self, order):\n",
    "        discount = 0 \n",
    "        for item in order.cart:\n",
    "            if item.quantity >= 20:\n",
    "                discount += item.total() * .1\n",
    "        return discount"
   ]
  },
  {
   "cell_type": "code",
   "execution_count": 21,
   "metadata": {
    "ExecuteTime": {
     "end_time": "2020-03-17T07:45:35.573765Z",
     "start_time": "2020-03-17T07:45:35.567721Z"
    }
   },
   "outputs": [],
   "source": [
    "class LargeOrderPromo(Promotion): # 세 번째 구체적인 전략\n",
    "    \"\"\"10종류 이상의 상품을 구입하면 전체 7% 할인 적용\"\"\"\n",
    "    \n",
    "    def discount(self, order):\n",
    "        distinct_items = {item.product for item in order.cart}\n",
    "        if len(distinct_items) >= 10:\n",
    "            return order.total() * .07\n",
    "        return 0"
   ]
  },
  {
   "cell_type": "code",
   "execution_count": 22,
   "metadata": {
    "ExecuteTime": {
     "end_time": "2020-03-17T07:45:35.754728Z",
     "start_time": "2020-03-17T07:45:35.749801Z"
    }
   },
   "outputs": [],
   "source": [
    "# 예제 6-2 여러 프로모션 할인을 적용해서 Order 클래스를 사용하는 예\n",
    "joe = Customer('John Doe', 0)\n",
    "ann = Customer('Ann Smith', 1100)\n",
    "cart = [LineItem('banana', 4, .5),\n",
    "        LineItem('apple', 10, 1.5),\n",
    "        LineItem('watermelon', 5, 5.0)]"
   ]
  },
  {
   "cell_type": "code",
   "execution_count": 23,
   "metadata": {
    "ExecuteTime": {
     "end_time": "2020-03-17T07:45:35.939232Z",
     "start_time": "2020-03-17T07:45:35.933251Z"
    }
   },
   "outputs": [
    {
     "data": {
      "text/plain": [
       "<Order total: 42.00 due: 42.00>"
      ]
     },
     "execution_count": 23,
     "metadata": {},
     "output_type": "execute_result"
    }
   ],
   "source": [
    "Order(joe, cart, FidelityPromo())"
   ]
  },
  {
   "cell_type": "code",
   "execution_count": 24,
   "metadata": {
    "ExecuteTime": {
     "end_time": "2020-03-17T07:45:36.300269Z",
     "start_time": "2020-03-17T07:45:36.295282Z"
    }
   },
   "outputs": [
    {
     "data": {
      "text/plain": [
       "<Order total: 42.00 due: 39.90>"
      ]
     },
     "execution_count": 24,
     "metadata": {},
     "output_type": "execute_result"
    }
   ],
   "source": [
    "Order(ann, cart, FidelityPromo())"
   ]
  },
  {
   "cell_type": "code",
   "execution_count": 25,
   "metadata": {
    "ExecuteTime": {
     "end_time": "2020-03-17T07:45:36.473802Z",
     "start_time": "2020-03-17T07:45:36.469816Z"
    }
   },
   "outputs": [],
   "source": [
    "banana_cart = [LineItem('banana', 30, .5),\n",
    "               LineItem('apple', 10, 1.5)]"
   ]
  },
  {
   "cell_type": "code",
   "execution_count": 26,
   "metadata": {
    "ExecuteTime": {
     "end_time": "2020-03-17T07:45:36.627388Z",
     "start_time": "2020-03-17T07:45:36.621408Z"
    }
   },
   "outputs": [
    {
     "data": {
      "text/plain": [
       "<Order total: 30.00 due: 28.50>"
      ]
     },
     "execution_count": 26,
     "metadata": {},
     "output_type": "execute_result"
    }
   ],
   "source": [
    "Order(joe, banana_cart, BulkItemPromo())"
   ]
  },
  {
   "cell_type": "code",
   "execution_count": 27,
   "metadata": {
    "ExecuteTime": {
     "end_time": "2020-03-17T07:45:36.792014Z",
     "start_time": "2020-03-17T07:45:36.787963Z"
    }
   },
   "outputs": [],
   "source": [
    "long_order = [LineItem(str(item_code), 1, 1.0)\n",
    "              for item_code in range(10)]"
   ]
  },
  {
   "cell_type": "code",
   "execution_count": 28,
   "metadata": {
    "ExecuteTime": {
     "end_time": "2020-03-17T07:45:36.955574Z",
     "start_time": "2020-03-17T07:45:36.949530Z"
    }
   },
   "outputs": [
    {
     "data": {
      "text/plain": [
       "<Order total: 10.00 due: 9.30>"
      ]
     },
     "execution_count": 28,
     "metadata": {},
     "output_type": "execute_result"
    }
   ],
   "source": [
    "Order(joe, long_order, LargeOrderPromo())"
   ]
  },
  {
   "cell_type": "code",
   "execution_count": 29,
   "metadata": {
    "ExecuteTime": {
     "end_time": "2020-03-17T07:45:55.708064Z",
     "start_time": "2020-03-17T07:45:55.702081Z"
    }
   },
   "outputs": [
    {
     "data": {
      "text/plain": [
       "<Order total: 42.00 due: 42.00>"
      ]
     },
     "execution_count": 29,
     "metadata": {},
     "output_type": "execute_result"
    }
   ],
   "source": [
    "Order(joe, cart, LargeOrderPromo())\n"
   ]
  },
  {
   "cell_type": "markdown",
   "metadata": {},
   "source": [
    "### 6.1.2 함수지향 전략"
   ]
  },
  {
   "cell_type": "markdown",
   "metadata": {},
   "source": [
    "`[예제6-1]`에서 각각의 구체적인 전략은 `discount()`라는 메서드 하나를 가진 클래스다.  \n",
    "게다가 전략 객체는 상태(객체 속성)를 가지고 있지 않다. 구체적인 전략 객체가 일반 함수로 보여야 한다.  "
   ]
  },
  {
   "cell_type": "code",
   "execution_count": 30,
   "metadata": {
    "ExecuteTime": {
     "end_time": "2020-03-17T07:49:45.566874Z",
     "start_time": "2020-03-17T07:49:45.561835Z"
    }
   },
   "outputs": [],
   "source": [
    "# 예제 6-3 할인 전략을 함수로 구현한 Order 클래스\n",
    "from collections import namedtuple\n",
    "\n",
    "Customer = namedtuple('Customer', 'name fidelity')"
   ]
  },
  {
   "cell_type": "code",
   "execution_count": 31,
   "metadata": {
    "ExecuteTime": {
     "end_time": "2020-03-17T07:50:24.914605Z",
     "start_time": "2020-03-17T07:50:24.909600Z"
    }
   },
   "outputs": [],
   "source": [
    "class LineItem:\n",
    "    \n",
    "    def __init__(self, product, quantity, price):\n",
    "        self.product = product\n",
    "        self.quantity = quantity\n",
    "        self.price = price\n",
    "        \n",
    "    def total(self):\n",
    "        return self.price * self.quantity"
   ]
  },
  {
   "cell_type": "code",
   "execution_count": 49,
   "metadata": {
    "ExecuteTime": {
     "end_time": "2020-03-17T08:29:07.062327Z",
     "start_time": "2020-03-17T08:29:07.055346Z"
    }
   },
   "outputs": [],
   "source": [
    "class Order: # 콘텍스트\n",
    "    \n",
    "    def __init__(self, customer, cart, promotion=None):\n",
    "        self.customer = customer\n",
    "        self.cart = list(cart)\n",
    "        self.promotion = promotion\n",
    "        \n",
    "    def total(self):\n",
    "        if not hasattr(self, '__total'):\n",
    "            self.__total = sum(item.total() for item in self.cart)\n",
    "        return self.__total\n",
    "    \n",
    "    def due(self):\n",
    "        if self.promotion is None:\n",
    "            discount = 0\n",
    "        else:\n",
    "            discount = self.promotion(self) # 할인액을 계산하려면 self.promotion() 함수를 호출하면 된다.\n",
    "        return self.total() - discount\n",
    "    \n",
    "    def __repr__(self):\n",
    "        fmt = '<Order total: {:.2f} due: {:.2f}>'\n",
    "        return fmt.format(self.total(), self.due())\n",
    "# 추상클래스는 정의하지 않는다."
   ]
  },
  {
   "cell_type": "code",
   "execution_count": 44,
   "metadata": {
    "ExecuteTime": {
     "end_time": "2020-03-17T08:28:26.668021Z",
     "start_time": "2020-03-17T08:28:26.663037Z"
    }
   },
   "outputs": [],
   "source": [
    "def fidelity_promo(order): # 각각의 구체적인 전략이 함수로 구현되었다.\n",
    "    \"\"\"충성도 포인트가 1000점 이상인 고객에게 전체 5% 할인 적용\"\"\"\n",
    "    return order.total() * .05 if order.customer.fidelity >= 1000 else 0"
   ]
  },
  {
   "cell_type": "code",
   "execution_count": 45,
   "metadata": {
    "ExecuteTime": {
     "end_time": "2020-03-17T08:28:26.860508Z",
     "start_time": "2020-03-17T08:28:26.855519Z"
    }
   },
   "outputs": [],
   "source": [
    "def bulk_item_promo(order):\n",
    "    \"\"\"20개 이상의 동일 상품을 구입하면 10% 할인 적용\"\"\"\n",
    "    discount = 0\n",
    "    for item in order.cart:\n",
    "        if item.quantity >= 20:\n",
    "            discount += item.total() * .1\n",
    "    return discount"
   ]
  },
  {
   "cell_type": "code",
   "execution_count": 46,
   "metadata": {
    "ExecuteTime": {
     "end_time": "2020-03-17T08:28:27.246652Z",
     "start_time": "2020-03-17T08:28:27.241726Z"
    }
   },
   "outputs": [],
   "source": [
    "def large_order_promo(order):\n",
    "    \"\"\"10종류 이상의 상품을 구입하면 전체 7% 할인 적용\"\"\"\n",
    "    distinct_items = {item.product for item in order.cart}\n",
    "    if len(distinct_items) >= 10:\n",
    "        return order.total() * .07\n",
    "    return 0"
   ]
  },
  {
   "cell_type": "code",
   "execution_count": 47,
   "metadata": {
    "ExecuteTime": {
     "end_time": "2020-03-17T08:28:27.413205Z",
     "start_time": "2020-03-17T08:28:27.408218Z"
    }
   },
   "outputs": [],
   "source": [
    "# 예제 6-4 할인 전략을 함수로 정의한 Order 클래스의 사용 예\n",
    "# 더 간단해졌다!\n",
    "joe = Customer('John Doe', 0)\n",
    "ann = Customer('Ann Smith', 1100)\n",
    "cart = [LineItem('banana', 4, .5),\n",
    "        LineItem('apple', 10, 1.5),\n",
    "        LineItem('watermelon', 5, 5.0)]"
   ]
  },
  {
   "cell_type": "code",
   "execution_count": 50,
   "metadata": {
    "ExecuteTime": {
     "end_time": "2020-03-17T08:29:10.269745Z",
     "start_time": "2020-03-17T08:29:10.263761Z"
    },
    "scrolled": true
   },
   "outputs": [
    {
     "data": {
      "text/plain": [
       "<Order total: 42.00 due: 42.00>"
      ]
     },
     "execution_count": 50,
     "metadata": {},
     "output_type": "execute_result"
    }
   ],
   "source": [
    "Order(joe, cart, fidelity_promo)"
   ]
  },
  {
   "cell_type": "code",
   "execution_count": 51,
   "metadata": {
    "ExecuteTime": {
     "end_time": "2020-03-17T08:32:29.021718Z",
     "start_time": "2020-03-17T08:32:29.016732Z"
    }
   },
   "outputs": [
    {
     "data": {
      "text/plain": [
       "<Order total: 42.00 due: 39.90>"
      ]
     },
     "execution_count": 51,
     "metadata": {},
     "output_type": "execute_result"
    }
   ],
   "source": [
    "Order(ann, cart, fidelity_promo)"
   ]
  },
  {
   "cell_type": "code",
   "execution_count": 52,
   "metadata": {
    "ExecuteTime": {
     "end_time": "2020-03-17T08:33:05.196914Z",
     "start_time": "2020-03-17T08:33:05.191865Z"
    }
   },
   "outputs": [],
   "source": [
    "banana_cart = [LineItem('banana', 30, .5),\n",
    "               LineItem('apple', 10, 1.5)]"
   ]
  },
  {
   "cell_type": "code",
   "execution_count": 53,
   "metadata": {
    "ExecuteTime": {
     "end_time": "2020-03-17T08:33:18.038560Z",
     "start_time": "2020-03-17T08:33:18.032576Z"
    }
   },
   "outputs": [
    {
     "data": {
      "text/plain": [
       "<Order total: 30.00 due: 28.50>"
      ]
     },
     "execution_count": 53,
     "metadata": {},
     "output_type": "execute_result"
    }
   ],
   "source": [
    "Order(joe, banana_cart, bulk_item_promo)"
   ]
  },
  {
   "cell_type": "code",
   "execution_count": 54,
   "metadata": {
    "ExecuteTime": {
     "end_time": "2020-03-17T08:33:46.795681Z",
     "start_time": "2020-03-17T08:33:46.790633Z"
    }
   },
   "outputs": [],
   "source": [
    "long_order = [LineItem(str(item_code), 1, 1.0)\n",
    "              for item_code in range(10)]"
   ]
  },
  {
   "cell_type": "code",
   "execution_count": 55,
   "metadata": {
    "ExecuteTime": {
     "end_time": "2020-03-17T08:33:58.909203Z",
     "start_time": "2020-03-17T08:33:58.903220Z"
    }
   },
   "outputs": [
    {
     "data": {
      "text/plain": [
       "<Order total: 10.00 due: 9.30>"
      ]
     },
     "execution_count": 55,
     "metadata": {},
     "output_type": "execute_result"
    }
   ],
   "source": [
    "Order(joe, long_order, large_order_promo)"
   ]
  },
  {
   "cell_type": "code",
   "execution_count": 56,
   "metadata": {
    "ExecuteTime": {
     "end_time": "2020-03-17T08:34:10.925158Z",
     "start_time": "2020-03-17T08:34:10.920112Z"
    }
   },
   "outputs": [
    {
     "data": {
      "text/plain": [
       "<Order total: 42.00 due: 42.00>"
      ]
     },
     "execution_count": 56,
     "metadata": {},
     "output_type": "execute_result"
    }
   ],
   "source": [
    "Order(joe, cart, large_order_promo)"
   ]
  },
  {
   "cell_type": "markdown",
   "metadata": {},
   "source": [
    "[예제6-4]에서는 Order 객체마다 할인 전략 객체를 만들 필요가 없다. 할인 전략 함수를 바로 사용할 수 있기 때문이다.  \n",
    "\n",
    "* \"전략 객체는 종종 훌륭한 플라이웨이트(flyweight)가 되기도 한다\"는 흥미로운 설명을 했다.  \n",
    "* \"플라이웨이트는 여러 콘텍스트에서 동시에 사용할 수 있는 공유 객체\"라고 정의했다.  \n",
    "* 새로운 콘텍스트에서 동일 전략 객체를 반복해서 적용할 때는 새로 생성하는 비용을 줄이기 위해 플라이트웨이트를 공유하는 것이 좋다.\n",
    "* 따라서 전략 패턴의 단점인 '런타임 비용'을 극복하기 위해 저자들은 또 다른 패턴인 플라이웨이트 패턴을 사용하도록 권고한다. \n",
    "* 반면 소스 코드의 행 수와 유지보수 비용은 눈덩이처럼 불어난다."
   ]
  },
  {
   "cell_type": "markdown",
   "metadata": {},
   "source": [
    "* 함수는 사용자 정의 클래스보다 훨씬 가볍고 파이썬이 모듈을 컴파일할 때 단 한번만 생성되므로 플라이웨이트가 필요하지 않다.\n",
    "* 일반 함수도 '여러 콘텍스트에서 동시에 공유할 수 있는 공유 객체'임을 명심하자."
   ]
  },
  {
   "cell_type": "markdown",
   "metadata": {},
   "source": [
    "### 6.1.3 최선의 전략 선택하기: 단순한 접근법"
   ]
  },
  {
   "cell_type": "code",
   "execution_count": 58,
   "metadata": {
    "ExecuteTime": {
     "end_time": "2020-03-17T10:02:04.305224Z",
     "start_time": "2020-03-17T10:02:04.301235Z"
    }
   },
   "outputs": [],
   "source": [
    "# 예제 6-5 모든 할인을 적용해서 가장 큰 값을 반환하는 best_promo() 함수\n",
    "Order(joe, long_order, best_promo)\n",
    "Order(joe, banana_cart, best_promo)\n",
    "Order(ann, cart, best_promo)"
   ]
  },
  {
   "cell_type": "code",
   "execution_count": 59,
   "metadata": {
    "ExecuteTime": {
     "end_time": "2020-03-17T10:03:07.417048Z",
     "start_time": "2020-03-17T10:03:07.413059Z"
    }
   },
   "outputs": [],
   "source": [
    "# 예제 6-6 함수 리스트를 반복해서 최대 할인액을 찾아내는 best_promo() 함수\n",
    "promos = [fidelity_promo, bulk_item_promo, large_order_promo]\n",
    "\n",
    "def best_promo(order):\n",
    "    \"\"\"최대로 할인받을 금액을 반환한다.\"\"\"\n",
    "    return max(promo(order) for promo in promos)"
   ]
  },
  {
   "cell_type": "markdown",
   "metadata": {},
   "source": [
    "[예제 6-6]은 가독성이 좋고 제대로 작동하지만, 일부 코드가 중복되어 있어 버그가 생길 여지가 있다.  \n",
    "새로운 할인 전략을 추가하려면 함수를 코딩하고 이 함수를 promos 리스트에 추가해야 한다.  \n",
    "아니면 새로운 할인 함수를 Order 객체에 인수로 전달해서 작동시킬 수 있지만, 이때 `best_promo()`는 새로운 할인 함수를 고려하지 않는다."
   ]
  },
  {
   "cell_type": "markdown",
   "metadata": {},
   "source": [
    "### 6.1.4 모듈에서 전략 찾기\n",
    "파이썬 모듈도 일급 객체로서, 모듈을 다루는 여러 함수가 표준 라이브러리에서 제공된다. 파이썬 문서에서는 `globals()` 내장 함수를 다음과 같이 설명하고 있다."
   ]
  },
  {
   "cell_type": "markdown",
   "metadata": {},
   "source": [
    "**`globals()`**  \n",
    "현재 전역 심벌 테이블을 나타내는 딕셔너리 객체를 반환한다. 이 딕셔너리는 언제나 현재 모듈에 대한 내용을 담고 있다(함수나 메서드 안에서 호출할 때, 함수를 호출한 모듈이 아니라 함수가 정의된 모듈을 나타낸다)."
   ]
  },
  {
   "cell_type": "code",
   "execution_count": 63,
   "metadata": {
    "ExecuteTime": {
     "end_time": "2020-03-17T10:09:56.577663Z",
     "start_time": "2020-03-17T10:09:56.572668Z"
    }
   },
   "outputs": [],
   "source": [
    "# 예제 6-7 모듈 전역 네임스페이스를 내부 조사해서 만든 promo 리스트\n",
    "promos = [globals()[name] for name in globals()    # globals() 함수가 반환한 딕셔너리에서 name을 반복한다.\n",
    "          if name.endswith('_promo')               # _promo로 끝나는 name만 선택한다,\n",
    "          and name != 'best_promo']                # 무한 재귀 호출을 피하기 위해 best_promo 자신은 걸러낸다."
   ]
  },
  {
   "cell_type": "code",
   "execution_count": 68,
   "metadata": {
    "ExecuteTime": {
     "end_time": "2020-03-17T10:10:45.793773Z",
     "start_time": "2020-03-17T10:10:45.788851Z"
    }
   },
   "outputs": [],
   "source": [
    "def best_promo(order):\n",
    "    \"\"\"최대로 할인받을 금액을 반환한다.\"\"\"\n",
    "    return max(promo(order) for promo in promos)    # best_promo() 내부는 변경되지 않았다."
   ]
  },
  {
   "cell_type": "code",
   "execution_count": 70,
   "metadata": {
    "ExecuteTime": {
     "end_time": "2020-03-17T10:11:01.810338Z",
     "start_time": "2020-03-17T10:11:01.805408Z"
    }
   },
   "outputs": [
    {
     "data": {
      "text/plain": [
       "<Order total: 10.00 due: 9.30>"
      ]
     },
     "execution_count": 70,
     "metadata": {},
     "output_type": "execute_result"
    }
   ],
   "source": [
    "Order(joe, long_order, best_promo)"
   ]
  },
  {
   "cell_type": "code",
   "execution_count": 71,
   "metadata": {
    "ExecuteTime": {
     "end_time": "2020-03-17T10:11:01.975888Z",
     "start_time": "2020-03-17T10:11:01.969905Z"
    }
   },
   "outputs": [
    {
     "data": {
      "text/plain": [
       "<Order total: 30.00 due: 28.50>"
      ]
     },
     "execution_count": 71,
     "metadata": {},
     "output_type": "execute_result"
    }
   ],
   "source": [
    "Order(joe, banana_cart, best_promo)"
   ]
  },
  {
   "cell_type": "code",
   "execution_count": 72,
   "metadata": {
    "ExecuteTime": {
     "end_time": "2020-03-17T10:11:02.126485Z",
     "start_time": "2020-03-17T10:11:02.121499Z"
    }
   },
   "outputs": [
    {
     "data": {
      "text/plain": [
       "<Order total: 42.00 due: 39.90>"
      ]
     },
     "execution_count": 72,
     "metadata": {},
     "output_type": "execute_result"
    }
   ],
   "source": [
    "Order(ann, cart, best_promo)"
   ]
  },
  {
   "cell_type": "markdown",
   "metadata": {},
   "source": [
    "[예제 6-8]에서는 promotions라는 별도 모듈에 내부 조사를 수행해서 만든 전략 함수 리스트를 사용하도록 변경했다. [예제 6-8]은 `inspect`와 `promotions`를 임포트해야 작동한다.  \n",
    "`inspect`모듈은 상위 수준의 내부 조사 함수를 제공한다(여기서는 코드를 간단히 표현하기 위해 일반적으로 파일의 윗부분에서 수행하는 임포트 명령을 생략했다.)"
   ]
  },
  {
   "cell_type": "code",
   "execution_count": 74,
   "metadata": {
    "ExecuteTime": {
     "end_time": "2020-03-17T10:15:20.711773Z",
     "start_time": "2020-03-17T10:15:20.707783Z"
    }
   },
   "outputs": [],
   "source": [
    "# 예제 6-8 새로운 promotions 모듈을 내부 조사해서 만든 promos 리스트\n",
    "import inspect\n",
    "\n",
    "promos = [func for name, func in \n",
    "                    inspect.getmembers(promotions, inspect.isfunction)]\n",
    "\n",
    "def best_promo(order):\n",
    "    \"\"\"최대로 할인받을 금액을 반환한다.\"\"\"\n",
    "    return max(promo(order) for promo in promos)    # best_promo() 내부는 변경되지 않았다."
   ]
  },
  {
   "cell_type": "markdown",
   "metadata": {},
   "source": [
    "`inspect.getmembers()` 함수는 조건식(predicate; 불리언형 함수가 사용된다)으로 걸러낸 객체의 속성들을 반환한다. "
   ]
  },
  {
   "cell_type": "markdown",
   "metadata": {},
   "source": [
    "## 6.2 명령\n",
    "함수를 인수로 전달하는 기법을 사용하면 명령 디자인 패턴도 구현을 단순하게 만들 수 있다."
   ]
  },
  {
   "cell_type": "code",
   "execution_count": 75,
   "metadata": {
    "ExecuteTime": {
     "end_time": "2020-03-17T10:23:30.812909Z",
     "start_time": "2020-03-17T10:23:30.806926Z"
    }
   },
   "outputs": [],
   "source": [
    "# 예제 6-9 각각의 MacroCommand 객체는 내부에 명령 리스트를 갖고 있다.\n",
    "class MacroCommand:\n",
    "    \"\"\"명령 리스트를 실행하는 명령\"\"\"\n",
    "    \n",
    "    def __init__(self, commands):\n",
    "        self.commands = list(commands)\n",
    "        # commands 인수로부터 리스트를 만들면 명령들이 반복 가능한 객체임이 보장되며,\n",
    "        # 각각의 MacroCommand 객체 안에 명령에 대한 참조를 복사하게 된다.\n",
    "        \n",
    "    def __call__(self):\n",
    "        for command in self.commands: \n",
    "        # MacroCommand 객체가 호출되면 self.commands에 들어있는 명령이 순서대로 호출된다.\n",
    "            command()"
   ]
  },
  {
   "cell_type": "code",
   "execution_count": null,
   "metadata": {},
   "outputs": [],
   "source": []
  }
 ],
 "metadata": {
  "kernelspec": {
   "display_name": "Python 3",
   "language": "python",
   "name": "python3"
  },
  "language_info": {
   "codemirror_mode": {
    "name": "ipython",
    "version": 3
   },
   "file_extension": ".py",
   "mimetype": "text/x-python",
   "name": "python",
   "nbconvert_exporter": "python",
   "pygments_lexer": "ipython3",
   "version": "3.7.4"
  },
  "varInspector": {
   "cols": {
    "lenName": 16,
    "lenType": 16,
    "lenVar": 40
   },
   "kernels_config": {
    "python": {
     "delete_cmd_postfix": "",
     "delete_cmd_prefix": "del ",
     "library": "var_list.py",
     "varRefreshCmd": "print(var_dic_list())"
    },
    "r": {
     "delete_cmd_postfix": ") ",
     "delete_cmd_prefix": "rm(",
     "library": "var_list.r",
     "varRefreshCmd": "cat(var_dic_list()) "
    }
   },
   "types_to_exclude": [
    "module",
    "function",
    "builtin_function_or_method",
    "instance",
    "_Feature"
   ],
   "window_display": false
  }
 },
 "nbformat": 4,
 "nbformat_minor": 2
}
