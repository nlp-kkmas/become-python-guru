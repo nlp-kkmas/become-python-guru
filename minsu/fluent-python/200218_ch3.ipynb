{
 "cells": [
  {
   "cell_type": "markdown",
   "metadata": {},
   "source": [
    "# CHAPTER 3 딕셔너리와 집합"
   ]
  },
  {
   "cell_type": "markdown",
   "metadata": {},
   "source": [
    "* 파이썬 딕셔너리 뒤에는 **해시 테이블**이라는 엔진이 있다.\n",
    "* 집합도 해시 테이블을 이용해서 구현한다. \n",
    "* 해시 테이블이 작동하는 방식을 알아야 딕셔너리와 집합을 최대로 활용할 수 있따."
   ]
  },
  {
   "cell_type": "markdown",
   "metadata": {},
   "source": [
    "# 3.1 일반적인 매핑형"
   ]
  },
  {
   "cell_type": "markdown",
   "metadata": {},
   "source": [
    "* `collections.abc` 모듈은 dict 및 이와 유사한 자료형의 인터페이스를 정의하기 위해 Mapping 및 MutableMapping 추상 베이스 클래스(ABC)를 제공한다. \n",
    "* 특화된 매핑은 `dict`나 `collections.UserDict`클래스를 상속하기도 한다. \n",
    "* 추상 베이스 클래스는 매핑이 제공해야 하는 최소한의 인터페이스를 정의하고 문서화하기 위한 것.\n",
    "* 넓은 의미의 매핑을 지원해야 하는 코드에서 `isinstance()` 테스트를 하기 위한 기준으로 사용."
   ]
  },
  {
   "cell_type": "code",
   "execution_count": 2,
   "metadata": {},
   "outputs": [
    {
     "data": {
      "text/plain": [
       "True"
      ]
     },
     "execution_count": 2,
     "metadata": {},
     "output_type": "execute_result"
    }
   ],
   "source": [
    "my_dict = {}\n",
    "import collections\n",
    "isinstance(my_dict, collections.abc.Mapping)"
   ]
  },
  {
   "cell_type": "code",
   "execution_count": 3,
   "metadata": {},
   "outputs": [
    {
     "data": {
      "text/plain": [
       "False"
      ]
     },
     "execution_count": 3,
     "metadata": {},
     "output_type": "execute_result"
    }
   ],
   "source": [
    "my_list = []\n",
    "isinstance(my_list, collections.abc.Mapping)"
   ]
  },
  {
   "cell_type": "markdown",
   "metadata": {},
   "source": [
    "* 표준 라이브러리에서 제공하는 매핑형은 모두 `dict`를 이용해서 구현하므로, 키가 **해시 가능**해야 한다는 제한을 갖고 있다. (값은 해시 가능할 필요 없고, 키만 해시 가능하면 된다.)"
   ]
  },
  {
   "cell_type": "code",
   "execution_count": 4,
   "metadata": {},
   "outputs": [
    {
     "data": {
      "text/plain": [
       "True"
      ]
     },
     "execution_count": 4,
     "metadata": {},
     "output_type": "execute_result"
    }
   ],
   "source": [
    "# 딕셔너리를 구현하는 다양한 방법\n",
    "a = dict(one=1, two=2, three=3)\n",
    "b = {'one': 1, 'two': 2, 'three': 3}\n",
    "c = dict(zip(['one', 'two', 'three'], [1, 2, 3]))\n",
    "d = dict([('two', 2), ('one', 1), ('three', 3)])\n",
    "e = dict({'three': 3, 'one': 1, 'two': 2})\n",
    "a == b == c == d == e"
   ]
  },
  {
   "cell_type": "markdown",
   "metadata": {},
   "source": [
    "# 3.2 지능형 딕셔너리"
   ]
  },
  {
   "cell_type": "markdown",
   "metadata": {},
   "source": [
    "* 지능형 딕셔너리(dictcomp)는 모든 반복형 객체에서 키-값 쌍을 생성함으로써 딕셔너리 객체를 만들 수 있다."
   ]
  },
  {
   "cell_type": "code",
   "execution_count": 5,
   "metadata": {},
   "outputs": [],
   "source": [
    "DIAL_CODES = [\n",
    "            (86, 'China'),\n",
    "            (91, 'India'),\n",
    "            (1, 'United States'),\n",
    "            (62, 'Indonesia'),\n",
    "            (55, 'Brazil'),\n",
    "            (92, 'Pakistan'),\n",
    "            (880, 'Bangladesh'),\n",
    "            (234, 'Nigeria'),\n",
    "            (7, 'Russia'),\n",
    "            (81, 'Japan')\n",
    "] # dict 생성자에 키-값 쌍의 리스트를 바로 사용할 수 있따."
   ]
  },
  {
   "cell_type": "code",
   "execution_count": 6,
   "metadata": {},
   "outputs": [],
   "source": [
    "country_code = {country: code for code, country in DIAL_CODES} # 쌍을 뒤바꿔서 country는 키, code는 값"
   ]
  },
  {
   "cell_type": "code",
   "execution_count": 7,
   "metadata": {},
   "outputs": [
    {
     "data": {
      "text/plain": [
       "{'China': 86,\n",
       " 'India': 91,\n",
       " 'United States': 1,\n",
       " 'Indonesia': 62,\n",
       " 'Brazil': 55,\n",
       " 'Pakistan': 92,\n",
       " 'Bangladesh': 880,\n",
       " 'Nigeria': 234,\n",
       " 'Russia': 7,\n",
       " 'Japan': 81}"
      ]
     },
     "execution_count": 7,
     "metadata": {},
     "output_type": "execute_result"
    }
   ],
   "source": [
    "country_code"
   ]
  },
  {
   "cell_type": "code",
   "execution_count": 8,
   "metadata": {},
   "outputs": [
    {
     "data": {
      "text/plain": [
       "{1: 'UNITED STATES', 62: 'INDONESIA', 55: 'BRAZIL', 7: 'RUSSIA'}"
      ]
     },
     "execution_count": 8,
     "metadata": {},
     "output_type": "execute_result"
    }
   ],
   "source": [
    "{code: country.upper() for country, code in country_code.items() if code < 66}\n",
    "# 쌍을 한 번 더 뒤바꿔서 값을 대문자로 바꾸고, code가 66보다 작은 항목만 걸러낸다."
   ]
  },
  {
   "cell_type": "markdown",
   "metadata": {},
   "source": [
    "# 3.3 공통적인 매핑 메서드"
   ]
  },
  {
   "cell_type": "markdown",
   "metadata": {},
   "source": [
    "* `d.update(m, [**kargs])` : `update()` 메서드가 첫 번째 인수 m을 다루는 방식은 **덕 타이핑(duck typing)** 의 대표적인 사례다. \n",
    "* 먼저 m이 `keys()` 메서드를 갖고 있는지 확인한 후, 만약 메서드를 갖고 있으면 매핑이라고 간주한다.\n",
    "* `keys()` 메서드가 없으면, `update()` 메서드는 m의 항목들이 (키, 값) 쌍으로 되어있다고 간주하고 m을 반복한다. \n",
    "* 대부분의 파이썬 매핑은 `update()` 메서드와 같은 논리를 내부적으로 구현한다. \n",
    "* 따라서 매핑은 다른 매핑으로 초기화하거나, (키, 값) 쌍을 생성할 수 있는 반복형 객체로 초기화할 수 있다."
   ]
  },
  {
   "cell_type": "markdown",
   "metadata": {},
   "source": [
    "## 3.3.1 존재하지 않는 키를 setdefault()로 처리하기"
   ]
  },
  {
   "cell_type": "markdown",
   "metadata": {},
   "source": [
    "* **조기 실패(fail-fast)** 철학에 따라, 존재하지 않는 키 `k`로 `d[k]`를 접근하면 `dict`는 오류를 발생시킨다. \n",
    "* `KeyError`를 처리하는 것보다 기본값을 사용하는 것이 더 편리한 경우에는 `d[k]` 대신 `d.get(k, default)`를 사용한다. \n",
    "* [예제 3-2]는 존재하지 않는 키를 처리할 때 `dict.get()`이 좋지 않은 사례를 보여준다."
   ]
  },
  {
   "cell_type": "code",
   "execution_count": 10,
   "metadata": {},
   "outputs": [],
   "source": [
    "# 예제 3-2 dict.get()을 이용해서 인덱스에서 발생한 단어 목록을 가져와서 갱신하는 index0.py."
   ]
  },
  {
   "cell_type": "code",
   "execution_count": 16,
   "metadata": {},
   "outputs": [
    {
     "name": "stdout",
     "output_type": "stream",
     "text": [
      "0 [(12, 17), (13, 22)]\n",
      "added [(11, 15)]\n",
      "after [(4, 1)]\n",
      "an [(1, 30)]\n",
      "app [(15, 40), (16, 5)]\n",
      "as [(15, 37)]\n",
      "avoid [(3, 55)]\n",
      "back [(11, 21)]\n",
      "by [(11, 26)]\n",
      "can [(3, 51)]\n",
      "cwd [(4, 20)]\n",
      "CWD [(10, 18)]\n",
      "del [(13, 9)]\n",
      "doing [(3, 61)]\n",
      "Entry [(1, 4)]\n",
      "for [(1, 16)]\n",
      "from [(3, 18), (4, 24), (10, 22), (15, 5)]\n",
      "if [(9, 1), (12, 5)]\n",
      "import [(7, 1), (15, 20)]\n",
      "imports [(3, 67)]\n",
      "init_path [(11, 49)]\n",
      "InteractiveShellApp [(11, 29)]\n",
      "ipykernel [(3, 27), (15, 10)]\n",
      "IPython [(1, 33)]\n",
      "is [(3, 6), (11, 12)]\n",
      "kernel [(1, 41)]\n",
      "kernelapp [(15, 27)]\n",
      "launching [(1, 20)]\n",
      "launch_new_instance [(16, 9)]\n",
      "load [(10, 45)]\n",
      "package [(3, 37)]\n",
      "path [(4, 33), (10, 31), (12, 12), (13, 17)]\n",
      "point [(1, 10)]\n",
      "Remove [(10, 7)]\n",
      "removing [(4, 7)]\n",
      "separate [(3, 9)]\n",
      "so [(3, 45)]\n",
      "stuff [(10, 50)]\n",
      "sys [(4, 29), (7, 8), (10, 27), (12, 8), (13, 13)]\n",
      "the [(3, 23), (4, 16), (10, 14)]\n",
      "This [(3, 1), (11, 7)]\n",
      "until [(3, 75)]\n",
      "we [(3, 48), (10, 42)]\n",
      "while [(10, 36)]\n",
      "__main__ [(9, 17)]\n",
      "__name__ [(9, 4)]\n"
     ]
    }
   ],
   "source": [
    "\"\"\"단어가 나타나는 위치를 가리키는 인덱스를 만든다.\"\"\"\n",
    "\n",
    "import sys\n",
    "import re\n",
    "\n",
    "WORD_RE = re.compile(r'\\w+')\n",
    "\n",
    "index = {}\n",
    "\n",
    "with open(sys.argv[0], encoding='utf-8') as fp:\n",
    "    for line_no, line in enumerate(fp, 1):\n",
    "#         print(line_no, line)\n",
    "        for match in WORD_RE.finditer(line):\n",
    "            word = match.group()\n",
    "            column_no = match.start()+1\n",
    "            location = (line_no, column_no)\n",
    "            # 보기 좋은 코드는 아니지만, 설명하기 위해 이렇게 구현했다.\n",
    "            \n",
    "            # 단어(word)에 대한 occurrences 리스트를 가져오거나, 단어가 없으면 빈 배열([])을 가져온다. \n",
    "            occurrences = index.get(word, []) \n",
    "            occurrences.append(location)\n",
    "            \n",
    "            # 변경된 occurrences를 index 딕셔너리에 넣는다. 그러면 index를 한 번 더 검색한다. \n",
    "            index[word] = occurrences\n",
    "            \n",
    "# 알파벳순으로 출력한다.\n",
    "# sorted 함수의 key 인수안에서 str.upper()를 호출하지 않고, 단지 str.upper() 함수에 대한 참조를 전달해서\n",
    "# sorted 함수가 이 함수를 이용해서 정렬할 단어를 저유고하하게 만든다. \n",
    "for word in sorted(index, key=str.upper): \n",
    "    print(word, index[word])"
   ]
  },
  {
   "cell_type": "code",
   "execution_count": 20,
   "metadata": {},
   "outputs": [
    {
     "name": "stdout",
     "output_type": "stream",
     "text": [
      "0 [(12, 17), (13, 22)]\n",
      "added [(11, 15)]\n",
      "after [(4, 1)]\n",
      "an [(1, 30)]\n",
      "app [(15, 40), (16, 5)]\n",
      "as [(15, 37)]\n",
      "avoid [(3, 55)]\n",
      "back [(11, 21)]\n",
      "by [(11, 26)]\n",
      "can [(3, 51)]\n",
      "cwd [(4, 20)]\n",
      "CWD [(10, 18)]\n",
      "del [(13, 9)]\n",
      "doing [(3, 61)]\n",
      "Entry [(1, 4)]\n",
      "for [(1, 16)]\n",
      "from [(3, 18), (4, 24), (10, 22), (15, 5)]\n",
      "if [(9, 1), (12, 5)]\n",
      "import [(7, 1), (15, 20)]\n",
      "imports [(3, 67)]\n",
      "init_path [(11, 49)]\n",
      "InteractiveShellApp [(11, 29)]\n",
      "ipykernel [(3, 27), (15, 10)]\n",
      "IPython [(1, 33)]\n",
      "is [(3, 6), (11, 12)]\n",
      "kernel [(1, 41)]\n",
      "kernelapp [(15, 27)]\n",
      "launching [(1, 20)]\n",
      "launch_new_instance [(16, 9)]\n",
      "load [(10, 45)]\n",
      "package [(3, 37)]\n",
      "path [(4, 33), (10, 31), (12, 12), (13, 17)]\n",
      "point [(1, 10)]\n",
      "Remove [(10, 7)]\n",
      "removing [(4, 7)]\n",
      "separate [(3, 9)]\n",
      "so [(3, 45)]\n",
      "stuff [(10, 50)]\n",
      "sys [(4, 29), (7, 8), (10, 27), (12, 8), (13, 13)]\n",
      "the [(3, 23), (4, 16), (10, 14)]\n",
      "This [(3, 1), (11, 7)]\n",
      "until [(3, 75)]\n",
      "we [(3, 48), (10, 42)]\n",
      "while [(10, 36)]\n",
      "__main__ [(9, 17)]\n",
      "__name__ [(9, 4)]\n"
     ]
    }
   ],
   "source": [
    "# 예제 3-4 인덱스에서 발생한 단어 목록을 가져와서 갱신하는 index.py, dict.setdefault()를 사용해서\n",
    "# 단 한줄로 구현했다. \n",
    "\n",
    "\"\"\"단어가 나타나는 위치를 가리키는 인덱스를 만든다.\"\"\"\n",
    "\n",
    "import sys\n",
    "import re\n",
    "\n",
    "WORD_RE = re.compile(r'\\w+')\n",
    "\n",
    "index = {}\n",
    "\n",
    "with open(sys.argv[0], encoding='utf-8') as fp:\n",
    "    for line_no, line in enumerate(fp, 1):\n",
    "        for match in WORD_RE.finditer(line):\n",
    "            word = match.group()\n",
    "            column_no = match.start() +1\n",
    "            location = (line_no, column_no)\n",
    "            \n",
    "            # setdefault()가 값을 반환하므로 한 번 더 검색할 필요 없이 갱신할 수 있다. \n",
    "            index.setdefault(word, []).append(location) \n",
    "            \n",
    "# 알파벳순으로 출력한다,\n",
    "for word in sorted(index, key=str.upper):\n",
    "    print(word, index[word])"
   ]
  },
  {
   "cell_type": "markdown",
   "metadata": {},
   "source": [
    "변경된 부분을 확인해보자."
   ]
  },
  {
   "cell_type": "code",
   "execution_count": null,
   "metadata": {},
   "outputs": [],
   "source": [
    "my_dict.setdefault(key, []).append(new_value)"
   ]
  },
  {
   "cell_type": "markdown",
   "metadata": {},
   "source": [
    "위 코드는 아래 코드를 실행한 결과와 같다."
   ]
  },
  {
   "cell_type": "code",
   "execution_count": null,
   "metadata": {},
   "outputs": [],
   "source": [
    "if key not in my_dict:\n",
    "    my_dict[key] = []\n",
    "my_dict[key].append(new_value)"
   ]
  },
  {
   "cell_type": "markdown",
   "metadata": {},
   "source": [
    "# 3.4 융통성 있게 키를 조회하는 매핑"
   ]
  },
  {
   "cell_type": "markdown",
   "metadata": {},
   "source": [
    "* 검색할 때 키가 존재하지 않으면 어떤 특별한 값을 반환하는 매핑이 있으면 편리한 때가 종종있다.\n",
    "\n",
    "\n",
    "* 이런 딕셔너리를 만드는 방법은 크게 두 가지다.  \n",
    "1) 평범한 `dict` 대신 `defaultdict`을 사용하는 방법.  \n",
    "2) `dict` 등의 매핑형을 상속해서 `__mising__()` 메서드를 추가하는 방법."
   ]
  },
  {
   "cell_type": "markdown",
   "metadata": {},
   "source": [
    "## 3.4.1 defaultdict: 존재하지 않는 키에 대한 또 다른 처리"
   ]
  },
  {
   "cell_type": "markdown",
   "metadata": {},
   "source": [
    "* `defaultdict`는 존재하지 않는 키로 검색할 때 요청에 따라 항목을 생성하도록 설정되어 있다.\n",
    "* 작동방식은, `defaultdict` 객체를 생성할 때 존재하지 않는 키 인수로 `__getitem__()` 메서드를 호출할 때마다  \n",
    "    기본값을 생성하기 위해 사용되는 콜러블을 제공하는 것이다.\n",
    "      \n",
    "      \n",
    "* 예를 들어, `dd = defaultdict(list)` 객체를 생성한 후,   \n",
    "    `dd`에 존재하지 않는 키인 `new-key`로 `dd[new-key]` 표현식을 실행하면 다음과 같이 처리된다.  \n",
    "    1) 리스트를 새로 생성하기 위해 `list()`를 호출한다.  \n",
    "    2) `new-key`를 키로 사용해서 새로운 리스트를 `dd`에 삽입한다.  \n",
    "    3) 리스트에 대한 참조를 반환한다.\n",
    "* 기본값을 생성하는 콜러블은 `default_factory`라는 객체 속성에 저장된다."
   ]
  },
  {
   "cell_type": "code",
   "execution_count": 22,
   "metadata": {},
   "outputs": [
    {
     "name": "stdout",
     "output_type": "stream",
     "text": [
      "0 [(12, 17), (13, 22)]\n",
      "added [(11, 15)]\n",
      "after [(4, 1)]\n",
      "an [(1, 30)]\n",
      "app [(15, 40), (16, 5)]\n",
      "as [(15, 37)]\n",
      "avoid [(3, 55)]\n",
      "back [(11, 21)]\n",
      "by [(11, 26)]\n",
      "can [(3, 51)]\n",
      "cwd [(4, 20)]\n",
      "CWD [(10, 18)]\n",
      "del [(13, 9)]\n",
      "doing [(3, 61)]\n",
      "Entry [(1, 4)]\n",
      "for [(1, 16)]\n",
      "from [(3, 18), (4, 24), (10, 22), (15, 5)]\n",
      "if [(9, 1), (12, 5)]\n",
      "import [(7, 1), (15, 20)]\n",
      "imports [(3, 67)]\n",
      "init_path [(11, 49)]\n",
      "InteractiveShellApp [(11, 29)]\n",
      "ipykernel [(3, 27), (15, 10)]\n",
      "IPython [(1, 33)]\n",
      "is [(3, 6), (11, 12)]\n",
      "kernel [(1, 41)]\n",
      "kernelapp [(15, 27)]\n",
      "launching [(1, 20)]\n",
      "launch_new_instance [(16, 9)]\n",
      "load [(10, 45)]\n",
      "package [(3, 37)]\n",
      "path [(4, 33), (10, 31), (12, 12), (13, 17)]\n",
      "point [(1, 10)]\n",
      "Remove [(10, 7)]\n",
      "removing [(4, 7)]\n",
      "separate [(3, 9)]\n",
      "so [(3, 45)]\n",
      "stuff [(10, 50)]\n",
      "sys [(4, 29), (7, 8), (10, 27), (12, 8), (13, 13)]\n",
      "the [(3, 23), (4, 16), (10, 14)]\n",
      "This [(3, 1), (11, 7)]\n",
      "until [(3, 75)]\n",
      "we [(3, 48), (10, 42)]\n",
      "while [(10, 36)]\n",
      "__main__ [(9, 17)]\n",
      "__name__ [(9, 4)]\n"
     ]
    }
   ],
   "source": [
    "# 예제 3-5 index_default.py: setdefault() 메서드 대신 defaultdict 객체 사용하기\n",
    "\"\"\"단어가 나타나는 위치를 가리키는 인덱스를 만든다.\"\"\"\n",
    "import sys\n",
    "import re\n",
    "import collections\n",
    "\n",
    "WORD_RE = re.compile(r'\\w+')\n",
    "\n",
    "index = collections.defaultdict(list) # default_factory에 list생성자를 갖고 있는 defaultdict를 생성한다. \n",
    "with open(sys.argv[0], encoding='utf-8') as fp:\n",
    "    for line_no, line in enumerate(fp, 1):\n",
    "        for match in WORD_RE.finditer(line):\n",
    "            word = match.group()\n",
    "            column_no = match.start()+1\n",
    "            location = (line_no, column_no)\n",
    "            \n",
    "            # word가 index에 들어있지 않으면 default_factory를 호출해서 없는 값에 대한 항목을 생성하는데,\n",
    "            # 여기서는 빈 리스트를 생성해서 index[word]에 할당한 후 반환하므로, \n",
    "            # append(location) 연산은 언제나 성공한다. \n",
    "            index[word].append(location)\n",
    "            \n",
    "# 알파벳순으로 출력한다.\n",
    "for word in sorted(index, key=str.upper):\n",
    "    print(word, index[word])"
   ]
  },
  {
   "cell_type": "markdown",
   "metadata": {},
   "source": [
    "* default_factory가 설정되어 있지 않으면, 키가 없을 때 흔히 볼 수 있는 `KeyError`가 발생한다."
   ]
  },
  {
   "cell_type": "markdown",
   "metadata": {},
   "source": [
    "### CAUTION_\n",
    "* `defaultdict`의 `default_factory`는 `__getitem__()` 호출에 대한 기본값을 제공하기 위해 호출되며,  \n",
    "    다른 메서드를 통해서는 호출되지 않는다.\n",
    "* 예를 들어, `dd`가 `defaultdict` 형이며, `k`가 존재하지 않는 키면, `dd[k]`는 `default_factory`를 호출해서  \n",
    "    기본값을 생성하지만, `dd.get(k)`는 단지 `None`을 반환할 뿐이다."
   ]
  },
  {
   "cell_type": "markdown",
   "metadata": {},
   "source": [
    "## 3.4.2 __missing__() 메서드"
   ]
  },
  {
   "cell_type": "markdown",
   "metadata": {},
   "source": [
    "* 매핑형은 이름으로도 쉽게 추측할 수 있는 `__missing__()` 메서드를 이용해서 존재하지 않는 키를 처리한다.\n",
    "* 이 특수 메서드는 기본 클래스인 `dict`에는 정의되어 있지 않지만, `dict`는 이 메서드를 알고 있다.\n",
    "* 따라서, `dict` 클래스를 상속하고 `__missing__()` 메서드를 정의하면,  \n",
    "    `dict.__getitem__()` 표준 메서드가 키를 발견할 수 없을 때 `KeyError`를 발생시키지 않고 `__missing__()` 메서드를 호출한다."
   ]
  },
  {
   "cell_type": "code",
   "execution_count": 56,
   "metadata": {},
   "outputs": [
    {
     "data": {
      "text/plain": [
       "'two'"
      ]
     },
     "execution_count": 56,
     "metadata": {},
     "output_type": "execute_result"
    }
   ],
   "source": [
    "# 예제 3-6 비문자열 키를 검색할 때 키를 발견하지 못하면 키를 문자열로 반환하는 StrKeyDict0\n",
    "d = StrKeyDict0([('2', 'two'), ('4', 'four')])\n",
    "\n",
    "# d[key] 표기법을 이용해서 항목을 가져오는 테스트\n",
    "d['2']"
   ]
  },
  {
   "cell_type": "code",
   "execution_count": 57,
   "metadata": {},
   "outputs": [
    {
     "data": {
      "text/plain": [
       "'four'"
      ]
     },
     "execution_count": 57,
     "metadata": {},
     "output_type": "execute_result"
    }
   ],
   "source": [
    "d[4]"
   ]
  },
  {
   "cell_type": "code",
   "execution_count": 58,
   "metadata": {},
   "outputs": [
    {
     "ename": "KeyError",
     "evalue": "'1'",
     "output_type": "error",
     "traceback": [
      "\u001b[1;31m---------------------------------------------------------------------------\u001b[0m",
      "\u001b[1;31mKeyError\u001b[0m                                  Traceback (most recent call last)",
      "\u001b[1;32m<ipython-input-58-abe283337115>\u001b[0m in \u001b[0;36m<module>\u001b[1;34m\u001b[0m\n\u001b[1;32m----> 1\u001b[1;33m \u001b[0md\u001b[0m\u001b[1;33m[\u001b[0m\u001b[1;36m1\u001b[0m\u001b[1;33m]\u001b[0m\u001b[1;33m\u001b[0m\u001b[1;33m\u001b[0m\u001b[0m\n\u001b[0m",
      "\u001b[1;32m<ipython-input-55-3bb0b119e9bf>\u001b[0m in \u001b[0;36m__missing__\u001b[1;34m(self, key)\u001b[0m\n\u001b[0;32m      5\u001b[0m         \u001b[1;32mif\u001b[0m \u001b[0misinstance\u001b[0m\u001b[1;33m(\u001b[0m\u001b[0mkey\u001b[0m\u001b[1;33m,\u001b[0m \u001b[0mstr\u001b[0m\u001b[1;33m)\u001b[0m\u001b[1;33m:\u001b[0m \u001b[1;31m# 키가 문자열인지 확인한다.\u001b[0m\u001b[1;33m\u001b[0m\u001b[1;33m\u001b[0m\u001b[0m\n\u001b[0;32m      6\u001b[0m             \u001b[1;32mraise\u001b[0m \u001b[0mKeyError\u001b[0m\u001b[1;33m(\u001b[0m\u001b[0mkey\u001b[0m\u001b[1;33m)\u001b[0m\u001b[1;33m\u001b[0m\u001b[1;33m\u001b[0m\u001b[0m\n\u001b[1;32m----> 7\u001b[1;33m         \u001b[1;32mreturn\u001b[0m \u001b[0mself\u001b[0m\u001b[1;33m[\u001b[0m\u001b[0mstr\u001b[0m\u001b[1;33m(\u001b[0m\u001b[0mkey\u001b[0m\u001b[1;33m)\u001b[0m\u001b[1;33m]\u001b[0m    \u001b[1;31m# 키에서 문자열을 만들고 조회한다.\u001b[0m\u001b[1;33m\u001b[0m\u001b[1;33m\u001b[0m\u001b[0m\n\u001b[0m\u001b[0;32m      8\u001b[0m \u001b[1;33m\u001b[0m\u001b[0m\n\u001b[0;32m      9\u001b[0m     \u001b[1;32mdef\u001b[0m \u001b[0mget\u001b[0m\u001b[1;33m(\u001b[0m\u001b[0mself\u001b[0m\u001b[1;33m,\u001b[0m \u001b[0mkey\u001b[0m\u001b[1;33m,\u001b[0m \u001b[0mdefault\u001b[0m\u001b[1;33m=\u001b[0m\u001b[1;32mNone\u001b[0m\u001b[1;33m)\u001b[0m\u001b[1;33m:\u001b[0m\u001b[1;33m\u001b[0m\u001b[1;33m\u001b[0m\u001b[0m\n",
      "\u001b[1;32m<ipython-input-55-3bb0b119e9bf>\u001b[0m in \u001b[0;36m__missing__\u001b[1;34m(self, key)\u001b[0m\n\u001b[0;32m      4\u001b[0m     \u001b[1;32mdef\u001b[0m \u001b[0m__missing__\u001b[0m\u001b[1;33m(\u001b[0m\u001b[0mself\u001b[0m\u001b[1;33m,\u001b[0m \u001b[0mkey\u001b[0m\u001b[1;33m)\u001b[0m\u001b[1;33m:\u001b[0m\u001b[1;33m\u001b[0m\u001b[1;33m\u001b[0m\u001b[0m\n\u001b[0;32m      5\u001b[0m         \u001b[1;32mif\u001b[0m \u001b[0misinstance\u001b[0m\u001b[1;33m(\u001b[0m\u001b[0mkey\u001b[0m\u001b[1;33m,\u001b[0m \u001b[0mstr\u001b[0m\u001b[1;33m)\u001b[0m\u001b[1;33m:\u001b[0m \u001b[1;31m# 키가 문자열인지 확인한다.\u001b[0m\u001b[1;33m\u001b[0m\u001b[1;33m\u001b[0m\u001b[0m\n\u001b[1;32m----> 6\u001b[1;33m             \u001b[1;32mraise\u001b[0m \u001b[0mKeyError\u001b[0m\u001b[1;33m(\u001b[0m\u001b[0mkey\u001b[0m\u001b[1;33m)\u001b[0m\u001b[1;33m\u001b[0m\u001b[1;33m\u001b[0m\u001b[0m\n\u001b[0m\u001b[0;32m      7\u001b[0m         \u001b[1;32mreturn\u001b[0m \u001b[0mself\u001b[0m\u001b[1;33m[\u001b[0m\u001b[0mstr\u001b[0m\u001b[1;33m(\u001b[0m\u001b[0mkey\u001b[0m\u001b[1;33m)\u001b[0m\u001b[1;33m]\u001b[0m    \u001b[1;31m# 키에서 문자열을 만들고 조회한다.\u001b[0m\u001b[1;33m\u001b[0m\u001b[1;33m\u001b[0m\u001b[0m\n\u001b[0;32m      8\u001b[0m \u001b[1;33m\u001b[0m\u001b[0m\n",
      "\u001b[1;31mKeyError\u001b[0m: '1'"
     ]
    }
   ],
   "source": [
    "d[1]"
   ]
  },
  {
   "cell_type": "code",
   "execution_count": 59,
   "metadata": {},
   "outputs": [
    {
     "data": {
      "text/plain": [
       "'two'"
      ]
     },
     "execution_count": 59,
     "metadata": {},
     "output_type": "execute_result"
    }
   ],
   "source": [
    "# d.get(key) 표기법을 이용해서 항목을 가져오는 테스트\n",
    "d.get('2')"
   ]
  },
  {
   "cell_type": "code",
   "execution_count": 60,
   "metadata": {},
   "outputs": [
    {
     "data": {
      "text/plain": [
       "'four'"
      ]
     },
     "execution_count": 60,
     "metadata": {},
     "output_type": "execute_result"
    }
   ],
   "source": [
    "d.get(4)"
   ]
  },
  {
   "cell_type": "code",
   "execution_count": 61,
   "metadata": {},
   "outputs": [
    {
     "data": {
      "text/plain": [
       "'N/A'"
      ]
     },
     "execution_count": 61,
     "metadata": {},
     "output_type": "execute_result"
    }
   ],
   "source": [
    "d.get(1, 'N/A') # 먼저 get에서 __getitem__() 실행 -> 실패 -> __missing__() 실행 -> 실패 -> return default"
   ]
  },
  {
   "cell_type": "code",
   "execution_count": 62,
   "metadata": {},
   "outputs": [
    {
     "data": {
      "text/plain": [
       "True"
      ]
     },
     "execution_count": 62,
     "metadata": {},
     "output_type": "execute_result"
    }
   ],
   "source": [
    "# in 연산자 테스트\n",
    "2 in d"
   ]
  },
  {
   "cell_type": "code",
   "execution_count": 63,
   "metadata": {},
   "outputs": [
    {
     "data": {
      "text/plain": [
       "False"
      ]
     },
     "execution_count": 63,
     "metadata": {},
     "output_type": "execute_result"
    }
   ],
   "source": [
    "1 in d"
   ]
  },
  {
   "cell_type": "code",
   "execution_count": 55,
   "metadata": {},
   "outputs": [],
   "source": [
    "# 예제 3-7 조회할 때 키를 문자열로 반환하는 StrKeyDict0\n",
    "class StrKeyDict0(dict): # dict.__getitem__() 내장 메서드가 __missing__() 메서드를 지원한다는 것을 보여주기 위해\n",
    "                         # dict 클래스를 상속했다.\n",
    "    def __missing__(self, key):\n",
    "        if isinstance(key, str): # 키가 문자열인지 확인한다. \n",
    "            raise KeyError(key)\n",
    "        return self[str(key)]    # 키에서 문자열을 만들고 조회한다. \n",
    "    \n",
    "    def get(self, key, default=None):\n",
    "        try:\n",
    "            return self[key]     # get() 메서드는 self[key] 표기법을 이용해서 __getitem__() 메서드에 위임한다.\n",
    "        except KeyError:         # 이렇게 함으로써 __missing__() 메서드가작동할 수 있는 기회를 준다. \n",
    "            return default       # KeyError가 발생하면 __missing__() 메서드가 실패한 것이므로 default를 반환.\n",
    "        \n",
    "    def __contains__(self, key):\n",
    "        return key in self.keys() or str(key) in self.keys() \n",
    "        # 수정하지 않은 (문자열이 아닐 수 있는) 키를 검색하고 나서, 키에서 만든 문자열로 검색한다. "
   ]
  },
  {
   "cell_type": "markdown",
   "metadata": {},
   "source": [
    "### Note\n",
    "* 사용자 정의 매피형을 만들 때는 `dict`보다 `collections.UserDict` 클래스를 상속하는 것이 더 낫다."
   ]
  },
  {
   "cell_type": "markdown",
   "metadata": {},
   "source": [
    "* 위에서 `__missing__()` 메서드 안에 `isinstance(key, str)` 이 없으면 `str(k)` 키가 존재하지 않으면 무한히 재귀적으로 호출된다. \n",
    "* 마지막 줄의 `self[str(key)]`가 `str` 키를 이용해서 `__getitem__()` 메서드를 호출하고,  \n",
    "    이때 키가 없으면 `__missing__()` 메서드를 다시 호출하기 때문이다. \n",
    "\n",
    "\n",
    "* 이 예제가 일관성 있게 동작하려면 `__contains__()` 메서드도 필요하다. \n",
    "* `k in d` 연산이 `__contains__()` 메서드를 호출하지만,  \n",
    "    `dict`에서 상속받은 `__contains__()` 메서드가 `__missing__()`을 호출하지 않기 떄문이다. \n",
    "* 키를 검색할 때 일반적으로 파이썬스러운 스타일인 `k in my_dict`로 조회하지 않는다.\n",
    "* `str(key) in self` 표현식을 사용하면 재귀적으로 `__contains__()` 메서드를 호출하기 때문이다.\n",
    "* 재귀적 호출 문제를 피하기 위해 여기서는 `key in self.keys()`와 같이 명시적으로 키를 조회한다."
   ]
  },
  {
   "cell_type": "markdown",
   "metadata": {},
   "source": [
    "**NOTE**  \n",
    "* 파이썬3에서는 아주 큰 매핑의 경우에도 `k in my_dict.keys()` 형태의 검색이 효율적이다."
   ]
  },
  {
   "cell_type": "markdown",
   "metadata": {},
   "source": [
    "# 3.5 그 외 매핑형"
   ]
  },
  {
   "cell_type": "markdown",
   "metadata": {},
   "source": [
    "**collections.OrderedDict**\n",
    "* 키를 삽입한 순서대로 유지함으로써 항목을 반복하는 순서를 예측할 수 있다.\n",
    "\n",
    "**collections.ChainMap**\n",
    "* 매핑들의 목록을 담고 있으며 한꺼번에 모두 검색할 수 있다. 각 매핑을 차례대로 검색하고,  \n",
    "    그중 하나에서라도 키가 검색되면 성공한다. \n",
    "    \n",
    "**collcetions.Counter**\n",
    "* 모든 키에 정수형 카운터를 갖고 있는 매핑.\n",
    "* 기존 키를 갱신하면 카운터가 늘어난다. "
   ]
  },
  {
   "cell_type": "markdown",
   "metadata": {},
   "source": [
    "# 3.6 UserDict 상속하기"
   ]
  },
  {
   "cell_type": "markdown",
   "metadata": {},
   "source": [
    "* `dict`보다는 `UserDict`를 상속해서 매핑형을 만드는 것이 쉽다.\n",
    "* `UserDict`는 `dict`을 상속하지 않고 내부에 실제 항목을 담고 있는 `data`라고 하는 `dict`객체를 갖고 있다.\n",
    "* 이렇게 구현함으로써 `__setitem__()` 등의 특수 메서드를 구현할 때 발생하는 원치않는 재귀적 호출을 피할 수 있으며,\n",
    "* `__count__()` 메서드를 간단히 구현할 수 있다."
   ]
  },
  {
   "cell_type": "code",
   "execution_count": 64,
   "metadata": {},
   "outputs": [],
   "source": [
    "# StrKeyDict는 모든 키를 str 형으로 저장함으로써 비문자열 키로 객체를 생성하거나\n",
    "# 갱신할 때, 발생할 수 있는 예기치 못한 문제를 피하게 해준다.\n",
    "# 예제 3-8 삽입, 갱신, 조회할 때 비문자열 키를 항상 문자열로 변환하는 StrKeyDict\n",
    "\n",
    "import collections\n",
    "\n",
    "class StrKeyDict(collections.UserDict):  # StrKeyDict는 UserDict를 상속한다. \n",
    "    \n",
    "    def __missing__(self, key):          # __missing__() 메서드는 [예제 3-7]과 완전히 똑같다.\n",
    "        if isinstance(key, str):\n",
    "            raise KeyError(key)\n",
    "        return self[str(key)]\n",
    "    \n",
    "    def __contains__(self, key):\n",
    "        return str(key) in self.data     # __contains__() 메서드는 더 간단하다. 저장된 키가 모두 str형이므로,\n",
    "                                         # StrKeyDict0에서 self.keys()를 호출하는 방법과 달리 \n",
    "                                         # self.data에서 바로 조회할 수 있다. \n",
    "    def __setitem__(self, key, item):\n",
    "        self.data[str(key)] = item       # __setitem__() 메서드는 모든 키를 str형으로 변환하므로, \n",
    "                                         # 연산을 self.data에 위임할 때 더 간단히 작성할 수 있다. "
   ]
  },
  {
   "cell_type": "markdown",
   "metadata": {},
   "source": [
    "* `Userdict` 클래스가 `MutableMapping`을 상속하므로 `StrKeyDict`는 결국 `UserDict`,   \n",
    "    `MutableMapping` 또는 `Mapping`을 상속하게 되어 매핑의 모든 기능을 가지게 된다. \n",
    "* `Mapping`은 추상 베이스 클래스(ABC)임에도 불구하고 유용한 구상(concrete) 메서드를 다수 제공한다. "
   ]
  },
  {
   "cell_type": "markdown",
   "metadata": {},
   "source": [
    "**MutableMapping.update()**\n",
    "* 이 강력한 메서드는 직접 호출할 수도 있지만,   \n",
    "    다른 매핑이나 (키, 값)쌍의 반복형 및 키워드 인수에서 객체를 로딩하기 위해 `__init__()`에 의해 사용될 수도 있다. \n",
    "* 이 메서드는 항목을 추가하기 위해 'self[키] = 값' 구문을 사용하므로 결국 서브클래스에서 구현한 `__setitem__()` 메서드를 호출하게 된다.\n",
    "\n",
    "**Mapping.get()**\n",
    "* StrKeyDict0(예제 3-7)에서는 `__getitem__()`과 일치하는 결과를 가져오기 위해 `get()` 메서드를 직접 구현해야 했지만, \n",
    "* [예제 3-8]에서는 `StryKeyDict0.get()`과 완전히 동일하게 구현된 `Mapping.get()`을 상속받는다."
   ]
  },
  {
   "cell_type": "markdown",
   "metadata": {},
   "source": [
    "# 3.7 불변 매핑"
   ]
  },
  {
   "cell_type": "markdown",
   "metadata": {},
   "source": [
    "* 사용자가 실수로 매핑을 변경하지 못하도록 보장하고 싶은 경우.\n",
    "* 파이썬3.3 이후 `types` 모듈은 `MappingProxyType`이라는 래퍼 클래스를 제공해서,   \n",
    "    원래 매핑의 동적인 뷰를 제공하지만 읽기 전용의 `mappingproxy` 객체를 반환한다."
   ]
  },
  {
   "cell_type": "code",
   "execution_count": 65,
   "metadata": {},
   "outputs": [
    {
     "data": {
      "text/plain": [
       "mappingproxy({1: 'A'})"
      ]
     },
     "execution_count": 65,
     "metadata": {},
     "output_type": "execute_result"
    }
   ],
   "source": [
    "# 예제 3-9 dict에서 읽기 전용 mappingproxy 객체를 생성하는 MappingProxyType\n",
    "from types import MappingProxyType\n",
    "\n",
    "d = {1: 'A'}\n",
    "d_proxy = MappingProxyType(d)\n",
    "d_proxy"
   ]
  },
  {
   "cell_type": "code",
   "execution_count": 66,
   "metadata": {},
   "outputs": [
    {
     "data": {
      "text/plain": [
       "'A'"
      ]
     },
     "execution_count": 66,
     "metadata": {},
     "output_type": "execute_result"
    }
   ],
   "source": [
    "d_proxy[1]"
   ]
  },
  {
   "cell_type": "code",
   "execution_count": 67,
   "metadata": {},
   "outputs": [
    {
     "ename": "TypeError",
     "evalue": "'mappingproxy' object does not support item assignment",
     "output_type": "error",
     "traceback": [
      "\u001b[1;31m---------------------------------------------------------------------------\u001b[0m",
      "\u001b[1;31mTypeError\u001b[0m                                 Traceback (most recent call last)",
      "\u001b[1;32m<ipython-input-67-bc17a9a62754>\u001b[0m in \u001b[0;36m<module>\u001b[1;34m\u001b[0m\n\u001b[1;32m----> 1\u001b[1;33m \u001b[0md_proxy\u001b[0m\u001b[1;33m[\u001b[0m\u001b[1;36m2\u001b[0m\u001b[1;33m]\u001b[0m \u001b[1;33m=\u001b[0m \u001b[1;34m'x'\u001b[0m\u001b[1;33m\u001b[0m\u001b[1;33m\u001b[0m\u001b[0m\n\u001b[0m",
      "\u001b[1;31mTypeError\u001b[0m: 'mappingproxy' object does not support item assignment"
     ]
    }
   ],
   "source": [
    "d_proxy[2] = 'x'"
   ]
  },
  {
   "cell_type": "code",
   "execution_count": 68,
   "metadata": {},
   "outputs": [],
   "source": [
    "d[2] = 'B'"
   ]
  },
  {
   "cell_type": "code",
   "execution_count": 69,
   "metadata": {},
   "outputs": [
    {
     "data": {
      "text/plain": [
       "mappingproxy({1: 'A', 2: 'B'})"
      ]
     },
     "execution_count": 69,
     "metadata": {},
     "output_type": "execute_result"
    }
   ],
   "source": [
    "d_proxy"
   ]
  },
  {
   "cell_type": "code",
   "execution_count": 70,
   "metadata": {},
   "outputs": [
    {
     "data": {
      "text/plain": [
       "'B'"
      ]
     },
     "execution_count": 70,
     "metadata": {},
     "output_type": "execute_result"
    }
   ],
   "source": [
    "d_proxy[2]"
   ]
  },
  {
   "cell_type": "markdown",
   "metadata": {},
   "source": [
    "# 3.8 집합 이론"
   ]
  },
  {
   "cell_type": "code",
   "execution_count": 71,
   "metadata": {},
   "outputs": [],
   "source": [
    "l = ['spam', 'spam', 'eggs', 'spam']"
   ]
  },
  {
   "cell_type": "code",
   "execution_count": 72,
   "metadata": {},
   "outputs": [
    {
     "data": {
      "text/plain": [
       "{'eggs', 'spam'}"
      ]
     },
     "execution_count": 72,
     "metadata": {},
     "output_type": "execute_result"
    }
   ],
   "source": [
    "set(l)"
   ]
  },
  {
   "cell_type": "code",
   "execution_count": 73,
   "metadata": {},
   "outputs": [
    {
     "data": {
      "text/plain": [
       "['spam', 'eggs']"
      ]
     },
     "execution_count": 73,
     "metadata": {},
     "output_type": "execute_result"
    }
   ],
   "source": [
    "list(set(l))"
   ]
  },
  {
   "cell_type": "markdown",
   "metadata": {},
   "source": [
    "* 고유함을 보장하는 것 외에 집합형은 중위 연산자를 이용해서 기본적인 집합 연산을 구현한다.\n",
    "* 두 개의 집합 a, b에 대해서 `a | b`는 합집합, `a & b`는 교집합, `a - b`는 차집합을 계산한다."
   ]
  },
  {
   "cell_type": "code",
   "execution_count": 82,
   "metadata": {},
   "outputs": [
    {
     "data": {
      "text/plain": [
       "2"
      ]
     },
     "execution_count": 82,
     "metadata": {},
     "output_type": "execute_result"
    }
   ],
   "source": [
    "# 예제 3-10 둘 다 집합형인 haystack 안에 들어 있는 needles 항목 수 구하기\n",
    "haystack = set(['a@gmail.com', 'b@gmail.com', 'c@gmail.com'])\n",
    "needles = set(['a@gmail.com', 'c@gmail.com'])\n",
    "\n",
    "found = len(needles & haystack)\n",
    "found"
   ]
  },
  {
   "cell_type": "code",
   "execution_count": 83,
   "metadata": {
    "code_folding": []
   },
   "outputs": [],
   "source": [
    "# 예제 3-11 haystack 안에서 needles의 발생 횟수 구하기\n",
    "found = 0\n",
    "for n in needles:\n",
    "    if n in haystack:\n",
    "        found += 1"
   ]
  },
  {
   "cell_type": "code",
   "execution_count": 84,
   "metadata": {},
   "outputs": [
    {
     "data": {
      "text/plain": [
       "2"
      ]
     },
     "execution_count": 84,
     "metadata": {},
     "output_type": "execute_result"
    }
   ],
   "source": [
    "found"
   ]
  },
  {
   "cell_type": "markdown",
   "metadata": {},
   "source": [
    "* [예제 3-10]의 코드는 두 객체가 모두 집합이어야 하는 반면, [예제 3-11]은 iterable한 객체라면 사용할 수 있다.\n",
    "* 그러나 객체가 집합형이 아니어도 [예제 3-12]와 같이 즉석에서 집합으로 만들 수 있다."
   ]
  },
  {
   "cell_type": "code",
   "execution_count": 4,
   "metadata": {
    "ExecuteTime": {
     "end_time": "2020-02-18T07:18:28.104078Z",
     "start_time": "2020-02-18T07:18:28.098038Z"
    }
   },
   "outputs": [
    {
     "name": "stdout",
     "output_type": "stream",
     "text": [
      "2\n",
      "2\n"
     ]
    }
   ],
   "source": [
    "# 예제 3-12 haystack 안에서 needles의 발생 횟수 구하기\n",
    "haystack = ['a@gmail.com', 'b@gmail.com', 'c@gmail.com']\n",
    "needles = ['a@gmail.com', 'c@gmail.com']\n",
    "\n",
    "found = len(set(needles) & set(haystack))\n",
    "print(found)\n",
    "\n",
    "# 또 다른 방법:\n",
    "found = len(set(needles).intersection(haystack))\n",
    "print(found)"
   ]
  },
  {
   "cell_type": "markdown",
   "metadata": {},
   "source": [
    "## 3.8.1 집합 리터럴\n",
    "* `{1}`, `{1, 2}` 등 집합 리터럴에 대한 구문은 수학적 표기법과 동일하지만,  \n",
    "    공집합은 리터럴로 표기할 수 없으므로, 반드시 `set()`으로 표기해야 한다."
   ]
  },
  {
   "cell_type": "markdown",
   "metadata": {},
   "source": [
    "* 파이썬3 에서는 공집합 이외의 집합을 표준 문자열로 표현하기 위해 언제나 `{}`구문을 사용한다."
   ]
  },
  {
   "cell_type": "code",
   "execution_count": 5,
   "metadata": {
    "ExecuteTime": {
     "end_time": "2020-02-18T07:21:15.109238Z",
     "start_time": "2020-02-18T07:21:15.098268Z"
    }
   },
   "outputs": [
    {
     "data": {
      "text/plain": [
       "set"
      ]
     },
     "execution_count": 5,
     "metadata": {},
     "output_type": "execute_result"
    }
   ],
   "source": [
    "s = {1}\n",
    "type(s)"
   ]
  },
  {
   "cell_type": "code",
   "execution_count": 6,
   "metadata": {
    "ExecuteTime": {
     "end_time": "2020-02-18T07:21:20.438728Z",
     "start_time": "2020-02-18T07:21:20.433744Z"
    }
   },
   "outputs": [
    {
     "data": {
      "text/plain": [
       "{1}"
      ]
     },
     "execution_count": 6,
     "metadata": {},
     "output_type": "execute_result"
    }
   ],
   "source": [
    "s"
   ]
  },
  {
   "cell_type": "code",
   "execution_count": 7,
   "metadata": {
    "ExecuteTime": {
     "end_time": "2020-02-18T07:21:23.141121Z",
     "start_time": "2020-02-18T07:21:23.136137Z"
    }
   },
   "outputs": [
    {
     "data": {
      "text/plain": [
       "1"
      ]
     },
     "execution_count": 7,
     "metadata": {},
     "output_type": "execute_result"
    }
   ],
   "source": [
    "s.pop()"
   ]
  },
  {
   "cell_type": "code",
   "execution_count": 8,
   "metadata": {
    "ExecuteTime": {
     "end_time": "2020-02-18T07:21:24.152417Z",
     "start_time": "2020-02-18T07:21:24.146435Z"
    }
   },
   "outputs": [
    {
     "data": {
      "text/plain": [
       "set()"
      ]
     },
     "execution_count": 8,
     "metadata": {},
     "output_type": "execute_result"
    }
   ],
   "source": [
    "s"
   ]
  },
  {
   "cell_type": "markdown",
   "metadata": {},
   "source": [
    "* `{1, 2, 3}`과 같은 리터럴 집합 구문은 `set([1, 2, 3])` 처럼 생성자를 호출하는 것보다 더 빠르고 가독성이 좋다."
   ]
  },
  {
   "cell_type": "code",
   "execution_count": 10,
   "metadata": {
    "ExecuteTime": {
     "end_time": "2020-02-18T07:22:46.319867Z",
     "start_time": "2020-02-18T07:22:46.314886Z"
    }
   },
   "outputs": [
    {
     "name": "stdout",
     "output_type": "stream",
     "text": [
      "  1           0 LOAD_CONST               0 (1)\n",
      "              2 BUILD_SET                1\n",
      "              4 RETURN_VALUE\n"
     ]
    }
   ],
   "source": [
    "# 디스어셈블러 함수인 dis.dis()를 이용해서 두 개의 연산에 대한 바이트코드를 살펴보자.\n",
    "from dis import dis\n",
    "dis('{1}') # 리터럴 집합 구문은 BUILD_SET이라는 특수 바이트코드를 실행한다. "
   ]
  },
  {
   "cell_type": "code",
   "execution_count": 11,
   "metadata": {
    "ExecuteTime": {
     "end_time": "2020-02-18T07:22:52.108661Z",
     "start_time": "2020-02-18T07:22:52.103675Z"
    }
   },
   "outputs": [
    {
     "name": "stdout",
     "output_type": "stream",
     "text": [
      "  1           0 LOAD_NAME                0 (set)\n",
      "              2 LOAD_CONST               0 (1)\n",
      "              4 BUILD_LIST               1\n",
      "              6 CALL_FUNCTION            1\n",
      "              8 RETURN_VALUE\n"
     ]
    }
   ],
   "source": [
    "dis('set([1])')"
   ]
  },
  {
   "cell_type": "markdown",
   "metadata": {},
   "source": [
    "* 리터럴 집합 구문에서 `BUILD_SET` 특수 바이트코드가 거의 모든 일을 처리한다.\n",
    "\n",
    "\n",
    "* `frozenset`에 대한 별도의 리터럴 구문은 없으며, `frozenset`은 언제나 생성자를 호출해서 생성해야 한다."
   ]
  },
  {
   "cell_type": "code",
   "execution_count": 13,
   "metadata": {
    "ExecuteTime": {
     "end_time": "2020-02-18T07:25:06.720130Z",
     "start_time": "2020-02-18T07:25:06.714164Z"
    }
   },
   "outputs": [
    {
     "data": {
      "text/plain": [
       "frozenset({0, 1, 2, 3, 4, 5, 6, 7, 8, 9})"
      ]
     },
     "execution_count": 13,
     "metadata": {},
     "output_type": "execute_result"
    }
   ],
   "source": [
    "frozenset(range(10))"
   ]
  },
  {
   "cell_type": "markdown",
   "metadata": {},
   "source": [
    "## 3.8.2 지능형 집합"
   ]
  },
  {
   "cell_type": "code",
   "execution_count": 17,
   "metadata": {
    "ExecuteTime": {
     "end_time": "2020-02-18T07:28:05.615663Z",
     "start_time": "2020-02-18T07:28:05.610672Z"
    }
   },
   "outputs": [
    {
     "name": "stdout",
     "output_type": "stream",
     "text": [
      "{'±', '+', '=', '%', '°', '®', '<', '$', '#', '¬', '¶', '©', '§', '¥', 'µ', '>', '÷', '×', '¤', '£', '¢'}\n"
     ]
    }
   ],
   "source": [
    "# 예제 3-13 유니코드명 안에 'SIGN'이 들어 있는 단어를 가진 Latin-1 문자들의 집합 만들기\n",
    "from unicodedata import name\n",
    "print({chr(i) for i in range(32, 256) if 'SIGN' in name(chr(i), '')})\n",
    "# 지능형 딕셔너리와 뭐가 다른 것일까..."
   ]
  },
  {
   "cell_type": "markdown",
   "metadata": {},
   "source": [
    "## 3.8.3 집합 연산\n",
    "**책 참고**"
   ]
  },
  {
   "cell_type": "markdown",
   "metadata": {},
   "source": [
    "# 3.9 dict와 set의 내부 구조"
   ]
  },
  {
   "cell_type": "markdown",
   "metadata": {},
   "source": [
    "* 파이썬 dict와 set은 얼마나 효율적인가?\n",
    "* 왜 순서가 없을까?\n",
    "* dict의 키와 set 항목에 파이썬의 모든 객체를 사용할 수 없는 이유는 무엇인가?\n",
    "* dict의 키와 set 항목의 순서가 왜 삽입 순서에 따라 달라지며, 객체 수명주기 동안 이 순서가 바뀔 수 있는 이유는 무엇일까?\n",
    "* 딕셔너리와 집합을 반복하는 동안 항목을 추가하면 왜 안 될까?"
   ]
  },
  {
   "cell_type": "markdown",
   "metadata": {},
   "source": [
    "## 3.9.1 성능 실험"
   ]
  },
  {
   "cell_type": "markdown",
   "metadata": {},
   "source": [
    "**결과 요약** : dict이 제일 빠름 < set 큰 차이 없음 < list 시간 오래 걸림"
   ]
  },
  {
   "cell_type": "markdown",
   "metadata": {},
   "source": [
    "## 3.9.2 딕셔너리 안의 해시 테이블"
   ]
  },
  {
   "cell_type": "markdown",
   "metadata": {},
   "source": [
    "### 해시와 동치성\n",
    "* `hash()` 내장 함수는 내장 자료형은 직접 처리하고 사용자 정의 자료형의 경우 `__hash__()` 메서드를 호출한다. \n",
    "* 두 객체가 동일하면 이 값들의 해시값도 동일해야 한다. "
   ]
  },
  {
   "cell_type": "markdown",
   "metadata": {},
   "source": [
    "### 해시 테이블 알고리즘\n",
    "1) `my_dict[search_key]`에서 값을 가져오기 위해 파이썬은 `__hash__(search_key)`를 호출해 `search_key`의 해시값을 가져온다.   \n",
    "2) 해시값의 최하위 비트를 해시 테이블 안의 버킷에 대한 오프셋으로 사용한다.  \n",
    "3) 찾아낸 버킷이 비어 있으면 `KeyError`를 발생시키고,  \n",
    "4) 그렇지 않으면 버킷에 들어 있는 항목인 `(found_key: found_value)`쌍을 검사해서 `search_key == found_key`인지 검사한다.  \n",
    "5) 이 값이 일치하면 항목을 찾은 것이므로 `found_value`를 반환한다."
   ]
  },
  {
   "cell_type": "markdown",
   "metadata": {
    "ExecuteTime": {
     "end_time": "2020-02-18T08:09:30.986771Z",
     "start_time": "2020-02-18T08:09:30.961839Z"
    }
   },
   "source": [
    "![플로차트](./ch3_1.png)"
   ]
  },
  {
   "cell_type": "markdown",
   "metadata": {},
   "source": [
    "## 3.9.3 dict 작동 방식에 의한 영향"
   ]
  },
  {
   "cell_type": "markdown",
   "metadata": {},
   "source": [
    "### 키 객체는 반드시 해시 가능해야 한다.\n",
    "1) 객체의 수명 주기 동안 언제나 동일한 값을 반환하는 `__hash__()` 메서드를 제공해서 `hash()`함수를 지원한다.  \n",
    "2) `__eq__()` 메서드를 통해 동치성을 판단할 수 있다.  \n",
    "3) `a == b`가 참이면, `hash(a) == hash(b)` 도 반드시 참이어야 한다."
   ]
  },
  {
   "cell_type": "markdown",
   "metadata": {},
   "source": [
    "### dict의 메모리 오버헤드가 크다.\n",
    "* dict가 내부적으로 해시 테이블을 사용하고 있고 해시가 제대로 작동하려면 빈 공간이 충분해야 하므로,  \n",
    "    dict의 메모리 공간 효율성은 높지 않다. "
   ]
  },
  {
   "cell_type": "markdown",
   "metadata": {},
   "source": [
    "### 키 검색이 아주 빠르다.\n",
    "* dict는 속도를 위해 공간을 포기하는 예다. "
   ]
  },
  {
   "cell_type": "markdown",
   "metadata": {},
   "source": [
    "### 키 순서는 삽입 순서에 따라 달라진다.\n",
    "* 해시 충돌이 발생하면 두 번째 키는 충돌이 발생하지 않았을 때의 정상적인 위치와 다른 곳에 놓이게 된다. "
   ]
  },
  {
   "cell_type": "markdown",
   "metadata": {},
   "source": [
    "### 딕셔너리에 항목을 추가하면 기존 키의 순서가 변경될 수 있다\n",
    "* dict에 항목을 추가할 때마다 파이썬 인터프리터는 그 딕셔너리의 해시 테이블의 크기를 늘릴지 판단한다.\n",
    "* 따라서 이 과정 동안 기존과 다르게 해시 충돌이 발생해 새로운 해시 테이블에서의 키 순서가 달라질 수 있다.\n",
    "* 딕셔너리를 검색하면서 항목을 추가해야 하는 경우에는 다음 두 단계로 수행한다.  \n",
    "    1) 처음부터 끝까지 딕셔너리를 검색하면서 필요한 항목은 별도의 딕셔너리에 추가한다.  \n",
    "    2) 별도의 딕셔너리로 원래 딕셔너리를 갱신한다."
   ]
  },
  {
   "cell_type": "markdown",
   "metadata": {},
   "source": [
    "## 3.9.4 집합의 작동 방식 - 현실적으로 미치는 영향"
   ]
  },
  {
   "cell_type": "markdown",
   "metadata": {},
   "source": [
    "* set과 frozenset도 해시 테이블을 이용해서 구현하지만, 각 버킷이 항목에 대한 참조만을 담고 있다는 점이 다르다."
   ]
  },
  {
   "cell_type": "code",
   "execution_count": null,
   "metadata": {},
   "outputs": [],
   "source": []
  }
 ],
 "metadata": {
  "kernelspec": {
   "display_name": "Python 3",
   "language": "python",
   "name": "python3"
  },
  "language_info": {
   "codemirror_mode": {
    "name": "ipython",
    "version": 3
   },
   "file_extension": ".py",
   "mimetype": "text/x-python",
   "name": "python",
   "nbconvert_exporter": "python",
   "pygments_lexer": "ipython3",
   "version": "3.7.4"
  },
  "varInspector": {
   "cols": {
    "lenName": 16,
    "lenType": 16,
    "lenVar": 40
   },
   "kernels_config": {
    "python": {
     "delete_cmd_postfix": "",
     "delete_cmd_prefix": "del ",
     "library": "var_list.py",
     "varRefreshCmd": "print(var_dic_list())"
    },
    "r": {
     "delete_cmd_postfix": ") ",
     "delete_cmd_prefix": "rm(",
     "library": "var_list.r",
     "varRefreshCmd": "cat(var_dic_list()) "
    }
   },
   "types_to_exclude": [
    "module",
    "function",
    "builtin_function_or_method",
    "instance",
    "_Feature"
   ],
   "window_display": false
  }
 },
 "nbformat": 4,
 "nbformat_minor": 2
}
