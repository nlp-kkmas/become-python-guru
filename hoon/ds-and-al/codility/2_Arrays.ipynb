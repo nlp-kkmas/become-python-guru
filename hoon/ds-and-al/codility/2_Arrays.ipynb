{
 "cells": [
  {
   "cell_type": "markdown",
   "metadata": {},
   "source": [
    "# Chapter 2. Arrays\n",
    "\n",
    "배열은 한 공간에 많은 아이템을 담을 수 있는 **자료구조**입니다.\n",
    "\n",
    "여러분에게 쇼핑 리스트가 필요하다고 생각해봅시다. 여러분은 쇼핑 리스트에 담게 될 물품들이 여러 공간에 흩뿌려져 있는 것보다 한 페이지에 모여있는 것을 선호할 것입니다. 이때 아이템들을 모아주는 한 **페이지**가 **배열**과 같습니다.\n",
    "\n",
    "혹은 향후 1년 간 측정 온도를 기록한다면 365개의 개별 변수를 사용하는 것보다, **배열**과 같은 하나의 공간에 모든 데이터를 저장하는 것이 바람직합니다.\n",
    "\n",
    "\n",
    "## 2.1 Creating an array\n",
    "\n",
    "우리는 세 개의 상품을 담고 있는 쇼핑 리스트를 만들려고 합니다. 해당 리스트는 다음 코드를 통해 생성이 가능합니다.\n",
    "\n",
    "```\n",
    "shopping = ['bread', 'butter', 'cheese']\n",
    "```\n",
    "\n",
    "이때 `shopping`은 배열의 이름이 되고, 리스트에 포함된 각 상품은 **comma**로 구분되게 됩니다. 그리고 배열에 포함된 각 아이템을 **원소**라고 부릅니다. \n",
    "\n",
    "배열은 메모리가 허용하는 한 어떠한 수의 원소들도 담아낼 수 있습니다.\n",
    "또한 배열은 원소가 존재하지 않는 **빈 배열**일수도 있습니다.\n",
    "\n",
    "```\n",
    "shopping = []\n",
    "```\n",
    "\n",
    "만약 여러분이 앞으로 365일 간의 온도를 기록하고자 한다면, 먼저 해당 데이터들을 저장할 공간을 만들어 놓을 수가 있겠죠.\n",
    "\n",
    "이러한 배열은 다음과 같이 생성될 수 있습니다.\n",
    "\n",
    "```\n",
    "temperatures = [0] * 365\n",
    "```"
   ]
  },
  {
   "cell_type": "markdown",
   "metadata": {},
   "source": [
    "## 2.2. Accessing array values\n",
    "\n",
    "배열을 이용하면 원소에 **쉬운 접근**이 가능해지는데, 이는 모든 원소는 **인덱스**라 불리는 수를 할당받기 때문입니다.\n",
    "\n",
    "**인덱스**는 0 에서부터 시작하는 연속적인 정수입니다.\n",
    "\n",
    "예를 들어, `shopping = ['bread', 'butter', 'cheese']`의 배열에서 'bread'는 인덱스 0에, 'butter'는 인덱스 1에, 'cheese'는 인덱스 2에 위치하게 됩니다.\n",
    "\n",
    "임의의 **인덱스**에 어떤 원소가 위치하는지 확인하기 위해선 다음과 같은 코드를 사용하면 됩니다.\n",
    "\n",
    "e.g. `shopping[1]`\n",
    "\n",
    "\n",
    "## 2.3 Modifying array values\n",
    "\n",
    "우리는 또한 배열 내 원소를 임의로 변경할 수도 있습니다.\n",
    "\n",
    "예를 들어 앞선 예에서 정의한 `temperatures` 배열에서 **42일 째**의 온도를 `25`로 수정하고자 한다면, 다음과 같이 작성할 수 있습니다.\n",
    "\n",
    "```\n",
    "temperatures[42] = 25\n",
    "```\n",
    "\n",
    "만약 쇼핑 리스트에 하나의 원소를 더 추가하고자 한다면, 다음과 같이 작성할 수 있습니다.\n",
    "\n",
    "```\n",
    "shopping += ['eggs']\n",
    "```"
   ]
  },
  {
   "cell_type": "code",
   "execution_count": null,
   "metadata": {},
   "outputs": [],
   "source": [
    "shopping = ['bread', 'butter', 'cheese']\n",
    "shopping += ['eggs']\n",
    "shopping"
   ]
  },
  {
   "cell_type": "markdown",
   "metadata": {},
   "source": [
    "## 2.4 Iterating over an array\n",
    "\n",
    "우리는 종종 배열 내 모든 원소들을 **순회**할 일이 생깁니다.\n",
    "\n",
    "배열이 _N_개의 원소를 지닌 것을 알고 있다면, 0부터 _N - 1_ 까지 배열에 **인덱싱**을 해가며 원소를 확인할 수 있습니다.\n",
    "\n",
    "배열의 길이는 `len()` 함수를 통해 얻을 수 있습니다.\n",
    "\n",
    "예를 들어, 쇼핑 리스트 배열의 길이는 다음과 같은 한 줄의 코드로 구할 수 있습니다.\n",
    "\n",
    "```\n",
    "N = len(shopping)\n",
    "```\n",
    "\n",
    "이제 `temperatures` 배열에서 음(-)의 온도를 기록한 날을 찾는 함수를 작성해보도록 합시다."
   ]
  },
  {
   "cell_type": "code",
   "execution_count": null,
   "metadata": {},
   "outputs": [],
   "source": [
    "def negative(temperatures):\n",
    "    N = len(temperatures)\n",
    "    days = 0\n",
    "    \n",
    "    for i in range(N):\n",
    "        if temperatures[i] < 0:\n",
    "            days += 1\n",
    "            \n",
    "    return days"
   ]
  },
  {
   "cell_type": "markdown",
   "metadata": {},
   "source": [
    "위 코드처럼 **인덱싱**을 통해 원소를 순회하는 것 대신, 배열 내 원소를 직접 순회할 수도 있습니다. \n",
    "\n",
    "이는 다음과 같이 구현 가능합니다.\n",
    "\n",
    "```\n",
    "for item in array:\n",
    "    ...\n",
    "```\n",
    "\n",
    "해당 문법을 활용하면 위 솔루션은 다음과 같이 단순해질 수 있습니다."
   ]
  },
  {
   "cell_type": "code",
   "execution_count": null,
   "metadata": {},
   "outputs": [],
   "source": [
    "def negative(temperatures):\n",
    "    days = 0\n",
    "    for t in temperatures:\n",
    "        if t < 0:\n",
    "            days += 1\n",
    "    return days"
   ]
  },
  {
   "cell_type": "markdown",
   "metadata": {},
   "source": [
    "## 2.5. Basic array operations\n",
    "\n",
    "이제 배열과 관련된 유용한 몇 가지 기본 연산에 대해 알아보도록 합시다.\n",
    "\n",
    "먼저 배열의 길이를 구할 수 있는 **`len()`** 함수입니다:\n",
    "\n",
    "```\n",
    "len([1, 2, 3]) == 3\n",
    "```\n",
    "\n",
    "다음은 **반복 연산**입니다:\n",
    "\n",
    "```\n",
    "['Hello'] * 3 == ['Hello', 'Hello', 'Hello']\n",
    "```\n",
    "\n",
    "또한 두 배열을 **이어 붙이는 것**도 가능합니다:\n",
    "\n",
    "```\n",
    "[1, 2, 3] + [4, 5, 6] == [1, 2, 3, 4, 5, 6]\n",
    "```\n",
    "\n",
    "마지막은 특정 원소가 배열에 존재하는지를 확인하는 **멤버십 연산**입니다:\n",
    "\n",
    "```\n",
    "'butter' in ['bread', 'butter', 'cheese'] == True\n",
    "```"
   ]
  },
  {
   "cell_type": "markdown",
   "metadata": {},
   "source": [
    "## 2.6. Exercise\n",
    "\n",
    "**Problem**: _N_ 개의 정수를 지니는 배열 **A**를 뒤집은 **reversed_A**를 반환하시오.\n",
    "\n",
    "\n",
    "**Solution**: 배열 **A**의 절반을 **순회**하며, 반대편 절반의 원소들과 교환해 문제를 해결할 수 있습니다."
   ]
  },
  {
   "cell_type": "code",
   "execution_count": null,
   "metadata": {},
   "outputs": [],
   "source": [
    "A = [1, 2, 3, 4, 5]\n",
    "\n",
    "def reverse(A):\n",
    "    N = len(A)  # 5\n",
    "    for i in range(N // 2):\n",
    "        k = N - i - 1\n",
    "        A[i], A[k] = A[k], A[i]\n",
    "    return A\n",
    "\n",
    "reverse(A)"
   ]
  },
  {
   "cell_type": "markdown",
   "metadata": {},
   "source": [
    "파이썬은 많은 **빌트인** 함수와 메서드들을 제공해주는 고수준 언어입니다.\n",
    "\n",
    "때문에 배열을 뒤집는 **빌트인** 메서드도 이미 존재하며, 이를 활용하면 다음과 같이 위 문제를 해결할 수 있습니다.\n",
    "\n",
    "```\n",
    "A.reverse()\n",
    "```"
   ]
  }
 ],
 "metadata": {
  "kernelspec": {
   "display_name": "Python 3",
   "language": "python",
   "name": "python3"
  },
  "language_info": {
   "codemirror_mode": {
    "name": "ipython",
    "version": 3
   },
   "file_extension": ".py",
   "mimetype": "text/x-python",
   "name": "python",
   "nbconvert_exporter": "python",
   "pygments_lexer": "ipython3",
   "version": "3.7.3"
  }
 },
 "nbformat": 4,
 "nbformat_minor": 2
}
