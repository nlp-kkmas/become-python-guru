{
 "cells": [
  {
   "cell_type": "markdown",
   "metadata": {},
   "source": [
    "# Chapter 3. Time Complexity\n",
    "\n",
    "**시간 복잡도**를 이용하면 프로그램의 실행 시간을 쉽게 측정할 수 있습니다. 프로그램의 연산 속도는 **컴파일러**와 **컴퓨터 타입** 그리고 **프로세서의 속도** 등에 의존하기 때문에, 이를 정확하게 측정하는 것은 매우 강도 높은 작업이 될 수 있습니다. 그러므로 대개의 경우, 정확한 측정보다 **정도**를 측정하는 것이 바람직합니다.\n",
    "\n",
    "복잡도는 프로그램이 실행할 **원시 연산**의 **최대 개수**로 볼 수 있십니다. 이러한 연산들로는 덧셈, 곱셈, 값 할당 등이 있습니다. 복잡도를 계산할 때 몇몇 연산들은 특별히 세지 않고, 가장 자주 실행되는 연산에 집중하고는 합니다. 후자의 연산들이 프로그램의 **복잡도**에 미치는 영향이 지배적이기 때문입니다.\n",
    "\n",
    "프로그램의 내 연산의 수는 입력 값에 따라 다르게 측정됩니다. 우리는 항상 입력 값의 어떠한 특징에 의해 프로그램의 **실행 시간**이 달라지는지를 일반화하고 싶어하며, 이는 대개의 경우 입력 데이터의 **크기**입니다."
   ]
  },
  {
   "cell_type": "code",
   "execution_count": null,
   "metadata": {},
   "outputs": [],
   "source": [
    "def dominant(n):\n",
    "    result = 0\n",
    "    for i in range(n):\n",
    "        result += 1\n",
    "    return result"
   ]
  },
  {
   "cell_type": "markdown",
   "metadata": {},
   "source": [
    "위 예제에서는 `result += 1`이 _n_번 실행되기 때문에 **실행 시간**에 가장 영향을 미친다고 할수 있습니다. 위 예제의 시간 복잡도를 Big-O 노테이션으로 나타내면 _O(n) — 선형_ 복잡도가 됩니다.\n",
    "\n",
    "시간 복잡도를 계산할 때 우리는 **상수**를 생략합니다. 즉, 연산이 _20 x n_ 번 실행되던, _1/5 x n_ 번 실행되던 우리는 해당 프로그램의 시간 복잡도를 *O(n)*으로 측정합니다. 또한 시간 복잡도를 분석할 때 우리는 항상 프로그램이 **최악의 케이스**에 해당하는 입력 값을 받았을 때 어떻게 작동하는지를 보아야 합니다."
   ]
  },
  {
   "cell_type": "markdown",
   "metadata": {},
   "source": [
    "## 3.1. Comparison of dierent time complexities\n",
    "\n",
    "이제 몇몇 기본적인 시간 복잡도들을 비교해봅시다."
   ]
  },
  {
   "cell_type": "code",
   "execution_count": null,
   "metadata": {},
   "outputs": [],
   "source": [
    "# Constant time — O(1)\n",
    "def constant(n):\n",
    "    result = n * n\n",
    "    return result"
   ]
  },
  {
   "cell_type": "markdown",
   "metadata": {},
   "source": [
    "위 예제에서는 항상 고정된 수의 연산이 수행됩니다."
   ]
  },
  {
   "cell_type": "code",
   "execution_count": null,
   "metadata": {},
   "outputs": [],
   "source": [
    "# Logarithmic time — O(log n)\n",
    "def logarithmic(n):\n",
    "    result = 0\n",
    "    while n > 1:\n",
    "        n //= 2\n",
    "        result += 1\n",
    "    return result"
   ]
  },
  {
   "cell_type": "markdown",
   "metadata": {},
   "source": [
    "매 반복마다 입력 값인 _n_이 절반이 되고 있습니다. 따라서 위 예제는 로그 함수와 같은 연산 수를 실행하게 됩니다."
   ]
  },
  {
   "cell_type": "code",
   "execution_count": null,
   "metadata": {},
   "outputs": [],
   "source": [
    "# Linear time — O(n)\n",
    "def linear(n, A):\n",
    "    for i in range(n):\n",
    "        if A[i] == 0:\n",
    "            return 0\n",
    "    return 1"
   ]
  },
  {
   "cell_type": "markdown",
   "metadata": {},
   "source": [
    "위 예제에서 배열의 첫 번째 원소가 0 이었다면 프로그램은 바로 종료될 것입니다. 그러나 앞서 이야기했듯, 프로그램의 성능을 측정하기 위해서는 항상 **최악의 경우**를 생각해야 합니다. 만약 배열의 마지막 원소가 0 이었을 경우, 해당 프로그램은 배열을 모두 순회해야 끝이나게 됩니다."
   ]
  },
  {
   "cell_type": "code",
   "execution_count": 1,
   "metadata": {},
   "outputs": [],
   "source": [
    "# Quadratic time — O(n2)\n",
    "def quadratic(n):\n",
    "    result = 0\n",
    "    for i in range(n):\n",
    "        for j in range(i, n):\n",
    "            result += 1\n",
    "    return result"
   ]
  },
  {
   "cell_type": "markdown",
   "metadata": {},
   "source": [
    "위 함수의 결과는 다음과 같습니다.\n",
    "\n",
    "```\n",
    "1/2 * (n * (n + 1)) = 1/2 * n^2 + 1/2 * n \n",
    "```\n",
    "\n",
    "시간 복잡도를 계산할 때 우리는 해당 프로그램의 실행 속도가 얼마나 빠르게 증가하는지에 관심이 있습니다. 따라서 우리는 대개 위 식에서 상수 뿐만 아니라 `1/2 * n`과 같은 텀도 제거를 합니다. 따라서 위 예제의 함수는 **Quadratic**한 시간 복잡도를 지니게 됩니다.\n",
    "\n",
    "때로 시간 복잡도는 아래 함수와 같이 **여러 변수에 의존**하기도 합니다."
   ]
  },
  {
   "cell_type": "code",
   "execution_count": null,
   "metadata": {},
   "outputs": [],
   "source": [
    "# Linear time — O(n + m)\n",
    "def linear2(n, m):\n",
    "    result = 0\n",
    "    for i in range(n):\n",
    "        result += i\n",
    "    for j in range(m):\n",
    "        result += j\n",
    "    return result"
   ]
  },
  {
   "cell_type": "markdown",
   "metadata": {},
   "source": [
    "### Exponential and factorial time\n",
    "\n",
    "알고리즘에는 팩토리얼 시간인 *O(n!)*과 지수 함수의 시간인 *O(2^n)*와 같은 시간 복잡도 또한 존재합니다. 해당 알고리즘들은 큰 수의 *n*에 대해서는 문제를 해결하기 쉽지 않기 때문에 대부분 작은 수의 입력 값에 대해서만 문제 해결이 가능합니다."
   ]
  },
  {
   "cell_type": "markdown",
   "metadata": {},
   "source": [
    "## 3.2. Time limit\n",
    "\n",
    "요즘 날에는 평균적인 컴퓨터가 1초가 안되는 시간에 `10^8`개의 연산을 처리할 수 있습니다. 우리는 때때로 시간 복잡도가 측정될 입력 값에 대한 정보를 가지고 있을 수도 있지만, 대개의 경우 그렇지 않습니다. 따라서 복잡도를 측정할 수 있는 능력을 지녀야 하는 것입니다. **Problem Solving**에서 대개의 경우 입력 값의 최대 크기를 제공해주기 때문에 우리는 해당 정보를 토대로 작성한 알고리즘의 시간 복잡도를 예측해볼 수 있습니다.\n",
    "\n",
    "이는 매우 편리하게 사용될 수 있는 정보인데, 어느 정도의 솔루션을 작성해야 하는지에 대한 유추가 가능하기 때문입니다.\n",
    "\n",
    "예를 들어:\n",
    "- n <= 1,000,000, 우리는 *O(n)* 또는 *O(n log n)* 의 성능을 지니는 알고리즘을 작성해야 하며,\n",
    "- n <= 10 000, *O(n^2)* 의,\n",
    "- n <= 500, *O(n^3)* 의 알고리즘을 작성해야 합니다.\n",
    "\n",
    "물론 이러한 정보는 정확한 값이 아니라 근사 값이기 때문에 맹신해서는 안됩니다."
   ]
  },
  {
   "cell_type": "markdown",
   "metadata": {},
   "source": [
    "## 3.3. Space complexity\n",
    "\n",
    "메모리 제한은 **공간 복잡도**와 관련된 정보입니다. 이는 프로그램에서 정의된 **변수의 개수**로 측정이 가능합니다.\n",
    "\n",
    "만약 여러분이 상수 개의 변수를 가지고 있다면 상수의 공간 복잡도를 지니게 되고 이는 Big-O 노테이션으로 *O(1)*이 되게 됩니다.\n",
    "\n",
    "보다 정확히 이야기하자면 **공간 복잡도**는 계산을 위해 필요한 메모리의 양입니다. 이는 글로벌 / 로컬 등의 모든 변수, 동적 포인터 그리고 재귀의 경우 **재귀 스택**을 포함합니다. 또한 컨벤션에 따라 입력 값이 포함되기도, 포함되지 않기도 합니다.\n",
    "\n",
    "공간 복잡도 계산은 꽤나 까다로운데 변수와 자료구조마다 메모리를 점유하는 시간이 다르기 때문입니다. 글로벌 변수의 경우, 프로그램이 동작하는 모든 시간 동안 메모리를 점유합니다. 그러나 로컬 변수은 함수의 호출 이후 메모리를 반환하게 됩니다."
   ]
  },
  {
   "cell_type": "markdown",
   "metadata": {},
   "source": [
    "## 3.4. Exercise\n",
    "\n",
    "**Problem**: 양의 정수 _n_ 이 주어졌을 때, 1 + 2 + ... + n의 결과를 구하시오\n",
    "\n",
    "**Solution**: 위 문제는 다양한 방법으로 풀이가 가능합니다. 시간 복잡도를 모르는 사람이라면 **인덱스**를 1씩 증가시키는 방식으로 풀이를 할 수 있습니다."
   ]
  },
  {
   "cell_type": "code",
   "execution_count": null,
   "metadata": {},
   "outputs": [],
   "source": [
    "def slow_solution(n):\n",
    "    result = 0\n",
    "    for i in range(n):\n",
    "        for j in range(i + 1):\n",
    "            result += 1\n",
    "    return result"
   ]
  },
  {
   "cell_type": "markdown",
   "metadata": {},
   "source": [
    "다른 사람은 **인덱스**를 활용해 보다 빠른 속도로 문제를 해결할 수 있겠죠."
   ]
  },
  {
   "cell_type": "code",
   "execution_count": null,
   "metadata": {},
   "outputs": [],
   "source": [
    "def fast_solution(n):\n",
    "    result = 0\n",
    "    for i in range(n):\n",
    "        result += (i + 1)\n",
    "    return result"
   ]
  },
  {
   "cell_type": "markdown",
   "metadata": {},
   "source": [
    "그러나 또 다른 사람의 풀이는 보다 빠를 수 있습니다. 입력 배열을 뒤집은 **reversed_array**를 준비합니다. 그리고 입력 배열과 더하면 아래 그림과 같이 모든 열이 `n + 1`의 같은 값을 지니게 됩니다.\n",
    "\n",
    "![](imgs/table.png)\n",
    "\n",
    "따라서 아래와 같이 코드를 작성할 수 있습니다."
   ]
  },
  {
   "cell_type": "code",
   "execution_count": null,
   "metadata": {},
   "outputs": [],
   "source": [
    "def model_solution(n):\n",
    "    result = n * (n + 1) // 2\n",
    "    return result"
   ]
  }
 ],
 "metadata": {
  "kernelspec": {
   "display_name": "Python 3",
   "language": "python",
   "name": "python3"
  },
  "language_info": {
   "codemirror_mode": {
    "name": "ipython",
    "version": 3
   },
   "file_extension": ".py",
   "mimetype": "text/x-python",
   "name": "python",
   "nbconvert_exporter": "python",
   "pygments_lexer": "ipython3",
   "version": "3.7.3"
  }
 },
 "nbformat": 4,
 "nbformat_minor": 2
}
