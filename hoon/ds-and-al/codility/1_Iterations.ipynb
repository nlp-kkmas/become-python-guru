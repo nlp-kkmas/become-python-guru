{
 "cells": [
  {
   "cell_type": "markdown",
   "metadata": {},
   "source": [
    "# Chapter 1. Iterations\n",
    "\n",
    "프로그래밍에 있어 **순회**란 프로그램의 특정 부분을 반복하는 것을 의미합니다. 이번 장에서는 **for 문**과 **while 문**을 활용해 **순회**를 구현해 볼 것입니다.\n",
    "\n",
    "\n",
    "## 1.1. For loops\n",
    "\n",
    "만약 여러분이 어떤 연산을 주어진 횟수만큼 반복하고 싶거나, 어떠한 컬렉션에 있는 모든 원소에 연산을 적용하고자 한다면, **for 문**이 좋은 도구가 될 수 있습니다. **for 문**의 문법은 아래와 같습니다:\n",
    "\n",
    "```\n",
    "for some_variable in range_of_values:\n",
    "    loop_body\n",
    "```\n",
    "\n",
    "for 문은 `range_of_values`가 반환하는 값을 활용해 매번 `loop_body` 부를 실행합니다. 아래의 반복문은 0 부터 99까지의 모든 정수를 출력합니다."
   ]
  },
  {
   "cell_type": "code",
   "execution_count": 1,
   "metadata": {
    "collapsed": true
   },
   "outputs": [
    {
     "name": "stdout",
     "output_type": "stream",
     "text": [
      "0\n",
      "1\n",
      "2\n",
      "3\n",
      "4\n",
      "5\n",
      "6\n",
      "7\n",
      "8\n",
      "9\n",
      "10\n",
      "11\n",
      "12\n",
      "13\n",
      "14\n",
      "15\n",
      "16\n",
      "17\n",
      "18\n",
      "19\n",
      "20\n",
      "21\n",
      "22\n",
      "23\n",
      "24\n",
      "25\n",
      "26\n",
      "27\n",
      "28\n",
      "29\n",
      "30\n",
      "31\n",
      "32\n",
      "33\n",
      "34\n",
      "35\n",
      "36\n",
      "37\n",
      "38\n",
      "39\n",
      "40\n",
      "41\n",
      "42\n",
      "43\n",
      "44\n",
      "45\n",
      "46\n",
      "47\n",
      "48\n",
      "49\n",
      "50\n",
      "51\n",
      "52\n",
      "53\n",
      "54\n",
      "55\n",
      "56\n",
      "57\n",
      "58\n",
      "59\n",
      "60\n",
      "61\n",
      "62\n",
      "63\n",
      "64\n",
      "65\n",
      "66\n",
      "67\n",
      "68\n",
      "69\n",
      "70\n",
      "71\n",
      "72\n",
      "73\n",
      "74\n",
      "75\n",
      "76\n",
      "77\n",
      "78\n",
      "79\n",
      "80\n",
      "81\n",
      "82\n",
      "83\n",
      "84\n",
      "85\n",
      "86\n",
      "87\n",
      "88\n",
      "89\n",
      "90\n",
      "91\n",
      "92\n",
      "93\n",
      "94\n",
      "95\n",
      "96\n",
      "97\n",
      "98\n",
      "99\n"
     ]
    }
   ],
   "source": [
    "for i in range(0, 100):\n",
    "    print(i)"
   ]
  },
  {
   "cell_type": "markdown",
   "metadata": {},
   "source": [
    "0 부터 시작하는 정수의 범위를 순회하는 것은 매우 **빈번하게 발생하는 연산**입니다. 이는 배열과 파이썬 리스트가 **인덱스 0 부터 시작**하도록 설정되기 때문입니다. 만약 정수 범위를 지정할 때 시작 값이 **0**이라면, 우리는 시작 값을 생략할 수 있습니다. 예를 들어, 아래의 반복문은 위 예제와 같은 결과를 출력합니다."
   ]
  },
  {
   "cell_type": "code",
   "execution_count": null,
   "metadata": {},
   "outputs": [],
   "source": [
    "for i in range(100):\n",
    "    print(i)"
   ]
  },
  {
   "cell_type": "markdown",
   "metadata": {},
   "source": [
    "**예제**: 우리가 양의 정수 _n_ 을 알고 있다고 해봅시다. 이제 _n_ 의 팩토리얼 값을 계산한 후, 그 결과를 `factorial` 변수에 할당해줍시다. 우리는 1로 정의한 `factorial`에 1 부터 _n_ 까지의 정수를 곱한 결과를 얻을 수 있게 됩니다."
   ]
  },
  {
   "cell_type": "code",
   "execution_count": 2,
   "metadata": {},
   "outputs": [
    {
     "data": {
      "text/plain": [
       "120"
      ]
     },
     "execution_count": 2,
     "metadata": {},
     "output_type": "execute_result"
    }
   ],
   "source": [
    "factorial = 1\n",
    "n = 5\n",
    "\n",
    "for i in range(1, n + 1):\n",
    "    factorial *= i\n",
    "    \n",
    "factorial"
   ]
  },
  {
   "cell_type": "markdown",
   "metadata": {},
   "source": [
    "**예제**: 애스터리스크로 구성된 삼각형을 출력해봅시다. 삼각형은 _n_ 개의 행을 지녀야하며, 각 열은 1, 2, ..., _n_ 개의 애스터리스크를 지녀야 합니다. 예를 들어, _n_이 4라면 다음과 같은 삼각형이 출력되어야 합니다:\n",
    "\n",
    "```\n",
    "*\n",
    "* *\n",
    "* * *\n",
    "* * * *\n",
    "```\n",
    "\n",
    "우리는 해당 문제를 해결하기 위해, **이중 반복문**을 사용해야 합니다: 바깥쪽 반복문은 각 열의 순회를 위한 것이며, 안쪽 반복문은 각 열에 해당하는 애스터리스크를 출력하기 위한 것입니다."
   ]
  },
  {
   "cell_type": "code",
   "execution_count": 3,
   "metadata": {},
   "outputs": [
    {
     "name": "stdout",
     "output_type": "stream",
     "text": [
      "* \n",
      "* * \n",
      "* * * \n",
      "* * * * \n"
     ]
    }
   ],
   "source": [
    "n = 4\n",
    "\n",
    "for i in range(1, n + 1):\n",
    "    for j in range(i):\n",
    "        print('*', end=' ')\n",
    "    print()"
   ]
  },
  {
   "cell_type": "markdown",
   "metadata": {},
   "source": [
    "`range` 함수는 순회하는 값이 얼마나 커지는지를 결정하는 **step** 인자를 추가로 받을 수 있습니다. 즉, `range(start, stop, step)`은 `start` 값에서 시작해 매번 `step` 만큼 커지고 `stop` 보다 작은 시퀀스를 나타내는 문법입니다. 예를 들어, `range(10, 0, -1)`은 10, 9, 8, ..., 1의 시퀀스를 나타내게 됩니다. 또한 `step`을 사용하고자 한다면, `start`를 **항상 명시**해주어야 합니다.\n",
    "\n",
    "**예제**: 이번에는 _n_개의 행으로 구성된 좌우 대칭의 역삼각형을 출력해봅시다. 각 행은 2n - 1, 2n - 3, ..., 3, 1 개의 애스터리스크를 지녀야 하며, 0, 2, 4, ..., 2(n - 1) 만큼 들여쓰기가 되어 있어야 합니다. _n_이 4일 때의 예는 다음과 같습니다.\n",
    "\n",
    "```\n",
    "* * * * * * *\n",
    "  * * * * *\n",
    "    * * *\n",
    "      *\n",
    "```\n",
    "\n",
    "이번에는 세 개의 **for 문**을 사용합니다. 이때 바깥쪽 반복문은 각 행을 출력하기 위한 로직이며, 첫 번째 안 반복문은 **들여쓰기**를, 두 번째 안 반복문은 애스터리스크를 찍기 위한 로직입니다."
   ]
  },
  {
   "cell_type": "code",
   "execution_count": null,
   "metadata": {},
   "outputs": [],
   "source": [
    "n = 4\n",
    "\n",
    "for i in range(n, 0, -1):\n",
    "    for j in range(n - i):\n",
    "        print(' ', end=' ')\n",
    "    for j in range(2 * i - 1):\n",
    "        print('*', end=' ')\n",
    "    print()"
   ]
  },
  {
   "cell_type": "markdown",
   "metadata": {},
   "source": [
    "## 1.2. While loops\n",
    "\n",
    "반복문을 돌고자 하는 범주가 사전에 정해져있다면 **for 문**을 사용하는 것이 적합합니다. 그러나 만약 반복문의 범주를 알지 못한다면 어떤 방법을 택해야 할까요? 이러한 경우 우리는 **while 문**을 사용할 수 있습니다. **while 문**의 문법은 아래와 같습니다.\n",
    "\n",
    "```\n",
    "while some_condition:\n",
    "    loop_body\n",
    "```\n",
    "\n",
    "매번 반복문이 실행되기 이전 `some_condition`에 대한 연산이 수행됩니다. 해당 연산의 결과가 **참**이라면 반복문에 진입을 하고, 결과가 **거짓**이라면 반복문이 종료되게 됩니다.\n",
    "\n",
    "**예제**: 양의 정수 _n_을 알고 있을 때, n이 몇 자리 수인지 어떻게 계산할 수 있을까요? 가장 쉬운 방법은 _n_을 문자열로 변환한 후, 해당 문자열의 길이를 계산하는 것입니다. 여기서는 이러한 변환 없이 산술 연산만 사용해보도록 합시다. 단순히 _n_을 10으로 나누며, _n_을 얼마나 나눌 수 있었는가를 세기만 하면 됩니다."
   ]
  },
  {
   "cell_type": "code",
   "execution_count": 4,
   "metadata": {},
   "outputs": [
    {
     "name": "stdout",
     "output_type": "stream",
     "text": [
      "n of digit: 3\n"
     ]
    }
   ],
   "source": [
    "result = 0\n",
    "n = 200\n",
    "\n",
    "while n > 0:\n",
    "    n = n // 10\n",
    "    result += 1\n",
    "\n",
    "print(f'n of digit: {result}')"
   ]
  },
  {
   "cell_type": "markdown",
   "metadata": {},
   "source": [
    "**예제**: 피보나치 수열은 다음과 같은 방식으로 구성됩니다. 피보나치 수열은 0과 1로 시작되며, 다음에 오는 수는 이전 두 값의 합이 됩니다. 따라서 해당 수열은 0, 1, 1, 2, 3, 5, 8, 13, ... 등과 같이 구성됩니다. 이제 양의 정수 _n_을 초과하지 않는 피보나치 수열을 작성해보도록 합시다."
   ]
  },
  {
   "cell_type": "code",
   "execution_count": 5,
   "metadata": {},
   "outputs": [
    {
     "name": "stdout",
     "output_type": "stream",
     "text": [
      "0\n",
      "1\n",
      "1\n",
      "2\n",
      "3\n",
      "5\n",
      "8\n"
     ]
    }
   ],
   "source": [
    "a, b = 0, 1\n",
    "n = 10\n",
    "\n",
    "while a <= n:\n",
    "    print(a)\n",
    "    c = a + b\n",
    "    a = b\n",
    "    b = c"
   ]
  },
  {
   "cell_type": "markdown",
   "metadata": {},
   "source": [
    "## 1.3. Looping over collections of values\n",
    "\n",
    "우리는 이전까지 정수를 순회하는 방법에 대해 학습하였습니다. 이번에는 **for 문**을 활용해 컨테이너에 저장된 **정수 외**의 값들을 순회하는 방법에 대해 알아보도록 하겠습니다.\n",
    "\n",
    "**예제**: 다음 프로그램은 매 번 각 요일을 출력하는 프로그램입니다."
   ]
  },
  {
   "cell_type": "code",
   "execution_count": 6,
   "metadata": {},
   "outputs": [
    {
     "name": "stdout",
     "output_type": "stream",
     "text": [
      "Monday\n",
      "Tuesday\n",
      "Wednesday\n",
      "Thursday\n",
      "Friday\n",
      "Saturday\n",
      "Sunday\n"
     ]
    }
   ],
   "source": [
    "days = ['Monday', 'Tuesday', 'Wednesday', 'Thursday',\n",
    "        'Friday', 'Saturday', 'Sunday']\n",
    "for day in range(len(days)):\n",
    "    print(days[i])"
   ]
  },
  {
   "cell_type": "markdown",
   "metadata": {},
   "source": [
    "만약 우리가 `range` 함수를 사용한다면, **정수 리스트**를 생성한 후 반복문을 돌게 됩니다. 그러나 이는 긴 시퀀스에 대해 매우 **메모리 낭비**적인 행위일 수 있습니다. 이 대신 컨테이너를 바로 순회하는 것이 좋습니다.\n",
    "_cf. `xrange`는 파이썬 3부터 지원 중단_\n",
    "\n",
    "만약 우리가 **집합(set)**을 순회한다면 리스트를 순회하는 것과 유사하게 하나의 원소를 출력할 수 있겠지만 다음과 같이 그 순서가 무너지게 됩니다."
   ]
  },
  {
   "cell_type": "code",
   "execution_count": 7,
   "metadata": {},
   "outputs": [
    {
     "name": "stdout",
     "output_type": "stream",
     "text": [
      "Friday\n",
      "Tuesday\n",
      "Monday\n",
      "Saturday\n",
      "Wednesday\n",
      "Sunday\n",
      "Thursday\n"
     ]
    }
   ],
   "source": [
    "days = set(['Monday', 'Tuesday', 'Wednesday', 'Thursday',\n",
    "            'Friday', 'Saturday', 'Sunday'])\n",
    "\n",
    "for day in days:\n",
    "    print(day)"
   ]
  },
  {
   "cell_type": "markdown",
   "metadata": {},
   "source": [
    "파이썬에서 **딕셔너리**를 순회한다는 것은 해당 딕셔너리의 **키들의 리스트**를 순회하는 것을 의미합니다. 결과는 아래와 같습니다."
   ]
  },
  {
   "cell_type": "code",
   "execution_count": 9,
   "metadata": {},
   "outputs": [
    {
     "data": {
      "text/plain": [
       "dict_keys(['mon', 'tue', 'wed', 'thu', 'fri', 'sat', 'sun'])"
      ]
     },
     "execution_count": 9,
     "metadata": {},
     "output_type": "execute_result"
    }
   ],
   "source": [
    "# 딕셔너리의 keys()는 이제 리스트 !\n",
    "days.keys()"
   ]
  },
  {
   "cell_type": "code",
   "execution_count": 8,
   "metadata": {},
   "outputs": [
    {
     "name": "stdout",
     "output_type": "stream",
     "text": [
      "mon stands for Monday\n",
      "tue stands for Tuesday\n",
      "wed stands for Wednesday\n",
      "thu stands for Thursday\n",
      "fri stands for Friday\n",
      "sat stands for Saturday\n",
      "sun stands for Sunday\n"
     ]
    }
   ],
   "source": [
    "days = {'mon': 'Monday', 'tue': 'Tuesday', 'wed': 'Wednesday', \n",
    "        'thu': 'Thursday', 'fri': 'Friday', 'sat': 'Saturday', \n",
    "        'sun': 'Sunday'}\n",
    "for day in days:\n",
    "    print(f'{day} stands for {days[day]}')"
   ]
  }
 ],
 "metadata": {
  "kernelspec": {
   "display_name": "Python 3",
   "language": "python",
   "name": "python3"
  },
  "language_info": {
   "codemirror_mode": {
    "name": "ipython",
    "version": 3
   },
   "file_extension": ".py",
   "mimetype": "text/x-python",
   "name": "python",
   "nbconvert_exporter": "python",
   "pygments_lexer": "ipython3",
   "version": "3.7.3"
  }
 },
 "nbformat": 4,
 "nbformat_minor": 2
}
