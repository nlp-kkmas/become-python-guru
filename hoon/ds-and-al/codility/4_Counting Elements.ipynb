{
 "cells": [
  {
   "attachments": {},
   "cell_type": "markdown",
   "metadata": {},
   "source": [
    "# Chapter 4. Counting element\n",
    "\n",
    "- **수열**은 다양한 방법으로 배열에 저장될 수 있습니다.\n",
    "- 가장 기본적인 접근 방법은 연속되는 수를 **각 위치에 해당하는 인덱스**에 저장하는 것입니다.\n",
    "- 혹은 우리는 아래 그림과 같이 숫자가 **등장한 횟수**를 해당 숫자 번째 인덱스에 기록하는 식으로 수열을 저장할 수도 있습니다.\n",
    "\n",
    "![](imgs/array.png)"
   ]
  },
  {
   "cell_type": "markdown",
   "metadata": {},
   "source": [
    "- 위 그림과 같은 방식으로 수열을 저장하기 위해서는 숫자가 등장할 횟수를 기록할 배열이 **충분히 커야** 합니다.\n",
    "- 만약 우리가 수열 내 모든 원소의 값을 알고 있다면, 등장 횟수를 기록할 배열은 수열의 최대 값보다 **1 더 큰 크기**여야 합니다."
   ]
  },
  {
   "cell_type": "code",
   "execution_count": null,
   "metadata": {},
   "outputs": [],
   "source": [
    "# O(n + m)\n",
    "def counting(lst, m):\n",
    "    n = len(lst)\n",
    "    count = [0] * (m + 1)\n",
    "    for k in range(n):\n",
    "        count[lst[k]] += 1\n",
    "    return count\n",
    "\n",
    "lst = [0, 0, 4, 2, 4, 5]\n",
    "counting(lst, max(lst))"
   ]
  },
  {
   "cell_type": "markdown",
   "metadata": {},
   "source": [
    "- 위같은 방식의 한계는 **메모리**에 있습니다. 대개, 우리는 _10^9_ 개의 정수를 지닐 수 있는 배열을 만들 수는 없습니다. 이는 **1GB**의 메모리를 필요로 하기 때문입니다.\n",
    "- 음의 정수를 세는 것은 두 가지 방법으로 해결할 수 있습니다.\n",
    "    1. 모든 수에 **충분히 큰 수**를 더해줘, 모든 수가 0 이상이 되도록 합니다.\n",
    "    2. 단순히 음수를 카운트하기 위한 **새로운 배열**을 만들어줍니다."
   ]
  },
  {
   "cell_type": "markdown",
   "metadata": {},
   "source": [
    "## 4.1. Exercise\n",
    "**문제**: 여러분은 1 이상 1,000,000 이하의 정수 _m_ 과 _n_ 개의 원소를 지니는 두 배열 _A_, _B_ 를 지니고 있습니다. 문제의 목표는 _A_와 _B_ 배열에서 **하나의 원소만을 교환해** 두 배열의 합이 같아지도록 할 수 있는가를 확인하는 것입니다.\n",
    "\n",
    "\n",
    "**해결** *O(n^2)*: 가장 단순한 방법은 _A_와 _B_의 모든 원소를 교환해보는 것입니다. 그러나 이는 *O(n^3)* 의 시간 복잡도를 지닙니다. 보다 좋은 접근법은 **사전에 _A_와 _B_의 원소의 합을 계산**해둔 후, 원소 변경이 이루어졌을 때 원소의 합이 어떻게 변하는지만을 확인하는 것입니다."
   ]
  },
  {
   "cell_type": "code",
   "execution_count": null,
   "metadata": {},
   "outputs": [],
   "source": [
    "# O(n^2)\n",
    "def slow_solution(A, B):\n",
    "    n = len(A)\n",
    "    sum_a = sum(A)\n",
    "    sum_b = sum(B)\n",
    "    for i in range(n):\n",
    "        for j in range(n):\n",
    "            change = B[j] - A[i]\n",
    "            sum_a += change\n",
    "            sum_b -= change\n",
    "            if sum_a == sum_b:\n",
    "                return True\n",
    "            sum_a -= change\n",
    "            sum_b += change\n",
    "    return False"
   ]
  },
  {
   "cell_type": "code",
   "execution_count": null,
   "metadata": {},
   "outputs": [],
   "source": [
    "lst_a = list(range(100000))\n",
    "lst_b = list(range(100000))\n",
    "lst_a[-2] = 99999\n",
    "lst_b[-1] = 99998"
   ]
  },
  {
   "cell_type": "markdown",
   "metadata": {},
   "source": [
    "**해결** *O(n + m)*: 가장 좋은 접근법은 _A_의 원소들을 카운팅 한 후, _A_의 합과 _B_의 합의 차이인 _d_를 계산하는 것입니다.\n",
    "\n",
    "배열 _B_ 의 모든 원소에 대해 우리는 배열 _A_ 내 **어떤** 원소와 교환을 하게 될 것입니다. 두 배열의 합에 대한 차이 _d_ 는 우리가 교환에 대해 관심 있는 _A_ 내 원소에 대한 정보를 나타냅니다."
   ]
  },
  {
   "cell_type": "code",
   "execution_count": null,
   "metadata": {},
   "outputs": [],
   "source": [
    "# O(n + m)\n",
    "def fast_solution(A, B):\n",
    "    n, m = len(A), max(A)\n",
    "    sum_a = sum(A)\n",
    "    sum_b = sum(B)\n",
    "    d = sum_b - sum_a\n",
    "    if d % 2 == 1:\n",
    "        return False\n",
    "    d //= 2\n",
    "    count = counting(A, m)\n",
    "    for i in range(n):\n",
    "        if 0 <= B[i] - d and B[i] - d <= m and count[B[i] - d] > 0:\n",
    "            return True\n",
    "    return False"
   ]
  },
  {
   "cell_type": "code",
   "execution_count": null,
   "metadata": {},
   "outputs": [],
   "source": [
    "A = [5, 5, 3]  # 13\n",
    "B = [3, 3, 3]  #  9\n",
    "\n",
    "d = 4\n",
    "d // 2 = 2\n",
    "\n",
    "count = [0, 0, 0, 1, 0, 2]\n",
    "\n",
    "# 1st Iteration\n",
    "B[0] = 3\n",
    "3 - d = 1\n",
    "count[1] = 5"
   ]
  },
  {
   "cell_type": "code",
   "execution_count": null,
   "metadata": {},
   "outputs": [],
   "source": [
    "%%time\n",
    "slow_solution(lst_a, lst_b)"
   ]
  },
  {
   "cell_type": "code",
   "execution_count": null,
   "metadata": {},
   "outputs": [],
   "source": [
    "%%time\n",
    "fast_solution(lst_a, lst_b)"
   ]
  }
 ],
 "metadata": {
  "kernelspec": {
   "display_name": "Python 3",
   "language": "python",
   "name": "python3"
  },
  "language_info": {
   "codemirror_mode": {
    "name": "ipython",
    "version": 3
   },
   "file_extension": ".py",
   "mimetype": "text/x-python",
   "name": "python",
   "nbconvert_exporter": "python",
   "pygments_lexer": "ipython3",
   "version": "3.7.3"
  }
 },
 "nbformat": 4,
 "nbformat_minor": 2
}
