{
 "cells": [
  {
   "cell_type": "markdown",
   "metadata": {},
   "source": [
    "# 객체 지향 프로그래밍"
   ]
  },
  {
   "cell_type": "markdown",
   "metadata": {},
   "source": [
    "## 2.1 목표, 원리 그리고 패턴\n",
    "- 이름에서 유추할 수 있듯 객체 지향 패러다임에서 가장 중요한 개념은 **객체**\n",
    "- 각 객체는 **클래스**의 **인스턴스**\n",
    "- 각 클래스는 외부에 **불필요한 정보**를 보여준다거나 타인에게 **내부 로직**에 대한 **접근 권한**을 부여하지 않고, 객체의 **간결하고 일관된** 모습만을 보여줌\n",
    "- 클래스는 일반적으로,\n",
    "    - **멤버 데이터**라고도 불리우는 **인스턴스 변수**와\n",
    "    - **멤버 함수**라고도 불리우는 **메서드**를 지님\n",
    "\n",
    "### 2.1.1 객체 지향적 설계 목표\n",
    "- 소프트웨어는 **강건함**과 **적응성** 그리고 **재사용성**을 달성해야 함\n",
    "    - **강건함**: 모든 소프트웨어는 예기치 않은 오류 상황에서도 강건하게 대처할 수 있도록 설계되어야 함\n",
    "    - **적응성**: 현대 소프트웨어들은 장기간 사용될 가능성이 커졌기 때문에 환경의 변화에 맞추어 프로그램을 손쉽게 수정할 수 있도록 설계해야 함. 이와 더불어 서로 다른 운영체제, 하드웨어에서도 모두 정상적으로 동작할 수 있도록 **가용성** 또한 고려되어야 함\n",
    "    - **재사용성**: 소프트웨어의 개발은 비용이 많이 드는 작업이기에, 기개발된 컴포넌트를 다른 개발에도 사용할 수 있도록 **재사용성**을 염두에 두고 개발을 하는 것이 바람직\n",
    "    \n",
    "### 2.1.2 객체 지향의 디자인 원리\n",
    "- 위 목표들을 달성하기 위해 필요한 원리로는 **모듈화**, **추상화** 그리고 **캡슐화**가 있음\n",
    "    - **모듈화**\n",
    "        - 시스템에 포함되는 서로 다른 컴포넌트들은 개별 기능을 수행하는 단위로 나뉘어야 함\n",
    "        - **모듈화**를 이룬 코드는 테스트와 디버그를 컴포넌트 별로 수행하기 용이하기에 프로그램이 **강건해야** 한다는 위 목표를 달성하기 쉬워짐\n",
    "        - 또한 일반적으로 작동할 수 있는 모듈을 만들어 놓으면 **재사용**도 용이해짐\n",
    "    - **추상화**\n",
    "        - 추상화는 복잡한 시스템을 가장 기본적인 부품들로 나누어 보는 것\n",
    "        - **Abstract Data Types (ADT)**: 자료구조에서 사용되는 개념으로 해당 자료구조가 지니는 데이터의 타입, 그 위에 행해지는 연산 그리고 해당 연산이 취하는 인자들을 가장 기본적으로 명시하는 일종의 수학적 모델\n",
    "        - **ADT**가 각 연산이 무슨 일을 수행하는지를 설명한다면, **Public Interface**는 연산이 어떻게 수행되는지를 설명\n",
    "        - **Duck Typing**: 파이썬은 **동적 타입 언어**이자, **인터프릿** 언어이기 때문에, 개발자들은 개별 객체가 수행할 수 있는 연산을 사용하며 개발을 진행할 수 있음. 만약, 잘못된 연산을 요청할 경우 인터프리터에서 에러를 내도록 함\n",
    "        - 파이썬은 **Abstract Base Class (ABC)** 라는 메커니즘을 활용해 추상 데이터 타입을 지원: ABC의 인스턴스를 만들 수는 없지만, ABC는 추상 클래스가 지녀야 할 하나 혹은 그 이상의 **공통 메서드**를 정의 (파이썬의 **_abc_** 모듈이 ABC 지원)\n",
    "    - **캡슐화**: 각 클래스의 내부 상세 로직을 외부에 공개하지 않도록 하는 개념. 다른 개발자가 내부 로직은 고려하지 않고, **Public Interface**만 보고 해당 클래스를 사용할 수 있도록 함. 코드를 작성한 이 외에는 해당 클래스의 내부 로직을 수정하지 않기에 **강건함**과 **적응성**을 달성할 수 있음. 파이썬은 캡슐화를 보수적으로 지원하지 않기 때문에 신경을 써서 개발을 해주어야 함 (e.g. Single Underscore를 통해 private 설정)\n",
    "    \n",
    "### 2.1.3 디자인 패턴\n",
    "- 좋은 코드를 작성하는 것은 객체 지향 방법론을 이해하는 것 이상을 필요로 함\n",
    "- 좋은 코드를 작성하기 위해서는 **객체 지향 디자인 기법**을 활용할 수 있어야 함\n",
    "- 우리는 여러 선대 개발자들이 정의해 놓은 **디자인 패턴**을 활용해 문제를 해결할 수 있음"
   ]
  },
  {
   "cell_type": "markdown",
   "metadata": {},
   "source": [
    "## 2.2 소프트웨어 개발\n",
    "- 전통적인 소프트웨어 개발은 여러 단계를 포함하며, 메이저한 3개의 단계는 아래와 같음\n",
    "    - **설계**\n",
    "    - **구현**\n",
    "    - **테스팅 및 디버깅**\n",
    "    \n",
    "\n",
    "### 2.2.1 설계\n",
    "- **설계**는 소프트웨어 개발에 있어 가장 중요한 단계\n",
    "- **설계** 단계를 통해 개별 프로그램을 어떤 클래스로 나눌지, 클래스들 간 어떻게 상호 작용할 지, 어떤 데이터를 저장할지, 각 액션은 어떠한 기능을 수행할지 등을 정할 수 있음\n",
    "- 실제로 프로그램 구현에 있어 가장 어려운 난관 중 하나가 어떠한 클래스를 정의할 것인지임\n",
    "- 통용되지는 않지만 클래스 설계와 관련한 보편적인 규칙이 존재\n",
    "    - **책임**: 수행할 작업을 각 **책임**을 의미하는 **액터**로 쪼개어 구현\n",
    "    - **독립**: 각 클래스는 독립적인 역할을 수행하도록 해야 함. **책임**을 잘게 나누어 각 클래스가 프로그램의 특정 부분에 대한 자주권을 갖도록 설계\n",
    "    - **행위**: 클래스에 의해 수행될 **행위**를 신중하고 정확하게 설계해 다른 클래스들이 해당 클래스가 수행한 **행위**의 결과를 이해할 수 있도록 해야 함. 이렇게 설계된 **행위**들이 해당 클래스를 사용할 때 쓰이는 **인터페이스**가 됨\n",
    "- 고수준의 설계를 위해 **Class-Responsibility-Collaborator (CRC)** 카드를 주로 사용\n",
    "- **Unified Modeling Language (UML)**도 설계를 위해 자주 사용됨\n",
    "\n",
    "### 2.2.2 수도 코드\n",
    "- 본격적으로 프로그램을 작성하기 전, 사람이 읽을 수 있는 언어로 프로그램을 작성해야 하는데 이 행위를 **수도 코드**를 작성한다고 함\n",
    "- **수도 코드**는 자연어와 고차원 프로그래밍 언어가 조합된 코드\n",
    "\n",
    "### 2.2.3 코딩 스타일과 문서화\n",
    "- 프로그램은 읽기 쉽고, 이해하기 쉽게 작성되어야 함\n",
    "- 따라서 좋은 개발자가 되기 위해서는 **코드 스타일**에 항상 신경써야 함\n",
    "- 파이썬 개발에 있어서는 공식 스타일인 [**PEP-8**](https://www.python.org/dev/peps/pep-0008/)을 따르도록 하자!\n",
    "- 아래는 몇 가지 반드시 지켜야 할 사항\n",
    "    - **Tab** 대신 **4 White-space** 사용\n",
    "    - **유의미한 네이밍**을 해야 함\n",
    "        - **클래스**는 **단수형**으로 **캐피탈라이즈**된 형태로 네이밍. 만약 여러 단어의 조합으로 이루어져야 한다면 **캐멀 케이스**를 활용\n",
    "        - **함수**는 소문자로 작성되어야 함. 여러 단어의 조합으로 이루어져야 한다면, **언더스코어**를 기준으로 나누어 작성. 함수는 대개 **동사**로 작성함\n",
    "        - **파라미터**, **변수** 등 역시 소문자로 작성\n",
    "        - **정수**를 담는 **컨스턴트**는 **대문자**와 **언더스코어**의 조합으로 작성\n",
    "        - _cf) **언더스코어**로 시작하는 변수 및 함수는 **Private**임에 유의_ \n",
    "    - 코드가 모호할 때는 주석을 통해 간단하게 설명을 작성해줄 수 있음. 주석이 여러 줄일 경우 `\"\"\"주석\"\"\"`의 스트링 리터럴을 사용\n",
    "\n",
    "\n",
    "#### 문서화\n",
    "- 파이썬은 **docstring** 메커니즘을 통해 임베딩 다큐멘테이션을 지원\n",
    "- 모듈, 클래스 혹은 함수에서 첫 번째 **statement**로 등장하는 스트링 리터럴을 **docstring**으로 간주\n",
    "\n",
    "```\n",
    "def scale(data, factor):\n",
    "    \"\"\"Multiply all entries of numeric data list by the given factor.\"\"\"\n",
    "    for j in range(len(data)):\n",
    "        data[j] *= factor\n",
    "```\n",
    "\n",
    "- 위 예제와 같이 한 줄의 **docstring**도 `\"\"\"`로 감싸주는 것이 보통\n",
    "- 보다 자세한 **docstring**은 해당 함수 혹은 모듈의 **목적**을 요약하는 한 줄의 설명을 작성하고, 이후 세부 사항들이 작성되도록 함\n",
    "\n",
    "```\n",
    "def scale(data, factor):\n",
    "    \"\"\"Multiply all entries of numeric data list by the given factor.\n",
    "    \n",
    "    data      an instance of any mutable sequence type (such as a list)\n",
    "              containing numerice elements\n",
    "    \n",
    "    factor    a number that serves as the multiplicative factor for scaling\n",
    "    \"\"\"\n",
    "    for j in range(len(data)):\n",
    "        data[j] *= factor\n",
    "```\n",
    "\n",
    "- **docstring**은 정의되는 클래스, 모듈 혹은 함수의 **필드**로서 저장됨\n",
    "- `help(x)`와 같은 명령어로 저장된 **docstring**을 확인할 수 있음\n",
    "\n",
    "### 2.2.4 테스팅 및 디버깅\n",
    "- **테스팅**은 프로그램이 옳게 동작하는지 확인하는 작업\n",
    "- **디버깅**은 프로그램을 실행하는 과정에 에러가 있는지 확인하는 작업\n",
    "- 개발 주기에 있어 테스팅과 디버깅은 종종 가장 많은 시간이 들어가는 작업\n",
    "\n",
    "#### 테스팅\n",
    "- 테스트 계획을 신중하게 짜는 것은 프로그램 개발에 있어 매우 중요\n",
    "- 모든 입력 값을 고려한 테스팅은 불가능하지만, 최대한 여러 예제의 대표가 될 수 있는 예제들을 찾아 테스팅을 수행하는 것이 좋음\n",
    "- 클래스의 모든 메서드들이 최소 한 번씩은 호출되도록 테스트 하는 것이 좋음 (메서드 커버리지)\n",
    "- 더 좋은 것은 프로그램의 statement들이 최소 한 번씩 호출되는 것 (스테이트먼트 커버리지)\n",
    "- 테스트를 수행하고자 하는 함수들 간 **위계**가 있을 경우,\n",
    "    - **Top-down**: 함수 A가 함수 B를 호출할 경우, 함수 B가 반환하는 결과 값을 고정된 값으로 대체한 후(**stubbing**) 함수 A에 대한 테스트를 진행\n",
    "    - **Bottom-up**: 다른 함수를 호출하지 않는 함수들을 먼저 테스트. 이후, 하나의 함수만을 호출하는 함수를 테스트. 이후, 두 개의 함수... 와 같은 방식으로 저레벨의 함수에서부터 테스트 작업을 수행. 이를 대개 **유닛 테스트**라고 부름\n",
    "- 모듈화가 잘 되어있다면, 해당 모듈 파일에 테스트 코드를 삽입할 수도 있음\n",
    "- **유닛 테스트**를 자동화하는 좋은 방법른 파이썬의 `unittest` 모듈을 사용하는 것\n",
    "- 프로그램을 확장할 때는 이번 변화가 이전의 코드들에 영향을 미쳤는지를 알아봐야 하므로 이전까지의 테스트 코드를 모두 재실행시킨 후, 새로이 추가한 테스트 코드를 실행하는 **regression testing**을 수행하는 것이 좋음\n",
    "\n",
    "#### 디버깅\n",
    "- 디버깅을 하는 가장 단순한 방법은 프로그램의 실행 과정 중 변수들의 값의 변화를 추적하기 위해 **print** 문을 찍어보는 것\n",
    "- 이 방법의 단점은 실험에 사용한 **print** 문을 일일이 제거해주어야 한다는 것\n",
    "- 더 좋은 방법은 **breakpoint**를 걸고 **디버거**를 실행하는 것"
   ]
  },
  {
   "cell_type": "markdown",
   "metadata": {},
   "source": [
    "## 2.3 클래스 정의\n",
    "- 클래스는 객체 지향 프로그래밍에 있어 **추상화**를 담당하는 수단\n",
    "- 파이썬에서는 모든 데이터가 어떤 클래스의 인스턴스로 표현됨\n",
    "\n",
    "### 2.3.1 예제: 신용카드 클래스\n",
    "- 예제로 만들어 볼 `CreditCard` 클래스는 전통적인 신용카드 모델이기 때문에, 고객, 은행, 계좌 번호, 한도, 현재 잔액 등의 정보를 지닐 것\n",
    "- 카드가 한도를 넘는 금액을 사용하지 못하도록 **결제** 기능에 제약을 둘 것\n",
    "\n",
    "#### self \n",
    "- 파이썬에서 `self`는 **중요한 역할**을 담당\n",
    "- `CreditCard`의 예를 들자면 프로그램에는 `CreditCard`의 수많은 인스턴스가 생성될 것이며, 개별 인스턴스는 서로 다른 정보를 지니고 있을 수 있어야 함\n",
    "- `self`는 메서드가 호출된 **바로 그** 인스턴스를 지칭하도록 함"
   ]
  },
  {
   "cell_type": "code",
   "execution_count": 1,
   "metadata": {},
   "outputs": [],
   "source": [
    "class CreditCard:\n",
    "    \"\"\"고객 신용 카드\"\"\"\n",
    "    \n",
    "    def __init__(self, customer, bank, account, limit):\n",
    "        \"\"\"새로운 신용카드 인스턴스 생성\n",
    "        \n",
    "        초기 결제액은 0\n",
    "        \n",
    "        customer  고객명 (예. 'John Bowman')\n",
    "        bank      은행명 (예. 'California Savings')\n",
    "        account   계좌번호 (예. '5391 0375 9387 5309')\n",
    "        limit     신용 한도 (달러 기준)\n",
    "        \"\"\"\n",
    "        self._customer = customer\n",
    "        self._bank = bank\n",
    "        self._account = account\n",
    "        self._limit = limit\n",
    "        self._balance = 0\n",
    "        \n",
    "    def get_customer(self):\n",
    "        \"\"\"고객 이름 반환\"\"\"\n",
    "        return self._customer\n",
    "    \n",
    "    def get_bank(self):\n",
    "        \"\"\"은행명 반환\"\"\"\n",
    "        return self._bank\n",
    "    \n",
    "    def get_account(self):\n",
    "        \"\"\"카드의 ID 반환 (통상적으로 문자열로 저장)\"\"\"\n",
    "        return self._account\n",
    "    \n",
    "    def get_limit(self):\n",
    "        \"\"\"현재 신용 한도 반환\"\"\"\n",
    "        return self._limit\n",
    "    \n",
    "    def get_balance(self):\n",
    "        \"\"\"현재 결제액 반환\"\"\"\n",
    "        return self._balance\n",
    "    \n",
    "    def charge(self, price):\n",
    "        \"\"\"신용 한도에 따라 입력한 금액을 결제\n",
    "        \n",
    "        charge가 성공하면 True 반환; 실패 시 False 반환\n",
    "        \"\"\"\n",
    "        if price + self._balance > self._limit:    # 결제액이 한도를 넘으면,\n",
    "            return False                          # 결제를 할 수 없음\n",
    "        else:\n",
    "            self._balance += price                 \n",
    "            return True\n",
    "        \n",
    "    def make_payment(self, amount):\n",
    "        \"\"\"선결제 수행\"\"\"\n",
    "        self._balance -= amount"
   ]
  },
  {
   "cell_type": "markdown",
   "metadata": {},
   "source": [
    "#### Constructor\n",
    "- 사용자는 `CreditCard`의 인스턴스를 다음과 같이 생성 가능\n",
    "\n",
    "```\n",
    "cc = CreditCard('John Doe', '1st Bank', '5391 0375 9387 5309', 1000)\n",
    "```\n",
    "\n",
    "- 내부적으로 위 코드는 `__init__` 메서드를 호출하며, 이는 클래스의 **생성자** 역할을 수행\n",
    "\n",
    "#### Encapsulation\n",
    "- 하나의 **언더스코어**는 **Private**을 의미하기에, 해당 클래스를 사용하는 사용자는 멤버 변수들에 직접적으로 접근할 수 없음\n",
    "- 일반적으로 데이터 멤버들은 **private**으로 설정해줌\n",
    "- 이후, `get_balance`와 같이 **read-only**로 접근 가능한 메서드를 열어주는 것이 좋음\n",
    "\n",
    "#### Error Checking\n",
    "- 위에서 정의한 클래스는 **TypeError**에 대한 처리도 되어있지 않으며,\n",
    "- `charge`에서 **-300**과 같은 수를 사용하면 결제도 하지 않고 무한대로 신용카드를 쓸 수 있게 되는데 이러한 에러 처리에 대해서 뒤에 다시 이야기해보자\n",
    "\n",
    "#### Testing the Class\n",
    "- `if __name__ == '__main__':` statement를 활용해 앞서 정의한 클래스를 테스트 할 것\n",
    "- 아래 테스트 코드는 **메서드 커버리지**는 제공하지만 한도 때문에 결제가 거절되는 경우는 발생하지 않기에 **스테이트먼트 커버리지**는 제공하지 않음"
   ]
  },
  {
   "cell_type": "code",
   "execution_count": 2,
   "metadata": {},
   "outputs": [
    {
     "name": "stdout",
     "output_type": "stream",
     "text": [
      "Customer = John Bowman\n",
      "Bank = California Savings\n",
      "Account = 5391 0375 9387 5309\n",
      "Limit = 2500\n",
      "Balance = 136\n",
      "New Balance = 36\n",
      "\n",
      "Customer = John Bowman\n",
      "Bank = California Federal\n",
      "Account = 3485 0399 3395 1954\n",
      "Limit = 3500\n",
      "Balance = 272\n",
      "New Balance = 172\n",
      "New Balance = 72\n",
      "\n",
      "Customer = John Bowman\n",
      "Bank = California Finance\n",
      "Account = 5391 0375 9387 5309\n",
      "Limit = 5000\n",
      "Balance = 408\n",
      "New Balance = 308\n",
      "New Balance = 208\n",
      "New Balance = 108\n",
      "New Balance = 8\n",
      "\n"
     ]
    }
   ],
   "source": [
    "wallet = []\n",
    "wallet.append(CreditCard('John Bowman', 'California Savings',\n",
    "                         '5391 0375 9387 5309', 2500))\n",
    "wallet.append(CreditCard('John Bowman', 'California Federal',\n",
    "                         '3485 0399 3395 1954', 3500))\n",
    "wallet.append(CreditCard('John Bowman', 'California Finance',\n",
    "                         '5391 0375 9387 5309', 5000))\n",
    "\n",
    "for val in range(1, 17):\n",
    "    wallet[0].charge(val)\n",
    "    wallet[1].charge(2*val)\n",
    "    wallet[2].charge(3*val)\n",
    "    \n",
    "for c in range(3):\n",
    "    print(f'Customer = {wallet[c].get_customer()}')\n",
    "    print(f'Bank = {wallet[c].get_bank()}')\n",
    "    print(f'Account = {wallet[c].get_account()}')\n",
    "    print(f'Limit = {wallet[c].get_limit()}')\n",
    "    print(f'Balance = {wallet[c].get_balance()}')\n",
    "    \n",
    "    while wallet[c].get_balance() > 100:\n",
    "        wallet[c].make_payment(100)\n",
    "        print(f'New Balance = {wallet[c].get_balance()}')\n",
    "\n",
    "    print()"
   ]
  },
  {
   "cell_type": "markdown",
   "metadata": {},
   "source": [
    "### 2.3.2 연산자 오버로딩과 파이썬 스페셜 메서드\n",
    "- 파이썬의 빌트 인 클래스들은 여러 연산들에 있어 자연스러운 문법을 제공\n",
    "- 숫자형 데이터들에 `+` 연산을 적용할 경우 **덧셈** 연산이 수행되며, 문자형 데이터들에 `+` 연산을 적용할 경우 **concat** 연산이 수행\n",
    "- 새로이 정의하는 클래스들에 대해서는 `+` 연산이 정의되어 있지 않지만 우리는 **연산자 오버로딩**을 통해 해당 연산을 직접 정의해줄 수 있음: `__add__`\n",
    "    - 이때, `a + b` 연산의 오른쪽에 오는 `b`가 파라미터로 작용\n",
    "    - `a.__add__(b)`와 같은 형태로 생각할 수 있음\n",
    "- 만약 이항 연산의 각 항이 서로 다른 타입일 경우, 좌측 항의 `__mul__` 메서드가 어떻게 연산을 취하는지 보고, 만약 `__mul__` 메서드로 해결할 수 없다면 `__rmul__` 메서드를 활용"
   ]
  },
  {
   "cell_type": "code",
   "execution_count": 3,
   "metadata": {},
   "outputs": [
    {
     "name": "stdout",
     "output_type": "stream",
     "text": [
      "love melove melove me\n"
     ]
    }
   ],
   "source": [
    "print(3 * 'love me')"
   ]
  },
  {
   "cell_type": "markdown",
   "metadata": {},
   "source": [
    "#### 비연산자 오버로딩\n",
    "- 파이썬은 위 같은 연산자 오버로딩 기능 외에도 다양한 기능을 수행할 수 있는 **비연산자 오버로딩** 역시 제공\n",
    "- e.g.) `__str__` 연산을 정의한 후, `str(foo)`와 같은 연산을 수행하면, 해당 클래스를 묘사하는 글들을 출력해줄 수 있음\n",
    "- `__bool__` 연산을 정의해주면 `if foo`와 같이 **foo** 클래스를 **boolean** 처럼 사용할 수 있음\n",
    "- 클래스의 길이를 반환해주기 위해 `__len__` 연산도 정의 가능\n",
    "\n",
    "#### 메서드 추론\n",
    "- 몇몇 메서드의 경우, 따로 정의해주지 않아도 파이썬이 자동으로 지원해주기도 함\n",
    "- `__bool__` 메서드의 경우, 모든 클래스에 대해 **True**를 반환\n",
    "- 만약 컨테이너 클래스를 정의한 경우, `__len__`이 0일 때, `__bool__`은 False이며 `__len__`이 0이 아닐 때 `__bool__`이 True로 반환됨\n",
    "- 파이썬에서는 `__len__` 메서드와 `__getitem__`이 정의된 클래스들에 한해, `__iter__` 메서드를 자동으로 지원\n",
    "- `__iter__` 메서드가 정의되면 `__contains__` 메서드도 자동으로 지원"
   ]
  },
  {
   "cell_type": "markdown",
   "metadata": {},
   "source": [
    "### 2.3.3 예제: 다차원 벡터 클래스\n",
    "- **연사자 오버로딩**을 활용해보기 위해 `Vector` 라는 클래스를 정의해보자\n",
    "- 3차원 벡터 [5, -2, 3] 과 [1, 4, 2]을 더할 때, 이를 파이썬 리스트로 구현하면 **[5, -2, 3, 1, 4, 2]**의 결과가 나오겠지만 우리는 이를 원치 않기 때문에 `Vector` 클래스를 따로 구현\n",
    "- `Vector` 클래스가 구현할 **public interface**는 다음과 같음\n",
    "\n",
    "```\n",
    "v = Vector(5)          # 5 차원 벡터 초기화: <0, 0, 0, 0, 0>\n",
    "v[1] = 23              # <0, 23, 0, 0, 0> (setitem 활용)\n",
    "v[−1] = 45             # <0, 23, 0, 0, 45> (역시 setitem 활용)\n",
    "print(v[4])            # print 45 (getitem 활용)\n",
    "u=v+v                  # <0, 46, 0, 0, 90> (add 활동)\n",
    "print(u)               # print <0, 46, 0, 0, 90>\n",
    "total = 0\n",
    "for entry in v:        # len과 getitem 활용해 순회\n",
    "    total += entry\n",
    "```\n",
    "\n",
    "- 구현할 대부분의 행위들은 리스트와 유사하지만 `__add__`의 경우 커스터마이징을 해야 함"
   ]
  },
  {
   "cell_type": "code",
   "execution_count": 4,
   "metadata": {},
   "outputs": [],
   "source": [
    "class Vector:\n",
    "    \"\"\"다차원 벡터 클래스\"\"\"\n",
    "\n",
    "    def __init__(self, d):\n",
    "        \"\"\"d차원의 영벡터 생성\"\"\"\n",
    "        self._coords = [0] * d\n",
    "    \n",
    "    def __len__(self):\n",
    "        \"\"\"벡터의 차원 반환\"\"\"\n",
    "        return len(self._coords)\n",
    "    \n",
    "    def __getitem__(self, j):\n",
    "        \"\"\"벡터의 j번째 좌표 반환\"\"\"\n",
    "        return self._coords[j]\n",
    "    \n",
    "    def __setitem__(self, j, val):\n",
    "        \"\"\"벡터의 j번째 좌표를 val로 설정\"\"\"\n",
    "        self._coords[j] = val\n",
    "        \n",
    "    def __add__(self, other):\n",
    "        \"\"\"두 벡터의 합 반환\"\"\"\n",
    "        if len(self) != len(other):                    # __len__ 메서드 활용\n",
    "            raise ValueError('차원이 맞지 않습니다.')\n",
    "        \n",
    "        result = Vector(len(self))                     # 영벡터에서 시작\n",
    "        for j in range(len(self)):\n",
    "            result[j] = self[j] + other[j]\n",
    "        return result\n",
    "    \n",
    "    def __eq__(self, other):\n",
    "        \"\"\"두 벡터가 같은 좌표 값을 지니면 True 반환\"\"\"\n",
    "        return self._coords == other.__coords\n",
    "    \n",
    "    def __ne__(self, other):\n",
    "        \"\"\"두 벡터가 다른 좌표 값을 지니면 True 반환\"\"\"\n",
    "        return not self == other                      # __eq__ 메서드 활용\n",
    "    \n",
    "    def __str__(self):\n",
    "        \"\"\"String으로 벡터 표현\"\"\"\n",
    "        return f'<{self._coords}>'"
   ]
  },
  {
   "cell_type": "code",
   "execution_count": 5,
   "metadata": {},
   "outputs": [
    {
     "name": "stdout",
     "output_type": "stream",
     "text": [
      "<[0, 0, 0, 0, 0]>\n",
      "<[5, 3, 10, -2, 1]>\n"
     ]
    }
   ],
   "source": [
    "v = Vector(5)\n",
    "print(v)\n",
    "u = v + [5, 3, 10, -2, 1]\n",
    "print(u)"
   ]
  },
  {
   "cell_type": "markdown",
   "metadata": {},
   "source": [
    "- 위 코드가 굉장히 흥미로운데, [5, 3, 10, -2, 1]을 Vector 클래스로 생각하고 **Vector addition**을 취하고 있음\n",
    "- 이는 파이썬의 **Polymorphism**을 보여주는 코드\n",
    "- 사실은 [5, 3, 10, -2, 1]이 `len(other)`과 `other[j]` 연산을 지원하기 때문에 `Vector` 클래스와 같이 사용하는 것"
   ]
  },
  {
   "cell_type": "markdown",
   "metadata": {},
   "source": [
    "### 2.3.4 이터레이터\n",
    "- 자료구조에 있어 순회는 가장 중요한 개념\n",
    "- **iterator** 원소가 존재한다면 `__next__` 메서드를 통해 다음 원소를 반환해주고, 원소가 존재하지 않는다면 **StopIteration** 예외를 일으킴\n",
    "- 파이썬에서는 주로 **generator** 문법을 통해 이터레이터를 정의\n",
    "- 파이썬은 또한 `__len__` 메서드와 `__getitem__` 메서드를 정의한 클래스들을 자동으로 이터레이터로 구현해주기도 함"
   ]
  },
  {
   "cell_type": "code",
   "execution_count": 6,
   "metadata": {},
   "outputs": [],
   "source": [
    "class SequenceIterator:\n",
    "    \"\"\"파이썬 시퀀스 타입들의 이터레이터\"\"\"\n",
    "\n",
    "    def __init__(self, sequence):\n",
    "        \"\"\"시퀀스를 받아 이터레이터 생성\"\"\"\n",
    "        self._seq = sequence       # 데이터를 private화\n",
    "        self._k = -1               # 첫 번째 call 시 0으로 증가\n",
    "        \n",
    "    def __next__(self):\n",
    "        \"\"\"다음 원소를 반환\"\"\"\n",
    "        self._k += 1                      # 다음 인덱스로 이동\n",
    "        if self._k < len(self._seq):    \n",
    "            return(self._seq[self._k])    # 원소 반환\n",
    "        else:\n",
    "            return StopIteration()        # 원소가 더 이상 없음\n",
    "    \n",
    "    def __iter__(self):\n",
    "        \"\"\"관행 상, 이터레이터는 자기 자신을 반환해야 함\"\"\"\n",
    "        return self"
   ]
  },
  {
   "cell_type": "code",
   "execution_count": 7,
   "metadata": {},
   "outputs": [
    {
     "name": "stdout",
     "output_type": "stream",
     "text": [
      "1\n",
      "2\n",
      "3\n",
      "4\n",
      "5\n"
     ]
    }
   ],
   "source": [
    "s = SequenceIterator([1, 2, 3, 4, 5])\n",
    "\n",
    "print(next(s))\n",
    "print(next(s))\n",
    "print(next(s))\n",
    "print(next(s))\n",
    "print(next(s))"
   ]
  },
  {
   "cell_type": "markdown",
   "metadata": {},
   "source": [
    "### 2.3.5 예제: Range 클래스\n",
    "- 파이썬의 빌트인 range 클래스를 모방한 클래스를 정의해보자\n",
    "- 파이썬 3 이전의 range는 다음과 같이 활용되었음\n",
    "    - **range(2, 10, 2)**: list [2, 4, 6, 8]\n",
    "    - for k in **range(10000)**:\n",
    "    - 그러나 해당 연산은 실제로 만 개의 원소로 가득 찬 리스트를 만들어 시간 면에서도 공간 면에서도 비효율적인 연산이었음\n",
    "- 파이썬 3부터는 **Lazy evaluation**을 통해 range를 지원하기 시작\n",
    "- **Lazy evaluation**은 모든 값을 저장하지 않고, 필요한 경우에 원소를 만들어 사용하는 기법"
   ]
  },
  {
   "cell_type": "code",
   "execution_count": 8,
   "metadata": {},
   "outputs": [
    {
     "data": {
      "text/plain": [
       "27"
      ]
     },
     "execution_count": 8,
     "metadata": {},
     "output_type": "execute_result"
    }
   ],
   "source": [
    "r = range(8, 140, 5)\n",
    "len(r)"
   ]
  },
  {
   "cell_type": "code",
   "execution_count": 9,
   "metadata": {},
   "outputs": [
    {
     "data": {
      "text/plain": [
       "(8, 83)"
      ]
     },
     "execution_count": 9,
     "metadata": {},
     "output_type": "execute_result"
    }
   ],
   "source": [
    "r[0], r[15]"
   ]
  },
  {
   "cell_type": "markdown",
   "metadata": {},
   "source": [
    "- r은 `__len__` 메서드와 `__getitem__` 메서드를 지원하기 때문에 순회가 가능해지며, 우리가 **for k in range(10000)**과 같은 문법을 쓸 수 있었던 것도 이러한 이유 때문\n",
    "- 새로이 정의할 Range 클래스에서 가장 어려운 부분은 해당 Range에 속하는 원소들의 개수를 계산해 저장하는 것\n",
    "- 원소의 개수만 저장한다면 `__len__` 메서드와 `__getitem__` 메서드를 구현하는 것은 매우 쉬운 일이 됨"
   ]
  },
  {
   "cell_type": "code",
   "execution_count": 10,
   "metadata": {},
   "outputs": [],
   "source": [
    "class Range:\n",
    "    \"\"\"빌트인 ragne 클래스를 모방하는 클래스\"\"\"\n",
    "\n",
    "    def __init__(self, start, stop=None, step=1):\n",
    "        \"\"\"Range 클래스 초기화\n",
    "        \n",
    "        로직은 빌트인 range 클래스와 유사\n",
    "        \"\"\"\n",
    "        if step == 0:                                \n",
    "            raise ValueError('step cannot be 0')\n",
    "        \n",
    "        if stop is None:                   # range(n)의 특별한 케이스\n",
    "            start, stop = 0, start          # range(0, n)과 같이 다룸\n",
    "        \n",
    "        # 적절 길이 계산\n",
    "        self._length = max(0, (stop - start + step + 1) // step)\n",
    "        \n",
    "        # __getitem__을 위해 start와 step 정의\n",
    "        self._start = start\n",
    "        self._step = step\n",
    "        \n",
    "    def __len__(self):\n",
    "        \"\"\"원소의 개수 반환\"\"\"\n",
    "        return self._length\n",
    "    \n",
    "    def __getitem__(self, k):\n",
    "        \"\"\"k번째 원소 반환\"\"\"\n",
    "        if k < 0:\n",
    "            k += len(self)                   # 음수 인덱스를 양수로 변환\n",
    "            \n",
    "        if not 0 <= k < self._length:\n",
    "            raise IndexError('index out of range')\n",
    "        \n",
    "        return self._start + k * self._step"
   ]
  },
  {
   "cell_type": "markdown",
   "metadata": {},
   "source": [
    "## 2.4 상속\n",
    "- 소프트웨어의 다양한 컴포넌트들을 구조화하는 자연스러운 방법은 **위계** 형태로 구성하는 것\n",
    "- 이때 **유사한** 추상 정의들을 **비슷한** 레벨 구성으로 함께 엮어주어야 함\n",
    "- 레벨 간 관계는 보통 **is a** 관계로 묘사함: _집 **is a** 빌딩_, _농장 **is a** 집_\n",
    "- 보편적으로 사용되는 기능은 가장 보편적인 클래스에 정의하고,\n",
    "- 그 이상의 기능을 수행하는 클래스가 필요한 경우 보편적으로 정의해둔 클래스를 확장하여 사용: **상속**\n",
    "- **상속**이라는 개념을 통해 이전에 정의해둔 클래스를 새로이 정의하는 클래스의 시작점으로 삼을 수 있음\n",
    "- 기존에 존재했던 클래스를 **베이스 클래스**, **부모 클래스** 혹은 **슈퍼 클래스**라고 하며,\n",
    "- 이를 이용해 새로의 정의하는 클래스를 **서브 클래스** 혹은 **자식 클래스**라고 함\n",
    "- **서브 클래스**는 **슈퍼 클래스**에서 이미 정의된 메서드를 **오버라이딩**해 기능을 변경하거나, 아예 새로운 함수를 추가하여 사용 가능\n",
    "\n",
    "\n",
    "### 2.4.1 CreditCard 클래스 확장\n",
    "- **상속** 개념을 이해하기 위해 앞서 정의한 `CreditCard` 클래스를 **상속** 받는 클래스를 새로이 정의해보자\n",
    "- 새로이 정의할 클래스 `PredatoryCreditCard`는\n",
    "    - 1. 한도 초과로 결제가 거절될 경우, 벌금으로 $5를 부여하게 할 것이며,\n",
    "    - 2. 현재 사용 금액에 이자를 부과할 것임\n",
    "- 첫 번째 요구 사항을 만족하기 위해 `charge` 메서드를 **오버라이딩**할 것이고,\n",
    "- 두 번째 요구 사항을 만족하기 위해 새로운 메서드 `process_month`를 정의할 것\n",
    "- `PredatoryCreditCard`는 **상속 받은** `CreditCard` 클래스의 생성자를 거의 그대로 활용하기 때문에 `super().__init__(customer, bank, acnt, limit)`을 통해 **부모 클래스**로부터 상속 받은 생성자 로직을 사용\n",
    "    - 이후 새로이 추가된 **연간 이자율**은 새로운 멤버 변수로 기록\n",
    "- `charge` 메서드 역시 **부모 클래스**에서의 로직을 활용하기 때문에 `super().charge(price)` 코드를 통해 함수 호출"
   ]
  },
  {
   "cell_type": "code",
   "execution_count": 20,
   "metadata": {},
   "outputs": [
    {
     "ename": "NameError",
     "evalue": "name '_x' is not defined",
     "output_type": "error",
     "traceback": [
      "\u001b[1;31m---------------------------------------------------------------------------\u001b[0m",
      "\u001b[1;31mNameError\u001b[0m                                 Traceback (most recent call last)",
      "\u001b[1;32m<ipython-input-20-2695babf8861>\u001b[0m in \u001b[0;36m<module>\u001b[1;34m\u001b[0m\n\u001b[1;32m----> 1\u001b[1;33m \u001b[1;32mclass\u001b[0m \u001b[0mPredatoryCreditCard\u001b[0m\u001b[1;33m(\u001b[0m\u001b[0mCreditCard\u001b[0m\u001b[1;33m)\u001b[0m\u001b[1;33m:\u001b[0m\u001b[1;33m\u001b[0m\u001b[1;33m\u001b[0m\u001b[0m\n\u001b[0m\u001b[0;32m      2\u001b[0m     \u001b[1;34m\"\"\"\"\"\"\u001b[0m\u001b[1;33m\u001b[0m\u001b[1;33m\u001b[0m\u001b[0m\n\u001b[0;32m      3\u001b[0m     \u001b[1;32mdef\u001b[0m \u001b[0m__init__\u001b[0m\u001b[1;33m(\u001b[0m\u001b[0mself\u001b[0m\u001b[1;33m,\u001b[0m \u001b[0mcustomer\u001b[0m\u001b[1;33m,\u001b[0m \u001b[0mbank\u001b[0m\u001b[1;33m,\u001b[0m \u001b[0macnt\u001b[0m\u001b[1;33m,\u001b[0m \u001b[0mlimit\u001b[0m\u001b[1;33m,\u001b[0m \u001b[0mapr\u001b[0m\u001b[1;33m)\u001b[0m\u001b[1;33m:\u001b[0m\u001b[1;33m\u001b[0m\u001b[1;33m\u001b[0m\u001b[0m\n\u001b[0;32m      4\u001b[0m         \"\"\"새로운 신용카드 인스턴스 생성\n\u001b[0;32m      5\u001b[0m \u001b[1;33m\u001b[0m\u001b[0m\n",
      "\u001b[1;32m<ipython-input-20-2695babf8861>\u001b[0m in \u001b[0;36mPredatoryCreditCard\u001b[1;34m()\u001b[0m\n\u001b[0;32m     15\u001b[0m         \u001b[0mself\u001b[0m\u001b[1;33m.\u001b[0m\u001b[0m_apr\u001b[0m \u001b[1;33m=\u001b[0m \u001b[0mapr\u001b[0m\u001b[1;33m\u001b[0m\u001b[1;33m\u001b[0m\u001b[0m\n\u001b[0;32m     16\u001b[0m \u001b[1;33m\u001b[0m\u001b[0m\n\u001b[1;32m---> 17\u001b[1;33m     \u001b[1;32mdef\u001b[0m \u001b[0mcharge\u001b[0m\u001b[1;33m(\u001b[0m\u001b[0mself\u001b[0m\u001b[1;33m,\u001b[0m \u001b[0mprice\u001b[0m\u001b[1;33m=\u001b[0m\u001b[0m_x\u001b[0m\u001b[1;33m)\u001b[0m\u001b[1;33m:\u001b[0m\u001b[1;33m\u001b[0m\u001b[1;33m\u001b[0m\u001b[0m\n\u001b[0m\u001b[0;32m     18\u001b[0m         \"\"\"입력 금액을 기준으로 결제 수행\n\u001b[0;32m     19\u001b[0m \u001b[1;33m\u001b[0m\u001b[0m\n",
      "\u001b[1;31mNameError\u001b[0m: name '_x' is not defined"
     ]
    }
   ],
   "source": [
    "class PredatoryCreditCard(CreditCard):\n",
    "    \"\"\"\"\"\"\n",
    "    def __init__(self, customer, bank, acnt, limit, apr):\n",
    "        \"\"\"새로운 신용카드 인스턴스 생성\n",
    "        \n",
    "        초기 결제액은 0\n",
    "        \n",
    "        customer  고객명 (예. 'John Bowman')\n",
    "        bank      은행명 (예. 'California Savings')\n",
    "        account   계좌번호 (예. '5391 0375 9387 5309')\n",
    "        limit     신용 한도 (달러 기준)\n",
    "        apr       연간 이자 율(예. 0.0825)\n",
    "        \"\"\"\n",
    "        super().__init__(customer, bank, acnt, limit)  # 부모 생성자 호출\n",
    "        self._apr = apr\n",
    "    \n",
    "    def charge(self, price):\n",
    "        \"\"\"입력 금액을 기준으로 결제 수행\n",
    "        \n",
    "        결제가 성공하면 True 반환\n",
    "        결제가 실패하면 $5 벌금 부여하고 False 반환\n",
    "        \"\"\"\n",
    "        success = super().charge(price)    # 상속 받은 메서드 호출\n",
    "        if not success:\n",
    "            self._balance += 5             # 벌금 부과\n",
    "        return success\n",
    "    \n",
    "    def process_month(self):\n",
    "        \"\"\"월 이자 계산\"\"\"\n",
    "        if self._balance > 0:\n",
    "            # 사용 내역이 있다면, 이자율을 활용해 이자 부여\n",
    "            monthly_factor = pow(1 + self._apr, 1/12)\n",
    "            self._balance *= monthly_factor"
   ]
  },
  {
   "cell_type": "code",
   "execution_count": 17,
   "metadata": {},
   "outputs": [
    {
     "ename": "AttributeError",
     "evalue": "'PredatoryCreditCard' object has no attribute '_x'",
     "output_type": "error",
     "traceback": [
      "\u001b[1;31m---------------------------------------------------------------------------\u001b[0m",
      "\u001b[1;31mAttributeError\u001b[0m                            Traceback (most recent call last)",
      "\u001b[1;32m<ipython-input-17-f8b3cc5342f7>\u001b[0m in \u001b[0;36m<module>\u001b[1;34m\u001b[0m\n\u001b[0;32m      1\u001b[0m \u001b[0ms\u001b[0m \u001b[1;33m=\u001b[0m \u001b[0mPredatoryCreditCard\u001b[0m\u001b[1;33m(\u001b[0m\u001b[1;36m2\u001b[0m\u001b[1;33m,\u001b[0m\u001b[1;36m2\u001b[0m\u001b[1;33m,\u001b[0m\u001b[1;36m2\u001b[0m\u001b[1;33m,\u001b[0m\u001b[1;36m2\u001b[0m\u001b[1;33m,\u001b[0m\u001b[1;36m2\u001b[0m\u001b[1;33m)\u001b[0m\u001b[1;33m\u001b[0m\u001b[1;33m\u001b[0m\u001b[0m\n\u001b[1;32m----> 2\u001b[1;33m \u001b[0ms\u001b[0m\u001b[1;33m.\u001b[0m\u001b[0m_x\u001b[0m\u001b[1;33m\u001b[0m\u001b[1;33m\u001b[0m\u001b[0m\n\u001b[0m",
      "\u001b[1;31mAttributeError\u001b[0m: 'PredatoryCreditCard' object has no attribute '_x'"
     ]
    }
   ],
   "source": [
    "s = PredatoryCreditCard(2,2,2,2,2)\n",
    "s._x"
   ]
  },
  {
   "cell_type": "markdown",
   "metadata": {},
   "source": [
    "#### Protected Members\n",
    "- `PredatoryCreditCard`는 `charge`와 `process_month` 메서드에서 `_balance` 멤버 데이터에 직접적으로 접근을 하고 있음\n",
    "- **Single Underscore**로 시작하는 변수는 **Non-public** 변수인데 이런 식의 사용이 괜찮은 것일까?\n",
    "- 사실, **Single Undescore**는 **Protected**를, **Double Underscore**는 **Private**을 의미\n",
    "    - **Protected**는 서브 클래스에 한해 변수에 접근이 가능하게 하며,\n",
    "    - **Private**은 클래스 외에서 해당 변수에 접근을 아예 못하도록 함\n",
    "- 파이썬이 공식적으로 접근 권한 체계를 지원하지는 않지만 관습적으로 **protected**와 **private**을 사용하므로, 기억하는 것이 좋음!\n",
    "- 사실 더 좋은 디자인은 `CreditCard` 클래스에 `_set_balance`와 같은 **Non-public** 메서드를 구현해 놓고, 해당 메서드를 활용해 `_balance` 값을 변경하는 것\n",
    "\n",
    "### 2.4.2 수열 클래스의 위계\n",
    "- 두 번째 예제로, **수열**을 순회하는 클래스들의 위계를 만들어 볼 것\n",
    "- **수열**을 구현하기 위해서는 초기 값과, 다음 값을 계산하는 방식을 정해야 함\n",
    "- 여러 수열을 쉽게 구현하기 위해 `Progression`이라는 베이스 클래스를 정의할 것\n",
    "- 해당 클래스는 초기 값을 인자로 받아 생성되며, `__next__`와 `__iter__` 이라는 **스페셜 메서드**를 구현해 **이터레이터**로 사용될 수 있음\n",
    "- **이터레이터**는 `next(seq)`와 같이 사용할 수도 있고, `for value in seq`와 같이 사용할 수도 있음\n",
    "- 수열은 다양한 방법으로 구성할 수 있으므로, 다음 원소를 생성하는 `_advance` 메서드를 **protected** 메서드로 구현해 **서브 클래스**들이 **오버라이딩**해 사용하도록 구현"
   ]
  },
  {
   "cell_type": "code",
   "execution_count": 22,
   "metadata": {},
   "outputs": [],
   "source": [
    "class Progression:\n",
    "    \"\"\"일반 수열을 생성하는 이터레이터\n",
    "    \n",
    "    기본 이터레이터는 0, 1, 2, ... 의 무한 수열 생셩\n",
    "    \"\"\"\n",
    "    def __init__(self, start=0):\n",
    "        \"\"\"수열의 초기 값 초기화\"\"\"\n",
    "        self._current = start\n",
    "        \n",
    "    def _advance(self):\n",
    "        \"\"\"self._current를 새로운 값으로 갱신\n",
    "        \n",
    "        수열을 커스터마이즈하기 위해 서브 클래스는 본 메서드를 오버라이딩해야 함\n",
    "        \n",
    "        관습적으로 current가 None으로 설정될 경우, \n",
    "        이는 유한 수열의 마지막을 의미\n",
    "        \"\"\"\n",
    "        self._current += 1\n",
    "        \n",
    "    def __next__(self):\n",
    "        \"\"\"다음 원소를 반환하거나 StopIteration 에러를 반환\"\"\"\n",
    "        if self._current is None:       # 수열의 끝을 의미하는 컨벤션\n",
    "            raise StopIteration()\n",
    "        else:\n",
    "            answer = self._current       # 반환할 원소 변수에 저장\n",
    "            self._advance()              # 다음 호출에 대비해 다음 원소 계산\n",
    "            return answer               # 저장해 둔 원소 값 반환\n",
    "    \n",
    "    def __iter__(self):\n",
    "        \"\"\"관습적으로 이터레이터는 자기 자신을 반환해야 함\"\"\"\n",
    "        return self\n",
    "    \n",
    "    def print_progression(self, n):\n",
    "        \"\"\"수열의 다음 n개 값 출력\"\"\"\n",
    "        print(' '.join(str(next(self)) for _ in range(n)))"
   ]
  },
  {
   "cell_type": "code",
   "execution_count": 23,
   "metadata": {},
   "outputs": [
    {
     "name": "stdout",
     "output_type": "stream",
     "text": [
      "Default progression:\n",
      "0 1 2 3 4 5 6 7 8 9\n"
     ]
    }
   ],
   "source": [
    "print('Default progression:')\n",
    "Progression().print_progression(10)"
   ]
  },
  {
   "cell_type": "markdown",
   "metadata": {},
   "source": [
    "#### Arithmetic Progression 클래스\n",
    "- 기본 수열 클래스는 매 스텝마다 원소 값이 1씩 증가했지만, **Arithmetic progression** 특정 값 `increment`를 더해 다음 원소를 생성\n",
    "- `_current` 값을 초기화 하기 위해 **슈퍼 클래스**의 생성자를 호출한 후, `_increment` 값을 추가적으로 저장\n",
    "- 현재 값에 `_increment`를 더해 다음 값을 만들기 때문에 `_advance` 메서드 역시 **오버라이딩**!"
   ]
  },
  {
   "cell_type": "code",
   "execution_count": 25,
   "metadata": {},
   "outputs": [],
   "source": [
    "class ArithmeticProgression(Progression):\n",
    "    \"\"\"Arithmetic progression 클래스\"\"\"\n",
    "    def __init__(self, start=0, increment=1):\n",
    "        \"\"\"ArthmeticProgression 초기화\n",
    "        \n",
    "        start       수열의 시작 값\n",
    "        increment   다음 값에 추가될 정수\n",
    "        \"\"\"\n",
    "        super().__init__(start)              # 슈퍼 클래스 초기화\n",
    "        self._increment = increment\n",
    "        \n",
    "    def _advance(self):                      # 메서드 오버라이드\n",
    "        \"\"\"increment 이용해 현재 값 업데이트\"\"\"\n",
    "        self._current += self._increment"
   ]
  },
  {
   "cell_type": "code",
   "execution_count": 26,
   "metadata": {},
   "outputs": [
    {
     "name": "stdout",
     "output_type": "stream",
     "text": [
      "Arithmetic progression with increment 5:\n",
      "0 5 10 15 20 25 30 35 40 45\n"
     ]
    }
   ],
   "source": [
    "print('Arithmetic progression with increment 5:')\n",
    "ArithmeticProgression(increment=5).print_progression(10)"
   ]
  },
  {
   "cell_type": "markdown",
   "metadata": {},
   "source": [
    "#### Geometric Progression 클래스\n",
    "**Geometric progression**은 특정 값을 곱해 다음 원소 생성하는 클래스"
   ]
  },
  {
   "cell_type": "code",
   "execution_count": 27,
   "metadata": {},
   "outputs": [],
   "source": [
    "class GeometricProgression(Progression):\n",
    "    \"\"\"Geometric progression 클래스\"\"\"\n",
    "    def __init__(self, start=1, base=2):\n",
    "        \"\"\"GeometricProgression 초기화\n",
    "\n",
    "        start     수열의 시작 값\n",
    "        base      다음 값에 곱해질 정수\n",
    "        \"\"\"\n",
    "        super().__init__(start)\n",
    "        self._base = base\n",
    "        \n",
    "    def _advance(self):\n",
    "        \"\"\"base 이용해 현재 값 업데이트\"\"\"\n",
    "        self._current *= self._base"
   ]
  },
  {
   "cell_type": "code",
   "execution_count": 28,
   "metadata": {},
   "outputs": [
    {
     "name": "stdout",
     "output_type": "stream",
     "text": [
      "Geometric progression with base 3:\n",
      "1 3 9 27 81 243 729 2187 6561 19683\n"
     ]
    }
   ],
   "source": [
    "print('Geometric progression with base 3:')\n",
    "GeometricProgression(base=3).print_progression(10)"
   ]
  },
  {
   "cell_type": "markdown",
   "metadata": {},
   "source": [
    "#### Fibonacci Progression 클래스\n",
    "두 개의 시작 값을 지정해 피보나치 수열 클래스 정의"
   ]
  },
  {
   "cell_type": "code",
   "execution_count": 29,
   "metadata": {},
   "outputs": [],
   "source": [
    "class FibonacciProgression(Progression):\n",
    "    \"\"\"Fibonacci progression 클래스\"\"\"\n",
    "    def __init__(self, first=0, second=1):\n",
    "        \"\"\"FibonacciProgression 초기화\n",
    "        \n",
    "        first      수열의 첫 번째 값\n",
    "        second     수열의 두 번째 값\n",
    "        \"\"\"\n",
    "        super().__init__(first)\n",
    "        self._prev = second - first\n",
    "\n",
    "    def _advance(self):\n",
    "        \"\"\"\"\"\"\n",
    "        self._prev, self._current = self._current, self._prev + self._current"
   ]
  },
  {
   "cell_type": "code",
   "execution_count": 30,
   "metadata": {},
   "outputs": [
    {
     "name": "stdout",
     "output_type": "stream",
     "text": [
      "Fibonacci progression with default start values:\n",
      "0 1 1 2 3 5 8 13 21 34\n"
     ]
    }
   ],
   "source": [
    "print('Fibonacci progression with default start values:')\n",
    "FibonacciProgression().print_progression(10)"
   ]
  },
  {
   "cell_type": "markdown",
   "metadata": {},
   "source": [
    "### 2.4.3 Abstract Base Classes\n",
    "- 클래스 간 상속 구조를 설계할 때, 중복 코드를 피하는 방법 중 하나는 공통적으로 사용되는 함수를 지니는 **베이스 클래스**를 설계하는 것\n",
    "- 위 예제에서 모든 클래스들의 근간이 되는 `Progression` 클래스를 설계한 것이 좋은 예\n",
    "- `Progression` 클래스를 활용해 인스턴스를 생성할 수도 있지만, 이는 **베이스 클래스**이니 만큼 특별한 기능을 얻을 수 없음\n",
    "- **베이스 클래스**의 가장 기본 역할은 다른 서브 클래스들리 공통적으로 사용할 수 있는 코드를 제공하는 것\n",
    "- 대개의 경우, **추상 베이스 클래스**를 인스턴스화 하지 않음\n",
    "- 파이썬의 `abc` 모듈이 **추상 베이스 클래스**를 정의하기 위한 다양한 기능들을 제공해주기는 하지만, 파이썬은 애초에 **동적 타입 언어**이기 때문에 **다형성**의 성질을 부여 받기 위해 굳이 **추상 베이스 클래스**를 정의할 필요는 없음\n",
    "    - **다형성**이란 서브 클래스의 인스턴스가 **서브 클래스** 타입이기도 하며, 부모 클래스인 **추상 클래스** 타입이기도 하다는 성질\n",
    "- 자료구조 교재임에도 불구하고 계속 **추상 베이스 클래스**에 집중하는 이유는 파이썬의 `collections` 모듈이 자료구조를 정의함에 있어 도움이 될 수 있는 여러 **추상 베이스 클래스**를 제공해주기 때문\n",
    "    - `collection`의 **추상 베이스 클래스**들은 파이썬의 빌트인 자료구조들이 \"공통적으로\" 사용하는 인터페이스를 미리 구현\n",
    "    - 이때 구현 방식은 **템플릿 메소드 패턴**이라 불리우는 디자인 패턴을 따름\n",
    "    - **템플릿 메소드 패턴**이란 **추상 베이스 클래스**가 추상 메서드들에 의존하는 일반 메서드를 구현해놓는 패턴\n",
    "    - **서브 클래스**가 추상 메서드들을 구현해야, **추상 베이스 클래스**에서 구현해놓은 일반 메서드들이 완성되는 구조 !"
   ]
  },
  {
   "cell_type": "code",
   "execution_count": 33,
   "metadata": {},
   "outputs": [],
   "source": [
    "from abc import ABCMeta, abstractmethod\n",
    "\n",
    "class Sequence(metaclass=ABCMeta):\n",
    "    \"\"\"우리가 직접 정의하는 collections.Sequence 추상 베이스 클래스\"\"\"\n",
    "    \n",
    "    @abstractmethod\n",
    "    def __len__(self):\n",
    "        \"\"\"시퀀스의 길이 반환\"\"\"\n",
    "    \n",
    "    @abstractmethod\n",
    "    def __getitem__(self, j):\n",
    "        \"\"\"시퀀스의 j번째 원소 반환\"\"\"\n",
    "    \n",
    "    def __contains__(self, val):\n",
    "        \"\"\"val이 시퀀스에 존재하면 True를, 그렇지 않으면 False 반환\"\"\"\n",
    "        for j in range(len(self)):\n",
    "            if self[j] == val:\n",
    "                return True\n",
    "        return False\n",
    "    \n",
    "    def index(self, val):\n",
    "        \"\"\"좌측부터 순회해 val이 발견된 위치 반환(혹은 ValueError 일으킴)\"\"\"\n",
    "        for j in range(len(self)):\n",
    "            if self[j] == val:\n",
    "                return j\n",
    "        raise ValueError('value not in sequence')\n",
    "    \n",
    "    def count(self, val):\n",
    "        \"\"\"입력 값과 같은 값을 지니는 원소의 개수 반환\"\"\"\n",
    "        k = 0\n",
    "        for j in range(len(self)):\n",
    "            if self[j] == val:\n",
    "                k += 1\n",
    "        return k"
   ]
  },
  {
   "cell_type": "code",
   "execution_count": 34,
   "metadata": {},
   "outputs": [
    {
     "ename": "TypeError",
     "evalue": "Can't instantiate abstract class Sequence with abstract methods __getitem__, __len__",
     "output_type": "error",
     "traceback": [
      "\u001b[1;31m---------------------------------------------------------------------------\u001b[0m",
      "\u001b[1;31mTypeError\u001b[0m                                 Traceback (most recent call last)",
      "\u001b[1;32m<ipython-input-34-0b97aa7b99ce>\u001b[0m in \u001b[0;36m<module>\u001b[1;34m\u001b[0m\n\u001b[1;32m----> 1\u001b[1;33m \u001b[0ms\u001b[0m \u001b[1;33m=\u001b[0m \u001b[0mSequence\u001b[0m\u001b[1;33m(\u001b[0m\u001b[1;33m)\u001b[0m\u001b[1;33m\u001b[0m\u001b[1;33m\u001b[0m\u001b[0m\n\u001b[0m",
      "\u001b[1;31mTypeError\u001b[0m: Can't instantiate abstract class Sequence with abstract methods __getitem__, __len__"
     ]
    }
   ],
   "source": [
    "s = Sequence()"
   ]
  },
  {
   "cell_type": "markdown",
   "metadata": {},
   "source": [
    "- `metaclass`는 일반적인 **슈퍼 클래스**와 차이가 있는데, 그 중 가장 큰 차이는 인스턴스 생성이 안된다는 것\n",
    "- `@abstractmethod` 어노테이터가 붙은 **추상 메서드**들은 해당 **추상 베이스 클래스**를 상속 받는 **서브 클래스**에서 구현이 되어야 하는 메서드\n",
    "- 앞으로 `abc` 모듈은 명시적으로 사용하지 않을 것이며, `collections`가 제공하는 **추상 베이스 클래스**들만 사용할 것: 이는 일반 **슈퍼 클래스**처럼 사용 가능\n",
    "\n",
    "```\n",
    "class Range(collections.Sequence)\n",
    "```"
   ]
  },
  {
   "cell_type": "markdown",
   "metadata": {},
   "source": [
    "## 2.5 Namespaces and Object-Orientation\n",
    "**네임스페이스**는 특정 스코프 내에 정의하는 식별자들을 관리\n",
    "\n",
    "### 2.5.1 Instance and Class Namespaces\n",
    "![](imgs/namespace.png)\n",
    "- **인스턴스 네임스페이스**는 개별 인스턴스의 멤버 변수와 그 값들을 관리\n",
    "    - 예로 `CreditCard`의 인스턴스들은 서로 다른 값들을 가질테고, 이러한 값들을 관리하기 위해 **인스턴스 네임스페이스**가 필요\n",
    "- **클래스 네임스페이스**는 클래스가 담고 있는 멤버 메서드의 정보를 담고 있는 네임스페이스\n",
    "\n",
    "#### How Entries Are Established in a Namespace\n",
    "- `self._balance`와 같이 **self**라는 식별자를 사용해 정의되는 멤버 변수와 같은 것들은 **인스턴스 네임스페이스**에 속하게 됨\n",
    "- 클래스를 정의하는 바디 부에 바로 정의되는 멤버 메서드는 **클래스 네임스페이스**에 속하게 됨\n",
    "\n",
    "#### Class Data Members\n",
    "- 정수로 사용되어야 하는 값이 있을 경우, 때로 클래스 레벨에서 데이터 멤버를 정의해주기도 함\n",
    "- 이럴 경우, 모든 인스턴스가 **인스턴스 네임스페이스**에 해당 정수 값을 관리하는 것은 불필요함\n",
    "- 이처럼 모든 인스턴스에서 공통적으로 사용되는 값이 있다면, 아래와 같이 **클래스 레벨** 멤버로 관리하자 !\n",
    "\n",
    "```\n",
    "class PredatoryCreditCard(CreditCard):\n",
    "    OVERLIMIT FEE = 5 # this is a class-level member\n",
    "\n",
    "    def charge(self, price):\n",
    "        success = super( ).charge(price)\n",
    "        if not success:\n",
    "            self. balance += PredatoryCreditCard.OVERLIMIT FEE\n",
    "        return success\n",
    "```\n",
    "\n",
    "#### Nested Classes\n",
    "- 아래와 같이 또 다른 클래스를 클래스 내에서 정의할 수도 있음\n",
    "\n",
    "```\n",
    "class A:       # 바깥 클래스\n",
    "    class B:   # 안쪽 클래스\n",
    "```\n",
    "\n",
    "- 이 경우, 클래스 B가 클래스 A의 네임 스페이스에 포함되게 됨\n",
    "- 안쪽 클래스는 바깥 클래스의 여러 기능을 지원하기 위해 존재하는 경우가 많음: 링크드 리스트, 트리\n",
    "- **서브 클래스**는 **루트 클래스**의 안쪽 클래스도 함께 상속 받음\n",
    "\n",
    "\n",
    "#### Dictionaries and the __slots__ Declaration\n",
    "- 파이썬에서 **인스턴스 네임스페이스**는 보통 딕셔너리를 이용해 구현됨\n",
    "- 그러나 모든 멤버 데이터 변수를 딕셔너리 형태로 저장하는 것은 메모리 측면에서 비효율적\n",
    "- 이러한 비효율에 대처하기 위해 파이썬은 `__slots__`라는 클래스 레벨 변수를 지원\n",
    "\n",
    "```\n",
    "class CreditCard:\n",
    "    __slots__ = '_customer', '_bank', '_account', '_balance', '_limit'\n",
    "    \n",
    "class PredatoryCreditCard(CreditCard):\n",
    "    __slots__ = '_apr'\n",
    "```\n",
    "\n",
    "- 위 예제처럼 클래스 레벨 변수에 **튜플** 형태로 `__slots__`를 정의하면 추가적인 딕셔너리를 생성하지 않고 멤버 변수들과 관련된 정보를 관리할 수 있음\n",
    "- **서브 클래스**의 경우, **새로이 추가되는 변수만 정의**해주면 됨\n",
    "- 그러나 위 같은 방식의 프로그래밍은 굉장히 **비전형적**이므로, 많이 보게 되지는 않을 것임\n",
    "\n",
    "\n",
    "### 2.5.2 Name Resolution and Dynamic Dispatch\n",
    "- **Name resolution** 프로세스: `obj.foo` 형태로 클래스 멤버에 접근하고자 할 때, 일어나는 일은 아래와 같음\n",
    "    1. **인스턴스 네임스페이스**를 참조해, 사용자가 호출한 `.foo`라는 이름이 있을 경우, 저장된 값이 사용됨\n",
    "    2. 만약 해당 이름이 없는 경우, **클래스 네임스페이스**를 참조\n",
    "    3. 해당 **클래스 네임스페이스**에도 없는 경우, 위계에 따라 클래스의 **슈퍼 클래스**를 계속해서 참조해 나감\n",
    "    4. 모든 **슈퍼 클래스**에서 발견되지 않았을 경우 `AttributeError`를 냄"
   ]
  },
  {
   "cell_type": "markdown",
   "metadata": {},
   "source": [
    "## 2.6 Shallow and Deep Copying\n",
    "참조하는 리스트의 원소를 건드리지 않고 해당 리스트가 가진 값들을 이어 받아 수정 작업을 하고 싶은 상황 !\n",
    "\n",
    "![](imgs/alias.png)\n",
    "\n",
    "위 그림과 같이 정보를 공유한다면 원래의 `warmtones` 내 정보를 해치게 됨"
   ]
  },
  {
   "cell_type": "code",
   "execution_count": 5,
   "metadata": {},
   "outputs": [],
   "source": [
    "# Just 2 aliases\n",
    "warmtones = ['red', 'green', 'blue']\n",
    "palette = warmtones"
   ]
  },
  {
   "cell_type": "markdown",
   "metadata": {},
   "source": [
    "![](imgs/shallow.png)\n",
    "\n",
    "위 그림처럼 새로운 리스트를 정의하는 것이 **Shallow Copy**\n",
    "\n",
    "서로 다른 리스트이지만 참조하는 값이 같아 `warmtones`도 함께 수정됨"
   ]
  },
  {
   "cell_type": "code",
   "execution_count": null,
   "metadata": {},
   "outputs": [],
   "source": [
    "# Shallow copy\n",
    "warmtones = ['red', 'green', 'blue']\n",
    "palette = list(warmtones)"
   ]
  },
  {
   "cell_type": "markdown",
   "metadata": {},
   "source": [
    "![](imgs/deep.png)\n",
    "값을 공유하지 않은 copy를 하기 위해선 `copy.deepcopy`를 활용하자 !"
   ]
  },
  {
   "cell_type": "code",
   "execution_count": 6,
   "metadata": {},
   "outputs": [],
   "source": [
    "import copy\n",
    "warmtones = ['red', 'green', 'blue']\n",
    "palette = copy.deepcopy(warmtones)"
   ]
  },
  {
   "cell_type": "code",
   "execution_count": 40,
   "metadata": {},
   "outputs": [
    {
     "name": "stdout",
     "output_type": "stream",
     "text": [
      "3\n",
      "{'x': 3}\n",
      "1\n",
      "3\n",
      "{'x': 3, 'a': 3}\n"
     ]
    }
   ],
   "source": [
    "class Test:\n",
    "    a = 1 \n",
    "    def __init__(self, x):\n",
    "        self.x = x\n",
    "\n",
    "test = Test(3)\n",
    "print(test.x)\n",
    "print(test.__dict__)\n",
    "print(test.a)\n",
    "test.a = 3\n",
    "print(test.a)\n",
    "print(test.__dict__)"
   ]
  },
  {
   "cell_type": "code",
   "execution_count": 42,
   "metadata": {},
   "outputs": [
    {
     "name": "stdout",
     "output_type": "stream",
     "text": [
      "1\n",
      "4\n",
      "{'x': 4}\n"
     ]
    }
   ],
   "source": [
    "test2 = Test(4)\n",
    "print(test2.a)\n",
    "print(test2.x)\n",
    "print(test2.__dict__)"
   ]
  },
  {
   "cell_type": "code",
   "execution_count": null,
   "metadata": {},
   "outputs": [],
   "source": []
  }
 ],
 "metadata": {
  "kernelspec": {
   "display_name": "Python 3",
   "language": "python",
   "name": "python3"
  },
  "language_info": {
   "codemirror_mode": {
    "name": "ipython",
    "version": 3
   },
   "file_extension": ".py",
   "mimetype": "text/x-python",
   "name": "python",
   "nbconvert_exporter": "python",
   "pygments_lexer": "ipython3",
   "version": "3.7.3"
  }
 },
 "nbformat": 4,
 "nbformat_minor": 2
}
