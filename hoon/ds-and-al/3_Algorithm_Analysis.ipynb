{
 "cells": [
  {
   "cell_type": "markdown",
   "metadata": {},
   "source": [
    "# Chapter 3. Algorithm Analysis\n",
    "- **자료구조**는 데이터를 조직해, 쉽게 접근할 수 있도록 만드는 체계적 방법\n",
    "- **알고리즘**은 유한한 시간 안에 어떤 일을 수행하는 절차\n",
    "- **자료구조**와 **알고리즘**이 잘 짜여진 것인지 판단하기 위해서는 그들을 정확하게 분석할 수 있어야 함\n",
    "- 우리는 이를 **시간 복잡도**와 **공간 복잡도**라는 개념으로 치환해 생각할 것\n",
    "\n",
    "## 3.1 Experimental Studies\n",
    "- 알고리즘을 구현했다면, 우리는 해당 알고리즘을 다양한 입력 값에 대해 실행시켜봄으로써 **실행 시간**을 측정할 수 있음\n",
    "- 파이썬에서는 `time` 모듈을 사용해 해당 시간 측정이 가능"
   ]
  },
  {
   "cell_type": "code",
   "execution_count": null,
   "metadata": {},
   "outputs": [],
   "source": [
    "from time import time\n",
    "\n",
    "start_time = time()\n",
    "\n",
    "# Run codes\n",
    "\n",
    "end_time = time()\n",
    "\n",
    "elapsed = end_time - start_time"
   ]
  },
  {
   "cell_type": "markdown",
   "metadata": {},
   "source": [
    "- 위같은 방식의 시간 측정은 알고리즘의 효율성을 판단하기 좋은 척도이지만, 아주 완벽한 방법은 아님\n",
    "- 모든 컴퓨팅 코드는 컴퓨터의 **CPU**에 의존적이므로 해당 테스트가 진행되었을 때, 다른 프로세스가 실행 중이었다면 알고리즘의 시간 측정에도 영향을 미치게 됨\n",
    "- 성능 측정의 보다 정확한 메트릭은 알고리즘 실행에 필요한 **CPU 사이클**을 계산하는 것\n",
    "- 이는 `time` 모듈의 `clock` 함수를 통해 계산이 가능하지만, 이 역시 완벽한 메트릭은 아님: 동일한 입력 값에 대해 **cache**로 인해 시간이 달라지고, 컴퓨터 시스템에 따라 성능의 차이도 존재하기 때문\n",
    "- 가장 좋은 방법은 `timeit` 모듈의 사용 !\n",
    "\n",
    "![](imgs/algorithm.png)\n",
    "\n",
    "- 알고리즘은 대개 입력 값의 크기에 따라 실행 시간이 길어지므로, 알고리즘의 성능을 측정하기 위해서는 좋은 샘플 입력 값들을 잘 선별해 여러 실험을 진행하는 것이 좋음\n",
    "\n",
    "#### Challenges of Experimental Analysis\n",
    "실행 시간에 대해 여러 실험을 진행하는 것은 좋지만, 실제 프로덕션 코드에 대해 이러한 실험을 진행할 때는 아래와 같이 3 가지 한계가 존재\n",
    "\n",
    "1. 두 알고리즘의 실행 코드가 동일한 하드웨어와 소프트웨어 하에 실험되지 않으면 적절한 비교를 하기 어려움\n",
    "2. 정해진 개수의 테스트 입력 값들에 대한 실험만 진행할 수 있으며, 이때 포함되지 않았던 입력 값이 사실 실험에 있어 유의미한 인스턴스였을 수도 있음\n",
    "3. 실행 시간을 측정하기 위해 알고리즘은 완벽하게 구현되어 있어야 함\n",
    "\n",
    "\n",
    "- 여기서 마지막 한계가 가장 치명적인 한계인데, 기획 초기 단계에 모든 알고리즘을 완벽하게 구현해 놓는 것은 굉장히 어렵기 때문\n",
    "\n",
    "### 3.1.1 Moving Beyond Experimental Analysis\n",
    "우리의 목표는 아래 목적을 달성하며, 알고리즘의 효율성을 분석하는 접근법을 개발하는 것\n",
    "\n",
    "1. 하드웨어와 소프트웨어 환경의 고려 없이 두 알고리즘의 성능의 비교 가능\n",
    "2. 정확한 구현 없이 추상적 개념에서 비교 가능\n",
    "3. 모든 가능한 입력 값을 고려\n",
    "\n",
    "#### Counting Primitive Operations\n",
    "- 실험을 진행하지 않고 알고리즘의 실행 시간을 측정하기 위해 우리는 알고리즘의 추상적 설명만 보고 분석을 할 수 있어야 함\n",
    "- 우리는 아래와 같은 것들을 **Primitive operations**이라 부름\n",
    "    - 객체에 **identifier** 할당\n",
    "    - 산술 연산의 수행\n",
    "    - 두 수의 비교\n",
    "    - 파이썬 리스트에 대한 인덱싱\n",
    "    - 함수 호출\n",
    "    - 함수에서의 반환\n",
    "- 일반적으로, **Primitive operations**는 실행 시간이 정수인 저수준 명령어\n",
    "- 각각의 **Primitive operation**들의 실제 실행 시간을 계산하기 보다, 단순하게 해당 연산들의 개수를 세고 그 개수를 **_t_**로 정의해 알고리즘의 실행 시간 지표로 사용\n",
    "- 이는 대부분의 **primitive operation**들의 실행 시간이 비슷하기 때문에 가능한 계산\n",
    "\n",
    "#### Focusing on the Worst-Case Input\n",
    "- 알고리즘은 어떤 입력 값에 대해서는 빠르게 수행되고, 어떤 입력 값에 대해서는 느리게 수행될 수 있음\n",
    "- 따라서 보편적 실행 속도를 측정하기 위해서는 **평균적인 경우**의 실행 시간을 측정하면 좋음\n",
    "- 그러나 평균의 경우를 고려하고자 한다면 입력 값에 대한 분포를 알아야 하는데, 이러한 분포를 정의하는 것이 더 어려운 경우가 많음\n",
    "- 때문에 우리는 항상 **보통**의 경우가 아닌 **최악**의 경우에 대한 실행 속도를 알고리즘의 실행 속도로 생각\n",
    "- 이렇게 정의하면 좋은 점은 더 쉬운 분석이 가능해지고, 항상 최악의 경우를 회피하는 방식으로 알고리즘을 구현하게 되기 때문에 알고리즘적 사고 향상에도 도움이 됨"
   ]
  },
  {
   "cell_type": "markdown",
   "metadata": {},
   "source": [
    "### 3.2 The Seven Functions Used in This Book\n",
    "이번 섹션에서는 알고리즘 분석에 있어 가장 중요한 7개의 함수에 대해 알아볼 것\n",
    "\n",
    "#### The Constant Function\n",
    "- 우리가 생각할 수 있는 가장 단순한 함수는 **constant function**\n",
    "\n",
    "\n",
    "$$f(n) = c$$\n",
    "\n",
    "- 이는 어떠한 인자 _n_이 들어와도 _c_ 만큼의 시간만 소모된다는 의미\n",
    "- 두 수를 더한다던가, 비교한다던가, 어떤 변수에 값을 할당한다던가 등의 연산\n",
    "\n",
    "#### The Logarithm Function\n",
    "- 분석 기법에 있어 흥미로우면서도 때로는 놀라운 존재는 **logarithm function**\n",
    "- 이는 b > 1에 대해 성립하는 함수\n",
    "\n",
    "$$x = \\log_{b}n$$\n",
    "\n",
    "- 정의에 의해 $log_{b}1 = 0$이며, _b_를 logarithm의 **base**라 부름\n",
    "- 컴퓨터 과학에서 가장 보편적인 **base**의 값은 2: 이진수\n",
    "- 때문에 우리는 앞으로 2를 생략한 logarithm function을 $\\log {n}$으로 사용할 것\n",
    "\n",
    "#### Ths Linear Function\n",
    "- 간단하지만 중요한 또 다른 함수로 **linear function**이 있음\n",
    "\n",
    "$$f(n) = n$$\n",
    "\n",
    "- 이는 입력 값 _n_의 크기에 비례해 실행 시간 _n_이 선형적으로 증가하는 함수\n",
    "- **Linear function**은 우리가 알고리즘을 통해 달성하고자 하는 최고의 성능\n",
    "\n",
    "\n",
    "#### Ths N-Log-N Function\n",
    "- **n-log-n function**은 아래 수식으로 정의\n",
    "\n",
    "$$f(n) = n\\log{n}$$\n",
    "\n",
    "- 이는 **linear function**에 **logarithm function**을 곱한 함수\n",
    "- **linear function** 보다는 빠르게 커지지만 **quadratic function** 보다는 느리게 커짐\n",
    "- 알고리즘 구현에 있어 **linear function**은 대개 달성하기 어려운 목표이기 때문에, 대개 **n-log-n function**을 달성하고자 하게 됨: 정렬에서의 최고 성능\n",
    "\n",
    "#### Ths Quadratic Function\n",
    "\n",
    "$$ f(n) = n^{2}$$\n",
    "\n",
    "- 입력 값의 크기에 제곱배로 커지는 **qudratic function**\n",
    "- 대개 이중 반복문과 같은 로직으로 인해 해당 함수가 발생됨\n",
    "\n",
    "#### Ths Cubic Function\n",
    "\n",
    "$$f(n) = n^{3}$$\n",
    "\n",
    "- 입력 값의 크기에 세제곱배로 커지는 **cubic function**\n",
    "- 알고리즘에 있어 자주 등장하는 함수는 아니지만 간헐적으로 등장\n",
    "\n",
    "#### The Exponential Function\n",
    "\n",
    "$$f(n) = b^{n}$$\n",
    "\n",
    "- 입력 값의 개수인 _n_차 만큼 **base** _b_가 제곱되는 함수\n",
    "\n",
    "\n",
    "### 3.2.1 Comparing Growth Rates\n",
    "\n",
    "![](imgs/compare.png)\n",
    "\n",
    "- 자료구조는 constant 혹은 logarithm function을,\n",
    "- 알고리즘은 linear 혹은 n-log-n function을 달성하고 작성되어야 함\n",
    "- 다른 함수들의 실행 시간을 가지는 것들은 실용적으로 사용되기 어려움"
   ]
  },
  {
   "cell_type": "markdown",
   "metadata": {},
   "source": [
    "## 3.3 Asymptotic Analysis\n",
    "- 알고리즘 분석에 있어 우리는 입력 크기 _n_ 에 따른 실행 시간의 증가에 집중\n",
    "- 때때로 이는 _n_ 에 따른 실행 시간의 변화만 아는 것으로 충분할 수 있음\n",
    "- 수학적 노테이션을 이용해 정수 팩터는 무시한 채, 알고리즘의 성능을 분석 가능\n",
    "- 이를 통해 하드웨어나 소프트웨어의 차이를 무시한 채, 알고리즘에 사용되는 **원시 연산**의 개수를 세는 것으로 알고리즘의 성능을 어느 정도 판단할 수 있게 됨"
   ]
  },
  {
   "cell_type": "code",
   "execution_count": null,
   "metadata": {},
   "outputs": [],
   "source": [
    "def find_max(data):\n",
    "    \"\"\"파이썬 리스트에서 가장 큰 원소 값 반환\"\"\"\n",
    "    biggest = data[0]\n",
    "    for v in data:\n",
    "        if v > biggest:\n",
    "            biggest = v\n",
    "    return biggest"
   ]
  },
  {
   "cell_type": "markdown",
   "metadata": {},
   "source": [
    "위 예제는 입력 값의 크기 _n_ 에 따라 반복문이 실행되는 횟수가 증가하므로, _n_ 만큼의 원시 연산이 발생한다고 생각할 수 있음"
   ]
  },
  {
   "cell_type": "markdown",
   "metadata": {},
   "source": [
    "### 3.3.1 The \"Big-Oh\" Notation\n",
    "- 복잡한 수식이 있으나, 보편적으로 알고리즘 식에서 가장 크게 증가하는 원소를 대표값으로 설정해 해당 값을 알고리즘의 성능으로 두는 것\n",
    "- e.g. 5n^4 + 3n^3 + 2n^2 + 4n + 1 은 O(n^4)"
   ]
  }
 ],
 "metadata": {
  "kernelspec": {
   "display_name": "Python 3",
   "language": "python",
   "name": "python3"
  },
  "language_info": {
   "codemirror_mode": {
    "name": "ipython",
    "version": 3
   },
   "file_extension": ".py",
   "mimetype": "text/x-python",
   "name": "python",
   "nbconvert_exporter": "python",
   "pygments_lexer": "ipython3",
   "version": "3.7.3"
  }
 },
 "nbformat": 4,
 "nbformat_minor": 2
}
