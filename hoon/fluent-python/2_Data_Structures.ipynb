{
 "cells": [
  {
   "cell_type": "markdown",
   "metadata": {},
   "source": [
    "# Chapter 2. 데이터 구조체\n",
    "- 파이썬은 **시퀀스**를 단일하게 처리: 문자열, 리스트, 바이트 시퀀ㅅ, 배열 등에 모두 반복, 슬라이싱, 정렬 등의 공통 연산 적용 가능\n",
    "- 파이썬의 다양한 시퀀스를 이해하면 **공통 인터페이스**를 잘 활용할 수 있음\n",
    "\n",
    "## 2.1 내장 시퀀스 개요\n",
    "- 파이썬 표준 라이브러리는 C 언어로 구현된 시퀀스 형을 제공\n",
    "    - **컨테이너 시퀀스**: 객체에 대한 **참조**를 담기 때문에 **서로 다른 타입**의 항목을 담을 수 있는 `list`, `tuple`, `collections.deque`\n",
    "    - **균일 시퀀스**: **메모리 공간**에 각 항목의 값을 담기 때문에 **동일한 타입**의 항목을 담을 수 있는 `str`, `bytes`, `memoryview`, `array.array`\n",
    "- **균일 시퀀스**가 메모리를 더 적게 사용하지만, 기본 자료형만 저장 가능\n",
    "- 시퀀스형은 다시 **가변성**에 따라 분류할 수도 있음\n",
    "    - **가변 시퀀스**: `list`, `bytearray`, `array.array`, `collections.deque`, `memoryview`\n",
    "    - **불변 시퀀스**: `tuple`, `str`, `bytes`\n",
    "    \n",
    "## 2.2 List comprehension과 제너레이터 표현식\n",
    "- **List comprehension**(for list)과 **제너레이터 표현식**(for others)을 사용하면 시퀀스를 간단히 생성할 수 있음\n",
    "- 또한 이 두 구문은 **가독성**과 때로는 **속도**면에서도 뛰어나기에 꼭 익혀두자\n",
    "\n",
    "### 2.2.1 List comprehension과 가독성\n",
    "아래 두 코드 스니펫 중 가독성이 좋은 코드는 무엇인가?"
   ]
  },
  {
   "cell_type": "code",
   "execution_count": null,
   "metadata": {},
   "outputs": [],
   "source": [
    "symbols = '$¢£¥€¤'\n",
    "codes = []\n",
    "\n",
    "for symbol in symbols:\n",
    "    codes.append(ord(symbol))\n",
    "    \n",
    "codes"
   ]
  },
  {
   "cell_type": "code",
   "execution_count": null,
   "metadata": {},
   "outputs": [],
   "source": [
    "symbols = '$¢£¥€¤'\n",
    "codes = [ord(symbol) for symbol in symbols]\n",
    "codes"
   ]
  },
  {
   "cell_type": "markdown",
   "metadata": {},
   "source": [
    "- **List comprehension**을 이미 알고 있다면, 아래 예제가 **의도**를 더 명확히 보여주기 때문에 더 읽기 좋은 코드\n",
    "- **for 문**의 경우, 리스트 생성 외에도 다양한 일을 처리할 수 있지만, List comprehension의 경우 **리스트 생성**이라는 일만 처리하기 때문에 하고자 하는 일을 더 명확하게 보여줄 수 있는 것\n",
    "- 다만, 생성된 리스트를 사용하지 않는다면 **List comprehension** 구문은 사용하지 않는 것이 좋으며, 구문이 두 줄 이상 넘어갈 경우 다른 문법의 사용을 고려하는 것이 좋음\n",
    "- 파이썬에서는 **괄호 안에서의 개행이 무시**되기 때문에 **역슬래시**를 사용할 필요가 없음 !\n",
    "- List / Set / Dict comprehension은 **함수**와 마찬가지로 고유한 **스코프**를 지님"
   ]
  },
  {
   "cell_type": "code",
   "execution_count": null,
   "metadata": {},
   "outputs": [],
   "source": [
    "x = 'ABC'\n",
    "dummy = [ord(x) for x in x]\n",
    "\n",
    "print(f'x: {x}')  # x가 over-write 되지 않음\n",
    "print(f'dummy: {dummy}')"
   ]
  },
  {
   "cell_type": "markdown",
   "metadata": {},
   "source": [
    "- 위 예제에서 **List comprehension** 내 `for x`의 `x`는 구문 내 **지역 변수**이며, `in x`의 `x`는 주변 범위 변수\n",
    "\n",
    "### 2.2.2 List comprehension과 map( ) / filter ( ) 비교\n",
    "`map()`과 `filter()` 함수를 이용해 리스트를 구현할 수도 있지만, 훨씬 더 비직관적이며 속도적 이점도 없음"
   ]
  },
  {
   "cell_type": "code",
   "execution_count": null,
   "metadata": {},
   "outputs": [],
   "source": [
    "symbols = '$¢£¥€¤'\n",
    "beyond_ascii = [ord(s) for s in symbols if ord(s) > 127]\n",
    "beyond_ascii"
   ]
  },
  {
   "cell_type": "code",
   "execution_count": null,
   "metadata": {},
   "outputs": [],
   "source": [
    "# symbols에 ord() 매핑 -> 해당 값이 128 이상인 것들만 필터링 -> 리스트로 변환\n",
    "beyond_ascii = list(filter(lambda c: c > 127, map(ord, symbols)))\n",
    "beyond_ascii"
   ]
  },
  {
   "cell_type": "markdown",
   "metadata": {},
   "source": [
    "### 2.2.3 데카르트 곱\n",
    "**List comprehension**을 이용해 두 개 이상의 시퀀스를 활용한 **튜플** 리스트 생성도 가능"
   ]
  },
  {
   "cell_type": "code",
   "execution_count": null,
   "metadata": {},
   "outputs": [],
   "source": [
    "colors = ['black', 'white']\n",
    "sizes = ['S', 'M', 'L']\n",
    "tshirts = [(color, size) for color in colors for size in sizes]\n",
    "tshirts"
   ]
  },
  {
   "cell_type": "code",
   "execution_count": null,
   "metadata": {},
   "outputs": [],
   "source": [
    "# 두 시퀀스의 순서를 바꾼 예\n",
    "tshirts = [(color, size) for size in sizes\n",
    "                         for color in colors]\n",
    "tshirts"
   ]
  },
  {
   "cell_type": "markdown",
   "metadata": {},
   "source": [
    "**List comprehension**은 리스트 생성의 기능만 수행할 수 있는 구문이므로, 다른 종류의 시퀀스를 만들기 위해서는 **제너레이터 표현식**을 사용해야 함\n",
    "\n",
    "### 2.2.4 제너레이터 표현식\n",
    "- 튜플, 배열 등의 시퀀스를 만들기 위해서는 **List comprehension** 구문을 사용할 수도 있지만, 이는 리스트를 전체 만든 후 해당 리스트를 `tuple()`에 전달하므로 메모리 면에서 비효율적\n",
    "- **Iterator protocol**을 이용해 항목을 하나씩 생성하는 **제너레이터 표현식**이 **메모리**를 더 적게 사용\n",
    "- **제너레이터 표현식**은 **List comprehension**과 문법이 똑같지만, 대괄호 대신 괄호를 사용"
   ]
  },
  {
   "cell_type": "code",
   "execution_count": null,
   "metadata": {},
   "outputs": [],
   "source": [
    "# BAD IDEA\n",
    "\n",
    "symbols = '$¢£¥€¤'\n",
    "symbols_lst = [ord(symbol) for symbol in symbols]\n",
    "tuple(symbols_lst)"
   ]
  },
  {
   "cell_type": "code",
   "execution_count": null,
   "metadata": {},
   "outputs": [],
   "source": [
    "# 제너레이터 표현식: 튜플\n",
    "\n",
    "symbols = '$¢£¥€¤'\n",
    "tuple(ord(symbol) for symbol in symbols)"
   ]
  },
  {
   "cell_type": "code",
   "execution_count": null,
   "metadata": {},
   "outputs": [],
   "source": [
    "# 제너레이터 표현식: 배열\n",
    "\n",
    "import array\n",
    "array.array('I', (ord(symbol) for symbol in symbols))"
   ]
  },
  {
   "cell_type": "markdown",
   "metadata": {},
   "source": [
    "배열 생성자의 **첫 번째 인자**는 배열에 들어갈 숫자 자료형"
   ]
  },
  {
   "cell_type": "code",
   "execution_count": null,
   "metadata": {},
   "outputs": [],
   "source": [
    "array.array('f', (ord(symbol) for symbol in symbols))"
   ]
  },
  {
   "cell_type": "markdown",
   "metadata": {},
   "source": [
    "- **List comprehension**의 예제에서와 다르게, 아래 예제에서는 티셔츠 리스트의 여섯 개 항목을 메모리 안에 생성하지 않음\n",
    "- 대신 한 번에 한 항목을 생성해 **for 루프**에 데이터를 전달\n",
    "- 아래 예제에 사용한 두 리스트의 크기가 각각 1000이라면, **List comprehension**의 경우 백만 개의 리스트를 생성해야 하는데 **제너레이터 표현식**을 사용하면 이를 피할 수 있음"
   ]
  },
  {
   "cell_type": "code",
   "execution_count": null,
   "metadata": {},
   "outputs": [],
   "source": [
    "colors = ['black', 'white']\n",
    "sizes = ['S', 'M', 'L']\n",
    "\n",
    "for tshirt in (f'{c} {s}' for c in colors for s in sizes):\n",
    "    print(tshirt)"
   ]
  },
  {
   "cell_type": "code",
   "execution_count": null,
   "metadata": {},
   "outputs": [],
   "source": [
    "# 제너레이터 표현식\n",
    "\n",
    "import time\n",
    "start = time.time() \n",
    "\n",
    "colors = ['black', 'white'] * 500\n",
    "sizes = ['S', 'M', 'L'] * 500\n",
    "result = []\n",
    "\n",
    "for tshirt in ((c, s) for c in colors for s in sizes):\n",
    "    result.append(tshirt)\n",
    "\n",
    "print(\"time :\", time.time() - start)"
   ]
  },
  {
   "cell_type": "code",
   "execution_count": null,
   "metadata": {},
   "outputs": [],
   "source": [
    "# List comprehension\n",
    "\n",
    "start = time.time()\n",
    "\n",
    "colors = ['black', 'white'] * 500\n",
    "sizes = ['S', 'M', 'L'] * 500\n",
    "result = []\n",
    "\n",
    "tshirt_lst = [(c, s) for c in colors for s in sizes]\n",
    "\n",
    "for tshirt in tshirt_lst:\n",
    "    result.append(tshirt)\n",
    "\n",
    "print(\"time :\", time.time() - start)"
   ]
  },
  {
   "cell_type": "markdown",
   "metadata": {},
   "source": [
    "리스트 이외의 시퀀스를 초기화하거나, 메모리에 저장할 필요가 없는 데이터를 생ㅅ어하기 위해서는 **제너레이터 표현식**을 사용하는 것이 좋음"
   ]
  },
  {
   "cell_type": "markdown",
   "metadata": {},
   "source": [
    "## 2.3 튜플은 단순 불변 리스트가 아니다\n",
    "튜플은 **불변 리스트**로 사용할 수도 있지만, **필드명이 없는 레코드**로 사용도 가능\n",
    "\n",
    "### 2.3.1 레코드로서의 튜플\n",
    "- 튜플의 **각 항목은 레코드의 필드 하나**를 의미하며, **항목의 위치**가 의미를 결정\n",
    "- 튜플을 필드의 집합으로 사용하는 경우, 항목의 수가 고정되어 있어야 하며 그 순서가 중요\n",
    "- 아래 예제는 튜플을 레코드로 사용하는 경우: 튜플 안에서 **항목의 위치가 항목의 의미**를 나타내므로 **튜플을 정렬하면 정보가 파괴**됨"
   ]
  },
  {
   "cell_type": "code",
   "execution_count": null,
   "metadata": {},
   "outputs": [],
   "source": [
    "lax_coordinates = (33.9425, -118.408056)\n",
    "city, year, pop, chg, area = ('Tokyo', 2003, 32450, 0.66, 8014)\n",
    "traveler_ids = [('USA', '31195855'), ('BRA', 'CE342567'), ('ESP', 'XDA205856')]\n",
    "\n",
    "for passport in sorted(traveler_ids):\n",
    "    country, id = passport\n",
    "    print(f'{country}/{id}')\n",
    "    \n",
    "for country, _ in traveler_ids:  # 튜플 언패킹: _는 더미 변수\n",
    "    print(country)"
   ]
  },
  {
   "cell_type": "markdown",
   "metadata": {},
   "source": [
    "### 2.3.2 튜플 언패킹\n",
    "- 튜플 언패킹은 **병렬 할당**을 할 때 가장 효과적\n",
    "- **병렬 할당**은 반복형 데이터를 변수로 구성된 튜플에 할당하는 것"
   ]
  },
  {
   "cell_type": "code",
   "execution_count": null,
   "metadata": {},
   "outputs": [],
   "source": [
    "lax_coordinates = (33.9425, -118.408056)\n",
    "latitude, longitude = lax_coordinates\n",
    "print(latitude, longitude)"
   ]
  },
  {
   "cell_type": "markdown",
   "metadata": {},
   "source": [
    "튜플 언패킹을 이용하면 임시 변수를 사용하지 않고도 변수의 값 교환 가능"
   ]
  },
  {
   "cell_type": "code",
   "execution_count": null,
   "metadata": {},
   "outputs": [],
   "source": [
    "a = 1\n",
    "b = 2\n",
    "b, a = a, b\n",
    "print(a, b)"
   ]
  },
  {
   "cell_type": "markdown",
   "metadata": {},
   "source": [
    "다음과 같이 함수를 호출할 때 인수 앞에 `*t`를 붙여 언패킹 가능"
   ]
  },
  {
   "cell_type": "code",
   "execution_count": null,
   "metadata": {},
   "outputs": [],
   "source": [
    "t = (20, 8)\n",
    "quotient, remainder = divmod(*t)\n",
    "print(quotient, remainder)"
   ]
  },
  {
   "cell_type": "markdown",
   "metadata": {},
   "source": [
    "#### 초과 항목을 잡기 위해 * 사용하기\n",
    "함수 매개변수에 `*`를 연결해 초과된 인수를 가져올 수 있음"
   ]
  },
  {
   "cell_type": "code",
   "execution_count": null,
   "metadata": {},
   "outputs": [],
   "source": [
    "a, b, *rest = range(5)\n",
    "a, b, rest"
   ]
  },
  {
   "cell_type": "code",
   "execution_count": null,
   "metadata": {
    "scrolled": true
   },
   "outputs": [],
   "source": [
    "a, b, *rest = range(2)\n",
    "a, b, rest"
   ]
  },
  {
   "cell_type": "markdown",
   "metadata": {},
   "source": [
    "병렬 할당의 경우 `*`는 단 하나의 변수에만 적용 가능"
   ]
  },
  {
   "cell_type": "code",
   "execution_count": null,
   "metadata": {},
   "outputs": [],
   "source": [
    "a, *body, c, d = range(5)\n",
    "a, body, c, d"
   ]
  },
  {
   "cell_type": "code",
   "execution_count": null,
   "metadata": {},
   "outputs": [],
   "source": [
    "*head, b, c, d = range(5)\n",
    "head, b, c, d"
   ]
  },
  {
   "cell_type": "markdown",
   "metadata": {},
   "source": [
    "### 2.3.3 내포된 튜플 언패킹"
   ]
  },
  {
   "cell_type": "code",
   "execution_count": null,
   "metadata": {},
   "outputs": [],
   "source": [
    "metro_areas = [\n",
    "    ('Tokyo', 'JP', 36.933, (35.689722, 139.691667)),\n",
    "    ('Delhi NCR', 'IN', 21.935, (38.613889, 77.208889)),\n",
    "    ('Mexico City', 'MX', 20.142, (19.433333, -99.133333)),\n",
    "    ('New York-Newark', 'US', 20.104, (40.808611, -74.020386)),\n",
    "    ('Sao Paulo', 'BR', 19.649, (-23.547778, -46.635833)),\n",
    "]\n",
    "\n",
    "print('{:15} | {:^9} | {:^9}'.format('', 'lat.', 'long.'))\n",
    "fmt = '{:15} | {:9.4f} | {:9.4f}'\n",
    "for name, cc, pop, (latitude, longitude) in metro_areas:\n",
    "    if longitude <= 0:\n",
    "        print(fmt.format(name, latitude, longitude))"
   ]
  },
  {
   "cell_type": "markdown",
   "metadata": {},
   "source": [
    "- 튜플은 편리한 자료구조이지만, 레코드로 사용하기에는 부족함\n",
    "- 때로는 필드에 직접적으로 이름을 붙여줄 필요가 있으며, 이를 위해 `namedtuple()`이 고안됨\n",
    "- `collections.namedtuple()` 함수는 필드명과 클래스명을 추가한 튜플의 서브 클래스를 생성하는 팩토리 함수"
   ]
  },
  {
   "cell_type": "code",
   "execution_count": null,
   "metadata": {},
   "outputs": [],
   "source": [
    "from collections import namedtuple\n",
    "City = namedtuple('City', 'name country population coordinates')\n",
    "tokyo = City('Tokyo', 'JP', 36.933, (35.689722, 139.691667))\n",
    "tokyo"
   ]
  },
  {
   "cell_type": "code",
   "execution_count": null,
   "metadata": {},
   "outputs": [],
   "source": [
    "tokyo.population"
   ]
  },
  {
   "cell_type": "code",
   "execution_count": null,
   "metadata": {},
   "outputs": [],
   "source": [
    "tokyo[1]"
   ]
  },
  {
   "cell_type": "markdown",
   "metadata": {},
   "source": [
    "`namedtuple()`은 튜플 외에 몇 가지 속성을 더 지님"
   ]
  },
  {
   "cell_type": "code",
   "execution_count": null,
   "metadata": {},
   "outputs": [],
   "source": [
    "City._fields"
   ]
  },
  {
   "cell_type": "code",
   "execution_count": null,
   "metadata": {},
   "outputs": [],
   "source": [
    "LatLong = namedtuple('LatLong', 'lat long')\n",
    "delhi_data = ('Delhi NCR', 'IN', 21.935, LatLong(28.61, 77.20))\n",
    "delhi = City._make(delhi_data)\n",
    "delhi._asdict()"
   ]
  },
  {
   "cell_type": "code",
   "execution_count": null,
   "metadata": {},
   "outputs": [],
   "source": [
    "for k, v in delhi._asdict().items():\n",
    "    print(f'{k}: {v}')"
   ]
  },
  {
   "cell_type": "markdown",
   "metadata": {},
   "source": [
    "### 2.3.5 불변 리스트로서의 튜플\n",
    "- 튜플을 불변 리스트로 사용하려면 튜플과 리스트가 얼마나 유사한지 알고 있어야 함\n",
    "- 튜플은 항목을 추하거나 삭제하는 기능 및 `__reversed__()` 메서드를 제외하고, 리스트가 제공하는 모든 메서드를 지원"
   ]
  },
  {
   "cell_type": "markdown",
   "metadata": {},
   "source": [
    "## 2.4 슬라이싱\n",
    "파이썬에서 제공하는 모든 시퀀스형은 **슬라이싱** 연산을 지원\n",
    "\n",
    "### 2.4.1 슬라이스와 범위 지정시에 마지막 항목이 포함되지 않는 이유\n",
    "- 슬라이스와 범위 지정 시 마지막 원소를 포함하지 않는 것의 장점\n",
    "    - 중단점만 이용해서 슬라이스나 범위를 지정할 때 길이를 계산하기 쉬움\n",
    "    - 시작점과 중단점을 지정할 때는, 중단점에서 시작점을 빼 길이 계산 가능\n",
    "    - x 인덱스를 기준으로 겹침 없이 시퀀스를 분할하기 쉬움\n",
    "        - `my_list[:x]`와 `my_list[x:]`로 나누기만 하면 됨"
   ]
  },
  {
   "cell_type": "code",
   "execution_count": null,
   "metadata": {},
   "outputs": [],
   "source": [
    "l = [10, 20, 30, 40, 50, 60]\n",
    "l[:2]  # 2번 째 원소에서 분할"
   ]
  },
  {
   "cell_type": "code",
   "execution_count": null,
   "metadata": {},
   "outputs": [],
   "source": [
    "l[2:]"
   ]
  },
  {
   "cell_type": "code",
   "execution_count": null,
   "metadata": {},
   "outputs": [],
   "source": [
    "l[:3]  # 3번 째 원소에서 분할"
   ]
  },
  {
   "cell_type": "code",
   "execution_count": null,
   "metadata": {
    "scrolled": true
   },
   "outputs": [],
   "source": [
    "l[3:]"
   ]
  },
  {
   "cell_type": "markdown",
   "metadata": {},
   "source": [
    "### 2.4.2 슬라이스 객체\n",
    "`s[a:b:c]`는 c 만큼 항목을 건너뛰며, c 가 음수인 경우 거꾸로 뛰어 넘어 항목을 반환"
   ]
  },
  {
   "cell_type": "code",
   "execution_count": null,
   "metadata": {},
   "outputs": [],
   "source": [
    "s = 'bicycle'\n",
    "s[::3]"
   ]
  },
  {
   "cell_type": "code",
   "execution_count": null,
   "metadata": {},
   "outputs": [],
   "source": [
    "s[::-1]"
   ]
  },
  {
   "cell_type": "code",
   "execution_count": null,
   "metadata": {},
   "outputs": [],
   "source": [
    "s[::-2]"
   ]
  },
  {
   "cell_type": "markdown",
   "metadata": {},
   "source": [
    "- `a:b:c` 표기법은 인덱싱을 수행하는 `[ ]` 안에서만 사용 가능하며, `slice(a, b, c)` 객체를 생성\n",
    "- 슬라이스 객체를 이해한다면 슬라이스에 이름을 부여해 관리할 수 있어 편리함"
   ]
  },
  {
   "cell_type": "code",
   "execution_count": null,
   "metadata": {},
   "outputs": [],
   "source": [
    "invoice = \"\"\"\n",
    "0.....6.................................40..........52...55.....\n",
    "1909  Pimoroni PiBrella                      $17.50\n",
    "1489  6mm Tactile Switch x20                  $4.95\n",
    "1510  Panavise Jr. - PV-201                  $28.00\n",
    "1601  PiTFT Mini Kit 320x240                 $34.95\n",
    "\"\"\"\n",
    "\n",
    "SKU = slice(0, 6)\n",
    "DESCRIPTION = slice(6, 40)\n",
    "UNIT_PRICE = slice(40, 52)\n",
    "QUANTITY = slice(52, 55)\n",
    "ITEM_TOTAL = slice(55, None)\n",
    "line_items = invoice.split('\\n')[2:]\n",
    "\n",
    "for item in line_items:\n",
    "    print(item[UNIT_PRICE], item[DESCRIPTION])"
   ]
  },
  {
   "cell_type": "markdown",
   "metadata": {},
   "source": [
    "### 2.4.3 다차원 슬라이싱과 생략 기호\n",
    "- `[ ]` 연산자는 콤마로 구분해 여러 개의 인덱스나 슬라이스를 가질 수 있음\n",
    "- 이 방법은 다차원에서의 인덱싱 혹은 슬라이싱 적용을 위해 사용\n",
    "- `[ ]` 연산자를 처리하는 `__getitem__()`과 `__setitem()` 스페셜 메서드는 `a[i, j]` 에 들어 있는 인덱스들을 튜플로 받아 `a.__getitem__((i, j))` 를 호출\n",
    "- 파이썬에 내장된 시퀀스형은 1차원이므로, 튜플을 지원하지 않음\n",
    "- 세 개의 마침표 `...`로 표현된 생략 기호는 파이썬 파서에 의해 하나의 토큰으로 인식\n",
    "    - 해당 기호는 `Ellipsis` 객체의 별명으로, `ellipsis` 클래스의 객체\n",
    "    - 생략 기호는 `f(a, ..., z)` 처럼 함수의 인수나, `a[i:...]` 처럼 슬라이스의 부분으로 전달 가능\n",
    "    - NumPy는 다차원 배열을 슬라이싱 할 때 생략 기호를 사용\n",
    "    - e.g. x가 4차원 배열이라면 `x[i, ...]`는 `x[i, :, :, :]`와 동일"
   ]
  },
  {
   "cell_type": "markdown",
   "metadata": {},
   "source": [
    "### 2.4.4 슬라이스에 할당하기\n",
    "할당문의 왼쪽에 슬라이스 표기법을 사용하거나 `del` 문의 대상 객체로 지정함으로써 가변 시퀀스를 연결하거나, 잘라 내거나, 값을 변경할 수 있음"
   ]
  },
  {
   "cell_type": "code",
   "execution_count": null,
   "metadata": {},
   "outputs": [],
   "source": [
    "l = list(range(10))\n",
    "l"
   ]
  },
  {
   "cell_type": "code",
   "execution_count": null,
   "metadata": {},
   "outputs": [],
   "source": [
    "l[2:5] = [20, 30]\n",
    "l"
   ]
  },
  {
   "cell_type": "code",
   "execution_count": null,
   "metadata": {},
   "outputs": [],
   "source": [
    "del l[5:7]\n",
    "l"
   ]
  },
  {
   "cell_type": "code",
   "execution_count": null,
   "metadata": {},
   "outputs": [],
   "source": [
    "l[3::2] = [11, 22]\n",
    "l"
   ]
  },
  {
   "cell_type": "code",
   "execution_count": null,
   "metadata": {},
   "outputs": [],
   "source": [
    "l[2:5] = 100  # 할당의 대상이 슬라이스인 경우, Iterable을 할당해주어야 함"
   ]
  },
  {
   "cell_type": "code",
   "execution_count": null,
   "metadata": {},
   "outputs": [],
   "source": [
    "l[2:5] = [100]\n",
    "l"
   ]
  },
  {
   "cell_type": "markdown",
   "metadata": {},
   "source": [
    "## 2.5 시퀀스에 덧셈과 곱셈 연산자 사용하기\n",
    "- 하나의 시퀀스를 여러 번 연결하려면 정수를 곱해서 표현\n",
    "- 이때에도 새로운 시퀀스가 만들어짐"
   ]
  },
  {
   "cell_type": "code",
   "execution_count": null,
   "metadata": {},
   "outputs": [],
   "source": [
    "l = [1, 2, 3]\n",
    "l * 5"
   ]
  },
  {
   "cell_type": "code",
   "execution_count": null,
   "metadata": {},
   "outputs": [],
   "source": [
    "5 * 'abcd'"
   ]
  },
  {
   "cell_type": "markdown",
   "metadata": {},
   "source": [
    "덧셈과 곱셈 연산자는 언제나 객체를 새로 만들고, 피연산자를 변경하지 않음"
   ]
  },
  {
   "cell_type": "markdown",
   "metadata": {},
   "source": [
    "### 2.5.1 리스트의 리스트 만들기\n",
    "- 내포된 리스트를 가진 리스트를 초기화해야 하는 경우가 종종 있음\n",
    "    - e.g. 학생들을 팀별로 묶어 리스트를 만들거나, 게임판의 정사각형을 표현\n",
    "- 이와 같은 리스트를 초기화할 때는 아래와 같이 **listcomp**를 사용하는 것이 좋음"
   ]
  },
  {
   "cell_type": "code",
   "execution_count": null,
   "metadata": {},
   "outputs": [],
   "source": [
    "board = [['_'] * 3 for _ in range(3)]\n",
    "board"
   ]
  },
  {
   "cell_type": "code",
   "execution_count": null,
   "metadata": {},
   "outputs": [],
   "source": [
    "board[1][2] = 'X'\n",
    "board"
   ]
  },
  {
   "cell_type": "markdown",
   "metadata": {},
   "source": [
    "아래 코드는 동일한 리스트에 대한 세 개의 참조를 가지는 잘못된 코드의 예"
   ]
  },
  {
   "cell_type": "code",
   "execution_count": null,
   "metadata": {},
   "outputs": [],
   "source": [
    "weird_board = [['_'] * 3] * 3\n",
    "weird_board"
   ]
  },
  {
   "cell_type": "code",
   "execution_count": null,
   "metadata": {},
   "outputs": [],
   "source": [
    "weird_board[1][2] = '0'\n",
    "weird_board"
   ]
  },
  {
   "cell_type": "markdown",
   "metadata": {},
   "source": [
    "위 코드가 잘못되는 이유는 아래와 같이 동일한 행이 `board` 리스트에 세 번 추가되기 때문"
   ]
  },
  {
   "cell_type": "code",
   "execution_count": null,
   "metadata": {},
   "outputs": [],
   "source": [
    "row = ['_'] * 3\n",
    "board = []\n",
    "for _ in range(3):\n",
    "    board.append(row)"
   ]
  },
  {
   "cell_type": "markdown",
   "metadata": {},
   "source": [
    "정상적으로 작동하는 **listcomp**의 내부 로직은 아래와 같음"
   ]
  },
  {
   "cell_type": "code",
   "execution_count": null,
   "metadata": {},
   "outputs": [],
   "source": [
    "board = []\n",
    "for _ in range(3):\n",
    "    row = ['_'] * 3\n",
    "    board.append(row)"
   ]
  },
  {
   "cell_type": "markdown",
   "metadata": {},
   "source": [
    "## 2.6 시퀀스의 복합 할당\n",
    "- `+=`와 `*=` 등의 복합 할당 연산자는 첫 번째 피연산자에 따라 상당히 다르게 동작\n",
    "- `+=` 연산자가 작동하도록 만드는 스페셜 메서드는 `__iadd__()`\n",
    "- `__iadd__()` 메서드가 구현되어 있지 않으면, 파이썬은 `__add__()` 메서드를 호출\n",
    "\n",
    "```\n",
    "a += b\n",
    "```\n",
    "\n",
    "- a가 `__iadd__()` 메서드를 구현하면 구현된 메서드가 호출\n",
    "- 이때 a가 `list`, `bytearray`, `array.array` 등 가변 시퀀스인 경우, a의 값이 변경\n",
    "- a가 `__iadd__()`를 구현하지 않는 경우 `a += b`는 `a = a + b`가 되어 먼저 `a + b`를 평가하고, 객체를 새로 생성한 후 a에 할당\n",
    "- 즉, `__iadd__()` 메서드 구현 여부에 따라 a 변수가 가리키는 객체의 정체성이 바뀔 수도 있고, 바뀌지 않을 수도 있음\n",
    "- 일반 적으로 가변 시퀀스에 대해서는 `__iadd__()` 메서드를 구현해 `+=` 연산자가 기존 객체의 내용을 변경하게 하는 것이 좋음\n",
    "-  `*=` 연산자는 `__imult__()` 스페셜 메서드를 통해 구현"
   ]
  },
  {
   "cell_type": "code",
   "execution_count": null,
   "metadata": {},
   "outputs": [],
   "source": [
    "l = [1, 2, 3]\n",
    "id(l)"
   ]
  },
  {
   "cell_type": "code",
   "execution_count": null,
   "metadata": {},
   "outputs": [],
   "source": [
    "l *= 2\n",
    "l"
   ]
  },
  {
   "cell_type": "code",
   "execution_count": null,
   "metadata": {},
   "outputs": [],
   "source": [
    "id(l)"
   ]
  },
  {
   "cell_type": "code",
   "execution_count": null,
   "metadata": {},
   "outputs": [],
   "source": [
    "t = (1, 2, 3)\n",
    "id(t)"
   ]
  },
  {
   "cell_type": "code",
   "execution_count": null,
   "metadata": {},
   "outputs": [],
   "source": [
    "t *= 2\n",
    "t"
   ]
  },
  {
   "cell_type": "code",
   "execution_count": null,
   "metadata": {},
   "outputs": [],
   "source": [
    "id(t)  # 새로운 튜플이 생성되었기 떄문에 주소 값이 변경"
   ]
  },
  {
   "cell_type": "markdown",
   "metadata": {},
   "source": [
    "새로운 항목을 추가하는 대신 추가된 시퀀스 전체를 새로이 만들어 저장하고 있기 때문에 불변 시퀀스에 반복적으로 연결 연산을 수행하는 것은 비효율적 !"
   ]
  },
  {
   "cell_type": "markdown",
   "metadata": {},
   "source": [
    "## 2.7 list.sort()와 sorted() 내장 함수\n",
    "- `list.sort()` 메서드는 리스트 내부를 변경해 정렬하며, 타깃 객체를 변경하고 새로운 리스트를 생성하지 않았음을 알려주기 위해 `None`을 반환\n",
    "- 객체를 직접 변경하는 함수나 메서드는 객체게 변경되었고, 새로운 객체가 생성되지 않았음을 호출자에 알려주기 위해 `None`을 반환해주어야 함\n",
    "- 이와 반대로 `sorted()` 함수는 새로운 리스트를 생성해 반환\n",
    "- `sorted()` 함수는 입력받은 객체의 자료형과 무관하게 언제나 새로 생성한 리스트를 반환\n",
    "- 두 함수의 인수\n",
    "    - **reverse**: 이 키워드가 참이면 내림차순 정렬. 기본값은 `False`\n",
    "    - **key**: 정렬에 사용할 키를 생성하기 위해 각 항목에 적용할 함수를 인수로 받음. 키를 지정하지 않으면 항목 자체를 비교"
   ]
  },
  {
   "cell_type": "code",
   "execution_count": null,
   "metadata": {},
   "outputs": [],
   "source": [
    "fruits = ['grape', 'strawberry', 'apple', 'banana']\n",
    "sorted(fruits)"
   ]
  },
  {
   "cell_type": "code",
   "execution_count": null,
   "metadata": {},
   "outputs": [],
   "source": [
    "fruits"
   ]
  },
  {
   "cell_type": "code",
   "execution_count": null,
   "metadata": {},
   "outputs": [],
   "source": [
    "sorted(fruits, reverse=True)"
   ]
  },
  {
   "cell_type": "code",
   "execution_count": null,
   "metadata": {},
   "outputs": [],
   "source": [
    "sorted(fruits, key=len)"
   ]
  },
  {
   "cell_type": "code",
   "execution_count": null,
   "metadata": {},
   "outputs": [],
   "source": [
    "sorted(fruits, key=len, reverse=True)"
   ]
  },
  {
   "cell_type": "code",
   "execution_count": null,
   "metadata": {},
   "outputs": [],
   "source": [
    "fruits"
   ]
  },
  {
   "cell_type": "code",
   "execution_count": null,
   "metadata": {},
   "outputs": [],
   "source": [
    "fruits.sort()"
   ]
  },
  {
   "cell_type": "code",
   "execution_count": null,
   "metadata": {},
   "outputs": [],
   "source": [
    "fruits"
   ]
  },
  {
   "cell_type": "markdown",
   "metadata": {},
   "source": [
    "- 일단 시퀀스를 정렬한 후에는 효율적으로 검색이 가능\n",
    "- 파이썬에서는 `bisect` 모듈에서 표준 이진 검색 알고리즘을 제공"
   ]
  },
  {
   "cell_type": "markdown",
   "metadata": {},
   "source": [
    "## 2.8 정렬된 시퀀스를 bisect로 관리하기\n",
    "- `bisect` 모듈은 `bisect()`와 `insort()` 함수를 제공\n",
    "- `bisect()`는 이진 검색 알고리즘을 이용해 시퀀스를 검색하고,\n",
    "- `insort()`는 정렬된 시퀀스 안에 항목을 삽입\n",
    "\n",
    "### 2.8.1 bisect( ) 로 검색하기\n",
    "- `bisect(haystack, needle)`은 정렬된 시퀀스 **haystack** 안에서 오름차순 정렬 상태를 유지한 채로 **needle**을 추가할 수 있는 위치를 찾아냄\n",
    "- 즉, 해당 위치 앞에는 **needle** 보다 같거나 작은 항목이 옴\n",
    "- `bisect(haystack, needle)`의 결과 값을 인덱스로 사용해 `haystack.insert(index, needle)`을 호출하면 **needle**을 추가할 수 있지만, `insort()` 함수는 이 두 과정을 더 빨리 처리"
   ]
  },
  {
   "cell_type": "code",
   "execution_count": null,
   "metadata": {},
   "outputs": [],
   "source": [
    "import bisect\n",
    "\n",
    "HAYSTACK = [1, 4, 5, 6, 8, 12, 15, 20, 21, 23, 23, 26, 29, 30]\n",
    "NEEDLES = [0, 1, 2, 5, 8, 10, 22, 23, 29, 30, 31]\n",
    "\n",
    "ROW_FMT = '{0:2d} @ {1:2d}    {2}{0:<2d}'\n",
    "\n",
    "def demo(bisect_fn):\n",
    "    for needle in reversed(NEEDLES):\n",
    "        position = bisect_fn(HAYSTACK, needle)\n",
    "        offset = position * '  |'\n",
    "        print(ROW_FMT.format(needle, position, offset))\n",
    "        \n",
    "# bisect_fn = bisect.bisect_left\n",
    "bisect_fn = bisect.bisect\n",
    "\n",
    "print(f'DEMO: {bisect_fn.__name__}')\n",
    "print('haystack ->', ' '.join('%2d' % n for n in HAYSTACK))\n",
    "demo(bisect_fn)"
   ]
  },
  {
   "cell_type": "markdown",
   "metadata": {},
   "source": [
    "- bisect의 행동은 두 가지 방식으로 조절 가능\n",
    "    1. 선택 인수인 `lo`와 `hi`를 사용하면 삽입할 때 검색할 시퀀스 영역을 좁힐 수 있음: `lo`의 기본 값은 0, `hi`의 기본 값은 시퀀스의 길이\n",
    "    2. `bisect_right`이 아닌 `bisect_left` 사용\n",
    "    \n",
    "    \n",
    "- bisect를 사용하면 수치형 값으로 테이블을 참조할 수 있으므로 아래 코드처럼 시험 점수를 등급 문자로 변환 가능"
   ]
  },
  {
   "cell_type": "code",
   "execution_count": null,
   "metadata": {},
   "outputs": [],
   "source": [
    "def grade(score, breakpoints=[60, 70, 80, 90], grades='FDCBA'):\n",
    "    i = bisect.bisect(breakpoints, score)\n",
    "    return grades[i]\n",
    "\n",
    "[grade(score) for score in [33, 99, 77, 70, 89, 90, 100]]"
   ]
  },
  {
   "cell_type": "markdown",
   "metadata": {},
   "source": [
    "### 2.8.2 bisect.insort( )로 삽입하기\n",
    "- 정렬은 값비싼 연산이므로 시퀀스를 일단 정렬한 후에는 정렬 상태를 유지하는 것이 좋음\n",
    "- `insort(seq, item)`은 `seq`를 오름차순으로 유지한 채 `item`을 삽입"
   ]
  },
  {
   "cell_type": "code",
   "execution_count": null,
   "metadata": {},
   "outputs": [],
   "source": [
    "import bisect\n",
    "import random\n",
    "\n",
    "SIZE = 7\n",
    "\n",
    "random.seed(1729)\n",
    "\n",
    "my_list = []\n",
    "for _ in range(SIZE):\n",
    "    new_item = random.randrange(SIZE*2)\n",
    "    bisect.insort(my_list, new_item)\n",
    "    print('%2d ->' % new_item, my_list)"
   ]
  },
  {
   "cell_type": "markdown",
   "metadata": {},
   "source": [
    "- `bisect` 함수와 마찬가지로 `insort` 역시 선택적으로 `lo`와 `hi` 인수를 받아 시퀀스 안에서 검색 범위를 제한 가능\n",
    "- 지금까지 설명한 내용은 모든 시퀀스형에 사용 가능"
   ]
  },
  {
   "cell_type": "markdown",
   "metadata": {},
   "source": [
    "## 2.9 리스트가 답이 아닐 때\n",
    "- 리스트는 융통성 있고 사용하기 편리하지만, 세부 요구사항에 따라 더 나은 자료형도 있음\n",
    "- 예를 들어, 실수 천만 개를 저장할 때는 배열이 훨씬 더 효율적\n",
    "- 이는 모든 기능을 갖춘 `float` 객체 대신 기계가 사용하는 형태인 바이트 값만 저장하기 때문\n",
    "- 한편, 리스트의 양쪽 끝에 항목을 계속 추가하거나 삭제하고자 할 때는 `deque`가 더 빠름"
   ]
  },
  {
   "cell_type": "markdown",
   "metadata": {},
   "source": [
    "### 2.9.1 배열\n",
    "- 리스트 안에 숫자만 들어 있다면 `array.array`가 리스트보다 훨씬 더 효율적\n",
    "- 배열은 가변 시퀀스가 제공하는 모든 연산을 지원하며, 파일 IO와 관련해 `frombytes()`와 `tofile()`등의 추가 메서드도 제공\n",
    "- 파이썬 배열은 C 배열만큼 가벼우며, 배열을 생성할 때 저장되는 각 항목의 C 기반 형을 결정하는 **typecode**를 지정"
   ]
  },
  {
   "cell_type": "code",
   "execution_count": null,
   "metadata": {},
   "outputs": [],
   "source": [
    "from array import array\n",
    "from random import random\n",
    "\n",
    "floats = array('d', (random() for _ in range(10**7)))\n",
    "floats[-1]"
   ]
  },
  {
   "cell_type": "code",
   "execution_count": null,
   "metadata": {},
   "outputs": [],
   "source": [
    "fp = open('floats.bin', 'wb')\n",
    "floats.tofile(fp)\n",
    "fp.close()"
   ]
  },
  {
   "cell_type": "code",
   "execution_count": null,
   "metadata": {},
   "outputs": [],
   "source": [
    "floats2 = array('d')\n",
    "fp = open('floats.bin', 'rb')\n",
    "floats2.fromfile(fp, 10**7)\n",
    "fp.close()\n",
    "\n",
    "floats2[-1]"
   ]
  },
  {
   "cell_type": "code",
   "execution_count": null,
   "metadata": {},
   "outputs": [],
   "source": [
    "floats2 == floats"
   ]
  },
  {
   "cell_type": "markdown",
   "metadata": {},
   "source": [
    "- 위 코드에서 볼 수 있듯이, `array.tofile()`과 `array.fromfile()` 메서드는 사용하기 매우 쉬움\n",
    "- 또한 실행 속도 역시 매우 빠르며, 텍스트로 데이터를 저장하고 로드하는 것 보다 훨씬 더 적은 메모리를 사용"
   ]
  },
  {
   "cell_type": "markdown",
   "metadata": {},
   "source": [
    "### 2.9.2 메모리 뷰\n",
    "- 메모리 뷰 내장 클래스는 공유 메모리 시퀀스형으로 `bytes`를 복사하지 않고, 배열의 슬라이스를 다룰 수 있게 해줌\n",
    "\n",
    "```\n",
    "메모리 뷰는 본질적으로 파이썬 자체에 들어 있는 NumPy 배열 구조체를 일반화 한 것\n",
    "메모리 뷰는 PIL 이미지, SQLlite 데이터베이스, NumPy 배열 등 데이터 구조체를 복사하지 않고, 메모리를 공유할 수 있게 해며, 이는 데이터셋이 커지는 경우 아주 중요한 기법\n",
    "```\n",
    "\n",
    "- `array` 모듈과 비슷한 표기법을 사용하는 `memoryview.cast()` 메서드는 바이트를 이동시키지 않고, C 언어의 형변환 연산자처럼 여러 바이트로 된 데이터를 읽거나 쓰는 방식을 바꿀 수 있게 해줌\n",
    "- `memoryview.cast()`는 또 다른 `memoryview` 객체를 반환하며 언제나 동일한 메모리 공유"
   ]
  },
  {
   "cell_type": "code",
   "execution_count": null,
   "metadata": {},
   "outputs": [],
   "source": [
    "import array\n",
    "numbers = array.array('h', [-2, -1, 0, 1, 2])\n",
    "memv = memoryview(numbers)  # short integer를 지니는 배열에서 memoryview 생성\n",
    "len(memv)"
   ]
  },
  {
   "cell_type": "code",
   "execution_count": null,
   "metadata": {},
   "outputs": [],
   "source": [
    "memv[0]"
   ]
  },
  {
   "cell_type": "code",
   "execution_count": null,
   "metadata": {},
   "outputs": [],
   "source": [
    "memv_oct = memv.cast('B')  # memv 요소를 unsigned char로 형변환한 memv_cot 생성\n",
    "memv_oct.tolist()"
   ]
  },
  {
   "cell_type": "code",
   "execution_count": null,
   "metadata": {},
   "outputs": [],
   "source": [
    "memv_oct[5] = 4  # 2 바이트 unsigned int의 최상위 바이트에서 4는 1024에 해당\n",
    "numbers"
   ]
  },
  {
   "cell_type": "markdown",
   "metadata": {},
   "source": [
    "### 2.9.4 덱 및 기타 큐\n",
    "- `append()`와 `pop()` 메서드를 사용해 리스트를 스택이나 큐로 사용할 수 있음\n",
    "- 그러나 리스트의 0번 째 인덱스에 원소를 삽입하거나 삭제하는 연산은 전체 리스트를 이동시켜야 하므로 부담이 큰 연산\n",
    "- 덱은 큐의 양쪽 어디에서든 빠르게 삽입 및 삭제할 수 있도록 설계된 **thread-safe** 양방향 큐\n",
    "- 덱은 최대 길이를 설정해 제한된 항목만 유지할 수도 있으므로 덱이 꽉 찬 후에는 새로운 항목을 추가할 때 반대쪽 항목을 버림"
   ]
  },
  {
   "cell_type": "code",
   "execution_count": null,
   "metadata": {},
   "outputs": [],
   "source": [
    "from collections import deque\n",
    "dq = deque(range(10), maxlen=10)\n",
    "dq"
   ]
  },
  {
   "cell_type": "code",
   "execution_count": null,
   "metadata": {},
   "outputs": [],
   "source": [
    "dq.rotate(3)\n",
    "dq"
   ]
  },
  {
   "cell_type": "code",
   "execution_count": null,
   "metadata": {},
   "outputs": [],
   "source": [
    "dq.rotate(-4)\n",
    "dq"
   ]
  },
  {
   "cell_type": "code",
   "execution_count": null,
   "metadata": {},
   "outputs": [],
   "source": [
    "dq.appendleft(-1)\n",
    "dq"
   ]
  },
  {
   "cell_type": "code",
   "execution_count": null,
   "metadata": {},
   "outputs": [],
   "source": [
    "dq.append(10)\n",
    "dq"
   ]
  },
  {
   "cell_type": "markdown",
   "metadata": {},
   "source": [
    "- 덱은 리스트 메서드 대부분을 구현할 뿐만 아니라 `popleft()`와 `rotate()` 처럼 고유한 메서드도 지님\n",
    "- 그러나 양쪽 원소를 다루는 연산에 최적화되어 있는 자료구조이기 때문에 중간 항목을 처리하는 연산은 그리 빠르지 않다는 단점이 있음"
   ]
  }
 ],
 "metadata": {
  "kernelspec": {
   "display_name": "Python 3",
   "language": "python",
   "name": "python3"
  },
  "language_info": {
   "codemirror_mode": {
    "name": "ipython",
    "version": 3
   },
   "file_extension": ".py",
   "mimetype": "text/x-python",
   "name": "python",
   "nbconvert_exporter": "python",
   "pygments_lexer": "ipython3",
   "version": "3.7.3"
  }
 },
 "nbformat": 4,
 "nbformat_minor": 2
}
