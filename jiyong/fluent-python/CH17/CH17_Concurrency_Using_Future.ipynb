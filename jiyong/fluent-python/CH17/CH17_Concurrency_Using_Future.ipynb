{
 "cells": [
  {
   "cell_type": "markdown",
   "metadata": {},
   "source": [
    "# CH17 Future를 이용한 동시성\n",
    "* 비동기 작업을 위한 Future 객체"
   ]
  },
  {
   "cell_type": "markdown",
   "metadata": {},
   "source": [
    "## 17.1 예제 : 세 가지 스타일의 웹 내려받기\n",
    "* flags.py, flags_threadpool.py, flags_asyncio.py 비교\n",
    "    * flags.py : 일반 순차 처리 방식 (소요시간 7.18초)\n",
    "    * flags_threadpool.py : 스레드를 이용한 동시성 처리 방식 (소요시간 1.40초)\n",
    "    * flags_asyncio.py : 단일 스레드 asyncio 를 이용한 동시성 처리 방식 (소요시간 1.35초)"
   ]
  },
  {
   "cell_type": "code",
   "execution_count": 1,
   "metadata": {},
   "outputs": [],
   "source": [
    "# flags.py\n",
    "\n",
    "import os\n",
    "import time\n",
    "import sys\n",
    "\n",
    "import requests\n",
    "\n",
    "POP20_CC = ('CN IN US ID BR PK NG BD RU JP MX PH VN ET EG DE IR TR CD FR').split()\n",
    "\n",
    "BASE_URL = 'http://flupy.org/data/flags'\n",
    "\n",
    "DEST_DIR = 'downloads/'\n",
    "\n",
    "def save_flag(img, filename):\n",
    "    path = os.path.join(DEST_DIR, filename)\n",
    "    with open(path, 'wb') as fp:\n",
    "        fp.write(img)\n",
    "\n",
    "def get_flag(cc):\n",
    "    url = '{}/{cc}/{cc}.gif'.format(BASE_URL, cc=cc.lower())\n",
    "    resp = requests.get(url)\n",
    "    return resp.content\n",
    "\n",
    "def show(text):\n",
    "    print(text, end=' ')\n",
    "    sys.stdout.flush()\n",
    "\n",
    "def download_many(cc_list):\n",
    "    for cc in sorted(cc_list):\n",
    "        image = get_flag(cc)\n",
    "        show(cc)\n",
    "        save_flag(image, cc.lower() + '.gif')\n",
    "    return len(cc_list)\n",
    "\n",
    "def main(download_many):\n",
    "    t0 = time.time()\n",
    "    count = download_many(POP20_CC)\n",
    "    elapsed = time.time() - t0\n",
    "    msg = '\\n{} flags downloaded in {:.2f}s'\n",
    "    print(msg.format(count, elapsed))"
   ]
  },
  {
   "cell_type": "code",
   "execution_count": 2,
   "metadata": {},
   "outputs": [
    {
     "name": "stdout",
     "output_type": "stream",
     "text": [
      "BD BR CD CN DE EG ET FR ID IN IR JP MX NG PH PK RU TR US VN \n",
      "20 flags downloaded in 10.39s\n"
     ]
    }
   ],
   "source": [
    "main(download_many)"
   ]
  },
  {
   "cell_type": "code",
   "execution_count": 3,
   "metadata": {},
   "outputs": [],
   "source": [
    "# flags_threadpool.py\n",
    "\n",
    "from concurrent import futures\n",
    "\n",
    "MAX_WORKERS = 20 # Thread 수\n",
    "\n",
    "def download_one(cc):\n",
    "    image = get_flag(cc)\n",
    "    show(cc)\n",
    "    save_flag(image, cc.lower() + '.gif')\n",
    "    return cc\n",
    "\n",
    "def download_many(cc_list):\n",
    "    workers = min(MAX_WORKERS, len(cc_list))\n",
    "    with futures.ThreadPoolExecutor(workers) as executor: # 모든 스레드가 완료될때까지 블록\n",
    "        res = executor.map(download_one, sorted(cc_list)) # 스레드 마다 작업 할당\n",
    "    \n",
    "    return len(list(res))"
   ]
  },
  {
   "cell_type": "code",
   "execution_count": 6,
   "metadata": {},
   "outputs": [
    {
     "name": "stdout",
     "output_type": "stream",
     "text": [
      "CN EG DE RU TR IN PKJP ID MX IR FR  PH NG ET US BD VN BR CD \n",
      "20 flags downloaded in 1.24s\n"
     ]
    }
   ],
   "source": [
    "main(download_many) # 순서가 다름."
   ]
  },
  {
   "cell_type": "markdown",
   "metadata": {},
   "source": [
    "* Future 클래스\n",
    "    * concurrent.futures.Future\n",
    "    * asyncio.Future\n",
    "    * 대기중인 작업을 큐에 넣고, 완료 상태를 조사하고 결과를 가져올 수 있도록 캡슐화 함\n",
    "    * 직접 Future 객체를 생성하면 안됨. 동시성 프레임워크(concurrent.futures, asyncio) 에서 배타적으로 생성\n",
    "        * Future 는 앞으로 일어날 일을 나타내고, 이 실행 스케쥴링은 프레임워크가 알고 있기 때문\n",
    "    * concurrent.futures.Future 객체는 concurrent.futures.Executor 의 서브클래스로 실행을 스케쥴링해야만 생성됨.\n",
    "        * `Executor.submit()` 메서드는 콜러블을 받아서 실행을 스케쥴링하고 Future 객체를 반환\n",
    "    * Future 객체의 상태 역시 직접 변경하면 안됨, 프레임워크가 컨트롤하기 때문\n",
    "    * Future 클래스는 논블로킹이며, 이 객체에 연결된 콜러블 실행이 완료되었는지 여부를 알려주는 `done()` 메서드가 있음.\n",
    "    * `done()` 이 참인경우, `add_done_callback()` 메서드가 수행.\n",
    "    * `result()` 메서드 : 완료되었을때, 콜러블 결과를 반환하거나 콜러블 실행시 예외를 다시 발생\n",
    "        * concurrent.futures.Future 는 결과가 나올때까지 호출자의 스레드 블로킹 (timeout 설정 가능)\n",
    "        * asyncio.Future 는 yield from 으로 객체 상태를 가져와서 컨트롤 가능\n",
    "\n",
    "참고 : http://homoefficio.github.io/2017/02/19/Blocking-NonBlocking-Synchronous-Asynchronous/\n",
    "\n",
    "* Future 객체를 실제로 보기 위해, `futures.as_completed()` 함수로 변경"
   ]
  },
  {
   "cell_type": "code",
   "execution_count": 7,
   "metadata": {},
   "outputs": [],
   "source": [
    "def download_many(cc_list):\n",
    "    cc_list = cc_list[:5]\n",
    "    with futures.ThreadPoolExecutor(max_workers=3) as executor: # executor.map 을 submit 와 as_completed 로 변경\n",
    "        to_do = []\n",
    "        for cc in sorted(cc_list):\n",
    "            future = executor.submit(download_one, cc)\n",
    "            to_do.append(future)\n",
    "            msg = 'Scheduled for {}: {}'\n",
    "            print(msg.format(cc, future))\n",
    "        \n",
    "        results=[]\n",
    "        for future in futures.as_completed(to_do): # 완료된 것부터 호출되는 듯!\n",
    "            res = future.result() # 블로킹 되지 않음.. as_completed 가 완료될때 생성되기 때문\n",
    "            msg = '{} result: {!r}'\n",
    "            print(msg.format(future, res))\n",
    "            results.append(res)\n",
    "        \n",
    "    return len(results)"
   ]
  },
  {
   "cell_type": "code",
   "execution_count": 8,
   "metadata": {},
   "outputs": [
    {
     "name": "stdout",
     "output_type": "stream",
     "text": [
      "Scheduled for BR: <Future at 0x7f8259f4bd90 state=running>\n",
      "Scheduled for CN: <Future at 0x7f8259f5f490 state=running>\n",
      "Scheduled for ID: <Future at 0x7f825871aa10 state=running>\n",
      "Scheduled for IN: <Future at 0x7f82586cc790 state=pending>\n",
      "Scheduled for US: <Future at 0x7f82586cc190 state=pending>\n",
      "CN <Future at 0x7f8259f5f490 state=finished returned str> result: 'CN'\n",
      "BR <Future at 0x7f8259f4bd90 state=finished returned str> result: 'BR'\n",
      "ID <Future at 0x7f825871aa10 state=finished returned str> result: 'ID'\n",
      "IN <Future at 0x7f82586cc790 state=finished returned str> result: 'IN'\n",
      "US <Future at 0x7f82586cc190 state=finished returned str> result: 'US'\n",
      "\n",
      "5 flags downloaded in 1.08s\n"
     ]
    }
   ],
   "source": [
    "main(download_many)"
   ]
  },
  {
   "cell_type": "markdown",
   "metadata": {},
   "source": [
    "* cocurrent.futures 는 전역 인터프리터 락(Global Interpreter Lock) 에 의해 제한되어 병렬 처리 되지 않음"
   ]
  },
  {
   "cell_type": "markdown",
   "metadata": {},
   "source": [
    "## 17.2 블로킹 I/O와 GIL\n",
    "* GIL 은 한번에 한 스레드만 파이썬 바이트코드를 실행하도록 제한 -> 단일 파이썬 프로세스가 다중 CPU 코어를 이용할 수 없다\n",
    "* 그런데 블로킹 입출력을 실행하는 모든 표준 라이브러리 함수는 OS에서 결과를 기다리는 동안 GIL을 해제한다\n",
    "    * 입출력 위주 작업의 파이썬은 스레드를 이용함으로써 네트워크 응답을 기다리는 동안 다른 스레드가 실행될 수 있어 이득을 볼 수 있다"
   ]
  },
  {
   "cell_type": "markdown",
   "metadata": {},
   "source": [
    "## 17.3 concurrent.futures로 프로세스 실행하기\n",
    "* 병렬 작업의 실행\n",
    "    * ProcessPoolExecutor 를 사용하여 GIL 우회 (다중 프로세스에 작업을 분산 시켜 병렬 컴퓨팅을 가능케함)\n",
    "    * ThreadPoolExecutor 와 같은 Executor 인터페이스를 구현하므로 쉽게 전환 가능\n",
    "    \n",
    "참고 : https://gmlwjd9405.github.io/2018/09/14/process-vs-thread.html"
   ]
  },
  {
   "cell_type": "code",
   "execution_count": 11,
   "metadata": {},
   "outputs": [],
   "source": [
    "def download_many(cc_list):\n",
    "    workers = min(MAX_WORKERS, len(cc_list))\n",
    "    with futures.ProcessPoolExecutor() as executor:\n",
    "        res = executor.map(download_one, sorted(cc_list))\n",
    "    \n",
    "    return len(list(res))"
   ]
  },
  {
   "cell_type": "code",
   "execution_count": 12,
   "metadata": {},
   "outputs": [
    {
     "name": "stdout",
     "output_type": "stream",
     "text": [
      "BR CD BD DE CN EG ID FR ET JP IR IN MX NG PH PK RU TR US VN \n",
      "20 flags downloaded in 1.18s\n"
     ]
    }
   ],
   "source": [
    "main(download_many) # 별로 안빨라짐.. 쓰레드로도 충분히 이득을 볼 수 있기 때문에"
   ]
  },
  {
   "cell_type": "markdown",
   "metadata": {},
   "source": [
    "* 입출력이 아닌 계산 위주의 작업에서 병렬처리의 진가가 발휘됨. (입출력은 스레드 환경에서 블로킹 없이 가능하므로)"
   ]
  },
  {
   "cell_type": "markdown",
   "metadata": {},
   "source": [
    "## 17.4 Executor.map() 실험\n"
   ]
  },
  {
   "cell_type": "code",
   "execution_count": 16,
   "metadata": {},
   "outputs": [],
   "source": [
    "# demo_executor_map.py\n",
    "from time import sleep, strftime\n",
    "from concurrent import futures\n",
    "\n",
    "def display(*args):\n",
    "    print(strftime('[%H:%M:%S]'), end=' ')\n",
    "    print(*args)\n",
    "\n",
    "def loiter(n):\n",
    "    msg = '{}loiter({}): doing nothing for {}s...'\n",
    "    display(msg.format('\\t'*n, n, n))\n",
    "    sleep(n)\n",
    "    msg = '{}loiter({}): done.'\n",
    "    display(msg.format('\\t'*n, n))\n",
    "    return n * 10\n",
    "\n",
    "def main():\n",
    "    display(\"Script starting.\")\n",
    "    executor = futures.ThreadPoolExecutor(max_workers=3)\n",
    "    results = executor.map(loiter, range(5)) # 논블로킹 메서드\n",
    "    display('results:', results)\n",
    "    display(\"Waiting for individual results:\")\n",
    "    for i, result in enumerate(results): # next(results) 는 future.result() 호출 <- 블로킹\n",
    "        display('result {}: {}'.format(i, result))"
   ]
  },
  {
   "cell_type": "code",
   "execution_count": 17,
   "metadata": {},
   "outputs": [
    {
     "name": "stdout",
     "output_type": "stream",
     "text": [
      "[02:55:35] Script starting.\n",
      "[02:55:35] loiter(0): doing nothing for 0s...\n",
      "[02:55:35] loiter(0): done.\n",
      "[02:55:35] \tloiter(1): doing nothing for 1s...\n",
      "[02:55:35] \t\tloiter(2): doing nothing for 2s...\n",
      "[02:55:35] results: <generator object Executor.map.<locals>.result_iterator at 0x7f8270a7be50>\n",
      "[02:55:35] Waiting for individual results:\n",
      "[02:55:35] result 0: 0\n",
      "[02:55:35] \t\t\tloiter(3): doing nothing for 3s...\n",
      "[02:55:36] \tloiter(1): done.\n",
      "[02:55:36] \t\t\t\tloiter(4): doing nothing for 4s...\n",
      "[02:55:36] result 1: 10\n",
      "[02:55:37] \t\tloiter(2): done.\n",
      "[02:55:37] result 2: 20\n",
      "[02:55:38] \t\t\tloiter(3): done.\n",
      "[02:55:38] result 3: 30\n",
      "[02:55:40] \t\t\t\tloiter(4): done.\n",
      "[02:55:40] result 4: 40\n"
     ]
    }
   ],
   "source": [
    "main()"
   ]
  },
  {
   "cell_type": "markdown",
   "metadata": {},
   "source": [
    "## 17.5 진행 상황 출력하고 에러를 처리하며 내려받기\n",
    "* 기존코드는 에러처리 안함, 다양한 에러 조건 처리 테스트"
   ]
  },
  {
   "cell_type": "code",
   "execution_count": 25,
   "metadata": {},
   "outputs": [
    {
     "name": "stderr",
     "output_type": "stream",
     "text": [
      "100%|██████████| 1000/1000 [00:10<00:00, 96.60it/s]\n"
     ]
    }
   ],
   "source": [
    "import time\n",
    "from tqdm import tqdm\n",
    "for i in tqdm(range(1000)):\n",
    "    time.sleep(.01)"
   ]
  },
  {
   "cell_type": "code",
   "execution_count": 18,
   "metadata": {},
   "outputs": [
    {
     "name": "stdout",
     "output_type": "stream",
     "text": [
      "usage: flags2_threadpool.py [-h] [-a] [-e] [-l N] [-m CONCURRENT] [-s LABEL]\n",
      "                            [-v]\n",
      "                            [CC [CC ...]]\n",
      "\n",
      "Download flags for country codes. Default: top 20 countries by population.\n",
      "\n",
      "positional arguments:\n",
      "  CC                    country code or 1st letter (eg. B for BA...BZ)\n",
      "\n",
      "optional arguments:\n",
      "  -h, --help            show this help message and exit\n",
      "  -a, --all             get all available flags (AD to ZW)\n",
      "  -e, --every           get flags for every possible code (AA...ZZ)\n",
      "  -l N, --limit N       limit to N first codes\n",
      "  -m CONCURRENT, --max_req CONCURRENT\n",
      "                        maximum concurrent requests (default=30)\n",
      "  -s LABEL, --server LABEL\n",
      "                        Server to hit; one of DELAY, ERROR, LOCAL, REMOTE\n",
      "                        (default=LOCAL)\n",
      "  -v, --verbose         output detailed progress info\n"
     ]
    }
   ],
   "source": [
    "!python flags2_threadpool.py -h"
   ]
  },
  {
   "cell_type": "code",
   "execution_count": 26,
   "metadata": {},
   "outputs": [
    {
     "name": "stdout",
     "output_type": "stream",
     "text": [
      "REMOTE site: http://flupy.org/data/flags\n",
      "Searching for 20 flags: from BD to VN\n",
      "1 concurrent connection will be used.\n",
      "100%|███████████████████████████████████████████| 20/20 [00:10<00:00,  1.89it/s]\n",
      "--------------------\n",
      "0 flags downloaded.\n",
      "20 not found.\n",
      "Elapsed time: 10.61s\n"
     ]
    }
   ],
   "source": [
    "!python flags2_sequential.py -s REMOTE"
   ]
  },
  {
   "cell_type": "code",
   "execution_count": 27,
   "metadata": {},
   "outputs": [
    {
     "name": "stdout",
     "output_type": "stream",
     "text": [
      "REMOTE site: http://flupy.org/data/flags\n",
      "Searching for 78 flags: from AA to CZ\n",
      "30 concurrent connections will be used.\n",
      "100%|███████████████████████████████████████████| 78/78 [00:01<00:00, 41.19it/s]\n",
      "--------------------\n",
      "0 flags downloaded.\n",
      "78 not found.\n",
      "Elapsed time: 2.14s\n"
     ]
    }
   ],
   "source": [
    "!python flags2_threadpool.py -s REMOTE a b c"
   ]
  },
  {
   "cell_type": "code",
   "execution_count": 22,
   "metadata": {},
   "outputs": [
    {
     "name": "stdout",
     "output_type": "stream",
     "text": [
      "WARNING: pip is being invoked by an old script wrapper. This will fail in a future version of pip.\n",
      "Please see https://github.com/pypa/pip/issues/5599 for advice on fixing the underlying issue.\n",
      "To avoid this problem you can invoke Python with '-m pip' instead of running pip directly.\n",
      "Collecting aiohttp\n",
      "  Downloading aiohttp-3.6.2-cp37-cp37m-manylinux1_x86_64.whl (1.2 MB)\n",
      "\u001b[K     |████████████████████████████████| 1.2 MB 853 kB/s eta 0:00:01\n",
      "\u001b[?25hRequirement already satisfied: attrs>=17.3.0 in /opt/conda/lib/python3.7/site-packages (from aiohttp) (19.3.0)\n",
      "Collecting async-timeout<4.0,>=3.0\n",
      "  Downloading async_timeout-3.0.1-py3-none-any.whl (8.2 kB)\n",
      "Collecting multidict<5.0,>=4.5\n",
      "  Downloading multidict-4.7.6-cp37-cp37m-manylinux1_x86_64.whl (149 kB)\n",
      "\u001b[K     |████████████████████████████████| 149 kB 10.9 MB/s eta 0:00:01\n",
      "\u001b[?25hCollecting yarl<2.0,>=1.0\n",
      "  Downloading yarl-1.4.2-cp37-cp37m-manylinux1_x86_64.whl (256 kB)\n",
      "\u001b[K     |████████████████████████████████| 256 kB 8.5 MB/s eta 0:00:01\n",
      "\u001b[?25hRequirement already satisfied: chardet<4.0,>=2.0 in /opt/conda/lib/python3.7/site-packages (from aiohttp) (3.0.4)\n",
      "Requirement already satisfied: idna>=2.0 in /opt/conda/lib/python3.7/site-packages (from yarl<2.0,>=1.0->aiohttp) (2.8)\n",
      "Installing collected packages: async-timeout, multidict, yarl, aiohttp\n",
      "Successfully installed aiohttp-3.6.2 async-timeout-3.0.1 multidict-4.7.6 yarl-1.4.2\n"
     ]
    }
   ],
   "source": [
    "!pip install aiohttp"
   ]
  },
  {
   "cell_type": "code",
   "execution_count": 28,
   "metadata": {},
   "outputs": [
    {
     "name": "stdout",
     "output_type": "stream",
     "text": [
      "REMOTE site: http://flupy.org/data/flags\n",
      "Searching for 100 flags: from AD to LK\n",
      "100 concurrent connections will be used.\n",
      "100%|████████████████████████████████████████| 100/100 [00:00<00:00, 137.92it/s]\n",
      "--------------------\n",
      "0 flags downloaded.\n",
      "100 not found.\n",
      "Elapsed time: 0.75s\n"
     ]
    }
   ],
   "source": [
    "!python flags2_asyncio.py -s REMOTE -al 100 -m 100"
   ]
  },
  {
   "cell_type": "markdown",
   "metadata": {},
   "source": [
    "### 17.5.1 flags2 예제에서의 에러 처리"
   ]
  },
  {
   "cell_type": "code",
   "execution_count": null,
   "metadata": {},
   "outputs": [],
   "source": [
    "def get_flag(base_url, cc):\n",
    "    url = '{}/{cc}/{cc}.gif'.format(base_url, cc=cc.lower())\n",
    "    resp = requests.get(url)\n",
    "    if resp.status_code != 200:  # http 응답 체크\n",
    "        resp.raise_for_status()\n",
    "    return resp.content\n",
    "\n",
    "\n",
    "def download_one(cc, base_url, verbose=False):\n",
    "    try:\n",
    "        image = get_flag(base_url, cc)\n",
    "    except requests.exceptions.HTTPError as exc:  # 위의 예외가 발생하면?\n",
    "        res = exc.response\n",
    "        if res.status_code == 404:\n",
    "            status = HTTPStatus.not_found  # 404 인 경우만 처리\n",
    "            msg = 'not found'\n",
    "        else:  # 그 외인 경우, 같은 HTTPError 예외 다시 발생\n",
    "            raise\n",
    "    else:\n",
    "        save_flag(image, cc.lower() + '.gif')\n",
    "        status = HTTPStatus.ok\n",
    "        msg = 'OK'\n",
    "\n",
    "    if verbose:  # 디버깅 모드일 경우, 로그 출력\n",
    "        print(cc, msg)\n",
    "\n",
    "    return Result(status, cc)"
   ]
  },
  {
   "cell_type": "code",
   "execution_count": null,
   "metadata": {},
   "outputs": [],
   "source": [
    "def download_many(cc_list, base_url, verbose, max_req):\n",
    "    counter = collections.Counter()  # HttpStatus 통계 구할때 사용\n",
    "    cc_iter = sorted(cc_list)\n",
    "    if not verbose:\n",
    "        cc_iter = tqdm.tqdm(cc_iter)\n",
    "    for cc in cc_iter:\n",
    "        try:\n",
    "            res = download_one(cc, base_url, verbose)\n",
    "        except requests.exceptions.HTTPError as exc:\n",
    "            error_msg = 'HTTP error {res.status_code} - {res.reason}'\n",
    "            error_msg = error_msg.format(res=exc.response)\n",
    "        except requests.exceptions.ConnectionError as exc:\n",
    "            error_msg = 'Connection error'\n",
    "        else:\n",
    "            error_msg = ''\n",
    "            status = res.status\n",
    "\n",
    "        if error_msg:\n",
    "            status = HTTPStatus.error\n",
    "        counter[status] += 1\n",
    "        if verbose and error_msg:\n",
    "            print('*** Error for {}: {}'.format(cc, error_msg))\n",
    "\n",
    "    return counter"
   ]
  },
  {
   "cell_type": "markdown",
   "metadata": {},
   "source": [
    "### 17.5.2 futures.as_completed() 사용하기"
   ]
  },
  {
   "cell_type": "code",
   "execution_count": null,
   "metadata": {},
   "outputs": [],
   "source": [
    "import collections\n",
    "from concurrent import futures\n",
    "\n",
    "import requests\n",
    "import tqdm\n",
    "\n",
    "from flags2_common import main, HTTPStatus\n",
    "from flags2_sequential import download_one\n",
    "\n",
    "DEFAULT_CONCUR_REQ = 30\n",
    "MAX_CONCUR_REQ = 1000\n",
    "\n",
    "\n",
    "def download_many(cc_list, base_url, verbose, concur_req):\n",
    "    counter = collections.Counter()\n",
    "    with futures.ThreadPoolExecutor(max_workers=concur_req) as executor:\n",
    "        to_do_map = {}\n",
    "        for cc in sorted(cc_list):\n",
    "            future = executor.submit(download_one,\n",
    "                            cc, base_url, verbose)  # 첫번째 인수 콜러블, 나머지는 인수는 콜러블에 전달되는 인수\n",
    "            to_do_map[future] = cc\n",
    "        done_iter = futures.as_completed(to_do_map)  # 완료되는 순서대로 반환\n",
    "        if not verbose:\n",
    "            done_iter = tqdm.tqdm(done_iter, total=len(cc_list))\n",
    "        for future in done_iter:  # 완료되는 순서대로 반환\n",
    "            try:\n",
    "                res = future.result() # 블로킹 되지 않음.\n",
    "            except requests.exceptions.HTTPError as exc:\n",
    "                error_msg = 'HTTP {res.status_code} - {res.reason}'\n",
    "                error_msg = error_msg.format(res=exc.response)\n",
    "            except requests.exceptions.ConnectionError as exc:\n",
    "                error_msg = 'Connection error'\n",
    "            else:\n",
    "                error_msg = ''\n",
    "                status = res.status\n",
    "\n",
    "            if error_msg:\n",
    "                status = HTTPStatus.error\n",
    "            counter[status] += 1\n",
    "            if verbose and error_msg:\n",
    "                cc = to_do_map[future]\n",
    "                print('*** Error for {}: {}'.format(cc, error_msg))\n",
    "\n",
    "    return counter\n",
    "\n",
    "\n",
    "if __name__ == '__main__':\n",
    "    main(download_many, DEFAULT_CONCUR_REQ, MAX_CONCUR_REQ)"
   ]
  },
  {
   "cell_type": "markdown",
   "metadata": {},
   "source": [
    "### 17.5.3 스레드 및 멀티프로세스의 대안\n",
    "* 기존 thread 모듈도 있긴 하지만, futures.ThreadPoolExecutor 나 threading 모듈 사용\n",
    "* 스레드간 데이터를 전송할 때에는 queue 모듈에서 제공하는 스레드 안전한 큐 사용\n",
    "* 계산 위주 작업의 경우, GIL 때문에 스레드 대신 대안 필요\n",
    "    * futures.ProcessPoolExecutor\n",
    "    * multiprocessing -> 데이터 공유를 쉽게 해줌"
   ]
  },
  {
   "cell_type": "code",
   "execution_count": null,
   "metadata": {},
   "outputs": [],
   "source": []
  }
 ],
 "metadata": {
  "kernelspec": {
   "display_name": "Python 3",
   "language": "python",
   "name": "python3"
  },
  "language_info": {
   "codemirror_mode": {
    "name": "ipython",
    "version": 3
   },
   "file_extension": ".py",
   "mimetype": "text/x-python",
   "name": "python",
   "nbconvert_exporter": "python",
   "pygments_lexer": "ipython3",
   "version": "3.7.4"
  }
 },
 "nbformat": 4,
 "nbformat_minor": 4
}
