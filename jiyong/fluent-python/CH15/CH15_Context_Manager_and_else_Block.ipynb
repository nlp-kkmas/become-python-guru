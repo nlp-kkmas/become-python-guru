{
 "cells": [
  {
   "cell_type": "markdown",
   "metadata": {},
   "source": [
    "# CH15. 콘텐스트 관리자와 else 블록\n",
    "* with 문과 콘텍스트 관리자\n",
    "* for, while, try 문에서 else 블록"
   ]
  },
  {
   "cell_type": "markdown",
   "metadata": {},
   "source": [
    "## 15.1 이것 다음에 저것: if 문 이외에서의 else 블록\n",
    "* for : for 루프가 완전히 실행된 후에 else 블록 실행 (중간에 break 에 걸리면 실행 안됨)\n",
    "* while : 조건식이 거짓이 되어 while 루프를 빠져나온 후에 else 블록 실행 (중간에 break 에 걸리면 실행 안됨)\n",
    "* try : try 블록에서 예외가 발생하지 않을 때만 else 블록 실행 (else 블록 내에서는 예외처리 안됨)"
   ]
  },
  {
   "cell_type": "code",
   "execution_count": 12,
   "metadata": {},
   "outputs": [
    {
     "ename": "ValueError",
     "evalue": "No banana found!",
     "output_type": "error",
     "traceback": [
      "\u001b[0;31m---------------------------------------------------------------------------\u001b[0m",
      "\u001b[0;31mValueError\u001b[0m                                Traceback (most recent call last)",
      "\u001b[0;32m<ipython-input-12-ecbe97ddb0a3>\u001b[0m in \u001b[0;36m<module>\u001b[0;34m\u001b[0m\n\u001b[1;32m      4\u001b[0m     \u001b[0;32mcontinue\u001b[0m\u001b[0;34m\u001b[0m\u001b[0;34m\u001b[0m\u001b[0m\n\u001b[1;32m      5\u001b[0m \u001b[0;32melse\u001b[0m\u001b[0;34m:\u001b[0m\u001b[0;34m\u001b[0m\u001b[0;34m\u001b[0m\u001b[0m\n\u001b[0;32m----> 6\u001b[0;31m     \u001b[0;32mraise\u001b[0m \u001b[0mValueError\u001b[0m\u001b[0;34m(\u001b[0m\u001b[0;34m'No banana found!'\u001b[0m\u001b[0;34m)\u001b[0m\u001b[0;34m\u001b[0m\u001b[0;34m\u001b[0m\u001b[0m\n\u001b[0m\u001b[1;32m      7\u001b[0m \u001b[0;34m\u001b[0m\u001b[0m\n",
      "\u001b[0;31mValueError\u001b[0m: No banana found!"
     ]
    }
   ],
   "source": [
    "my_list = ['banana', 'candy']\n",
    "\n",
    "for item in my_list:\n",
    "    continue\n",
    "else:\n",
    "    raise ValueError('No banana found!')\n",
    "        "
   ]
  },
  {
   "cell_type": "code",
   "execution_count": 1,
   "metadata": {},
   "outputs": [],
   "source": [
    "my_list = ['banana', 'candy']\n",
    "\n",
    "for item in my_list:\n",
    "    if item == 'banana':\n",
    "        break\n",
    "else:\n",
    "    raise ValueError('No banana found!')\n",
    "        "
   ]
  },
  {
   "cell_type": "code",
   "execution_count": 2,
   "metadata": {},
   "outputs": [
    {
     "ename": "ValueError",
     "evalue": "No banana found!",
     "output_type": "error",
     "traceback": [
      "\u001b[0;31m---------------------------------------------------------------------------\u001b[0m",
      "\u001b[0;31mValueError\u001b[0m                                Traceback (most recent call last)",
      "\u001b[0;32m<ipython-input-2-fa75b0531af0>\u001b[0m in \u001b[0;36m<module>\u001b[0;34m\u001b[0m\n\u001b[1;32m      5\u001b[0m         \u001b[0;32mbreak\u001b[0m\u001b[0;34m\u001b[0m\u001b[0;34m\u001b[0m\u001b[0m\n\u001b[1;32m      6\u001b[0m \u001b[0;32melse\u001b[0m\u001b[0;34m:\u001b[0m\u001b[0;34m\u001b[0m\u001b[0;34m\u001b[0m\u001b[0m\n\u001b[0;32m----> 7\u001b[0;31m     \u001b[0;32mraise\u001b[0m \u001b[0mValueError\u001b[0m\u001b[0;34m(\u001b[0m\u001b[0;34m'No banana found!'\u001b[0m\u001b[0;34m)\u001b[0m\u001b[0;34m\u001b[0m\u001b[0;34m\u001b[0m\u001b[0m\n\u001b[0m\u001b[1;32m      8\u001b[0m \u001b[0;34m\u001b[0m\u001b[0m\n",
      "\u001b[0;31mValueError\u001b[0m: No banana found!"
     ]
    }
   ],
   "source": [
    "my_list = ['strawberry', 'candy']\n",
    "\n",
    "for item in my_list:\n",
    "    if item == 'banana':\n",
    "        break\n",
    "else:\n",
    "    raise ValueError('No banana found!')\n",
    "        "
   ]
  },
  {
   "cell_type": "code",
   "execution_count": null,
   "metadata": {},
   "outputs": [],
   "source": [
    "try:\n",
    "    dangerous_call()\n",
    "    after_call()\n",
    "    # 가독성 측면에서 좋지 않음.\n",
    "except OSError:\n",
    "    log('OSError...')"
   ]
  },
  {
   "cell_type": "code",
   "execution_count": null,
   "metadata": {},
   "outputs": [],
   "source": [
    "try:\n",
    "    dangerous_call()\n",
    "except OSError:\n",
    "    log('OSError...')\n",
    "else:\n",
    "    after_call()"
   ]
  },
  {
   "cell_type": "markdown",
   "metadata": {},
   "source": [
    "* EAFP : Easier to Ask for Forgiveness than Permission\n",
    " - 올바르게 키나 속성이 있다고 가정하고 가정이 잘못되었을때 예외를 처리하는 코딩 스타일 (파이썬 스타일)\n",
    "\n",
    "* LBYL : Look Before You Leap\n",
    " - 조회하기 전에 명시적으로 전제 조건을 검사, if 문을 많이 사용하는 특징\n",
    " - 다중 스레드 환경에서 '보는' 단계와 '뻗는' 단계가 경쟁 조건이 발생할 위험이 있음"
   ]
  },
  {
   "cell_type": "markdown",
   "metadata": {},
   "source": [
    "## 15.2 콘텐스트 관리자와 with 블록"
   ]
  },
  {
   "cell_type": "markdown",
   "metadata": {},
   "source": [
    "* 반복자가 for 문을 제어하기 위해 존재하는 것처럼, 콘텍스트 관리자 객체는 with 문을 제어하기 위해 존재\n",
    "* with 문은 try/finally 패턴을 단순화하기 위해 설계 (finally 안에 중요한 리소스를 해제하거나 임시 상태를 복원하는 코드가 들어갈때)\n",
    "* 콘텍스트 관리자 프로토콜은 `__enter__()` 와 `__exit__()` 메서드로 구성\n"
   ]
  },
  {
   "cell_type": "code",
   "execution_count": 5,
   "metadata": {},
   "outputs": [],
   "source": [
    "try:\n",
    "    fp_temp = open('mirror.py')\n",
    "    src_temp = fp_temp.read(60)\n",
    "finally:\n",
    "    fp_temp.close()"
   ]
  },
  {
   "cell_type": "code",
   "execution_count": 1,
   "metadata": {},
   "outputs": [
    {
     "data": {
      "text/plain": [
       "60"
      ]
     },
     "execution_count": 1,
     "metadata": {},
     "output_type": "execute_result"
    }
   ],
   "source": [
    "with open('mirror.py') as fp:\n",
    "    src = fp.read(60)\n",
    "\n",
    "len(src)"
   ]
  },
  {
   "cell_type": "code",
   "execution_count": 2,
   "metadata": {},
   "outputs": [
    {
     "data": {
      "text/plain": [
       "<_io.TextIOWrapper name='mirror.py' mode='r' encoding='UTF-8'>"
      ]
     },
     "execution_count": 2,
     "metadata": {},
     "output_type": "execute_result"
    }
   ],
   "source": [
    "fp"
   ]
  },
  {
   "cell_type": "code",
   "execution_count": 3,
   "metadata": {},
   "outputs": [
    {
     "data": {
      "text/plain": [
       "(True, 'UTF-8')"
      ]
     },
     "execution_count": 3,
     "metadata": {},
     "output_type": "execute_result"
    }
   ],
   "source": [
    "fp.closed, fp.encoding"
   ]
  },
  {
   "cell_type": "code",
   "execution_count": 4,
   "metadata": {},
   "outputs": [
    {
     "ename": "ValueError",
     "evalue": "I/O operation on closed file.",
     "output_type": "error",
     "traceback": [
      "\u001b[0;31m---------------------------------------------------------------------------\u001b[0m",
      "\u001b[0;31mValueError\u001b[0m                                Traceback (most recent call last)",
      "\u001b[0;32m<ipython-input-4-132011e948ad>\u001b[0m in \u001b[0;36m<module>\u001b[0;34m\u001b[0m\n\u001b[0;32m----> 1\u001b[0;31m \u001b[0mfp\u001b[0m\u001b[0;34m.\u001b[0m\u001b[0mread\u001b[0m\u001b[0;34m(\u001b[0m\u001b[0;36m60\u001b[0m\u001b[0;34m)\u001b[0m\u001b[0;34m\u001b[0m\u001b[0;34m\u001b[0m\u001b[0m\n\u001b[0m",
      "\u001b[0;31mValueError\u001b[0m: I/O operation on closed file."
     ]
    }
   ],
   "source": [
    "fp.read(60)"
   ]
  },
  {
   "cell_type": "code",
   "execution_count": null,
   "metadata": {},
   "outputs": [],
   "source": []
  },
  {
   "cell_type": "code",
   "execution_count": 6,
   "metadata": {},
   "outputs": [],
   "source": [
    "class LookingGlass:\n",
    "\n",
    "    def __enter__(self):\n",
    "        import sys\n",
    "        self.original_write = sys.stdout.write\n",
    "        sys.stdout.write = self.reverse_write\n",
    "        return 'JABBERWOCKY' # as 뒤에 변수에 할당되는 객체\n",
    "    \n",
    "    def reverse_write(self, text):\n",
    "        self.original_write(text[::-1]) # return?\n",
    "        \n",
    "    def __exit__(self, exc_type, exc_value, traceback):\n",
    "        import sys\n",
    "        sys.stdout.write = self.original_write\n",
    "        if exc_type is ZeroDivisionError:\n",
    "            print('Please DO NOT divide by zero!')\n",
    "            return True\n",
    "        "
   ]
  },
  {
   "cell_type": "code",
   "execution_count": 7,
   "metadata": {},
   "outputs": [
    {
     "name": "stdout",
     "output_type": "stream",
     "text": [
      "pordwonS dna yttiK ,ecilA\n",
      "YKCOWREBBAJ\n"
     ]
    }
   ],
   "source": [
    "from mirror import LookingGlass\n",
    "\n",
    "with LookingGlass() as what: # __enter__ 가 리턴하는 객체가 what 에 할당 (선택사항.)\n",
    "    print('Alice, Kitty and Snowdrop')\n",
    "    print(what)\n"
   ]
  },
  {
   "cell_type": "code",
   "execution_count": 8,
   "metadata": {},
   "outputs": [
    {
     "data": {
      "text/plain": [
       "'JABBERWOCKY'"
      ]
     },
     "execution_count": 8,
     "metadata": {},
     "output_type": "execute_result"
    }
   ],
   "source": [
    "what"
   ]
  },
  {
   "cell_type": "code",
   "execution_count": 9,
   "metadata": {},
   "outputs": [
    {
     "name": "stdout",
     "output_type": "stream",
     "text": [
      "Back to normal.\n"
     ]
    }
   ],
   "source": [
    "print('Back to normal.')"
   ]
  },
  {
   "cell_type": "code",
   "execution_count": null,
   "metadata": {},
   "outputs": [],
   "source": []
  },
  {
   "cell_type": "code",
   "execution_count": 10,
   "metadata": {},
   "outputs": [
    {
     "data": {
      "text/plain": [
       "<mirror.LookingGlass at 0x7fda783bd210>"
      ]
     },
     "execution_count": 10,
     "metadata": {},
     "output_type": "execute_result"
    }
   ],
   "source": [
    "from mirror import LookingGlass\n",
    "manager = LookingGlass()\n",
    "manager"
   ]
  },
  {
   "cell_type": "code",
   "execution_count": 11,
   "metadata": {},
   "outputs": [
    {
     "data": {
      "text/plain": [
       "True"
      ]
     },
     "execution_count": 11,
     "metadata": {},
     "output_type": "execute_result"
    }
   ],
   "source": [
    "monster = manager.__enter__()\n",
    "monster == 'JABBERWOCKY'"
   ]
  },
  {
   "cell_type": "code",
   "execution_count": 12,
   "metadata": {},
   "outputs": [
    {
     "data": {
      "text/plain": [
       "'JABBERWOCKY'"
      ]
     },
     "execution_count": 12,
     "metadata": {},
     "output_type": "execute_result"
    }
   ],
   "source": [
    "monster"
   ]
  },
  {
   "cell_type": "code",
   "execution_count": 13,
   "metadata": {},
   "outputs": [
    {
     "data": {
      "text/plain": [
       "<mirror.LookingGlass at 0x7fda783bd210>"
      ]
     },
     "execution_count": 13,
     "metadata": {},
     "output_type": "execute_result"
    }
   ],
   "source": [
    "manager"
   ]
  },
  {
   "cell_type": "code",
   "execution_count": 14,
   "metadata": {},
   "outputs": [],
   "source": [
    "manager.__exit__(None, None, None)"
   ]
  },
  {
   "cell_type": "code",
   "execution_count": 15,
   "metadata": {},
   "outputs": [
    {
     "data": {
      "text/plain": [
       "'JABBERWOCKY'"
      ]
     },
     "execution_count": 15,
     "metadata": {},
     "output_type": "execute_result"
    }
   ],
   "source": [
    "monster"
   ]
  },
  {
   "cell_type": "code",
   "execution_count": 17,
   "metadata": {},
   "outputs": [
    {
     "name": "stdout",
     "output_type": "stream",
     "text": [
      "eurT\n",
      "YKCOWREBBAJ\n",
      "JABBERWOCKY\n"
     ]
    }
   ],
   "source": [
    "## 안되는데.. 붙여서 해보면?\n",
    "from mirror import LookingGlass\n",
    "manager = LookingGlass()\n",
    "monster = manager.__enter__()\n",
    "print(monster == 'JABBERWOCKY')\n",
    "print(monster)\n",
    "manager.__exit__(None, None, None)\n",
    "print(monster)\n",
    "# 주피터 환경은 세션마다 설정이 새로 되는듯?"
   ]
  },
  {
   "cell_type": "markdown",
   "metadata": {},
   "source": [
    "## 15.3 contextlib 유틸리티"
   ]
  },
  {
   "cell_type": "markdown",
   "metadata": {},
   "source": [
    "* closing() : close() 메서드를 제공하지만 `__enter__() / __exit__()` 프로토콜을 구현하지 않는 객체로 부터 콘텍스트 관리자를 생성하는 함수\n",
    "* suppress : 지정한 예외를 임시로 무시하는 콘텍스트 관리자\n",
    "* @contextmanager : 클래스를 생성하고 프로토콜을 구현하는 대신, 간단한 제너레이터 함수로부터 콘텍스트 관리자를 생성할 수 있게 해주는 데커레이터\n",
    "* ContextDecorator : 콘텍스트 관리자를 함수 데커레이터로도 사용할 수 있게 해주는 기반 클래스\n",
    "* ExitStack : 여러 콘텍스트 관리자를 입력할 수 있게 해주는 콘텍스트 관리자, with 블록이 끝나면 `__exit__()` 메서드를 LIFO 순서로 호출"
   ]
  },
  {
   "cell_type": "markdown",
   "metadata": {},
   "source": [
    "## 15.4 @contextmanager 사용하기\n",
    "* 클래스 대신 yield 문 하나를 가진 제너레이터만 구현하면 됨"
   ]
  },
  {
   "cell_type": "code",
   "execution_count": 36,
   "metadata": {},
   "outputs": [],
   "source": [
    "import contextlib\n",
    "\n",
    "@contextlib.contextmanager\n",
    "def looking_glass():\n",
    "    import sys\n",
    "    original_write = sys.stdout.write\n",
    "    \n",
    "    def reverse_write(text):\n",
    "        original_write(text[::-1])\n",
    "    \n",
    "    sys.stdout.write = reverse_write # with 절에서 호출\n",
    "    yield 'JABBERWOCKY' # as 뒤에 변수에 할당\n",
    "    sys.stdout.write = original_write # with 절이 끝나고 호출"
   ]
  },
  {
   "cell_type": "code",
   "execution_count": 37,
   "metadata": {},
   "outputs": [
    {
     "name": "stdout",
     "output_type": "stream",
     "text": [
      "pordwonS dna yttiK ,ecilA\n",
      "YKCOWREBBAJ\n"
     ]
    }
   ],
   "source": [
    "with looking_glass() as what:\n",
    "    print('Alice, Kitty and Snowdrop')\n",
    "    print(what)"
   ]
  },
  {
   "cell_type": "code",
   "execution_count": 38,
   "metadata": {},
   "outputs": [
    {
     "data": {
      "text/plain": [
       "'JABBERWOCKY'"
      ]
     },
     "execution_count": 38,
     "metadata": {},
     "output_type": "execute_result"
    }
   ],
   "source": [
    "what"
   ]
  },
  {
   "cell_type": "code",
   "execution_count": 39,
   "metadata": {},
   "outputs": [
    {
     "name": "stdout",
     "output_type": "stream",
     "text": [
      "pordwonS dna yttiK ,ecilA\n"
     ]
    },
    {
     "ename": "ZeroDivisionError",
     "evalue": "division by zero",
     "output_type": "error",
     "traceback": [
      "\u001b[0;31m---------------------------------------------------------------------------\u001b[0m",
      "\u001b[0;31mZeroDivisionError\u001b[0m                         Traceback (most recent call last)",
      "\u001b[0;32m<ipython-input-39-63ecc7a4fafb>\u001b[0m in \u001b[0;36m<module>\u001b[0;34m\u001b[0m\n\u001b[1;32m      2\u001b[0m \u001b[0;32mwith\u001b[0m \u001b[0mlooking_glass\u001b[0m\u001b[0;34m(\u001b[0m\u001b[0;34m)\u001b[0m \u001b[0;32mas\u001b[0m \u001b[0mwhat\u001b[0m\u001b[0;34m:\u001b[0m\u001b[0;34m\u001b[0m\u001b[0;34m\u001b[0m\u001b[0m\n\u001b[1;32m      3\u001b[0m     \u001b[0mprint\u001b[0m\u001b[0;34m(\u001b[0m\u001b[0;34m'Alice, Kitty and Snowdrop'\u001b[0m\u001b[0;34m)\u001b[0m\u001b[0;34m\u001b[0m\u001b[0;34m\u001b[0m\u001b[0m\n\u001b[0;32m----> 4\u001b[0;31m     \u001b[0;36m3\u001b[0m\u001b[0;34m/\u001b[0m\u001b[0;36m0\u001b[0m\u001b[0;34m\u001b[0m\u001b[0;34m\u001b[0m\u001b[0m\n\u001b[0m\u001b[1;32m      5\u001b[0m     \u001b[0mprint\u001b[0m\u001b[0;34m(\u001b[0m\u001b[0mwhat\u001b[0m\u001b[0;34m)\u001b[0m\u001b[0;34m\u001b[0m\u001b[0;34m\u001b[0m\u001b[0m\n",
      "\u001b[0;31mZeroDivisionError\u001b[0m: division by zero"
     ]
    }
   ],
   "source": [
    "# 위 코드가 문제가 될수 있는 상황\n",
    "with looking_glass() as what:\n",
    "    print('Alice, Kitty and Snowdrop')\n",
    "    3/0\n",
    "    print(what)"
   ]
  },
  {
   "cell_type": "code",
   "execution_count": 41,
   "metadata": {},
   "outputs": [
    {
     "name": "stdout",
     "output_type": "stream",
     "text": [
      "lamron ot kcab\n"
     ]
    }
   ],
   "source": [
    "print('back to normal')"
   ]
  },
  {
   "cell_type": "code",
   "execution_count": 42,
   "metadata": {},
   "outputs": [
    {
     "name": "stdout",
     "output_type": "stream",
     "text": [
      "Alice, Kitty and Snowdrop\n"
     ]
    },
    {
     "ename": "ZeroDivisionError",
     "evalue": "division by zero",
     "output_type": "error",
     "traceback": [
      "\u001b[0;31m---------------------------------------------------------------------------\u001b[0m",
      "\u001b[0;31mZeroDivisionError\u001b[0m                         Traceback (most recent call last)",
      "\u001b[0;32m<ipython-input-42-b2b85591cea3>\u001b[0m in \u001b[0;36m<module>\u001b[0;34m\u001b[0m\n\u001b[1;32m      1\u001b[0m \u001b[0;32mwith\u001b[0m \u001b[0mlooking_glass\u001b[0m\u001b[0;34m(\u001b[0m\u001b[0;34m)\u001b[0m \u001b[0;32mas\u001b[0m \u001b[0mwhat\u001b[0m\u001b[0;34m:\u001b[0m\u001b[0;34m\u001b[0m\u001b[0;34m\u001b[0m\u001b[0m\n\u001b[1;32m      2\u001b[0m     \u001b[0mprint\u001b[0m\u001b[0;34m(\u001b[0m\u001b[0;34m'Alice, Kitty and Snowdrop'\u001b[0m\u001b[0;34m)\u001b[0m\u001b[0;34m\u001b[0m\u001b[0;34m\u001b[0m\u001b[0m\n\u001b[0;32m----> 3\u001b[0;31m     \u001b[0;36m3\u001b[0m\u001b[0;34m/\u001b[0m\u001b[0;36m0\u001b[0m\u001b[0;34m\u001b[0m\u001b[0;34m\u001b[0m\u001b[0m\n\u001b[0m\u001b[1;32m      4\u001b[0m     \u001b[0mprint\u001b[0m\u001b[0;34m(\u001b[0m\u001b[0mwhat\u001b[0m\u001b[0;34m)\u001b[0m\u001b[0;34m\u001b[0m\u001b[0;34m\u001b[0m\u001b[0m\n",
      "\u001b[0;31mZeroDivisionError\u001b[0m: division by zero"
     ]
    }
   ],
   "source": [
    "with looking_glass() as what:\n",
    "    print('Alice, Kitty and Snowdrop')\n",
    "    3/0\n",
    "    print(what)"
   ]
  },
  {
   "cell_type": "code",
   "execution_count": 43,
   "metadata": {},
   "outputs": [],
   "source": [
    "# 예외처리까지 한 코드\n",
    "import contextlib\n",
    "\n",
    "@contextlib.contextmanager\n",
    "def looking_glass():\n",
    "    import sys\n",
    "    original_write = sys.stdout.write\n",
    "    \n",
    "    def reverse_write(text):\n",
    "        original_write(text[::-1])\n",
    "    \n",
    "    sys.stdout.write = reverse_write\n",
    "    msg = ''\n",
    "    try:\n",
    "        yield 'JABBERWOCKY'\n",
    "    except ZeroDivisionError:\n",
    "        msg = 'Please DO NOT divide by zero!'\n",
    "    finally:\n",
    "        sys.stdout.write = original_write\n",
    "        if msg:\n",
    "            print(msg)"
   ]
  },
  {
   "cell_type": "code",
   "execution_count": 44,
   "metadata": {},
   "outputs": [
    {
     "name": "stdout",
     "output_type": "stream",
     "text": [
      "pordwonS dna yttiK ,ecilA\n",
      "YKCOWREBBAJ\n"
     ]
    }
   ],
   "source": [
    "with looking_glass() as what:\n",
    "    print('Alice, Kitty and Snowdrop')\n",
    "    print(what)"
   ]
  },
  {
   "cell_type": "code",
   "execution_count": 45,
   "metadata": {},
   "outputs": [
    {
     "data": {
      "text/plain": [
       "'JABBERWOCKY'"
      ]
     },
     "execution_count": 45,
     "metadata": {},
     "output_type": "execute_result"
    }
   ],
   "source": [
    "what"
   ]
  },
  {
   "cell_type": "markdown",
   "metadata": {},
   "source": [
    "`__exit__()` 메서드에서는 예외처리가 완료 되었음을 알려주기 위해 True 를 반환하고 반대로 예외를 전파하기 위해서는 None 을 반환하지만,\n",
    "\n",
    "@contextmanager 에서는 예외를 모두 처리하고, 전파하기 위해서는 명시적으로 예외를 발생(raise)시켜야 한다."
   ]
  },
  {
   "cell_type": "code",
   "execution_count": 46,
   "metadata": {},
   "outputs": [],
   "source": [
    "from contextlib import contextmanager\n",
    "import io\n",
    "import os\n",
    "\n",
    "\n",
    "@contextmanager\n",
    "def inplace(filename, mode='r', buffering=-1, encoding=None, errors=None,\n",
    "            newline=None, backup_extension=None):\n",
    "    \"\"\"Allow for a file to be replaced with new content.\n",
    "\n",
    "    yields a tuple of (readable, writable) file objects, where writable\n",
    "    replaces readable.\n",
    "\n",
    "    If an exception occurs, the old file is restored, removing the\n",
    "    written data.\n",
    "\n",
    "    mode should *not* use 'w', 'a' or '+'; only read-only-modes are supported.\n",
    "\n",
    "    \"\"\"\n",
    "\n",
    "    # move existing file to backup, create new file with same permissions\n",
    "    # borrowed extensively from the fileinput module\n",
    "    if set(mode).intersection('wa+'):\n",
    "        raise ValueError('Only read-only file modes can be used')\n",
    "\n",
    "    backupfilename = filename + (backup_extension or os.extsep + 'bak')\n",
    "    try:\n",
    "        os.unlink(backupfilename)\n",
    "    except os.error:\n",
    "        pass\n",
    "    os.rename(filename, backupfilename)\n",
    "    readable = io.open(backupfilename, mode, buffering=buffering,\n",
    "                       encoding=encoding, errors=errors, newline=newline)\n",
    "    try:\n",
    "        perm = os.fstat(readable.fileno()).st_mode\n",
    "    except OSError:\n",
    "        writable = open(filename, 'w' + mode.replace('r', ''),\n",
    "                        buffering=buffering, encoding=encoding, errors=errors,\n",
    "                        newline=newline)\n",
    "    else:\n",
    "        os_mode = os.O_CREAT | os.O_WRONLY | os.O_TRUNC\n",
    "        if hasattr(os, 'O_BINARY'):\n",
    "            os_mode |= os.O_BINARY\n",
    "        fd = os.open(filename, os_mode, perm)\n",
    "        writable = io.open(fd, \"w\" + mode.replace('r', ''), buffering=buffering,\n",
    "                           encoding=encoding, errors=errors, newline=newline)\n",
    "        try:\n",
    "            if hasattr(os, 'chmod'):\n",
    "                os.chmod(filename, perm)\n",
    "        except OSError:\n",
    "            pass\n",
    "    try:\n",
    "        yield readable, writable\n",
    "    except Exception:\n",
    "        # move backup back\n",
    "        try:\n",
    "            os.unlink(filename)\n",
    "        except os.error:\n",
    "            pass\n",
    "        os.rename(backupfilename, filename)\n",
    "        raise\n",
    "    finally:\n",
    "        readable.close()\n",
    "        writable.close()\n",
    "        try:\n",
    "            os.unlink(backupfilename)\n",
    "        except os.error:\n",
    "            pass"
   ]
  },
  {
   "cell_type": "code",
   "execution_count": 47,
   "metadata": {},
   "outputs": [],
   "source": [
    "import csv\n",
    "\n",
    "with inplace('test.csv', 'r', newline='') as (infh, outfh):\n",
    "    reader = csv.reader(infh)\n",
    "    writer = csv.writer(outfh)\n",
    "    \n",
    "    for row in reader:\n",
    "        row += ['new', 'columns']\n",
    "        writer.writerow(row)"
   ]
  },
  {
   "cell_type": "code",
   "execution_count": null,
   "metadata": {},
   "outputs": [],
   "source": []
  },
  {
   "cell_type": "code",
   "execution_count": null,
   "metadata": {},
   "outputs": [],
   "source": []
  }
 ],
 "metadata": {
  "kernelspec": {
   "display_name": "Python 3",
   "language": "python",
   "name": "python3"
  },
  "language_info": {
   "codemirror_mode": {
    "name": "ipython",
    "version": 3
   },
   "file_extension": ".py",
   "mimetype": "text/x-python",
   "name": "python",
   "nbconvert_exporter": "python",
   "pygments_lexer": "ipython3",
   "version": "3.7.4"
  }
 },
 "nbformat": 4,
 "nbformat_minor": 4
}
