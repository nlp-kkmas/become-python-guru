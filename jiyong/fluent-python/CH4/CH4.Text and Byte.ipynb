{
 "cells": [
  {
   "cell_type": "markdown",
   "metadata": {},
   "source": [
    "# CH4 텍스트와 바이트"
   ]
  },
  {
   "cell_type": "markdown",
   "metadata": {},
   "source": [
    "## 4.1 문자문제\n",
    "* 문자열 (string) : 문자의 `열`\n",
    "* 문자 (char) -> 유니코드 문자\n",
    "    * 파이썬3 str\n",
    "    * 파이썬2 unicode (str은 유니코드가 아니다)\n",
    "* 코드 포인트 (code point) : 문자의 단위 원소\n",
    "    * 10진수 0에서 1,114,111 까지의 숫자\n",
    "    * `U+` 접두사를 붙여 4자리에서 6자리 사이의 16진수로 표현\n",
    "    * ex) A -> U+0041\n",
    "* 인코딩 / 디코딩\n",
    "    * 인코딩 : 코드 포인트를 바이트 시퀀스로 변환하는 알고리즘\n",
    "    * ex) A (U+0041) -> \\x41 (UTF-8), \\x41\\x00 (UTF-16LE)\n",
    "    * 디코딩 : 바이트 시퀀스를 코드 포인트로 변환"
   ]
  },
  {
   "cell_type": "code",
   "execution_count": 54,
   "metadata": {},
   "outputs": [],
   "source": [
    "def print_format(str_expr):\n",
    "    print(str_expr, eval(str_expr), sep=' : ')"
   ]
  },
  {
   "cell_type": "code",
   "execution_count": 2,
   "metadata": {},
   "outputs": [
    {
     "name": "stdout",
     "output_type": "stream",
     "text": [
      "len(s) : 4\n",
      "b : b'caf\\xc3\\xa9'\n",
      "len(b) : 5\n",
      "b[0] : 99\n",
      "b[1] : 97\n",
      "b[2] : 102\n",
      "b[3] : 195\n",
      "b[4] : 169\n",
      "b.decode('utf8') : café\n"
     ]
    }
   ],
   "source": [
    "s = 'café'\n",
    "print_format('len(s)')\n",
    "\n",
    "b = s.encode('utf8')\n",
    "print_format('b')\n",
    "print_format('len(b)')\n",
    "\n",
    "print_format('b[0]') # c = 99\n",
    "print_format('b[1]') # a = 97\n",
    "print_format('b[2]') # f = 102\n",
    "print_format('b[3]') # \\xc3 = 12 * 16 + 3 = 195\n",
    "print_format('b[4]') # \\xa9 = 10 * 16 + 9 = 169\n",
    "\n",
    "print_format(\"b.decode('utf8')\")"
   ]
  },
  {
   "cell_type": "code",
   "execution_count": 3,
   "metadata": {},
   "outputs": [
    {
     "name": "stdout",
     "output_type": "stream",
     "text": [
      "b'c'\n",
      "b'a'\n",
      "b'f'\n",
      "True\n"
     ]
    }
   ],
   "source": [
    "print(b'\\x63')\n",
    "print(b'\\x61')\n",
    "print(b'\\x66')\n",
    "print(b'\\x63' == b'c')"
   ]
  },
  {
   "cell_type": "markdown",
   "metadata": {},
   "source": [
    "## 4.2 바이트에 대한 기본 지식\n",
    "* 이진 시퀀스형 : bytes, bytearray\n",
    "    * bytes : 파이썬 3에서 사용하는 불변형 타입 (리터럴 표현식 ex. b'caf\\xc3\\xa9')\n",
    "    * bytearray : 파이썬 2.6에 추가된 가변형 타입 (리터럴 표현식 없음)\n",
    "    * 각 구성요소는 0~255 사이의 정수 (1byte = 8bits = 2^8)\n",
    "    * 이진 시퀀스를 슬라이싱하면 동일한 이진 시퀀스 형이 생성 (str 빼고는 슬라이싱했을때 타입이 동일함)"
   ]
  },
  {
   "cell_type": "code",
   "execution_count": 4,
   "metadata": {},
   "outputs": [
    {
     "name": "stdout",
     "output_type": "stream",
     "text": [
      "cafe : b'caf\\xc3\\xa9'\n",
      "cafe[0] : 99\n",
      "cafe[:1] : b'c'\n",
      "cafe_arr : bytearray(b'caf\\xc3\\xa9')\n",
      "cafe_arr[-1:] : bytearray(b'\\xa9')\n"
     ]
    }
   ],
   "source": [
    "cafe = bytes('café', encoding='utf_8')\n",
    "print_format('cafe')\n",
    "print_format('cafe[0]')\n",
    "print_format('cafe[:1]')\n",
    "\n",
    "cafe_arr = bytearray(cafe)\n",
    "print_format('cafe_arr')\n",
    "print_format('cafe_arr[-1:]')"
   ]
  },
  {
   "cell_type": "code",
   "execution_count": 5,
   "metadata": {},
   "outputs": [
    {
     "name": "stdout",
     "output_type": "stream",
     "text": [
      "97\n",
      "169\n"
     ]
    }
   ],
   "source": [
    "print(cafe[1])\n",
    "print(cafe_arr[-1])"
   ]
  },
  {
   "cell_type": "code",
   "execution_count": 6,
   "metadata": {},
   "outputs": [
    {
     "name": "stdout",
     "output_type": "stream",
     "text": [
      "<class 'bytes'>\n",
      "<class 'bytes'>\n",
      "<class 'bytearray'>\n"
     ]
    }
   ],
   "source": [
    "print(type(cafe))\n",
    "print(type(b'\\xac'))\n",
    "print(type(cafe_arr))"
   ]
  },
  {
   "cell_type": "markdown",
   "metadata": {},
   "source": [
    "* 바이트 출력 방법\n",
    "    * 화면에 출력가능한 아스키 문자 (공백, 물결표~ 등)은 그대로 출력\n",
    "    * 탭(\\t), 개행문자(\\n), 캐리지 리턴(\\r), 백슬렉시(\\\\)\n",
    "    * 나머지는 \\x 이후 16진수로 출력 (null byte = \\xc00)\n",
    "* byte와 bytearray 는 str 에서 제공하는 메서드 대부분 지원\n",
    "    * format(), format_map() 은 지원하지 않음\n",
    "    * fromhex() 라는 클래스 메서드 지원 (str 에는 없음)"
   ]
  },
  {
   "cell_type": "code",
   "execution_count": 7,
   "metadata": {},
   "outputs": [
    {
     "data": {
      "text/plain": [
       "b'caf\\xc3\\xa9'"
      ]
     },
     "execution_count": 7,
     "metadata": {},
     "output_type": "execute_result"
    }
   ],
   "source": [
    "bytes.fromhex('63 61 66 c3 a9')"
   ]
  },
  {
   "cell_type": "markdown",
   "metadata": {},
   "source": [
    "* byte, bytearray 객체 생성 방법\n",
    "    1. str, encoding 키워드 인수\n",
    "    2. 0~255 사이의 정수 반복 가능형\n",
    "    3. 하나의 정수 인수, 인수로 받은 정수 갯수만큼 널 바이트로 초기화된 이진 시퀀스 생성 (파이썬 3.6 부터 제거)\n",
    "    4. bytes, bytearray, memoryview, array.array 등 버퍼 프로토콜을 구현하는 객체"
   ]
  },
  {
   "cell_type": "code",
   "execution_count": 8,
   "metadata": {},
   "outputs": [
    {
     "data": {
      "text/plain": [
       "b'\\xfe\\xff\\xff\\xff\\x00\\x00\\x01\\x00\\x02\\x00'"
      ]
     },
     "execution_count": 8,
     "metadata": {},
     "output_type": "execute_result"
    }
   ],
   "source": [
    "import array\n",
    "numbers = array.array('h', [-2, -1, 0, 1, 2]) # 'h' 는 short int (16비트 = 2바이트) 정수\n",
    "octets = bytes(numbers)\n",
    "octets"
   ]
  },
  {
   "cell_type": "code",
   "execution_count": 9,
   "metadata": {},
   "outputs": [
    {
     "ename": "UnicodeDecodeError",
     "evalue": "'utf-8' codec can't decode byte 0xfe in position 0: invalid start byte",
     "output_type": "error",
     "traceback": [
      "\u001b[0;31m---------------------------------------------------------------------------\u001b[0m",
      "\u001b[0;31mUnicodeDecodeError\u001b[0m                        Traceback (most recent call last)",
      "\u001b[0;32m<ipython-input-9-817cdcc4974a>\u001b[0m in \u001b[0;36m<module>\u001b[0;34m\u001b[0m\n\u001b[0;32m----> 1\u001b[0;31m \u001b[0moctets\u001b[0m\u001b[0;34m.\u001b[0m\u001b[0mdecode\u001b[0m\u001b[0;34m(\u001b[0m\u001b[0;34m'utf8'\u001b[0m\u001b[0;34m)\u001b[0m\u001b[0;34m\u001b[0m\u001b[0;34m\u001b[0m\u001b[0m\n\u001b[0m",
      "\u001b[0;31mUnicodeDecodeError\u001b[0m: 'utf-8' codec can't decode byte 0xfe in position 0: invalid start byte"
     ]
    }
   ],
   "source": [
    "octets.decode('utf8')"
   ]
  },
  {
   "cell_type": "code",
   "execution_count": 10,
   "metadata": {},
   "outputs": [
    {
     "data": {
      "text/plain": [
       "array('h', [-2, -1])"
      ]
     },
     "execution_count": 10,
     "metadata": {},
     "output_type": "execute_result"
    }
   ],
   "source": [
    "array.array('h', octets[:4])"
   ]
  },
  {
   "cell_type": "markdown",
   "metadata": {},
   "source": [
    "### 4.2.1 구조체와 메모리 뷰\n",
    "* struct 모듈\n",
    "    * 패킹된 바이트를 다양한 형의 필드로 구성된 튜플로 분석\n",
    "    * 튜플을 패킹된 바이트로 변환하는 함수 제공\n",
    "    * bytes, bytearray, memoryview 객체와 함께 사용"
   ]
  },
  {
   "cell_type": "code",
   "execution_count": 11,
   "metadata": {},
   "outputs": [
    {
     "name": "stdout",
     "output_type": "stream",
     "text": [
      "b'GIF89a\\xee\\x04\\xcc\\x03'\n",
      "(b'GIF', b'89a', 1262, 972)\n"
     ]
    }
   ],
   "source": [
    "import struct\n",
    "fmt = '<3s3sHH' # < 는 리틀엔디언, 3s3s 는 3바이트 시퀀스 두 개, HH 는 16비트 정수 두개\n",
    "with open('filter.gif', 'rb') as fp:\n",
    "    img = memoryview(fp.read())\n",
    "    \n",
    "header = img[:10] # memoryview 는 슬라이싱 해도 memoryview\n",
    "print(bytes(header))\n",
    "print(struct.unpack(fmt, header)) # '<3s3sHH' 에 맞게 튜플로 분리\n",
    "del header\n",
    "del img"
   ]
  },
  {
   "cell_type": "code",
   "execution_count": 12,
   "metadata": {},
   "outputs": [
    {
     "data": {
      "text/plain": [
       "972"
      ]
     },
     "execution_count": 12,
     "metadata": {},
     "output_type": "execute_result"
    }
   ],
   "source": [
    "# \\xcc\\x03 을 16진수로 변환하면 972? => 바이트 단위로 거꾸로 연산하는듯\n",
    "12 * pow(16, 0) + 12 * pow(16, 1) + 3 * pow(16, 2) + 0 * pow(16, 3)"
   ]
  },
  {
   "cell_type": "markdown",
   "metadata": {},
   "source": [
    "## 4.3 기본 인코더 / 디코더\n",
    "* 파이썬에는 100 여개의 코덱(인코더/디코더) 포함\n",
    "    * open(), str.encode(), bytes.decode() 호출시, encoding 인수에 전달하여 사용"
   ]
  },
  {
   "cell_type": "code",
   "execution_count": 13,
   "metadata": {},
   "outputs": [
    {
     "name": "stdout",
     "output_type": "stream",
     "text": [
      "latin_1\tb'EL Ni\\xf1o'\n",
      "utf_8\tb'EL Ni\\xc3\\xb1o'\n",
      "utf_16\tb'\\xff\\xfeE\\x00L\\x00 \\x00N\\x00i\\x00\\xf1\\x00o\\x00'\n"
     ]
    }
   ],
   "source": [
    "for codec in ['latin_1', 'utf_8', 'utf_16']:\n",
    "    print(codec, 'EL Niño'.encode(codec), sep='\\t')"
   ]
  },
  {
   "cell_type": "markdown",
   "metadata": {},
   "source": [
    "* gb2312, utf-8, utf-16 은 가변 길이, 다중바이트 인코딩\n",
    "\n",
    "![그림4-1](pic4-1.png)\n",
    "\n",
    "* utf-8 : 웹에서 8비트 인코딩을 하기 위해 가장 널리 사용하는 방식, 아스키코드와 하위 호환됨 (순수 아스키 텍스트는 UTF-8 코드)"
   ]
  },
  {
   "cell_type": "markdown",
   "metadata": {},
   "source": [
    "## 4.4 인코딩 / 디코딩 문제 이해하기"
   ]
  },
  {
   "cell_type": "markdown",
   "metadata": {},
   "source": [
    "### 4.4.1 UnicodeEncodeError 처리하기\n",
    "* 텍스트를 바이트로 변환할때, 문자가 대상 인코딩에 정의되어 있지 않으면 발생"
   ]
  },
  {
   "cell_type": "code",
   "execution_count": 14,
   "metadata": {},
   "outputs": [
    {
     "name": "stdout",
     "output_type": "stream",
     "text": [
      "city.encode('utf_8') : b'S\\xc3\\xa3o Paulo'\n",
      "city.encode('utf_16') : b'\\xff\\xfeS\\x00\\xe3\\x00o\\x00 \\x00P\\x00a\\x00u\\x00l\\x00o\\x00'\n",
      "city.encode('iso8859_1') : b'S\\xe3o Paulo'\n"
     ]
    },
    {
     "ename": "UnicodeEncodeError",
     "evalue": "'charmap' codec can't encode character '\\xe3' in position 1: character maps to <undefined>",
     "output_type": "error",
     "traceback": [
      "\u001b[0;31m---------------------------------------------------------------------------\u001b[0m",
      "\u001b[0;31mUnicodeEncodeError\u001b[0m                        Traceback (most recent call last)",
      "\u001b[0;32m<ipython-input-14-d75c5652fb07>\u001b[0m in \u001b[0;36m<module>\u001b[0;34m\u001b[0m\n\u001b[1;32m      3\u001b[0m \u001b[0mprint_format\u001b[0m\u001b[0;34m(\u001b[0m\u001b[0;34m\"city.encode('utf_16')\"\u001b[0m\u001b[0;34m)\u001b[0m\u001b[0;34m\u001b[0m\u001b[0;34m\u001b[0m\u001b[0m\n\u001b[1;32m      4\u001b[0m \u001b[0mprint_format\u001b[0m\u001b[0;34m(\u001b[0m\u001b[0;34m\"city.encode('iso8859_1')\"\u001b[0m\u001b[0;34m)\u001b[0m\u001b[0;34m\u001b[0m\u001b[0;34m\u001b[0m\u001b[0m\n\u001b[0;32m----> 5\u001b[0;31m \u001b[0mprint_format\u001b[0m\u001b[0;34m(\u001b[0m\u001b[0;34m\"city.encode('cp437')\"\u001b[0m\u001b[0;34m)\u001b[0m\u001b[0;34m\u001b[0m\u001b[0;34m\u001b[0m\u001b[0m\n\u001b[0m",
      "\u001b[0;32m<ipython-input-1-a15793407592>\u001b[0m in \u001b[0;36mprint_format\u001b[0;34m(str_expr)\u001b[0m\n\u001b[1;32m      1\u001b[0m \u001b[0;32mdef\u001b[0m \u001b[0mprint_format\u001b[0m\u001b[0;34m(\u001b[0m\u001b[0mstr_expr\u001b[0m\u001b[0;34m)\u001b[0m\u001b[0;34m:\u001b[0m\u001b[0;34m\u001b[0m\u001b[0;34m\u001b[0m\u001b[0m\n\u001b[0;32m----> 2\u001b[0;31m     \u001b[0mprint\u001b[0m\u001b[0;34m(\u001b[0m\u001b[0mstr_expr\u001b[0m\u001b[0;34m,\u001b[0m \u001b[0meval\u001b[0m\u001b[0;34m(\u001b[0m\u001b[0mstr_expr\u001b[0m\u001b[0;34m)\u001b[0m\u001b[0;34m,\u001b[0m \u001b[0msep\u001b[0m\u001b[0;34m=\u001b[0m\u001b[0;34m' : '\u001b[0m\u001b[0;34m)\u001b[0m\u001b[0;34m\u001b[0m\u001b[0;34m\u001b[0m\u001b[0m\n\u001b[0m",
      "\u001b[0;32m<string>\u001b[0m in \u001b[0;36m<module>\u001b[0;34m\u001b[0m\n",
      "\u001b[0;32m/opt/conda/lib/python3.7/encodings/cp437.py\u001b[0m in \u001b[0;36mencode\u001b[0;34m(self, input, errors)\u001b[0m\n\u001b[1;32m     10\u001b[0m \u001b[0;34m\u001b[0m\u001b[0m\n\u001b[1;32m     11\u001b[0m     \u001b[0;32mdef\u001b[0m \u001b[0mencode\u001b[0m\u001b[0;34m(\u001b[0m\u001b[0mself\u001b[0m\u001b[0;34m,\u001b[0m\u001b[0minput\u001b[0m\u001b[0;34m,\u001b[0m\u001b[0merrors\u001b[0m\u001b[0;34m=\u001b[0m\u001b[0;34m'strict'\u001b[0m\u001b[0;34m)\u001b[0m\u001b[0;34m:\u001b[0m\u001b[0;34m\u001b[0m\u001b[0;34m\u001b[0m\u001b[0m\n\u001b[0;32m---> 12\u001b[0;31m         \u001b[0;32mreturn\u001b[0m \u001b[0mcodecs\u001b[0m\u001b[0;34m.\u001b[0m\u001b[0mcharmap_encode\u001b[0m\u001b[0;34m(\u001b[0m\u001b[0minput\u001b[0m\u001b[0;34m,\u001b[0m\u001b[0merrors\u001b[0m\u001b[0;34m,\u001b[0m\u001b[0mencoding_map\u001b[0m\u001b[0;34m)\u001b[0m\u001b[0;34m\u001b[0m\u001b[0;34m\u001b[0m\u001b[0m\n\u001b[0m\u001b[1;32m     13\u001b[0m \u001b[0;34m\u001b[0m\u001b[0m\n\u001b[1;32m     14\u001b[0m     \u001b[0;32mdef\u001b[0m \u001b[0mdecode\u001b[0m\u001b[0;34m(\u001b[0m\u001b[0mself\u001b[0m\u001b[0;34m,\u001b[0m\u001b[0minput\u001b[0m\u001b[0;34m,\u001b[0m\u001b[0merrors\u001b[0m\u001b[0;34m=\u001b[0m\u001b[0;34m'strict'\u001b[0m\u001b[0;34m)\u001b[0m\u001b[0;34m:\u001b[0m\u001b[0;34m\u001b[0m\u001b[0;34m\u001b[0m\u001b[0m\n",
      "\u001b[0;31mUnicodeEncodeError\u001b[0m: 'charmap' codec can't encode character '\\xe3' in position 1: character maps to <undefined>"
     ]
    }
   ],
   "source": [
    "city = 'São Paulo'\n",
    "print_format(\"city.encode('utf_8')\")\n",
    "print_format(\"city.encode('utf_16')\")\n",
    "print_format(\"city.encode('iso8859_1')\")\n",
    "print_format(\"city.encode('cp437')\")"
   ]
  },
  {
   "cell_type": "code",
   "execution_count": 15,
   "metadata": {},
   "outputs": [
    {
     "name": "stdout",
     "output_type": "stream",
     "text": [
      "city.encode('cp437', errors='ignore') : b'So Paulo'\n",
      "city.encode('cp437', errors='replace') : b'S?o Paulo'\n",
      "city.encode('cp437', errors='xmlcharrefreplace') : b'S&#227;o Paulo'\n"
     ]
    }
   ],
   "source": [
    "print_format(\"city.encode('cp437', errors='ignore')\") # 에러나는 문자 건너뜀\n",
    "print_format(\"city.encode('cp437', errors='replace')\") # 에러나는 문자 ? 로 치환\n",
    "print_format(\"city.encode('cp437', errors='xmlcharrefreplace')\") # 에러나는 문자 xml 개체로 치환"
   ]
  },
  {
   "cell_type": "markdown",
   "metadata": {},
   "source": [
    "### 4.4.2 UnicodeDecodeError 처리하기\n",
    "* 이진 시퀀스를 텍스트로 변환할 때, 정당한 문자로 변환할 수 없으면 발생\n",
    "    * 일부 레거시 8비트 코덱('cp1252', 'iso8859_1', 'koi8_r' 등) 에서는 무작위 비트 배열도 쓰레기문자로 조용히 디코딩"
   ]
  },
  {
   "cell_type": "code",
   "execution_count": 16,
   "metadata": {},
   "outputs": [
    {
     "name": "stdout",
     "output_type": "stream",
     "text": [
      "octets.decode('cp1252') : Montréal\n",
      "octets.decode('iso8859_7') : Montrιal\n",
      "octets.decode('koi8_r') : MontrИal\n"
     ]
    },
    {
     "ename": "UnicodeDecodeError",
     "evalue": "'utf-8' codec can't decode byte 0xe9 in position 5: invalid continuation byte",
     "output_type": "error",
     "traceback": [
      "\u001b[0;31m---------------------------------------------------------------------------\u001b[0m",
      "\u001b[0;31mUnicodeDecodeError\u001b[0m                        Traceback (most recent call last)",
      "\u001b[0;32m<ipython-input-16-62a334e0f992>\u001b[0m in \u001b[0;36m<module>\u001b[0;34m\u001b[0m\n\u001b[1;32m      3\u001b[0m \u001b[0mprint_format\u001b[0m\u001b[0;34m(\u001b[0m\u001b[0;34m\"octets.decode('iso8859_7')\"\u001b[0m\u001b[0;34m)\u001b[0m \u001b[0;31m# 그리스 코덱 => 엉뚱한 문자로 디코딩\u001b[0m\u001b[0;34m\u001b[0m\u001b[0;34m\u001b[0m\u001b[0m\n\u001b[1;32m      4\u001b[0m \u001b[0mprint_format\u001b[0m\u001b[0;34m(\u001b[0m\u001b[0;34m\"octets.decode('koi8_r')\"\u001b[0m\u001b[0;34m)\u001b[0m \u001b[0;31m# 러시아어 코덱 => 엉뚱한 문자로 디코딩\u001b[0m\u001b[0;34m\u001b[0m\u001b[0;34m\u001b[0m\u001b[0m\n\u001b[0;32m----> 5\u001b[0;31m \u001b[0mprint_format\u001b[0m\u001b[0;34m(\u001b[0m\u001b[0;34m\"octets.decode('utf_8')\"\u001b[0m\u001b[0;34m)\u001b[0m \u001b[0;31m# 디코딩 에러\u001b[0m\u001b[0;34m\u001b[0m\u001b[0;34m\u001b[0m\u001b[0m\n\u001b[0m",
      "\u001b[0;32m<ipython-input-1-a15793407592>\u001b[0m in \u001b[0;36mprint_format\u001b[0;34m(str_expr)\u001b[0m\n\u001b[1;32m      1\u001b[0m \u001b[0;32mdef\u001b[0m \u001b[0mprint_format\u001b[0m\u001b[0;34m(\u001b[0m\u001b[0mstr_expr\u001b[0m\u001b[0;34m)\u001b[0m\u001b[0;34m:\u001b[0m\u001b[0;34m\u001b[0m\u001b[0;34m\u001b[0m\u001b[0m\n\u001b[0;32m----> 2\u001b[0;31m     \u001b[0mprint\u001b[0m\u001b[0;34m(\u001b[0m\u001b[0mstr_expr\u001b[0m\u001b[0;34m,\u001b[0m \u001b[0meval\u001b[0m\u001b[0;34m(\u001b[0m\u001b[0mstr_expr\u001b[0m\u001b[0;34m)\u001b[0m\u001b[0;34m,\u001b[0m \u001b[0msep\u001b[0m\u001b[0;34m=\u001b[0m\u001b[0;34m' : '\u001b[0m\u001b[0;34m)\u001b[0m\u001b[0;34m\u001b[0m\u001b[0;34m\u001b[0m\u001b[0m\n\u001b[0m",
      "\u001b[0;32m<string>\u001b[0m in \u001b[0;36m<module>\u001b[0;34m\u001b[0m\n",
      "\u001b[0;31mUnicodeDecodeError\u001b[0m: 'utf-8' codec can't decode byte 0xe9 in position 5: invalid continuation byte"
     ]
    }
   ],
   "source": [
    "octets = b'Montr\\xe9al' # latin1 인코딩\n",
    "print_format(\"octets.decode('cp1252')\") # cp1252는 latin1의 상위 집합 => 정상 디코딩\n",
    "print_format(\"octets.decode('iso8859_7')\") # 그리스 코덱 => 엉뚱한 문자로 디코딩\n",
    "print_format(\"octets.decode('koi8_r')\") # 러시아어 코덱 => 엉뚱한 문자로 디코딩\n",
    "print_format(\"octets.decode('utf_8')\") # 디코딩 에러"
   ]
  },
  {
   "cell_type": "code",
   "execution_count": 17,
   "metadata": {},
   "outputs": [
    {
     "name": "stdout",
     "output_type": "stream",
     "text": [
      "octets.decode('utf_8', errors='replace') : Montr�al\n"
     ]
    }
   ],
   "source": [
    "print_format(\"octets.decode('utf_8', errors='replace')\") # U+FFFD 로 치환"
   ]
  },
  {
   "cell_type": "markdown",
   "metadata": {},
   "source": [
    "### 4.4.3 예상과 달리 인코딩된 모듈을 로딩할 때 발생하는 SyntaxError\n",
    "* 파이썬 3부터는 UTF-8 가 기본 인코딩 방식, 비 UTF-8 인코딩을 인코딩 선언없이 사용할때 발생"
   ]
  },
  {
   "cell_type": "code",
   "execution_count": 20,
   "metadata": {},
   "outputs": [
    {
     "name": "stdout",
     "output_type": "stream",
     "text": [
      "Olá, Mundo!\n"
     ]
    }
   ],
   "source": [
    "!python ola.py\n",
    "## 에러를 강제로 내는건 안됨...."
   ]
  },
  {
   "cell_type": "markdown",
   "metadata": {},
   "source": [
    "* 코드 상에 비아스키 식별자 사용해아 하나?\n",
    "    * 되도록 안하는게 좋다"
   ]
  },
  {
   "cell_type": "code",
   "execution_count": 28,
   "metadata": {},
   "outputs": [
    {
     "name": "stdout",
     "output_type": "stream",
     "text": [
      "정지용\n"
     ]
    }
   ],
   "source": [
    "정지용 = '정지용'\n",
    "print(정지용)"
   ]
  },
  {
   "cell_type": "markdown",
   "metadata": {},
   "source": [
    "### 4.4.4 바이트 시퀀스의 인코딩 방식을 알아내는 방법\n",
    "* 인코딩 정보 없이 100% 완벽하게 찾아내는건 불가능\n",
    "    * 경험과 통계를 이용하여 추정\n",
    "    * Chardetect 패키지"
   ]
  },
  {
   "cell_type": "markdown",
   "metadata": {},
   "source": [
    "### 4.4.5 BOM : 유용한 깨진 문자\n",
    "뭔소린지 잘 모르겠음 ㅜㅜ\n",
    "* UTF-16 으로 인코딩된 텍스트 앞에는 여분의 바이트 존재\n",
    "    * 바이트 순서 표시(BOM), 인코딩한 인텔 CPU 리틀엔디언(little endian) 바이트 순서를 나타냄\n",
    "    * 리틀엔디언 컴퓨터에서는 코드 포인트 최하위 바이트 가 먼저 나옴.\n",
    "        * ZERO WIDTH NO-BREAK SPACE(U+FEFF) => b'\\xff\\xfe'\n",
    "    * 빅엔디언 컴퓨터에서는 인코딩 순서가 반대 ('E' -> [0, 69])"
   ]
  },
  {
   "cell_type": "code",
   "execution_count": 22,
   "metadata": {},
   "outputs": [
    {
     "name": "stdout",
     "output_type": "stream",
     "text": [
      "b'\\xff\\xfeE\\x00l\\x00 \\x00N\\x00i\\x00\\xf1\\x00o\\x00'\n"
     ]
    }
   ],
   "source": [
    "u16 = 'El Niño'.encode('utf_16')\n",
    "print(u16)"
   ]
  },
  {
   "cell_type": "code",
   "execution_count": 23,
   "metadata": {},
   "outputs": [
    {
     "data": {
      "text/plain": [
       "[255, 254, 69, 0, 108, 0, 32, 0, 78, 0, 105, 0, 241, 0, 111, 0]"
      ]
     },
     "execution_count": 23,
     "metadata": {},
     "output_type": "execute_result"
    }
   ],
   "source": [
    "list(u16)"
   ]
  },
  {
   "cell_type": "code",
   "execution_count": 25,
   "metadata": {},
   "outputs": [
    {
     "data": {
      "text/plain": [
       "[69, 0, 108, 0, 32, 0, 78, 0, 105, 0, 241, 0, 111, 0]"
      ]
     },
     "execution_count": 25,
     "metadata": {},
     "output_type": "execute_result"
    }
   ],
   "source": [
    "u16le = 'El Niño'.encode('utf_16le')\n",
    "list(u16le) # BOM 없음"
   ]
  },
  {
   "cell_type": "code",
   "execution_count": 26,
   "metadata": {},
   "outputs": [
    {
     "data": {
      "text/plain": [
       "[0, 69, 0, 108, 0, 32, 0, 78, 0, 105, 0, 241, 0, 111]"
      ]
     },
     "execution_count": 26,
     "metadata": {},
     "output_type": "execute_result"
    }
   ],
   "source": [
    "u16be = 'El Niño'.encode('utf_16be')\n",
    "list(u16be) # BOM 없음"
   ]
  },
  {
   "cell_type": "markdown",
   "metadata": {},
   "source": [
    "* BOM 이 없다면 UTF-16BE로 인코딩으로 간주하는게 표준\n",
    "* But, 인텔 x86 아키텍처가 리틀엔디언이므로 BOM 없어도 UTF-16LE 일수도 있음.\n",
    "* UTF-8 은 이런문제 없음\n",
    "    * 윈도우 애플리케이션의 경우, UTF-8 인코딩하면서 BOM 붙이기도 함 (U+FEFF => b'\\xef\\xbb\\xbf')"
   ]
  },
  {
   "cell_type": "markdown",
   "metadata": {},
   "source": [
    "## 4.5 텍스트 파일 다루기\n",
    "* 유니코드 샌드위치 : 가능한 빨리 bytes를 str 로 변환\n",
    "    * 서비스 로직에서는 str 객체로만 처리하는게 좋음"
   ]
  },
  {
   "cell_type": "code",
   "execution_count": 29,
   "metadata": {},
   "outputs": [
    {
     "data": {
      "text/plain": [
       "'café'"
      ]
     },
     "execution_count": 29,
     "metadata": {},
     "output_type": "execute_result"
    }
   ],
   "source": [
    "open('cafe.txt', 'w', encoding='utf_8').write('café')\n",
    "open('cafe.txt').read()"
   ]
  },
  {
   "cell_type": "code",
   "execution_count": null,
   "metadata": {},
   "outputs": [],
   "source": [
    "## 리눅스라서 에러 발생안함.. 기본 인코딩이 UTF-8"
   ]
  },
  {
   "cell_type": "code",
   "execution_count": 30,
   "metadata": {},
   "outputs": [
    {
     "data": {
      "text/plain": [
       "<_io.TextIOWrapper name='cafe.txt' mode='w' encoding='utf_8'>"
      ]
     },
     "execution_count": 30,
     "metadata": {},
     "output_type": "execute_result"
    }
   ],
   "source": [
    "fp = open('cafe.txt', 'w', encoding='utf_8')\n",
    "fp"
   ]
  },
  {
   "cell_type": "code",
   "execution_count": 31,
   "metadata": {},
   "outputs": [
    {
     "data": {
      "text/plain": [
       "4"
      ]
     },
     "execution_count": 31,
     "metadata": {},
     "output_type": "execute_result"
    }
   ],
   "source": [
    "fp.write('café')"
   ]
  },
  {
   "cell_type": "code",
   "execution_count": 32,
   "metadata": {},
   "outputs": [],
   "source": [
    "fp.close()"
   ]
  },
  {
   "cell_type": "code",
   "execution_count": 33,
   "metadata": {},
   "outputs": [
    {
     "data": {
      "text/plain": [
       "5"
      ]
     },
     "execution_count": 33,
     "metadata": {},
     "output_type": "execute_result"
    }
   ],
   "source": [
    "import os\n",
    "os.stat('cafe.txt').st_size"
   ]
  },
  {
   "cell_type": "code",
   "execution_count": 34,
   "metadata": {},
   "outputs": [
    {
     "data": {
      "text/plain": [
       "<_io.TextIOWrapper name='cafe.txt' mode='r' encoding='UTF-8'>"
      ]
     },
     "execution_count": 34,
     "metadata": {},
     "output_type": "execute_result"
    }
   ],
   "source": [
    "fp2 = open('cafe.txt')\n",
    "fp2"
   ]
  },
  {
   "cell_type": "code",
   "execution_count": 35,
   "metadata": {},
   "outputs": [
    {
     "data": {
      "text/plain": [
       "'UTF-8'"
      ]
     },
     "execution_count": 35,
     "metadata": {},
     "output_type": "execute_result"
    }
   ],
   "source": [
    "fp2.encoding"
   ]
  },
  {
   "cell_type": "code",
   "execution_count": 36,
   "metadata": {},
   "outputs": [
    {
     "data": {
      "text/plain": [
       "'cafÃ©'"
      ]
     },
     "execution_count": 36,
     "metadata": {},
     "output_type": "execute_result"
    }
   ],
   "source": [
    "fp3 = open('cafe.txt', encoding='cp1252')\n",
    "fp3.read()"
   ]
  },
  {
   "cell_type": "code",
   "execution_count": 38,
   "metadata": {},
   "outputs": [
    {
     "name": "stdout",
     "output_type": "stream",
     "text": [
      "<_io.BufferedReader name='cafe.txt'>\n"
     ]
    },
    {
     "data": {
      "text/plain": [
       "b'caf\\xc3\\xa9'"
      ]
     },
     "execution_count": 38,
     "metadata": {},
     "output_type": "execute_result"
    }
   ],
   "source": [
    "fp4 = open('cafe.txt', 'rb')\n",
    "print(fp4) # BufferedReader\n",
    "fp4.read()"
   ]
  },
  {
   "cell_type": "markdown",
   "metadata": {},
   "source": [
    "### 4.5.1 기본 인코딩 설정 : 정신 나간거 아냐?"
   ]
  },
  {
   "cell_type": "code",
   "execution_count": 40,
   "metadata": {},
   "outputs": [
    {
     "name": "stdout",
     "output_type": "stream",
     "text": [
      " locale.getpreferredencoding() -> 'UTF-8'\n",
      "                 type(my_file) -> <class '_io.TextIOWrapper'>\n",
      "              my_file.encoding -> 'UTF-8'\n",
      "           sys.stdout.isatty() -> False\n",
      "           sys.stdout.encoding -> 'UTF-8'\n",
      "            sys.stdin.isatty() -> False\n",
      "            sys.stdin.encoding -> 'UTF-8'\n",
      "           sys.stderr.isatty() -> False\n",
      "           sys.stderr.encoding -> 'UTF-8'\n",
      "      sys.getdefaultencoding() -> 'utf-8'\n",
      "   sys.getfilesystemencoding() -> 'utf-8'\n"
     ]
    }
   ],
   "source": [
    "import sys, locale\n",
    "\n",
    "expressions = \"\"\"\n",
    "    locale.getpreferredencoding()\n",
    "    type(my_file)\n",
    "    my_file.encoding\n",
    "    sys.stdout.isatty()\n",
    "    sys.stdout.encoding\n",
    "    sys.stdin.isatty()\n",
    "    sys.stdin.encoding\n",
    "    sys.stderr.isatty()\n",
    "    sys.stderr.encoding\n",
    "    sys.getdefaultencoding()\n",
    "    sys.getfilesystemencoding()\n",
    "\"\"\"\n",
    "\n",
    "my_file = open('dummy', 'w')\n",
    "\n",
    "for expression in expressions.split():\n",
    "    value = eval(expression)\n",
    "    print(expression.rjust(30), '->', repr(value))"
   ]
  },
  {
   "cell_type": "code",
   "execution_count": 42,
   "metadata": {},
   "outputs": [
    {
     "name": "stdout",
     "output_type": "stream",
     "text": [
      " locale.getpreferredencoding() -> 'UTF-8'\n",
      "                 type(my_file) -> <class '_io.TextIOWrapper'>\n",
      "              my_file.encoding -> 'UTF-8'\n",
      "           sys.stdout.isatty() -> True\n",
      "           sys.stdout.encoding -> 'UTF-8'\n",
      "            sys.stdin.isatty() -> True\n",
      "            sys.stdin.encoding -> 'UTF-8'\n",
      "           sys.stderr.isatty() -> True\n",
      "           sys.stderr.encoding -> 'UTF-8'\n",
      "      sys.getdefaultencoding() -> 'utf-8'\n",
      "   sys.getfilesystemencoding() -> 'utf-8'\n"
     ]
    }
   ],
   "source": [
    "!python default_encodings.py"
   ]
  },
  {
   "cell_type": "code",
   "execution_count": 41,
   "metadata": {},
   "outputs": [],
   "source": [
    "!python default_encodings.py > encodings.log"
   ]
  },
  {
   "cell_type": "code",
   "execution_count": null,
   "metadata": {},
   "outputs": [],
   "source": [
    " locale.getpreferredencoding() -> 'UTF-8'\n",
    "                 type(my_file) -> <class '_io.TextIOWrapper'>\n",
    "              my_file.encoding -> 'UTF-8'\n",
    "           sys.stdout.isatty() -> False\n",
    "           sys.stdout.encoding -> 'UTF-8'\n",
    "            sys.stdin.isatty() -> True\n",
    "            sys.stdin.encoding -> 'UTF-8'\n",
    "           sys.stderr.isatty() -> True\n",
    "           sys.stderr.encoding -> 'UTF-8'\n",
    "      sys.getdefaultencoding() -> 'utf-8'\n",
    "   sys.getfilesystemencoding() -> 'utf-8'"
   ]
  },
  {
   "cell_type": "markdown",
   "metadata": {},
   "source": [
    "* locale.getpreferredencoding() 설정이 가장 중요!\n",
    "* But, 기본 인코딩에 의존하지 않는 것이 가장 좋음."
   ]
  },
  {
   "cell_type": "markdown",
   "metadata": {},
   "source": [
    "## 4.6 제대로 비교하기 위해 유니코드 정규화하기\n",
    "* 유니코드에는 결합문자가 있어 문자열 비교가 쉽지 않음."
   ]
  },
  {
   "cell_type": "code",
   "execution_count": 43,
   "metadata": {},
   "outputs": [
    {
     "name": "stdout",
     "output_type": "stream",
     "text": [
      "café café\n",
      "4 5\n"
     ]
    },
    {
     "data": {
      "text/plain": [
       "False"
      ]
     },
     "execution_count": 43,
     "metadata": {},
     "output_type": "execute_result"
    }
   ],
   "source": [
    "s1 = 'café'\n",
    "s2 = 'cafe\\u0301' # U+0301 : Combining Acute Accent\n",
    "print(s1, s2)\n",
    "print(len(s1), len(s2))\n",
    "s1 == s2"
   ]
  },
  {
   "cell_type": "markdown",
   "metadata": {},
   "source": [
    "유니코드 정규화를 통해 문제 해결!\n",
    "* unicodedata.normalize() 함수\n",
    "    * NFC : 코드 포인트를 조합하여 가장 짧은 동일 문자열 생성 (W3C 추천 형태)\n",
    "    * NFD : 조합된 문자를 기본 문자와 결합 문자로 분리\n",
    "    * NFKC, NFKD : 호환성 문자로 치환 처리 (둘의 차이는?)\n",
    "        * NFKC - 호환 분해 후, 결합 / NFKD - 호환 분해"
   ]
  },
  {
   "cell_type": "code",
   "execution_count": 46,
   "metadata": {},
   "outputs": [
    {
     "name": "stdout",
     "output_type": "stream",
     "text": [
      "len(s1), len(s2) : (4, 5)\n",
      "len(normalize('NFC', s1)), len(normalize('NFC', s2)) : (4, 4)\n",
      "len(normalize('NFD', s1)), len(normalize('NFD', s2)) : (5, 5)\n",
      "normalize('NFC', s1) == normalize('NFC', s2) : True\n",
      "normalize('NFD', s1) == normalize('NFD', s2) : True\n"
     ]
    }
   ],
   "source": [
    "from unicodedata import normalize\n",
    "s1 = 'café'\n",
    "s2 = 'cafe\\u0301'\n",
    "print_format('len(s1), len(s2)')\n",
    "print_format(\"len(normalize('NFC', s1)), len(normalize('NFC', s2))\")\n",
    "print_format(\"len(normalize('NFD', s1)), len(normalize('NFD', s2))\")\n",
    "print_format(\"normalize('NFC', s1) == normalize('NFC', s2)\")\n",
    "print_format(\"normalize('NFD', s1) == normalize('NFD', s2)\")"
   ]
  },
  {
   "cell_type": "code",
   "execution_count": 47,
   "metadata": {},
   "outputs": [
    {
     "name": "stdout",
     "output_type": "stream",
     "text": [
      "s1 == normalize('NFC', s2) : True\n",
      "normalize('NFD', s1) == s2 : True\n"
     ]
    }
   ],
   "source": [
    "print_format(\"s1 == normalize('NFC', s2)\")\n",
    "print_format(\"normalize('NFD', s1) == s2\")"
   ]
  },
  {
   "cell_type": "code",
   "execution_count": 49,
   "metadata": {},
   "outputs": [
    {
     "name": "stdout",
     "output_type": "stream",
     "text": [
      "name(ohm) : OHM SIGN\n",
      "name(ohm_c) : GREEK CAPITAL LETTER OMEGA\n",
      "ohm == ohm_c : False\n",
      "normalize('NFC', ohm) == normalize('NFC', ohm_c) : True\n"
     ]
    }
   ],
   "source": [
    "# 다른 문자로 정규화 되는 케이스\n",
    "from unicodedata import normalize, name\n",
    "ohm = '\\u2126'\n",
    "print_format('name(ohm)')\n",
    "ohm_c = normalize('NFC', ohm)\n",
    "print_format('name(ohm_c)')\n",
    "print_format('ohm == ohm_c')\n",
    "print_format(\"normalize('NFC', ohm) == normalize('NFC', ohm_c)\")"
   ]
  },
  {
   "cell_type": "code",
   "execution_count": 51,
   "metadata": {},
   "outputs": [
    {
     "name": "stdout",
     "output_type": "stream",
     "text": [
      "Ω Ω\n",
      "b'\\xe2\\x84\\xa6' b'\\xce\\xa9'\n"
     ]
    }
   ],
   "source": [
    "print(ohm, ohm_c)\n",
    "print(ohm.encode('utf-8'), ohm_c.encode('utf-8'))"
   ]
  },
  {
   "cell_type": "code",
   "execution_count": 58,
   "metadata": {},
   "outputs": [
    {
     "data": {
      "text/plain": [
       "'1⁄2'"
      ]
     },
     "execution_count": 58,
     "metadata": {},
     "output_type": "execute_result"
    }
   ],
   "source": [
    "# NFKC 사용 예제\n",
    "from unicodedata import normalize, name\n",
    "half = '½'\n",
    "normalize('NFKD', half)"
   ]
  },
  {
   "cell_type": "code",
   "execution_count": 59,
   "metadata": {},
   "outputs": [
    {
     "data": {
      "text/plain": [
       "'42'"
      ]
     },
     "execution_count": 59,
     "metadata": {},
     "output_type": "execute_result"
    }
   ],
   "source": [
    "four_squared = '42'\n",
    "normalize('NFKD', four_squared)"
   ]
  },
  {
   "cell_type": "code",
   "execution_count": 65,
   "metadata": {},
   "outputs": [
    {
     "name": "stdout",
     "output_type": "stream",
     "text": [
      "µ μ\n",
      "181 956\n",
      "('MICRO SIGN', 'GREEK SMALL LETTER MU')\n"
     ]
    }
   ],
   "source": [
    "micro = 'µ'\n",
    "micro_kc = normalize('NFKC', micro)\n",
    "print(micro, micro_kc)\n",
    "print(ord(micro), ord(micro_kc))\n",
    "print((name(micro), name(micro_kc)))"
   ]
  },
  {
   "cell_type": "code",
   "execution_count": 67,
   "metadata": {},
   "outputs": [
    {
     "name": "stdout",
     "output_type": "stream",
     "text": [
      "MICRO SIGN\n",
      "MICRO SIGN\n",
      "GREEK SMALL LETTER MU\n",
      "GREEK SMALL LETTER MU\n",
      "GREEK SMALL LETTER MU\n",
      "GREEK SMALL LETTER MU\n"
     ]
    }
   ],
   "source": [
    "print(name(normalize('NFC', micro)))\n",
    "print(name(normalize('NFD', micro)))\n",
    "print(name(normalize('NFKC', micro)))\n",
    "print(name(normalize('NFKD', micro)))\n",
    "print(name(normalize('NFC', micro_kc)))\n",
    "print(name(normalize('NFD', micro_kc)))"
   ]
  },
  {
   "cell_type": "markdown",
   "metadata": {},
   "source": [
    "### 4.6.1 케이스 폴딩\n",
    "* 모든 텍스트릴 소문자로 변환하는 연산\n",
    "* str.casefold() 메서드를 이용\n",
    "* str.lower() 랑 다른 문자를 반환하는 코드 포인트가 약 0.11%"
   ]
  },
  {
   "cell_type": "code",
   "execution_count": 72,
   "metadata": {},
   "outputs": [
    {
     "name": "stdout",
     "output_type": "stream",
     "text": [
      "MICRO SIGN\n",
      "GREEK SMALL LETTER MU\n",
      "µ μ\n",
      "\n",
      "LATIN CAPITAL LETTER SHARP S\n",
      "ẞ ss\n"
     ]
    }
   ],
   "source": [
    "micro = 'µ'\n",
    "print(name(micro))\n",
    "micro_cf = micro.casefold()\n",
    "print(name(micro_cf))\n",
    "print(micro, micro_cf)\n",
    "print()\n",
    "\n",
    "eszett = 'ẞ'\n",
    "print(name(eszett))\n",
    "eszett_cf = eszett.casefold()\n",
    "print(eszett, eszett_cf)"
   ]
  },
  {
   "cell_type": "markdown",
   "metadata": {},
   "source": [
    "### 4.6.2 정규화된 텍스트 매칭을 위한 유틸리티 함수\n",
    "* NFC 혹은 NFC + casefold 적용하여 비교하는게 좋다"
   ]
  },
  {
   "cell_type": "code",
   "execution_count": 14,
   "metadata": {},
   "outputs": [],
   "source": [
    "from unicodedata import normalize\n",
    "\n",
    "def nfc_equal(str1, str2):\n",
    "    return normalize('NFC', str1) == normalize('NFC', str2)\n",
    "\n",
    "def fold_equal(str1, str2):\n",
    "    return normalize('NFC', str1).casefold() == normalize('NFC', str2).casefold()"
   ]
  },
  {
   "cell_type": "code",
   "execution_count": 74,
   "metadata": {},
   "outputs": [
    {
     "data": {
      "text/plain": [
       "False"
      ]
     },
     "execution_count": 74,
     "metadata": {},
     "output_type": "execute_result"
    }
   ],
   "source": [
    "s1 = 'café'\n",
    "s2 = 'cafe\\u0301'\n",
    "s1 == s2"
   ]
  },
  {
   "cell_type": "code",
   "execution_count": 75,
   "metadata": {},
   "outputs": [
    {
     "data": {
      "text/plain": [
       "True"
      ]
     },
     "execution_count": 75,
     "metadata": {},
     "output_type": "execute_result"
    }
   ],
   "source": [
    "nfc_equal(s1, s2)"
   ]
  },
  {
   "cell_type": "code",
   "execution_count": 76,
   "metadata": {},
   "outputs": [
    {
     "data": {
      "text/plain": [
       "False"
      ]
     },
     "execution_count": 76,
     "metadata": {},
     "output_type": "execute_result"
    }
   ],
   "source": [
    "nfc_equal('A', 'a')"
   ]
  },
  {
   "cell_type": "code",
   "execution_count": 78,
   "metadata": {},
   "outputs": [
    {
     "name": "stdout",
     "output_type": "stream",
     "text": [
      "s3 == s4 : False\n",
      "nfc_equal(s3, s4) : False\n",
      "fold_equal(s3, s4) : True\n",
      "fold_equal(s1, s2) : True\n",
      "fold_equal('A', 'a') : True\n"
     ]
    }
   ],
   "source": [
    "s3 = 'Straẞe'\n",
    "s4 = 'strasse'\n",
    "print_format('s3 == s4')\n",
    "print_format(\"nfc_equal(s3, s4)\")\n",
    "print_format(\"fold_equal(s3, s4)\")\n",
    "print_format(\"fold_equal(s1, s2)\")\n",
    "print_format(\"fold_equal('A', 'a')\")"
   ]
  },
  {
   "cell_type": "markdown",
   "metadata": {},
   "source": [
    "### 4.6.3 극단적인 '정규화' : 발음 구별 기호 제거하기"
   ]
  },
  {
   "cell_type": "code",
   "execution_count": 81,
   "metadata": {},
   "outputs": [],
   "source": [
    "import unicodedata\n",
    "import string\n",
    "\n",
    "def shave_marks(txt):\n",
    "    norm_txt = unicodedata.normalize('NFD', txt)\n",
    "    shaved = ''.join(c for c in norm_txt if not unicodedata.combining(c))\n",
    "    return unicodedata.normalize('NFC', shaved)"
   ]
  },
  {
   "cell_type": "code",
   "execution_count": 82,
   "metadata": {},
   "outputs": [
    {
     "data": {
      "text/plain": [
       "'cafe'"
      ]
     },
     "execution_count": 82,
     "metadata": {},
     "output_type": "execute_result"
    }
   ],
   "source": [
    "s1 = 'café'\n",
    "shave_marks(s1)"
   ]
  },
  {
   "cell_type": "code",
   "execution_count": 83,
   "metadata": {},
   "outputs": [],
   "source": [
    "def shave_marks_latin(txt):\n",
    "    norm_txt = unicodedata.normalize('NFD', txt)\n",
    "    latin_base = False\n",
    "    keepers = []\n",
    "    for c in norm_txt:\n",
    "        if unicodedata.combining(c) and latin_base:\n",
    "            continue\n",
    "        keepers.append(c)\n",
    "        if not unicodedata.combining(c):\n",
    "            latin_base = c in string.ascii_letters\n",
    "    shaved = ''.join(keepers)\n",
    "    return unicodedata.normalize('NFC', shaved)"
   ]
  },
  {
   "cell_type": "code",
   "execution_count": 84,
   "metadata": {},
   "outputs": [],
   "source": [
    "# 구현 포기.."
   ]
  },
  {
   "cell_type": "markdown",
   "metadata": {},
   "source": [
    "## 4.7 유니코드 텍스트 정렬하기"
   ]
  },
  {
   "cell_type": "code",
   "execution_count": 19,
   "metadata": {},
   "outputs": [
    {
     "data": {
      "text/plain": [
       "['acerola', 'atemoia', 'aćai', 'caju', 'cajá']"
      ]
     },
     "execution_count": 19,
     "metadata": {},
     "output_type": "execute_result"
    }
   ],
   "source": [
    "fruits = ['caju', 'atemoia', 'cajá', 'aćai', 'acerola']\n",
    "sorted(fruits)"
   ]
  },
  {
   "cell_type": "markdown",
   "metadata": {},
   "source": [
    "* locale.strxfrm() 는 시스템 설정을 바꿔야 하는등 단점이 많음\n",
    "\n",
    "### 4.7.1 유니코드 대조 알고리즘을 이용한 정렬\n",
    "* PyUCA 라이브러리 이용 (미리 정의된 대조 테이블을 통해 비교)\n",
    "\n",
    "$ pip install pyuca"
   ]
  },
  {
   "cell_type": "code",
   "execution_count": 22,
   "metadata": {},
   "outputs": [
    {
     "data": {
      "text/plain": [
       "['aćai', 'acerola', 'atemoia', 'cajá', 'caju']"
      ]
     },
     "execution_count": 22,
     "metadata": {},
     "output_type": "execute_result"
    }
   ],
   "source": [
    "import pyuca\n",
    "coll = pyuca.Collator()\n",
    "fruits = ['caju', 'atemoia', 'cajá', 'aćai', 'acerola']\n",
    "sorted_fruits = sorted(fruits, key=coll.sort_key)\n",
    "sorted_fruits"
   ]
  },
  {
   "cell_type": "markdown",
   "metadata": {},
   "source": [
    "## 4.8 유니코드 데이터베이스\n",
    "* 유니코드 표준은 수많은 구조화된 텍스트 파일의 형태로 완전한 데이터베이스 제공\n",
    "    * 코드 포인트를 문자명으로 매핑하는 테이블\n",
    "    * 문자에 대한 메타데이터, 각 문자의 연관 방법 (unicodedata 에 존재)"
   ]
  },
  {
   "cell_type": "code",
   "execution_count": 24,
   "metadata": {},
   "outputs": [
    {
     "name": "stdout",
     "output_type": "stream",
     "text": [
      "U+0031\t  1   \tre_dig\tisdig\tisnum\t 1.00\tDIGIT ONE\n",
      "U+00bc\t  ¼   \t-\t-\tisnum\t 0.25\tVULGAR FRACTION ONE QUARTER\n",
      "U+00b2\t  ²   \t-\tisdig\tisnum\t 2.00\tSUPERSCRIPT TWO\n",
      "U+0969\t  ३   \tre_dig\tisdig\tisnum\t 3.00\tDEVANAGARI DIGIT THREE\n",
      "U+136b\t  ፫   \t-\tisdig\tisnum\t 3.00\tETHIOPIC DIGIT THREE\n",
      "U+216b\t  Ⅻ   \t-\t-\tisnum\t12.00\tROMAN NUMERAL TWELVE\n",
      "U+2466\t  ⑦   \t-\tisdig\tisnum\t 7.00\tCIRCLED DIGIT SEVEN\n",
      "U+2480\t  ⒀   \t-\t-\tisnum\t13.00\tPARENTHESIZED NUMBER THIRTEEN\n",
      "U+3285\t  ㊅   \t-\t-\tisnum\t 6.00\tCIRCLED IDEOGRAPH SIX\n"
     ]
    }
   ],
   "source": [
    "import unicodedata\n",
    "import re\n",
    "\n",
    "re_digit = re.compile(r'\\d')\n",
    "sample = '1\\xbc\\xb2\\u0969\\u136b\\u216b\\u2466\\u2480\\u3285'\n",
    "\n",
    "for char in sample:\n",
    "    print('U+%04x' % ord(char),\n",
    "          char.center(6),\n",
    "          're_dig' if re_digit.match(char) else '-',\n",
    "          'isdig' if char.isdigit() else '-',\n",
    "          'isnum' if char.isnumeric() else '-',\n",
    "          format(unicodedata.numeric(char), '5.2f'),\n",
    "          unicodedata.name(char),\n",
    "          sep='\\t'\n",
    "        )"
   ]
  },
  {
   "cell_type": "code",
   "execution_count": null,
   "metadata": {},
   "outputs": [],
   "source": [
    "# re 모듈은 유니코드 잘 인식 못함 => regex 모듈이 유니코드를 더 잘 지원"
   ]
  },
  {
   "cell_type": "markdown",
   "metadata": {},
   "source": [
    "## 4.9 이중 모드 str 및 bytes API\n",
    "* str, byte 인수를 모두 받지만 다르게 동작하는 모듈이 있음\n",
    "    * re 와 os"
   ]
  },
  {
   "cell_type": "markdown",
   "metadata": {},
   "source": [
    "### 4.9.1 정규 표현식에서의 str과 bytes\n",
    "* bytes 로 정규표현식을 만들면 아스키 문자만 매칭됨, str 로 정규표현식을 만들면 유니코드 숫자나 문자도 매칭"
   ]
  },
  {
   "cell_type": "code",
   "execution_count": 27,
   "metadata": {},
   "outputs": [
    {
     "name": "stdout",
     "output_type": "stream",
     "text": [
      "Text\n",
      "    'Ramanujan saw ௧௭௨௯ as 1729 = 1³ + 12³ = 9³ + 10³.'\n",
      "Numbers\n",
      "    str  : ['௧௭௨௯', '1729', '1', '12', '9', '10']\n",
      "    bytes: [b'1729', b'1', b'12', b'9', b'10']\n",
      "Words\n",
      "    str  : ['Ramanujan', 'saw', '௧௭௨௯', 'as', '1729', '1³', '12³', '9³', '10³']\n",
      "    bytes: [b'Ramanujan', b'saw', b'as', b'1729', b'1', b'12', b'9', b'10']\n"
     ]
    }
   ],
   "source": [
    "import re\n",
    "\n",
    "re_numbers_str = re.compile(r'\\d+')\n",
    "re_words_str = re.compile(r'\\w+')\n",
    "re_numbers_bytes = re.compile(rb'\\d+')\n",
    "re_words_bytes = re.compile(rb'\\w+')\n",
    "\n",
    "text_str = (\"Ramanujan saw \\u0be7\\u0bed\\u0be8\\u0bef as 1729 = 1\\u00b3 + 12\\u00b3 = 9\\u00b3 + 10\\u00b3.\")\n",
    "text_bytes = text_str.encode('utf_8')\n",
    "\n",
    "print('Text', repr(text_str), sep='\\n    ')\n",
    "print('Numbers')\n",
    "print('    str  :', re_numbers_str.findall(text_str))\n",
    "print('    bytes:', re_numbers_bytes.findall(text_bytes))\n",
    "print('Words')\n",
    "print('    str  :', re_words_str.findall(text_str))\n",
    "print('    bytes:', re_words_bytes.findall(text_bytes))"
   ]
  },
  {
   "cell_type": "markdown",
   "metadata": {},
   "source": [
    "### 4.9.2 os 모듈 함수에서 str과 bytes\n",
    "* 리눅스 커널은 유니코드를 모름, OS 파일명은 바이트 시퀀스로 구성되어 있으면 str 로 디코딩 불가\n",
    "* str 인수를 호출하면 sys.getfilesystemencoding() 함수에 지정된 코덱으로 변환\n",
    "* 이렇게 처리할수 없는 경우, bytes 인수를 os 함수에 전달하여 bytes 반환값을 사용"
   ]
  },
  {
   "cell_type": "code",
   "execution_count": 30,
   "metadata": {},
   "outputs": [
    {
     "data": {
      "text/plain": [
       "['digits-of-π.txt',\n",
       " 'pic4-1.png',\n",
       " 'encodings.log',\n",
       " 'ola.py',\n",
       " '.ipynb_checkpoints',\n",
       " 'CH4.Text and Byte.ipynb',\n",
       " 'default_encodings.py',\n",
       " 'cafe.txt',\n",
       " 'filter.gif',\n",
       " 'dummy']"
      ]
     },
     "execution_count": 30,
     "metadata": {},
     "output_type": "execute_result"
    }
   ],
   "source": [
    "import os\n",
    "os.listdir('.')"
   ]
  },
  {
   "cell_type": "code",
   "execution_count": 31,
   "metadata": {},
   "outputs": [
    {
     "data": {
      "text/plain": [
       "[b'digits-of-\\xcf\\x80.txt',\n",
       " b'pic4-1.png',\n",
       " b'encodings.log',\n",
       " b'ola.py',\n",
       " b'.ipynb_checkpoints',\n",
       " b'CH4.Text and Byte.ipynb',\n",
       " b'default_encodings.py',\n",
       " b'cafe.txt',\n",
       " b'filter.gif',\n",
       " b'dummy']"
      ]
     },
     "execution_count": 31,
     "metadata": {},
     "output_type": "execute_result"
    }
   ],
   "source": [
    "os.listdir(b'.')"
   ]
  },
  {
   "cell_type": "markdown",
   "metadata": {},
   "source": [
    "fsencode(파일명)\n",
    "* 파일명이 str 형이면 sys.getfilesystemencoding() 이 반환한 코덱명을 이용하여 bytes 형으로 인코딩, byte 형이면 그대로 반환\n",
    "\n",
    "fsdecode(파일명)\n",
    "* 파일명이 bytes 형이면 sys.getfilesystemencoding() 이 반환한 코덱명을 이용하여 str 형으로 인코딩, str 형이면 그대로 반환"
   ]
  },
  {
   "cell_type": "markdown",
   "metadata": {},
   "source": [
    "유닉스 계열 플랫폼에서는 예상치 않은 바이트 문제를 피하기 위해 surrogateescape 에러 처리기를 사용 (윈도우에서는 strict 에러처리기 사용)\n",
    "* 디코딩할 수 없는 바이트를 U+DC00~U+DCFF 까지 코드 포인트로 치환"
   ]
  },
  {
   "cell_type": "code",
   "execution_count": 33,
   "metadata": {},
   "outputs": [
    {
     "data": {
      "text/plain": [
       "'digits-of-\\udccf\\udc80.txt'"
      ]
     },
     "execution_count": 33,
     "metadata": {},
     "output_type": "execute_result"
    }
   ],
   "source": [
    "pi_name_bytes = os.listdir(b'.')[0]\n",
    "pi_name_str = pi_name_bytes.decode('ascii', 'surrogateescape')\n",
    "pi_name_str"
   ]
  },
  {
   "cell_type": "code",
   "execution_count": 34,
   "metadata": {},
   "outputs": [
    {
     "data": {
      "text/plain": [
       "b'digits-of-\\xcf\\x80.txt'"
      ]
     },
     "execution_count": 34,
     "metadata": {},
     "output_type": "execute_result"
    }
   ],
   "source": [
    "pi_name_str.encode('ascii', 'surrogateescape')"
   ]
  },
  {
   "cell_type": "code",
   "execution_count": null,
   "metadata": {},
   "outputs": [],
   "source": []
  }
 ],
 "metadata": {
  "kernelspec": {
   "display_name": "Python 3",
   "language": "python",
   "name": "python3"
  },
  "language_info": {
   "codemirror_mode": {
    "name": "ipython",
    "version": 3
   },
   "file_extension": ".py",
   "mimetype": "text/x-python",
   "name": "python",
   "nbconvert_exporter": "python",
   "pygments_lexer": "ipython3",
   "version": "3.7.4"
  }
 },
 "nbformat": 4,
 "nbformat_minor": 4
}
