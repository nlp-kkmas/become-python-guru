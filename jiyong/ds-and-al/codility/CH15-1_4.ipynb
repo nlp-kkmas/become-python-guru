{
 "cells": [
  {
   "cell_type": "markdown",
   "metadata": {},
   "source": [
    "# Lesson 15. Caterpillar Method"
   ]
  },
  {
   "cell_type": "code",
   "execution_count": 1,
   "metadata": {},
   "outputs": [],
   "source": [
    "def caterpillarMethod(A, s):\n",
    "    n = len(A)\n",
    "    front, total = 0, 0\n",
    "    for back in xrange(n):\n",
    "        while (front < n and total + A[front] <= s):\n",
    "            total += A[front]\n",
    "            front += 1\n",
    "        if total == s:\n",
    "            return True\n",
    "        total -= A[back]\n",
    "    return False"
   ]
  },
  {
   "cell_type": "code",
   "execution_count": 2,
   "metadata": {},
   "outputs": [],
   "source": [
    "def triangles(A):\n",
    "    n = len(A)\n",
    "    result = 0\n",
    "    for x in xrange(n):\n",
    "        z = x + 2\n",
    "        for y in xrange(x + 1, n):\n",
    "            while (z < n and A[x] + A[y] > A[z]):\n",
    "                z += 1\n",
    "            result += z - y - 1\n",
    "    return result"
   ]
  },
  {
   "cell_type": "markdown",
   "metadata": {},
   "source": [
    "## 15-1. AbsDistinct"
   ]
  },
  {
   "cell_type": "markdown",
   "metadata": {},
   "source": [
    "A non-empty array A consisting of N numbers is given. The array is sorted in non-decreasing order. The absolute distinct count of this array is the number of distinct absolute values among the elements of the array.\n",
    "\n",
    "For example, consider array A such that:\n",
    "\n",
    "  A[0] = -5\n",
    "  A[1] = -3\n",
    "  A[2] = -1\n",
    "  A[3] =  0\n",
    "  A[4] =  3\n",
    "  A[5] =  6\n",
    "The absolute distinct count of this array is 5, because there are 5 distinct absolute values among the elements of this array, namely 0, 1, 3, 5 and 6.\n",
    "\n",
    "Write a function:\n",
    "\n",
    "def solution(A)\n",
    "\n",
    "that, given a non-empty array A consisting of N numbers, returns absolute distinct count of array A.\n",
    "\n",
    "For example, given array A such that:\n",
    "\n",
    "  A[0] = -5\n",
    "  A[1] = -3\n",
    "  A[2] = -1\n",
    "  A[3] =  0\n",
    "  A[4] =  3\n",
    "  A[5] =  6\n",
    "the function should return 5, as explained above.\n",
    "\n",
    "Write an efficient algorithm for the following assumptions:\n",
    "\n",
    "N is an integer within the range [1..100,000];\n",
    "each element of array A is an integer within the range [−2,147,483,648..2,147,483,647];\n",
    "array A is sorted in non-decreasing order."
   ]
  },
  {
   "cell_type": "code",
   "execution_count": 10,
   "metadata": {},
   "outputs": [],
   "source": [
    "def solution(A):\n",
    "    n = len(A)\n",
    "    result = 0\n",
    "    # find 0 index\n",
    "    import bisect\n",
    "    end_index = bisect.bisect_left(A, 0)\n",
    "    start_index = end_index - 1\n",
    "    while (start_index > -1 and end_index < n):\n",
    "        start_point = A[start_index]\n",
    "        end_point = A[end_index]\n",
    "        if start_point + end_point > 0:\n",
    "            start_index -= 1\n",
    "        elif start_point + end_point < 0:\n",
    "            end_index += 1\n",
    "        else:\n",
    "            start_index -= 1\n",
    "            end_index += 1\n",
    "        result += 1\n",
    "    \n",
    "    return result + (n-end_index if (start_index == -1) else start_index+1)\n"
   ]
  },
  {
   "cell_type": "markdown",
   "metadata": {},
   "source": [
    "Result(35%) : https://app.codility.com/demo/results/training55CBXB-TS2/\n",
    "\n",
    "같을수도 있는걸 생각 안함.."
   ]
  },
  {
   "cell_type": "code",
   "execution_count": 19,
   "metadata": {},
   "outputs": [],
   "source": [
    "def solution(A):\n",
    "    n = len(A)\n",
    "    result = 0\n",
    "    # find 0 index\n",
    "    import bisect\n",
    "    end_index = bisect.bisect_left(A, 0)\n",
    "    start_index = end_index - 1\n",
    "    while (start_index > -1 and end_index < n):\n",
    "        start_point = A[start_index]\n",
    "        end_point = A[end_index]\n",
    "        if start_point + end_point > 0:\n",
    "            start_index -= 1\n",
    "            if start_index == -1 or start_point != A[start_index]:\n",
    "                result += 1\n",
    "        elif start_point + end_point < 0:\n",
    "            end_index += 1\n",
    "            if end_index == n or end_point != A[end_index]:\n",
    "                result += 1\n",
    "        else:\n",
    "            start_index -= 1\n",
    "            end_index += 1\n",
    "            if (start_index == -1 or start_point != A[start_index]) and (end_index == n or end_point != A[end_index]):\n",
    "                result += 1\n",
    "    \n",
    "    if start_index == -1:\n",
    "        for index in range(end_index, n):\n",
    "            if A[index] != A[index-1]:\n",
    "                result += 1\n",
    "    else:\n",
    "        for index in range(0, start_index + 1):\n",
    "            if A[index] != A[index+1]:\n",
    "                result += 1\n",
    "    \n",
    "    return result\n"
   ]
  },
  {
   "cell_type": "markdown",
   "metadata": {},
   "source": [
    "Result(64%): https://app.codility.com/demo/results/trainingY8A45Z-P7F/\n",
    "\n",
    "뭔가 빠뜨린게 있는데.. 지금도 충분히 더러움.. 로직을 예쁘게 정리해야함.."
   ]
  },
  {
   "cell_type": "markdown",
   "metadata": {},
   "source": [
    "## 15-2. CountDistinctSlices"
   ]
  },
  {
   "cell_type": "markdown",
   "metadata": {},
   "source": [
    "An integer M and a non-empty array A consisting of N non-negative integers are given. All integers in array A are less than or equal to M.\n",
    "\n",
    "A pair of integers (P, Q), such that 0 ≤ P ≤ Q < N, is called a slice of array A. The slice consists of the elements A[P], A[P + 1], ..., A[Q]. A distinct slice is a slice consisting of only unique numbers. That is, no individual number occurs more than once in the slice.\n",
    "\n",
    "For example, consider integer M = 6 and array A such that:\n",
    "\n",
    "    A[0] = 3\n",
    "    A[1] = 4\n",
    "    A[2] = 5\n",
    "    A[3] = 5\n",
    "    A[4] = 2\n",
    "There are exactly nine distinct slices: (0, 0), (0, 1), (0, 2), (1, 1), (1, 2), (2, 2), (3, 3), (3, 4) and (4, 4).\n",
    "\n",
    "The goal is to calculate the number of distinct slices.\n",
    "\n",
    "Write a function:\n",
    "\n",
    "def solution(M, A)\n",
    "\n",
    "that, given an integer M and a non-empty array A consisting of N integers, returns the number of distinct slices.\n",
    "\n",
    "If the number of distinct slices is greater than 1,000,000,000, the function should return 1,000,000,000.\n",
    "\n",
    "For example, given integer M = 6 and array A such that:\n",
    "\n",
    "    A[0] = 3\n",
    "    A[1] = 4\n",
    "    A[2] = 5\n",
    "    A[3] = 5\n",
    "    A[4] = 2\n",
    "the function should return 9, as explained above.\n",
    "\n",
    "Write an efficient algorithm for the following assumptions:\n",
    "\n",
    "N is an integer within the range [1..100,000];\n",
    "M is an integer within the range [0..100,000];\n",
    "each element of array A is an integer within the range [0..M]."
   ]
  },
  {
   "cell_type": "code",
   "execution_count": null,
   "metadata": {},
   "outputs": [],
   "source": [
    "def solution(M, A):\n",
    "    # write your code in Python 3.6\n",
    "    temp_index = 1\n",
    "    for start_index in range(len(A)):\n",
    "        \n",
    "        for end_index in range(temp_index, len(A)):\n",
    "            \n",
    "    \n",
    "    pass\n"
   ]
  },
  {
   "cell_type": "markdown",
   "metadata": {},
   "source": [
    "모르겠다..."
   ]
  },
  {
   "cell_type": "markdown",
   "metadata": {},
   "source": [
    "## 15-3. CountTriangles"
   ]
  },
  {
   "cell_type": "markdown",
   "metadata": {},
   "source": [
    "An array A consisting of N integers is given. A triplet (P, Q, R) is triangular if it is possible to build a triangle with sides of lengths A[P], A[Q] and A[R]. In other words, triplet (P, Q, R) is triangular if 0 ≤ P < Q < R < N and:\n",
    "\n",
    "A[P] + A[Q] > A[R],\n",
    "A[Q] + A[R] > A[P],\n",
    "A[R] + A[P] > A[Q].\n",
    "For example, consider array A such that:\n",
    "\n",
    "  A[0] = 10    A[1] = 2    A[2] = 5\n",
    "  A[3] = 1     A[4] = 8    A[5] = 12\n",
    "There are four triangular triplets that can be constructed from elements of this array, namely (0, 2, 4), (0, 2, 5), (0, 4, 5), and (2, 4, 5).\n",
    "\n",
    "Write a function:\n",
    "\n",
    "def solution(A)\n",
    "\n",
    "that, given an array A consisting of N integers, returns the number of triangular triplets in this array.\n",
    "\n",
    "For example, given array A such that:\n",
    "\n",
    "  A[0] = 10    A[1] = 2    A[2] = 5\n",
    "  A[3] = 1     A[4] = 8    A[5] = 12\n",
    "the function should return 4, as explained above.\n",
    "\n",
    "Write an efficient algorithm for the following assumptions:\n",
    "\n",
    "N is an integer within the range [0..1,000];\n",
    "each element of array A is an integer within the range [1..1,000,000,000]."
   ]
  },
  {
   "cell_type": "code",
   "execution_count": null,
   "metadata": {},
   "outputs": [],
   "source": [
    "# you can write to stdout for debugging purposes, e.g.\n",
    "# print(\"this is a debug message\")\n",
    "\n",
    "def triangles(A):\n",
    "    n = len(A)\n",
    "    result = 0\n",
    "    for x in range(n):\n",
    "        z = x + 2\n",
    "        for y in range(x + 1, n):\n",
    "            while (z < n and A[x] + A[y] > A[z]):\n",
    "                z += 1\n",
    "            result += z - y - 1\n",
    "    return result\n",
    "\n",
    "def solution(A):\n",
    "    return triangles(sorted(A))\n"
   ]
  },
  {
   "cell_type": "markdown",
   "metadata": {},
   "source": [
    "Result(100%): https://app.codility.com/demo/results/trainingF39E8Q-FWV/\n",
    "\n",
    "너무 얍샵하게 풀음.."
   ]
  },
  {
   "cell_type": "markdown",
   "metadata": {},
   "source": [
    "## 15-4. MinAbsSumOfTwo"
   ]
  },
  {
   "cell_type": "markdown",
   "metadata": {},
   "source": [
    "Let A be a non-empty array consisting of N integers.\n",
    "\n",
    "The abs sum of two for a pair of indices (P, Q) is the absolute value |A[P] + A[Q]|, for 0 ≤ P ≤ Q < N.\n",
    "\n",
    "For example, the following array A:\n",
    "\n",
    "  A[0] =  1\n",
    "  A[1] =  4\n",
    "  A[2] = -3\n",
    "has pairs of indices (0, 0), (0, 1), (0, 2), (1, 1), (1, 2), (2, 2).\n",
    "The abs sum of two for the pair (0, 0) is A[0] + A[0] = |1 + 1| = 2.\n",
    "The abs sum of two for the pair (0, 1) is A[0] + A[1] = |1 + 4| = 5.\n",
    "The abs sum of two for the pair (0, 2) is A[0] + A[2] = |1 + (−3)| = 2.\n",
    "The abs sum of two for the pair (1, 1) is A[1] + A[1] = |4 + 4| = 8.\n",
    "The abs sum of two for the pair (1, 2) is A[1] + A[2] = |4 + (−3)| = 1.\n",
    "The abs sum of two for the pair (2, 2) is A[2] + A[2] = |(−3) + (−3)| = 6.\n",
    "Write a function:\n",
    "\n",
    "def solution(A)\n",
    "\n",
    "that, given a non-empty array A consisting of N integers, returns the minimal abs sum of two for any pair of indices in this array.\n",
    "\n",
    "For example, given the following array A:\n",
    "\n",
    "  A[0] =  1\n",
    "  A[1] =  4\n",
    "  A[2] = -3\n",
    "the function should return 1, as explained above.\n",
    "\n",
    "Given array A:\n",
    "\n",
    "  A[0] = -8\n",
    "  A[1] =  4\n",
    "  A[2] =  5\n",
    "  A[3] =-10\n",
    "  A[4] =  3\n",
    "the function should return |(−8) + 5| = 3.\n",
    "\n",
    "Write an efficient algorithm for the following assumptions:\n",
    "\n",
    "N is an integer within the range [1..100,000];\n",
    "each element of array A is an integer within the range [−1,000,000,000..1,000,000,000]."
   ]
  },
  {
   "cell_type": "code",
   "execution_count": 24,
   "metadata": {},
   "outputs": [],
   "source": [
    "def solution(A):\n",
    "    new_a = sorted(A)\n",
    "    n = len(new_a)\n",
    "    result = -1\n",
    "    # find 0 index\n",
    "    import bisect\n",
    "    end_index = bisect.bisect_left(new_a, 0)\n",
    "    start_index = end_index - 1\n",
    "    if end_index == n:\n",
    "        return -1*(new_a[n-2] + new_a[n-1])\n",
    "    if start_index == -1:\n",
    "        return new_a[0] + new_a[1]\n",
    "    \n",
    "    while (start_index > -1 and end_index < n):\n",
    "        start_point = new_a[start_index]\n",
    "        end_point = new_a[end_index]\n",
    "        temp_sum = start_point + end_point\n",
    "        result = abs(temp_sum) if result == -1 else min(result, abs(temp_sum))\n",
    "        if temp_sum > 0:\n",
    "            start_index -= 1\n",
    "        elif temp_sum < 0:\n",
    "            end_index += 1\n",
    "        else:\n",
    "            return 0\n",
    "        \n",
    "    return result\n"
   ]
  },
  {
   "cell_type": "markdown",
   "metadata": {},
   "source": [
    "Result(54%): https://app.codility.com/demo/results/trainingUFVUTS-ECW/\n",
    "\n",
    "뭔가 한끗 차이인데.. 모르겠다 ㅜㅜ"
   ]
  },
  {
   "cell_type": "code",
   "execution_count": null,
   "metadata": {},
   "outputs": [],
   "source": []
  }
 ],
 "metadata": {
  "kernelspec": {
   "display_name": "Python 3",
   "language": "python",
   "name": "python3"
  },
  "language_info": {
   "codemirror_mode": {
    "name": "ipython",
    "version": 3
   },
   "file_extension": ".py",
   "mimetype": "text/x-python",
   "name": "python",
   "nbconvert_exporter": "python",
   "pygments_lexer": "ipython3",
   "version": "3.7.4"
  }
 },
 "nbformat": 4,
 "nbformat_minor": 4
}
