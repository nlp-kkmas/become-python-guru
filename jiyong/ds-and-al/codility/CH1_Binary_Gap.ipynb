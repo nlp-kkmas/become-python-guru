{
 "cells": [
  {
   "cell_type": "code",
   "execution_count": 1,
   "metadata": {},
   "outputs": [],
   "source": [
    "def solution(N):\n",
    "    # Generate Binary Code List, ex) N=9 -> [1,0,0,1], N=25 -> [1,1,0,0,1]\n",
    "    def loop(N, result=[]):\n",
    "        if N <= 1:\n",
    "            return [N] + result\n",
    "        div, mod = divmod(N, 2)\n",
    "        return loop(div, [mod] + result)\n",
    "    \n",
    "    binary_code_list = loop(N)\n",
    "    \n",
    "    # Find Index of 1, ex) [1,0,0,1] -> [0,3], [1,1,0,0,1] -> [0,1,4]\n",
    "    index_one_list = [index for index, value in enumerate(binary_code_list) if value == 1]\n",
    "    \n",
    "    # Calculate Distance, ex) [0,3] -> [3], [0,1,4] -> [1,3]\n",
    "    distance_list = [a-b for a,b in zip(index_one_list[1:], index_one_list[:-1])]\n",
    "    \n",
    "    return 0 if not distance_list else max(distance_list)-1"
   ]
  },
  {
   "cell_type": "code",
   "execution_count": null,
   "metadata": {},
   "outputs": [],
   "source": []
  },
  {
   "cell_type": "code",
   "execution_count": 2,
   "metadata": {},
   "outputs": [
    {
     "data": {
      "text/plain": [
       "2"
      ]
     },
     "execution_count": 2,
     "metadata": {},
     "output_type": "execute_result"
    }
   ],
   "source": [
    "solution(9)"
   ]
  },
  {
   "cell_type": "code",
   "execution_count": 3,
   "metadata": {},
   "outputs": [
    {
     "data": {
      "text/plain": [
       "2"
      ]
     },
     "execution_count": 3,
     "metadata": {},
     "output_type": "execute_result"
    }
   ],
   "source": [
    "solution(25)"
   ]
  },
  {
   "cell_type": "code",
   "execution_count": null,
   "metadata": {},
   "outputs": [],
   "source": []
  }
 ],
 "metadata": {
  "kernelspec": {
   "display_name": "Python 3",
   "language": "python",
   "name": "python3"
  },
  "language_info": {
   "codemirror_mode": {
    "name": "ipython",
    "version": 3
   },
   "file_extension": ".py",
   "mimetype": "text/x-python",
   "name": "python",
   "nbconvert_exporter": "python",
   "pygments_lexer": "ipython3",
   "version": "3.7.4"
  }
 },
 "nbformat": 4,
 "nbformat_minor": 4
}
