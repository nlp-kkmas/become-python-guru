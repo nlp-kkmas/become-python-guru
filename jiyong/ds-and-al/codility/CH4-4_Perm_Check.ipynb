{
 "cells": [
  {
   "cell_type": "code",
   "execution_count": 1,
   "metadata": {},
   "outputs": [],
   "source": [
    "# you can write to stdout for debugging purposes, e.g.\n",
    "# print(\"this is a debug message\")\n",
    "\n",
    "def solution(A):\n",
    "    from functools import reduce\n",
    "    \n",
    "    # write your code in Python 3.6\n",
    "    array_size = len(A)\n",
    "    def reducer(arr, element):\n",
    "        if array_size >= element:\n",
    "            arr[element - 1] = True\n",
    "        return arr\n",
    "    result_array = reduce(reducer, A, [False] * array_size)\n",
    "    \n",
    "    return 1 if all(result_array) else 0\n"
   ]
  },
  {
   "cell_type": "code",
   "execution_count": null,
   "metadata": {},
   "outputs": [],
   "source": []
  },
  {
   "cell_type": "code",
   "execution_count": null,
   "metadata": {},
   "outputs": [],
   "source": []
  }
 ],
 "metadata": {
  "kernelspec": {
   "display_name": "Python 3",
   "language": "python",
   "name": "python3"
  },
  "language_info": {
   "codemirror_mode": {
    "name": "ipython",
    "version": 3
   },
   "file_extension": ".py",
   "mimetype": "text/x-python",
   "name": "python",
   "nbconvert_exporter": "python",
   "pygments_lexer": "ipython3",
   "version": "3.7.4"
  }
 },
 "nbformat": 4,
 "nbformat_minor": 4
}
