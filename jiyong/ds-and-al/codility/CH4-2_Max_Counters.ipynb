{
 "cells": [
  {
   "cell_type": "code",
   "execution_count": 5,
   "metadata": {},
   "outputs": [],
   "source": [
    "# you can write to stdout for debugging purposes, e.g.\n",
    "# print(\"this is a debug message\")\n",
    "\n",
    "def solution(N, A):\n",
    "    from functools import reduce\n",
    "    \n",
    "    # write your code in Python 3.6\n",
    "    def reducer(arr, element):\n",
    "        if element > N:\n",
    "            max_value = max(arr)\n",
    "            return [max_value] * N\n",
    "        arr[element-1] += 1\n",
    "        return arr\n",
    "    \n",
    "    return reduce(reducer, A, [0] * N)\n"
   ]
  },
  {
   "cell_type": "code",
   "execution_count": 3,
   "metadata": {},
   "outputs": [],
   "source": []
  },
  {
   "cell_type": "code",
   "execution_count": null,
   "metadata": {},
   "outputs": [],
   "source": [
    "## max 할때 O(n) 추가 발생"
   ]
  },
  {
   "cell_type": "code",
   "execution_count": 4,
   "metadata": {},
   "outputs": [],
   "source": [
    "# you can write to stdout for debugging purposes, e.g.\n",
    "# print(\"this is a debug message\")\n",
    "\n",
    "def solution(N, A):\n",
    "    from functools import reduce\n",
    "    from collections import namedtuple\n",
    "    \n",
    "    # write your code in Python 3.6\n",
    "    CustomCounter = namedtuple('CustomCounter', 'result max_value')\n",
    "    def reducer(tupl, element):\n",
    "        if element > N:\n",
    "            return CustomCounter([tupl.max_value] * N, tupl.max_value)\n",
    "        tupl.result[element-1] += 1\n",
    "        return CustomCounter(tupl.result, max(tupl.max_value, tupl.result[element-1]))\n",
    "    \n",
    "    return reduce(reducer, A, CustomCounter([0] * N, 0)).result\n"
   ]
  },
  {
   "cell_type": "code",
   "execution_count": null,
   "metadata": {},
   "outputs": [],
   "source": []
  },
  {
   "cell_type": "code",
   "execution_count": null,
   "metadata": {},
   "outputs": [],
   "source": [
    "## N+1 일 때마다 새로 맥스값을 초기화 하는 부분에서 다시 O(n) 발생하는듯\n",
    "## 매번 새로 만드는게 아니라 마지막 N+1 부터 시작"
   ]
  },
  {
   "cell_type": "code",
   "execution_count": 27,
   "metadata": {},
   "outputs": [],
   "source": [
    "# you can write to stdout for debugging purposes, e.g.\n",
    "# print(\"this is a debug message\")\n",
    "\n",
    "def solution(N, A):\n",
    "    from functools import reduce\n",
    "    \n",
    "    # write your code in Python 3.6\n",
    "    # 1. find N+1 index\n",
    "    index_list = [index for (index, value) in enumerate(A) if value == N + 1]\n",
    "    \n",
    "    # 2. operation before last N+1 index\n",
    "    slicing_list = [slice(b_index+1, a_index) for (b_index, a_index) in zip([-1] + index_list, index_list + [len(A)])]\n",
    "    partition_list = [A[slice_item] for slice_item in slicing_list[:-1]]\n",
    "    def reducer_count(dic, element):\n",
    "        dic[element] = dic.get(element, 0) + 1\n",
    "        return dic\n",
    "    \n",
    "    counter_list = [reduce(reducer_count, partition, {-1: 0}) for partition in partition_list] # non-empty dict\n",
    "    max_count_list = [max(counter_dict.values()) for counter_dict in counter_list]\n",
    "    jump_step = sum(max_count_list)\n",
    "    \n",
    "    # 3. remain element operation\n",
    "    def reducer(arr, element):\n",
    "        arr[element-1] += 1\n",
    "        return arr\n",
    "    \n",
    "    return reduce(reducer, A[slicing_list[-1]], [jump_step] * N)\n"
   ]
  },
  {
   "cell_type": "code",
   "execution_count": null,
   "metadata": {},
   "outputs": [],
   "source": []
  },
  {
   "cell_type": "code",
   "execution_count": null,
   "metadata": {},
   "outputs": [],
   "source": []
  },
  {
   "cell_type": "code",
   "execution_count": null,
   "metadata": {},
   "outputs": [],
   "source": []
  },
  {
   "cell_type": "code",
   "execution_count": null,
   "metadata": {},
   "outputs": [],
   "source": []
  },
  {
   "cell_type": "code",
   "execution_count": null,
   "metadata": {},
   "outputs": [],
   "source": []
  },
  {
   "cell_type": "code",
   "execution_count": null,
   "metadata": {},
   "outputs": [],
   "source": []
  },
  {
   "cell_type": "code",
   "execution_count": null,
   "metadata": {},
   "outputs": [],
   "source": []
  },
  {
   "cell_type": "code",
   "execution_count": null,
   "metadata": {},
   "outputs": [],
   "source": []
  },
  {
   "cell_type": "code",
   "execution_count": null,
   "metadata": {},
   "outputs": [],
   "source": []
  },
  {
   "cell_type": "code",
   "execution_count": null,
   "metadata": {},
   "outputs": [],
   "source": []
  }
 ],
 "metadata": {
  "kernelspec": {
   "display_name": "Python 3",
   "language": "python",
   "name": "python3"
  },
  "language_info": {
   "codemirror_mode": {
    "name": "ipython",
    "version": 3
   },
   "file_extension": ".py",
   "mimetype": "text/x-python",
   "name": "python",
   "nbconvert_exporter": "python",
   "pygments_lexer": "ipython3",
   "version": "3.7.4"
  }
 },
 "nbformat": 4,
 "nbformat_minor": 4
}
