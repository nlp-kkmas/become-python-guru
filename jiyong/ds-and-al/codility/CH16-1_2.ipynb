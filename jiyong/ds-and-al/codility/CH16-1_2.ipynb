{
 "cells": [
  {
   "cell_type": "markdown",
   "metadata": {},
   "source": [
    "# Lesson 16. Greedy Algorithms"
   ]
  },
  {
   "cell_type": "markdown",
   "metadata": {},
   "source": [
    "## PDF example1 : The Coin Changing Problem\n",
    "* Optimal Solution 이 아닐 수 있음!"
   ]
  },
  {
   "cell_type": "code",
   "execution_count": 3,
   "metadata": {},
   "outputs": [],
   "source": [
    "def greedyCoinChanging(M, k):\n",
    "    n = len(M)\n",
    "    result = []\n",
    "    for i in xrange(n - 1, -1, -1):\n",
    "        result += [(M[i], k // M[i])]\n",
    "        k %= M[i]\n",
    "    return result"
   ]
  },
  {
   "cell_type": "markdown",
   "metadata": {},
   "source": [
    "## PDF example2 : Proving Correctness"
   ]
  },
  {
   "cell_type": "code",
   "execution_count": 10,
   "metadata": {},
   "outputs": [],
   "source": [
    "from collections import deque\n",
    "\n",
    "def greedyCanoeistA(W, k):\n",
    "    N = len(W)\n",
    "    skinny = deque()\n",
    "    fatso = deque()\n",
    "    for i in range(N - 1):\n",
    "        if W[i] + W[-1] <= k:\n",
    "            skinny.append(W[i])\n",
    "        else:\n",
    "            fatso.append(W[i])\n",
    "    fatso.append(W[-1])\n",
    "    canoes = 0\n",
    "    while (skinny or fatso):\n",
    "        if len(skinny) > 0:\n",
    "            skinny.pop()\n",
    "        fatso.pop()\n",
    "        canoes += 1\n",
    "        if (not fatso and skinny):\n",
    "            fatso.append(skinny.pop())\n",
    "        while (len(fatso) > 1 and fatso[-1] + fatso[0] <= k):\n",
    "            skinny.append(fatso.popleft())\n",
    "    return canoes"
   ]
  },
  {
   "cell_type": "code",
   "execution_count": 11,
   "metadata": {},
   "outputs": [],
   "source": [
    "def greedyCanoeistB(W, k):\n",
    "    canoes = 0\n",
    "    j = 0\n",
    "    i = len(W) - 1\n",
    "    while (i >= j):\n",
    "        if W[i] + W[j] <= k:\n",
    "            j += 1;\n",
    "        canoes += 1;\n",
    "        i -= 1\n",
    "    return canoes"
   ]
  },
  {
   "cell_type": "code",
   "execution_count": 14,
   "metadata": {},
   "outputs": [
    {
     "name": "stdout",
     "output_type": "stream",
     "text": [
      "8\n",
      "8\n"
     ]
    }
   ],
   "source": [
    "# TEST\n",
    "print(greedyCanoeistA([1,3,4,5,7,9,11,15,16,19,24,35,44,105], 50))\n",
    "print(greedyCanoeistB([1,3,4,5,7,9,11,15,16,19,24,35,44,105], 50))"
   ]
  },
  {
   "cell_type": "markdown",
   "metadata": {},
   "source": [
    "아이디어는 이해가 가는데.. 이런생각을 어떻게 함...ㅜㅜ"
   ]
  },
  {
   "cell_type": "markdown",
   "metadata": {},
   "source": [
    "## 16-1. MaxNonoverlappingSegments"
   ]
  },
  {
   "cell_type": "markdown",
   "metadata": {},
   "source": [
    "Located on a line are N segments, numbered from 0 to N − 1, whose positions are given in arrays A and B. For each I (0 ≤ I < N) the position of segment I is from A[I] to B[I] (inclusive). The segments are sorted by their ends, which means that B[K] ≤ B[K + 1] for K such that 0 ≤ K < N − 1.\n",
    "\n",
    "Two segments I and J, such that I ≠ J, are overlapping if they share at least one common point. In other words, A[I] ≤ A[J] ≤ B[I] or A[J] ≤ A[I] ≤ B[J].\n",
    "\n",
    "We say that the set of segments is non-overlapping if it contains no two overlapping segments. The goal is to find the size of a non-overlapping set containing the maximal number of segments.\n",
    "\n",
    "For example, consider arrays A, B such that:\n",
    "\n",
    "    A[0] = 1    B[0] = 5\n",
    "    A[1] = 3    B[1] = 6\n",
    "    A[2] = 7    B[2] = 8\n",
    "    A[3] = 9    B[3] = 9\n",
    "    A[4] = 9    B[4] = 10\n",
    "The segments are shown in the figure below.\n",
    "\n",
    "\n",
    "\n",
    "The size of a non-overlapping set containing a maximal number of segments is 3. For example, possible sets are {0, 2, 3}, {0, 2, 4}, {1, 2, 3} or {1, 2, 4}. There is no non-overlapping set with four segments.\n",
    "\n",
    "Write a function:\n",
    "\n",
    "def solution(A, B)\n",
    "\n",
    "that, given two arrays A and B consisting of N integers, returns the size of a non-overlapping set containing a maximal number of segments.\n",
    "\n",
    "For example, given arrays A, B shown above, the function should return 3, as explained above.\n",
    "\n",
    "Write an efficient algorithm for the following assumptions:\n",
    "\n",
    "N is an integer within the range [0..30,000];\n",
    "each element of arrays A, B is an integer within the range [0..1,000,000,000];\n",
    "A[I] ≤ B[I], for each I (0 ≤ I < N);\n",
    "B[K] ≤ B[K + 1], for each K (0 ≤ K < N − 1)."
   ]
  },
  {
   "cell_type": "code",
   "execution_count": 2,
   "metadata": {},
   "outputs": [],
   "source": [
    "def solution(A, B):\n",
    "    result = 0\n",
    "    last_end_point = -1\n",
    "    for (a, b) in zip(A, B):\n",
    "        if a > last_end_point:\n",
    "            result += 1\n",
    "            last_end_point = b\n",
    "    \n",
    "    return result\n"
   ]
  },
  {
   "cell_type": "markdown",
   "metadata": {},
   "source": [
    "Result(100%) : https://app.codility.com/demo/results/trainingGFCYFP-W8Z/\n",
    "\n",
    "O(N)"
   ]
  },
  {
   "cell_type": "markdown",
   "metadata": {},
   "source": [
    "## 16-2. TieRopes"
   ]
  },
  {
   "cell_type": "markdown",
   "metadata": {},
   "source": [
    "There are N ropes numbered from 0 to N − 1, whose lengths are given in an array A, lying on the floor in a line. For each I (0 ≤ I < N), the length of rope I on the line is A[I].\n",
    "\n",
    "We say that two ropes I and I + 1 are adjacent. Two adjacent ropes can be tied together with a knot, and the length of the tied rope is the sum of lengths of both ropes. The resulting new rope can then be tied again.\n",
    "\n",
    "For a given integer K, the goal is to tie the ropes in such a way that the number of ropes whose length is greater than or equal to K is maximal.\n",
    "\n",
    "For example, consider K = 4 and array A such that:\n",
    "\n",
    "    A[0] = 1\n",
    "    A[1] = 2\n",
    "    A[2] = 3\n",
    "    A[3] = 4\n",
    "    A[4] = 1\n",
    "    A[5] = 1\n",
    "    A[6] = 3\n",
    "The ropes are shown in the figure below.\n",
    "\n",
    "\n",
    "\n",
    "We can tie:\n",
    "\n",
    "rope 1 with rope 2 to produce a rope of length A[1] + A[2] = 5;\n",
    "rope 4 with rope 5 with rope 6 to produce a rope of length A[4] + A[5] + A[6] = 5.\n",
    "After that, there will be three ropes whose lengths are greater than or equal to K = 4. It is not possible to produce four such ropes.\n",
    "\n",
    "Write a function:\n",
    "\n",
    "def solution(K, A)\n",
    "\n",
    "that, given an integer K and a non-empty array A of N integers, returns the maximum number of ropes of length greater than or equal to K that can be created.\n",
    "\n",
    "For example, given K = 4 and array A such that:\n",
    "\n",
    "    A[0] = 1\n",
    "    A[1] = 2\n",
    "    A[2] = 3\n",
    "    A[3] = 4\n",
    "    A[4] = 1\n",
    "    A[5] = 1\n",
    "    A[6] = 3\n",
    "the function should return 3, as explained above.\n",
    "\n",
    "Write an efficient algorithm for the following assumptions:\n",
    "\n",
    "N is an integer within the range [1..100,000];\n",
    "K is an integer within the range [1..1,000,000,000];\n",
    "each element of array A is an integer within the range [1..1,000,000,000]."
   ]
  },
  {
   "cell_type": "code",
   "execution_count": null,
   "metadata": {},
   "outputs": [],
   "source": [
    "def solution(K, A):\n",
    "    result = 0\n",
    "    temp_sub_sum = 0\n",
    "    for rope in A:\n",
    "        temp_sub_sum += rope\n",
    "        if temp_sub_sum >= K:\n",
    "            result += 1\n",
    "            temp_sub_sum = 0\n",
    "    \n",
    "    return result\n"
   ]
  },
  {
   "cell_type": "markdown",
   "metadata": {},
   "source": [
    "Result(100%): https://app.codility.com/demo/results/trainingWS6T3M-TWS/\n",
    "\n",
    "O(N)"
   ]
  },
  {
   "cell_type": "code",
   "execution_count": null,
   "metadata": {},
   "outputs": [],
   "source": []
  }
 ],
 "metadata": {
  "kernelspec": {
   "display_name": "Python 3",
   "language": "python",
   "name": "python3"
  },
  "language_info": {
   "codemirror_mode": {
    "name": "ipython",
    "version": 3
   },
   "file_extension": ".py",
   "mimetype": "text/x-python",
   "name": "python",
   "nbconvert_exporter": "python",
   "pygments_lexer": "ipython3",
   "version": "3.7.4"
  }
 },
 "nbformat": 4,
 "nbformat_minor": 4
}
