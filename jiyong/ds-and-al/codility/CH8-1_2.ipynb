{
 "cells": [
  {
   "cell_type": "markdown",
   "metadata": {},
   "source": [
    "# CH8. Leader\n",
    "* PDF 내용 신기신기.."
   ]
  },
  {
   "cell_type": "markdown",
   "metadata": {},
   "source": [
    "## 8-1 Dominator"
   ]
  },
  {
   "cell_type": "markdown",
   "metadata": {},
   "source": [
    "n array A consisting of N integers is given. The dominator of array A is the value that occurs in more than half of the elements of A.\n",
    "\n",
    "For example, consider array A such that\n",
    "\n",
    " A[0] = 3    A[1] = 4    A[2] =  3\n",
    " A[3] = 2    A[4] = 3    A[5] = -1\n",
    " A[6] = 3    A[7] = 3\n",
    "The dominator of A is 3 because it occurs in 5 out of 8 elements of A (namely in those with indices 0, 2, 4, 6 and 7) and 5 is more than a half of 8.\n",
    "\n",
    "Write a function\n",
    "\n",
    "def solution(A)\n",
    "\n",
    "that, given an array A consisting of N integers, returns index of any element of array A in which the dominator of A occurs. The function should return −1 if array A does not have a dominator.\n",
    "\n",
    "For example, given array A such that\n",
    "\n",
    " A[0] = 3    A[1] = 4    A[2] =  3\n",
    " A[3] = 2    A[4] = 3    A[5] = -1\n",
    " A[6] = 3    A[7] = 3\n",
    "the function may return 0, 2, 4, 6 or 7, as explained above.\n",
    "\n",
    "Write an efficient algorithm for the following assumptions:\n",
    "\n",
    "N is an integer within the range [0..100,000];\n",
    "each element of array A is an integer within the range [−2,147,483,648..2,147,483,647]."
   ]
  },
  {
   "cell_type": "code",
   "execution_count": 5,
   "metadata": {},
   "outputs": [],
   "source": [
    "def solution(A):\n",
    "    # write your code in Python 3.6\n",
    "    from functools import reduce\n",
    "    \n",
    "    def reducer(tmp_list, element):\n",
    "        if not tmp_list or tmp_list[-1] == element:\n",
    "            tmp_list.append(element)\n",
    "        else:\n",
    "            tmp_list.pop()\n",
    "        \n",
    "        return tmp_list\n",
    "    \n",
    "    candidate_list = reduce(reducer, A, list())\n",
    "    \n",
    "    if not candidate_list:\n",
    "        return -1\n",
    "    \n",
    "    candidate = candidate_list[0]\n",
    "    index_list = [index for index, value in enumerate(A) if value == candidate]\n",
    "    return index_list[0] if (len(index_list) > len(A) // 2) else -1\n"
   ]
  },
  {
   "cell_type": "markdown",
   "metadata": {},
   "source": [
    "Result(100%) : https://app.codility.com/demo/results/trainingZZFYDV-6H3/"
   ]
  },
  {
   "cell_type": "markdown",
   "metadata": {},
   "source": [
    "## 8-2 EquiLeader"
   ]
  },
  {
   "cell_type": "markdown",
   "metadata": {},
   "source": [
    "A non-empty array A consisting of N integers is given.\n",
    "\n",
    "The leader of this array is the value that occurs in more than half of the elements of A.\n",
    "\n",
    "An equi leader is an index S such that 0 ≤ S < N − 1 and two sequences A[0], A[1], ..., A[S] and A[S + 1], A[S + 2], ..., A[N − 1] have leaders of the same value.\n",
    "\n",
    "For example, given array A such that:\n",
    "\n",
    "    A[0] = 4\n",
    "    A[1] = 3\n",
    "    A[2] = 4\n",
    "    A[3] = 4\n",
    "    A[4] = 4\n",
    "    A[5] = 2\n",
    "we can find two equi leaders:\n",
    "\n",
    "0, because sequences: (4) and (3, 4, 4, 4, 2) have the same leader, whose value is 4.\n",
    "2, because sequences: (4, 3, 4) and (4, 4, 2) have the same leader, whose value is 4.\n",
    "The goal is to count the number of equi leaders.\n",
    "\n",
    "Write a function:\n",
    "\n",
    "def solution(A)\n",
    "\n",
    "that, given a non-empty array A consisting of N integers, returns the number of equi leaders.\n",
    "\n",
    "For example, given:\n",
    "\n",
    "    A[0] = 4\n",
    "    A[1] = 3\n",
    "    A[2] = 4\n",
    "    A[3] = 4\n",
    "    A[4] = 4\n",
    "    A[5] = 2\n",
    "the function should return 2, as explained above.\n",
    "\n",
    "Write an efficient algorithm for the following assumptions:\n",
    "\n",
    "N is an integer within the range [1..100,000];\n",
    "each element of array A is an integer within the range [−1,000,000,000..1,000,000,000]."
   ]
  },
  {
   "cell_type": "code",
   "execution_count": 7,
   "metadata": {},
   "outputs": [],
   "source": [
    "def solution(A):\n",
    "    # write your code in Python 3.6\n",
    "    from functools import reduce\n",
    "    \n",
    "    def reducer(tmp_list, element):\n",
    "        if not tmp_list or tmp_list[-1] == element:\n",
    "            tmp_list.append(element)\n",
    "        else:\n",
    "            tmp_list.pop()\n",
    "        \n",
    "        return tmp_list\n",
    "    \n",
    "    candidate_list = reduce(reducer, A, list())\n",
    "    \n",
    "    if not candidate_list:\n",
    "        return 0\n",
    "    \n",
    "    candidate = candidate_list[0]\n",
    "    index_list = [index for index, value in enumerate(A) if value == candidate]\n",
    "    leader_count = len(index_list)\n",
    "    total_count = len(A)\n",
    "    \n",
    "    if leader_count <= total_count // 2:\n",
    "        return 0\n",
    "    \n",
    "    def reducer2(tmp_result, element):\n",
    "        if element == candidate:\n",
    "            tmp_result[\"count\"] += 1\n",
    "        if tmp_result[\"count\"] > (tmp_result[\"index\"] + 1) // 2 and (leader_count - tmp_result[\"count\"]) > (total_count - tmp_result[\"index\"] - 1) // 2:\n",
    "            tmp_result[\"equ_leader_list\"].append(tmp_result[\"index\"])\n",
    "        tmp_result[\"index\"] += 1\n",
    "        return tmp_result\n",
    "    \n",
    "    result = reduce(reducer2, A, {\"index\": 0, \"count\": 0, \"equ_leader_list\": []})\n",
    "    return len(result[\"equ_leader_list\"])\n",
    "    \n"
   ]
  },
  {
   "cell_type": "markdown",
   "metadata": {},
   "source": [
    "Result(100%) : https://app.codility.com/demo/results/trainingHTB4GZ-NT5/\n",
    "\n",
    "O(N)\n",
    "\n",
    "코드 너무 더럽다........."
   ]
  },
  {
   "cell_type": "code",
   "execution_count": null,
   "metadata": {},
   "outputs": [],
   "source": []
  }
 ],
 "metadata": {
  "kernelspec": {
   "display_name": "Python 3",
   "language": "python",
   "name": "python3"
  },
  "language_info": {
   "codemirror_mode": {
    "name": "ipython",
    "version": 3
   },
   "file_extension": ".py",
   "mimetype": "text/x-python",
   "name": "python",
   "nbconvert_exporter": "python",
   "pygments_lexer": "ipython3",
   "version": "3.7.4"
  }
 },
 "nbformat": 4,
 "nbformat_minor": 4
}
