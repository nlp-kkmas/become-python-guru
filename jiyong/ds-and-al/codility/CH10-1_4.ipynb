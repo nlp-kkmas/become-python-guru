{
 "cells": [
  {
   "cell_type": "markdown",
   "metadata": {},
   "source": [
    "# CH10. Prime and composite numbers\n",
    "* 소수 찾기"
   ]
  },
  {
   "cell_type": "markdown",
   "metadata": {},
   "source": [
    "## 10-1. CountFactors"
   ]
  },
  {
   "cell_type": "markdown",
   "metadata": {},
   "source": [
    "A positive integer D is a factor of a positive integer N if there exists an integer M such that N = D * M.\n",
    "\n",
    "For example, 6 is a factor of 24, because M = 4 satisfies the above condition (24 = 6 * 4).\n",
    "\n",
    "Write a function:\n",
    "\n",
    "def solution(N)\n",
    "\n",
    "that, given a positive integer N, returns the number of its factors.\n",
    "\n",
    "For example, given N = 24, the function should return 8, because 24 has 8 factors, namely 1, 2, 3, 4, 6, 8, 12, 24. There are no other factors of 24.\n",
    "\n",
    "Write an efficient algorithm for the following assumptions:\n",
    "\n",
    "N is an integer within the range [1..2,147,483,647]."
   ]
  },
  {
   "cell_type": "code",
   "execution_count": null,
   "metadata": {},
   "outputs": [],
   "source": [
    "def solution(N):\n",
    "    # write your code in Python 3.6\n",
    "    def loop(i, num, result=0):\n",
    "        if i ** 2 > num:\n",
    "            return 2 * result\n",
    "        elif i ** 2 == num:\n",
    "            return 2 * result + 1\n",
    "        else:\n",
    "            div, mod = divmod(num, i)\n",
    "            return loop(i + 1, num, (result + 1) if (mod == 0) else result)\n",
    "    \n",
    "    return loop(1, N)\n"
   ]
  },
  {
   "cell_type": "markdown",
   "metadata": {},
   "source": [
    "Result(57%) : https://app.codility.com/demo/results/trainingWJDSNT-XR6/\n",
    "\n",
    "재귀함수는 역시나 안된다."
   ]
  },
  {
   "cell_type": "code",
   "execution_count": null,
   "metadata": {},
   "outputs": [],
   "source": [
    "def solution(N):\n",
    "    # write your code in Python 3.6\n",
    "    i = 1\n",
    "    result = 0\n",
    "    while i ** 2 < N:\n",
    "        div, mod = divmod(N, i)\n",
    "        if mod == 0:\n",
    "            result += 1\n",
    "        i += 1\n",
    "    result *= 2\n",
    "    return (result + 1) if i ** 2 == N else result\n"
   ]
  },
  {
   "cell_type": "markdown",
   "metadata": {},
   "source": [
    "Result(100%) : https://app.codility.com/demo/results/trainingN8UY2Z-K53/"
   ]
  },
  {
   "cell_type": "markdown",
   "metadata": {},
   "source": [
    "## 10-2. Flags"
   ]
  },
  {
   "cell_type": "markdown",
   "metadata": {},
   "source": [
    "A non-empty array A consisting of N integers is given.\n",
    "\n",
    "A peak is an array element which is larger than its neighbours. More precisely, it is an index P such that 0 < P < N − 1 and A[P − 1] < A[P] > A[P + 1].\n",
    "\n",
    "For example, the following array A:\n",
    "\n",
    "    A[0] = 1\n",
    "    A[1] = 5\n",
    "    A[2] = 3\n",
    "    A[3] = 4\n",
    "    A[4] = 3\n",
    "    A[5] = 4\n",
    "    A[6] = 1\n",
    "    A[7] = 2\n",
    "    A[8] = 3\n",
    "    A[9] = 4\n",
    "    A[10] = 6\n",
    "    A[11] = 2\n",
    "has exactly four peaks: elements 1, 3, 5 and 10.\n",
    "\n",
    "You are going on a trip to a range of mountains whose relative heights are represented by array A, as shown in a figure below. You have to choose how many flags you should take with you. The goal is to set the maximum number of flags on the peaks, according to certain rules.\n",
    "\n",
    "\n",
    "\n",
    "Flags can only be set on peaks. What's more, if you take K flags, then the distance between any two flags should be greater than or equal to K. The distance between indices P and Q is the absolute value |P − Q|.\n",
    "\n",
    "For example, given the mountain range represented by array A, above, with N = 12, if you take:\n",
    "\n",
    "two flags, you can set them on peaks 1 and 5;\n",
    "three flags, you can set them on peaks 1, 5 and 10;\n",
    "four flags, you can set only three flags, on peaks 1, 5 and 10.\n",
    "You can therefore set a maximum of three flags in this case.\n",
    "\n",
    "Write a function:\n",
    "\n",
    "def solution(A)\n",
    "\n",
    "that, given a non-empty array A of N integers, returns the maximum number of flags that can be set on the peaks of the array.\n",
    "\n",
    "For example, the following array A:\n",
    "\n",
    "    A[0] = 1\n",
    "    A[1] = 5\n",
    "    A[2] = 3\n",
    "    A[3] = 4\n",
    "    A[4] = 3\n",
    "    A[5] = 4\n",
    "    A[6] = 1\n",
    "    A[7] = 2\n",
    "    A[8] = 3\n",
    "    A[9] = 4\n",
    "    A[10] = 6\n",
    "    A[11] = 2\n",
    "the function should return 3, as explained above.\n",
    "\n",
    "Write an efficient algorithm for the following assumptions:\n",
    "\n",
    "N is an integer within the range [1..400,000];\n",
    "each element of array A is an integer within the range [0..1,000,000,000]."
   ]
  },
  {
   "cell_type": "code",
   "execution_count": null,
   "metadata": {},
   "outputs": [],
   "source": [
    "def solution(A):\n",
    "    # write your code in Python 3.6\n",
    "    zip_list = zip(A[:-2], A[1:-1], A[2:])\n",
    "    peak_index_list = [index + 1 for (index, value_tuple) in enumerate(zip_list) if value_tuple[1] > value_tuple[0] and value_tuple[1] > value_tuple[2]]\n",
    "    candidate_count = len(peak_index_list)\n",
    "    \n",
    "    for i in range(candidate_count):\n",
    "        flag_count = candidate_count - i\n",
    "        skip_count = i\n",
    "        before_index = peak_index_list[0]\n",
    "        result = True\n",
    "        for j in range(candidate_count - 1):\n",
    "            this_index = peak_index_list[j + 1]\n",
    "            if this_index - before_index >= flag_count:\n",
    "                before_index = this_index\n",
    "            elif skip_count > 0:\n",
    "                skip_count -= 1\n",
    "            else:\n",
    "                result = False\n",
    "                break\n",
    "        \n",
    "        if result:\n",
    "            return flag_count\n",
    "    return 0\n"
   ]
  },
  {
   "cell_type": "markdown",
   "metadata": {},
   "source": [
    "Result(66%) : https://app.codility.com/demo/results/trainingBC4DDD-CCM/\n",
    "\n",
    "비효율적 코드.."
   ]
  },
  {
   "cell_type": "markdown",
   "metadata": {},
   "source": [
    "## 10-3. MinPerimeterRectangle"
   ]
  },
  {
   "cell_type": "markdown",
   "metadata": {},
   "source": [
    "An integer N is given, representing the area of some rectangle.\n",
    "\n",
    "The area of a rectangle whose sides are of length A and B is A * B, and the perimeter is 2 * (A + B).\n",
    "\n",
    "The goal is to find the minimal perimeter of any rectangle whose area equals N. The sides of this rectangle should be only integers.\n",
    "\n",
    "For example, given integer N = 30, rectangles of area 30 are:\n",
    "\n",
    "(1, 30), with a perimeter of 62,\n",
    "(2, 15), with a perimeter of 34,\n",
    "(3, 10), with a perimeter of 26,\n",
    "(5, 6), with a perimeter of 22.\n",
    "Write a function:\n",
    "\n",
    "def solution(N)\n",
    "\n",
    "that, given an integer N, returns the minimal perimeter of any rectangle whose area is exactly equal to N.\n",
    "\n",
    "For example, given an integer N = 30, the function should return 22, as explained above.\n",
    "\n",
    "Write an efficient algorithm for the following assumptions:\n",
    "\n",
    "N is an integer within the range [1..1,000,000,000]."
   ]
  },
  {
   "cell_type": "code",
   "execution_count": null,
   "metadata": {},
   "outputs": [],
   "source": [
    "def solution(N):\n",
    "    # write your code in Python 3.6\n",
    "    i = 1\n",
    "    result = []\n",
    "    while i ** 2 < N:\n",
    "        div, mod = divmod(N, i)\n",
    "        if mod == 0:\n",
    "            result.append(i)\n",
    "        i += 1\n",
    "    if i ** 2 == N:\n",
    "        return 4 * i\n",
    "\n",
    "    num1 = result[-1]\n",
    "    num2 = divmod(N, num1)[0]\n",
    "    return 2 * (num1 + num2)\n"
   ]
  },
  {
   "cell_type": "markdown",
   "metadata": {},
   "source": [
    "Result(100%) : https://app.codility.com/demo/results/training6T7S99-3PV/"
   ]
  },
  {
   "cell_type": "markdown",
   "metadata": {},
   "source": [
    "## 10-4. Peaks"
   ]
  },
  {
   "cell_type": "markdown",
   "metadata": {},
   "source": [
    "A non-empty array A consisting of N integers is given.\n",
    "\n",
    "A peak is an array element which is larger than its neighbors. More precisely, it is an index P such that 0 < P < N − 1,  A[P − 1] < A[P] and A[P] > A[P + 1].\n",
    "\n",
    "For example, the following array A:\n",
    "\n",
    "    A[0] = 1\n",
    "    A[1] = 2\n",
    "    A[2] = 3\n",
    "    A[3] = 4\n",
    "    A[4] = 3\n",
    "    A[5] = 4\n",
    "    A[6] = 1\n",
    "    A[7] = 2\n",
    "    A[8] = 3\n",
    "    A[9] = 4\n",
    "    A[10] = 6\n",
    "    A[11] = 2\n",
    "has exactly three peaks: 3, 5, 10.\n",
    "\n",
    "We want to divide this array into blocks containing the same number of elements. More precisely, we want to choose a number K that will yield the following blocks:\n",
    "\n",
    "A[0], A[1], ..., A[K − 1],\n",
    "A[K], A[K + 1], ..., A[2K − 1],\n",
    "...\n",
    "A[N − K], A[N − K + 1], ..., A[N − 1].\n",
    "What's more, every block should contain at least one peak. Notice that extreme elements of the blocks (for example A[K − 1] or A[K]) can also be peaks, but only if they have both neighbors (including one in an adjacent blocks).\n",
    "\n",
    "The goal is to find the maximum number of blocks into which the array A can be divided.\n",
    "\n",
    "Array A can be divided into blocks as follows:\n",
    "\n",
    "one block (1, 2, 3, 4, 3, 4, 1, 2, 3, 4, 6, 2). This block contains three peaks.\n",
    "two blocks (1, 2, 3, 4, 3, 4) and (1, 2, 3, 4, 6, 2). Every block has a peak.\n",
    "three blocks (1, 2, 3, 4), (3, 4, 1, 2), (3, 4, 6, 2). Every block has a peak. Notice in particular that the first block (1, 2, 3, 4) has a peak at A[3], because A[2] < A[3] > A[4], even though A[4] is in the adjacent block.\n",
    "However, array A cannot be divided into four blocks, (1, 2, 3), (4, 3, 4), (1, 2, 3) and (4, 6, 2), because the (1, 2, 3) blocks do not contain a peak. Notice in particular that the (4, 3, 4) block contains two peaks: A[3] and A[5].\n",
    "\n",
    "The maximum number of blocks that array A can be divided into is three.\n",
    "\n",
    "Write a function:\n",
    "\n",
    "def solution(A)\n",
    "\n",
    "that, given a non-empty array A consisting of N integers, returns the maximum number of blocks into which A can be divided.\n",
    "\n",
    "If A cannot be divided into some number of blocks, the function should return 0.\n",
    "\n",
    "For example, given:\n",
    "\n",
    "    A[0] = 1\n",
    "    A[1] = 2\n",
    "    A[2] = 3\n",
    "    A[3] = 4\n",
    "    A[4] = 3\n",
    "    A[5] = 4\n",
    "    A[6] = 1\n",
    "    A[7] = 2\n",
    "    A[8] = 3\n",
    "    A[9] = 4\n",
    "    A[10] = 6\n",
    "    A[11] = 2\n",
    "the function should return 3, as explained above.\n",
    "\n",
    "Write an efficient algorithm for the following assumptions:\n",
    "\n",
    "N is an integer within the range [1..100,000];\n",
    "each element of array A is an integer within the range [0..1,000,000,000]."
   ]
  },
  {
   "cell_type": "code",
   "execution_count": null,
   "metadata": {},
   "outputs": [],
   "source": [
    "def solution(A):\n",
    "    # write your code in Python 3.6\n",
    "    pass\n"
   ]
  },
  {
   "cell_type": "code",
   "execution_count": null,
   "metadata": {},
   "outputs": [],
   "source": []
  },
  {
   "cell_type": "code",
   "execution_count": null,
   "metadata": {},
   "outputs": [],
   "source": []
  }
 ],
 "metadata": {
  "kernelspec": {
   "display_name": "Python 3",
   "language": "python",
   "name": "python3"
  },
  "language_info": {
   "codemirror_mode": {
    "name": "ipython",
    "version": 3
   },
   "file_extension": ".py",
   "mimetype": "text/x-python",
   "name": "python",
   "nbconvert_exporter": "python",
   "pygments_lexer": "ipython3",
   "version": "3.7.4"
  }
 },
 "nbformat": 4,
 "nbformat_minor": 4
}
