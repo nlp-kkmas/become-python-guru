{
 "cells": [
  {
   "cell_type": "code",
   "execution_count": 1,
   "metadata": {},
   "outputs": [],
   "source": [
    "# you can write to stdout for debugging purposes, e.g.\n",
    "# print(\"this is a debug message\")\n",
    "\n",
    "def solution(A):\n",
    "    # write your code in Python 3.6\n",
    "    def loop(arr, occ_dict={}):\n",
    "        if not arr:\n",
    "            return occ_dict\n",
    "        element = arr[0]\n",
    "        \n",
    "        return loop(arr[1:], {**occ_dict, element: occ_dict.get(element, 0) + 1})\n",
    "    \n",
    "    return [key for key, value in loop(A).items() if value % 2 == 1][0]"
   ]
  },
  {
   "cell_type": "code",
   "execution_count": 2,
   "metadata": {},
   "outputs": [
    {
     "data": {
      "text/plain": [
       "5"
      ]
     },
     "execution_count": 2,
     "metadata": {},
     "output_type": "execute_result"
    }
   ],
   "source": [
    "solution([1, 2, 3, 5, 3, 2, 1])"
   ]
  },
  {
   "cell_type": "code",
   "execution_count": 3,
   "metadata": {},
   "outputs": [
    {
     "data": {
      "text/plain": [
       "2"
      ]
     },
     "execution_count": 3,
     "metadata": {},
     "output_type": "execute_result"
    }
   ],
   "source": [
    "solution([1, 5, 5, 2, 1])"
   ]
  },
  {
   "cell_type": "code",
   "execution_count": 4,
   "metadata": {},
   "outputs": [],
   "source": [
    "# memory error... tail recursion 에 대한 optimize 필요..\n",
    "# 일반 스타일은 되는데..."
   ]
  },
  {
   "cell_type": "code",
   "execution_count": 5,
   "metadata": {},
   "outputs": [],
   "source": [
    "# you can write to stdout for debugging purposes, e.g.\n",
    "# print(\"this is a debug message\")\n",
    "\n",
    "def solution(A):\n",
    "    occ_dict = {}\n",
    "    for item in A:\n",
    "        occ_dict[item] = occ_dict.get(item, 0) + 1\n",
    "    return [key for key, value in occ_dict.items() if value % 2 == 1][0]"
   ]
  },
  {
   "cell_type": "code",
   "execution_count": 6,
   "metadata": {},
   "outputs": [
    {
     "data": {
      "text/plain": [
       "5"
      ]
     },
     "execution_count": 6,
     "metadata": {},
     "output_type": "execute_result"
    }
   ],
   "source": [
    "solution([1, 2, 3, 5, 3, 2, 1])"
   ]
  },
  {
   "cell_type": "code",
   "execution_count": 7,
   "metadata": {},
   "outputs": [
    {
     "data": {
      "text/plain": [
       "2"
      ]
     },
     "execution_count": 7,
     "metadata": {},
     "output_type": "execute_result"
    }
   ],
   "source": [
    "solution([1, 5, 5, 2, 1])"
   ]
  },
  {
   "cell_type": "code",
   "execution_count": null,
   "metadata": {},
   "outputs": [],
   "source": []
  },
  {
   "cell_type": "code",
   "execution_count": 8,
   "metadata": {},
   "outputs": [],
   "source": [
    "## reduce 활용하여 다시"
   ]
  },
  {
   "cell_type": "code",
   "execution_count": 9,
   "metadata": {},
   "outputs": [],
   "source": [
    "# you can write to stdout for debugging purposes, e.g.\n",
    "# print(\"this is a debug message\")\n",
    "\n",
    "def solution(A):\n",
    "    from functools import reduce\n",
    "    \n",
    "    # write your code in Python 3.6\n",
    "    def reducer(num_dict, element):\n",
    "        return {**num_dict, element: num_dict.get(element, 0) + 1}\n",
    "    \n",
    "    occ_dict = reduce(reducer, A, {})\n",
    "    return [key for key, value in occ_dict.items() if value % 2 == 1][0]"
   ]
  },
  {
   "cell_type": "code",
   "execution_count": 10,
   "metadata": {},
   "outputs": [],
   "source": [
    "## 타임에러.. dict 을 풀어서 새로 만드는데 O(n) 이 생기는듯..\n",
    "## shallow copy 쓰자.. (deep copy 까진 안써도 될듯)"
   ]
  },
  {
   "cell_type": "code",
   "execution_count": 16,
   "metadata": {},
   "outputs": [],
   "source": [
    "# you can write to stdout for debugging purposes, e.g.\n",
    "# print(\"this is a debug message\")\n",
    "\n",
    "def solution(A):\n",
    "    from functools import reduce\n",
    "    import copy\n",
    "    # write your code in Python 3.6\n",
    "    def reducer(num_dict, element):\n",
    "        new_num_dict = copy.copy(num_dict)\n",
    "        new_num_dict[element] = new_num_dict.get(element, 0) + 1\n",
    "        return new_num_dict\n",
    "    \n",
    "    occ_dict = reduce(reducer, A, {})\n",
    "    return [key for key, value in occ_dict.items() if value % 2 == 1][0]\n"
   ]
  },
  {
   "cell_type": "code",
   "execution_count": null,
   "metadata": {},
   "outputs": [],
   "source": []
  },
  {
   "cell_type": "code",
   "execution_count": 12,
   "metadata": {},
   "outputs": [
    {
     "name": "stdout",
     "output_type": "stream",
     "text": [
      "{1: 3, 2: 4}\n",
      "{1: 3, 2: 3}\n"
     ]
    }
   ],
   "source": [
    "import copy\n",
    "\n",
    "a = {1:3, 2: 4}\n",
    "b = copy.copy(a)\n",
    "b.update({2:3})\n",
    "print(a)\n",
    "print(b)"
   ]
  },
  {
   "cell_type": "code",
   "execution_count": 13,
   "metadata": {},
   "outputs": [],
   "source": [
    "## 안됨... shallow copy 도 O(n) 인듯.. 아래처림 해야만 통과..."
   ]
  },
  {
   "cell_type": "code",
   "execution_count": 15,
   "metadata": {},
   "outputs": [],
   "source": [
    "# you can write to stdout for debugging purposes, e.g.\n",
    "# print(\"this is a debug message\")\n",
    "\n",
    "def solution(A):\n",
    "    from functools import reduce\n",
    "    \n",
    "    # write your code in Python 3.6\n",
    "    def reducer(num_dict, element):\n",
    "        num_dict[element] = num_dict.get(element, 0) + 1\n",
    "        return num_dict\n",
    "    \n",
    "    occ_dict = reduce(reducer, A, {})\n",
    "    return [key for key, value in occ_dict.items() if value % 2 == 1][0]"
   ]
  },
  {
   "cell_type": "code",
   "execution_count": null,
   "metadata": {},
   "outputs": [],
   "source": []
  }
 ],
 "metadata": {
  "kernelspec": {
   "display_name": "Python 3",
   "language": "python",
   "name": "python3"
  },
  "language_info": {
   "codemirror_mode": {
    "name": "ipython",
    "version": 3
   },
   "file_extension": ".py",
   "mimetype": "text/x-python",
   "name": "python",
   "nbconvert_exporter": "python",
   "pygments_lexer": "ipython3",
   "version": "3.7.4"
  }
 },
 "nbformat": 4,
 "nbformat_minor": 4
}
