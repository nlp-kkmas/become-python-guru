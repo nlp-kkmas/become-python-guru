{
 "cells": [
  {
   "cell_type": "code",
   "execution_count": 1,
   "metadata": {},
   "outputs": [],
   "source": [
    "# you can write to stdout for debugging purposes, e.g.\n",
    "# print(\"this is a debug message\")\n",
    "\n",
    "def solution(A):\n",
    "    # write your code in Python 3.6\n",
    "    def loop(arr, total_sum, diff_list=[], sub_sum=0):\n",
    "        if not arr[1:]:\n",
    "            return diff_list\n",
    "        next_sub_sum = sub_sum + arr[0]\n",
    "        diff = abs(total_sum - 2 * next_sub_sum)\n",
    "        return loop(arr[1:], total_sum, diff_list + [diff], next_sub_sum)\n",
    "    \n",
    "    return min(loop(A, sum(A)))\n"
   ]
  },
  {
   "cell_type": "code",
   "execution_count": 2,
   "metadata": {},
   "outputs": [
    {
     "data": {
      "text/plain": [
       "2"
      ]
     },
     "execution_count": 2,
     "metadata": {},
     "output_type": "execute_result"
    }
   ],
   "source": [
    "solution([1,2,3,4])"
   ]
  },
  {
   "cell_type": "code",
   "execution_count": null,
   "metadata": {},
   "outputs": [],
   "source": []
  },
  {
   "cell_type": "code",
   "execution_count": 3,
   "metadata": {},
   "outputs": [],
   "source": [
    "## 재귀함수 문제\n",
    "## reduce 함수로 다시"
   ]
  },
  {
   "cell_type": "code",
   "execution_count": 4,
   "metadata": {},
   "outputs": [],
   "source": [
    "# you can write to stdout for debugging purposes, e.g.\n",
    "# print(\"this is a debug message\")\n",
    "\n",
    "def solution(A):\n",
    "    from functools import reduce\n",
    "    from collections import namedtuple\n",
    "    \n",
    "    # write your code in Python 3.6\n",
    "    DiffFindTuple = namedtuple('DiffFindTuple', 'total_sum sub_sum diff_list')\n",
    "    def reducer(tupl, element):\n",
    "        next_sub_sum = tupl.sub_sum + element\n",
    "        diff = abs(tupl.total_sum - 2 * next_sub_sum)\n",
    "        return DiffFindTuple(tupl.total_sum, next_sub_sum, tupl.diff_list + [diff])\n",
    "    \n",
    "    reduce_result = reduce(reducer, A, DiffFindTuple(sum(A), 0, []))\n",
    "    return min(reduce_result.diff_list[:-1])\n"
   ]
  },
  {
   "cell_type": "code",
   "execution_count": 5,
   "metadata": {},
   "outputs": [
    {
     "data": {
      "text/plain": [
       "2"
      ]
     },
     "execution_count": 5,
     "metadata": {},
     "output_type": "execute_result"
    }
   ],
   "source": [
    "solution([1,2,3,4])"
   ]
  },
  {
   "cell_type": "code",
   "execution_count": null,
   "metadata": {},
   "outputs": [],
   "source": []
  },
  {
   "cell_type": "code",
   "execution_count": 6,
   "metadata": {},
   "outputs": [],
   "source": [
    "# list append 문제?"
   ]
  },
  {
   "cell_type": "code",
   "execution_count": 7,
   "metadata": {},
   "outputs": [],
   "source": [
    "# you can write to stdout for debugging purposes, e.g.\n",
    "# print(\"this is a debug message\")\n",
    "\n",
    "def solution(A):\n",
    "    from functools import reduce\n",
    "    from collections import namedtuple\n",
    "    \n",
    "    # write your code in Python 3.6\n",
    "    DiffFindTuple = namedtuple('DiffFindTuple', 'total_sum sub_sum diff_list')\n",
    "    def reducer(tupl, element):\n",
    "        next_sub_sum = tupl.sub_sum + element\n",
    "        diff = abs(tupl.total_sum - 2 * next_sub_sum)\n",
    "        tupl.diff_list.append(diff)\n",
    "        return DiffFindTuple(tupl.total_sum, next_sub_sum, tupl.diff_list)\n",
    "    \n",
    "    reduce_result = reduce(reducer, A, DiffFindTuple(sum(A), 0, []))\n",
    "    return min(reduce_result.diff_list[:-1])\n"
   ]
  },
  {
   "cell_type": "code",
   "execution_count": null,
   "metadata": {},
   "outputs": [],
   "source": []
  }
 ],
 "metadata": {
  "kernelspec": {
   "display_name": "Python 3",
   "language": "python",
   "name": "python3"
  },
  "language_info": {
   "codemirror_mode": {
    "name": "ipython",
    "version": 3
   },
   "file_extension": ".py",
   "mimetype": "text/x-python",
   "name": "python",
   "nbconvert_exporter": "python",
   "pygments_lexer": "ipython3",
   "version": "3.7.4"
  }
 },
 "nbformat": 4,
 "nbformat_minor": 4
}
