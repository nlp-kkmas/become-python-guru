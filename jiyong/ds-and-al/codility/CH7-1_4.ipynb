{
 "cells": [
  {
   "cell_type": "markdown",
   "metadata": {},
   "source": [
    "## 7-1 Brackets"
   ]
  },
  {
   "cell_type": "markdown",
   "metadata": {},
   "source": [
    "A string S consisting of N characters is considered to be properly nested if any of the following conditions is true:\n",
    "\n",
    "S is empty;\n",
    "S has the form \"(U)\" or \"[U]\" or \"{U}\" where U is a properly nested string;\n",
    "S has the form \"VW\" where V and W are properly nested strings.\n",
    "For example, the string \"{[()()]}\" is properly nested but \"([)()]\" is not.\n",
    "\n",
    "Write a function:\n",
    "\n",
    "def solution(S)\n",
    "\n",
    "that, given a string S consisting of N characters, returns 1 if S is properly nested and 0 otherwise.\n",
    "\n",
    "For example, given S = \"{[()()]}\", the function should return 1 and given S = \"([)()]\", the function should return 0, as explained above.\n",
    "\n",
    "Write an efficient algorithm for the following assumptions:\n",
    "\n",
    "N is an integer within the range [0..200,000];\n",
    "string S consists only of the following characters: \"(\", \"{\", \"[\", \"]\", \"}\" and/or \")\"."
   ]
  },
  {
   "cell_type": "code",
   "execution_count": 1,
   "metadata": {},
   "outputs": [],
   "source": [
    "def solution(S):\n",
    "    # write your code in Python 3.6\n",
    "    from functools import reduce\n",
    "    code_dict = {\"(\": 1, \"{\": 2, \"[\": 3, \")\": -1, \"}\": -2, \"]\": -3}\n",
    "    \n",
    "    def reducer(tmp_result, element):\n",
    "        tmp_arr = tmp_result[\"arr\"]\n",
    "        count = len(tmp_arr)\n",
    "        code = code_dict[element]\n",
    "        if code > 0:\n",
    "            tmp_arr.append(code)\n",
    "        elif count == 0 or tmp_arr[count - 1] + code != 0:\n",
    "            tmp_result[\"is_nested\"] = False\n",
    "        else:\n",
    "            tmp_arr.pop()\n",
    "        \n",
    "        return tmp_result\n",
    "    \n",
    "    result = reduce(reducer, S, {\"arr\": [], \"is_nested\": True})\n",
    "    return 0 if result[\"arr\"] or not result[\"is_nested\"] else 1\n"
   ]
  },
  {
   "cell_type": "markdown",
   "metadata": {},
   "source": [
    "Result(100%) : https://app.codility.com/demo/results/trainingMQCZJB-6TT/"
   ]
  },
  {
   "cell_type": "markdown",
   "metadata": {},
   "source": [
    "## 7-2 Fish"
   ]
  },
  {
   "cell_type": "markdown",
   "metadata": {},
   "source": [
    "You are given two non-empty arrays A and B consisting of N integers. Arrays A and B represent N voracious fish in a river, ordered downstream along the flow of the river.\n",
    "\n",
    "The fish are numbered from 0 to N − 1. If P and Q are two fish and P < Q, then fish P is initially upstream of fish Q. Initially, each fish has a unique position.\n",
    "\n",
    "Fish number P is represented by A[P] and B[P]. Array A contains the sizes of the fish. All its elements are unique. Array B contains the directions of the fish. It contains only 0s and/or 1s, where:\n",
    "\n",
    "0 represents a fish flowing upstream,\n",
    "1 represents a fish flowing downstream.\n",
    "If two fish move in opposite directions and there are no other (living) fish between them, they will eventually meet each other. Then only one fish can stay alive − the larger fish eats the smaller one. More precisely, we say that two fish P and Q meet each other when P < Q, B[P] = 1 and B[Q] = 0, and there are no living fish between them. After they meet:\n",
    "\n",
    "If A[P] > A[Q] then P eats Q, and P will still be flowing downstream,\n",
    "If A[Q] > A[P] then Q eats P, and Q will still be flowing upstream.\n",
    "We assume that all the fish are flowing at the same speed. That is, fish moving in the same direction never meet. The goal is to calculate the number of fish that will stay alive.\n",
    "\n",
    "For example, consider arrays A and B such that:\n",
    "\n",
    "  A[0] = 4    B[0] = 0\n",
    "  A[1] = 3    B[1] = 1\n",
    "  A[2] = 2    B[2] = 0\n",
    "  A[3] = 1    B[3] = 0\n",
    "  A[4] = 5    B[4] = 0\n",
    "Initially all the fish are alive and all except fish number 1 are moving upstream. Fish number 1 meets fish number 2 and eats it, then it meets fish number 3 and eats it too. Finally, it meets fish number 4 and is eaten by it. The remaining two fish, number 0 and 4, never meet and therefore stay alive.\n",
    "\n",
    "Write a function:\n",
    "\n",
    "def solution(A, B)\n",
    "\n",
    "that, given two non-empty arrays A and B consisting of N integers, returns the number of fish that will stay alive.\n",
    "\n",
    "For example, given the arrays shown above, the function should return 2, as explained above.\n",
    "\n",
    "Write an efficient algorithm for the following assumptions:\n",
    "\n",
    "N is an integer within the range [1..100,000];\n",
    "each element of array A is an integer within the range [0..1,000,000,000];\n",
    "each element of array B is an integer that can have one of the following values: 0, 1;\n",
    "the elements of A are all distinct."
   ]
  },
  {
   "cell_type": "code",
   "execution_count": 2,
   "metadata": {},
   "outputs": [],
   "source": [
    "def solution(A, B):\n",
    "    # write your code in Python 3.6\n",
    "    from functools import reduce\n",
    "    \n",
    "    def reducer(tmp_result, element):\n",
    "        a, b = element\n",
    "        tmp_arr = tmp_result[\"arr\"]\n",
    "        if b == 1:\n",
    "            tmp_arr.append(a)\n",
    "        else:\n",
    "            index_list = [index for index, num in enumerate(tmp_arr) if num > a]\n",
    "            if not index_list:\n",
    "                tmp_result[\"up_count\"] += 1\n",
    "                tmp_result[\"arr\"] = []\n",
    "            else:\n",
    "                tmp_result[\"arr\"] = tmp_arr[:index_list[-1] + 1]\n",
    "        return tmp_result\n",
    "        \n",
    "    result = reduce(reducer, zip(A, B), {\"arr\": [], \"up_count\": 0})\n",
    "    return result[\"up_count\"] + len(result[\"arr\"])\n"
   ]
  },
  {
   "cell_type": "markdown",
   "metadata": {},
   "source": [
    "Result(87%) : https://app.codility.com/demo/results/trainingGWXB3A-9DD/"
   ]
  },
  {
   "cell_type": "code",
   "execution_count": 11,
   "metadata": {},
   "outputs": [],
   "source": [
    "def solution(A, B):\n",
    "    # write your code in Python 3.6\n",
    "    from functools import reduce\n",
    "    \n",
    "    def loop(tmp_arr, con_value):\n",
    "        if not tmp_arr:\n",
    "            return 1\n",
    "        elif tmp_arr[-1] > con_value:\n",
    "            return 0\n",
    "        else:\n",
    "            tmp_arr.pop()\n",
    "            return loop(tmp_arr, con_value)\n",
    "    \n",
    "    def reducer(tmp_result, element):\n",
    "        a, b = element\n",
    "        down_arr = tmp_result[\"down_arr\"]\n",
    "        if b == 1:\n",
    "            down_arr.append(a)\n",
    "        else:\n",
    "            tmp_result[\"up_count\"] += loop(down_arr, a)\n",
    "        \n",
    "        return tmp_result\n",
    "    \n",
    "    result = reduce(reducer, zip(A, B), {\"down_arr\": [], \"up_count\": 0})\n",
    "    return result[\"up_count\"] + len(result[\"down_arr\"])\n",
    "    "
   ]
  },
  {
   "cell_type": "markdown",
   "metadata": {},
   "source": [
    "Result(87%) : https://app.codility.com/demo/results/training6QB3BA-YGM/\n",
    "\n",
    "함수형 규칙 어김..\n",
    "\n",
    "이번엔 재귀함수 문제.. 하"
   ]
  },
  {
   "cell_type": "code",
   "execution_count": 12,
   "metadata": {},
   "outputs": [],
   "source": [
    "def solution(A, B):\n",
    "    # write your code in Python 3.6\n",
    "    from functools import reduce\n",
    "    \n",
    "    def loop(tmp_arr, con_value):\n",
    "        while True:\n",
    "            if not tmp_arr:\n",
    "                return 1\n",
    "            elif tmp_arr[-1] > con_value:\n",
    "                return 0\n",
    "            else:\n",
    "                tmp_arr.pop()\n",
    "    \n",
    "    def reducer(tmp_result, element):\n",
    "        a, b = element\n",
    "        down_arr = tmp_result[\"down_arr\"]\n",
    "        if b == 1:\n",
    "            down_arr.append(a)\n",
    "        else:\n",
    "            tmp_result[\"up_count\"] += loop(down_arr, a)\n",
    "        \n",
    "        return tmp_result\n",
    "    \n",
    "    result = reduce(reducer, zip(A, B), {\"down_arr\": [], \"up_count\": 0})\n",
    "    return result[\"up_count\"] + len(result[\"down_arr\"])\n",
    "    "
   ]
  },
  {
   "cell_type": "markdown",
   "metadata": {},
   "source": [
    "Result(100%) : https://app.codility.com/demo/results/trainingSEZ4P7-HTW/\n",
    "\n",
    "일단 성공.."
   ]
  },
  {
   "cell_type": "markdown",
   "metadata": {},
   "source": [
    "## 7-3 Nesting"
   ]
  },
  {
   "cell_type": "markdown",
   "metadata": {},
   "source": [
    "A string S consisting of N characters is called properly nested if:\n",
    "\n",
    "S is empty;\n",
    "S has the form \"(U)\" where U is a properly nested string;\n",
    "S has the form \"VW\" where V and W are properly nested strings.\n",
    "For example, string \"(()(())())\" is properly nested but string \"())\" isn't.\n",
    "\n",
    "Write a function:\n",
    "\n",
    "def solution(S)\n",
    "\n",
    "that, given a string S consisting of N characters, returns 1 if string S is properly nested and 0 otherwise.\n",
    "\n",
    "For example, given S = \"(()(())())\", the function should return 1 and given S = \"())\", the function should return 0, as explained above.\n",
    "\n",
    "Write an efficient algorithm for the following assumptions:\n",
    "\n",
    "N is an integer within the range [0..1,000,000];\n",
    "string S consists only of the characters \"(\" and/or \")\"."
   ]
  },
  {
   "cell_type": "code",
   "execution_count": 4,
   "metadata": {},
   "outputs": [],
   "source": [
    "def solution(S):\n",
    "    # write your code in Python 3.6\n",
    "    from functools import reduce\n",
    "    \n",
    "    def reducer(tmp_result, element):\n",
    "        tmp_arr = tmp_result[\"arr\"]\n",
    "        if element == \"(\":\n",
    "            tmp_arr.append(1)\n",
    "        elif not tmp_arr:\n",
    "            tmp_result[\"is_nested\"] = False\n",
    "        else:\n",
    "            tmp_arr.pop()\n",
    "        \n",
    "        return tmp_result\n",
    "    \n",
    "    result = reduce(reducer, S, {\"arr\": [], \"is_nested\": True})\n",
    "    return 0 if result[\"arr\"] or not result[\"is_nested\"] else 1\n"
   ]
  },
  {
   "cell_type": "markdown",
   "metadata": {},
   "source": [
    "Result(100%) : https://app.codility.com/demo/results/trainingAA3SPC-PPT/\n",
    "\n",
    "머지.. 1번이랑 똑같음"
   ]
  },
  {
   "cell_type": "markdown",
   "metadata": {},
   "source": [
    "## 7-4 StoneWall"
   ]
  },
  {
   "cell_type": "markdown",
   "metadata": {},
   "source": [
    "You are going to build a stone wall. The wall should be straight and N meters long, and its thickness should be constant; however, it should have different heights in different places. The height of the wall is specified by an array H of N positive integers. H[I] is the height of the wall from I to I+1 meters to the right of its left end. In particular, H[0] is the height of the wall's left end and H[N−1] is the height of the wall's right end.\n",
    "\n",
    "The wall should be built of cuboid stone blocks (that is, all sides of such blocks are rectangular). Your task is to compute the minimum number of blocks needed to build the wall.\n",
    "\n",
    "Write a function:\n",
    "\n",
    "def solution(H)\n",
    "\n",
    "that, given an array H of N positive integers specifying the height of the wall, returns the minimum number of blocks needed to build it.\n",
    "\n",
    "For example, given array H containing N = 9 integers:\n",
    "\n",
    "  H[0] = 8    H[1] = 8    H[2] = 5\n",
    "  H[3] = 7    H[4] = 9    H[5] = 8\n",
    "  H[6] = 7    H[7] = 4    H[8] = 8\n",
    "the function should return 7. The figure shows one possible arrangement of seven blocks.\n",
    "\n",
    "\n",
    "\n",
    "Write an efficient algorithm for the following assumptions:\n",
    "\n",
    "N is an integer within the range [1..100,000];\n",
    "each element of array H is an integer within the range [1..1,000,000,000]."
   ]
  },
  {
   "cell_type": "code",
   "execution_count": 5,
   "metadata": {},
   "outputs": [],
   "source": [
    "def solution(H):\n",
    "    # write your code in Python 3.6\n",
    "    from functools import reduce\n",
    "    from bisect import bisect_right\n",
    "    \n",
    "    def reducer(tmp_result, element):\n",
    "        arr = tmp_result[\"arr\"]\n",
    "        index = bisect_right(arr, element)\n",
    "        tmp_result[\"count\"] += len(arr[index:])\n",
    "        tmp_result[\"arr\"] = arr[:index]\n",
    "        if tmp_result[\"arr\"][-1] < element:\n",
    "            tmp_result[\"arr\"].append(element)\n",
    "            \n",
    "        return tmp_result\n",
    "        \n",
    "    result = reduce(reducer, H, {\"arr\": [0], \"count\": 0})\n",
    "    return result[\"count\"] + len(result[\"arr\"]) - 1\n"
   ]
  },
  {
   "cell_type": "markdown",
   "metadata": {},
   "source": [
    "Result(85%) : https://app.codility.com/demo/results/trainingQQDHW7-YBY/\n",
    "\n",
    "O(N^2)"
   ]
  },
  {
   "cell_type": "code",
   "execution_count": 6,
   "metadata": {},
   "outputs": [],
   "source": [
    "def solution(H):\n",
    "    # write your code in Python 3.6\n",
    "    from functools import reduce\n",
    "    \n",
    "    def loop(tmp_arr, con_value, count):\n",
    "        last_value = tmp_arr.pop()\n",
    "        if con_value == last_value:\n",
    "            tmp_arr.append(con_value)\n",
    "            return count\n",
    "        elif con_value > last_value:\n",
    "            tmp_arr.append(last_value)\n",
    "            tmp_arr.append(con_value)\n",
    "            return count\n",
    "        else:\n",
    "            return loop(tmp_arr, con_value, count + 1)\n",
    "    \n",
    "    def reducer(tmp_result, element):\n",
    "        tmp_result[\"count\"] += loop(tmp_result[\"arr\"], element, 0)\n",
    "        \n",
    "        return tmp_result\n",
    "        \n",
    "    result = reduce(reducer, H, {\"arr\": [0], \"count\": 0})\n",
    "    return result[\"count\"] + len(result[\"arr\"]) - 1\n"
   ]
  },
  {
   "cell_type": "markdown",
   "metadata": {},
   "source": [
    "Result(100%) : https://app.codility.com/demo/results/trainingF7Q7GV-5PU/\n",
    "\n",
    "왜지??????\n",
    "\n",
    "일단.. 함수형 규칙 어김.."
   ]
  },
  {
   "cell_type": "code",
   "execution_count": null,
   "metadata": {},
   "outputs": [],
   "source": []
  }
 ],
 "metadata": {
  "kernelspec": {
   "display_name": "Python 3",
   "language": "python",
   "name": "python3"
  },
  "language_info": {
   "codemirror_mode": {
    "name": "ipython",
    "version": 3
   },
   "file_extension": ".py",
   "mimetype": "text/x-python",
   "name": "python",
   "nbconvert_exporter": "python",
   "pygments_lexer": "ipython3",
   "version": "3.7.4"
  }
 },
 "nbformat": 4,
 "nbformat_minor": 4
}
