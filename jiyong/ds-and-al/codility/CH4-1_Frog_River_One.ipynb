{
 "cells": [
  {
   "cell_type": "code",
   "execution_count": 1,
   "metadata": {},
   "outputs": [],
   "source": [
    "# you can write to stdout for debugging purposes, e.g.\n",
    "# print(\"this is a debug message\")\n",
    "\n",
    "def solution(X, A):\n",
    "    # write your code in Python 3.6\n",
    "    def loop(arr, index=0, key_set=set()):\n",
    "        if len(arr) == index:\n",
    "            return -1\n",
    "        key_set.add(arr[index])\n",
    "        if len(key_set) == X:\n",
    "            return index\n",
    "        return loop(arr, index+1, key_set)\n",
    "    \n",
    "    return loop(A)\n"
   ]
  },
  {
   "cell_type": "code",
   "execution_count": 2,
   "metadata": {},
   "outputs": [
    {
     "data": {
      "text/plain": [
       "5"
      ]
     },
     "execution_count": 2,
     "metadata": {},
     "output_type": "execute_result"
    }
   ],
   "source": [
    "solution(5, [1,3,2,4,4,5,2])"
   ]
  },
  {
   "cell_type": "code",
   "execution_count": 3,
   "metadata": {},
   "outputs": [],
   "source": [
    "# 재귀함수는 역시 안됨.."
   ]
  },
  {
   "cell_type": "code",
   "execution_count": 4,
   "metadata": {},
   "outputs": [],
   "source": [
    "# you can write to stdout for debugging purposes, e.g.\n",
    "# print(\"this is a debug message\")\n",
    "\n",
    "def solution(X, A):\n",
    "    from functools import reduce\n",
    "    from collections import namedtuple\n",
    "    \n",
    "    # write your code in Python 3.6\n",
    "    CustomCounter = namedtuple('CustomCounter', 'index result key_set')\n",
    "    def reducer(tupl, element):\n",
    "        tupl.key_set.add(element)\n",
    "        new_result = tupl.index if (len(tupl.key_set) == X and tupl.result == -1) else tupl.result\n",
    "        return CustomCounter(tupl.index+1, new_result, tupl.key_set)\n",
    "    \n",
    "    return reduce(reducer, A, CustomCounter(0, -1, set())).result\n"
   ]
  },
  {
   "cell_type": "code",
   "execution_count": null,
   "metadata": {},
   "outputs": [],
   "source": []
  },
  {
   "cell_type": "code",
   "execution_count": 5,
   "metadata": {},
   "outputs": [
    {
     "data": {
      "text/plain": [
       "4"
      ]
     },
     "execution_count": 5,
     "metadata": {},
     "output_type": "execute_result"
    }
   ],
   "source": [
    "solution(5, [1,3,2,4,5,2,4,5,3,2])"
   ]
  },
  {
   "cell_type": "code",
   "execution_count": null,
   "metadata": {},
   "outputs": [],
   "source": []
  }
 ],
 "metadata": {
  "kernelspec": {
   "display_name": "Python 3",
   "language": "python",
   "name": "python3"
  },
  "language_info": {
   "codemirror_mode": {
    "name": "ipython",
    "version": 3
   },
   "file_extension": ".py",
   "mimetype": "text/x-python",
   "name": "python",
   "nbconvert_exporter": "python",
   "pygments_lexer": "ipython3",
   "version": "3.7.4"
  }
 },
 "nbformat": 4,
 "nbformat_minor": 4
}
