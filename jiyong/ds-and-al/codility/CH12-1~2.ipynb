{
 "cells": [
  {
   "cell_type": "markdown",
   "metadata": {},
   "source": [
    "# 12. Euclidean algorithm"
   ]
  },
  {
   "cell_type": "code",
   "execution_count": null,
   "metadata": {},
   "outputs": [],
   "source": [
    "gcd, lcm"
   ]
  },
  {
   "cell_type": "code",
   "execution_count": null,
   "metadata": {},
   "outputs": [],
   "source": []
  },
  {
   "cell_type": "code",
   "execution_count": null,
   "metadata": {},
   "outputs": [],
   "source": []
  },
  {
   "cell_type": "markdown",
   "metadata": {},
   "source": [
    "## 12-1. ChocolatesByNumbers"
   ]
  },
  {
   "cell_type": "markdown",
   "metadata": {},
   "source": [
    "Two positive integers N and M are given. Integer N represents the number of chocolates arranged in a circle, numbered from 0 to N − 1.\n",
    "\n",
    "You start to eat the chocolates. After eating a chocolate you leave only a wrapper.\n",
    "\n",
    "You begin with eating chocolate number 0. Then you omit the next M − 1 chocolates or wrappers on the circle, and eat the following one.\n",
    "\n",
    "More precisely, if you ate chocolate number X, then you will next eat the chocolate with number (X + M) modulo N (remainder of division).\n",
    "\n",
    "You stop eating when you encounter an empty wrapper.\n",
    "\n",
    "For example, given integers N = 10 and M = 4. You will eat the following chocolates: 0, 4, 8, 2, 6.\n",
    "\n",
    "The goal is to count the number of chocolates that you will eat, following the above rules.\n",
    "\n",
    "Write a function:\n",
    "\n",
    "def solution(N, M)\n",
    "\n",
    "that, given two positive integers N and M, returns the number of chocolates that you will eat.\n",
    "\n",
    "For example, given integers N = 10 and M = 4. the function should return 5, as explained above.\n",
    "\n",
    "Write an efficient algorithm for the following assumptions:\n",
    "\n",
    "N and M are integers within the range [1..1,000,000,000]."
   ]
  },
  {
   "cell_type": "code",
   "execution_count": 14,
   "metadata": {},
   "outputs": [],
   "source": [
    "def solution(N, M):\n",
    "    # write your code in Python 3.6\n",
    "    def gcd(a, b):\n",
    "        c = a % b\n",
    "        if c == 0:\n",
    "            return b\n",
    "        return gcd(b, c)\n",
    "    \n",
    "    g = gcd(N, M)\n",
    "    return N // g\n"
   ]
  },
  {
   "cell_type": "markdown",
   "metadata": {},
   "source": [
    "Result(100%) : https://app.codility.com/demo/results/trainingGMXEXW-VCS/"
   ]
  },
  {
   "cell_type": "markdown",
   "metadata": {},
   "source": [
    "## 12-2. CommonPrimeDivisors"
   ]
  },
  {
   "cell_type": "markdown",
   "metadata": {},
   "source": [
    "A prime is a positive integer X that has exactly two distinct divisors: 1 and X. The first few prime integers are 2, 3, 5, 7, 11 and 13.\n",
    "\n",
    "A prime D is called a prime divisor of a positive integer P if there exists a positive integer K such that D * K = P. For example, 2 and 5 are prime divisors of 20.\n",
    "\n",
    "You are given two positive integers N and M. The goal is to check whether the sets of prime divisors of integers N and M are exactly the same.\n",
    "\n",
    "For example, given:\n",
    "\n",
    "N = 15 and M = 75, the prime divisors are the same: {3, 5};\n",
    "N = 10 and M = 30, the prime divisors aren't the same: {2, 5} is not equal to {2, 3, 5};\n",
    "N = 9 and M = 5, the prime divisors aren't the same: {3} is not equal to {5}.\n",
    "Write a function:\n",
    "\n",
    "def solution(A, B)\n",
    "\n",
    "that, given two non-empty arrays A and B of Z integers, returns the number of positions K for which the prime divisors of A[K] and B[K] are exactly the same.\n",
    "\n",
    "For example, given:\n",
    "\n",
    "    A[0] = 15   B[0] = 75\n",
    "    A[1] = 10   B[1] = 30\n",
    "    A[2] = 3    B[2] = 5\n",
    "the function should return 1, because only one pair (15, 75) has the same set of prime divisors.\n",
    "\n",
    "Write an efficient algorithm for the following assumptions:\n",
    "\n",
    "Z is an integer within the range [1..6,000];\n",
    "each element of arrays A, B is an integer within the range [1..2,147,483,647]."
   ]
  },
  {
   "cell_type": "code",
   "execution_count": null,
   "metadata": {},
   "outputs": [],
   "source": [
    "def solution(A, B):\n",
    "    # write your code in Python 3.6\n",
    "    def gcd(a, b):\n",
    "        c = a % b\n",
    "        if c == 0:\n",
    "            return b\n",
    "        return gcd(b, c)\n",
    "    \n",
    "    def has_same_prime_devisors(x, y):\n",
    "        g = gcd(x, y)\n",
    "        x1 = x // g\n",
    "        gx1 = gcd(x1, g)\n",
    "        y1 = y // g\n",
    "        gy1 = gcd(y1, g)\n",
    "        return x1 % gx1 == 0 and gx1 % (x1 // gx1) == 0 and y1 % gy1 == 0 and gy1 % (y1 // gy1) == 0\n",
    "    \n",
    "    return sum([has_same_prime_devisors(a, b) for (a, b) in zip(A, B)])\n"
   ]
  },
  {
   "cell_type": "markdown",
   "metadata": {},
   "source": [
    "Result(84%) : https://app.codility.com/demo/results/training2A9DHA-JUS/\n",
    "\n",
    "모르겠다.."
   ]
  },
  {
   "cell_type": "code",
   "execution_count": null,
   "metadata": {},
   "outputs": [],
   "source": [
    "54  6\n",
    "g=6 x1=9 y1=1\n",
    "gx1=3 gy1=1\n",
    "\n",
    "\n",
    "108 6\n",
    "g=6 x1=18 y1=1\n",
    "gx1=6 gy1=1\n",
    "\n",
    "\n",
    "18 12\n",
    "g=6 x1=3 y1=2\n",
    "gx1=3 gy1=2"
   ]
  },
  {
   "cell_type": "code",
   "execution_count": 24,
   "metadata": {},
   "outputs": [],
   "source": [
    "def solution(A, B):\n",
    "    # write your code in Python 3.6\n",
    "    def gcd(a, b):\n",
    "        c = a % b\n",
    "        if c == 0:\n",
    "            return b\n",
    "        return gcd(b, c)\n",
    "    \n",
    "    def prime_finder(k):\n",
    "        i = 2\n",
    "        prime_set = set()\n",
    "        while i**2 <= k:\n",
    "            if k % i == 0:\n",
    "                if len([p for p in prime_set if i % p != 0]) == len(prime_set):\n",
    "                    prime_set.add(i)\n",
    "            i += 1\n",
    "        return prime_set\n",
    "    \n",
    "    def has_same_prime_devisors(x, y):\n",
    "        g = gcd(x, y)\n",
    "        x1 = x // g\n",
    "        y1 = y // g\n",
    "        prime_g = prime_finder(g)\n",
    "        prime_x1 = prime_finder(x1)\n",
    "        prime_y1 = prime_finder(y1)\n",
    "        return len(prime_x1 - prime_g) == 0 and len(prime_y1 - prime_g) == 0\n",
    "    \n",
    "    return sum([has_same_prime_devisors(a, b) for (a, b) in zip(A, B)])\n"
   ]
  },
  {
   "cell_type": "code",
   "execution_count": null,
   "metadata": {},
   "outputs": [],
   "source": [
    "....."
   ]
  },
  {
   "cell_type": "code",
   "execution_count": null,
   "metadata": {},
   "outputs": [],
   "source": []
  },
  {
   "cell_type": "code",
   "execution_count": null,
   "metadata": {},
   "outputs": [],
   "source": []
  }
 ],
 "metadata": {
  "kernelspec": {
   "display_name": "Python 3",
   "language": "python",
   "name": "python3"
  },
  "language_info": {
   "codemirror_mode": {
    "name": "ipython",
    "version": 3
   },
   "file_extension": ".py",
   "mimetype": "text/x-python",
   "name": "python",
   "nbconvert_exporter": "python",
   "pygments_lexer": "ipython3",
   "version": "3.7.4"
  }
 },
 "nbformat": 4,
 "nbformat_minor": 4
}
