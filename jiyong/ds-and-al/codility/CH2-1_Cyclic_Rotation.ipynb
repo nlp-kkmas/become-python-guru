{
 "cells": [
  {
   "cell_type": "code",
   "execution_count": 1,
   "metadata": {},
   "outputs": [],
   "source": [
    "# you can write to stdout for debugging purposes, e.g.\n",
    "# print(\"this is a debug message\")\n",
    "\n",
    "def solution(A, K):\n",
    "    # write your code in Python 3.6\n",
    "    n = len(A)\n",
    "    if n == 0:\n",
    "        return A\n",
    "    _, k = divmod(K, n)\n",
    "    return A[n-k:] + A[:n-k]\n"
   ]
  },
  {
   "cell_type": "code",
   "execution_count": null,
   "metadata": {},
   "outputs": [],
   "source": []
  },
  {
   "cell_type": "code",
   "execution_count": null,
   "metadata": {},
   "outputs": [],
   "source": []
  },
  {
   "cell_type": "code",
   "execution_count": 2,
   "metadata": {},
   "outputs": [
    {
     "name": "stdout",
     "output_type": "stream",
     "text": [
      "[3, 4, 5, 6]\n",
      "[6, 3, 4, 5]\n",
      "[5, 6, 3, 4]\n",
      "[4, 5, 6, 3]\n",
      "[3, 4, 5, 6]\n",
      "[6, 3, 4, 5]\n",
      "[5, 6, 3, 4]\n",
      "[4, 5, 6, 3]\n",
      "[3, 4, 5, 6]\n",
      "[6, 3, 4, 5]\n",
      "[5, 6, 3, 4]\n",
      "[4, 5, 6, 3]\n",
      "[3, 4, 5, 6]\n",
      "[6, 3, 4, 5]\n",
      "[5, 6, 3, 4]\n",
      "[4, 5, 6, 3]\n",
      "[3, 4, 5, 6]\n",
      "[6, 3, 4, 5]\n",
      "[5, 6, 3, 4]\n",
      "[4, 5, 6, 3]\n"
     ]
    }
   ],
   "source": [
    "for i in range(20):\n",
    "    print(solution([3,4,5,6], i))"
   ]
  },
  {
   "cell_type": "code",
   "execution_count": 3,
   "metadata": {},
   "outputs": [
    {
     "name": "stdout",
     "output_type": "stream",
     "text": [
      "[3, 4, 5, 6, 7]\n",
      "[7, 3, 4, 5, 6]\n",
      "[6, 7, 3, 4, 5]\n",
      "[5, 6, 7, 3, 4]\n",
      "[4, 5, 6, 7, 3]\n",
      "[3, 4, 5, 6, 7]\n",
      "[7, 3, 4, 5, 6]\n",
      "[6, 7, 3, 4, 5]\n",
      "[5, 6, 7, 3, 4]\n",
      "[4, 5, 6, 7, 3]\n",
      "[3, 4, 5, 6, 7]\n",
      "[7, 3, 4, 5, 6]\n",
      "[6, 7, 3, 4, 5]\n",
      "[5, 6, 7, 3, 4]\n",
      "[4, 5, 6, 7, 3]\n",
      "[3, 4, 5, 6, 7]\n",
      "[7, 3, 4, 5, 6]\n",
      "[6, 7, 3, 4, 5]\n",
      "[5, 6, 7, 3, 4]\n",
      "[4, 5, 6, 7, 3]\n"
     ]
    }
   ],
   "source": [
    "for i in range(20):\n",
    "    print(solution([3,4,5,6, 7], i))"
   ]
  },
  {
   "cell_type": "code",
   "execution_count": null,
   "metadata": {},
   "outputs": [],
   "source": []
  },
  {
   "cell_type": "code",
   "execution_count": 4,
   "metadata": {},
   "outputs": [
    {
     "data": {
      "text/plain": [
       "[]"
      ]
     },
     "execution_count": 4,
     "metadata": {},
     "output_type": "execute_result"
    }
   ],
   "source": [
    "solution([], 10)"
   ]
  },
  {
   "cell_type": "code",
   "execution_count": null,
   "metadata": {},
   "outputs": [],
   "source": []
  },
  {
   "cell_type": "code",
   "execution_count": null,
   "metadata": {},
   "outputs": [],
   "source": []
  },
  {
   "cell_type": "code",
   "execution_count": null,
   "metadata": {},
   "outputs": [],
   "source": []
  },
  {
   "cell_type": "code",
   "execution_count": null,
   "metadata": {},
   "outputs": [],
   "source": []
  },
  {
   "cell_type": "code",
   "execution_count": null,
   "metadata": {},
   "outputs": [],
   "source": []
  }
 ],
 "metadata": {
  "kernelspec": {
   "display_name": "Python 3",
   "language": "python",
   "name": "python3"
  },
  "language_info": {
   "codemirror_mode": {
    "name": "ipython",
    "version": 3
   },
   "file_extension": ".py",
   "mimetype": "text/x-python",
   "name": "python",
   "nbconvert_exporter": "python",
   "pygments_lexer": "ipython3",
   "version": "3.7.4"
  }
 },
 "nbformat": 4,
 "nbformat_minor": 4
}
