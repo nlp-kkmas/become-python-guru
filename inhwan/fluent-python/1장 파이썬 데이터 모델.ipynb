{
 "cells": [
  {
   "cell_type": "markdown",
   "metadata": {},
   "source": [
    "파이썬의 특별 메서드는 `__getitem__()` 처럼 앞뒤에 이중 언더바(던더 메서드)를 가지고 있다. 가령 `obj[key]` 형태의 구문은 `__getitem__()` 특별 메서드가 지원한다."
   ]
  },
  {
   "cell_type": "markdown",
   "metadata": {},
   "source": [
    "# 1.1 파이썬 카드 한 벌"
   ]
  },
  {
   "cell_type": "code",
   "execution_count": 7,
   "metadata": {},
   "outputs": [],
   "source": [
    "import collections\n",
    "\n",
    "Card = collections.namedtuple('Card', ['rank', 'suit'])\n",
    "# 튜플객체명 = collections.namedtuple('객체이름',['특성들'])\n",
    "\n",
    "class FrenchDeck:\n",
    "    ranks = [str(n) for n in range(2,11)] + list('JQKA')\n",
    "    suits = 'spades diamonds clubs hearts'.split()\n",
    "    \n",
    "    def __init__(self):\n",
    "        self._cards = [Card(rank, suit) for suit in self.suits\n",
    "                        for rank in self.ranks]\n",
    "        \n",
    "    def __len__(self):\n",
    "        return len(self._cards)\n",
    "    \n",
    "    def __getitem__(self, position):\n",
    "        return self._cards[position]"
   ]
  },
  {
   "cell_type": "code",
   "execution_count": 22,
   "metadata": {},
   "outputs": [
    {
     "name": "stdout",
     "output_type": "stream",
     "text": [
      "[('a', 0), ('a', 1), ('a', 2), ('b', 0), ('b', 1), ('b', 2), ('c', 0), ('c', 1), ('c', 2)]\n"
     ]
    }
   ],
   "source": [
    "# for문이 중첩될 시 순서는 바깥쪽에 있는 for문부터 반복된다.\n",
    "print([(txt, num) for txt in ['a','b','c'] for num in range(3)])"
   ]
  },
  {
   "cell_type": "markdown",
   "metadata": {},
   "source": [
    "`namedtuple`을 이용하면 다음처럼 이름 붙은 속성처럼 이용할 수 있다."
   ]
  },
  {
   "cell_type": "code",
   "execution_count": 10,
   "metadata": {},
   "outputs": [],
   "source": [
    "collections.namedtuple?"
   ]
  },
  {
   "cell_type": "code",
   "execution_count": 12,
   "metadata": {},
   "outputs": [
    {
     "data": {
      "text/plain": [
       "Card(rank='7', suit='diamonds')"
      ]
     },
     "execution_count": 12,
     "metadata": {},
     "output_type": "execute_result"
    }
   ],
   "source": [
    "beer_card = Card('7', 'diamonds')\n",
    "beer_card"
   ]
  },
  {
   "cell_type": "code",
   "execution_count": 42,
   "metadata": {},
   "outputs": [
    {
     "data": {
      "text/plain": [
       "('7', 'diamonds', '7', 'diamonds')"
      ]
     },
     "execution_count": 42,
     "metadata": {},
     "output_type": "execute_result"
    }
   ],
   "source": [
    "beer_card[0], beer_card[1], beer_card.rank, beer_card.suit"
   ]
  },
  {
   "cell_type": "markdown",
   "metadata": {},
   "source": [
    "`French Deck` 객체를 좀 더 살펴보자. 먼저 `__len__()` 메서드로부터 수를 반환한다. 특별히 파이썬의 `len(x)` 함수는 x가 내장형의 객체일 때 메서드를 호출하는 것이 아니라 C 언어 구조체의 필드를 읽어오므로 매우 빠르게 작동한다."
   ]
  },
  {
   "cell_type": "code",
   "execution_count": 15,
   "metadata": {},
   "outputs": [
    {
     "data": {
      "text/plain": [
       "52"
      ]
     },
     "execution_count": 15,
     "metadata": {},
     "output_type": "execute_result"
    }
   ],
   "source": [
    "deck = FrenchDeck()\n",
    "len(deck)"
   ]
  },
  {
   "cell_type": "markdown",
   "metadata": {},
   "source": [
    "특정 카드는 다음과 같이 읽을 수 있다. 즉, 인덱스를 지원한다. (`__getitem__()`메서드가 제공)"
   ]
  },
  {
   "cell_type": "code",
   "execution_count": 17,
   "metadata": {},
   "outputs": [
    {
     "name": "stdout",
     "output_type": "stream",
     "text": [
      "Card(rank='2', suit='spades')\n",
      "Card(rank='5', suit='spades')\n",
      "Card(rank='8', suit='spades')\n",
      "Card(rank='J', suit='spades')\n",
      "Card(rank='A', suit='spades')\n"
     ]
    }
   ],
   "source": [
    "for i in range(5):\n",
    "    print(deck[3*i])"
   ]
  },
  {
   "cell_type": "markdown",
   "metadata": {},
   "source": [
    "임의의 카드를 골라내기 위해서는 메서드를 정의할 필요 없이 `random.choice()` 메서드를 이용하면 된다."
   ]
  },
  {
   "cell_type": "code",
   "execution_count": 18,
   "metadata": {},
   "outputs": [
    {
     "data": {
      "text/plain": [
       "Card(rank='4', suit='hearts')"
      ]
     },
     "execution_count": 18,
     "metadata": {},
     "output_type": "execute_result"
    }
   ],
   "source": [
    "from random import choice\n",
    "choice(deck)"
   ]
  },
  {
   "cell_type": "code",
   "execution_count": 19,
   "metadata": {},
   "outputs": [
    {
     "data": {
      "text/plain": [
       "Card(rank='Q', suit='spades')"
      ]
     },
     "execution_count": 19,
     "metadata": {},
     "output_type": "execute_result"
    }
   ],
   "source": [
    "choice(deck)"
   ]
  },
  {
   "cell_type": "code",
   "execution_count": 20,
   "metadata": {},
   "outputs": [
    {
     "data": {
      "text/plain": [
       "Card(rank='2', suit='spades')"
      ]
     },
     "execution_count": 20,
     "metadata": {},
     "output_type": "execute_result"
    }
   ],
   "source": [
    "choice(deck)"
   ]
  },
  {
   "cell_type": "markdown",
   "metadata": {},
   "source": [
    "특별 메서드를 통해 파이썬 데이터 모델을 사용할 때의 두 가지 장점 :\n",
    "\n",
    "* 사용자가 표준 연산을 수행하기 위해 클래스에서 구현한 임의 메서드 명을 암기할 필요가 없다.\n",
    "\n",
    "* 파이썬 표준 라이브러리에서 제공하는 기능을 바로 사용할 수 있다.\n",
    "\n",
    "`__getitem__()` 메서드는 `self._cards`의 [] 연산자에 작업을 위임하므로 deck 객체는 슬라이싱도 자동으로 지원한다. deck 객체에서 앞의 카드 세 장, 12번 인덱스에서 13개씩 건너뛰어 에이스만 가져오는 방법은 다음과 같다."
   ]
  },
  {
   "cell_type": "code",
   "execution_count": 17,
   "metadata": {},
   "outputs": [
    {
     "data": {
      "text/plain": [
       "[Card(rank='2', suit='spades'),\n",
       " Card(rank='3', suit='spades'),\n",
       " Card(rank='4', suit='spades')]"
      ]
     },
     "execution_count": 17,
     "metadata": {},
     "output_type": "execute_result"
    }
   ],
   "source": [
    "deck[:3]"
   ]
  },
  {
   "cell_type": "code",
   "execution_count": 18,
   "metadata": {},
   "outputs": [
    {
     "data": {
      "text/plain": [
       "[Card(rank='A', suit='spades'),\n",
       " Card(rank='A', suit='diamonds'),\n",
       " Card(rank='A', suit='clubs'),\n",
       " Card(rank='A', suit='hearts')]"
      ]
     },
     "execution_count": 18,
     "metadata": {},
     "output_type": "execute_result"
    }
   ],
   "source": [
    "deck[12::13]"
   ]
  },
  {
   "cell_type": "markdown",
   "metadata": {},
   "source": [
    "`for` 구문도 지원한다. (`__getitem__()`)"
   ]
  },
  {
   "cell_type": "code",
   "execution_count": 19,
   "metadata": {
    "scrolled": true
   },
   "outputs": [
    {
     "name": "stdout",
     "output_type": "stream",
     "text": [
      "Card(rank='2', suit='spades')\n",
      "Card(rank='3', suit='spades')\n",
      "Card(rank='4', suit='spades')\n",
      "Card(rank='5', suit='spades')\n",
      "Card(rank='6', suit='spades')\n",
      "Card(rank='7', suit='spades')\n",
      "Card(rank='8', suit='spades')\n",
      "Card(rank='9', suit='spades')\n",
      "Card(rank='10', suit='spades')\n",
      "Card(rank='J', suit='spades')\n",
      "Card(rank='Q', suit='spades')\n",
      "Card(rank='K', suit='spades')\n",
      "Card(rank='A', suit='spades')\n",
      "Card(rank='2', suit='diamonds')\n",
      "Card(rank='3', suit='diamonds')\n",
      "Card(rank='4', suit='diamonds')\n",
      "Card(rank='5', suit='diamonds')\n",
      "Card(rank='6', suit='diamonds')\n",
      "Card(rank='7', suit='diamonds')\n",
      "Card(rank='8', suit='diamonds')\n",
      "Card(rank='9', suit='diamonds')\n",
      "Card(rank='10', suit='diamonds')\n",
      "Card(rank='J', suit='diamonds')\n",
      "Card(rank='Q', suit='diamonds')\n",
      "Card(rank='K', suit='diamonds')\n",
      "Card(rank='A', suit='diamonds')\n",
      "Card(rank='2', suit='clubs')\n",
      "Card(rank='3', suit='clubs')\n",
      "Card(rank='4', suit='clubs')\n",
      "Card(rank='5', suit='clubs')\n",
      "Card(rank='6', suit='clubs')\n",
      "Card(rank='7', suit='clubs')\n",
      "Card(rank='8', suit='clubs')\n",
      "Card(rank='9', suit='clubs')\n",
      "Card(rank='10', suit='clubs')\n",
      "Card(rank='J', suit='clubs')\n",
      "Card(rank='Q', suit='clubs')\n",
      "Card(rank='K', suit='clubs')\n",
      "Card(rank='A', suit='clubs')\n",
      "Card(rank='2', suit='hearts')\n",
      "Card(rank='3', suit='hearts')\n",
      "Card(rank='4', suit='hearts')\n",
      "Card(rank='5', suit='hearts')\n",
      "Card(rank='6', suit='hearts')\n",
      "Card(rank='7', suit='hearts')\n",
      "Card(rank='8', suit='hearts')\n",
      "Card(rank='9', suit='hearts')\n",
      "Card(rank='10', suit='hearts')\n",
      "Card(rank='J', suit='hearts')\n",
      "Card(rank='Q', suit='hearts')\n",
      "Card(rank='K', suit='hearts')\n",
      "Card(rank='A', suit='hearts')\n"
     ]
    }
   ],
   "source": [
    "for card in deck:\n",
    "    print(card)"
   ]
  },
  {
   "cell_type": "markdown",
   "metadata": {},
   "source": [
    "deck을 뒤에서부터 반복할 수도 있다."
   ]
  },
  {
   "cell_type": "code",
   "execution_count": 20,
   "metadata": {
    "scrolled": true
   },
   "outputs": [
    {
     "name": "stdout",
     "output_type": "stream",
     "text": [
      "Card(rank='A', suit='hearts')\n",
      "Card(rank='K', suit='hearts')\n",
      "Card(rank='Q', suit='hearts')\n",
      "Card(rank='J', suit='hearts')\n",
      "Card(rank='10', suit='hearts')\n",
      "Card(rank='9', suit='hearts')\n",
      "Card(rank='8', suit='hearts')\n",
      "Card(rank='7', suit='hearts')\n",
      "Card(rank='6', suit='hearts')\n",
      "Card(rank='5', suit='hearts')\n",
      "Card(rank='4', suit='hearts')\n",
      "Card(rank='3', suit='hearts')\n",
      "Card(rank='2', suit='hearts')\n",
      "Card(rank='A', suit='clubs')\n",
      "Card(rank='K', suit='clubs')\n",
      "Card(rank='Q', suit='clubs')\n",
      "Card(rank='J', suit='clubs')\n",
      "Card(rank='10', suit='clubs')\n",
      "Card(rank='9', suit='clubs')\n",
      "Card(rank='8', suit='clubs')\n",
      "Card(rank='7', suit='clubs')\n",
      "Card(rank='6', suit='clubs')\n",
      "Card(rank='5', suit='clubs')\n",
      "Card(rank='4', suit='clubs')\n",
      "Card(rank='3', suit='clubs')\n",
      "Card(rank='2', suit='clubs')\n",
      "Card(rank='A', suit='diamonds')\n",
      "Card(rank='K', suit='diamonds')\n",
      "Card(rank='Q', suit='diamonds')\n",
      "Card(rank='J', suit='diamonds')\n",
      "Card(rank='10', suit='diamonds')\n",
      "Card(rank='9', suit='diamonds')\n",
      "Card(rank='8', suit='diamonds')\n",
      "Card(rank='7', suit='diamonds')\n",
      "Card(rank='6', suit='diamonds')\n",
      "Card(rank='5', suit='diamonds')\n",
      "Card(rank='4', suit='diamonds')\n",
      "Card(rank='3', suit='diamonds')\n",
      "Card(rank='2', suit='diamonds')\n",
      "Card(rank='A', suit='spades')\n",
      "Card(rank='K', suit='spades')\n",
      "Card(rank='Q', suit='spades')\n",
      "Card(rank='J', suit='spades')\n",
      "Card(rank='10', suit='spades')\n",
      "Card(rank='9', suit='spades')\n",
      "Card(rank='8', suit='spades')\n",
      "Card(rank='7', suit='spades')\n",
      "Card(rank='6', suit='spades')\n",
      "Card(rank='5', suit='spades')\n",
      "Card(rank='4', suit='spades')\n",
      "Card(rank='3', suit='spades')\n",
      "Card(rank='2', suit='spades')\n"
     ]
    }
   ],
   "source": [
    "for card in reversed(deck):\n",
    "    print(card)"
   ]
  },
  {
   "cell_type": "code",
   "execution_count": 24,
   "metadata": {},
   "outputs": [
    {
     "name": "stdout",
     "output_type": "stream",
     "text": [
      "2\n",
      "1\n",
      "0\n"
     ]
    }
   ],
   "source": [
    "# reversed는 list를 역순으로 반환한다.\n",
    "for num in reversed(range(3)):\n",
    "    print(num)"
   ]
  },
  {
   "cell_type": "markdown",
   "metadata": {},
   "source": [
    "반복은 암묵적으로 수행되는 경우도 많다. `__contains__()` 메서드가 없다면 `in` 연산자는 차례대로 검색한다."
   ]
  },
  {
   "cell_type": "code",
   "execution_count": 25,
   "metadata": {},
   "outputs": [
    {
     "data": {
      "text/plain": [
       "True"
      ]
     },
     "execution_count": 25,
     "metadata": {},
     "output_type": "execute_result"
    }
   ],
   "source": [
    "Card('Q', 'hearts') in deck"
   ]
  },
  {
   "cell_type": "code",
   "execution_count": 26,
   "metadata": {},
   "outputs": [
    {
     "data": {
      "text/plain": [
       "False"
      ]
     },
     "execution_count": 26,
     "metadata": {},
     "output_type": "execute_result"
    }
   ],
   "source": [
    "Card('Q', 'beasts') in deck"
   ]
  },
  {
   "cell_type": "markdown",
   "metadata": {},
   "source": [
    "정렬은 어떨까? 카드의 순위를 정하는 함수를 만들자. 카드는 숫자로 순위를 정하고, 숫자가 같은 경우는 스페이드, 하트, 다이아몬드, 클로버 순으로 정한다."
   ]
  },
  {
   "cell_type": "code",
   "execution_count": 27,
   "metadata": {},
   "outputs": [
    {
     "data": {
      "text/plain": [
       "1"
      ]
     },
     "execution_count": 27,
     "metadata": {},
     "output_type": "execute_result"
    }
   ],
   "source": [
    "test = ['e','d','c']\n",
    "test.index('d')"
   ]
  },
  {
   "cell_type": "code",
   "execution_count": 28,
   "metadata": {
    "scrolled": true
   },
   "outputs": [
    {
     "data": {
      "text/plain": [
       "5"
      ]
     },
     "execution_count": 28,
     "metadata": {},
     "output_type": "execute_result"
    }
   ],
   "source": [
    "FrenchDeck.ranks.index('7') # index() 메서드는 list에서 위치를 반환"
   ]
  },
  {
   "cell_type": "code",
   "execution_count": 32,
   "metadata": {},
   "outputs": [
    {
     "data": {
      "text/plain": [
       "['2', '3', '4', '5', '6', '7', '8', '9', '10', 'J', 'Q', 'K', 'A']"
      ]
     },
     "execution_count": 32,
     "metadata": {},
     "output_type": "execute_result"
    }
   ],
   "source": [
    "FrenchDeck.ranks"
   ]
  },
  {
   "cell_type": "code",
   "execution_count": 35,
   "metadata": {},
   "outputs": [
    {
     "data": {
      "text/plain": [
       "['2', '3', '4', '5', '6', '7', '8', '9', '10', 'J', 'Q', 'K', 'A']"
      ]
     },
     "execution_count": 35,
     "metadata": {},
     "output_type": "execute_result"
    }
   ],
   "source": [
    "deck.ranks"
   ]
  },
  {
   "cell_type": "code",
   "execution_count": 36,
   "metadata": {},
   "outputs": [],
   "source": [
    "suit_values = dict(spades=3, hearts=2, diamonds=1, clubs=0)\n",
    "\n",
    "def spades_high(card):\n",
    "    rank_value = FrenchDeck.ranks.index(card.rank) # card의 rank가 몇번째 순위인지 판단\n",
    "    return rank_value * len(suit_values) + suit_values[card.suit]"
   ]
  },
  {
   "cell_type": "code",
   "execution_count": 43,
   "metadata": {},
   "outputs": [
    {
     "data": {
      "text/plain": [
       "21"
      ]
     },
     "execution_count": 43,
     "metadata": {},
     "output_type": "execute_result"
    }
   ],
   "source": [
    "spades_high(beer_card)"
   ]
  },
  {
   "cell_type": "markdown",
   "metadata": {},
   "source": [
    "이제 카드 한 벌을 다음과 같이 오름차순으로 나열할 수 있다."
   ]
  },
  {
   "cell_type": "code",
   "execution_count": 46,
   "metadata": {
    "scrolled": true
   },
   "outputs": [
    {
     "name": "stdout",
     "output_type": "stream",
     "text": [
      "The rank of Card(rank='2', suit='clubs') is 0.\n",
      "The rank of Card(rank='2', suit='diamonds') is 1.\n",
      "The rank of Card(rank='2', suit='hearts') is 2.\n",
      "The rank of Card(rank='2', suit='spades') is 3.\n",
      "The rank of Card(rank='3', suit='clubs') is 4.\n",
      "The rank of Card(rank='3', suit='diamonds') is 5.\n",
      "The rank of Card(rank='3', suit='hearts') is 6.\n",
      "The rank of Card(rank='3', suit='spades') is 7.\n",
      "The rank of Card(rank='4', suit='clubs') is 8.\n",
      "The rank of Card(rank='4', suit='diamonds') is 9.\n",
      "The rank of Card(rank='4', suit='hearts') is 10.\n",
      "The rank of Card(rank='4', suit='spades') is 11.\n",
      "The rank of Card(rank='5', suit='clubs') is 12.\n",
      "The rank of Card(rank='5', suit='diamonds') is 13.\n",
      "The rank of Card(rank='5', suit='hearts') is 14.\n",
      "The rank of Card(rank='5', suit='spades') is 15.\n",
      "The rank of Card(rank='6', suit='clubs') is 16.\n",
      "The rank of Card(rank='6', suit='diamonds') is 17.\n",
      "The rank of Card(rank='6', suit='hearts') is 18.\n",
      "The rank of Card(rank='6', suit='spades') is 19.\n",
      "The rank of Card(rank='7', suit='clubs') is 20.\n",
      "The rank of Card(rank='7', suit='diamonds') is 21.\n",
      "The rank of Card(rank='7', suit='hearts') is 22.\n",
      "The rank of Card(rank='7', suit='spades') is 23.\n",
      "The rank of Card(rank='8', suit='clubs') is 24.\n",
      "The rank of Card(rank='8', suit='diamonds') is 25.\n",
      "The rank of Card(rank='8', suit='hearts') is 26.\n",
      "The rank of Card(rank='8', suit='spades') is 27.\n",
      "The rank of Card(rank='9', suit='clubs') is 28.\n",
      "The rank of Card(rank='9', suit='diamonds') is 29.\n",
      "The rank of Card(rank='9', suit='hearts') is 30.\n",
      "The rank of Card(rank='9', suit='spades') is 31.\n",
      "The rank of Card(rank='10', suit='clubs') is 32.\n",
      "The rank of Card(rank='10', suit='diamonds') is 33.\n",
      "The rank of Card(rank='10', suit='hearts') is 34.\n",
      "The rank of Card(rank='10', suit='spades') is 35.\n",
      "The rank of Card(rank='J', suit='clubs') is 36.\n",
      "The rank of Card(rank='J', suit='diamonds') is 37.\n",
      "The rank of Card(rank='J', suit='hearts') is 38.\n",
      "The rank of Card(rank='J', suit='spades') is 39.\n",
      "The rank of Card(rank='Q', suit='clubs') is 40.\n",
      "The rank of Card(rank='Q', suit='diamonds') is 41.\n",
      "The rank of Card(rank='Q', suit='hearts') is 42.\n",
      "The rank of Card(rank='Q', suit='spades') is 43.\n",
      "The rank of Card(rank='K', suit='clubs') is 44.\n",
      "The rank of Card(rank='K', suit='diamonds') is 45.\n",
      "The rank of Card(rank='K', suit='hearts') is 46.\n",
      "The rank of Card(rank='K', suit='spades') is 47.\n",
      "The rank of Card(rank='A', suit='clubs') is 48.\n",
      "The rank of Card(rank='A', suit='diamonds') is 49.\n",
      "The rank of Card(rank='A', suit='hearts') is 50.\n",
      "The rank of Card(rank='A', suit='spades') is 51.\n"
     ]
    }
   ],
   "source": [
    "for card in sorted(deck, key=spades_high): # sorted(list, key=function) : list의 아이템을 function값 순서대로 정렬\n",
    "    print('The rank of {} is {}.'.format(card, spades_high(card)))"
   ]
  },
  {
   "cell_type": "markdown",
   "metadata": {},
   "source": [
    "> 지금까지 구현한 것으로는 FrenchDeck 을 셔플링 할 수는 없다. 캡슐화를 어기고 `_cards`  속성을 직접 조작하지 않는 한 카드의 값과 위치를 바꿀 수 없다."
   ]
  },
  {
   "cell_type": "code",
   "execution_count": 53,
   "metadata": {},
   "outputs": [
    {
     "ename": "TypeError",
     "evalue": "'FrenchDeck' object does not support item assignment",
     "output_type": "error",
     "traceback": [
      "\u001b[0;31m---------------------------------------------------------------------------\u001b[0m",
      "\u001b[0;31mTypeError\u001b[0m                                 Traceback (most recent call last)",
      "\u001b[0;32m<ipython-input-53-cc53ce3d2ea3>\u001b[0m in \u001b[0;36m<module>\u001b[0;34m\u001b[0m\n\u001b[0;32m----> 1\u001b[0;31m \u001b[0mdeck\u001b[0m\u001b[0;34m[\u001b[0m\u001b[0;36m0\u001b[0m\u001b[0;34m]\u001b[0m \u001b[0;34m=\u001b[0m \u001b[0mdeck\u001b[0m\u001b[0;34m[\u001b[0m\u001b[0;36m2\u001b[0m\u001b[0;34m]\u001b[0m \u001b[0;31m# 오류 발생\u001b[0m\u001b[0;34m\u001b[0m\u001b[0;34m\u001b[0m\u001b[0m\n\u001b[0m",
      "\u001b[0;31mTypeError\u001b[0m: 'FrenchDeck' object does not support item assignment"
     ]
    }
   ],
   "source": [
    "deck[0] = deck[2] # 오류 발생"
   ]
  },
  {
   "cell_type": "code",
   "execution_count": 54,
   "metadata": {},
   "outputs": [
    {
     "data": {
      "text/plain": [
       "[Card(rank='4', suit='spades'),\n",
       " Card(rank='3', suit='spades'),\n",
       " Card(rank='4', suit='spades')]"
      ]
     },
     "execution_count": 54,
     "metadata": {},
     "output_type": "execute_result"
    }
   ],
   "source": [
    "deck._cards[0] = deck[2] # 오류 없이 작동\n",
    "deck[:3] "
   ]
  },
  {
   "cell_type": "markdown",
   "metadata": {},
   "source": [
    "# 1.2 특별 메서드는 어떻게 사용되나?\n",
    "\n",
    "먼저, 특별 메서드는 사용자가 호출하는 것이 아니라 파이썬 인터프리터가 호출하기 위한 것이다. 사용자는 len(), iter(), str() 등 관련된 내장 함수를 호출하는 것이 좋다.\n",
    "\n",
    "## 1.2.1 수치형 흉내 내기\n",
    "\n",
    "2차원 유클리드 벡터를 나타내는 클래스를 구현한다고 생각해보자. 따라서 다음 더하기 연산이 성립해야한다.\n",
    "\n",
    "> v1 = Vector(2,4)<br>\n",
    "> v2 = Vector(2,1)<br>\n",
    "> v1+v2  \n",
    "    > `Vector(4,5)`\n",
    "\n",
    "절대값도 반환할 수 있어야 한다.\n",
    "> v = Vector(3,4)<br>\n",
    "> abs(v)<br>\n",
    "    > `5.0`\n",
    "    \n",
    "또한 * 연산자를 사용해서 스칼라곱을 수행할 수 있다.\n",
    "> v * 3 <br>\n",
    "    >`Vector(9,12)`<br>\n",
    "> abs(v*3) <br>\n",
    "    > `15.0`\n",
    "    \n",
    "특별 메서드를 이용하여 방금 설명한 연산을 구현하는 Vector 클래스를 만들어보자."
   ]
  },
  {
   "cell_type": "code",
   "execution_count": 66,
   "metadata": {},
   "outputs": [],
   "source": [
    "from math import hypot\n",
    "\n",
    "class Vector:\n",
    "    def __init__(self, x=0, y=0):\n",
    "        self.x = x\n",
    "        self.y = y\n",
    "        \n",
    "    def __repr__(self):\n",
    "        return 'Vector(%r, %r)' % (self.x, self.y)\n",
    "    \n",
    "    def __abs__(self):\n",
    "        return hypot(self.x, self.y)\n",
    "    \n",
    "    def __bool__(self):\n",
    "        return bool(abs(self))\n",
    "    \n",
    "    def __add__(self, other):\n",
    "        x = self.x + other.x\n",
    "        y = self.y + other.y\n",
    "        return Vector(x, y)\n",
    "    \n",
    "    def __mul__(self, scalar):\n",
    "        return Vector(self.x * scalar, self.y * scalar)"
   ]
  },
  {
   "cell_type": "markdown",
   "metadata": {},
   "source": [
    "## 1.2.2 문자열 표현 \n",
    "\n",
    "`__repr__()` 특별 메서드는 객체를 문자열로 표현한다. 이를 구현하지 않으면 Vector 객체는 `<Vector object at ~~>` 형태로 출력된다."
   ]
  },
  {
   "cell_type": "code",
   "execution_count": 67,
   "metadata": {},
   "outputs": [
    {
     "data": {
      "text/plain": [
       "Vector(1, 2)"
      ]
     },
     "execution_count": 67,
     "metadata": {},
     "output_type": "execute_result"
    }
   ],
   "source": [
    "v = Vector(1,2)\n",
    "v"
   ]
  },
  {
   "cell_type": "markdown",
   "metadata": {},
   "source": [
    "`__repr__()`과 `__str__()`의 차이점에 대해 생각해보자. `__str__()`은 str() 생성자에 의해 호출되며, print() 함수에 의해 사용된다. 둘 중에 하나만 구현해야 한다면 `__repr__()`을 구현하는 것이 좋은데, 이는 `__str__()`이 구현되어 있지 않을 경우 `__repr__()`을 호출하기 때문이다."
   ]
  },
  {
   "cell_type": "code",
   "execution_count": 72,
   "metadata": {},
   "outputs": [],
   "source": [
    "class Test:\n",
    "    def __init__(self):\n",
    "        return None\n",
    "        \n",
    "    def __repr__(self):\n",
    "        return 'repr test'\n",
    "    \n",
    "    def __str__(self):\n",
    "        return 'str test'"
   ]
  },
  {
   "cell_type": "code",
   "execution_count": 77,
   "metadata": {},
   "outputs": [
    {
     "data": {
      "text/plain": [
       "(repr test, 'str test')"
      ]
     },
     "execution_count": 77,
     "metadata": {},
     "output_type": "execute_result"
    }
   ],
   "source": [
    "test = Test()\n",
    "test, str(test)"
   ]
  },
  {
   "cell_type": "code",
   "execution_count": 74,
   "metadata": {},
   "outputs": [
    {
     "name": "stdout",
     "output_type": "stream",
     "text": [
      "str test\n"
     ]
    }
   ],
   "source": [
    "print(test)"
   ]
  },
  {
   "cell_type": "markdown",
   "metadata": {},
   "source": [
    "## 1.2.3 산술 연산자\n",
    "\n",
    "Vector 클래스의 구현에 사용한 `__add__()` 와 `__mul__()` 은 각각 +, * 연산자에 의해 호출된다."
   ]
  },
  {
   "cell_type": "code",
   "execution_count": 83,
   "metadata": {},
   "outputs": [
    {
     "data": {
      "text/plain": [
       "(Vector(4, 6), Vector(3, 6), 5.0)"
      ]
     },
     "execution_count": 83,
     "metadata": {},
     "output_type": "execute_result"
    }
   ],
   "source": [
    "Vector(1,2) + Vector(3,4), Vector(1,2) * 3, abs(Vector(4,3))"
   ]
  },
  {
   "cell_type": "markdown",
   "metadata": {},
   "source": [
    "## 1.2.4 사용자 정의형의 불리언 값\n",
    "\n",
    "x가 참된 값인지 여부를 판단하기 위해 파이썬은 bool(x) 를 적용하며, 이 함수는 True나 False를 반환한다. `__bool__()`이나 `__len__()`을 구현하지 않은 경우, 기본적으로 사용자 정의 클래스의 객체는 참된 값이라고 간주된다. \n",
    "\n",
    "bool(x)는 `x.__bool__()`을 호출한 결과를 이용하며, 이 메서드가 구현되어 있지 않을 경우 `x.__len__()`이 0이면 False, 아니면 True를 반환한다. 우리가 구현한 `__bool__()`은 벡터의 크기가 0이면 False, 아니면 True를 반환하도록 구현하며, 이를 위해 bool(abs(self))를 이용한다."
   ]
  },
  {
   "cell_type": "code",
   "execution_count": 85,
   "metadata": {},
   "outputs": [
    {
     "data": {
      "text/plain": [
       "(True, False)"
      ]
     },
     "execution_count": 85,
     "metadata": {},
     "output_type": "execute_result"
    }
   ],
   "source": [
    "bool(Vector(1,2)), bool(Vector(0,0))"
   ]
  },
  {
   "cell_type": "markdown",
   "metadata": {},
   "source": [
    "`Vector.__bool__()` 의 고속 버전은 다음과 같다. \n",
    "> def `__bool__`(self):<br>\n",
    "        > return bool(self.x or self.y) <br>\n",
    "        >  * x or y 는 x가 참인 경우 x, 아니면 y를 반환함"
   ]
  },
  {
   "cell_type": "markdown",
   "metadata": {},
   "source": [
    "# 1.3 특별 메서드 개요\n",
    "\n",
    "특별 메서드 리스트는 다음 링크를 참조하라.\n",
    "\n",
    "https://docs.python.org/3/reference/datamodel.html"
   ]
  },
  {
   "cell_type": "code",
   "execution_count": null,
   "metadata": {},
   "outputs": [],
   "source": []
  }
 ],
 "metadata": {
  "kernelspec": {
   "display_name": "Python 3",
   "language": "python",
   "name": "python3"
  },
  "language_info": {
   "codemirror_mode": {
    "name": "ipython",
    "version": 3
   },
   "file_extension": ".py",
   "mimetype": "text/x-python",
   "name": "python",
   "nbconvert_exporter": "python",
   "pygments_lexer": "ipython3",
   "version": "3.7.3"
  }
 },
 "nbformat": 4,
 "nbformat_minor": 2
}
