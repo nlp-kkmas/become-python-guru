{
 "cells": [
  {
   "cell_type": "markdown",
   "metadata": {},
   "source": [
    "다차원 벡터를 나타내는 클래스를 생성해서 앞 장에서 구현한 2차원 `Vector2d` 클래스를 개선하여 다음과 같은 기능을 지원하게 하려고 한다.\n",
    "\n",
    "* 기본 시퀀스 프로토콜 : `__len__()`과 `__getitem__()` 메서드\n",
    "* 여러 항목을 가진 객체를 안전하게 표현\n",
    "* 슬라이싱을 지원해서 새로운 벡터 객체 생성\n",
    "* 포함된 요소 값을 모두 고려한 집합 해싱\n",
    "* 커스터마이즈된 포맷 언어 확장\n",
    "* `__getattr__()` 메서드로 동적 속성 접근 구현"
   ]
  },
  {
   "cell_type": "code",
   "execution_count": 1,
   "metadata": {},
   "outputs": [
    {
     "name": "stdout",
     "output_type": "stream",
     "text": [
      "# vector2d_v3.py\n",
      "\n",
      "from array import array\n",
      "import math\n",
      "\n",
      "class Vector2d:\n",
      "    typecode = 'd' # Vector2d와 bytes 간의 변환에 사용하는 클래스 속성\n",
      "    \n",
      "    def __init__(self, x, y):\n",
      "        self.__x = float(x)\n",
      "        self.__y = float(y) # 미리 실수로 변환하는 센스\n",
      "        \n",
      "    @property # 게터 메서드를 나타냄\n",
      "    def x(self):\n",
      "        return self.__x        \n",
      "        \n",
      "    @property\n",
      "    def y(self):\n",
      "        return self.__y\n",
      "\n",
      "    def __hash__(self):\n",
      "        return hash(self.x) ^ hash(self.y)        \n",
      "    \n",
      "    def __iter__(self): # 이걸 구현하면 x,y = my_vector 처럼 쓸 수 있다.\n",
      "        return (i for i in (self.x, self.y))\n",
      "    \n",
      "    def __repr__(self):\n",
      "        class_name = type(self).__name__\n",
      "        return '{}({!r}, {!r})'.format(class_name, *self)\n",
      "    \n",
      "    def __str__(self):\n",
      "        return str(tuple(self))\n",
      "    \n",
      "    def __bytes__(self):\n",
      "        return (bytes([ord(self.typecode)])+\n",
      "               bytes(array(self.typecode, self)))\n",
      "    \n",
      "    def __eq__(self, other):\n",
      "        return tuple(self) == tuple(other)\n",
      "    \n",
      "    def __abs__(self):\n",
      "        return math.hypot(self.x, self.y)\n",
      "    \n",
      "    def __bool__(self):\n",
      "        return bool(abs(self))\n",
      "    \n",
      "    def angle(self):\n",
      "        return math.atan2(self.y, self.x)\n",
      "    \n",
      "    def __format__(self, fmt_spec=''):\n",
      "        if fmt_spec.endswith('p'):\n",
      "            fmt_spec = fmt_spec[:-1]\n",
      "            coords = (abs(self), self.angle())\n",
      "            outer_fmt = '<{}, {}>'\n",
      "        else:\n",
      "            coords = self\n",
      "            outer_fmt = '<{}, {}>'            \n",
      "        components = (format(c, fmt_spec) for c in coords)\n",
      "        return '({}, {})'.format(*components)\n",
      "\n",
      "    @classmethod # 클래스 메서드\n",
      "    def frombytes(cls, octets): # self 매개변수가 없고 대신 자신이 cls로 전달됨\n",
      "        typecode = chr(octets[0])\n",
      "        memv = memoryview(octets[1:]).cast(typecode)\n",
      "        return cls(*memv)"
     ]
    }
   ],
   "source": [
    "!cat vector2d_v3.py"
   ]
  },
  {
   "cell_type": "markdown",
   "metadata": {},
   "source": [
    "# 10.1 Vector: 사용자 정의 시퀀스형\n",
    "\n",
    "벡터의 요소들을 실수형 배열에 저장하고, 벡터가 불변 균일 시퀀스처럼 작동하게 만들기 위해 필요한 메서드를 구현한다"
   ]
  },
  {
   "cell_type": "markdown",
   "metadata": {},
   "source": [
    "# 10.2 Vector 버전 #1: Vector2d 호환\n",
    "\n",
    "최초의 `Vector` 버전은 앞에서 구현한 `Vector2d` 클래스와 가능한 호환성이 높도록 구현한다. 다만 시퀀스 생성자는 내장 시퀀스처럼 반복형을 인수로 받도록 한다."
   ]
  },
  {
   "cell_type": "code",
   "execution_count": 2,
   "metadata": {},
   "outputs": [],
   "source": [
    "from array import array\n",
    "import reprlib\n",
    "import math\n",
    "\n",
    "class Vector:\n",
    "    typecode = 'd'\n",
    "    \n",
    "    def __init__(self, components):\n",
    "        # 벡터 요소를 배열로 저장\n",
    "        self._components = array(self.typecode, components)\n",
    "        \n",
    "    def __iter__(self):\n",
    "        return iter(self._components) # 반복할 수 있도록 구현\n",
    "    \n",
    "    def __repr__(self):\n",
    "        components = reprlib.repr(self._components) # 제한된 길이로 출력\n",
    "        components = components[components.find('['):-1] # 문자열 중 앞에 나오는 \"array('d',\" 를 제거\n",
    "        return 'Vector({})'.format(components)\n",
    "    \n",
    "    def __str__(self):\n",
    "        return str(tuple(self))\n",
    "    \n",
    "    def __bytes__(self):\n",
    "        return (bytes([ord(self.typecode)]) + \n",
    "               bytes(self._components))\n",
    "    \n",
    "    def __eq__(self, other):\n",
    "        return tuple(self) == tuple(other)\n",
    "    \n",
    "    def __abs__(self):\n",
    "        return math.sqrt(sum(x * x for x in self))\n",
    "    \n",
    "    def __bool__(self):\n",
    "        return bool(abs(self))\n",
    "    \n",
    "    @classmethod\n",
    "    def frombytes(cls, octets):\n",
    "        typecode = chr(octets[0])\n",
    "        memv = memoryview(octets[1:]).cast(typecode)\n",
    "        return cls(memv) # 언패킹할 필요가 없음"
   ]
  },
  {
   "cell_type": "markdown",
   "metadata": {},
   "source": [
    "`reprlib.repr()` 을 사용해서 내부에 배열을 사용한다는 내용을 감추었다. "
   ]
  },
  {
   "cell_type": "markdown",
   "metadata": {},
   "source": [
    "# 10.3 프로토콜과 덕 타이핑\n",
    "\n",
    "프로토콜은 문서에만 정의되어 있고 실제 코드에서는 정의되지 않는 비공식 인터페이스이다. 예를 들어 파이썬에서 시퀀스형을 만들기 위해서는 어떤 클래스를 상속할 필요 없이 시퀀스 프로토콜(`__len__()`과 `__getitem__()`)에 따르는 메서드를 구현하면 된다. 가령 예제 1-1을 보자."
   ]
  },
  {
   "cell_type": "code",
   "execution_count": 3,
   "metadata": {},
   "outputs": [],
   "source": [
    "import collections\n",
    "\n",
    "Card = collections.namedtuple('Card', ['rank','suit'])\n",
    "\n",
    "class FrenchDeck:\n",
    "    ranks = [str(n) for n in range(2,11)] + list('JQKA')\n",
    "    suits = 'spades diamonds clubs hearts'.split()\n",
    "    \n",
    "    def __init__(self):\n",
    "        self._cards = [Card(rank, suit) for suit in self.suits\n",
    "                      for rank in self.ranks]\n",
    "    \n",
    "    def __len__(self):\n",
    "        return len(self._cards)\n",
    "    \n",
    "    def __getitem__(self, position):\n",
    "        return self._cards[position]"
   ]
  },
  {
   "cell_type": "markdown",
   "metadata": {},
   "source": [
    "`FrenchDeck` 클래스는 시퀀스 프로토콜을 구현하므로 파이썬에서 제공하는 여러 기능을 활용할 수 있다. 이 클래스가 시퀀스처럼 동작하기 때문에 시퀀스이다. 이 메커니즘을 __덕 타이핑__이라고 한다.\n",
    "\n",
    "클래스가 사용되는 환경에 따라 프로토콜의 일부만 구현할 수도 있다. 예를 들어 반복을 지원하려면 `__getitem__()` 메서드만 구현하면 된다."
   ]
  },
  {
   "cell_type": "markdown",
   "metadata": {},
   "source": [
    "# 10.4 Vector 버전 #2: 슬라이스 가능한 시퀀스\n",
    "\n",
    "`Vector` 클래스 안에 시퀀스 프로토콜을 구현하자. "
   ]
  },
  {
   "cell_type": "code",
   "execution_count": 5,
   "metadata": {},
   "outputs": [],
   "source": [
    "from array import array\n",
    "import reprlib\n",
    "import math\n",
    "\n",
    "class Vector:\n",
    "    typecode = 'd'\n",
    "    \n",
    "    def __init__(self, components):\n",
    "        # 벡터 요소를 배열로 저장\n",
    "        self._components = array(self.typecode, components)\n",
    "    \n",
    "    \"\"\"시퀀스 프로토콜 구현\"\"\"\n",
    "    def __len__(self):\n",
    "        return len(self._components)\n",
    "    \n",
    "    def __getitem__(self, index):\n",
    "        return self._components[index]\n",
    "    \"\"\"시퀀스 프로토콜 구현 종료\"\"\"\n",
    "    \n",
    "    def __iter__(self):\n",
    "        return iter(self._components) # 반복할 수 있도록 구현\n",
    "    \n",
    "    def __repr__(self):\n",
    "        components = reprlib.repr(self._components) # 제한된 길이로 출력\n",
    "        components = components[components.find('['):-1] # 문자열 중 앞에 나오는 \"array('d',\" 를 제거\n",
    "        return 'Vector({})'.format(components)\n",
    "    \n",
    "    def __str__(self):\n",
    "        return str(tuple(self))\n",
    "    \n",
    "    def __bytes__(self):\n",
    "        return (bytes([ord(self.typecode)]) + \n",
    "               bytes(self._components))\n",
    "    \n",
    "    def __eq__(self, other):\n",
    "        return tuple(self) == tuple(other)\n",
    "    \n",
    "    def __abs__(self):\n",
    "        return math.sqrt(sum(x * x for x in self))\n",
    "    \n",
    "    def __bool__(self):\n",
    "        return bool(abs(self))\n",
    "    \n",
    "    @classmethod\n",
    "    def frombytes(cls, octets):\n",
    "        typecode = chr(octets[0])\n",
    "        memv = memoryview(octets[1:]).cast(typecode)\n",
    "        return cls(memv) # 언패킹할 필요가 없음"
   ]
  },
  {
   "cell_type": "markdown",
   "metadata": {},
   "source": [
    "이 두 메서드가 추가되었으니 다음과 같은 연산 수행이 가능하다."
   ]
  },
  {
   "cell_type": "code",
   "execution_count": 6,
   "metadata": {},
   "outputs": [
    {
     "data": {
      "text/plain": [
       "Vector([3.0, 4.0, 5.0])"
      ]
     },
     "execution_count": 6,
     "metadata": {},
     "output_type": "execute_result"
    }
   ],
   "source": [
    "v1 = Vector([3,4,5]) \n",
    "v1"
   ]
  },
  {
   "cell_type": "code",
   "execution_count": 7,
   "metadata": {},
   "outputs": [
    {
     "data": {
      "text/plain": [
       "(3, 3.0, 5.0)"
      ]
     },
     "execution_count": 7,
     "metadata": {},
     "output_type": "execute_result"
    }
   ],
   "source": [
    "len(v1), v1[0], v1[-1]"
   ]
  },
  {
   "cell_type": "code",
   "execution_count": 9,
   "metadata": {},
   "outputs": [
    {
     "data": {
      "text/plain": [
       "(Vector([0.0, 1.0, 2.0, 3.0, 4.0, ...]), array('d', [1.0, 2.0, 3.0]))"
      ]
     },
     "execution_count": 9,
     "metadata": {},
     "output_type": "execute_result"
    }
   ],
   "source": [
    "v7 = Vector(range(7))\n",
    "v7, v7[1:4]"
   ]
  },
  {
   "cell_type": "markdown",
   "metadata": {},
   "source": [
    "보다시피 슬라이싱도 지원되긴 하나 객체가 배열로 바뀌게 된다. 따라서 슬라이싱해서 `Vector` 객체를 생성하려면 슬라이싱 연산을 배열에 위임하면 안되며, `__getitem__()` 메서드에 구현해야 한다."
   ]
  },
  {
   "cell_type": "markdown",
   "metadata": {},
   "source": [
    "## 10.4.1 슬라이싱의 작동 방식\n",
    "\n",
    "실제 슬라이싱이 어떻게 작동하는지 확인해보자."
   ]
  },
  {
   "cell_type": "code",
   "execution_count": 10,
   "metadata": {},
   "outputs": [],
   "source": [
    "class MySeq:\n",
    "    def __getitem__(self, index):\n",
    "        return index"
   ]
  },
  {
   "cell_type": "code",
   "execution_count": 11,
   "metadata": {},
   "outputs": [
    {
     "data": {
      "text/plain": [
       "1"
      ]
     },
     "execution_count": 11,
     "metadata": {},
     "output_type": "execute_result"
    }
   ],
   "source": [
    "s = MySeq()\n",
    "s[1]"
   ]
  },
  {
   "cell_type": "code",
   "execution_count": 12,
   "metadata": {},
   "outputs": [
    {
     "data": {
      "text/plain": [
       "slice(1, 4, None)"
      ]
     },
     "execution_count": 12,
     "metadata": {},
     "output_type": "execute_result"
    }
   ],
   "source": [
    "s[1:4]"
   ]
  },
  {
   "cell_type": "code",
   "execution_count": 13,
   "metadata": {},
   "outputs": [
    {
     "data": {
      "text/plain": [
       "slice(1, 4, 2)"
      ]
     },
     "execution_count": 13,
     "metadata": {},
     "output_type": "execute_result"
    }
   ],
   "source": [
    "s[1:4:2]"
   ]
  },
  {
   "cell_type": "code",
   "execution_count": 17,
   "metadata": {},
   "outputs": [
    {
     "data": {
      "text/plain": [
       "(slice(1, 4, 2), 9)"
      ]
     },
     "execution_count": 17,
     "metadata": {},
     "output_type": "execute_result"
    }
   ],
   "source": [
    "s[1:4:2, 9] # [] 안에 콤마가 들어가면 __getitem__() 이 튜플을 받는다."
   ]
  },
  {
   "cell_type": "code",
   "execution_count": 16,
   "metadata": {},
   "outputs": [
    {
     "data": {
      "text/plain": [
       "(slice(1, 4, 2), slice(7, 9, None))"
      ]
     },
     "execution_count": 16,
     "metadata": {},
     "output_type": "execute_result"
    }
   ],
   "source": [
    "s[1:4:2, 7:9]"
   ]
  },
  {
   "cell_type": "markdown",
   "metadata": {},
   "source": [
    "`slice`에 대해 살펴보자."
   ]
  },
  {
   "cell_type": "code",
   "execution_count": 19,
   "metadata": {},
   "outputs": [
    {
     "data": {
      "text/plain": [
       "['__class__',\n",
       " '__delattr__',\n",
       " '__dir__',\n",
       " '__doc__',\n",
       " '__eq__',\n",
       " '__format__',\n",
       " '__ge__',\n",
       " '__getattribute__',\n",
       " '__gt__',\n",
       " '__hash__',\n",
       " '__init__',\n",
       " '__init_subclass__',\n",
       " '__le__',\n",
       " '__lt__',\n",
       " '__ne__',\n",
       " '__new__',\n",
       " '__reduce__',\n",
       " '__reduce_ex__',\n",
       " '__repr__',\n",
       " '__setattr__',\n",
       " '__sizeof__',\n",
       " '__str__',\n",
       " '__subclasshook__',\n",
       " 'indices',\n",
       " 'start',\n",
       " 'step',\n",
       " 'stop']"
      ]
     },
     "execution_count": 19,
     "metadata": {},
     "output_type": "execute_result"
    }
   ],
   "source": [
    "dir(slice) "
   ]
  },
  {
   "cell_type": "markdown",
   "metadata": {},
   "source": [
    "`start`, `stop`, `step`과 `indices()` 메서드를 볼 수 있다."
   ]
  },
  {
   "cell_type": "code",
   "execution_count": 20,
   "metadata": {},
   "outputs": [
    {
     "name": "stdout",
     "output_type": "stream",
     "text": [
      "Help on method_descriptor:\n",
      "\n",
      "indices(...)\n",
      "    S.indices(len) -> (start, stop, stride)\n",
      "    \n",
      "    Assuming a sequence of length len, calculate the start and stop\n",
      "    indices, and the stride length of the extended slice described by\n",
      "    S. Out of bounds indices are clipped in a manner consistent with the\n",
      "    handling of normal slices.\n",
      "\n"
     ]
    }
   ],
   "source": [
    "help(slice.indices)"
   ]
  },
  {
   "cell_type": "markdown",
   "metadata": {},
   "source": [
    "즉, 길이가 `l`인 리스트에 슬라이스를 적용한 결과값을 반환한다."
   ]
  },
  {
   "cell_type": "code",
   "execution_count": 23,
   "metadata": {},
   "outputs": [],
   "source": [
    "st = \"ABCDE\""
   ]
  },
  {
   "cell_type": "code",
   "execution_count": 25,
   "metadata": {},
   "outputs": [
    {
     "data": {
      "text/plain": [
       "(0, 5, 2)"
      ]
     },
     "execution_count": 25,
     "metadata": {},
     "output_type": "execute_result"
    }
   ],
   "source": [
    "slice(None, 10, 2).indices(5)"
   ]
  },
  {
   "cell_type": "code",
   "execution_count": 30,
   "metadata": {},
   "outputs": [
    {
     "data": {
      "text/plain": [
       "('ACE', True)"
      ]
     },
     "execution_count": 30,
     "metadata": {},
     "output_type": "execute_result"
    }
   ],
   "source": [
    "st[:10:2], st[:10:2] == st[0:5:2]"
   ]
  },
  {
   "cell_type": "code",
   "execution_count": 22,
   "metadata": {},
   "outputs": [
    {
     "data": {
      "text/plain": [
       "(2, 5, 1)"
      ]
     },
     "execution_count": 22,
     "metadata": {},
     "output_type": "execute_result"
    }
   ],
   "source": [
    "slice(-3, None, None).indices(5)"
   ]
  },
  {
   "cell_type": "code",
   "execution_count": 31,
   "metadata": {},
   "outputs": [
    {
     "data": {
      "text/plain": [
       "('CDE', True)"
      ]
     },
     "execution_count": 31,
     "metadata": {},
     "output_type": "execute_result"
    }
   ],
   "source": [
    "st[-3::], st[-3::] == st[2:5:1]"
   ]
  },
  {
   "cell_type": "markdown",
   "metadata": {},
   "source": [
    "실제 `Vector` 구현에서는 `slice` 인수를 받을 때 `_components` 배열에 처리를 위임할 것이므로 `slice.indices()` 메서드를 구현할 필요가 없지만, 기반 시퀀스가 제공하는 서비스에 의존할 수 없을 때는 이 메서드가 도움이 된다."
   ]
  },
  {
   "cell_type": "markdown",
   "metadata": {},
   "source": [
    "## 10.4.2 슬라이스를 인식하는 `__getitem__()`\n",
    "\n",
    "이제는 `__getitem__()`이 슬라이싱도 제대로 처리하도록 구현해보자. 먼저 `type()` 메서드를 확인해보자."
   ]
  },
  {
   "cell_type": "code",
   "execution_count": 36,
   "metadata": {},
   "outputs": [
    {
     "data": {
      "text/plain": [
       "Vector([1.0, 2.0])"
      ]
     },
     "execution_count": 36,
     "metadata": {},
     "output_type": "execute_result"
    }
   ],
   "source": [
    "cls = type(v1) # v1의 원래 클래스를 반환\n",
    "cls([1,2])"
   ]
  },
  {
   "cell_type": "code",
   "execution_count": 43,
   "metadata": {},
   "outputs": [],
   "source": [
    "# vector_v2.py\n",
    "\n",
    "from array import array\n",
    "import reprlib\n",
    "import math\n",
    "import numbers\n",
    "\n",
    "class Vector:\n",
    "    typecode = 'd'\n",
    "    \n",
    "    def __init__(self, components):\n",
    "        # 벡터 요소를 배열로 저장\n",
    "        self._components = array(self.typecode, components)\n",
    "    \n",
    "    \"\"\"시퀀스 프로토콜 구현\"\"\"\n",
    "    def __len__(self):\n",
    "        return len(self._components)\n",
    "    \n",
    "    def __getitem__(self, index):\n",
    "        cls = type(self) # 객체의 클래스를 가져옴\n",
    "        if isinstance(index, slice): # index가 슬라이스이면\n",
    "            return cls(self._components[index]) # Vector 객체를 생성\n",
    "        elif isinstance(index, numbers.Integral): # index가 정수형이면\n",
    "            return self._components[index] # 해당 항목 반환\n",
    "        else:\n",
    "            msg = '{cls.__name__} indices must be integers'\n",
    "            raise TypeError(msg.format(cls=cls)) \n",
    "    \"\"\"시퀀스 프로토콜 구현 종료\"\"\"\n",
    "    \n",
    "    def __iter__(self):\n",
    "        return iter(self._components) # 반복할 수 있도록 구현\n",
    "    \n",
    "    def __repr__(self):\n",
    "        components = reprlib.repr(self._components) # 제한된 길이로 출력\n",
    "        components = components[components.find('['):-1] # 문자열 중 앞에 나오는 \"array('d',\" 를 제거\n",
    "        return 'Vector({})'.format(components)\n",
    "    \n",
    "    def __str__(self):\n",
    "        return str(tuple(self))\n",
    "    \n",
    "    def __bytes__(self):\n",
    "        return (bytes([ord(self.typecode)]) + \n",
    "               bytes(self._components))\n",
    "    \n",
    "    def __eq__(self, other):\n",
    "        return tuple(self) == tuple(other)\n",
    "    \n",
    "    def __abs__(self):\n",
    "        return math.sqrt(sum(x * x for x in self))\n",
    "    \n",
    "    def __bool__(self):\n",
    "        return bool(abs(self))\n",
    "    \n",
    "    @classmethod\n",
    "    def frombytes(cls, octets):\n",
    "        typecode = chr(octets[0])\n",
    "        memv = memoryview(octets[1:]).cast(typecode)\n",
    "        return cls(memv) # 언패킹할 필요가 없음"
   ]
  },
  {
   "cell_type": "code",
   "execution_count": 52,
   "metadata": {},
   "outputs": [
    {
     "data": {
      "text/plain": [
       "6.0"
      ]
     },
     "execution_count": 52,
     "metadata": {},
     "output_type": "execute_result"
    }
   ],
   "source": [
    "v7 = Vector(range(7))\n",
    "v7[-1] # 정수형 인덱스는 단 한 요소의 값을 실수형으로 반환"
   ]
  },
  {
   "cell_type": "code",
   "execution_count": 53,
   "metadata": {},
   "outputs": [
    {
     "data": {
      "text/plain": [
       "Vector([1.0, 2.0, 3.0])"
      ]
     },
     "execution_count": 53,
     "metadata": {},
     "output_type": "execute_result"
    }
   ],
   "source": [
    "v7[1:4] # 슬라이스 인덱스는 Vector를 새로 만든다"
   ]
  },
  {
   "cell_type": "code",
   "execution_count": 54,
   "metadata": {},
   "outputs": [
    {
     "data": {
      "text/plain": [
       "Vector([6.0])"
      ]
     },
     "execution_count": 54,
     "metadata": {},
     "output_type": "execute_result"
    }
   ],
   "source": [
    "v7[-1:] # 길이가 1인 슬라이스도 Vector 객체를 생성한다"
   ]
  },
  {
   "cell_type": "code",
   "execution_count": 55,
   "metadata": {},
   "outputs": [
    {
     "ename": "TypeError",
     "evalue": "Vector indices must be integers",
     "output_type": "error",
     "traceback": [
      "\u001b[0;31m---------------------------------------------------------------------------\u001b[0m",
      "\u001b[0;31mTypeError\u001b[0m                                 Traceback (most recent call last)",
      "\u001b[0;32m<ipython-input-55-aa766ace65b0>\u001b[0m in \u001b[0;36m<module>\u001b[0;34m\u001b[0m\n\u001b[0;32m----> 1\u001b[0;31m \u001b[0mv7\u001b[0m\u001b[0;34m[\u001b[0m\u001b[0;36m1\u001b[0m\u001b[0;34m,\u001b[0m\u001b[0;36m2\u001b[0m\u001b[0;34m]\u001b[0m \u001b[0;31m# 다차원 인덱싱은 지원하지 않으므로 에러 발생\u001b[0m\u001b[0;34m\u001b[0m\u001b[0;34m\u001b[0m\u001b[0m\n\u001b[0m",
      "\u001b[0;32m<ipython-input-43-eaef7362d68b>\u001b[0m in \u001b[0;36m__getitem__\u001b[0;34m(self, index)\u001b[0m\n\u001b[1;32m     25\u001b[0m         \u001b[0;32melse\u001b[0m\u001b[0;34m:\u001b[0m\u001b[0;34m\u001b[0m\u001b[0;34m\u001b[0m\u001b[0m\n\u001b[1;32m     26\u001b[0m             \u001b[0mmsg\u001b[0m \u001b[0;34m=\u001b[0m \u001b[0;34m'{cls.__name__} indices must be integers'\u001b[0m\u001b[0;34m\u001b[0m\u001b[0;34m\u001b[0m\u001b[0m\n\u001b[0;32m---> 27\u001b[0;31m             \u001b[0;32mraise\u001b[0m \u001b[0mTypeError\u001b[0m\u001b[0;34m(\u001b[0m\u001b[0mmsg\u001b[0m\u001b[0;34m.\u001b[0m\u001b[0mformat\u001b[0m\u001b[0;34m(\u001b[0m\u001b[0mcls\u001b[0m\u001b[0;34m=\u001b[0m\u001b[0mcls\u001b[0m\u001b[0;34m)\u001b[0m\u001b[0;34m)\u001b[0m\u001b[0;34m\u001b[0m\u001b[0;34m\u001b[0m\u001b[0m\n\u001b[0m\u001b[1;32m     28\u001b[0m     \u001b[0;34m\"\"\"시퀀스 프로토콜 구현 종료\"\"\"\u001b[0m\u001b[0;34m\u001b[0m\u001b[0;34m\u001b[0m\u001b[0m\n\u001b[1;32m     29\u001b[0m \u001b[0;34m\u001b[0m\u001b[0m\n",
      "\u001b[0;31mTypeError\u001b[0m: Vector indices must be integers"
     ]
    }
   ],
   "source": [
    "v7[1,2] # 다차원 인덱싱은 지원하지 않으므로 에러 발생"
   ]
  },
  {
   "cell_type": "markdown",
   "metadata": {},
   "source": [
    "# 10.5 Vector 버전 #3: 동적 속성 접근\n",
    "\n",
    "`Vector` 객체는 `v.x`, `v.y`처럼 벡터 요소를 이름으로 접근하는 기능이 없으므로 이를 구현해보자. `Vector2d`는 `@property` 데커레이터를 이요하여 구현하였으나 조금 귀찮았다... 따라서 특정 속성을 찾지 못하면 인터프리터가 호출하는 `__getattr__()` 메서드를 이용하여 깔끔하게 구현해보자."
   ]
  },
  {
   "cell_type": "code",
   "execution_count": 56,
   "metadata": {},
   "outputs": [],
   "source": [
    "# vector_v3.py\n",
    "\n",
    "from array import array\n",
    "import reprlib\n",
    "import math\n",
    "import numbers\n",
    "\n",
    "class Vector:\n",
    "    typecode = 'd'\n",
    "    shortcut_names = 'xyzt'\n",
    "    \n",
    "    def __init__(self, components):\n",
    "        # 벡터 요소를 배열로 저장\n",
    "        self._components = array(self.typecode, components)\n",
    "    \n",
    "    \"\"\"시퀀스 프로토콜 구현\"\"\"\n",
    "    def __len__(self):\n",
    "        return len(self._components)\n",
    "    \n",
    "    def __getitem__(self, index):\n",
    "        cls = type(self) # 객체의 클래스를 가져옴\n",
    "        if isinstance(index, slice): # index가 슬라이스이면\n",
    "            return cls(self._components[index]) # Vector 객체를 생성\n",
    "        elif isinstance(index, numbers.Integral): # index가 정수형이면\n",
    "            return self._components[index] # 해당 항목 반환\n",
    "        else:\n",
    "            msg = '{cls.__name__} indices must be integers'\n",
    "            raise TypeError(msg.format(cls=cls)) \n",
    "    \"\"\"시퀀스 프로토콜 구현 종료\"\"\"\n",
    "    \n",
    "    def __getattr__(self, name):\n",
    "        cls = type(self)\n",
    "        if len(name) == 1: # name이 한글자이면 \n",
    "            pos = cls.shortcut_names.find(name)\n",
    "            if 0 <= pos < len(self._components): # 포지션이 범위 내에 있으면 배열 항목 반환\n",
    "                return self._components[pos]\n",
    "        msg = '{.__name__!r} object has no attribute {!r}' \n",
    "        raise AttributeError(msg.format(cls, name))\n",
    "    \n",
    "    def __iter__(self):\n",
    "        return iter(self._components) # 반복할 수 있도록 구현\n",
    "    \n",
    "    def __repr__(self):\n",
    "        components = reprlib.repr(self._components) # 제한된 길이로 출력\n",
    "        components = components[components.find('['):-1] # 문자열 중 앞에 나오는 \"array('d',\" 를 제거\n",
    "        return 'Vector({})'.format(components)\n",
    "    \n",
    "    def __str__(self):\n",
    "        return str(tuple(self))\n",
    "    \n",
    "    def __bytes__(self):\n",
    "        return (bytes([ord(self.typecode)]) + \n",
    "               bytes(self._components))\n",
    "    \n",
    "    def __eq__(self, other):\n",
    "        return tuple(self) == tuple(other)\n",
    "    \n",
    "    def __abs__(self):\n",
    "        return math.sqrt(sum(x * x for x in self))\n",
    "    \n",
    "    def __bool__(self):\n",
    "        return bool(abs(self))\n",
    "    \n",
    "    @classmethod\n",
    "    def frombytes(cls, octets):\n",
    "        typecode = chr(octets[0])\n",
    "        memv = memoryview(octets[1:]).cast(typecode)\n",
    "        return cls(memv) # 언패킹할 필요가 없음"
   ]
  },
  {
   "cell_type": "code",
   "execution_count": 65,
   "metadata": {},
   "outputs": [
    {
     "data": {
      "text/plain": [
       "Vector([0.0, 1.0, 2.0, 3.0, 4.0])"
      ]
     },
     "execution_count": 65,
     "metadata": {},
     "output_type": "execute_result"
    }
   ],
   "source": [
    "v = Vector(range(5))\n",
    "v"
   ]
  },
  {
   "cell_type": "code",
   "execution_count": 66,
   "metadata": {},
   "outputs": [
    {
     "data": {
      "text/plain": [
       "['__abs__',\n",
       " '__bool__',\n",
       " '__bytes__',\n",
       " '__class__',\n",
       " '__delattr__',\n",
       " '__dict__',\n",
       " '__dir__',\n",
       " '__doc__',\n",
       " '__eq__',\n",
       " '__format__',\n",
       " '__ge__',\n",
       " '__getattr__',\n",
       " '__getattribute__',\n",
       " '__getitem__',\n",
       " '__gt__',\n",
       " '__hash__',\n",
       " '__init__',\n",
       " '__init_subclass__',\n",
       " '__iter__',\n",
       " '__le__',\n",
       " '__len__',\n",
       " '__lt__',\n",
       " '__module__',\n",
       " '__ne__',\n",
       " '__new__',\n",
       " '__reduce__',\n",
       " '__reduce_ex__',\n",
       " '__repr__',\n",
       " '__setattr__',\n",
       " '__sizeof__',\n",
       " '__str__',\n",
       " '__subclasshook__',\n",
       " '__weakref__',\n",
       " '_components',\n",
       " 'frombytes',\n",
       " 'shortcut_names',\n",
       " 'typecode']"
      ]
     },
     "execution_count": 66,
     "metadata": {},
     "output_type": "execute_result"
    }
   ],
   "source": [
    "dir(v)"
   ]
  },
  {
   "cell_type": "code",
   "execution_count": 59,
   "metadata": {},
   "outputs": [
    {
     "data": {
      "text/plain": [
       "(0.0, 1.0)"
      ]
     },
     "execution_count": 59,
     "metadata": {},
     "output_type": "execute_result"
    }
   ],
   "source": [
    "v.x, v.y"
   ]
  },
  {
   "cell_type": "markdown",
   "metadata": {},
   "source": [
    "그러나 다음과 같은 오류가 발생한다."
   ]
  },
  {
   "cell_type": "code",
   "execution_count": 68,
   "metadata": {},
   "outputs": [
    {
     "data": {
      "text/plain": [
       "(10, Vector([0.0, 1.0, 2.0, 3.0, 4.0]))"
      ]
     },
     "execution_count": 68,
     "metadata": {},
     "output_type": "execute_result"
    }
   ],
   "source": [
    "v.x = 10\n",
    "v.x, v # 벡터 요소는 변경되지 않았음"
   ]
  },
  {
   "cell_type": "markdown",
   "metadata": {},
   "source": [
    "이는 `v.x = 10` 을 선언하는 순간 `v` 객체에 `x` 속성이 추가되므로, 더 이상 `v.x`를 호출할 때 `__getattr()`을 호출하지 않기 때문이다."
   ]
  },
  {
   "cell_type": "code",
   "execution_count": 69,
   "metadata": {},
   "outputs": [
    {
     "data": {
      "text/plain": [
       "'x'"
      ]
     },
     "execution_count": 69,
     "metadata": {},
     "output_type": "execute_result"
    }
   ],
   "source": [
    "dir(v)[-1] # x 라는 속성이 생김"
   ]
  },
  {
   "cell_type": "markdown",
   "metadata": {},
   "source": [
    "이를 해결하기 위해서 소문자 하나로 된 속성명에 값을 할당할 때 예외를 발생시키려고 한다. 따라서 다음과 같이 `__setattr__()` 메서드를 구현하자."
   ]
  },
  {
   "cell_type": "code",
   "execution_count": 70,
   "metadata": {},
   "outputs": [],
   "source": [
    "# vector_v3.py\n",
    "\n",
    "from array import array\n",
    "import reprlib\n",
    "import math\n",
    "import numbers\n",
    "\n",
    "class Vector:\n",
    "    typecode = 'd'\n",
    "    shortcut_names = 'xyzt'\n",
    "    \n",
    "    def __init__(self, components):\n",
    "        # 벡터 요소를 배열로 저장\n",
    "        self._components = array(self.typecode, components)\n",
    "    \n",
    "    \"\"\"시퀀스 프로토콜 구현\"\"\"\n",
    "    def __len__(self):\n",
    "        return len(self._components)\n",
    "    \n",
    "    def __getitem__(self, index):\n",
    "        cls = type(self) # 객체의 클래스를 가져옴\n",
    "        if isinstance(index, slice): # index가 슬라이스이면\n",
    "            return cls(self._components[index]) # Vector 객체를 생성\n",
    "        elif isinstance(index, numbers.Integral): # index가 정수형이면\n",
    "            return self._components[index] # 해당 항목 반환\n",
    "        else:\n",
    "            msg = '{cls.__name__} indices must be integers'\n",
    "            raise TypeError(msg.format(cls=cls)) \n",
    "    \"\"\"시퀀스 프로토콜 구현 종료\"\"\"\n",
    "    \n",
    "    def __getattr__(self, name):\n",
    "        cls = type(self)\n",
    "        if len(name) == 1: # name이 한글자이면 \n",
    "            pos = cls.shortcut_names.find(name)\n",
    "            if 0 <= pos < len(self._components): # 포지션이 범위 내에 있으면 배열 항목 반환\n",
    "                return self._components[pos]\n",
    "        msg = '{.__name__!r} object has no attribute {!r}' \n",
    "        raise AttributeError(msg.format(cls, name))\n",
    "        \n",
    "    def __setattr__(self, name, value):\n",
    "        cls = type(self)\n",
    "        if len(name) == 1:\n",
    "            if name in cls.shortcut_names:\n",
    "                error = 'readonly attribute {attr_name!r}' # xyzt 중 하나는 구체적으로 오류 발생\n",
    "            elif name.islower():\n",
    "                error = \"can't set attributes 'a' to 'z' in {cls_name!r}\" # 그외 소문자면 일반적 메세지 오류 발생\n",
    "            else:\n",
    "                error = ''\n",
    "            if error:\n",
    "                msg = error.format(cls_name=cls.__name__, attr_name=name)\n",
    "                raise AttributeError(msg)\n",
    "        # 에러가 발생하지 않을 때는 정상적으로 __setattr__() 메서드 호출\n",
    "        super().__setattr__(name, value) \n",
    "        \n",
    "                \n",
    "    \n",
    "    def __iter__(self):\n",
    "        return iter(self._components) # 반복할 수 있도록 구현\n",
    "    \n",
    "    def __repr__(self):\n",
    "        components = reprlib.repr(self._components) # 제한된 길이로 출력\n",
    "        components = components[components.find('['):-1] # 문자열 중 앞에 나오는 \"array('d',\" 를 제거\n",
    "        return 'Vector({})'.format(components)\n",
    "    \n",
    "    def __str__(self):\n",
    "        return str(tuple(self))\n",
    "    \n",
    "    def __bytes__(self):\n",
    "        return (bytes([ord(self.typecode)]) + \n",
    "               bytes(self._components))\n",
    "    \n",
    "    def __eq__(self, other):\n",
    "        return tuple(self) == tuple(other)\n",
    "    \n",
    "    def __abs__(self):\n",
    "        return math.sqrt(sum(x * x for x in self))\n",
    "    \n",
    "    def __bool__(self):\n",
    "        return bool(abs(self))\n",
    "    \n",
    "    @classmethod\n",
    "    def frombytes(cls, octets):\n",
    "        typecode = chr(octets[0])\n",
    "        memv = memoryview(octets[1:]).cast(typecode)\n",
    "        return cls(memv) # 언패킹할 필요가 없음"
   ]
  },
  {
   "cell_type": "code",
   "execution_count": 71,
   "metadata": {},
   "outputs": [
    {
     "data": {
      "text/plain": [
       "Vector([0.0, 1.0, 2.0, 3.0, 4.0])"
      ]
     },
     "execution_count": 71,
     "metadata": {},
     "output_type": "execute_result"
    }
   ],
   "source": [
    "v = Vector(range(5))\n",
    "v"
   ]
  },
  {
   "cell_type": "code",
   "execution_count": 72,
   "metadata": {},
   "outputs": [
    {
     "data": {
      "text/plain": [
       "0.0"
      ]
     },
     "execution_count": 72,
     "metadata": {},
     "output_type": "execute_result"
    }
   ],
   "source": [
    "v.x"
   ]
  },
  {
   "cell_type": "code",
   "execution_count": 73,
   "metadata": {},
   "outputs": [
    {
     "ename": "AttributeError",
     "evalue": "readonly attribute 'x'",
     "output_type": "error",
     "traceback": [
      "\u001b[0;31m---------------------------------------------------------------------------\u001b[0m",
      "\u001b[0;31mAttributeError\u001b[0m                            Traceback (most recent call last)",
      "\u001b[0;32m<ipython-input-73-ab03a2bcc936>\u001b[0m in \u001b[0;36m<module>\u001b[0;34m\u001b[0m\n\u001b[0;32m----> 1\u001b[0;31m \u001b[0mv\u001b[0m\u001b[0;34m.\u001b[0m\u001b[0mx\u001b[0m \u001b[0;34m=\u001b[0m \u001b[0;36m10\u001b[0m\u001b[0;34m\u001b[0m\u001b[0;34m\u001b[0m\u001b[0m\n\u001b[0m",
      "\u001b[0;32m<ipython-input-70-d852c5072d3a>\u001b[0m in \u001b[0;36m__setattr__\u001b[0;34m(self, name, value)\u001b[0m\n\u001b[1;32m     49\u001b[0m             \u001b[0;32mif\u001b[0m \u001b[0merror\u001b[0m\u001b[0;34m:\u001b[0m\u001b[0;34m\u001b[0m\u001b[0;34m\u001b[0m\u001b[0m\n\u001b[1;32m     50\u001b[0m                 \u001b[0mmsg\u001b[0m \u001b[0;34m=\u001b[0m \u001b[0merror\u001b[0m\u001b[0;34m.\u001b[0m\u001b[0mformat\u001b[0m\u001b[0;34m(\u001b[0m\u001b[0mcls_name\u001b[0m\u001b[0;34m=\u001b[0m\u001b[0mcls\u001b[0m\u001b[0;34m.\u001b[0m\u001b[0m__name__\u001b[0m\u001b[0;34m,\u001b[0m \u001b[0mattr_name\u001b[0m\u001b[0;34m=\u001b[0m\u001b[0mname\u001b[0m\u001b[0;34m)\u001b[0m\u001b[0;34m\u001b[0m\u001b[0;34m\u001b[0m\u001b[0m\n\u001b[0;32m---> 51\u001b[0;31m                 \u001b[0;32mraise\u001b[0m \u001b[0mAttributeError\u001b[0m\u001b[0;34m(\u001b[0m\u001b[0mmsg\u001b[0m\u001b[0;34m)\u001b[0m\u001b[0;34m\u001b[0m\u001b[0;34m\u001b[0m\u001b[0m\n\u001b[0m\u001b[1;32m     52\u001b[0m         \u001b[0;31m# 에러가 발생하지 않을 때는 정상적으로 __setattr__() 메서드 호출\u001b[0m\u001b[0;34m\u001b[0m\u001b[0;34m\u001b[0m\u001b[0;34m\u001b[0m\u001b[0m\n\u001b[1;32m     53\u001b[0m         \u001b[0msuper\u001b[0m\u001b[0;34m(\u001b[0m\u001b[0;34m)\u001b[0m\u001b[0;34m.\u001b[0m\u001b[0m__setattr__\u001b[0m\u001b[0;34m(\u001b[0m\u001b[0mname\u001b[0m\u001b[0;34m,\u001b[0m \u001b[0mvalue\u001b[0m\u001b[0;34m)\u001b[0m\u001b[0;34m\u001b[0m\u001b[0;34m\u001b[0m\u001b[0m\n",
      "\u001b[0;31mAttributeError\u001b[0m: readonly attribute 'x'"
     ]
    }
   ],
   "source": [
    "v.x = 10"
   ]
  },
  {
   "cell_type": "code",
   "execution_count": 74,
   "metadata": {},
   "outputs": [
    {
     "ename": "AttributeError",
     "evalue": "can't set attributes 'a' to 'z' in 'Vector'",
     "output_type": "error",
     "traceback": [
      "\u001b[0;31m---------------------------------------------------------------------------\u001b[0m",
      "\u001b[0;31mAttributeError\u001b[0m                            Traceback (most recent call last)",
      "\u001b[0;32m<ipython-input-74-eff749be5fa0>\u001b[0m in \u001b[0;36m<module>\u001b[0;34m\u001b[0m\n\u001b[0;32m----> 1\u001b[0;31m \u001b[0mv\u001b[0m\u001b[0;34m.\u001b[0m\u001b[0mu\u001b[0m \u001b[0;34m=\u001b[0m \u001b[0;36m10\u001b[0m\u001b[0;34m\u001b[0m\u001b[0;34m\u001b[0m\u001b[0m\n\u001b[0m",
      "\u001b[0;32m<ipython-input-70-d852c5072d3a>\u001b[0m in \u001b[0;36m__setattr__\u001b[0;34m(self, name, value)\u001b[0m\n\u001b[1;32m     49\u001b[0m             \u001b[0;32mif\u001b[0m \u001b[0merror\u001b[0m\u001b[0;34m:\u001b[0m\u001b[0;34m\u001b[0m\u001b[0;34m\u001b[0m\u001b[0m\n\u001b[1;32m     50\u001b[0m                 \u001b[0mmsg\u001b[0m \u001b[0;34m=\u001b[0m \u001b[0merror\u001b[0m\u001b[0;34m.\u001b[0m\u001b[0mformat\u001b[0m\u001b[0;34m(\u001b[0m\u001b[0mcls_name\u001b[0m\u001b[0;34m=\u001b[0m\u001b[0mcls\u001b[0m\u001b[0;34m.\u001b[0m\u001b[0m__name__\u001b[0m\u001b[0;34m,\u001b[0m \u001b[0mattr_name\u001b[0m\u001b[0;34m=\u001b[0m\u001b[0mname\u001b[0m\u001b[0;34m)\u001b[0m\u001b[0;34m\u001b[0m\u001b[0;34m\u001b[0m\u001b[0m\n\u001b[0;32m---> 51\u001b[0;31m                 \u001b[0;32mraise\u001b[0m \u001b[0mAttributeError\u001b[0m\u001b[0;34m(\u001b[0m\u001b[0mmsg\u001b[0m\u001b[0;34m)\u001b[0m\u001b[0;34m\u001b[0m\u001b[0;34m\u001b[0m\u001b[0m\n\u001b[0m\u001b[1;32m     52\u001b[0m         \u001b[0;31m# 에러가 발생하지 않을 때는 정상적으로 __setattr__() 메서드 호출\u001b[0m\u001b[0;34m\u001b[0m\u001b[0;34m\u001b[0m\u001b[0;34m\u001b[0m\u001b[0m\n\u001b[1;32m     53\u001b[0m         \u001b[0msuper\u001b[0m\u001b[0;34m(\u001b[0m\u001b[0;34m)\u001b[0m\u001b[0;34m.\u001b[0m\u001b[0m__setattr__\u001b[0m\u001b[0;34m(\u001b[0m\u001b[0mname\u001b[0m\u001b[0;34m,\u001b[0m \u001b[0mvalue\u001b[0m\u001b[0;34m)\u001b[0m\u001b[0;34m\u001b[0m\u001b[0;34m\u001b[0m\u001b[0m\n",
      "\u001b[0;31mAttributeError\u001b[0m: can't set attributes 'a' to 'z' in 'Vector'"
     ]
    }
   ],
   "source": [
    "v.u = 10"
   ]
  },
  {
   "cell_type": "code",
   "execution_count": 78,
   "metadata": {},
   "outputs": [
    {
     "data": {
      "text/plain": [
       "['__abs__',\n",
       " '__bool__',\n",
       " '__bytes__',\n",
       " '__class__',\n",
       " '__delattr__',\n",
       " '__dict__',\n",
       " '__dir__',\n",
       " '__doc__',\n",
       " '__eq__',\n",
       " '__format__',\n",
       " '__ge__',\n",
       " '__getattr__',\n",
       " '__getattribute__',\n",
       " '__getitem__',\n",
       " '__gt__',\n",
       " '__hash__',\n",
       " '__init__',\n",
       " '__init_subclass__',\n",
       " '__iter__',\n",
       " '__le__',\n",
       " '__len__',\n",
       " '__lt__',\n",
       " '__module__',\n",
       " '__ne__',\n",
       " '__new__',\n",
       " '__reduce__',\n",
       " '__reduce_ex__',\n",
       " '__repr__',\n",
       " '__setattr__',\n",
       " '__sizeof__',\n",
       " '__str__',\n",
       " '__subclasshook__',\n",
       " '__weakref__',\n",
       " '_components',\n",
       " 'frombytes',\n",
       " 'shortcut_names',\n",
       " 'test',\n",
       " 'typecode']"
      ]
     },
     "execution_count": 78,
     "metadata": {},
     "output_type": "execute_result"
    }
   ],
   "source": [
    "v.test = 10\n",
    "dir(v) # 이러면 적용 가능"
   ]
  },
  {
   "cell_type": "markdown",
   "metadata": {},
   "source": [
    "따라서 객체 동작의 불일치를 피하려면 `__getattr__()`을 구현할 때 `__setattr__()`도 함께 구현해야 한다. 또한 벡터 요소의 변경을 허용하고 싶은 경우, `__setitem__()` 메서드를 구현하면 `v[0]=1.1`의 형태로, `__setattr__()` 메서드를 구현하면 `v.x = 1.1`로 작성할 수 있다."
   ]
  },
  {
   "cell_type": "markdown",
   "metadata": {},
   "source": [
    "# 10.6 Vector 버전 #4: 해싱 및 더 빠른 ==\n",
    "\n",
    "`__hash__()` 메서드를 구현해보자. 이제는 여러개의 요소를 반복적용해야 하므로 `functools.reduce()` 함수를 이용해야 한다.\n",
    "\n",
    "0에서 5까지의 숫자에 XOR을 누적 계산하는 세 가지 방법을 소개한다."
   ]
  },
  {
   "cell_type": "code",
   "execution_count": 79,
   "metadata": {},
   "outputs": [
    {
     "data": {
      "text/plain": [
       "1"
      ]
     },
     "execution_count": 79,
     "metadata": {},
     "output_type": "execute_result"
    }
   ],
   "source": [
    "n = 0\n",
    "for i in range(6):\n",
    "    n ^= i\n",
    "n"
   ]
  },
  {
   "cell_type": "code",
   "execution_count": 80,
   "metadata": {},
   "outputs": [
    {
     "data": {
      "text/plain": [
       "1"
      ]
     },
     "execution_count": 80,
     "metadata": {},
     "output_type": "execute_result"
    }
   ],
   "source": [
    "import functools\n",
    "functools.reduce(lambda a,b:a^b, range(6))"
   ]
  },
  {
   "cell_type": "code",
   "execution_count": 81,
   "metadata": {},
   "outputs": [
    {
     "data": {
      "text/plain": [
       "1"
      ]
     },
     "execution_count": 81,
     "metadata": {},
     "output_type": "execute_result"
    }
   ],
   "source": [
    "import operator\n",
    "functools.reduce(operator.xor, range(6))"
   ]
  },
  {
   "cell_type": "markdown",
   "metadata": {},
   "source": [
    "`functools`와 `operator` 모듈을 임포트해서 `Vector.__hash__()`를 구현하자."
   ]
  },
  {
   "cell_type": "code",
   "execution_count": 83,
   "metadata": {},
   "outputs": [],
   "source": [
    "# vector_v4.py\n",
    "\n",
    "from array import array\n",
    "import reprlib\n",
    "import math\n",
    "import numbers\n",
    "import functools\n",
    "import operator\n",
    "\n",
    "class Vector:\n",
    "    typecode = 'd'\n",
    "    shortcut_names = 'xyzt'\n",
    "    \n",
    "    def __init__(self, components):\n",
    "        # 벡터 요소를 배열로 저장\n",
    "        self._components = array(self.typecode, components)\n",
    "    \n",
    "    \"\"\"시퀀스 프로토콜 구현\"\"\"\n",
    "    def __len__(self):\n",
    "        return len(self._components)\n",
    "    \n",
    "    def __getitem__(self, index):\n",
    "        cls = type(self) # 객체의 클래스를 가져옴\n",
    "        if isinstance(index, slice): # index가 슬라이스이면\n",
    "            return cls(self._components[index]) # Vector 객체를 생성\n",
    "        elif isinstance(index, numbers.Integral): # index가 정수형이면\n",
    "            return self._components[index] # 해당 항목 반환\n",
    "        else:\n",
    "            msg = '{cls.__name__} indices must be integers'\n",
    "            raise TypeError(msg.format(cls=cls)) \n",
    "    \"\"\"시퀀스 프로토콜 구현 종료\"\"\"\n",
    "    \n",
    "    def __getattr__(self, name):\n",
    "        cls = type(self)\n",
    "        if len(name) == 1: # name이 한글자이면 \n",
    "            pos = cls.shortcut_names.find(name)\n",
    "            if 0 <= pos < len(self._components): # 포지션이 범위 내에 있으면 배열 항목 반환\n",
    "                return self._components[pos]\n",
    "        msg = '{.__name__!r} object has no attribute {!r}' \n",
    "        raise AttributeError(msg.format(cls, name))\n",
    "        \n",
    "    def __setattr__(self, name, value):\n",
    "        cls = type(self)\n",
    "        if len(name) == 1:\n",
    "            if name in cls.shortcut_names:\n",
    "                error = 'readonly attribute {attr_name!r}' # xyzt 중 하나는 구체적으로 오류 발생\n",
    "            elif name.islower():\n",
    "                error = \"can't set attributes 'a' to 'z' in {cls_name!r}\" # 그외 소문자면 일반적 메세지 오류 발생\n",
    "            else:\n",
    "                error = ''\n",
    "            if error:\n",
    "                msg = error.format(cls_name=cls.__name__, attr_name=name)\n",
    "                raise AttributeError(msg)\n",
    "        # 에러가 발생하지 않을 때는 정상적으로 __setattr__() 메서드 호출\n",
    "        super().__setattr__(name, value) \n",
    "        \n",
    "                \n",
    "    \n",
    "    def __iter__(self):\n",
    "        return iter(self._components) # 반복할 수 있도록 구현\n",
    "    \n",
    "    def __repr__(self):\n",
    "        components = reprlib.repr(self._components) # 제한된 길이로 출력\n",
    "        components = components[components.find('['):-1] # 문자열 중 앞에 나오는 \"array('d',\" 를 제거\n",
    "        return 'Vector({})'.format(components)\n",
    "    \n",
    "    def __str__(self):\n",
    "        return str(tuple(self))\n",
    "    \n",
    "    def __bytes__(self):\n",
    "        return (bytes([ord(self.typecode)]) + \n",
    "               bytes(self._components))\n",
    "    \n",
    "    def __eq__(self, other):\n",
    "        return tuple(self) == tuple(other)\n",
    "    \n",
    "    def __hash__(self):\n",
    "        hashes = (hash(x) for x in self._components) # 제너레이터 표현식 이용\n",
    "        return functools.reduce(operator.xor, hasehs, 0) # 초기값을 0으로 함\n",
    "    \n",
    "    def __abs__(self):\n",
    "        return math.sqrt(sum(x * x for x in self))\n",
    "    \n",
    "    def __bool__(self):\n",
    "        return bool(abs(self))\n",
    "    \n",
    "    @classmethod\n",
    "    def frombytes(cls, octets):\n",
    "        typecode = chr(octets[0])\n",
    "        memv = memoryview(octets[1:]).cast(typecode)\n",
    "        return cls(memv) # 언패킹할 필요가 없음"
   ]
  },
  {
   "cell_type": "markdown",
   "metadata": {},
   "source": [
    "`map` 함수를 쓰면 다음처럼 구현할 수도 있다.\n",
    "\n",
    "```python\n",
    "def __hash__(self):\n",
    "    hashes = map(hash, self._components)\n",
    "    return functools.reduce(operator.xor, hashes)\n",
    "```"
   ]
  },
  {
   "cell_type": "markdown",
   "metadata": {},
   "source": [
    "또한 현재 `__eq__()` 구현은 단지 비교를 위해 튜플 두개를 만들어야 하므로 비효율적이다. 따라서 다음과 같이 구현하는 것이 낫다."
   ]
  },
  {
   "cell_type": "code",
   "execution_count": 85,
   "metadata": {},
   "outputs": [],
   "source": [
    "# vector_v4.py\n",
    "\n",
    "from array import array\n",
    "import reprlib\n",
    "import math\n",
    "import numbers\n",
    "import functools\n",
    "import operator\n",
    "\n",
    "class Vector:\n",
    "    typecode = 'd'\n",
    "    shortcut_names = 'xyzt'\n",
    "    \n",
    "    def __init__(self, components):\n",
    "        # 벡터 요소를 배열로 저장\n",
    "        self._components = array(self.typecode, components)\n",
    "    \n",
    "    \"\"\"시퀀스 프로토콜 구현\"\"\"\n",
    "    def __len__(self):\n",
    "        return len(self._components)\n",
    "    \n",
    "    def __getitem__(self, index):\n",
    "        cls = type(self) # 객체의 클래스를 가져옴\n",
    "        if isinstance(index, slice): # index가 슬라이스이면\n",
    "            return cls(self._components[index]) # Vector 객체를 생성\n",
    "        elif isinstance(index, numbers.Integral): # index가 정수형이면\n",
    "            return self._components[index] # 해당 항목 반환\n",
    "        else:\n",
    "            msg = '{cls.__name__} indices must be integers'\n",
    "            raise TypeError(msg.format(cls=cls)) \n",
    "    \"\"\"시퀀스 프로토콜 구현 종료\"\"\"\n",
    "    \n",
    "    def __getattr__(self, name):\n",
    "        cls = type(self)\n",
    "        if len(name) == 1: # name이 한글자이면 \n",
    "            pos = cls.shortcut_names.find(name)\n",
    "            if 0 <= pos < len(self._components): # 포지션이 범위 내에 있으면 배열 항목 반환\n",
    "                return self._components[pos]\n",
    "        msg = '{.__name__!r} object has no attribute {!r}' \n",
    "        raise AttributeError(msg.format(cls, name))\n",
    "        \n",
    "    def __setattr__(self, name, value):\n",
    "        cls = type(self)\n",
    "        if len(name) == 1:\n",
    "            if name in cls.shortcut_names:\n",
    "                error = 'readonly attribute {attr_name!r}' # xyzt 중 하나는 구체적으로 오류 발생\n",
    "            elif name.islower():\n",
    "                error = \"can't set attributes 'a' to 'z' in {cls_name!r}\" # 그외 소문자면 일반적 메세지 오류 발생\n",
    "            else:\n",
    "                error = ''\n",
    "            if error:\n",
    "                msg = error.format(cls_name=cls.__name__, attr_name=name)\n",
    "                raise AttributeError(msg)\n",
    "        # 에러가 발생하지 않을 때는 정상적으로 __setattr__() 메서드 호출\n",
    "        super().__setattr__(name, value) \n",
    "        \n",
    "                \n",
    "    \n",
    "    def __iter__(self):\n",
    "        return iter(self._components) # 반복할 수 있도록 구현\n",
    "    \n",
    "    def __repr__(self):\n",
    "        components = reprlib.repr(self._components) # 제한된 길이로 출력\n",
    "        components = components[components.find('['):-1] # 문자열 중 앞에 나오는 \"array('d',\" 를 제거\n",
    "        return 'Vector({})'.format(components)\n",
    "    \n",
    "    def __str__(self):\n",
    "        return str(tuple(self))\n",
    "    \n",
    "    def __bytes__(self):\n",
    "        return (bytes([ord(self.typecode)]) + \n",
    "               bytes(self._components))\n",
    "    \n",
    "    def __eq__(self, other):\n",
    "        if len(self) != len(other): # 길이가 다르면 False\n",
    "            return False\n",
    "        for a, b in zip(self, other): # 제너레이터로부터 하나씩 비교\n",
    "            if a != b:\n",
    "                return False\n",
    "        return True\n",
    "    \n",
    "    def __hash__(self):\n",
    "        hashes = (hash(x) for x in self._components) # 제너레이터 표현식 이용\n",
    "        return functools.reduce(operator.xor, hasehs, 0) # 초기값을 0으로 함\n",
    "    \n",
    "    def __abs__(self):\n",
    "        return math.sqrt(sum(x * x for x in self))\n",
    "    \n",
    "    def __bool__(self):\n",
    "        return bool(abs(self))\n",
    "    \n",
    "    @classmethod\n",
    "    def frombytes(cls, octets):\n",
    "        typecode = chr(octets[0])\n",
    "        memv = memoryview(octets[1:]).cast(typecode)\n",
    "        return cls(memv) # 언패킹할 필요가 없음"
   ]
  },
  {
   "cell_type": "markdown",
   "metadata": {},
   "source": [
    "이 부분을 `all()` 함수를 이용하여 다음과 같이 구현할 수도 있다.\n",
    "\n",
    "```python\n",
    "def __eq__(self, other):\n",
    "    return len(self) == len(other) and all(a==b fora,b in zip(self, other)\n",
    "```"
   ]
  },
  {
   "cell_type": "markdown",
   "metadata": {},
   "source": [
    "`zip()`은 가장 짧은 피연산자에서 멈추므로 먼저 길이를 검사하는 것이 좋다."
   ]
  },
  {
   "cell_type": "markdown",
   "metadata": {},
   "source": [
    "# 10.7 Vector 버전 #5: 포매팅\n",
    "\n",
    "`Vector`의 `__format__()` 메서드는 극좌표 대신 구면좌표를 이용한다. 이를 위해서는 `angle(n)` 메서드를 통해 특정 좌표의 각좌표를 계산하고, `angles()`를 이용하여 모든 각좌표의 반복형을 반환한다.\n",
    "\n",
    "<img src='https://wikimedia.org/api/rest_v1/media/math/render/svg/9259a6efe54e3274fa6dbb10433d54eb84387c85' style=\"background-color:white;padding:20px;\">\n",
    "\n",
    "<img src='https://wikimedia.org/api/rest_v1/media/math/render/svg/8b2848ec784176c56b02f21bcefe05829570e507' style=\"background-color:white;padding:20px;\">\n",
    "\n",
    "<img src='https://wikimedia.org/api/rest_v1/media/math/render/svg/c46d0b1117225d3c47b6b855edef72f48e405c60' style=\"background-color:white;padding:20px;\">\n",
    "\n",
    "...\n",
    "\n",
    "<img src='https://wikimedia.org/api/rest_v1/media/math/render/svg/6183f6d990adc7c99146a16971cea907e06619a8' style=\"background-color:white;padding:20px;\">\n",
    "\n",
    "이를 다음과 같이 구현하자.\n",
    "\n",
    "```python\n",
    "def angle(self, n):\n",
    "    r = math.sqrt(sum(x * x for x in self[n:]))\n",
    "    a = math.atan2(r, self[n-1])\n",
    "    if (n == len(self) - 1) and (self[-1]<0):\n",
    "        return math.pi * 2 - a\n",
    "    else:\n",
    "        return a\n",
    "\n",
    "def angles(self):\n",
    "    return (self.angle(n) for n in range(1, len(self)))\n",
    "\n",
    "def __format__(self, fmt_spec=''):\n",
    "    if fmt_spec.endswith('h'): # 초구면좌표\n",
    "        fmt_spec = fmt_spec[:-1]\n",
    "        coords = itertools.chain([abs(self)],\n",
    "                                self.angles())\n",
    "        outer_fmt = '<{}>'\n",
    "    else:\n",
    "        coords = self\n",
    "        outer_fmt = '({})'\n",
    "    components = (format(c, fmt_spec) for c in coords)\n",
    "    return outer_fmt.format(', '.join(components))\n",
    "\n",
    "```\n",
    "\n",
    "여기서 `itertools.chain()` 함수는 여러개의 시퀀스를 입력으로 받았을 때 이를 하나의 연결된 시퀀스처럼 처리한다."
   ]
  },
  {
   "cell_type": "code",
   "execution_count": 90,
   "metadata": {},
   "outputs": [
    {
     "name": "stdout",
     "output_type": "stream",
     "text": [
      "1\n",
      "2\n",
      "3\n",
      "4\n",
      "5\n",
      "6\n"
     ]
    }
   ],
   "source": [
    "a = [1,2,3]\n",
    "b =[4,5,6]\n",
    "for i in itertools.chain(a,b):\n",
    "    print(i)"
   ]
  },
  {
   "cell_type": "code",
   "execution_count": 93,
   "metadata": {},
   "outputs": [],
   "source": [
    "# vector_v5.py\n",
    "\n",
    "from array import array\n",
    "import reprlib\n",
    "import math\n",
    "import numbers\n",
    "import functools\n",
    "import operator\n",
    "import itertools # chain() 함수를 사용하기 위함\n",
    "\n",
    "class Vector:\n",
    "    typecode = 'd'\n",
    "    shortcut_names = 'xyzt'\n",
    "    \n",
    "    def __init__(self, components):\n",
    "        # 벡터 요소를 배열로 저장\n",
    "        self._components = array(self.typecode, components)\n",
    "    \n",
    "    \"\"\"시퀀스 프로토콜 구현\"\"\"\n",
    "    def __len__(self):\n",
    "        return len(self._components)\n",
    "    \n",
    "    def __getitem__(self, index):\n",
    "        cls = type(self) # 객체의 클래스를 가져옴\n",
    "        if isinstance(index, slice): # index가 슬라이스이면\n",
    "            return cls(self._components[index]) # Vector 객체를 생성\n",
    "        elif isinstance(index, numbers.Integral): # index가 정수형이면\n",
    "            return self._components[index] # 해당 항목 반환\n",
    "        else:\n",
    "            msg = '{cls.__name__} indices must be integers'\n",
    "            raise TypeError(msg.format(cls=cls)) \n",
    "    \"\"\"시퀀스 프로토콜 구현 종료\"\"\"\n",
    "    \n",
    "    def __getattr__(self, name):\n",
    "        cls = type(self)\n",
    "        if len(name) == 1: # name이 한글자이면 \n",
    "            pos = cls.shortcut_names.find(name)\n",
    "            if 0 <= pos < len(self._components): # 포지션이 범위 내에 있으면 배열 항목 반환\n",
    "                return self._components[pos]\n",
    "        msg = '{.__name__!r} object has no attribute {!r}' \n",
    "        raise AttributeError(msg.format(cls, name))\n",
    "        \n",
    "    def __setattr__(self, name, value):\n",
    "        cls = type(self)\n",
    "        if len(name) == 1:\n",
    "            if name in cls.shortcut_names:\n",
    "                error = 'readonly attribute {attr_name!r}' # xyzt 중 하나는 구체적으로 오류 발생\n",
    "            elif name.islower():\n",
    "                error = \"can't set attributes 'a' to 'z' in {cls_name!r}\" # 그외 소문자면 일반적 메세지 오류 발생\n",
    "            else:\n",
    "                error = ''\n",
    "            if error:\n",
    "                msg = error.format(cls_name=cls.__name__, attr_name=name)\n",
    "                raise AttributeError(msg)\n",
    "        # 에러가 발생하지 않을 때는 정상적으로 __setattr__() 메서드 호출\n",
    "        super().__setattr__(name, value) \n",
    "        \n",
    "    def angle(self, n):\n",
    "        r = math.sqrt(sum(x * x for x in self[n:]))\n",
    "        a = math.atan2(r, self[n-1])\n",
    "        if (n == len(self) - 1) and (self[-1]<0):\n",
    "            return math.pi * 2 - a\n",
    "        else:\n",
    "            return a\n",
    "        \n",
    "    def angles(self):\n",
    "        return (self.angle(n) for n in range(1, len(self)))\n",
    "    \n",
    "    def __format__(self, fmt_spec=''):\n",
    "        if fmt_spec.endswith('h'): # 초구면좌표\n",
    "            fmt_spec = fmt_spec[:-1]\n",
    "            coords = itertools.chain([abs(self)],\n",
    "                                    self.angles()) \n",
    "            outer_fmt = '<{}>'\n",
    "        else:\n",
    "            coords = self\n",
    "            outer_fmt = '({})'\n",
    "        components = (format(c, fmt_spec) for c in coords)\n",
    "        return outer_fmt.format(', '.join(components))\n",
    "    \n",
    "    def __iter__(self):\n",
    "        return iter(self._components) # 반복할 수 있도록 구현\n",
    "    \n",
    "    def __repr__(self):\n",
    "        components = reprlib.repr(self._components) # 제한된 길이로 출력\n",
    "        components = components[components.find('['):-1] # 문자열 중 앞에 나오는 \"array('d',\" 를 제거\n",
    "        return 'Vector({})'.format(components)\n",
    "    \n",
    "    def __str__(self):\n",
    "        return str(tuple(self))\n",
    "    \n",
    "    def __bytes__(self):\n",
    "        return (bytes([ord(self.typecode)]) + \n",
    "               bytes(self._components))\n",
    "    \n",
    "    def __eq__(self, other):\n",
    "        if len(self) != len(other): # 길이가 다르면 False\n",
    "            return False\n",
    "        for a, b in zip(self, other): # 제너레이터로부터 하나씩 비교\n",
    "            if a != b:\n",
    "                return False\n",
    "        return True\n",
    "    \n",
    "    def __hash__(self):\n",
    "        hashes = (hash(x) for x in self._components) # 제너레이터 표현식 이용\n",
    "        return functools.reduce(operator.xor, hasehs, 0) # 초기값을 0으로 함\n",
    "    \n",
    "    def __abs__(self):\n",
    "        return math.sqrt(sum(x * x for x in self))\n",
    "    \n",
    "    def __bool__(self):\n",
    "        return bool(abs(self))\n",
    "    \n",
    "    @classmethod\n",
    "    def frombytes(cls, octets):\n",
    "        typecode = chr(octets[0])\n",
    "        memv = memoryview(octets[1:]).cast(typecode)\n",
    "        return cls(memv) # 언패킹할 필요가 없음"
   ]
  },
  {
   "cell_type": "code",
   "execution_count": 104,
   "metadata": {},
   "outputs": [
    {
     "data": {
      "text/plain": [
       "Vector([1.0, 2.0, 3.0])"
      ]
     },
     "execution_count": 104,
     "metadata": {},
     "output_type": "execute_result"
    }
   ],
   "source": [
    "v1 = Vector([1,2,3])\n",
    "v1"
   ]
  },
  {
   "cell_type": "code",
   "execution_count": 105,
   "metadata": {},
   "outputs": [
    {
     "data": {
      "text/plain": [
       "'<3.742, 1.300, 0.983>'"
      ]
     },
     "execution_count": 105,
     "metadata": {},
     "output_type": "execute_result"
    }
   ],
   "source": [
    "format(v1, '0.3fh')"
   ]
  }
 ],
 "metadata": {
  "kernelspec": {
   "display_name": "Python 3",
   "language": "python",
   "name": "python3"
  },
  "language_info": {
   "codemirror_mode": {
    "name": "ipython",
    "version": 3
   },
   "file_extension": ".py",
   "mimetype": "text/x-python",
   "name": "python",
   "nbconvert_exporter": "python",
   "pygments_lexer": "ipython3",
   "version": "3.7.3"
  }
 },
 "nbformat": 4,
 "nbformat_minor": 4
}
