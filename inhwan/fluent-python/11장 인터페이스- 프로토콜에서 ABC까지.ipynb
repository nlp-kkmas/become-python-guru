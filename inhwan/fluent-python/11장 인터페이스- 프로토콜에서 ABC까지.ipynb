{
 "cells": [
  {
   "cell_type": "markdown",
   "metadata": {},
   "source": [
    "# 11.1 파이썬 문화에서의 인터페이스와 프로토콜\n",
    "\n",
    "* 인터페이스 : 시스템에서 어떤 역할을 할 수 있게 해주는 객체의 공개 메서드의 일부\n",
    "* 프로토콜 : 어떤 역할을 완수하기 위한 메서드 집합으로서의 인터페이스"
   ]
  },
  {
   "cell_type": "markdown",
   "metadata": {},
   "source": [
    "# 11.2 파이썬은 시퀀스를 찾아낸다\n",
    "\n",
    "다음 `Foo` 클래스는 `abc.Sequence`를 상속하지 않으며, 시퀀스 프로토콜 메서드 중 `__getitem__()` 메서드만 구현한다."
   ]
  },
  {
   "cell_type": "code",
   "execution_count": 1,
   "metadata": {},
   "outputs": [],
   "source": [
    "class Foo:\n",
    "    def __getitem__(self, pos):\n",
    "        return range(0,30,10)[pos]"
   ]
  },
  {
   "cell_type": "code",
   "execution_count": 2,
   "metadata": {},
   "outputs": [
    {
     "data": {
      "text/plain": [
       "10"
      ]
     },
     "execution_count": 2,
     "metadata": {},
     "output_type": "execute_result"
    }
   ],
   "source": [
    "f = Foo()\n",
    "f[1]"
   ]
  },
  {
   "cell_type": "code",
   "execution_count": 3,
   "metadata": {},
   "outputs": [
    {
     "name": "stdout",
     "output_type": "stream",
     "text": [
      "0\n",
      "10\n",
      "20\n"
     ]
    }
   ],
   "source": [
    "for i in f: print(i)"
   ]
  },
  {
   "cell_type": "code",
   "execution_count": 4,
   "metadata": {},
   "outputs": [
    {
     "data": {
      "text/plain": [
       "True"
      ]
     },
     "execution_count": 4,
     "metadata": {},
     "output_type": "execute_result"
    }
   ],
   "source": [
    "20 in f"
   ]
  },
  {
   "cell_type": "markdown",
   "metadata": {},
   "source": [
    "`__iter__()` 메서드가 없지만 대체 수단인 `__getitem__()` 메서드가 구현되어 있으므로 반복, `in` 연산자 등이 작동한다.\n",
    "\n",
    "1장에서 구현한 `FrenchDeck` 클래스도 `abc.Sequence`를 상속하지 않지만, 시퀀스 프로토콜의 `__getitem__()`과 `__len__()` 메서드를 구현한다."
   ]
  },
  {
   "cell_type": "code",
   "execution_count": 5,
   "metadata": {},
   "outputs": [
    {
     "name": "stdout",
     "output_type": "stream",
     "text": [
      "import collections\n",
      "\n",
      "Card = collections.namedtuple('Card', ['rank','suit'])\n",
      "\n",
      "class FrenchDeck:\n",
      "    ranks = [str(n) for n in range(2,11)] + list('JQKA')\n",
      "    suits = 'spades diamonds clubs hearts'.split()\n",
      "    \n",
      "    def __init__(self):\n",
      "        self._cards = [Card(rank, suit) for suit in self.suits\n",
      "                      for rank in self.ranks]\n",
      "\n",
      "    def __len__(self):\n",
      "        return len(self._cards)\n",
      "\n",
      "    def __getitem__(self, pos):\n",
      "        return self._cards[pos]\n"
     ]
    }
   ],
   "source": [
    "!cat frenchdeck.py"
   ]
  },
  {
   "cell_type": "markdown",
   "metadata": {},
   "source": [
    "# 11.3 런타임에 프로토콜을 구현하는 멍키 패칭\n",
    "\n",
    "`FrenchDeck` 클래스에 `shuffle()` 메서드를 구현할 필요가 없는 것은 `random.shuffle()` 함수가 시퀀스 객체 안의 항목들을 섞어주기 때문이다. 그러나 다음과 같이 입력하면 예외가 발생하는데, 이는 `FrenchDeck` 객체가 할당을 지원하지 않기 때문이다."
   ]
  },
  {
   "cell_type": "code",
   "execution_count": 9,
   "metadata": {},
   "outputs": [
    {
     "ename": "TypeError",
     "evalue": "'FrenchDeck' object does not support item assignment",
     "output_type": "error",
     "traceback": [
      "\u001b[0;31m---------------------------------------------------------------------------\u001b[0m",
      "\u001b[0;31mTypeError\u001b[0m                                 Traceback (most recent call last)",
      "\u001b[0;32m<ipython-input-9-2f4f537cd353>\u001b[0m in \u001b[0;36m<module>\u001b[0;34m\u001b[0m\n\u001b[1;32m      2\u001b[0m \u001b[0;32mfrom\u001b[0m \u001b[0mfrenchdeck\u001b[0m \u001b[0;32mimport\u001b[0m \u001b[0mFrenchDeck\u001b[0m\u001b[0;34m\u001b[0m\u001b[0;34m\u001b[0m\u001b[0m\n\u001b[1;32m      3\u001b[0m \u001b[0mdeck\u001b[0m \u001b[0;34m=\u001b[0m \u001b[0mFrenchDeck\u001b[0m\u001b[0;34m(\u001b[0m\u001b[0;34m)\u001b[0m\u001b[0;34m\u001b[0m\u001b[0;34m\u001b[0m\u001b[0m\n\u001b[0;32m----> 4\u001b[0;31m \u001b[0mshuffle\u001b[0m\u001b[0;34m(\u001b[0m\u001b[0mdeck\u001b[0m\u001b[0;34m)\u001b[0m\u001b[0;34m\u001b[0m\u001b[0;34m\u001b[0m\u001b[0m\n\u001b[0m",
      "\u001b[0;32m~/Python/Pytorch_ev/lib/python3.7/random.py\u001b[0m in \u001b[0;36mshuffle\u001b[0;34m(self, x, random)\u001b[0m\n\u001b[1;32m    276\u001b[0m                 \u001b[0;31m# pick an element in x[:i+1] with which to exchange x[i]\u001b[0m\u001b[0;34m\u001b[0m\u001b[0;34m\u001b[0m\u001b[0;34m\u001b[0m\u001b[0m\n\u001b[1;32m    277\u001b[0m                 \u001b[0mj\u001b[0m \u001b[0;34m=\u001b[0m \u001b[0mrandbelow\u001b[0m\u001b[0;34m(\u001b[0m\u001b[0mi\u001b[0m\u001b[0;34m+\u001b[0m\u001b[0;36m1\u001b[0m\u001b[0;34m)\u001b[0m\u001b[0;34m\u001b[0m\u001b[0;34m\u001b[0m\u001b[0m\n\u001b[0;32m--> 278\u001b[0;31m                 \u001b[0mx\u001b[0m\u001b[0;34m[\u001b[0m\u001b[0mi\u001b[0m\u001b[0;34m]\u001b[0m\u001b[0;34m,\u001b[0m \u001b[0mx\u001b[0m\u001b[0;34m[\u001b[0m\u001b[0mj\u001b[0m\u001b[0;34m]\u001b[0m \u001b[0;34m=\u001b[0m \u001b[0mx\u001b[0m\u001b[0;34m[\u001b[0m\u001b[0mj\u001b[0m\u001b[0;34m]\u001b[0m\u001b[0;34m,\u001b[0m \u001b[0mx\u001b[0m\u001b[0;34m[\u001b[0m\u001b[0mi\u001b[0m\u001b[0;34m]\u001b[0m\u001b[0;34m\u001b[0m\u001b[0;34m\u001b[0m\u001b[0m\n\u001b[0m\u001b[1;32m    279\u001b[0m         \u001b[0;32melse\u001b[0m\u001b[0;34m:\u001b[0m\u001b[0;34m\u001b[0m\u001b[0;34m\u001b[0m\u001b[0m\n\u001b[1;32m    280\u001b[0m             \u001b[0m_int\u001b[0m \u001b[0;34m=\u001b[0m \u001b[0mint\u001b[0m\u001b[0;34m\u001b[0m\u001b[0;34m\u001b[0m\u001b[0m\n",
      "\u001b[0;31mTypeError\u001b[0m: 'FrenchDeck' object does not support item assignment"
     ]
    }
   ],
   "source": [
    "from random import shuffle\n",
    "from frenchdeck import FrenchDeck\n",
    "deck = FrenchDeck()\n",
    "shuffle(deck)"
   ]
  },
  {
   "cell_type": "markdown",
   "metadata": {},
   "source": [
    "파이썬은 동적 언어이므로 코드를 대화형 콘솔에서 실행하는 동안에도 이 문제를 수정할 수 있다."
   ]
  },
  {
   "cell_type": "code",
   "execution_count": 11,
   "metadata": {},
   "outputs": [],
   "source": [
    "def set_card(deck, pos, card):\n",
    "    deck._cards[pos] = card\n",
    "    \n",
    "FrenchDeck.__setitem__ = set_card"
   ]
  },
  {
   "cell_type": "code",
   "execution_count": 12,
   "metadata": {},
   "outputs": [],
   "source": [
    "shuffle(deck)"
   ]
  },
  {
   "cell_type": "code",
   "execution_count": 13,
   "metadata": {},
   "outputs": [
    {
     "data": {
      "text/plain": [
       "[Card(rank='4', suit='diamonds'),\n",
       " Card(rank='A', suit='clubs'),\n",
       " Card(rank='2', suit='hearts'),\n",
       " Card(rank='A', suit='diamonds'),\n",
       " Card(rank='7', suit='clubs')]"
      ]
     },
     "execution_count": 13,
     "metadata": {},
     "output_type": "execute_result"
    }
   ],
   "source": [
    "deck[:5]"
   ]
  },
  {
   "cell_type": "markdown",
   "metadata": {},
   "source": [
    "이런 방법을 멍키 패칭(소스 코드를 건드리지 않고 런타임에 클래스나 모듈을 변경하는 행위)라고 한다."
   ]
  },
  {
   "cell_type": "markdown",
   "metadata": {},
   "source": [
    "# 11.4 알렉스 마르텔리의 물새\n",
    "\n",
    "ABC...?\n",
    "\n",
    "특정한 클래스의 속성을 갖춘 클래스를 만들고 싶을 땐 ABC를 상속하거나 등록하라. 그리고 어떤 속성을 가지고 있는지 보여주고 싶을 떈 `isinstance(self, cls)` (단 cls는 ABC) 를 써라"
   ]
  },
  {
   "cell_type": "markdown",
   "metadata": {},
   "source": [
    "# 11.5 ABC 상속하기\n",
    "\n",
    "`FrenchDeck2`를 `colletions.MutableSequence`의 서브클래스로 선언한다."
   ]
  },
  {
   "cell_type": "code",
   "execution_count": 35,
   "metadata": {},
   "outputs": [],
   "source": [
    "import collections\n",
    "\n",
    "Card = collections.namedtuple('Card', ['rank','suit'])\n",
    "\n",
    "class FrenchDeck2(collections.abc.MutableSequence):\n",
    "    ranks = [str(n) for n in range(2,11)] + list('JQKA')\n",
    "    suits = 'spades diamonds clubs hearts'.split()\n",
    "    \n",
    "    def __init__(self):\n",
    "        self._cards = [Card(rank, suit) for suit in self.suits\n",
    "                      for rank in self.ranks]\n",
    "\n",
    "    def __len__(self):\n",
    "        return len(self._cards)\n",
    "\n",
    "    def __getitem__(self, position):\n",
    "        return self._cards[position]\n",
    "    \n",
    "    def __setitem__(self, position, value):\n",
    "        self._cards[position] = value\n",
    "        \n",
    "    # MutableSequence를 상속하므로 이 클래스의 추상 메서드인 \n",
    "    # __delitem__() 도 구현해야함\n",
    "    def __delitem__(self, position):\n",
    "        del self._cards[position]\n",
    "        \n",
    "    # insert() 또한 추상 메서드\n",
    "#     def insert(self, position, value):\n",
    "#         self._cards.insert(position, value)"
   ]
  },
  {
   "cell_type": "markdown",
   "metadata": {},
   "source": [
    "파이썬은 모듈을 로딩하거나 컴파일할 때가 아니라 실제로 객체를 생성할 때 추상 메서드의 구현 여부를 확인한다."
   ]
  },
  {
   "cell_type": "code",
   "execution_count": 36,
   "metadata": {},
   "outputs": [
    {
     "ename": "TypeError",
     "evalue": "Can't instantiate abstract class FrenchDeck2 with abstract methods __getitem__, __setitem__, insert",
     "output_type": "error",
     "traceback": [
      "\u001b[0;31m---------------------------------------------------------------------------\u001b[0m",
      "\u001b[0;31mTypeError\u001b[0m                                 Traceback (most recent call last)",
      "\u001b[0;32m<ipython-input-36-8b98d1d69875>\u001b[0m in \u001b[0;36m<module>\u001b[0;34m\u001b[0m\n\u001b[0;32m----> 1\u001b[0;31m \u001b[0mfrenchdeck2\u001b[0m \u001b[0;34m=\u001b[0m \u001b[0mFrenchDeck2\u001b[0m\u001b[0;34m(\u001b[0m\u001b[0;34m)\u001b[0m\u001b[0;34m\u001b[0m\u001b[0;34m\u001b[0m\u001b[0m\n\u001b[0m",
      "\u001b[0;31mTypeError\u001b[0m: Can't instantiate abstract class FrenchDeck2 with abstract methods __getitem__, __setitem__, insert"
     ]
    }
   ],
   "source": [
    "frenchdeck2 = FrenchDeck2()"
   ]
  },
  {
   "cell_type": "markdown",
   "metadata": {},
   "source": [
    "따라서 쓰지 않더라도 `__delitem__()`과 `insert()` 메서드를 구현해야 한다."
   ]
  },
  {
   "cell_type": "markdown",
   "metadata": {},
   "source": [
    "# 11.6 표준 라이브러리의 ABC\n",
    "\n",
    "대부분의 ABC는 `collections.abc` 모듈에 정의되어 있다. 어떤 ABC들이 있는지 살펴보자."
   ]
  },
  {
   "cell_type": "markdown",
   "metadata": {},
   "source": [
    "## 11.6.1 collections.abc의 ABC\n",
    "\n",
    "collections.abc에 들어 있는 ABC에 대한 UML 다이어그램\n",
    "\n",
    "![collections.abc](https://user-images.githubusercontent.com/33891164/39363928-e9ba4520-49e0-11e8-9cc5-273134e16df4.png)"
   ]
  },
  {
   "cell_type": "markdown",
   "metadata": {},
   "source": [
    "## 11.6.2 ABC의 숫자탑\n",
    "\n",
    "`numbers` 패키지는 다음과 같이 계층 구조로 이루어져 있다. `Number`가 최상위 슈퍼클래스이며, `Integral`까지 내려간다.\n",
    "\n",
    "* Number\n",
    "* Complex\n",
    "* Real\n",
    "* Rational\n",
    "* Integral\n",
    "\n",
    "정수형인지 검사해야 하는 경우 `isinstance(x, numbers.Integral)`을 이용하면 된다."
   ]
  },
  {
   "cell_type": "code",
   "execution_count": 43,
   "metadata": {},
   "outputs": [
    {
     "data": {
      "text/plain": [
       "((-3+9j), True)"
      ]
     },
     "execution_count": 43,
     "metadata": {},
     "output_type": "execute_result"
    }
   ],
   "source": [
    "import numbers\n",
    "\n",
    "a = 1+ 2j\n",
    "b = 3+ 3j\n",
    "a*b, isinstance(a, numbers.Complex)"
   ]
  },
  {
   "cell_type": "markdown",
   "metadata": {},
   "source": [
    "# 11.7 ABC의 정의와 사용\n",
    "\n",
    "ABC 클래스를 생성해보자. 여기서는 유한 집합에서 무작위로 항목을 선택하도록 설계된 기계를 만들 것인데, 선택하는 방법을 두 가지로 구현할 것이기 때문에 ABC 클래스 생성 후 상속하는 방식으로 만들어보자.\n",
    "\n",
    "`Tombola` ABC는 두 개의 추상 메서드와 두 개의 구상 메서드를 가진다.\n",
    "\n",
    "* `load()` : 항목을 컨테이너 안에 넣는다.\n",
    "* `pick()` : 컨테이너 안에서 무작위로 항목 하나를 꺼내서 반환한다.\n",
    "\n",
    "* `loaded()` : 컨테이너 안에 항목이 하나 이상 들어 있으면 `True` 반환한다.\n",
    "* `inspect()` : 내용물을 변경하지 ㅇ낳고 현재 컨테이너 안에 들어있는 항목을 튜플로 만들어 반환한다."
   ]
  },
  {
   "cell_type": "code",
   "execution_count": 18,
   "metadata": {},
   "outputs": [],
   "source": [
    "# tombola.py\n",
    "\n",
    "import abc\n",
    "\n",
    "class Tombola(abc.ABC): # ABC 정의하기 위해 상속\n",
    "    \n",
    "    @abc.abstractmethod\n",
    "    def load(self, iterable):\n",
    "        \"\"\"iterable의 항목들을 추가한다.\"\"\"\n",
    "        \n",
    "    @abc.abstractmethod\n",
    "    def pick(self):\n",
    "        \"\"\"무작위로 항목을 하나 제거하고 반환한다.\n",
    "        객체가 비어 있을 때 이 메서드를 실행하면 'LookupError'가 발생한다.\n",
    "        \"\"\"\n",
    "        \n",
    "    def loaded(self): # ABC 에도 구상 메서드가 들어갈 수 있다\n",
    "        \"\"\"최소 한 개의 항목이 있으면 True, 아님 False 반환\"\"\"\n",
    "        # ABC의 구상 메서드는 반드시 ABC에 정의된 인터페이스, 즉\n",
    "        # ABC의 다른 구상 메서드나 추상 메서드, 혹은 프로퍼티만 사용해야 한다.\n",
    "        return bool(self.inspect())\n",
    "    \n",
    "    def inspect(self):\n",
    "        \"\"\"현재 안에 있는 항목들로 구성된 정렬된 튜플 반환\"\"\"\n",
    "        items = []\n",
    "        while True:\n",
    "            try:\n",
    "                # pick() 을 계속 호출해서 Tombola 객체를 비움\n",
    "                items.append(self.pick())\n",
    "            except LookupError:\n",
    "                break\n",
    "        self.load(items) # load 메서드를 호출해서 다시 넣는다\n",
    "        return tuple(sorted(items))"
   ]
  },
  {
   "cell_type": "markdown",
   "metadata": {},
   "source": [
    "`inspect()` 메서드는 멍청해보이지만, 이 코드의 핵심은 ABC 안에서 인터페이스에 정의된 다른 메서드만 이용하는 한 ABC에 구상 메서드를 제공하는 것도 가능하다는 점을 보여주는 것이다. 물론 상속하면서 오버라이드 해도 된다.\n",
    "\n",
    "`loaded()` 연산자는 상당히 값비싼 연산을 수행하므로 구상 서브클래스에서 더 잘 구현하는 것이 좋다.\n",
    "\n",
    "`LookupError`를 선택한 이유는 `Tombola`의 서브클래스의 데이터 구조체에서 발생할 가능성이 높은 `IndexError`와 `KeyError` 에러의 상위 클래스이기 때문이다.\n",
    "\n",
    "* `IndexError` : 시퀀스에서 마지막 이후 인덱스를 호출 시 발생\n",
    "* `KeyError` : 매핑에 존재하지 않는 키로 호출 시 발생\n",
    "\n",
    "실제로 ABC가 인터페이스 검사를 제대로 수행하는지 확인해보자."
   ]
  },
  {
   "cell_type": "code",
   "execution_count": 19,
   "metadata": {},
   "outputs": [],
   "source": [
    "from tombola import Tombola\n",
    "class Fake(Tombola):\n",
    "    def pick(self):\n",
    "        return 13"
   ]
  },
  {
   "cell_type": "code",
   "execution_count": 20,
   "metadata": {},
   "outputs": [
    {
     "data": {
      "text/plain": [
       "__main__.Fake"
      ]
     },
     "execution_count": 20,
     "metadata": {},
     "output_type": "execute_result"
    }
   ],
   "source": [
    "Fake"
   ]
  },
  {
   "cell_type": "code",
   "execution_count": 22,
   "metadata": {},
   "outputs": [
    {
     "ename": "TypeError",
     "evalue": "Can't instantiate abstract class Fake with abstract methods load",
     "output_type": "error",
     "traceback": [
      "\u001b[0;31m---------------------------------------------------------------------------\u001b[0m",
      "\u001b[0;31mTypeError\u001b[0m                                 Traceback (most recent call last)",
      "\u001b[0;32m<ipython-input-22-88a1de620b4d>\u001b[0m in \u001b[0;36m<module>\u001b[0;34m\u001b[0m\n\u001b[0;32m----> 1\u001b[0;31m \u001b[0mf\u001b[0m \u001b[0;34m=\u001b[0m \u001b[0mFake\u001b[0m\u001b[0;34m(\u001b[0m\u001b[0;34m)\u001b[0m\u001b[0;34m\u001b[0m\u001b[0;34m\u001b[0m\u001b[0m\n\u001b[0m\u001b[1;32m      2\u001b[0m \u001b[0;31m# load()를 구현하지 않았으므로 객체 생성 시 TypeError 발생 ()\u001b[0m\u001b[0;34m\u001b[0m\u001b[0;34m\u001b[0m\u001b[0;34m\u001b[0m\u001b[0m\n",
      "\u001b[0;31mTypeError\u001b[0m: Can't instantiate abstract class Fake with abstract methods load"
     ]
    }
   ],
   "source": [
    "f = Fake()\n",
    "# load()를 구현하지 않았으므로 객체 생성 시 TypeError 발생 ()"
   ]
  },
  {
   "cell_type": "markdown",
   "metadata": {},
   "source": [
    "## 11.7.1 ABC 상세 구문\n",
    "\n",
    "ABC 선언 시 `abc.ABC` 나 다른 ABC를 상속하는 방법이 가장 좋다. 그러나 이는 파이썬 3.4에 추가되었으므로, 파이썬3의 이전 버전을 사용하고 있으면 다음과 같이 사용해야 한다.\n",
    "\n",
    "```python\n",
    "class Tombola(metaclass=abc.ABCMeta):\n",
    "    # ...\n",
    "```\n",
    "\n",
    "파이썬2 에서는 `__metaclass__` 클래스 속성을 사용해야 한다.\n",
    "\n",
    "```python\n",
    "class Tombola(object): # 파이썬2 코드\n",
    "    __metaclass__ = abc.ABCMeta\n",
    "    # ...\n",
    "```\n",
    "\n",
    "`@abstractmethod` 외에도 `abc` 모듈은 `@abstractclassmethod`, `@abstractstaticmethod`, `@abstractproperty` 데커레이터를 정의한다. 그러나 얘네는 파이썬 3.3 이후 사용 중단 안내되었으므로, 다음과 같이 데커레이터를 쌓아 올려서 사용하자.\n",
    "\n",
    "```python\n",
    "class MyABC(abc.ABC):\n",
    "    @classmethod\n",
    "    @abc.abstractmethod\n",
    "    def an_abstract_classmethod(cls, ...):\n",
    "        pass\n",
    "```\n",
    "\n",
    "근데... 잘되는데? ㅋㅋㅋㅋㅋㅋ 뭐지"
   ]
  },
  {
   "cell_type": "code",
   "execution_count": 23,
   "metadata": {},
   "outputs": [],
   "source": [
    "# tombola.py\n",
    "\n",
    "import abc\n",
    "\n",
    "class Tombola(abc.ABC): # ABC 정의하기 위해 상속\n",
    "    \n",
    "    @abc.abstractmethod\n",
    "    def load(self, iterable):\n",
    "        \"\"\"iterable의 항목들을 추가한다.\"\"\"\n",
    "        \n",
    "    @abc.abstractclassmethod\n",
    "    def pick(self):\n",
    "        \"\"\"무작위로 항목을 하나 제거하고 반환한다.\n",
    "        객체가 비어 있을 때 이 메서드를 실행하면 'LookupError'가 발생한다.\n",
    "        \"\"\"\n",
    "        \n",
    "    def loaded(self): # ABC 에도 구상 메서드가 들어갈 수 있다\n",
    "        \"\"\"최소 한 개의 항목이 있으면 True, 아님 False 반환\"\"\"\n",
    "        # ABC의 구상 메서드는 반드시 ABC에 정의된 인터페이스, 즉\n",
    "        # ABC의 다른 구상 메서드나 추상 메서드, 혹은 프로퍼티만 사용해야 한다.\n",
    "        return bool(self.inspect())\n",
    "    \n",
    "    def inspect(self):\n",
    "        \"\"\"현재 안에 있는 항목들로 구성된 정렬된 튜플 반환\"\"\"\n",
    "        items = []\n",
    "        while True:\n",
    "            try:\n",
    "                # pick() 을 계속 호출해서 Tombola 객체를 비움\n",
    "                items.append(self.pick())\n",
    "            except LookupError:\n",
    "                break\n",
    "        self.load(items) # load 메서드를 호출해서 다시 넣는다\n",
    "        return tuple(sorted(items))"
   ]
  },
  {
   "cell_type": "code",
   "execution_count": 27,
   "metadata": {},
   "outputs": [],
   "source": [
    "class Fake(Tombola):\n",
    "    def pick(self):\n",
    "        return 13\n",
    "    def load(self):\n",
    "        pass"
   ]
  },
  {
   "cell_type": "code",
   "execution_count": 28,
   "metadata": {},
   "outputs": [
    {
     "data": {
      "text/plain": [
       "__main__.Fake"
      ]
     },
     "execution_count": 28,
     "metadata": {},
     "output_type": "execute_result"
    }
   ],
   "source": [
    "Fake"
   ]
  },
  {
   "cell_type": "code",
   "execution_count": 29,
   "metadata": {},
   "outputs": [],
   "source": [
    "f = Fake()"
   ]
  },
  {
   "cell_type": "markdown",
   "metadata": {},
   "source": [
    "## 11.7.2 Tombola ABC 상속하기\n",
    "\n",
    "Tombola 인터페이스를 만족시키는 구상 서브클래스를 만들어보자. 여기서 `random.SystemRandom()`은 다음 속성을 가진다.\n",
    "\n",
    "    운영 체제에서 제공하는 소스에서 난수를 생성하기 위해 os.urandom() 함수를 사용하는 클래스. 모든 시스템에서 사용 가능한 것은 아닙니다. 소프트웨어 상태에 의존하지 않으며, 시퀀스는 재현되지 않습니다. 따라서, seed() 메서드는 효과가 없으며, 무시됩니다. getstate()와 setstate() 메서드는 호출되면 NotImplementedError를 발생시킵니다."
   ]
  },
  {
   "cell_type": "code",
   "execution_count": 31,
   "metadata": {},
   "outputs": [],
   "source": [
    "# bingo.py\n",
    "\n",
    "import random\n",
    "from tombola import Tombola\n",
    "\n",
    "class BingoCage(Tombola):\n",
    "    def __init__(self, items):\n",
    "        self._randomizer = random.SystemRandom()\n",
    "        self._items = []\n",
    "        self.load(items)\n",
    "        \n",
    "    def load(self, items):\n",
    "        self._items.extend(items)\n",
    "        self._randomizer.shuffle(self._items)\n",
    "        \n",
    "    def pick(self):\n",
    "        try:\n",
    "            return self._items.pop()\n",
    "        except IndexError:\n",
    "            raise LookupError('pick from empty BingoCage')\n",
    "            \n",
    "    def __call__(self):\n",
    "        self.pick()"
   ]
  },
  {
   "cell_type": "code",
   "execution_count": 32,
   "metadata": {},
   "outputs": [],
   "source": [
    "# lotto.py\n",
    "\n",
    "import random\n",
    "from tombola import Tombola\n",
    "\n",
    "class LotteryBlower(Tombola):\n",
    "    def __init__(self, iterable):\n",
    "        self._balls = list(iterable) # 사본으로 저장\n",
    "        \n",
    "    def load(self, iterable):\n",
    "        self._balls.extend(iterable)\n",
    "        \n",
    "    def pick(self):\n",
    "        try:\n",
    "            pos = random.randrange(len(self._balls))\n",
    "        except ValueError:\n",
    "            raise LookupError('pick from empty BingCage')\n",
    "        return self._balls.pop(pos)\n",
    "    \n",
    "    def loaded(self):\n",
    "        return bool(self._balls)\n",
    "    \n",
    "    def inspect(self):\n",
    "        return tuple(sorted(self._balls))"
   ]
  },
  {
   "cell_type": "markdown",
   "metadata": {},
   "source": [
    "`BingoCage`는 섞고 마지막을 꺼내는 반면 `LotteryBlower`는 임의의 원소를 꺼낸다. "
   ]
  },
  {
   "cell_type": "markdown",
   "metadata": {},
   "source": [
    "이후는 가상 서브클래스 내용인데...\n",
    "Too Much... 같다..."
   ]
  },
  {
   "cell_type": "code",
   "execution_count": null,
   "metadata": {},
   "outputs": [],
   "source": []
  }
 ],
 "metadata": {
  "kernelspec": {
   "display_name": "Python 3",
   "language": "python",
   "name": "python3"
  },
  "language_info": {
   "codemirror_mode": {
    "name": "ipython",
    "version": 3
   },
   "file_extension": ".py",
   "mimetype": "text/x-python",
   "name": "python",
   "nbconvert_exporter": "python",
   "pygments_lexer": "ipython3",
   "version": "3.7.3"
  }
 },
 "nbformat": 4,
 "nbformat_minor": 4
}
