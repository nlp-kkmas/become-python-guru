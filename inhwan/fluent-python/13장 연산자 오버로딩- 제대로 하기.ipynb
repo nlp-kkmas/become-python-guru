{
 "cells": [
  {
   "cell_type": "markdown",
   "metadata": {},
   "source": [
    "# 13장. 연산자 오버로딩: 제대로 하기\n",
    "\n",
    "연산자 오버로딩은 사용자 정의 객체가 +와 | 같은 중위 연산자, -와 ~같은 단항 연산자를 사용할 수 있게 해준다. 이 장에서는 다음 내용을 설명한다. \n",
    "\n",
    "* 파이썬이 다른 자료형의 피연산자로 중위 연산자를 지원하는 방법\n",
    "* 다양한 자료형의 피연산자를 다루기 위한 덕 타이핑이나 명시적인 자료형 검사의 사용\n",
    "* ==, >, <= 등 향상된 비교 연산자의 별난 행동\n",
    "* 피연산자를 처리할 수 없다고 중위 연산자 메서드가 알려주는 방법\n",
    "* +=과 같은 계산 할당 연산자의 기본 처리 방식 및 오버로딩 방법"
   ]
  },
  {
   "cell_type": "markdown",
   "metadata": {},
   "source": [
    "## 13.1 연산자 오버로딩 기본 지식\n",
    "\n",
    "연산자 오버로딩은 잘 사용하면 가독성이 향상되지만 잘못 쓰면 별로다. 따라서 파이썬에서는 다음과 같은 제한을 두고 있다.\n",
    "\n",
    "* 내장 자료형에 대한 연산자는 오버로딩할 수 없다.\n",
    "* 새로운 연산자를 생성할 수 없으며, 기존 연산자를 오버로딩만 할 수 있다.\n",
    "* is, and, or, not 연산자는 오버로딩할 수 없다(그러나 $, |, ~ 비트 연산자는 가능)"
   ]
  },
  {
   "cell_type": "markdown",
   "metadata": {},
   "source": [
    "## 13.2 단항 연산자\n",
    "\n",
    "파이썬에서 제공하는 세 개의 단항 연산자 및 관련 특별 메서드는 다음과 같다.\n",
    "\n",
    "* `-(__neg__)` : 단항 산술 부정. x가 -2면 -x는 2다.\n",
    "\n",
    "* `+(__pos__)` : 단항 산술 덧셈. 일반적으로 x와 +x는 동일하다.\n",
    "\n",
    "* `~(__invert__)` : 정수형의 비트 반전. ~x는 -(x+1)로 정의된다. \n",
    "\n",
    "또한 `abs()(__abs__()`도 단항 연산자라고 할 수 있다.\n",
    "\n",
    "단항 연산자는 `self` 인수 하나를 받는 적절한 특별 메서드를 통해 쉽게 구현할 수 있다. 다만 __언제나 새로운 객체를 반환해야한다__는 핵심 규칙을 지켜야 한다. 앞으로 10장에서 구현한 `Vector` 클래스에 단항 연산자들을 구현해보고자 한다."
   ]
  },
  {
   "cell_type": "code",
   "execution_count": 2,
   "metadata": {},
   "outputs": [
    {
     "name": "stdout",
     "output_type": "stream",
     "text": [
      "# vector_v5.py\n",
      "\n",
      "from array import array\n",
      "import reprlib\n",
      "import math\n",
      "import numbers\n",
      "import functools\n",
      "import operator\n",
      "import itertools # chain() 함수를 사용하기 위함\n",
      "\n",
      "class Vector:\n",
      "    typecode = 'd'\n",
      "    shortcut_names = 'xyzt'\n",
      "    \n",
      "    def __init__(self, components):\n",
      "        # 벡터 요소를 배열로 저장\n",
      "        self._components = array(self.typecode, components)\n",
      "    \n",
      "    \"\"\"시퀀스 프로토콜 구현\"\"\"\n",
      "    def __len__(self):\n",
      "        return len(self._components)\n",
      "    \n",
      "    def __getitem__(self, index):\n",
      "        cls = type(self) # 객체의 클래스를 가져옴\n",
      "        if isinstance(index, slice): # index가 슬라이스이면\n",
      "            return cls(self._components[index]) # Vector 객체를 생성\n",
      "        elif isinstance(index, numbers.Integral): # index가 정수형이면\n",
      "            return self._components[index] # 해당 항목 반환\n",
      "        else:\n",
      "            msg = '{cls.__name__} indices must be integers'\n",
      "            raise TypeError(msg.format(cls=cls)) \n",
      "    \"\"\"시퀀스 프로토콜 구현 종료\"\"\"\n",
      "    \n",
      "    def __getattr__(self, name):\n",
      "        cls = type(self)\n",
      "        if len(name) == 1: # name이 한글자이면 \n",
      "            pos = cls.shortcut_names.find(name)\n",
      "            if 0 <= pos < len(self._components): # 포지션이 범위 내에 있으면 배열 항목 반환\n",
      "                return self._components[pos]\n",
      "        msg = '{.__name__!r} object has no attribute {!r}' \n",
      "        raise AttributeError(msg.format(cls, name))\n",
      "        \n",
      "    def __setattr__(self, name, value):\n",
      "        cls = type(self)\n",
      "        if len(name) == 1:\n",
      "            if name in cls.shortcut_names:\n",
      "                error = 'readonly attribute {attr_name!r}' # xyzt 중 하나는 구체적으로 오류 발생\n",
      "            elif name.islower():\n",
      "                error = \"can't set attributes 'a' to 'z' in {cls_name!r}\" # 그외 소문자면 일반적 메세지 오류 발생\n",
      "            else:\n",
      "                error = ''\n",
      "            if error:\n",
      "                msg = error.format(cls_name=cls.__name__, attr_name=name)\n",
      "                raise AttributeError(msg)\n",
      "        # 에러가 발생하지 않을 때는 정상적으로 __setattr__() 메서드 호출\n",
      "        super().__setattr__(name, value) \n",
      "        \n",
      "    def angle(self, n):\n",
      "        r = math.sqrt(sum(x * x for x in self[n:]))\n",
      "        a = math.atan2(r, self[n-1])\n",
      "        if (n == len(self) - 1) and (self[-1]<0):\n",
      "            return math.pi * 2 - a\n",
      "        else:\n",
      "            return a\n",
      "        \n",
      "    def angles(self):\n",
      "        return (self.angle(n) for n in range(1, len(self)))\n",
      "    \n",
      "    def __format__(self, fmt_spec=''):\n",
      "        if fmt_spec.endswith('h'): # 초구면좌표\n",
      "            fmt_spec = fmt_spec[:-1]\n",
      "            coords = itertools.chain([abs(self)],\n",
      "                                    self.angles()) \n",
      "            outer_fmt = '<{}>'\n",
      "        else:\n",
      "            coords = self\n",
      "            outer_fmt = '({})'\n",
      "        components = (format(c, fmt_spec) for c in coords)\n",
      "        return outer_fmt.format(', '.join(components))\n",
      "    \n",
      "    def __iter__(self):\n",
      "        return iter(self._components) # 반복할 수 있도록 구현\n",
      "    \n",
      "    def __repr__(self):\n",
      "        components = reprlib.repr(self._components) # 제한된 길이로 출력\n",
      "        components = components[components.find('['):-1] # 문자열 중 앞에 나오는 \"array('d',\" 를 제거\n",
      "        return 'Vector({})'.format(components)\n",
      "    \n",
      "    def __str__(self):\n",
      "        return str(tuple(self))\n",
      "    \n",
      "    def __bytes__(self):\n",
      "        return (bytes([ord(self.typecode)]) + \n",
      "               bytes(self._components))\n",
      "    \n",
      "    def __eq__(self, other):\n",
      "        if len(self) != len(other): # 길이가 다르면 False\n",
      "            return False\n",
      "        for a, b in zip(self, other): # 제너레이터로부터 하나씩 비교\n",
      "            if a != b:\n",
      "                return False\n",
      "        return True\n",
      "    \n",
      "    def __hash__(self):\n",
      "        hashes = (hash(x) for x in self._components) # 제너레이터 표현식 이용\n",
      "        return functools.reduce(operator.xor, hasehs, 0) # 초기값을 0으로 함\n",
      "    \n",
      "    def __abs__(self):\n",
      "        return math.sqrt(sum(x * x for x in self))\n",
      "    \n",
      "    def __bool__(self):\n",
      "        return bool(abs(self))\n",
      "    \n",
      "    @classmethod\n",
      "    def frombytes(cls, octets):\n",
      "        typecode = chr(octets[0])\n",
      "        memv = memoryview(octets[1:]).cast(typecode)\n",
      "        return cls(memv) # 언패킹할 필요가 없음"
     ]
    }
   ],
   "source": [
    "!cat vector_v5.py"
   ]
  },
  {
   "cell_type": "markdown",
   "metadata": {},
   "source": [
    "단항 연산자들을 다음과 같이 구현하자.\n",
    "\n",
    "```python\n",
    "def __abs__(self):\n",
    "    return math.sqrt(sum(x * x for x in self))\n",
    "\n",
    "# -x 구현\n",
    "def __neg__(self):\n",
    "    return Vector(-x for x in self)\n",
    "\n",
    "# +x 구현\n",
    "def __pos__(self):\n",
    "    return Vector(self)\n",
    "```"
   ]
  },
  {
   "cell_type": "code",
   "execution_count": 3,
   "metadata": {
    "jupyter": {
     "source_hidden": true
    }
   },
   "outputs": [],
   "source": [
    "# vector_v6.py\n",
    "\n",
    "from array import array\n",
    "import reprlib\n",
    "import math\n",
    "import numbers\n",
    "import functools\n",
    "import operator\n",
    "import itertools # chain() 함수를 사용하기 위함\n",
    "\n",
    "class Vector:\n",
    "    typecode = 'd'\n",
    "    shortcut_names = 'xyzt'\n",
    "    \n",
    "    def __init__(self, components):\n",
    "        # 벡터 요소를 배열로 저장\n",
    "        self._components = array(self.typecode, components)\n",
    "    \n",
    "    \"\"\"시퀀스 프로토콜 구현\"\"\"\n",
    "    def __len__(self):\n",
    "        return len(self._components)\n",
    "    \n",
    "    def __getitem__(self, index):\n",
    "        cls = type(self) # 객체의 클래스를 가져옴\n",
    "        if isinstance(index, slice): # index가 슬라이스이면\n",
    "            return cls(self._components[index]) # Vector 객체를 생성\n",
    "        elif isinstance(index, numbers.Integral): # index가 정수형이면\n",
    "            return self._components[index] # 해당 항목 반환\n",
    "        else:\n",
    "            msg = '{cls.__name__} indices must be integers'\n",
    "            raise TypeError(msg.format(cls=cls)) \n",
    "    \"\"\"시퀀스 프로토콜 구현 종료\"\"\"\n",
    "    \n",
    "    def __getattr__(self, name):\n",
    "        cls = type(self)\n",
    "        if len(name) == 1: # name이 한글자이면 \n",
    "            pos = cls.shortcut_names.find(name)\n",
    "            if 0 <= pos < len(self._components): # 포지션이 범위 내에 있으면 배열 항목 반환\n",
    "                return self._components[pos]\n",
    "        msg = '{.__name__!r} object has no attribute {!r}' \n",
    "        raise AttributeError(msg.format(cls, name))\n",
    "        \n",
    "    def __setattr__(self, name, value):\n",
    "        cls = type(self)\n",
    "        if len(name) == 1:\n",
    "            if name in cls.shortcut_names:\n",
    "                error = 'readonly attribute {attr_name!r}' # xyzt 중 하나는 구체적으로 오류 발생\n",
    "            elif name.islower():\n",
    "                error = \"can't set attributes 'a' to 'z' in {cls_name!r}\" # 그외 소문자면 일반적 메세지 오류 발생\n",
    "            else:\n",
    "                error = ''\n",
    "            if error:\n",
    "                msg = error.format(cls_name=cls.__name__, attr_name=name)\n",
    "                raise AttributeError(msg)\n",
    "        # 에러가 발생하지 않을 때는 정상적으로 __setattr__() 메서드 호출\n",
    "        super().__setattr__(name, value) \n",
    "        \n",
    "    def angle(self, n):\n",
    "        r = math.sqrt(sum(x * x for x in self[n:]))\n",
    "        a = math.atan2(r, self[n-1])\n",
    "        if (n == len(self) - 1) and (self[-1]<0):\n",
    "            return math.pi * 2 - a\n",
    "        else:\n",
    "            return a\n",
    "        \n",
    "    def angles(self):\n",
    "        return (self.angle(n) for n in range(1, len(self)))\n",
    "    \n",
    "    def __format__(self, fmt_spec=''):\n",
    "        if fmt_spec.endswith('h'): # 초구면좌표\n",
    "            fmt_spec = fmt_spec[:-1]\n",
    "            coords = itertools.chain([abs(self)],\n",
    "                                    self.angles()) \n",
    "            outer_fmt = '<{}>'\n",
    "        else:\n",
    "            coords = self\n",
    "            outer_fmt = '({})'\n",
    "        components = (format(c, fmt_spec) for c in coords)\n",
    "        return outer_fmt.format(', '.join(components))\n",
    "    \n",
    "    def __iter__(self):\n",
    "        return iter(self._components) # 반복할 수 있도록 구현\n",
    "    \n",
    "    def __repr__(self):\n",
    "        components = reprlib.repr(self._components) # 제한된 길이로 출력\n",
    "        components = components[components.find('['):-1] # 문자열 중 앞에 나오는 \"array('d',\" 를 제거\n",
    "        return 'Vector({})'.format(components)\n",
    "    \n",
    "    def __str__(self):\n",
    "        return str(tuple(self))\n",
    "    \n",
    "    def __bytes__(self):\n",
    "        return (bytes([ord(self.typecode)]) + \n",
    "               bytes(self._components))\n",
    "    \n",
    "    def __eq__(self, other):\n",
    "        if len(self) != len(other): # 길이가 다르면 False\n",
    "            return False\n",
    "        for a, b in zip(self, other): # 제너레이터로부터 하나씩 비교\n",
    "            if a != b:\n",
    "                return False\n",
    "        return True\n",
    "    \n",
    "    def __hash__(self):\n",
    "        hashes = (hash(x) for x in self._components) # 제너레이터 표현식 이용\n",
    "        return functools.reduce(operator.xor, hasehs, 0) # 초기값을 0으로 함\n",
    "    \n",
    "    def __abs__(self):\n",
    "        return math.sqrt(sum(x * x for x in self))\n",
    "    \n",
    "    def __bool__(self):\n",
    "        return bool(abs(self))\n",
    "    \n",
    "    @classmethod\n",
    "    def frombytes(cls, octets):\n",
    "        typecode = chr(octets[0])\n",
    "        memv = memoryview(octets[1:]).cast(typecode)\n",
    "        return cls(memv) # 언패킹할 필요가 없음\n",
    "    \n",
    "    # -x 구현\n",
    "    def __neg__(self):\n",
    "        return Vector(-x for x in self)\n",
    "    \n",
    "    # +x 구현\n",
    "    def __pos__(self):\n",
    "        return Vector(self)"
   ]
  },
  {
   "cell_type": "code",
   "execution_count": 14,
   "metadata": {},
   "outputs": [
    {
     "data": {
      "text/plain": [
       "(Vector([1.0, 2.0, 3.0]), Vector([1.0, 2.0, 3.0]), Vector([-1.0, -2.0, -3.0]))"
      ]
     },
     "execution_count": 14,
     "metadata": {},
     "output_type": "execute_result"
    }
   ],
   "source": [
    "v1 = Vector([1,2,3])\n",
    "v1, +v1, -v1"
   ]
  },
  {
   "cell_type": "markdown",
   "metadata": {},
   "source": [
    "일반적으로 x와 +x는 같으나 실수의 정밀도 수정, 그리고 collections.Counter를 사용할 때 일부 달라질 수 있다. 그러나 신경쓸 필요는 전혀 없을 것 같다."
   ]
  },
  {
   "cell_type": "code",
   "execution_count": 6,
   "metadata": {},
   "outputs": [
    {
     "data": {
      "text/plain": [
       "Decimal('0.3333333333333333333333333333333333333333')"
      ]
     },
     "execution_count": 6,
     "metadata": {},
     "output_type": "execute_result"
    }
   ],
   "source": [
    "import decimal \n",
    "ctx = decimal.getcontext()\n",
    "ctx.prec = 40\n",
    "one_third = decimal.Decimal('1') / decimal.Decimal('3')\n",
    "one_third"
   ]
  },
  {
   "cell_type": "code",
   "execution_count": 10,
   "metadata": {},
   "outputs": [
    {
     "data": {
      "text/plain": [
       "False"
      ]
     },
     "execution_count": 10,
     "metadata": {},
     "output_type": "execute_result"
    }
   ],
   "source": [
    "one_third == +one_third # 다른데???"
   ]
  },
  {
   "cell_type": "code",
   "execution_count": 8,
   "metadata": {},
   "outputs": [
    {
     "data": {
      "text/plain": [
       "False"
      ]
     },
     "execution_count": 8,
     "metadata": {},
     "output_type": "execute_result"
    }
   ],
   "source": [
    "ctx.prec = 28\n",
    "one_third == +one_third"
   ]
  },
  {
   "cell_type": "code",
   "execution_count": 9,
   "metadata": {},
   "outputs": [
    {
     "data": {
      "text/plain": [
       "Decimal('0.3333333333333333333333333333')"
      ]
     },
     "execution_count": 9,
     "metadata": {},
     "output_type": "execute_result"
    }
   ],
   "source": [
    "+one_third"
   ]
  },
  {
   "cell_type": "code",
   "execution_count": 11,
   "metadata": {},
   "outputs": [
    {
     "data": {
      "text/plain": [
       "Counter({'a': 5, 'b': 2, 'r': 2, 'c': 1, 'd': 1})"
      ]
     },
     "execution_count": 11,
     "metadata": {},
     "output_type": "execute_result"
    }
   ],
   "source": [
    "from collections import Counter\n",
    "ct = Counter('abracadabra')\n",
    "ct"
   ]
  },
  {
   "cell_type": "code",
   "execution_count": 12,
   "metadata": {},
   "outputs": [
    {
     "data": {
      "text/plain": [
       "Counter({'a': 5, 'b': 2, 'r': -3, 'c': 1, 'd': 0})"
      ]
     },
     "execution_count": 12,
     "metadata": {},
     "output_type": "execute_result"
    }
   ],
   "source": [
    "ct['r'] = -3\n",
    "ct['d'] = 0\n",
    "ct"
   ]
  },
  {
   "cell_type": "code",
   "execution_count": 13,
   "metadata": {},
   "outputs": [
    {
     "data": {
      "text/plain": [
       "Counter({'a': 5, 'b': 2, 'c': 1})"
      ]
     },
     "execution_count": 13,
     "metadata": {},
     "output_type": "execute_result"
    }
   ],
   "source": [
    "+ct"
   ]
  },
  {
   "cell_type": "markdown",
   "metadata": {},
   "source": [
    "## 13.3 벡터를 더하기 위해 + 오버로딩하기\n",
    "\n",
    "벡터 두 개를 더하면 양쪽 벡터 각 요소의 합으로 구성된 새로운 벡터가 생성되도록 구현해보자. 또한 길이가 다른 두 Vector 객체를 더하면 짧은 쪽 벡터의 빈 공간을 0으로 채워서 더하도록 구현한다.\n",
    "\n",
    "```python\n",
    "def __add__(self, other):\n",
    "    pairs = itertools.zip_longest(self, other, fillvalue=0.0)\n",
    "    return Vector(a + b for a, b in pairs)\n",
    "```\n",
    "\n",
    "`itertools.zip_longest` 메서드는 짧은 쪽 반복형의 빠진 값을 fillvalue로 채운다. 이때 `__add__()` 메서드는 `self`나 `other`의 값을 변경하지 않음에 주의!"
   ]
  },
  {
   "cell_type": "code",
   "execution_count": 138,
   "metadata": {
    "jupyter": {
     "source_hidden": true
    }
   },
   "outputs": [],
   "source": [
    "from array import array\n",
    "import reprlib\n",
    "import math\n",
    "import numbers\n",
    "import functools\n",
    "import operator\n",
    "import itertools # chain() 함수를 사용하기 위함\n",
    "\n",
    "class Vector:\n",
    "    typecode = 'd'\n",
    "    shortcut_names = 'xyzt'\n",
    "    \n",
    "    def __init__(self, components):\n",
    "        # 벡터 요소를 배열로 저장\n",
    "        self._components = array(self.typecode, components)\n",
    "    \n",
    "    \"\"\"시퀀스 프로토콜 구현\"\"\"\n",
    "    def __len__(self):\n",
    "        return len(self._components)\n",
    "    \n",
    "    def __getitem__(self, index):\n",
    "        cls = type(self) # 객체의 클래스를 가져옴\n",
    "        if isinstance(index, slice): # index가 슬라이스이면\n",
    "            return cls(self._components[index]) # Vector 객체를 생성\n",
    "        elif isinstance(index, numbers.Integral): # index가 정수형이면\n",
    "            return self._components[index] # 해당 항목 반환\n",
    "        else:\n",
    "            msg = '{cls.__name__} indices must be integers'\n",
    "            raise TypeError(msg.format(cls=cls)) \n",
    "    \"\"\"시퀀스 프로토콜 구현 종료\"\"\"\n",
    "    \n",
    "    def __getattr__(self, name):\n",
    "        cls = type(self)\n",
    "        if len(name) == 1: # name이 한글자이면 \n",
    "            pos = cls.shortcut_names.find(name)\n",
    "            if 0 <= pos < len(self._components): # 포지션이 범위 내에 있으면 배열 항목 반환\n",
    "                return self._components[pos]\n",
    "        msg = '{.__name__!r} object has no attribute {!r}' \n",
    "        raise AttributeError(msg.format(cls, name))\n",
    "        \n",
    "    def __setattr__(self, name, value):\n",
    "        cls = type(self)\n",
    "        if len(name) == 1:\n",
    "            if name in cls.shortcut_names:\n",
    "                error = 'readonly attribute {attr_name!r}' # xyzt 중 하나는 구체적으로 오류 발생\n",
    "            elif name.islower():\n",
    "                error = \"can't set attributes 'a' to 'z' in {cls_name!r}\" # 그외 소문자면 일반적 메세지 오류 발생\n",
    "            else:\n",
    "                error = ''\n",
    "            if error:\n",
    "                msg = error.format(cls_name=cls.__name__, attr_name=name)\n",
    "                raise AttributeError(msg)\n",
    "        # 에러가 발생하지 않을 때는 정상적으로 __setattr__() 메서드 호출\n",
    "        super().__setattr__(name, value) \n",
    "        \n",
    "    def angle(self, n):\n",
    "        r = math.sqrt(sum(x * x for x in self[n:]))\n",
    "        a = math.atan2(r, self[n-1])\n",
    "        if (n == len(self) - 1) and (self[-1]<0):\n",
    "            return math.pi * 2 - a\n",
    "        else:\n",
    "            return a\n",
    "        \n",
    "    def angles(self):\n",
    "        return (self.angle(n) for n in range(1, len(self)))\n",
    "    \n",
    "    def __format__(self, fmt_spec=''):\n",
    "        if fmt_spec.endswith('h'): # 초구면좌표\n",
    "            fmt_spec = fmt_spec[:-1]\n",
    "            coords = itertools.chain([abs(self)],\n",
    "                                    self.angles()) \n",
    "            outer_fmt = '<{}>'\n",
    "        else:\n",
    "            coords = self\n",
    "            outer_fmt = '({})'\n",
    "        components = (format(c, fmt_spec) for c in coords)\n",
    "        return outer_fmt.format(', '.join(components))\n",
    "    \n",
    "    def __iter__(self):\n",
    "        return iter(self._components) # 반복할 수 있도록 구현\n",
    "    \n",
    "    def __repr__(self):\n",
    "        components = reprlib.repr(self._components) # 제한된 길이로 출력\n",
    "        components = components[components.find('['):-1] # 문자열 중 앞에 나오는 \"array('d',\" 를 제거\n",
    "        return 'Vector({})'.format(components)\n",
    "    \n",
    "    def __str__(self):\n",
    "        return str(tuple(self))\n",
    "    \n",
    "    def __bytes__(self):\n",
    "        return (bytes([ord(self.typecode)]) + \n",
    "               bytes(self._components))\n",
    "    \n",
    "    def __eq__(self, other):\n",
    "        if len(self) != len(other): # 길이가 다르면 False\n",
    "            return False\n",
    "        for a, b in zip(self, other): # 제너레이터로부터 하나씩 비교\n",
    "            if a != b:\n",
    "                return False\n",
    "        return True\n",
    "    \n",
    "    def __hash__(self):\n",
    "        hashes = (hash(x) for x in self._components) # 제너레이터 표현식 이용\n",
    "        return functools.reduce(operator.xor, hasehs, 0) # 초기값을 0으로 함\n",
    "    \n",
    "    def __abs__(self):\n",
    "        return math.sqrt(sum(x * x for x in self))\n",
    "    \n",
    "    def __bool__(self):\n",
    "        return bool(abs(self))\n",
    "    \n",
    "    @classmethod\n",
    "    def frombytes(cls, octets):\n",
    "        typecode = chr(octets[0])\n",
    "        memv = memoryview(octets[1:]).cast(typecode)\n",
    "        return cls(memv) # 언패킹할 필요가 없음\n",
    "    \n",
    "    # -x 구현\n",
    "    def __neg__(self):\n",
    "        return Vector(-x for x in self)\n",
    "    \n",
    "    # +x 구현\n",
    "    def __pos__(self):\n",
    "        return Vector(self)\n",
    "\n",
    "    def __add__(self, other):\n",
    "        pairs = itertools.zip_longest(self, other, fillvalue=0.0)\n",
    "        return Vector(a + b for a, b in pairs)"
   ]
  },
  {
   "cell_type": "code",
   "execution_count": 134,
   "metadata": {},
   "outputs": [
    {
     "data": {
      "text/plain": [
       "Vector([13.0, 24.0, 35.0])"
      ]
     },
     "execution_count": 134,
     "metadata": {},
     "output_type": "execute_result"
    }
   ],
   "source": [
    "v1 = Vector([3,4,5])\n",
    "v1 + (10, 20, 30)"
   ]
  },
  {
   "cell_type": "code",
   "execution_count": 135,
   "metadata": {},
   "outputs": [
    {
     "data": {
      "text/plain": [
       "Vector([4.0, 6.0, 5.0])"
      ]
     },
     "execution_count": 135,
     "metadata": {},
     "output_type": "execute_result"
    }
   ],
   "source": [
    "from vector2d_v3 import Vector2d\n",
    "v2d = Vector2d(1,2)\n",
    "v1 + v2d"
   ]
  },
  {
   "cell_type": "markdown",
   "metadata": {},
   "source": [
    "어떠한 반복형 객체라도 사용할 수 있는 `zip_longest()` 함수를 사용하므로 다양한 반복형을 사용할 수 있다. 그러나 순서를 바꾸면 안된다."
   ]
  },
  {
   "cell_type": "code",
   "execution_count": 22,
   "metadata": {},
   "outputs": [
    {
     "ename": "TypeError",
     "evalue": "can only concatenate tuple (not \"Vector\") to tuple",
     "output_type": "error",
     "traceback": [
      "\u001b[0;31m---------------------------------------------------------------------------\u001b[0m",
      "\u001b[0;31mTypeError\u001b[0m                                 Traceback (most recent call last)",
      "\u001b[0;32m<ipython-input-22-15b1329ad790>\u001b[0m in \u001b[0;36m<module>\u001b[0;34m\u001b[0m\n\u001b[0;32m----> 1\u001b[0;31m \u001b[0;34m(\u001b[0m\u001b[0;36m10\u001b[0m\u001b[0;34m,\u001b[0m \u001b[0;36m20\u001b[0m\u001b[0;34m,\u001b[0m \u001b[0;36m30\u001b[0m\u001b[0;34m)\u001b[0m \u001b[0;34m+\u001b[0m \u001b[0mv1\u001b[0m\u001b[0;34m\u001b[0m\u001b[0;34m\u001b[0m\u001b[0m\n\u001b[0m",
      "\u001b[0;31mTypeError\u001b[0m: can only concatenate tuple (not \"Vector\") to tuple"
     ]
    }
   ],
   "source": [
    "(10, 20, 30) + v1"
   ]
  },
  {
   "cell_type": "code",
   "execution_count": 23,
   "metadata": {},
   "outputs": [
    {
     "ename": "TypeError",
     "evalue": "unsupported operand type(s) for +: 'Vector2d' and 'Vector'",
     "output_type": "error",
     "traceback": [
      "\u001b[0;31m---------------------------------------------------------------------------\u001b[0m",
      "\u001b[0;31mTypeError\u001b[0m                                 Traceback (most recent call last)",
      "\u001b[0;32m<ipython-input-23-be5db45ab369>\u001b[0m in \u001b[0;36m<module>\u001b[0;34m\u001b[0m\n\u001b[0;32m----> 1\u001b[0;31m \u001b[0mv2d\u001b[0m \u001b[0;34m+\u001b[0m \u001b[0mv1\u001b[0m\u001b[0;34m\u001b[0m\u001b[0;34m\u001b[0m\u001b[0m\n\u001b[0m",
      "\u001b[0;31mTypeError\u001b[0m: unsupported operand type(s) for +: 'Vector2d' and 'Vector'"
     ]
    }
   ],
   "source": [
    "v2d + v1"
   ]
  },
  {
   "cell_type": "markdown",
   "metadata": {},
   "source": [
    "이를 해결하기 위해서는 파이썬이 중위 연산자를 처리하는 로직을 파악할 필요가 있다. `a + b` 는 다음과 같은 절차에 의해 처리된다.\n",
    "\n",
    "1. `a`에 `__add__()` 메서드가 정의되어 있으면 `a.__add__(b)`를 호출하고, 결과가 `NotImplemented`가 아니면 반환\n",
    "1. `a`에 `__add__()` 메서드가 정의되어 있지 않거나 정의되어 있더라도 호출 후 `NotImplemented`가 반환되면, `b`에 `__radd__()` 메서드가 정의되어 있는지 확인해서 `b.__radd__(a)`를 호출하고 결과가 `NotImplemented`가 아니면 반환\n",
    "1. `b`에 `__radd__()`가 정의되어 있지 않거나 정의되어 있더라도 호출 후 `NotImplemented`가 반환되면 __지원하지 않는 피연산자형__이라는 메세지와 함께 TypeError 발생\n",
    "\n",
    "따라서 혼합형 덧셈을 제대로 실행하려면 `Vector.__radd__()` 메서드를 다음과 같이 구현하면 된다.\n",
    "\n",
    "```python\n",
    "def __radd__(self, other):\n",
    "    return self + other\n",
    "```"
   ]
  },
  {
   "cell_type": "code",
   "execution_count": 24,
   "metadata": {
    "jupyter": {
     "source_hidden": true
    }
   },
   "outputs": [],
   "source": [
    "from array import array\n",
    "import reprlib\n",
    "import math\n",
    "import numbers\n",
    "import functools\n",
    "import operator\n",
    "import itertools # chain() 함수를 사용하기 위함\n",
    "\n",
    "class Vector:\n",
    "    typecode = 'd'\n",
    "    shortcut_names = 'xyzt'\n",
    "    \n",
    "    def __init__(self, components):\n",
    "        # 벡터 요소를 배열로 저장\n",
    "        self._components = array(self.typecode, components)\n",
    "    \n",
    "    \"\"\"시퀀스 프로토콜 구현\"\"\"\n",
    "    def __len__(self):\n",
    "        return len(self._components)\n",
    "    \n",
    "    def __getitem__(self, index):\n",
    "        cls = type(self) # 객체의 클래스를 가져옴\n",
    "        if isinstance(index, slice): # index가 슬라이스이면\n",
    "            return cls(self._components[index]) # Vector 객체를 생성\n",
    "        elif isinstance(index, numbers.Integral): # index가 정수형이면\n",
    "            return self._components[index] # 해당 항목 반환\n",
    "        else:\n",
    "            msg = '{cls.__name__} indices must be integers'\n",
    "            raise TypeError(msg.format(cls=cls)) \n",
    "    \"\"\"시퀀스 프로토콜 구현 종료\"\"\"\n",
    "    \n",
    "    def __getattr__(self, name):\n",
    "        cls = type(self)\n",
    "        if len(name) == 1: # name이 한글자이면 \n",
    "            pos = cls.shortcut_names.find(name)\n",
    "            if 0 <= pos < len(self._components): # 포지션이 범위 내에 있으면 배열 항목 반환\n",
    "                return self._components[pos]\n",
    "        msg = '{.__name__!r} object has no attribute {!r}' \n",
    "        raise AttributeError(msg.format(cls, name))\n",
    "        \n",
    "    def __setattr__(self, name, value):\n",
    "        cls = type(self)\n",
    "        if len(name) == 1:\n",
    "            if name in cls.shortcut_names:\n",
    "                error = 'readonly attribute {attr_name!r}' # xyzt 중 하나는 구체적으로 오류 발생\n",
    "            elif name.islower():\n",
    "                error = \"can't set attributes 'a' to 'z' in {cls_name!r}\" # 그외 소문자면 일반적 메세지 오류 발생\n",
    "            else:\n",
    "                error = ''\n",
    "            if error:\n",
    "                msg = error.format(cls_name=cls.__name__, attr_name=name)\n",
    "                raise AttributeError(msg)\n",
    "        # 에러가 발생하지 않을 때는 정상적으로 __setattr__() 메서드 호출\n",
    "        super().__setattr__(name, value) \n",
    "        \n",
    "    def angle(self, n):\n",
    "        r = math.sqrt(sum(x * x for x in self[n:]))\n",
    "        a = math.atan2(r, self[n-1])\n",
    "        if (n == len(self) - 1) and (self[-1]<0):\n",
    "            return math.pi * 2 - a\n",
    "        else:\n",
    "            return a\n",
    "        \n",
    "    def angles(self):\n",
    "        return (self.angle(n) for n in range(1, len(self)))\n",
    "    \n",
    "    def __format__(self, fmt_spec=''):\n",
    "        if fmt_spec.endswith('h'): # 초구면좌표\n",
    "            fmt_spec = fmt_spec[:-1]\n",
    "            coords = itertools.chain([abs(self)],\n",
    "                                    self.angles()) \n",
    "            outer_fmt = '<{}>'\n",
    "        else:\n",
    "            coords = self\n",
    "            outer_fmt = '({})'\n",
    "        components = (format(c, fmt_spec) for c in coords)\n",
    "        return outer_fmt.format(', '.join(components))\n",
    "    \n",
    "    def __iter__(self):\n",
    "        return iter(self._components) # 반복할 수 있도록 구현\n",
    "    \n",
    "    def __repr__(self):\n",
    "        components = reprlib.repr(self._components) # 제한된 길이로 출력\n",
    "        components = components[components.find('['):-1] # 문자열 중 앞에 나오는 \"array('d',\" 를 제거\n",
    "        return 'Vector({})'.format(components)\n",
    "    \n",
    "    def __str__(self):\n",
    "        return str(tuple(self))\n",
    "    \n",
    "    def __bytes__(self):\n",
    "        return (bytes([ord(self.typecode)]) + \n",
    "               bytes(self._components))\n",
    "    \n",
    "    def __eq__(self, other):\n",
    "        if len(self) != len(other): # 길이가 다르면 False\n",
    "            return False\n",
    "        for a, b in zip(self, other): # 제너레이터로부터 하나씩 비교\n",
    "            if a != b:\n",
    "                return False\n",
    "        return True\n",
    "    \n",
    "    def __hash__(self):\n",
    "        hashes = (hash(x) for x in self._components) # 제너레이터 표현식 이용\n",
    "        return functools.reduce(operator.xor, hasehs, 0) # 초기값을 0으로 함\n",
    "    \n",
    "    def __abs__(self):\n",
    "        return math.sqrt(sum(x * x for x in self))\n",
    "    \n",
    "    def __bool__(self):\n",
    "        return bool(abs(self))\n",
    "    \n",
    "    @classmethod\n",
    "    def frombytes(cls, octets):\n",
    "        typecode = chr(octets[0])\n",
    "        memv = memoryview(octets[1:]).cast(typecode)\n",
    "        return cls(memv) # 언패킹할 필요가 없음\n",
    "    \n",
    "    # -x 구현\n",
    "    def __neg__(self):\n",
    "        return Vector(-x for x in self)\n",
    "    \n",
    "    # +x 구현\n",
    "    def __pos__(self):\n",
    "        return Vector(self)\n",
    "\n",
    "    def __add__(self, other):\n",
    "        pairs = itertools.zip_longest(self, other, fillvalue=0.0)\n",
    "        return Vector(a + b for a, b in pairs)\n",
    "    \n",
    "    def __radd__(self, other):\n",
    "        return self + other"
   ]
  },
  {
   "cell_type": "code",
   "execution_count": 26,
   "metadata": {},
   "outputs": [
    {
     "data": {
      "text/plain": [
       "Vector([13.0, 24.0, 35.0])"
      ]
     },
     "execution_count": 26,
     "metadata": {},
     "output_type": "execute_result"
    }
   ],
   "source": [
    "v1 = Vector([3,4,5])\n",
    "(10, 20, 30) + v1"
   ]
  },
  {
   "cell_type": "code",
   "execution_count": 27,
   "metadata": {},
   "outputs": [
    {
     "data": {
      "text/plain": [
       "Vector([4.0, 6.0, 5.0])"
      ]
     },
     "execution_count": 27,
     "metadata": {},
     "output_type": "execute_result"
    }
   ],
   "source": [
    "v2d + v1"
   ]
  },
  {
   "cell_type": "markdown",
   "metadata": {},
   "source": [
    "다만 비반복형 객체에 적용하면 에러가 난다."
   ]
  },
  {
   "cell_type": "code",
   "execution_count": 28,
   "metadata": {},
   "outputs": [
    {
     "ename": "TypeError",
     "evalue": "zip_longest argument #2 must support iteration",
     "output_type": "error",
     "traceback": [
      "\u001b[0;31m---------------------------------------------------------------------------\u001b[0m",
      "\u001b[0;31mTypeError\u001b[0m                                 Traceback (most recent call last)",
      "\u001b[0;32m<ipython-input-28-4c3a4f2e82c5>\u001b[0m in \u001b[0;36m<module>\u001b[0;34m\u001b[0m\n\u001b[0;32m----> 1\u001b[0;31m \u001b[0mv1\u001b[0m \u001b[0;34m+\u001b[0m \u001b[0;36m1\u001b[0m\u001b[0;34m\u001b[0m\u001b[0;34m\u001b[0m\u001b[0m\n\u001b[0m",
      "\u001b[0;32m<ipython-input-24-a90defe982bc>\u001b[0m in \u001b[0;36m__add__\u001b[0;34m(self, other)\u001b[0m\n\u001b[1;32m    125\u001b[0m \u001b[0;34m\u001b[0m\u001b[0m\n\u001b[1;32m    126\u001b[0m     \u001b[0;32mdef\u001b[0m \u001b[0m__add__\u001b[0m\u001b[0;34m(\u001b[0m\u001b[0mself\u001b[0m\u001b[0;34m,\u001b[0m \u001b[0mother\u001b[0m\u001b[0;34m)\u001b[0m\u001b[0;34m:\u001b[0m\u001b[0;34m\u001b[0m\u001b[0;34m\u001b[0m\u001b[0m\n\u001b[0;32m--> 127\u001b[0;31m         \u001b[0mpairs\u001b[0m \u001b[0;34m=\u001b[0m \u001b[0mitertools\u001b[0m\u001b[0;34m.\u001b[0m\u001b[0mzip_longest\u001b[0m\u001b[0;34m(\u001b[0m\u001b[0mself\u001b[0m\u001b[0;34m,\u001b[0m \u001b[0mother\u001b[0m\u001b[0;34m,\u001b[0m \u001b[0mfillvalue\u001b[0m\u001b[0;34m=\u001b[0m\u001b[0;36m0.0\u001b[0m\u001b[0;34m)\u001b[0m\u001b[0;34m\u001b[0m\u001b[0;34m\u001b[0m\u001b[0m\n\u001b[0m\u001b[1;32m    128\u001b[0m         \u001b[0;32mreturn\u001b[0m \u001b[0mVector\u001b[0m\u001b[0;34m(\u001b[0m\u001b[0ma\u001b[0m \u001b[0;34m+\u001b[0m \u001b[0mb\u001b[0m \u001b[0;32mfor\u001b[0m \u001b[0ma\u001b[0m\u001b[0;34m,\u001b[0m \u001b[0mb\u001b[0m \u001b[0;32min\u001b[0m \u001b[0mpairs\u001b[0m\u001b[0;34m)\u001b[0m\u001b[0;34m\u001b[0m\u001b[0;34m\u001b[0m\u001b[0m\n\u001b[1;32m    129\u001b[0m \u001b[0;34m\u001b[0m\u001b[0m\n",
      "\u001b[0;31mTypeError\u001b[0m: zip_longest argument #2 must support iteration"
     ]
    }
   ],
   "source": [
    "v1 + 1"
   ]
  },
  {
   "cell_type": "code",
   "execution_count": 29,
   "metadata": {},
   "outputs": [
    {
     "ename": "TypeError",
     "evalue": "unsupported operand type(s) for +: 'float' and 'str'",
     "output_type": "error",
     "traceback": [
      "\u001b[0;31m---------------------------------------------------------------------------\u001b[0m",
      "\u001b[0;31mTypeError\u001b[0m                                 Traceback (most recent call last)",
      "\u001b[0;32m<ipython-input-29-7cefd87c955c>\u001b[0m in \u001b[0;36m<module>\u001b[0;34m\u001b[0m\n\u001b[0;32m----> 1\u001b[0;31m \u001b[0mv1\u001b[0m \u001b[0;34m+\u001b[0m \u001b[0;34m'ABC'\u001b[0m\u001b[0;34m\u001b[0m\u001b[0;34m\u001b[0m\u001b[0m\n\u001b[0m",
      "\u001b[0;32m<ipython-input-24-a90defe982bc>\u001b[0m in \u001b[0;36m__add__\u001b[0;34m(self, other)\u001b[0m\n\u001b[1;32m    126\u001b[0m     \u001b[0;32mdef\u001b[0m \u001b[0m__add__\u001b[0m\u001b[0;34m(\u001b[0m\u001b[0mself\u001b[0m\u001b[0;34m,\u001b[0m \u001b[0mother\u001b[0m\u001b[0;34m)\u001b[0m\u001b[0;34m:\u001b[0m\u001b[0;34m\u001b[0m\u001b[0;34m\u001b[0m\u001b[0m\n\u001b[1;32m    127\u001b[0m         \u001b[0mpairs\u001b[0m \u001b[0;34m=\u001b[0m \u001b[0mitertools\u001b[0m\u001b[0;34m.\u001b[0m\u001b[0mzip_longest\u001b[0m\u001b[0;34m(\u001b[0m\u001b[0mself\u001b[0m\u001b[0;34m,\u001b[0m \u001b[0mother\u001b[0m\u001b[0;34m,\u001b[0m \u001b[0mfillvalue\u001b[0m\u001b[0;34m=\u001b[0m\u001b[0;36m0.0\u001b[0m\u001b[0;34m)\u001b[0m\u001b[0;34m\u001b[0m\u001b[0;34m\u001b[0m\u001b[0m\n\u001b[0;32m--> 128\u001b[0;31m         \u001b[0;32mreturn\u001b[0m \u001b[0mVector\u001b[0m\u001b[0;34m(\u001b[0m\u001b[0ma\u001b[0m \u001b[0;34m+\u001b[0m \u001b[0mb\u001b[0m \u001b[0;32mfor\u001b[0m \u001b[0ma\u001b[0m\u001b[0;34m,\u001b[0m \u001b[0mb\u001b[0m \u001b[0;32min\u001b[0m \u001b[0mpairs\u001b[0m\u001b[0;34m)\u001b[0m\u001b[0;34m\u001b[0m\u001b[0;34m\u001b[0m\u001b[0m\n\u001b[0m\u001b[1;32m    129\u001b[0m \u001b[0;34m\u001b[0m\u001b[0m\n\u001b[1;32m    130\u001b[0m     \u001b[0;32mdef\u001b[0m \u001b[0m__radd__\u001b[0m\u001b[0;34m(\u001b[0m\u001b[0mself\u001b[0m\u001b[0;34m,\u001b[0m \u001b[0mother\u001b[0m\u001b[0;34m)\u001b[0m\u001b[0;34m:\u001b[0m\u001b[0;34m\u001b[0m\u001b[0;34m\u001b[0m\u001b[0m\n",
      "\u001b[0;32m<ipython-input-24-a90defe982bc>\u001b[0m in \u001b[0;36m__init__\u001b[0;34m(self, components)\u001b[0m\n\u001b[1;32m     13\u001b[0m     \u001b[0;32mdef\u001b[0m \u001b[0m__init__\u001b[0m\u001b[0;34m(\u001b[0m\u001b[0mself\u001b[0m\u001b[0;34m,\u001b[0m \u001b[0mcomponents\u001b[0m\u001b[0;34m)\u001b[0m\u001b[0;34m:\u001b[0m\u001b[0;34m\u001b[0m\u001b[0;34m\u001b[0m\u001b[0m\n\u001b[1;32m     14\u001b[0m         \u001b[0;31m# 벡터 요소를 배열로 저장\u001b[0m\u001b[0;34m\u001b[0m\u001b[0;34m\u001b[0m\u001b[0;34m\u001b[0m\u001b[0m\n\u001b[0;32m---> 15\u001b[0;31m         \u001b[0mself\u001b[0m\u001b[0;34m.\u001b[0m\u001b[0m_components\u001b[0m \u001b[0;34m=\u001b[0m \u001b[0marray\u001b[0m\u001b[0;34m(\u001b[0m\u001b[0mself\u001b[0m\u001b[0;34m.\u001b[0m\u001b[0mtypecode\u001b[0m\u001b[0;34m,\u001b[0m \u001b[0mcomponents\u001b[0m\u001b[0;34m)\u001b[0m\u001b[0;34m\u001b[0m\u001b[0;34m\u001b[0m\u001b[0m\n\u001b[0m\u001b[1;32m     16\u001b[0m \u001b[0;34m\u001b[0m\u001b[0m\n\u001b[1;32m     17\u001b[0m     \u001b[0;34m\"\"\"시퀀스 프로토콜 구현\"\"\"\u001b[0m\u001b[0;34m\u001b[0m\u001b[0;34m\u001b[0m\u001b[0m\n",
      "\u001b[0;32m<ipython-input-24-a90defe982bc>\u001b[0m in \u001b[0;36m<genexpr>\u001b[0;34m(.0)\u001b[0m\n\u001b[1;32m    126\u001b[0m     \u001b[0;32mdef\u001b[0m \u001b[0m__add__\u001b[0m\u001b[0;34m(\u001b[0m\u001b[0mself\u001b[0m\u001b[0;34m,\u001b[0m \u001b[0mother\u001b[0m\u001b[0;34m)\u001b[0m\u001b[0;34m:\u001b[0m\u001b[0;34m\u001b[0m\u001b[0;34m\u001b[0m\u001b[0m\n\u001b[1;32m    127\u001b[0m         \u001b[0mpairs\u001b[0m \u001b[0;34m=\u001b[0m \u001b[0mitertools\u001b[0m\u001b[0;34m.\u001b[0m\u001b[0mzip_longest\u001b[0m\u001b[0;34m(\u001b[0m\u001b[0mself\u001b[0m\u001b[0;34m,\u001b[0m \u001b[0mother\u001b[0m\u001b[0;34m,\u001b[0m \u001b[0mfillvalue\u001b[0m\u001b[0;34m=\u001b[0m\u001b[0;36m0.0\u001b[0m\u001b[0;34m)\u001b[0m\u001b[0;34m\u001b[0m\u001b[0;34m\u001b[0m\u001b[0m\n\u001b[0;32m--> 128\u001b[0;31m         \u001b[0;32mreturn\u001b[0m \u001b[0mVector\u001b[0m\u001b[0;34m(\u001b[0m\u001b[0ma\u001b[0m \u001b[0;34m+\u001b[0m \u001b[0mb\u001b[0m \u001b[0;32mfor\u001b[0m \u001b[0ma\u001b[0m\u001b[0;34m,\u001b[0m \u001b[0mb\u001b[0m \u001b[0;32min\u001b[0m \u001b[0mpairs\u001b[0m\u001b[0;34m)\u001b[0m\u001b[0;34m\u001b[0m\u001b[0;34m\u001b[0m\u001b[0m\n\u001b[0m\u001b[1;32m    129\u001b[0m \u001b[0;34m\u001b[0m\u001b[0m\n\u001b[1;32m    130\u001b[0m     \u001b[0;32mdef\u001b[0m \u001b[0m__radd__\u001b[0m\u001b[0;34m(\u001b[0m\u001b[0mself\u001b[0m\u001b[0;34m,\u001b[0m \u001b[0mother\u001b[0m\u001b[0;34m)\u001b[0m\u001b[0;34m:\u001b[0m\u001b[0;34m\u001b[0m\u001b[0;34m\u001b[0m\u001b[0m\n",
      "\u001b[0;31mTypeError\u001b[0m: unsupported operand type(s) for +: 'float' and 'str'"
     ]
    }
   ],
   "source": [
    "v1 + 'ABC'"
   ]
  },
  {
   "cell_type": "markdown",
   "metadata": {},
   "source": [
    "위 두 예제는 심각한 문제가 있다. 비호환성 문제 때문에 적절한 결과를 반환할 수 없을 때는 TypeError가 아닌 NotImplemented를 반환해야 파이썬이 다른 피연산자 자료형의 구현자에게 연산을 처리할 수 있는 기회를 줄 수 있기 때문이다. 따라서 다음과 같이 수정하자.\n",
    "\n",
    "```python\n",
    "def __add__(self, other):\n",
    "    try:\n",
    "        pairs = itertools.zip_longest(self, other, fillvalue=0.0)\n",
    "        return Vector(a + b for a, b in pairs)\n",
    "    except TypeError:\n",
    "        return NotImplemented\n",
    "    \n",
    "def __radd__(self, other):\n",
    "    return self + other\n",
    "```"
   ]
  },
  {
   "cell_type": "code",
   "execution_count": 30,
   "metadata": {
    "jupyter": {
     "source_hidden": true
    }
   },
   "outputs": [],
   "source": [
    "from array import array\n",
    "import reprlib\n",
    "import math\n",
    "import numbers\n",
    "import functools\n",
    "import operator\n",
    "import itertools # chain() 함수를 사용하기 위함\n",
    "\n",
    "class Vector:\n",
    "    typecode = 'd'\n",
    "    shortcut_names = 'xyzt'\n",
    "    \n",
    "    def __init__(self, components):\n",
    "        # 벡터 요소를 배열로 저장\n",
    "        self._components = array(self.typecode, components)\n",
    "    \n",
    "    \"\"\"시퀀스 프로토콜 구현\"\"\"\n",
    "    def __len__(self):\n",
    "        return len(self._components)\n",
    "    \n",
    "    def __getitem__(self, index):\n",
    "        cls = type(self) # 객체의 클래스를 가져옴\n",
    "        if isinstance(index, slice): # index가 슬라이스이면\n",
    "            return cls(self._components[index]) # Vector 객체를 생성\n",
    "        elif isinstance(index, numbers.Integral): # index가 정수형이면\n",
    "            return self._components[index] # 해당 항목 반환\n",
    "        else:\n",
    "            msg = '{cls.__name__} indices must be integers'\n",
    "            raise TypeError(msg.format(cls=cls)) \n",
    "    \"\"\"시퀀스 프로토콜 구현 종료\"\"\"\n",
    "    \n",
    "    def __getattr__(self, name):\n",
    "        cls = type(self)\n",
    "        if len(name) == 1: # name이 한글자이면 \n",
    "            pos = cls.shortcut_names.find(name)\n",
    "            if 0 <= pos < len(self._components): # 포지션이 범위 내에 있으면 배열 항목 반환\n",
    "                return self._components[pos]\n",
    "        msg = '{.__name__!r} object has no attribute {!r}' \n",
    "        raise AttributeError(msg.format(cls, name))\n",
    "        \n",
    "    def __setattr__(self, name, value):\n",
    "        cls = type(self)\n",
    "        if len(name) == 1:\n",
    "            if name in cls.shortcut_names:\n",
    "                error = 'readonly attribute {attr_name!r}' # xyzt 중 하나는 구체적으로 오류 발생\n",
    "            elif name.islower():\n",
    "                error = \"can't set attributes 'a' to 'z' in {cls_name!r}\" # 그외 소문자면 일반적 메세지 오류 발생\n",
    "            else:\n",
    "                error = ''\n",
    "            if error:\n",
    "                msg = error.format(cls_name=cls.__name__, attr_name=name)\n",
    "                raise AttributeError(msg)\n",
    "        # 에러가 발생하지 않을 때는 정상적으로 __setattr__() 메서드 호출\n",
    "        super().__setattr__(name, value) \n",
    "        \n",
    "    def angle(self, n):\n",
    "        r = math.sqrt(sum(x * x for x in self[n:]))\n",
    "        a = math.atan2(r, self[n-1])\n",
    "        if (n == len(self) - 1) and (self[-1]<0):\n",
    "            return math.pi * 2 - a\n",
    "        else:\n",
    "            return a\n",
    "        \n",
    "    def angles(self):\n",
    "        return (self.angle(n) for n in range(1, len(self)))\n",
    "    \n",
    "    def __format__(self, fmt_spec=''):\n",
    "        if fmt_spec.endswith('h'): # 초구면좌표\n",
    "            fmt_spec = fmt_spec[:-1]\n",
    "            coords = itertools.chain([abs(self)],\n",
    "                                    self.angles()) \n",
    "            outer_fmt = '<{}>'\n",
    "        else:\n",
    "            coords = self\n",
    "            outer_fmt = '({})'\n",
    "        components = (format(c, fmt_spec) for c in coords)\n",
    "        return outer_fmt.format(', '.join(components))\n",
    "    \n",
    "    def __iter__(self):\n",
    "        return iter(self._components) # 반복할 수 있도록 구현\n",
    "    \n",
    "    def __repr__(self):\n",
    "        components = reprlib.repr(self._components) # 제한된 길이로 출력\n",
    "        components = components[components.find('['):-1] # 문자열 중 앞에 나오는 \"array('d',\" 를 제거\n",
    "        return 'Vector({})'.format(components)\n",
    "    \n",
    "    def __str__(self):\n",
    "        return str(tuple(self))\n",
    "    \n",
    "    def __bytes__(self):\n",
    "        return (bytes([ord(self.typecode)]) + \n",
    "               bytes(self._components))\n",
    "    \n",
    "    def __eq__(self, other):\n",
    "        if len(self) != len(other): # 길이가 다르면 False\n",
    "            return False\n",
    "        for a, b in zip(self, other): # 제너레이터로부터 하나씩 비교\n",
    "            if a != b:\n",
    "                return False\n",
    "        return True\n",
    "    \n",
    "    def __hash__(self):\n",
    "        hashes = (hash(x) for x in self._components) # 제너레이터 표현식 이용\n",
    "        return functools.reduce(operator.xor, hasehs, 0) # 초기값을 0으로 함\n",
    "    \n",
    "    def __abs__(self):\n",
    "        return math.sqrt(sum(x * x for x in self))\n",
    "    \n",
    "    def __bool__(self):\n",
    "        return bool(abs(self))\n",
    "    \n",
    "    @classmethod\n",
    "    def frombytes(cls, octets):\n",
    "        typecode = chr(octets[0])\n",
    "        memv = memoryview(octets[1:]).cast(typecode)\n",
    "        return cls(memv) # 언패킹할 필요가 없음\n",
    "    \n",
    "    # -x 구현\n",
    "    def __neg__(self):\n",
    "        return Vector(-x for x in self)\n",
    "    \n",
    "    # +x 구현\n",
    "    def __pos__(self):\n",
    "        return Vector(self)\n",
    "\n",
    "    def __add__(self, other):\n",
    "        try:\n",
    "            pairs = itertools.zip_longest(self, other, fillvalue=0.0)\n",
    "            return Vector(a + b for a, b in pairs)\n",
    "        except TypeError:\n",
    "            return NotImplemented\n",
    "\n",
    "    def __radd__(self, other):\n",
    "        return self + other"
   ]
  },
  {
   "cell_type": "markdown",
   "metadata": {},
   "source": [
    "## 13.4 벡터를 스칼라와 곱하기 위해 `*` 오버로딩하기\n",
    "\n",
    "`Vector` 클래스에 스칼라곱을 정의하자. 먼저 다음과 같이 간단하게 구현해보자.\n",
    "\n",
    "```python\n",
    "def __mul__(self, scalar):\n",
    "    return Vector(n * scalar for n in self)\n",
    "\n",
    "def __rmul__(self, scalar):\n",
    "    return self * scalar\n",
    "```\n",
    "\n",
    "`scalar` 인수는 `float` 형을 곱했을 때 `float` 형 결과가 나오는 숫자여야 한다. 따라서 `int`, `bool`, `fractions.Fraction` 등도 가능하다. \n",
    "\n",
    "이제 TypeError를 잡기 위해 구스 타이핑 기법을 이용해보자. `isinstance(numbers.Real)` ABC를 이용하면 이 메서드에 필요한 자료형을 모두 포함할 뿐 아니라 향후에 `numbers.Real` ABC의 실제 서브클래스나 가상 서브클래스로 선언된 수치형 자료도 모두 포함한다.\n",
    "\n",
    "```python\n",
    "def __mul__(self, scalar):\n",
    "    if isinstance(scalar, numbers.Real): # scalar가 numbers.Real 서브클래스의 객체면 Vector 객체 생성\n",
    "        return Vector(n * scalar for n in self)\n",
    "    else: # 아니면 NotImplemented를 반환해서 스칼라 피연산자에 __rmul__()` 메서드를 시도해볼 수 있도록 한다\n",
    "        return NotImplemented \n",
    "\n",
    "def __rmul__(self, scalar):\n",
    "    return self * scalar\n",
    "```"
   ]
  },
  {
   "cell_type": "code",
   "execution_count": 32,
   "metadata": {
    "jupyter": {
     "source_hidden": true
    }
   },
   "outputs": [],
   "source": [
    "from array import array\n",
    "import reprlib\n",
    "import math\n",
    "import numbers\n",
    "import functools\n",
    "import operator\n",
    "import itertools # chain() 함수를 사용하기 위함\n",
    "\n",
    "class Vector:\n",
    "    typecode = 'd'\n",
    "    shortcut_names = 'xyzt'\n",
    "    \n",
    "    def __init__(self, components):\n",
    "        # 벡터 요소를 배열로 저장\n",
    "        self._components = array(self.typecode, components)\n",
    "    \n",
    "    \"\"\"시퀀스 프로토콜 구현\"\"\"\n",
    "    def __len__(self):\n",
    "        return len(self._components)\n",
    "    \n",
    "    def __getitem__(self, index):\n",
    "        cls = type(self) # 객체의 클래스를 가져옴\n",
    "        if isinstance(index, slice): # index가 슬라이스이면\n",
    "            return cls(self._components[index]) # Vector 객체를 생성\n",
    "        elif isinstance(index, numbers.Integral): # index가 정수형이면\n",
    "            return self._components[index] # 해당 항목 반환\n",
    "        else:\n",
    "            msg = '{cls.__name__} indices must be integers'\n",
    "            raise TypeError(msg.format(cls=cls)) \n",
    "    \"\"\"시퀀스 프로토콜 구현 종료\"\"\"\n",
    "    \n",
    "    def __getattr__(self, name):\n",
    "        cls = type(self)\n",
    "        if len(name) == 1: # name이 한글자이면 \n",
    "            pos = cls.shortcut_names.find(name)\n",
    "            if 0 <= pos < len(self._components): # 포지션이 범위 내에 있으면 배열 항목 반환\n",
    "                return self._components[pos]\n",
    "        msg = '{.__name__!r} object has no attribute {!r}' \n",
    "        raise AttributeError(msg.format(cls, name))\n",
    "        \n",
    "    def __setattr__(self, name, value):\n",
    "        cls = type(self)\n",
    "        if len(name) == 1:\n",
    "            if name in cls.shortcut_names:\n",
    "                error = 'readonly attribute {attr_name!r}' # xyzt 중 하나는 구체적으로 오류 발생\n",
    "            elif name.islower():\n",
    "                error = \"can't set attributes 'a' to 'z' in {cls_name!r}\" # 그외 소문자면 일반적 메세지 오류 발생\n",
    "            else:\n",
    "                error = ''\n",
    "            if error:\n",
    "                msg = error.format(cls_name=cls.__name__, attr_name=name)\n",
    "                raise AttributeError(msg)\n",
    "        # 에러가 발생하지 않을 때는 정상적으로 __setattr__() 메서드 호출\n",
    "        super().__setattr__(name, value) \n",
    "        \n",
    "    def angle(self, n):\n",
    "        r = math.sqrt(sum(x * x for x in self[n:]))\n",
    "        a = math.atan2(r, self[n-1])\n",
    "        if (n == len(self) - 1) and (self[-1]<0):\n",
    "            return math.pi * 2 - a\n",
    "        else:\n",
    "            return a\n",
    "        \n",
    "    def angles(self):\n",
    "        return (self.angle(n) for n in range(1, len(self)))\n",
    "    \n",
    "    def __format__(self, fmt_spec=''):\n",
    "        if fmt_spec.endswith('h'): # 초구면좌표\n",
    "            fmt_spec = fmt_spec[:-1]\n",
    "            coords = itertools.chain([abs(self)],\n",
    "                                    self.angles()) \n",
    "            outer_fmt = '<{}>'\n",
    "        else:\n",
    "            coords = self\n",
    "            outer_fmt = '({})'\n",
    "        components = (format(c, fmt_spec) for c in coords)\n",
    "        return outer_fmt.format(', '.join(components))\n",
    "    \n",
    "    def __iter__(self):\n",
    "        return iter(self._components) # 반복할 수 있도록 구현\n",
    "    \n",
    "    def __repr__(self):\n",
    "        components = reprlib.repr(self._components) # 제한된 길이로 출력\n",
    "        components = components[components.find('['):-1] # 문자열 중 앞에 나오는 \"array('d',\" 를 제거\n",
    "        return 'Vector({})'.format(components)\n",
    "    \n",
    "    def __str__(self):\n",
    "        return str(tuple(self))\n",
    "    \n",
    "    def __bytes__(self):\n",
    "        return (bytes([ord(self.typecode)]) + \n",
    "               bytes(self._components))\n",
    "    \n",
    "    def __eq__(self, other):\n",
    "        if len(self) != len(other): # 길이가 다르면 False\n",
    "            return False\n",
    "        for a, b in zip(self, other): # 제너레이터로부터 하나씩 비교\n",
    "            if a != b:\n",
    "                return False\n",
    "        return True\n",
    "    \n",
    "    def __hash__(self):\n",
    "        hashes = (hash(x) for x in self._components) # 제너레이터 표현식 이용\n",
    "        return functools.reduce(operator.xor, hasehs, 0) # 초기값을 0으로 함\n",
    "    \n",
    "    def __abs__(self):\n",
    "        return math.sqrt(sum(x * x for x in self))\n",
    "    \n",
    "    def __bool__(self):\n",
    "        return bool(abs(self))\n",
    "    \n",
    "    @classmethod\n",
    "    def frombytes(cls, octets):\n",
    "        typecode = chr(octets[0])\n",
    "        memv = memoryview(octets[1:]).cast(typecode)\n",
    "        return cls(memv) # 언패킹할 필요가 없음\n",
    "    \n",
    "    # -x 구현\n",
    "    def __neg__(self):\n",
    "        return Vector(-x for x in self)\n",
    "    \n",
    "    # +x 구현\n",
    "    def __pos__(self):\n",
    "        return Vector(self)\n",
    "\n",
    "    def __add__(self, other):\n",
    "        try:\n",
    "            pairs = itertools.zip_longest(self, other, fillvalue=0.0)\n",
    "            return Vector(a + b for a, b in pairs)\n",
    "        except TypeError:\n",
    "            return NotImplemented\n",
    "\n",
    "    def __radd__(self, other):\n",
    "        return self + other\n",
    "    \n",
    "    def __mul__(self, scalar):\n",
    "        if isinstance(scalar, numbers.Real):\n",
    "            return Vector(n * scalar for n in self)\n",
    "        else:\n",
    "            return NotImplemented\n",
    "\n",
    "    def __rmul__(self, scalar):\n",
    "        return self * scalar"
   ]
  },
  {
   "cell_type": "code",
   "execution_count": 33,
   "metadata": {},
   "outputs": [
    {
     "data": {
      "text/plain": [
       "Vector([14.0, 28.0, 42.0])"
      ]
     },
     "execution_count": 33,
     "metadata": {},
     "output_type": "execute_result"
    }
   ],
   "source": [
    "v1 = Vector([1,2,3])\n",
    "14 * v1"
   ]
  },
  {
   "cell_type": "code",
   "execution_count": 34,
   "metadata": {},
   "outputs": [
    {
     "data": {
      "text/plain": [
       "Vector([1.0, 2.0, 3.0])"
      ]
     },
     "execution_count": 34,
     "metadata": {},
     "output_type": "execute_result"
    }
   ],
   "source": [
    "v1 * True"
   ]
  },
  {
   "cell_type": "code",
   "execution_count": 35,
   "metadata": {},
   "outputs": [
    {
     "data": {
      "text/plain": [
       "Vector([0.3333333333333333, 0.6666666666666666, 1.0])"
      ]
     },
     "execution_count": 35,
     "metadata": {},
     "output_type": "execute_result"
    }
   ],
   "source": [
    "from fractions import Fraction\n",
    "v1 * Fraction(1, 3)"
   ]
  },
  {
   "cell_type": "markdown",
   "metadata": {},
   "source": [
    "fractions.Fraction(a,b) 는 a/b 를 반환"
   ]
  },
  {
   "cell_type": "code",
   "execution_count": 37,
   "metadata": {},
   "outputs": [
    {
     "data": {
      "text/plain": [
       "0.2"
      ]
     },
     "execution_count": 37,
     "metadata": {},
     "output_type": "execute_result"
    }
   ],
   "source": [
    "float(Fraction(1,5))"
   ]
  },
  {
   "cell_type": "markdown",
   "metadata": {},
   "source": [
    "파이썬에서 지원하는 중위 연산자는 다음과 같다.\n",
    "\n",
    "<img src = 'images/13_1.PNG' width=500>\n",
    "\n",
    "<img src = 'images/13_2.PNG' width=500>\n",
    "\n",
    "마지막으로 파이썬 3.5에 소개된 @ 연산자를 ARABOJA. 이 연산자는 행렬의 내적을 나타내며, `__matmul__()` 등의 특별 메서드에 의해 지원된다.\n",
    "\n",
    "```python\n",
    "def __matmul__(self, other):\n",
    "    try:\n",
    "        return sum(a * b for a, b in zip(self, other))\n",
    "    except TypeError:\n",
    "        return NotImplemented\n",
    "\n",
    "def __rmatmul__(self, other):\n",
    "    return self @ other\n",
    "```"
   ]
  },
  {
   "cell_type": "code",
   "execution_count": 39,
   "metadata": {
    "jupyter": {
     "source_hidden": true
    }
   },
   "outputs": [],
   "source": [
    "from array import array\n",
    "import reprlib\n",
    "import math\n",
    "import numbers\n",
    "import functools\n",
    "import operator\n",
    "import itertools # chain() 함수를 사용하기 위함\n",
    "\n",
    "class Vector:\n",
    "    typecode = 'd'\n",
    "    shortcut_names = 'xyzt'\n",
    "    \n",
    "    def __init__(self, components):\n",
    "        # 벡터 요소를 배열로 저장\n",
    "        self._components = array(self.typecode, components)\n",
    "    \n",
    "    \"\"\"시퀀스 프로토콜 구현\"\"\"\n",
    "    def __len__(self):\n",
    "        return len(self._components)\n",
    "    \n",
    "    def __getitem__(self, index):\n",
    "        cls = type(self) # 객체의 클래스를 가져옴\n",
    "        if isinstance(index, slice): # index가 슬라이스이면\n",
    "            return cls(self._components[index]) # Vector 객체를 생성\n",
    "        elif isinstance(index, numbers.Integral): # index가 정수형이면\n",
    "            return self._components[index] # 해당 항목 반환\n",
    "        else:\n",
    "            msg = '{cls.__name__} indices must be integers'\n",
    "            raise TypeError(msg.format(cls=cls)) \n",
    "    \"\"\"시퀀스 프로토콜 구현 종료\"\"\"\n",
    "    \n",
    "    def __getattr__(self, name):\n",
    "        cls = type(self)\n",
    "        if len(name) == 1: # name이 한글자이면 \n",
    "            pos = cls.shortcut_names.find(name)\n",
    "            if 0 <= pos < len(self._components): # 포지션이 범위 내에 있으면 배열 항목 반환\n",
    "                return self._components[pos]\n",
    "        msg = '{.__name__!r} object has no attribute {!r}' \n",
    "        raise AttributeError(msg.format(cls, name))\n",
    "        \n",
    "    def __setattr__(self, name, value):\n",
    "        cls = type(self)\n",
    "        if len(name) == 1:\n",
    "            if name in cls.shortcut_names:\n",
    "                error = 'readonly attribute {attr_name!r}' # xyzt 중 하나는 구체적으로 오류 발생\n",
    "            elif name.islower():\n",
    "                error = \"can't set attributes 'a' to 'z' in {cls_name!r}\" # 그외 소문자면 일반적 메세지 오류 발생\n",
    "            else:\n",
    "                error = ''\n",
    "            if error:\n",
    "                msg = error.format(cls_name=cls.__name__, attr_name=name)\n",
    "                raise AttributeError(msg)\n",
    "        # 에러가 발생하지 않을 때는 정상적으로 __setattr__() 메서드 호출\n",
    "        super().__setattr__(name, value) \n",
    "        \n",
    "    def angle(self, n):\n",
    "        r = math.sqrt(sum(x * x for x in self[n:]))\n",
    "        a = math.atan2(r, self[n-1])\n",
    "        if (n == len(self) - 1) and (self[-1]<0):\n",
    "            return math.pi * 2 - a\n",
    "        else:\n",
    "            return a\n",
    "        \n",
    "    def angles(self):\n",
    "        return (self.angle(n) for n in range(1, len(self)))\n",
    "    \n",
    "    def __format__(self, fmt_spec=''):\n",
    "        if fmt_spec.endswith('h'): # 초구면좌표\n",
    "            fmt_spec = fmt_spec[:-1]\n",
    "            coords = itertools.chain([abs(self)],\n",
    "                                    self.angles()) \n",
    "            outer_fmt = '<{}>'\n",
    "        else:\n",
    "            coords = self\n",
    "            outer_fmt = '({})'\n",
    "        components = (format(c, fmt_spec) for c in coords)\n",
    "        return outer_fmt.format(', '.join(components))\n",
    "    \n",
    "    def __iter__(self):\n",
    "        return iter(self._components) # 반복할 수 있도록 구현\n",
    "    \n",
    "    def __repr__(self):\n",
    "        components = reprlib.repr(self._components) # 제한된 길이로 출력\n",
    "        components = components[components.find('['):-1] # 문자열 중 앞에 나오는 \"array('d',\" 를 제거\n",
    "        return 'Vector({})'.format(components)\n",
    "    \n",
    "    def __str__(self):\n",
    "        return str(tuple(self))\n",
    "    \n",
    "    def __bytes__(self):\n",
    "        return (bytes([ord(self.typecode)]) + \n",
    "               bytes(self._components))\n",
    "    \n",
    "    def __eq__(self, other):\n",
    "        if len(self) != len(other): # 길이가 다르면 False\n",
    "            return False\n",
    "        for a, b in zip(self, other): # 제너레이터로부터 하나씩 비교\n",
    "            if a != b:\n",
    "                return False\n",
    "        return True\n",
    "    \n",
    "    def __hash__(self):\n",
    "        hashes = (hash(x) for x in self._components) # 제너레이터 표현식 이용\n",
    "        return functools.reduce(operator.xor, hasehs, 0) # 초기값을 0으로 함\n",
    "    \n",
    "    def __abs__(self):\n",
    "        return math.sqrt(sum(x * x for x in self))\n",
    "    \n",
    "    def __bool__(self):\n",
    "        return bool(abs(self))\n",
    "    \n",
    "    @classmethod\n",
    "    def frombytes(cls, octets):\n",
    "        typecode = chr(octets[0])\n",
    "        memv = memoryview(octets[1:]).cast(typecode)\n",
    "        return cls(memv) # 언패킹할 필요가 없음\n",
    "    \n",
    "    # -x 구현\n",
    "    def __neg__(self):\n",
    "        return Vector(-x for x in self)\n",
    "    \n",
    "    # +x 구현\n",
    "    def __pos__(self):\n",
    "        return Vector(self)\n",
    "\n",
    "    def __add__(self, other):\n",
    "        try:\n",
    "            pairs = itertools.zip_longest(self, other, fillvalue=0.0)\n",
    "            return Vector(a + b for a, b in pairs)\n",
    "        except TypeError:\n",
    "            return NotImplemented\n",
    "\n",
    "    def __radd__(self, other):\n",
    "        return self + other\n",
    "    \n",
    "    def __mul__(self, scalar):\n",
    "        if isinstance(scalar, numbers.Real):\n",
    "            return Vector(n * scalar for n in self)\n",
    "        else:\n",
    "            return NotImplemented\n",
    "\n",
    "    def __rmul__(self, scalar):\n",
    "        return self * scalar\n",
    "    \n",
    "    def __matmul__(self, other):\n",
    "        try:\n",
    "            return sum(a * b for a, b in zip(self, other))\n",
    "        except TypeError:\n",
    "            return NotImplemented\n",
    "\n",
    "    def __rmatmul__(self, other):\n",
    "        return self @ other"
   ]
  },
  {
   "cell_type": "code",
   "execution_count": 40,
   "metadata": {},
   "outputs": [
    {
     "data": {
      "text/plain": [
       "38.0"
      ]
     },
     "execution_count": 40,
     "metadata": {},
     "output_type": "execute_result"
    }
   ],
   "source": [
    "va = Vector([1,2,3])\n",
    "vz = Vector([5,6,7])\n",
    "va @ vz"
   ]
  },
  {
   "cell_type": "markdown",
   "metadata": {},
   "source": [
    "## 13.5 향상된 비교 연산자\n",
    "\n",
    "파이썬 인터프리터가 `==`, `!=`, `>`, `<`, `>=`, `<=` 비교 연산자를 다루는 방법은 앞과 비슷하지만 다음 차이점이 있다.\n",
    "\n",
    "* 정방향과 역순 연산자에 동일한 세트의 메서드가 사용된다. 예를 들어 정방향으로 `__gt__()` 메서드를 호출하는 경우 역순으로는 인수를 바꿔서 `__lt__()` 메서드를 호출한다.\n",
    "* `==`와 `!=` 연산자는 역순 메서드가 실패하면 파이썬은 TypeError를 발생시키는 대신 객체의 ID를 비교한다.\n",
    "\n",
    "<img src = 'images/13_3.PNG'  width=500>"
   ]
  },
  {
   "cell_type": "markdown",
   "metadata": {},
   "source": [
    "`Vector.__eq__()` 메서드를 다음과 같이 개선해보자.\n",
    "\n",
    "```python\n",
    "def __eq__(self, other):\n",
    "    return (len(self) == len(other) and \n",
    "            all(a == b for a, b in zip(self, other)))\n",
    "```"
   ]
  },
  {
   "cell_type": "code",
   "execution_count": 42,
   "metadata": {
    "jupyter": {
     "source_hidden": true
    }
   },
   "outputs": [],
   "source": [
    "from array import array\n",
    "import reprlib\n",
    "import math\n",
    "import numbers\n",
    "import functools\n",
    "import operator\n",
    "import itertools # chain() 함수를 사용하기 위함\n",
    "\n",
    "class Vector:\n",
    "    typecode = 'd'\n",
    "    shortcut_names = 'xyzt'\n",
    "    \n",
    "    def __init__(self, components):\n",
    "        # 벡터 요소를 배열로 저장\n",
    "        self._components = array(self.typecode, components)\n",
    "    \n",
    "    \"\"\"시퀀스 프로토콜 구현\"\"\"\n",
    "    def __len__(self):\n",
    "        return len(self._components)\n",
    "    \n",
    "    def __getitem__(self, index):\n",
    "        cls = type(self) # 객체의 클래스를 가져옴\n",
    "        if isinstance(index, slice): # index가 슬라이스이면\n",
    "            return cls(self._components[index]) # Vector 객체를 생성\n",
    "        elif isinstance(index, numbers.Integral): # index가 정수형이면\n",
    "            return self._components[index] # 해당 항목 반환\n",
    "        else:\n",
    "            msg = '{cls.__name__} indices must be integers'\n",
    "            raise TypeError(msg.format(cls=cls)) \n",
    "    \"\"\"시퀀스 프로토콜 구현 종료\"\"\"\n",
    "    \n",
    "    def __getattr__(self, name):\n",
    "        cls = type(self)\n",
    "        if len(name) == 1: # name이 한글자이면 \n",
    "            pos = cls.shortcut_names.find(name)\n",
    "            if 0 <= pos < len(self._components): # 포지션이 범위 내에 있으면 배열 항목 반환\n",
    "                return self._components[pos]\n",
    "        msg = '{.__name__!r} object has no attribute {!r}' \n",
    "        raise AttributeError(msg.format(cls, name))\n",
    "        \n",
    "    def __setattr__(self, name, value):\n",
    "        cls = type(self)\n",
    "        if len(name) == 1:\n",
    "            if name in cls.shortcut_names:\n",
    "                error = 'readonly attribute {attr_name!r}' # xyzt 중 하나는 구체적으로 오류 발생\n",
    "            elif name.islower():\n",
    "                error = \"can't set attributes 'a' to 'z' in {cls_name!r}\" # 그외 소문자면 일반적 메세지 오류 발생\n",
    "            else:\n",
    "                error = ''\n",
    "            if error:\n",
    "                msg = error.format(cls_name=cls.__name__, attr_name=name)\n",
    "                raise AttributeError(msg)\n",
    "        # 에러가 발생하지 않을 때는 정상적으로 __setattr__() 메서드 호출\n",
    "        super().__setattr__(name, value) \n",
    "        \n",
    "    def angle(self, n):\n",
    "        r = math.sqrt(sum(x * x for x in self[n:]))\n",
    "        a = math.atan2(r, self[n-1])\n",
    "        if (n == len(self) - 1) and (self[-1]<0):\n",
    "            return math.pi * 2 - a\n",
    "        else:\n",
    "            return a\n",
    "        \n",
    "    def angles(self):\n",
    "        return (self.angle(n) for n in range(1, len(self)))\n",
    "    \n",
    "    def __format__(self, fmt_spec=''):\n",
    "        if fmt_spec.endswith('h'): # 초구면좌표\n",
    "            fmt_spec = fmt_spec[:-1]\n",
    "            coords = itertools.chain([abs(self)],\n",
    "                                    self.angles()) \n",
    "            outer_fmt = '<{}>'\n",
    "        else:\n",
    "            coords = self\n",
    "            outer_fmt = '({})'\n",
    "        components = (format(c, fmt_spec) for c in coords)\n",
    "        return outer_fmt.format(', '.join(components))\n",
    "    \n",
    "    def __iter__(self):\n",
    "        return iter(self._components) # 반복할 수 있도록 구현\n",
    "    \n",
    "    def __repr__(self):\n",
    "        components = reprlib.repr(self._components) # 제한된 길이로 출력\n",
    "        components = components[components.find('['):-1] # 문자열 중 앞에 나오는 \"array('d',\" 를 제거\n",
    "        return 'Vector({})'.format(components)\n",
    "    \n",
    "    def __str__(self):\n",
    "        return str(tuple(self))\n",
    "    \n",
    "    def __bytes__(self):\n",
    "        return (bytes([ord(self.typecode)]) + \n",
    "               bytes(self._components))\n",
    "    \n",
    "    def __eq__(self, other):\n",
    "        return (len(self) == len(other) and \n",
    "                all(a == b for a, b in zip(self, other)))\n",
    "    \n",
    "    def __hash__(self):\n",
    "        hashes = (hash(x) for x in self._components) # 제너레이터 표현식 이용\n",
    "        return functools.reduce(operator.xor, hasehs, 0) # 초기값을 0으로 함\n",
    "    \n",
    "    def __abs__(self):\n",
    "        return math.sqrt(sum(x * x for x in self))\n",
    "    \n",
    "    def __bool__(self):\n",
    "        return bool(abs(self))\n",
    "    \n",
    "    @classmethod\n",
    "    def frombytes(cls, octets):\n",
    "        typecode = chr(octets[0])\n",
    "        memv = memoryview(octets[1:]).cast(typecode)\n",
    "        return cls(memv) # 언패킹할 필요가 없음\n",
    "    \n",
    "    # -x 구현\n",
    "    def __neg__(self):\n",
    "        return Vector(-x for x in self)\n",
    "    \n",
    "    # +x 구현\n",
    "    def __pos__(self):\n",
    "        return Vector(self)\n",
    "\n",
    "    def __add__(self, other):\n",
    "        try:\n",
    "            pairs = itertools.zip_longest(self, other, fillvalue=0.0)\n",
    "            return Vector(a + b for a, b in pairs)\n",
    "        except TypeError:\n",
    "            return NotImplemented\n",
    "\n",
    "    def __radd__(self, other):\n",
    "        return self + other\n",
    "    \n",
    "    def __mul__(self, scalar):\n",
    "        if isinstance(scalar, numbers.Real):\n",
    "            return Vector(n * scalar for n in self)\n",
    "        else:\n",
    "            return NotImplemented\n",
    "\n",
    "    def __rmul__(self, scalar):\n",
    "        return self * scalar\n",
    "    \n",
    "    def __matmul__(self, other):\n",
    "        try:\n",
    "            return sum(a * b for a, b in zip(self, other))\n",
    "        except TypeError:\n",
    "            return NotImplemented\n",
    "\n",
    "    def __rmatmul__(self, other):\n",
    "        return self @ other"
   ]
  },
  {
   "cell_type": "code",
   "execution_count": 43,
   "metadata": {},
   "outputs": [
    {
     "data": {
      "text/plain": [
       "True"
      ]
     },
     "execution_count": 43,
     "metadata": {},
     "output_type": "execute_result"
    }
   ],
   "source": [
    "va = Vector([1,2,3])\n",
    "vb = Vector(range(1,4))\n",
    "va == vb"
   ]
  },
  {
   "cell_type": "code",
   "execution_count": 46,
   "metadata": {},
   "outputs": [
    {
     "ename": "TypeError",
     "evalue": "object of type 'Vector2d' has no len()",
     "output_type": "error",
     "traceback": [
      "\u001b[0;31m---------------------------------------------------------------------------\u001b[0m",
      "\u001b[0;31mTypeError\u001b[0m                                 Traceback (most recent call last)",
      "\u001b[0;32m<ipython-input-46-43fd70654fd7>\u001b[0m in \u001b[0;36m<module>\u001b[0;34m\u001b[0m\n\u001b[1;32m      2\u001b[0m \u001b[0;32mfrom\u001b[0m \u001b[0mvector2d_v3\u001b[0m \u001b[0;32mimport\u001b[0m \u001b[0mVector2d\u001b[0m\u001b[0;34m\u001b[0m\u001b[0;34m\u001b[0m\u001b[0m\n\u001b[1;32m      3\u001b[0m \u001b[0mv2d\u001b[0m \u001b[0;34m=\u001b[0m \u001b[0mVector2d\u001b[0m\u001b[0;34m(\u001b[0m\u001b[0;36m1\u001b[0m\u001b[0;34m,\u001b[0m\u001b[0;36m2\u001b[0m\u001b[0;34m)\u001b[0m\u001b[0;34m\u001b[0m\u001b[0;34m\u001b[0m\u001b[0m\n\u001b[0;32m----> 4\u001b[0;31m \u001b[0mvc\u001b[0m \u001b[0;34m==\u001b[0m \u001b[0mv2d\u001b[0m\u001b[0;34m\u001b[0m\u001b[0;34m\u001b[0m\u001b[0m\n\u001b[0m",
      "\u001b[0;32m<ipython-input-42-813a7e3cbc27>\u001b[0m in \u001b[0;36m__eq__\u001b[0;34m(self, other)\u001b[0m\n\u001b[1;32m     93\u001b[0m \u001b[0;34m\u001b[0m\u001b[0m\n\u001b[1;32m     94\u001b[0m     \u001b[0;32mdef\u001b[0m \u001b[0m__eq__\u001b[0m\u001b[0;34m(\u001b[0m\u001b[0mself\u001b[0m\u001b[0;34m,\u001b[0m \u001b[0mother\u001b[0m\u001b[0;34m)\u001b[0m\u001b[0;34m:\u001b[0m\u001b[0;34m\u001b[0m\u001b[0;34m\u001b[0m\u001b[0m\n\u001b[0;32m---> 95\u001b[0;31m         return (len(self) == len(other) and \n\u001b[0m\u001b[1;32m     96\u001b[0m                 all(a == b for a, b in zip(self, other)))\n\u001b[1;32m     97\u001b[0m \u001b[0;34m\u001b[0m\u001b[0m\n",
      "\u001b[0;31mTypeError\u001b[0m: object of type 'Vector2d' has no len()"
     ]
    }
   ],
   "source": [
    "vc = Vector([1,2])\n",
    "from vector2d_v3 import Vector2d\n",
    "v2d = Vector2d(1,2)\n",
    "vc == v2d"
   ]
  },
  {
   "cell_type": "code",
   "execution_count": 47,
   "metadata": {},
   "outputs": [
    {
     "data": {
      "text/plain": [
       "True"
      ]
     },
     "execution_count": 47,
     "metadata": {},
     "output_type": "execute_result"
    }
   ],
   "source": [
    "t3 = (1,2,3)\n",
    "va == t3"
   ]
  },
  {
   "cell_type": "markdown",
   "metadata": {},
   "source": [
    "두번째는 책에 있는 예제 써도 안되는데... 무튼 세번째는 바람직하지 않을 수도 있는 결과이므로 보수적으로 접근해보자.\n",
    "\n",
    "```python\n",
    "def __eq__(self, other): # other 피연산자가 Vector나 Vector의 서브클래스의 객체면 비교\n",
    "    if isinstance(other, Vector):\n",
    "        return (len(self) == len(other) and \n",
    "                all(a == b for a, b in zip(self, other)))\n",
    "    else: # 아니면 NotImplemented 반환\n",
    "        return NotImplemented\n",
    "```"
   ]
  },
  {
   "cell_type": "code",
   "execution_count": 48,
   "metadata": {
    "jupyter": {
     "source_hidden": true
    }
   },
   "outputs": [],
   "source": [
    "from array import array\n",
    "import reprlib\n",
    "import math\n",
    "import numbers\n",
    "import functools\n",
    "import operator\n",
    "import itertools # chain() 함수를 사용하기 위함\n",
    "\n",
    "class Vector:\n",
    "    typecode = 'd'\n",
    "    shortcut_names = 'xyzt'\n",
    "    \n",
    "    def __init__(self, components):\n",
    "        # 벡터 요소를 배열로 저장\n",
    "        self._components = array(self.typecode, components)\n",
    "    \n",
    "    \"\"\"시퀀스 프로토콜 구현\"\"\"\n",
    "    def __len__(self):\n",
    "        return len(self._components)\n",
    "    \n",
    "    def __getitem__(self, index):\n",
    "        cls = type(self) # 객체의 클래스를 가져옴\n",
    "        if isinstance(index, slice): # index가 슬라이스이면\n",
    "            return cls(self._components[index]) # Vector 객체를 생성\n",
    "        elif isinstance(index, numbers.Integral): # index가 정수형이면\n",
    "            return self._components[index] # 해당 항목 반환\n",
    "        else:\n",
    "            msg = '{cls.__name__} indices must be integers'\n",
    "            raise TypeError(msg.format(cls=cls)) \n",
    "    \"\"\"시퀀스 프로토콜 구현 종료\"\"\"\n",
    "    \n",
    "    def __getattr__(self, name):\n",
    "        cls = type(self)\n",
    "        if len(name) == 1: # name이 한글자이면 \n",
    "            pos = cls.shortcut_names.find(name)\n",
    "            if 0 <= pos < len(self._components): # 포지션이 범위 내에 있으면 배열 항목 반환\n",
    "                return self._components[pos]\n",
    "        msg = '{.__name__!r} object has no attribute {!r}' \n",
    "        raise AttributeError(msg.format(cls, name))\n",
    "        \n",
    "    def __setattr__(self, name, value):\n",
    "        cls = type(self)\n",
    "        if len(name) == 1:\n",
    "            if name in cls.shortcut_names:\n",
    "                error = 'readonly attribute {attr_name!r}' # xyzt 중 하나는 구체적으로 오류 발생\n",
    "            elif name.islower():\n",
    "                error = \"can't set attributes 'a' to 'z' in {cls_name!r}\" # 그외 소문자면 일반적 메세지 오류 발생\n",
    "            else:\n",
    "                error = ''\n",
    "            if error:\n",
    "                msg = error.format(cls_name=cls.__name__, attr_name=name)\n",
    "                raise AttributeError(msg)\n",
    "        # 에러가 발생하지 않을 때는 정상적으로 __setattr__() 메서드 호출\n",
    "        super().__setattr__(name, value) \n",
    "        \n",
    "    def angle(self, n):\n",
    "        r = math.sqrt(sum(x * x for x in self[n:]))\n",
    "        a = math.atan2(r, self[n-1])\n",
    "        if (n == len(self) - 1) and (self[-1]<0):\n",
    "            return math.pi * 2 - a\n",
    "        else:\n",
    "            return a\n",
    "        \n",
    "    def angles(self):\n",
    "        return (self.angle(n) for n in range(1, len(self)))\n",
    "    \n",
    "    def __format__(self, fmt_spec=''):\n",
    "        if fmt_spec.endswith('h'): # 초구면좌표\n",
    "            fmt_spec = fmt_spec[:-1]\n",
    "            coords = itertools.chain([abs(self)],\n",
    "                                    self.angles()) \n",
    "            outer_fmt = '<{}>'\n",
    "        else:\n",
    "            coords = self\n",
    "            outer_fmt = '({})'\n",
    "        components = (format(c, fmt_spec) for c in coords)\n",
    "        return outer_fmt.format(', '.join(components))\n",
    "    \n",
    "    def __iter__(self):\n",
    "        return iter(self._components) # 반복할 수 있도록 구현\n",
    "    \n",
    "    def __repr__(self):\n",
    "        components = reprlib.repr(self._components) # 제한된 길이로 출력\n",
    "        components = components[components.find('['):-1] # 문자열 중 앞에 나오는 \"array('d',\" 를 제거\n",
    "        return 'Vector({})'.format(components)\n",
    "    \n",
    "    def __str__(self):\n",
    "        return str(tuple(self))\n",
    "    \n",
    "    def __bytes__(self):\n",
    "        return (bytes([ord(self.typecode)]) + \n",
    "               bytes(self._components))\n",
    "\n",
    "    def __eq__(self, other):\n",
    "        if isinstance(other, Vector):\n",
    "            return (len(self) == len(other) and \n",
    "                    all(a == b for a, b in zip(self, other)))\n",
    "        else:\n",
    "            return NotImplemented\n",
    "    \n",
    "    def __hash__(self):\n",
    "        hashes = (hash(x) for x in self._components) # 제너레이터 표현식 이용\n",
    "        return functools.reduce(operator.xor, hasehs, 0) # 초기값을 0으로 함\n",
    "    \n",
    "    def __abs__(self):\n",
    "        return math.sqrt(sum(x * x for x in self))\n",
    "    \n",
    "    def __bool__(self):\n",
    "        return bool(abs(self))\n",
    "    \n",
    "    @classmethod\n",
    "    def frombytes(cls, octets):\n",
    "        typecode = chr(octets[0])\n",
    "        memv = memoryview(octets[1:]).cast(typecode)\n",
    "        return cls(memv) # 언패킹할 필요가 없음\n",
    "    \n",
    "    # -x 구현\n",
    "    def __neg__(self):\n",
    "        return Vector(-x for x in self)\n",
    "    \n",
    "    # +x 구현\n",
    "    def __pos__(self):\n",
    "        return Vector(self)\n",
    "\n",
    "    def __add__(self, other):\n",
    "        try:\n",
    "            pairs = itertools.zip_longest(self, other, fillvalue=0.0)\n",
    "            return Vector(a + b for a, b in pairs)\n",
    "        except TypeError:\n",
    "            return NotImplemented\n",
    "\n",
    "    def __radd__(self, other):\n",
    "        return self + other\n",
    "    \n",
    "    def __mul__(self, scalar):\n",
    "        if isinstance(scalar, numbers.Real):\n",
    "            return Vector(n * scalar for n in self)\n",
    "        else:\n",
    "            return NotImplemented\n",
    "\n",
    "    def __rmul__(self, scalar):\n",
    "        return self * scalar\n",
    "    \n",
    "    def __matmul__(self, other):\n",
    "        try:\n",
    "            return sum(a * b for a, b in zip(self, other))\n",
    "        except TypeError:\n",
    "            return NotImplemented\n",
    "\n",
    "    def __rmatmul__(self, other):\n",
    "        return self @ other"
   ]
  },
  {
   "cell_type": "code",
   "execution_count": 49,
   "metadata": {},
   "outputs": [
    {
     "data": {
      "text/plain": [
       "True"
      ]
     },
     "execution_count": 49,
     "metadata": {},
     "output_type": "execute_result"
    }
   ],
   "source": [
    "va = Vector([1,2,3])\n",
    "vb = Vector(range(1,4))\n",
    "va == vb"
   ]
  },
  {
   "cell_type": "code",
   "execution_count": 51,
   "metadata": {},
   "outputs": [
    {
     "data": {
      "text/plain": [
       "True"
      ]
     },
     "execution_count": 51,
     "metadata": {},
     "output_type": "execute_result"
    }
   ],
   "source": [
    "vc = Vector([1,2])\n",
    "from vector2d_v3 import Vector2d\n",
    "v2d = Vector2d(1,2)\n",
    "vc == v2d"
   ]
  },
  {
   "cell_type": "markdown",
   "metadata": {},
   "source": [
    "두번째 예제에서 일어난 일은 다음과 같다.\n",
    "\n",
    "1. `vc == v2d`를 평가하기 위해 파이썬은 `Vector.__eq__(vc, v2d)`를 호출\n",
    "1. `Vector.__eq__(vc, v2d)`는 `v2d`가 Vector 객체가 아님을 확인하고 NotImplemented 반환\n",
    "1. 따라서 파이썬은 `Vector2d.__eq__(v2d, vc)`를 실행\n",
    "1. `Vector2d.__eq__(v2d, vc)`는 피연산자 두 개를 모두 튜플로 변환해서 비교하므로 True 반환"
   ]
  },
  {
   "cell_type": "code",
   "execution_count": 58,
   "metadata": {},
   "outputs": [
    {
     "name": "stdout",
     "output_type": "stream",
     "text": [
      "    def __eq__(self, other):\n",
      "        return tuple(self) == tuple(other)\n"
     ]
    }
   ],
   "source": [
    "!cat vector2d_v3.py | grep -A 1 __eq__"
   ]
  },
  {
   "cell_type": "code",
   "execution_count": 50,
   "metadata": {},
   "outputs": [
    {
     "data": {
      "text/plain": [
       "False"
      ]
     },
     "execution_count": 50,
     "metadata": {},
     "output_type": "execute_result"
    }
   ],
   "source": [
    "t3 = (1,2,3)\n",
    "va == t3"
   ]
  },
  {
   "cell_type": "markdown",
   "metadata": {},
   "source": [
    "세번째 예제에서 일어난 일은 다음과 같다.\n",
    "\n",
    "1. `va == t3`를 평가하기 위해 파이썬 인터프리터가 `Vector.__eq__(va, t3)`를 호출\n",
    "1. `Vector.__eq__(va, t3)`는 `t3`가 Vector 객체가 아님을 확인하고 NotImplemented 반환\n",
    "1. 따라서 파이썬은 `tuple.__eq__(t3, va)`를 실행\n",
    "1. `tuple.__eq__(t3, va)`는 Vector 형에 대해 알지 못하므로 NotImplemented 반환\n",
    "1. `==` 연산자의 경우 특별히 역순 메서드가 NotImplemented를 반환하면 최종적으로 두 객체의 ID 비교"
   ]
  },
  {
   "cell_type": "markdown",
   "metadata": {},
   "source": [
    "`!=` 연산자는 object 클래스에서 상속한 `__ne__()` 메서드가 알아서 처리해주므로 구현할 필요 없다. 즉, `__eq__()` 메서드가 구현되어 있고 NotImplemented를 반환하지 않으면 `__ne__()`는 `__eq__()`가 반환한 값의 반댓값을 반환한다."
   ]
  },
  {
   "cell_type": "code",
   "execution_count": 59,
   "metadata": {},
   "outputs": [
    {
     "data": {
      "text/plain": [
       "False"
      ]
     },
     "execution_count": 59,
     "metadata": {},
     "output_type": "execute_result"
    }
   ],
   "source": [
    "va != vb"
   ]
  },
  {
   "cell_type": "code",
   "execution_count": 60,
   "metadata": {},
   "outputs": [
    {
     "data": {
      "text/plain": [
       "False"
      ]
     },
     "execution_count": 60,
     "metadata": {},
     "output_type": "execute_result"
    }
   ],
   "source": [
    "vc != v2d"
   ]
  },
  {
   "cell_type": "code",
   "execution_count": 61,
   "metadata": {},
   "outputs": [
    {
     "data": {
      "text/plain": [
       "True"
      ]
     },
     "execution_count": 61,
     "metadata": {},
     "output_type": "execute_result"
    }
   ],
   "source": [
    "va != (1,2,3)"
   ]
  },
  {
   "cell_type": "markdown",
   "metadata": {},
   "source": [
    "## 13.6 복합 할당 연산자\n",
    "\n",
    "Vector 클래스는 이미 `+=`과 `*=` 복합 할당 연산자를 지원하고 있다. 이를 확인해보자."
   ]
  },
  {
   "cell_type": "code",
   "execution_count": 70,
   "metadata": {},
   "outputs": [
    {
     "data": {
      "text/plain": [
       "(139695893881352, 139695893881352)"
      ]
     },
     "execution_count": 70,
     "metadata": {},
     "output_type": "execute_result"
    }
   ],
   "source": [
    "v1 = Vector([1,2,3])\n",
    "v1_alias = v1 # 별명을 생성해서 Vector([1,2,3]) 객체를 나중에 다시 조사할 수 있게 한다\n",
    "id(v1), id(v1_alias)"
   ]
  },
  {
   "cell_type": "code",
   "execution_count": 71,
   "metadata": {},
   "outputs": [
    {
     "data": {
      "text/plain": [
       "(Vector([5.0, 7.0, 9.0]), Vector([1.0, 2.0, 3.0]))"
      ]
     },
     "execution_count": 71,
     "metadata": {},
     "output_type": "execute_result"
    }
   ],
   "source": [
    "v1 += Vector([4,5,6])\n",
    "v1, v1_alias"
   ]
  },
  {
   "cell_type": "code",
   "execution_count": 72,
   "metadata": {},
   "outputs": [
    {
     "data": {
      "text/plain": [
       "(139695893881128, 139695893881352)"
      ]
     },
     "execution_count": 72,
     "metadata": {},
     "output_type": "execute_result"
    }
   ],
   "source": [
    "id(v1), id(v1_alias) # v1 객체가 새로 생성됨"
   ]
  },
  {
   "cell_type": "code",
   "execution_count": 73,
   "metadata": {},
   "outputs": [
    {
     "data": {
      "text/plain": [
       "Vector([55.0, 77.0, 99.0])"
      ]
     },
     "execution_count": 73,
     "metadata": {},
     "output_type": "execute_result"
    }
   ],
   "source": [
    "v1 *= 11\n",
    "v1 # 예상한대로 결과가 나옴"
   ]
  },
  {
   "cell_type": "code",
   "execution_count": 74,
   "metadata": {},
   "outputs": [
    {
     "data": {
      "text/plain": [
       "139695893761944"
      ]
     },
     "execution_count": 74,
     "metadata": {},
     "output_type": "execute_result"
    }
   ],
   "source": [
    "id(v1) # 그러나 역시 객체가 새로 생성됨"
   ]
  },
  {
   "cell_type": "markdown",
   "metadata": {},
   "source": [
    "클래스가 인플레이스 연산자를 구현하지 않으면 복합 할당 연산자는 `a += b`를 `a = a + b`와 동일하게 평가한다. 가변형의 경우 이렇게 동작하는 것이 타당하다. 그러나 `__iadd__()` 등의 인플레이스 연산자 메서드를 정의한 경우, 이 연산자는 새로운 객체를 생성하지 않고 피연산자를 직접 변경한다. \n",
    "\n",
    "* 인플레이스 연산자처럼 피연산자를 변경하는 특별 메서드는 Vector 클래스 같은 불변 자료형에서는 구현하면 안 된다!\n",
    "\n",
    "[예제 11-12]의 BingoCage 클래스를 확장해서 인플레이스 연산자를 구현해보자."
   ]
  },
  {
   "cell_type": "code",
   "execution_count": 76,
   "metadata": {},
   "outputs": [
    {
     "name": "stdout",
     "output_type": "stream",
     "text": [
      "# tombola.py\n",
      "\n",
      "import abc\n",
      "\n",
      "class Tombola(abc.ABC): # ABC 정의하기 위해 상속\n",
      "    \n",
      "    @abc.abstractmethod\n",
      "    def load(self, iterable):\n",
      "        \"\"\"iterable의 항목들을 추가한다.\"\"\"\n",
      "        \n",
      "    @abc.abstractmethod\n",
      "    def pick(self):\n",
      "        \"\"\"무작위로 항목을 하나 제거하고 반환한다.\n",
      "        객체가 비어 있을 때 이 메서드를 실행하면 'LookupError'가 발생한다.\n",
      "        \"\"\"\n",
      "        \n",
      "    def loaded(self): # ABC 에도 구상 메서드가 들어갈 수 있다\n",
      "        \"\"\"최소 한 개의 항목이 있으면 True, 아님 False 반환\"\"\"\n",
      "        # ABC의 구상 메서드는 반드시 ABC에 정의된 인터페이스, 즉\n",
      "        # ABC의 다른 구상 메서드나 추상 메서드, 혹은 프로퍼티만 사용해야 한다.\n",
      "        return bool(self.inspect())\n",
      "    \n",
      "    def inspect(self):\n",
      "        \"\"\"현재 안에 있는 항목들로 구성된 정렬된 튜플 반환\"\"\"\n",
      "        items = []\n",
      "        while True:\n",
      "            try:\n",
      "                # pick() 을 계속 호출해서 Tombola 객체를 비움\n",
      "                items.append(self.pick())\n",
      "            except LookupError:\n",
      "                break\n",
      "        self.load(items) # load 메서드를 호출해서 다시 넣는다\n",
      "        return tuple(sorted(items))"
     ]
    }
   ],
   "source": [
    "!cat tombola.py"
   ]
  },
  {
   "cell_type": "code",
   "execution_count": 75,
   "metadata": {},
   "outputs": [
    {
     "name": "stdout",
     "output_type": "stream",
     "text": [
      "# bingo.py\n",
      "\n",
      "import random\n",
      "from tombola import Tombola\n",
      "\n",
      "class BingoCage(Tombola):\n",
      "    def __init__(self, items):\n",
      "        self._randomizer = random.SystemRandom()\n",
      "        self._items = []\n",
      "        self.load(items)\n",
      "        \n",
      "    def load(self, items):\n",
      "        self._items.extend(items)\n",
      "        self._randomizer.shuffle(self._items)\n",
      "        \n",
      "    def pick(self):\n",
      "        try:\n",
      "            return self._items.pop()\n",
      "        except IndexError:\n",
      "            raise LookupError('pick from empty BingoCage')\n",
      "            \n",
      "    def __call__(self):\n",
      "        self.pick()"
     ]
    }
   ],
   "source": [
    "!cat bingo.py"
   ]
  },
  {
   "cell_type": "code",
   "execution_count": 77,
   "metadata": {},
   "outputs": [
    {
     "data": {
      "text/plain": [
       "('A', 'E', 'I', 'O', 'U')"
      ]
     },
     "execution_count": 77,
     "metadata": {},
     "output_type": "execute_result"
    }
   ],
   "source": [
    "from bingo import BingoCage\n",
    "vowels = 'AEIOU'\n",
    "globe = BingoCage(vowels)\n",
    "globe.inspect()"
   ]
  },
  {
   "cell_type": "code",
   "execution_count": 78,
   "metadata": {},
   "outputs": [
    {
     "data": {
      "text/plain": [
       "True"
      ]
     },
     "execution_count": 78,
     "metadata": {},
     "output_type": "execute_result"
    }
   ],
   "source": [
    "globe.pick() in vowels"
   ]
  },
  {
   "cell_type": "code",
   "execution_count": 79,
   "metadata": {},
   "outputs": [
    {
     "data": {
      "text/plain": [
       "4"
      ]
     },
     "execution_count": 79,
     "metadata": {},
     "output_type": "execute_result"
    }
   ],
   "source": [
    "len(globe.inspect())"
   ]
  },
  {
   "cell_type": "code",
   "execution_count": 80,
   "metadata": {},
   "outputs": [],
   "source": [
    "import itertools # 표준 라이브러리를 구현한 모듈보다 먼저 임포트\n",
    "\n",
    "from tombola import Tombola\n",
    "from bingo import BingoCage\n",
    "\n",
    "class AddableBingoCage(BingoCage):\n",
    "\n",
    "    def __add__(self, other):\n",
    "        if isinstance(other, Tombola): # Tombola를 상속한 객체에만 작동\n",
    "            return AddableBingoCage(self.inspect() + other.inspect())\n",
    "        else:\n",
    "            return NotImplemented\n",
    "    \n",
    "    def __iadd__(self, other):\n",
    "        if isinstance(other, Tombola):\n",
    "            other_iterable = other.inspect()\n",
    "        else:\n",
    "            try:\n",
    "                other_iterable = iter(other) # Tombola 객체가 아닐 때는 반복자 시도\n",
    "            except TypeError: # 실패할 때는 사용자가 문제를 해결할 방법을 명확히 제시\n",
    "                self_cls = type(self).__name__\n",
    "                msg = 'right operand in += must be {!r} or an iterable'\n",
    "                raise TypeError(msg.format(self_cls))\n",
    "        self.load(other_iterable) # self에 other를 추가 적재\n",
    "        return self # 할당 연산 특별 메서드는 반드시 self를 반환!"
   ]
  },
  {
   "cell_type": "markdown",
   "metadata": {},
   "source": [
    "우리가 원하는 대로 작동하는지 확인해보자."
   ]
  },
  {
   "cell_type": "code",
   "execution_count": 103,
   "metadata": {},
   "outputs": [
    {
     "data": {
      "text/plain": [
       "('A', 'E', 'I', 'O', 'U')"
      ]
     },
     "execution_count": 103,
     "metadata": {},
     "output_type": "execute_result"
    }
   ],
   "source": [
    "from bingoaddable import AddableBingoCage\n",
    "vowels = 'AEIOU'\n",
    "globe = AddableBingoCage(vowels)\n",
    "globe.inspect()"
   ]
  },
  {
   "cell_type": "code",
   "execution_count": 104,
   "metadata": {},
   "outputs": [
    {
     "data": {
      "text/plain": [
       "True"
      ]
     },
     "execution_count": 104,
     "metadata": {},
     "output_type": "execute_result"
    }
   ],
   "source": [
    "globe.pick() in vowels"
   ]
  },
  {
   "cell_type": "code",
   "execution_count": 105,
   "metadata": {},
   "outputs": [
    {
     "data": {
      "text/plain": [
       "4"
      ]
     },
     "execution_count": 105,
     "metadata": {},
     "output_type": "execute_result"
    }
   ],
   "source": [
    "len(globe.inspect())"
   ]
  },
  {
   "cell_type": "code",
   "execution_count": 106,
   "metadata": {},
   "outputs": [
    {
     "data": {
      "text/plain": [
       "('A', 'E', 'O', 'U', 'X', 'Y', 'Z')"
      ]
     },
     "execution_count": 106,
     "metadata": {},
     "output_type": "execute_result"
    }
   ],
   "source": [
    "globe2 = AddableBingoCage('XYZ')\n",
    "globe3 = globe + globe2 # 구현한대로 덧셈이 가능하다\n",
    "globe3.inspect()"
   ]
  },
  {
   "cell_type": "code",
   "execution_count": 107,
   "metadata": {},
   "outputs": [
    {
     "data": {
      "text/plain": [
       "(139695538453528, 139695537214408, 139695537214576)"
      ]
     },
     "execution_count": 107,
     "metadata": {},
     "output_type": "execute_result"
    }
   ],
   "source": [
    "id(globe), id(globe2), id(globe3)"
   ]
  },
  {
   "cell_type": "code",
   "execution_count": 108,
   "metadata": {},
   "outputs": [
    {
     "ename": "TypeError",
     "evalue": "unsupported operand type(s) for +: 'AddableBingoCage' and 'list'",
     "output_type": "error",
     "traceback": [
      "\u001b[0;31m---------------------------------------------------------------------------\u001b[0m",
      "\u001b[0;31mTypeError\u001b[0m                                 Traceback (most recent call last)",
      "\u001b[0;32m<ipython-input-108-9653f646702b>\u001b[0m in \u001b[0;36m<module>\u001b[0;34m\u001b[0m\n\u001b[0;32m----> 1\u001b[0;31m \u001b[0mvoid\u001b[0m \u001b[0;34m=\u001b[0m \u001b[0mglobe\u001b[0m \u001b[0;34m+\u001b[0m \u001b[0;34m[\u001b[0m\u001b[0;36m10\u001b[0m\u001b[0;34m,\u001b[0m\u001b[0;36m20\u001b[0m\u001b[0;34m]\u001b[0m \u001b[0;31m# __add__() 메서드는 두 연산자가 모두 Tombola 객체일 때만 작동한다\u001b[0m\u001b[0;34m\u001b[0m\u001b[0;34m\u001b[0m\u001b[0m\n\u001b[0m",
      "\u001b[0;31mTypeError\u001b[0m: unsupported operand type(s) for +: 'AddableBingoCage' and 'list'"
     ]
    }
   ],
   "source": [
    "void = globe + [10,20] # __add__() 메서드는 두 연산자가 모두 Tombola 객체일 때만 작동한다"
   ]
  },
  {
   "cell_type": "markdown",
   "metadata": {},
   "source": [
    "다음으로 `__iadd__()` 메서드의 작동을 확인해보자."
   ]
  },
  {
   "cell_type": "code",
   "execution_count": 109,
   "metadata": {},
   "outputs": [
    {
     "data": {
      "text/plain": [
       "4"
      ]
     },
     "execution_count": 109,
     "metadata": {},
     "output_type": "execute_result"
    }
   ],
   "source": [
    "globe_orig = globe\n",
    "len(globe.inspect())"
   ]
  },
  {
   "cell_type": "code",
   "execution_count": 110,
   "metadata": {},
   "outputs": [
    {
     "data": {
      "text/plain": [
       "(7, 139695538453528, 139695538453528)"
      ]
     },
     "execution_count": 110,
     "metadata": {},
     "output_type": "execute_result"
    }
   ],
   "source": [
    "globe += globe2\n",
    "len(globe.inspect()), id(globe), id(globe_orig) # globe와 globe_orig는 동일"
   ]
  },
  {
   "cell_type": "code",
   "execution_count": 111,
   "metadata": {},
   "outputs": [
    {
     "data": {
      "text/plain": [
       "(9, 139695538453528, 139695538453528)"
      ]
     },
     "execution_count": 111,
     "metadata": {},
     "output_type": "execute_result"
    }
   ],
   "source": [
    "globe += ['M', 'N']\n",
    "len(globe.inspect()), id(globe), id(globe_orig) # globe와 globe_orig는 동일"
   ]
  },
  {
   "cell_type": "code",
   "execution_count": 113,
   "metadata": {},
   "outputs": [
    {
     "ename": "TypeError",
     "evalue": "right operand in += must be 'AddableBingoCage' or an iterable",
     "output_type": "error",
     "traceback": [
      "\u001b[0;31m---------------------------------------------------------------------------\u001b[0m",
      "\u001b[0;31mTypeError\u001b[0m                                 Traceback (most recent call last)",
      "\u001b[0;32m~/G_drive/Programming/Fluent_Python/bingoaddable.py\u001b[0m in \u001b[0;36m__iadd__\u001b[0;34m(self, other)\u001b[0m\n\u001b[1;32m     20\u001b[0m             \u001b[0;32mtry\u001b[0m\u001b[0;34m:\u001b[0m\u001b[0;34m\u001b[0m\u001b[0;34m\u001b[0m\u001b[0m\n\u001b[0;32m---> 21\u001b[0;31m                 \u001b[0mother_iterable\u001b[0m \u001b[0;34m=\u001b[0m \u001b[0miter\u001b[0m\u001b[0;34m(\u001b[0m\u001b[0mother\u001b[0m\u001b[0;34m)\u001b[0m \u001b[0;31m# Tombola 객체가 아닐 때는 반복자 시도\u001b[0m\u001b[0;34m\u001b[0m\u001b[0;34m\u001b[0m\u001b[0m\n\u001b[0m\u001b[1;32m     22\u001b[0m             \u001b[0;32mexcept\u001b[0m \u001b[0mTypeError\u001b[0m\u001b[0;34m:\u001b[0m \u001b[0;31m# 실패할 때는 사용자가 문제를 해결할 방법을 명확히 제시\u001b[0m\u001b[0;34m\u001b[0m\u001b[0;34m\u001b[0m\u001b[0m\n",
      "\u001b[0;31mTypeError\u001b[0m: 'int' object is not iterable",
      "\nDuring handling of the above exception, another exception occurred:\n",
      "\u001b[0;31mTypeError\u001b[0m                                 Traceback (most recent call last)",
      "\u001b[0;32m<ipython-input-113-c2aedc887e74>\u001b[0m in \u001b[0;36m<module>\u001b[0;34m\u001b[0m\n\u001b[0;32m----> 1\u001b[0;31m \u001b[0mglobe\u001b[0m \u001b[0;34m+=\u001b[0m \u001b[0;36m1\u001b[0m \u001b[0;31m# 비반복형은 실패\u001b[0m\u001b[0;34m\u001b[0m\u001b[0;34m\u001b[0m\u001b[0m\n\u001b[0m",
      "\u001b[0;32m~/G_drive/Programming/Fluent_Python/bingoaddable.py\u001b[0m in \u001b[0;36m__iadd__\u001b[0;34m(self, other)\u001b[0m\n\u001b[1;32m     23\u001b[0m                 \u001b[0mself_cls\u001b[0m \u001b[0;34m=\u001b[0m \u001b[0mtype\u001b[0m\u001b[0;34m(\u001b[0m\u001b[0mself\u001b[0m\u001b[0;34m)\u001b[0m\u001b[0;34m.\u001b[0m\u001b[0m__name__\u001b[0m\u001b[0;34m\u001b[0m\u001b[0;34m\u001b[0m\u001b[0m\n\u001b[1;32m     24\u001b[0m                 \u001b[0mmsg\u001b[0m \u001b[0;34m=\u001b[0m \u001b[0;34m'right operand in += must be {!r} or an iterable'\u001b[0m\u001b[0;34m\u001b[0m\u001b[0;34m\u001b[0m\u001b[0m\n\u001b[0;32m---> 25\u001b[0;31m                 \u001b[0;32mraise\u001b[0m \u001b[0mTypeError\u001b[0m\u001b[0;34m(\u001b[0m\u001b[0mmsg\u001b[0m\u001b[0;34m.\u001b[0m\u001b[0mformat\u001b[0m\u001b[0;34m(\u001b[0m\u001b[0mself_cls\u001b[0m\u001b[0;34m)\u001b[0m\u001b[0;34m)\u001b[0m\u001b[0;34m\u001b[0m\u001b[0;34m\u001b[0m\u001b[0m\n\u001b[0m\u001b[1;32m     26\u001b[0m         \u001b[0mself\u001b[0m\u001b[0;34m.\u001b[0m\u001b[0mload\u001b[0m\u001b[0;34m(\u001b[0m\u001b[0mother_iterable\u001b[0m\u001b[0;34m)\u001b[0m \u001b[0;31m# self에 other를 추가 적재\u001b[0m\u001b[0;34m\u001b[0m\u001b[0;34m\u001b[0m\u001b[0m\n\u001b[1;32m     27\u001b[0m         \u001b[0;32mreturn\u001b[0m \u001b[0mself\u001b[0m \u001b[0;31m# 할당 연산 특별 메서드는 반드시 self를 반환!\u001b[0m\u001b[0;34m\u001b[0m\u001b[0;34m\u001b[0m\u001b[0m\n",
      "\u001b[0;31mTypeError\u001b[0m: right operand in += must be 'AddableBingoCage' or an iterable"
     ]
    }
   ],
   "source": [
    "globe += 1 # 비반복형은 실패"
   ]
  },
  {
   "cell_type": "markdown",
   "metadata": {},
   "source": [
    "정리하면 다음과 같다.\n",
    "\n",
    "* `__add__()` : AddableBingoCage() 를 호출해서 생성된 새로운 객체를 반환, 모든 피연산자가 Tombola 객체여야 함\n",
    "* `__iadd__()` : 객체 자신을 변경한 후 self를 반환, 두번째 피연산자는 Tombola 객체일 필요가 없음 >> 반환 객체가 self이므로 정체성이 확실하기 때문\n"
   ]
  }
 ],
 "metadata": {
  "kernelspec": {
   "display_name": "Python 3",
   "language": "python",
   "name": "python3"
  },
  "language_info": {
   "codemirror_mode": {
    "name": "ipython",
    "version": 3
   },
   "file_extension": ".py",
   "mimetype": "text/x-python",
   "name": "python",
   "nbconvert_exporter": "python",
   "pygments_lexer": "ipython3",
   "version": "3.7.3"
  }
 },
 "nbformat": 4,
 "nbformat_minor": 4
}
