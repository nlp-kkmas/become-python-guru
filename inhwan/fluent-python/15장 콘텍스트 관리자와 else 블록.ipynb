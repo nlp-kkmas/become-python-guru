{
 "cells": [
  {
   "cell_type": "markdown",
   "metadata": {},
   "source": [
    "# 15장. 콘텍스트 관리자와 else 블록\n",
    "\n",
    "이 장에서는 다음 제어 기능을 살펴본다.\n",
    "\n",
    "* with 문과 콘텍스트 관리자\n",
    "* for, while, try 문에서의 else 블록"
   ]
  },
  {
   "cell_type": "markdown",
   "metadata": {},
   "source": [
    "## 15.1 이것 다음에 저것: if 문 이외에서의 else 블록\n",
    "\n",
    "else문은 if 문뿐만 아니라 for, while, try 문에서도 사용할 수 있다. 규칙은 다음과 같다.\n",
    "\n",
    "* for : for 루프가 완전히 끝난 후(break는 안됨) else 블록 실행\n",
    "* while : 조건식이 거짓이 되어 while이 끝난 후(break는 안됨) else 블록 실행\n",
    "* try : try 블록에서 예외가 발생하지 않을 때만 실행되며, else에서 발생한 예외는 else 앞 except 블록에서 처리되지 않음\n",
    "\n",
    "그러므로 예외, return, break, continue 문이 복합문을 빠져나오게 만들면 else 블록은 실행되지 않는다. 일반적인 루프에서의 else는 다음 패턴을 따른다.\n",
    "\n",
    "```python\n",
    "for item in my_list:\n",
    "    if item.flavor == 'banana':\n",
    "        break\n",
    "else:\n",
    "    raise ValueError('No banana flavor found!')\n",
    "```\n",
    "\n",
    "try/except 블록은 다음 처럼 구현한다.\n",
    "\n",
    "```python\n",
    "try:\n",
    "    dangerous_call() # 예외가 발생할 수 있는 코드\n",
    "except OSError:\n",
    "    log('OSError...')\n",
    "else:\n",
    "    after_call() # 예외가 없을 때만 실행\n",
    "```\n",
    "\n",
    "이런 파이썬의 특성은 `EAFP`(Easier to Ask for Forgiveness than Permission)라는 슬로건으로 표현된다."
   ]
  },
  {
   "cell_type": "markdown",
   "metadata": {},
   "source": [
    "## 15.2 콘텍스트 관리자와 with 블록\n",
    "\n",
    "콘텍스트 관리자 객체는 with 문을 제어하기 위해 존재하며, try/finally 패턴을 단순화한다. 콘텍스트 관리자 프로토콜은 `__enter__()`와 `__exit__()` 메서드로 구성된다. with 문이 시작될 때 `__enter__()` 메서드가 호출되며, 이 메서드는 with 블록의 끝에서 finally 절의 역할을 수행한다.\n",
    "\n",
    "파일을 닫는 예제이다."
   ]
  },
  {
   "cell_type": "code",
   "execution_count": 4,
   "metadata": {},
   "outputs": [
    {
     "data": {
      "text/plain": [
       "60"
      ]
     },
     "execution_count": 4,
     "metadata": {},
     "output_type": "execute_result"
    }
   ],
   "source": [
    "with open('vector_v7.py') as fp:\n",
    "    src = fp.read(60)\n",
    "    \n",
    "len(src)"
   ]
  },
  {
   "cell_type": "code",
   "execution_count": 9,
   "metadata": {},
   "outputs": [
    {
     "data": {
      "text/plain": [
       "<_io.TextIOWrapper name='vector_v7.py' mode='r' encoding='UTF-8'>"
      ]
     },
     "execution_count": 9,
     "metadata": {},
     "output_type": "execute_result"
    }
   ],
   "source": [
    "fp # fp 변수는 여전히 살아 있음"
   ]
  },
  {
   "cell_type": "code",
   "execution_count": 6,
   "metadata": {},
   "outputs": [
    {
     "data": {
      "text/plain": [
       "(True, 'UTF-8')"
      ]
     },
     "execution_count": 6,
     "metadata": {},
     "output_type": "execute_result"
    }
   ],
   "source": [
    "fp.closed, fp.encoding"
   ]
  },
  {
   "cell_type": "code",
   "execution_count": 10,
   "metadata": {},
   "outputs": [
    {
     "ename": "ValueError",
     "evalue": "I/O operation on closed file.",
     "output_type": "error",
     "traceback": [
      "\u001b[0;31m---------------------------------------------------------------------------\u001b[0m",
      "\u001b[0;31mValueError\u001b[0m                                Traceback (most recent call last)",
      "\u001b[0;32m<ipython-input-10-d268d2e5cbaa>\u001b[0m in \u001b[0;36m<module>\u001b[0;34m\u001b[0m\n\u001b[0;32m----> 1\u001b[0;31m \u001b[0mfp\u001b[0m\u001b[0;34m.\u001b[0m\u001b[0mread\u001b[0m\u001b[0;34m(\u001b[0m\u001b[0;36m60\u001b[0m\u001b[0;34m)\u001b[0m \u001b[0;31m# 닫혀있으므로 읽을 수 없다\u001b[0m\u001b[0;34m\u001b[0m\u001b[0;34m\u001b[0m\u001b[0m\n\u001b[0m",
      "\u001b[0;31mValueError\u001b[0m: I/O operation on closed file."
     ]
    }
   ],
   "source": [
    "fp.read(60) # 닫혀있으므로 읽을 수 없다"
   ]
  },
  {
   "cell_type": "code",
   "execution_count": 8,
   "metadata": {},
   "outputs": [
    {
     "data": {
      "text/plain": [
       "'# vector_v7.py\\n\\nfrom array import array\\nimport reprlib\\nimpor'"
      ]
     },
     "execution_count": 8,
     "metadata": {},
     "output_type": "execute_result"
    }
   ],
   "source": [
    "src"
   ]
  },
  {
   "cell_type": "markdown",
   "metadata": {},
   "source": [
    "콘텍스트 관리자 객체는 with 문 뒤의 표현식을 평가한 결과지만, as 절에 있는 타깃 변수의 값은 콘텍스트 관리자 객체의 `__enter__()` 호출 결과다.\n",
    "\n",
    "제어 흐름이 with 문을 빠져나온 후에는 `__enter__()` 메서드가 반환한 객체가 아니라 `__exit__()` 메서드가 호출된다."
   ]
  },
  {
   "cell_type": "code",
   "execution_count": 33,
   "metadata": {},
   "outputs": [],
   "source": [
    "class LookingGlass:\n",
    "    \n",
    "    def __enter__(self):\n",
    "        import sys\n",
    "        self.original_write = sys.stdout.write # 나중에 사용하기 위해 객체 속성에 원래 sys.stdout.write() 메서드 객체를 저장\n",
    "        sys.stdout.write = self.reverse_write\n",
    "        return 'JABBERWOCKY' # 타겟 변수에 무언가를 저장히기 위해 문자열 반환\n",
    "    \n",
    "    def reverse_write(self, text): \n",
    "        # text 인수를 거꾸로 뒤집고 나서 원래 sys.stdout.write() 메서드 호출\n",
    "        self.original_write(text[::-1])\n",
    "        \n",
    "    def __exit__(self, exc_type, exc_value, traceback): \n",
    "        # 정상적으로 수행이 완료되면 파이썬은 None, None, None 인수로 __exit__() 메서드를 호출\n",
    "        import sys\n",
    "        sys.stdout.write = self.original_write # sys.stdout.write() 를 원래 메서드로 변경\n",
    "        if exc_type is ZeroDivisionError:\n",
    "            print('Please DO NOT divide by zero!')\n",
    "            return True # 예외가 처리되었음을 알려준다.\n",
    "        # __exit__() 가 None이나 True 이외의 값을 반환하면 with 블록에서 발생한 예외가 상위 코드로 전달됨\n",
    "    \n",
    "    "
   ]
  },
  {
   "cell_type": "code",
   "execution_count": 19,
   "metadata": {},
   "outputs": [
    {
     "name": "stdout",
     "output_type": "stream",
     "text": [
      "pordwonS dna yttiK ,ecilA\n",
      "YKCOWREBBAJ\n"
     ]
    }
   ],
   "source": [
    "from mirror import LookingGlass\n",
    "with LookingGlass() as what: # __enter__() 메서드의 반환값을 what에 바인딩\n",
    "    print('Alice, Kitty and Snowdrop')\n",
    "    print(what)"
   ]
  },
  {
   "cell_type": "code",
   "execution_count": 20,
   "metadata": {},
   "outputs": [
    {
     "data": {
      "text/plain": [
       "'JABBERWOCKY'"
      ]
     },
     "execution_count": 20,
     "metadata": {},
     "output_type": "execute_result"
    }
   ],
   "source": [
    "what # 이제 with가 끝났으니, __enter__() 가 반환해서 what에 저장한 문자열을 제대로 출력"
   ]
  },
  {
   "cell_type": "code",
   "execution_count": 21,
   "metadata": {},
   "outputs": [
    {
     "name": "stdout",
     "output_type": "stream",
     "text": [
      "Back to normal\n"
     ]
    }
   ],
   "source": [
    "print('Back to normal') # print()가 정상적으로 작동"
   ]
  },
  {
   "cell_type": "markdown",
   "metadata": {},
   "source": [
    "파이썬 인터프리터는 `__enter__()` 메서드를 호출할 때는 `self`만 인수로 전달한다. `__exit__()` 메서드를 호출할 때는 다음 세 인수를 전달한다.\n",
    "\n",
    "* exc_type : ZeroDivisionError 등의 예외 클래스\n",
    "* exc_value : 예외 객체\n",
    "* traceback : traceback 객체\n",
    "\n",
    "콘텍스트 관리자가 작동하는 방식을 자세히 알아보기 위해 with문 밖에서 LookingGlass 클래스를 사용하자."
   ]
  },
  {
   "cell_type": "code",
   "execution_count": 39,
   "metadata": {},
   "outputs": [
    {
     "data": {
      "text/plain": [
       "<mirror.LookingGlass at 0x7f97d13dd550>"
      ]
     },
     "execution_count": 39,
     "metadata": {},
     "output_type": "execute_result"
    }
   ],
   "source": [
    "from mirror import LookingGlass\n",
    "manager = LookingGlass()\n",
    "manager"
   ]
  },
  {
   "cell_type": "code",
   "execution_count": 41,
   "metadata": {},
   "outputs": [
    {
     "data": {
      "text/plain": [
       "True"
      ]
     },
     "execution_count": 41,
     "metadata": {},
     "output_type": "execute_result"
    }
   ],
   "source": [
    "monster = manager.__enter__()\n",
    "monster == 'JABBERWOCKY' # monster에 저장된 문자열은 이게 맞으나"
   ]
  },
  {
   "cell_type": "code",
   "execution_count": 28,
   "metadata": {},
   "outputs": [
    {
     "data": {
      "text/plain": [
       "'JABBERWOCKY'"
      ]
     },
     "execution_count": 28,
     "metadata": {},
     "output_type": "execute_result"
    }
   ],
   "source": [
    "monster # sys.stdout 이 reversed 되어 있으므로 출력이 반대로 됨"
   ]
  },
  {
   "cell_type": "code",
   "execution_count": 25,
   "metadata": {},
   "outputs": [
    {
     "data": {
      "text/plain": [
       "<mirror.LookingGlass at 0x7f97d13303c8>"
      ]
     },
     "execution_count": 25,
     "metadata": {},
     "output_type": "execute_result"
    }
   ],
   "source": [
    "manager"
   ]
  },
  {
   "cell_type": "markdown",
   "metadata": {},
   "source": [
    "![LookingGLass](images/15_1.png)"
   ]
  },
  {
   "cell_type": "markdown",
   "metadata": {},
   "source": [
    "## 15.3 contextlib 유틸리티\n",
    "\n",
    "contextlib 모듈에는 다음과 같은 클래스와 함수가 있다.\n",
    "\n",
    "* closing() : close() 메서드는 제공하지만 `__enter__()` / `__exit__()` 프로토콜을 구현하지 않는 객체로부터 콘텍스트 관리자를 생성하는 함수\n",
    "* surpress : 지정한 예외를 임시로 무시하는 콘텍스트 관리자\n",
    "* @contextmanager : 클래스를 생성하고 프로토콜을 구현하는 대신, 간단한 제너레이터 함수로부터 콘텍스트 관리자를 생성할 수 있게 해주는 데커레이터\n",
    "* ContextDecorator : 콘텍스트 관리자를 함수 데커레이터로도 사용할 수 있게 해주는 기반 클래스\n",
    "* ExitStack : ..."
   ]
  },
  {
   "cell_type": "markdown",
   "metadata": {},
   "source": [
    "## 15.4 @contextmanager 사용하기\n",
    "\n",
    "`@contextmanager`로 데커레이터된 제너레이터에서 `yield`는 함수 본체를 두 부분으로 나누기 위해 사용된다. `yield` 문 앞에 있는 모든 코드는 with 블록 앞에서 인터프리터가 `__enter__()`를 호출할 때 실행되고, `yield` 문 뒤에 있는 코드는 블록의 마지막에서 `__exit__()`가 호출될 때 실행된다."
   ]
  },
  {
   "cell_type": "code",
   "execution_count": 29,
   "metadata": {},
   "outputs": [],
   "source": [
    "# mirror_gen.py\n",
    "\n",
    "import contextlib\n",
    "\n",
    "@contextlib.contextmanager\n",
    "def looking_glass():\n",
    "    import sys\n",
    "    original_write = sys.stdout.write\n",
    "    \n",
    "    def reverse_write(text):\n",
    "        original_write(text[::-1])\n",
    "        \n",
    "    sys.stdout.write = reverse_write\n",
    "    yield 'JABBERWOCKY' # with 문에서 여기에서 잠시 중단\n",
    "    sys.stdout.write = original_write # with 문알 빠져나오면 yield문 이후 실행"
   ]
  },
  {
   "cell_type": "code",
   "execution_count": 30,
   "metadata": {
    "collapsed": true,
    "jupyter": {
     "outputs_hidden": true
    }
   },
   "outputs": [
    {
     "ename": "RecursionError",
     "evalue": "maximum recursion depth exceeded",
     "output_type": "error",
     "traceback": [
      "\u001b[0;31m---------------------------------------------------------------------------\u001b[0m",
      "\u001b[0;31mRecursionError\u001b[0m                            Traceback (most recent call last)",
      "\u001b[0;32m<ipython-input-30-4539c98c4620>\u001b[0m in \u001b[0;36m<module>\u001b[0;34m\u001b[0m\n\u001b[1;32m      1\u001b[0m \u001b[0;32mfrom\u001b[0m \u001b[0mmirror_gen\u001b[0m \u001b[0;32mimport\u001b[0m \u001b[0mlooking_glass\u001b[0m\u001b[0;34m\u001b[0m\u001b[0;34m\u001b[0m\u001b[0m\n\u001b[1;32m      2\u001b[0m \u001b[0;32mwith\u001b[0m \u001b[0mlooking_glass\u001b[0m\u001b[0;34m(\u001b[0m\u001b[0;34m)\u001b[0m \u001b[0;32mas\u001b[0m \u001b[0mwhat\u001b[0m\u001b[0;34m:\u001b[0m\u001b[0;34m\u001b[0m\u001b[0;34m\u001b[0m\u001b[0m\n\u001b[0;32m----> 3\u001b[0;31m     \u001b[0mprint\u001b[0m\u001b[0;34m(\u001b[0m\u001b[0;34m'Alice, Kitty and Snowdrop'\u001b[0m\u001b[0;34m)\u001b[0m\u001b[0;34m\u001b[0m\u001b[0;34m\u001b[0m\u001b[0m\n\u001b[0m\u001b[1;32m      4\u001b[0m     \u001b[0mprint\u001b[0m\u001b[0;34m(\u001b[0m\u001b[0mwhat\u001b[0m\u001b[0;34m)\u001b[0m\u001b[0;34m\u001b[0m\u001b[0;34m\u001b[0m\u001b[0m\n",
      "\u001b[0;32m~/G_drive/Programming/Fluent_Python/mirror_gen.py\u001b[0m in \u001b[0;36mreverse_write\u001b[0;34m(text)\u001b[0m\n\u001b[1;32m      9\u001b[0m \u001b[0;34m\u001b[0m\u001b[0m\n\u001b[1;32m     10\u001b[0m     \u001b[0;32mdef\u001b[0m \u001b[0mreverse_write\u001b[0m\u001b[0;34m(\u001b[0m\u001b[0mtext\u001b[0m\u001b[0;34m)\u001b[0m\u001b[0;34m:\u001b[0m\u001b[0;34m\u001b[0m\u001b[0;34m\u001b[0m\u001b[0m\n\u001b[0;32m---> 11\u001b[0;31m         \u001b[0moriginal_write\u001b[0m\u001b[0;34m(\u001b[0m\u001b[0mtext\u001b[0m\u001b[0;34m[\u001b[0m\u001b[0;34m:\u001b[0m\u001b[0;34m:\u001b[0m\u001b[0;34m-\u001b[0m\u001b[0;36m1\u001b[0m\u001b[0;34m]\u001b[0m\u001b[0;34m)\u001b[0m\u001b[0;34m\u001b[0m\u001b[0;34m\u001b[0m\u001b[0m\n\u001b[0m\u001b[1;32m     12\u001b[0m \u001b[0;34m\u001b[0m\u001b[0m\n\u001b[1;32m     13\u001b[0m     \u001b[0msys\u001b[0m\u001b[0;34m.\u001b[0m\u001b[0mstdout\u001b[0m\u001b[0;34m.\u001b[0m\u001b[0mwrite\u001b[0m \u001b[0;34m=\u001b[0m \u001b[0mreverse_write\u001b[0m\u001b[0;34m\u001b[0m\u001b[0;34m\u001b[0m\u001b[0m\n",
      "\u001b[0;32m~/G_drive/Programming/Fluent_Python/mirror.py\u001b[0m in \u001b[0;36mreverse_write\u001b[0;34m(self, text)\u001b[0m\n\u001b[1;32m     11\u001b[0m     \u001b[0;32mdef\u001b[0m \u001b[0mreverse_write\u001b[0m\u001b[0;34m(\u001b[0m\u001b[0mself\u001b[0m\u001b[0;34m,\u001b[0m \u001b[0mtext\u001b[0m\u001b[0;34m)\u001b[0m\u001b[0;34m:\u001b[0m\u001b[0;34m\u001b[0m\u001b[0;34m\u001b[0m\u001b[0m\n\u001b[1;32m     12\u001b[0m         \u001b[0;31m# text 인수를 거꾸로 뒤집고 나서 원래 sys.stdout.write() 메서드 호출\u001b[0m\u001b[0;34m\u001b[0m\u001b[0;34m\u001b[0m\u001b[0;34m\u001b[0m\u001b[0m\n\u001b[0;32m---> 13\u001b[0;31m         \u001b[0mself\u001b[0m\u001b[0;34m.\u001b[0m\u001b[0moriginal_write\u001b[0m\u001b[0;34m(\u001b[0m\u001b[0mtext\u001b[0m\u001b[0;34m[\u001b[0m\u001b[0;34m:\u001b[0m\u001b[0;34m:\u001b[0m\u001b[0;34m-\u001b[0m\u001b[0;36m1\u001b[0m\u001b[0;34m]\u001b[0m\u001b[0;34m)\u001b[0m\u001b[0;34m\u001b[0m\u001b[0;34m\u001b[0m\u001b[0m\n\u001b[0m\u001b[1;32m     14\u001b[0m \u001b[0;34m\u001b[0m\u001b[0m\n\u001b[1;32m     15\u001b[0m     \u001b[0;32mdef\u001b[0m \u001b[0m__exit__\u001b[0m\u001b[0;34m(\u001b[0m\u001b[0mself\u001b[0m\u001b[0;34m,\u001b[0m \u001b[0mexc_type\u001b[0m\u001b[0;34m,\u001b[0m \u001b[0mexc_value\u001b[0m\u001b[0;34m,\u001b[0m \u001b[0mtraceback\u001b[0m\u001b[0;34m)\u001b[0m\u001b[0;34m:\u001b[0m\u001b[0;34m\u001b[0m\u001b[0;34m\u001b[0m\u001b[0m\n",
      "... last 1 frames repeated, from the frame below ...\n",
      "\u001b[0;32m~/G_drive/Programming/Fluent_Python/mirror.py\u001b[0m in \u001b[0;36mreverse_write\u001b[0;34m(self, text)\u001b[0m\n\u001b[1;32m     11\u001b[0m     \u001b[0;32mdef\u001b[0m \u001b[0mreverse_write\u001b[0m\u001b[0;34m(\u001b[0m\u001b[0mself\u001b[0m\u001b[0;34m,\u001b[0m \u001b[0mtext\u001b[0m\u001b[0;34m)\u001b[0m\u001b[0;34m:\u001b[0m\u001b[0;34m\u001b[0m\u001b[0;34m\u001b[0m\u001b[0m\n\u001b[1;32m     12\u001b[0m         \u001b[0;31m# text 인수를 거꾸로 뒤집고 나서 원래 sys.stdout.write() 메서드 호출\u001b[0m\u001b[0;34m\u001b[0m\u001b[0;34m\u001b[0m\u001b[0;34m\u001b[0m\u001b[0m\n\u001b[0;32m---> 13\u001b[0;31m         \u001b[0mself\u001b[0m\u001b[0;34m.\u001b[0m\u001b[0moriginal_write\u001b[0m\u001b[0;34m(\u001b[0m\u001b[0mtext\u001b[0m\u001b[0;34m[\u001b[0m\u001b[0;34m:\u001b[0m\u001b[0;34m:\u001b[0m\u001b[0;34m-\u001b[0m\u001b[0;36m1\u001b[0m\u001b[0;34m]\u001b[0m\u001b[0;34m)\u001b[0m\u001b[0;34m\u001b[0m\u001b[0;34m\u001b[0m\u001b[0m\n\u001b[0m\u001b[1;32m     14\u001b[0m \u001b[0;34m\u001b[0m\u001b[0m\n\u001b[1;32m     15\u001b[0m     \u001b[0;32mdef\u001b[0m \u001b[0m__exit__\u001b[0m\u001b[0;34m(\u001b[0m\u001b[0mself\u001b[0m\u001b[0;34m,\u001b[0m \u001b[0mexc_type\u001b[0m\u001b[0;34m,\u001b[0m \u001b[0mexc_value\u001b[0m\u001b[0;34m,\u001b[0m \u001b[0mtraceback\u001b[0m\u001b[0;34m)\u001b[0m\u001b[0;34m:\u001b[0m\u001b[0;34m\u001b[0m\u001b[0;34m\u001b[0m\u001b[0m\n",
      "\u001b[0;31mRecursionError\u001b[0m: maximum recursion depth exceeded"
     ]
    }
   ],
   "source": [
    "from mirror_gen import looking_glass\n",
    "with looking_glass() as what:\n",
    "    print('Alice, Kitty and Snowdrop')\n",
    "    print(what)"
   ]
  },
  {
   "cell_type": "code",
   "execution_count": 31,
   "metadata": {},
   "outputs": [
    {
     "data": {
      "text/plain": [
       "'JABBERWOCKY'"
      ]
     },
     "execution_count": 31,
     "metadata": {},
     "output_type": "execute_result"
    }
   ],
   "source": [
    "what"
   ]
  },
  {
   "cell_type": "markdown",
   "metadata": {},
   "source": [
    "`@contextlib.contextmanager` 데커레이터된 함수를 `__enter__()`와 `__exit__()` 메서드를 구현하는 클래스 안에 넣는다. 이 클래스의 `__enter__()` 메서드는 다음과 같은 단계를 실행한다. \n",
    "\n",
    "1. 제너레이터 함수를 호출해서 제너레이터 객체(gen)를 보관한다.\n",
    "1. `next(gen)`을 호출해서 `yield` 키워드 앞까지 실행한다.\n",
    "1. `next(gen)`이 생성한 값을 반환해서, 이 값을 as 절의 타깃 변수에 바인딩한다.\n",
    "\n",
    "with 블록이 실행을 마칠 때 `__exit__()` 메서드는 다음 단계를 실행한다.\n",
    "\n",
    "1. `exc_type`에 예외가 전달되었는지 확인한다. 만일 그렇다면 제너레이터 함수 본체 안에 있는 `yield` 행에서 `gen.throw(exception)`를 실행해서 예외를 발생시킨 것이다.\n",
    "1. 그렇지 않다면 `next(gen)`을 호출해서 제너레이터 함수 본체 안의 `yield` 다음의 코드를 게속 실행한다.\n",
    "\n",
    "그러나 앞선 예제는 문제가 있다. with 블록 안에서 예외가 발생하면 파이썬 인터프리터가 이 예외를 잡고 `looking_glass()` 안에 있는 `yield` 표현식에서 다시 예외를 발생시킨다. 그러나 여기엔 예외 처리가 없으므로 `looking_glass()` 함수는 원래의 `sys.stdout.write()` 메서드를 복원하지 않고 중단하므로, 시스템이 불안정한 상태로 남게 된다.\n",
    "\n",
    "다음 코드는 예외 처리를 추가한 버전이다."
   ]
  },
  {
   "cell_type": "code",
   "execution_count": 32,
   "metadata": {},
   "outputs": [],
   "source": [
    "# mirror_gen_exc.py\n",
    "\n",
    "import contextlib\n",
    "\n",
    "@contextlib.contextmanager\n",
    "def looking_glass():\n",
    "    import sys\n",
    "    original_write = sys.stdout.write\n",
    "    \n",
    "    def reverse_write(text):\n",
    "        original_write(text[::-1])\n",
    "        \n",
    "    sys.stdout.write = reverse_write\n",
    "    msg = ''\n",
    "    try:\n",
    "        yield 'JABBERWOCKY' # with 문에서 여기에서 잠시 중단\n",
    "    except ZeroDivisionError:\n",
    "        msg = 'Please DO NOT divide by zero!'\n",
    "    finally:\n",
    "        sys.stdout.write = original_write # with 문알 빠져나오면 yield문 이후 실행\n",
    "        if msg:\n",
    "            print(msg)"
   ]
  },
  {
   "cell_type": "markdown",
   "metadata": {},
   "source": [
    "끗!"
   ]
  },
  {
   "cell_type": "code",
   "execution_count": null,
   "metadata": {},
   "outputs": [],
   "source": []
  }
 ],
 "metadata": {
  "kernelspec": {
   "display_name": "Python 3",
   "language": "python",
   "name": "python3"
  },
  "language_info": {
   "codemirror_mode": {
    "name": "ipython",
    "version": 3
   },
   "file_extension": ".py",
   "mimetype": "text/x-python",
   "name": "python",
   "nbconvert_exporter": "python",
   "pygments_lexer": "ipython3",
   "version": "3.7.3"
  }
 },
 "nbformat": 4,
 "nbformat_minor": 4
}
