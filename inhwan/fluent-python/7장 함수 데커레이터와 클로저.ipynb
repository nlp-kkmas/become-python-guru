{
 "cells": [
  {
   "cell_type": "markdown",
   "metadata": {},
   "source": [
    "함수 데커레이터는 소스 코드에 있는 함수를 '표시'해서 함수의 작동을 개선할 수 있게 해준다. 이를 위해 다음을 살펴본다.\n",
    "\n",
    "* 파이썬이 데커레이터 구문을 평가하는 방식\n",
    "* 변수가 지역 변수인지 파이썬이 판단하는 방식\n",
    "* 클로저의 존재 이유와 작동 방식\n",
    "* `nonlocal`로 해결할 수 있는 문제\n",
    "\n",
    "이후 다음과 같은 주제를 다룬다.\n",
    "\n",
    "* 잘 작동하는 데커레이터 구현하기\n",
    "* 표준 라이브러리에서 제공하는 재미있는 데커레이터들\n",
    "* 매개변수화된 데커레이터 구현하기"
   ]
  },
  {
   "cell_type": "markdown",
   "metadata": {},
   "source": [
    "# 7.1 데커레이터 기본 지식\n",
    "\n",
    "데커레이터는 다른 함수를 인수로 받는 콜러블(데커레이트된 함수)이다. 데커레이터는 데커레이트된 함수에 어떤 처리를 수행하고, 함수를 반환하거나 함수를 다른 함수나 콜러블 객체로 대체한다. 데커레이터는 다음과 같이 작동한다.\n",
    "\n",
    "```python\n",
    "@decorate\n",
    "def target():\n",
    "    print('running target()')\n",
    "```\n",
    "\n",
    "위 코드는 다음 코드와 동일하게 작동한다.\n",
    "\n",
    "```python\n",
    "def target():\n",
    "    print('running target()')\n",
    "    \n",
    "target = decorate(target)\n",
    "```"
   ]
  },
  {
   "cell_type": "markdown",
   "metadata": {},
   "source": [
    "두 코드를 실행한 후 `target`은 원래의 `target()` 함수를 가리키는 것이 아니라 `decorate(target)`이 반환한 함수를 가리키게 된다."
   ]
  },
  {
   "cell_type": "code",
   "execution_count": 2,
   "metadata": {},
   "outputs": [],
   "source": [
    "def deco(func):\n",
    "    def inner():\n",
    "        print('running inner()')\n",
    "    return inner"
   ]
  },
  {
   "cell_type": "code",
   "execution_count": 5,
   "metadata": {},
   "outputs": [
    {
     "name": "stdout",
     "output_type": "stream",
     "text": [
      "running inner()\n"
     ]
    }
   ],
   "source": [
    "@deco\n",
    "def target():\n",
    "    print(\"running target()\")\n",
    "    \n",
    "target() # 실제로는 inner()를 실행한다."
   ]
  },
  {
   "cell_type": "code",
   "execution_count": 8,
   "metadata": {},
   "outputs": [
    {
     "data": {
      "text/plain": [
       "<function __main__.deco.<locals>.inner()>"
      ]
     },
     "execution_count": 8,
     "metadata": {},
     "output_type": "execute_result"
    }
   ],
   "source": [
    "target # inner()를 가리키고 있음"
   ]
  },
  {
   "cell_type": "markdown",
   "metadata": {},
   "source": [
    "요약하면, \n",
    "* 데커레이터는 데커레이트된 함수를 다른 함수로 대체한다.\n",
    "* 데커레이터는 모듈이 로딩될 때 바로 실행된다."
   ]
  },
  {
   "cell_type": "markdown",
   "metadata": {},
   "source": [
    "# 7.2 파이썬이 데커레이터를 실행하는 시점\n",
    "\n",
    "데커레이터의 핵심 특징은 데커레이트된 함수가 정의된 직후, 즉 일반적으로 파이썬이 모듈을 로딩하는 시점에 실행된다는 것이다."
   ]
  },
  {
   "cell_type": "code",
   "execution_count": 15,
   "metadata": {},
   "outputs": [
    {
     "name": "stdout",
     "output_type": "stream",
     "text": [
      "registry = []\n",
      "\n",
      "def register(func):\n",
      "    print('running register(%s)' % func)\n",
      "    registry.append(func)\n",
      "    return func\n",
      "\n",
      "@register\n",
      "def f1():\n",
      "    print('running f1()')\n",
      "\n",
      "@register\n",
      "def f2():\n",
      "    print('running f2()')\n",
      "\n",
      "def f3():\n",
      "    print('running f3()')\n",
      "\n",
      "def main():\n",
      "    print('running main()')\n",
      "    print('registry ->', registry)\n",
      "    f1() # 이 경우 register()가 원래 함수를 반환하므로 f1()이 실행됨\n",
      "    f2()\n",
      "    f3()\n",
      "\n",
      "if __name__=='__main__':\n",
      "    main()\n"
     ]
    }
   ],
   "source": [
    "!cat registration.py"
   ]
  },
  {
   "cell_type": "code",
   "execution_count": 14,
   "metadata": {},
   "outputs": [
    {
     "name": "stdout",
     "output_type": "stream",
     "text": [
      "running register(<function f1 at 0x7f4e78a3c0d0>)\n",
      "running register(<function f2 at 0x7f4e76b6d6a8>)\n",
      "running main()\n",
      "registry -> [<function f1 at 0x7f4e78a3c0d0>, <function f2 at 0x7f4e76b6d6a8>]\n",
      "running f1()\n",
      "running f2()\n",
      "running f3()\n"
     ]
    }
   ],
   "source": [
    "!python registration.py"
   ]
  },
  {
   "cell_type": "markdown",
   "metadata": {},
   "source": [
    "`register()`는 모듈 내의 다른 어떠한 함수보다 먼저 실행된다. 모듈이 로딩된 후 `registry`는 데커레이트된 두 개의 함수 `f1()`과 `f2()`에 대한 참조를 가진다. 이 두 함수는 `main()`에 의해 명시적으로 호출될 때만 실행된다."
   ]
  },
  {
   "cell_type": "code",
   "execution_count": 18,
   "metadata": {},
   "outputs": [],
   "source": [
    "import registration # 임포트 순간에 데커레이터가 실행됨"
   ]
  },
  {
   "cell_type": "code",
   "execution_count": 17,
   "metadata": {},
   "outputs": [
    {
     "data": {
      "text/plain": [
       "[<function registration.f1()>, <function registration.f2()>]"
      ]
     },
     "execution_count": 17,
     "metadata": {},
     "output_type": "execute_result"
    }
   ],
   "source": [
    "registration.registry"
   ]
  },
  {
   "cell_type": "markdown",
   "metadata": {},
   "source": [
    "이 예제는 `임포트 타임`과 `런타임`의 차이를 명확히 보여준다."
   ]
  },
  {
   "cell_type": "markdown",
   "metadata": {},
   "source": [
    "# 7.3 데커레이터로 개선한 전략 패턴\n",
    "\n",
    "데커레이터는 6.1절에서 구현한 전자상거래 프로모션 할인 코드를 개선하는데 유용하게 사용할 수 있다.\n",
    "\n",
    "전자상거래 예제의 가장 큰 문제는 함수를 정의할 때, 그리고 가장 큰 할인 방식을 결정하는 `best_promo()` 함수에 의해 사용되는 `promos` 리스트에 함수명을 반복해서 사용한다는 점이다. 이를 데커레이터를 이용해서 다음과 같이 해결할 수 있다."
   ]
  },
  {
   "cell_type": "code",
   "execution_count": 21,
   "metadata": {},
   "outputs": [],
   "source": [
    "promos = []\n",
    "\n",
    "def promotion(promo_func):\n",
    "    \"\"\"promotion() 데커레이터는 promo_func를 promos 리스트에 추가한 후 그대로 반환\"\"\"\n",
    "    promos.append(promo_func)\n",
    "    return promo_func\n",
    "\n",
    "@promotion\n",
    "def fidelity_promo(order):\n",
    "    \"\"\"충성도 점수가 1000점 이상인 고객에게 전체 5% 할인 적용\"\"\"\n",
    "    return order.total() * 0.05 if order.customer.fidelity >= 1000 else 0\n",
    "\n",
    "@promotion\n",
    "def bulk_item_promo(order): \n",
    "    \"\"\"20개 이상의 동일 상품을 구입하면 10% 할인 적용\"\"\"\n",
    "    discount = 0\n",
    "    for item in order.cart:\n",
    "        if item.quantity >= 20:\n",
    "            discount += item.total() * 0.1\n",
    "    return discount\n",
    "\n",
    "@promotion\n",
    "def large_order_promo(order):\n",
    "    \"\"\"10종류 이상의 상품을 구입하면 전체 7% 할인 적용\"\"\"\n",
    "    distinct_items = {item.product for item in order.cart}\n",
    "    if len(distinct_items) >= 10:\n",
    "        return order.total() * 0.07\n",
    "    return 0\n",
    "\n",
    "def best_promo(order):\n",
    "    \"\"\"최대로 할인받을 금액을 반환한다.\"\"\"\n",
    "    return max(promo(order) for promo in promos)"
   ]
  },
  {
   "cell_type": "markdown",
   "metadata": {},
   "source": [
    "이 방법은 다음과 같은 장점을 가진다.\n",
    "\n",
    "* 프로모션 전략 함수명이 특별한 형태로 되어 있을 필요가 없다.\n",
    "* `@promotion` 데커레이터는 임시로 어떤 프로모션을 배제할 수 있다.\n",
    "* 프로모션 할인 전략을 구현한 함수는 `@promotion` 데커레이터가 적용되는 한 어느 모듈에서든 정의할 수 있다."
   ]
  },
  {
   "cell_type": "markdown",
   "metadata": {},
   "source": [
    "# 7.4 변수 범위 규칙\n",
    "\n",
    "다음 예제에서는 함수 매개변수로 정의된 지역 변수 a와 함수 내부에 정의되지 않은 변수 b 등 두 개의 변수를 읽는 함수를 정의하고 테스트한다."
   ]
  },
  {
   "cell_type": "code",
   "execution_count": 22,
   "metadata": {},
   "outputs": [
    {
     "name": "stdout",
     "output_type": "stream",
     "text": [
      "3\n"
     ]
    },
    {
     "ename": "NameError",
     "evalue": "name 'b' is not defined",
     "output_type": "error",
     "traceback": [
      "\u001b[0;31m---------------------------------------------------------------------------\u001b[0m",
      "\u001b[0;31mNameError\u001b[0m                                 Traceback (most recent call last)",
      "\u001b[0;32m<ipython-input-22-0702f57afd95>\u001b[0m in \u001b[0;36m<module>\u001b[0;34m\u001b[0m\n\u001b[1;32m      3\u001b[0m     \u001b[0mprint\u001b[0m\u001b[0;34m(\u001b[0m\u001b[0mb\u001b[0m\u001b[0;34m)\u001b[0m\u001b[0;34m\u001b[0m\u001b[0;34m\u001b[0m\u001b[0m\n\u001b[1;32m      4\u001b[0m \u001b[0;34m\u001b[0m\u001b[0m\n\u001b[0;32m----> 5\u001b[0;31m \u001b[0mf1\u001b[0m\u001b[0;34m(\u001b[0m\u001b[0;36m3\u001b[0m\u001b[0;34m)\u001b[0m\u001b[0;34m\u001b[0m\u001b[0;34m\u001b[0m\u001b[0m\n\u001b[0m",
      "\u001b[0;32m<ipython-input-22-0702f57afd95>\u001b[0m in \u001b[0;36mf1\u001b[0;34m(a)\u001b[0m\n\u001b[1;32m      1\u001b[0m \u001b[0;32mdef\u001b[0m \u001b[0mf1\u001b[0m\u001b[0;34m(\u001b[0m\u001b[0ma\u001b[0m\u001b[0;34m)\u001b[0m\u001b[0;34m:\u001b[0m\u001b[0;34m\u001b[0m\u001b[0;34m\u001b[0m\u001b[0m\n\u001b[1;32m      2\u001b[0m     \u001b[0mprint\u001b[0m\u001b[0;34m(\u001b[0m\u001b[0ma\u001b[0m\u001b[0;34m)\u001b[0m\u001b[0;34m\u001b[0m\u001b[0;34m\u001b[0m\u001b[0m\n\u001b[0;32m----> 3\u001b[0;31m     \u001b[0mprint\u001b[0m\u001b[0;34m(\u001b[0m\u001b[0mb\u001b[0m\u001b[0;34m)\u001b[0m\u001b[0;34m\u001b[0m\u001b[0;34m\u001b[0m\u001b[0m\n\u001b[0m\u001b[1;32m      4\u001b[0m \u001b[0;34m\u001b[0m\u001b[0m\n\u001b[1;32m      5\u001b[0m \u001b[0mf1\u001b[0m\u001b[0;34m(\u001b[0m\u001b[0;36m3\u001b[0m\u001b[0;34m)\u001b[0m\u001b[0;34m\u001b[0m\u001b[0;34m\u001b[0m\u001b[0m\n",
      "\u001b[0;31mNameError\u001b[0m: name 'b' is not defined"
     ]
    }
   ],
   "source": [
    "def f1(a):\n",
    "    print(a)\n",
    "    print(b)\n",
    "    \n",
    "f1(3)"
   ]
  },
  {
   "cell_type": "code",
   "execution_count": 23,
   "metadata": {},
   "outputs": [
    {
     "name": "stdout",
     "output_type": "stream",
     "text": [
      "3\n",
      "6\n"
     ]
    }
   ],
   "source": [
    "b=6\n",
    "f1(3)"
   ]
  },
  {
   "cell_type": "code",
   "execution_count": 26,
   "metadata": {},
   "outputs": [
    {
     "name": "stdout",
     "output_type": "stream",
     "text": [
      "3\n"
     ]
    },
    {
     "ename": "UnboundLocalError",
     "evalue": "local variable 'b' referenced before assignment",
     "output_type": "error",
     "traceback": [
      "\u001b[0;31m---------------------------------------------------------------------------\u001b[0m",
      "\u001b[0;31mUnboundLocalError\u001b[0m                         Traceback (most recent call last)",
      "\u001b[0;32m<ipython-input-26-2c05de11f9e6>\u001b[0m in \u001b[0;36m<module>\u001b[0;34m\u001b[0m\n\u001b[1;32m      5\u001b[0m     \u001b[0mb\u001b[0m\u001b[0;34m=\u001b[0m\u001b[0;36m9\u001b[0m\u001b[0;34m\u001b[0m\u001b[0;34m\u001b[0m\u001b[0m\n\u001b[1;32m      6\u001b[0m \u001b[0;34m\u001b[0m\u001b[0m\n\u001b[0;32m----> 7\u001b[0;31m \u001b[0mf2\u001b[0m\u001b[0;34m(\u001b[0m\u001b[0;36m3\u001b[0m\u001b[0;34m)\u001b[0m\u001b[0;34m\u001b[0m\u001b[0;34m\u001b[0m\u001b[0m\n\u001b[0m",
      "\u001b[0;32m<ipython-input-26-2c05de11f9e6>\u001b[0m in \u001b[0;36mf2\u001b[0;34m(a)\u001b[0m\n\u001b[1;32m      2\u001b[0m \u001b[0;32mdef\u001b[0m \u001b[0mf2\u001b[0m\u001b[0;34m(\u001b[0m\u001b[0ma\u001b[0m\u001b[0;34m)\u001b[0m\u001b[0;34m:\u001b[0m\u001b[0;34m\u001b[0m\u001b[0;34m\u001b[0m\u001b[0m\n\u001b[1;32m      3\u001b[0m     \u001b[0mprint\u001b[0m\u001b[0;34m(\u001b[0m\u001b[0ma\u001b[0m\u001b[0;34m)\u001b[0m\u001b[0;34m\u001b[0m\u001b[0;34m\u001b[0m\u001b[0m\n\u001b[0;32m----> 4\u001b[0;31m     \u001b[0mprint\u001b[0m\u001b[0;34m(\u001b[0m\u001b[0mb\u001b[0m\u001b[0;34m)\u001b[0m\u001b[0;34m\u001b[0m\u001b[0;34m\u001b[0m\u001b[0m\n\u001b[0m\u001b[1;32m      5\u001b[0m     \u001b[0mb\u001b[0m\u001b[0;34m=\u001b[0m\u001b[0;36m9\u001b[0m\u001b[0;34m\u001b[0m\u001b[0;34m\u001b[0m\u001b[0m\n\u001b[1;32m      6\u001b[0m \u001b[0;34m\u001b[0m\u001b[0m\n",
      "\u001b[0;31mUnboundLocalError\u001b[0m: local variable 'b' referenced before assignment"
     ]
    }
   ],
   "source": [
    "b = 6\n",
    "def f2(a):\n",
    "    print(a)\n",
    "    print(b)\n",
    "    b=9\n",
    "\n",
    "f2(3)"
   ]
  },
  {
   "cell_type": "markdown",
   "metadata": {},
   "source": [
    "이는 파이썬이 함수 본체를 컴파일할 때 b가 함수 안에서 할당되므로 b를 지역 변수로 판단하기 때문이다. 함수 안에 할당하는 문장이 있지만 인터프리터가 b를 전역 변수로 다루기 원한다면 `global` 키워드를 이용하여 선언해야 한다."
   ]
  },
  {
   "cell_type": "code",
   "execution_count": 30,
   "metadata": {},
   "outputs": [
    {
     "name": "stdout",
     "output_type": "stream",
     "text": [
      "3\n",
      "6\n"
     ]
    }
   ],
   "source": [
    "b = 6\n",
    "def f3(a):\n",
    "    global b\n",
    "    print(a)\n",
    "    print(b)\n",
    "    b = 9\n",
    "    \n",
    "f3(3)"
   ]
  },
  {
   "cell_type": "code",
   "execution_count": 31,
   "metadata": {},
   "outputs": [
    {
     "data": {
      "text/plain": [
       "9"
      ]
     },
     "execution_count": 31,
     "metadata": {},
     "output_type": "execute_result"
    }
   ],
   "source": [
    "b"
   ]
  },
  {
   "cell_type": "code",
   "execution_count": 32,
   "metadata": {},
   "outputs": [
    {
     "name": "stdout",
     "output_type": "stream",
     "text": [
      "3\n",
      "9\n"
     ]
    }
   ],
   "source": [
    "f3(3)"
   ]
  },
  {
   "cell_type": "code",
   "execution_count": 33,
   "metadata": {},
   "outputs": [
    {
     "name": "stdout",
     "output_type": "stream",
     "text": [
      "3\n",
      "30\n"
     ]
    }
   ],
   "source": [
    "b=30\n",
    "f3(3)"
   ]
  },
  {
   "cell_type": "markdown",
   "metadata": {},
   "source": [
    "`dis` 모듈을 사용하면 파이썬 함수를 쉽게 바이트코드로 디스어셈블할 수 있다."
   ]
  },
  {
   "cell_type": "code",
   "execution_count": 34,
   "metadata": {},
   "outputs": [
    {
     "name": "stdout",
     "output_type": "stream",
     "text": [
      "  2           0 LOAD_GLOBAL              0 (print)\n",
      "              2 LOAD_FAST                0 (a)\n",
      "              4 CALL_FUNCTION            1\n",
      "              6 POP_TOP\n",
      "\n",
      "  3           8 LOAD_GLOBAL              0 (print)\n",
      "             10 LOAD_GLOBAL              1 (b)\n",
      "             12 CALL_FUNCTION            1\n",
      "             14 POP_TOP\n",
      "             16 LOAD_CONST               0 (None)\n",
      "             18 RETURN_VALUE\n"
     ]
    }
   ],
   "source": [
    "from dis import dis\n",
    "dis(f1)"
   ]
  },
  {
   "cell_type": "code",
   "execution_count": 36,
   "metadata": {},
   "outputs": [
    {
     "name": "stdout",
     "output_type": "stream",
     "text": [
      "  3           0 LOAD_GLOBAL              0 (print)\n",
      "              2 LOAD_FAST                0 (a)\n",
      "              4 CALL_FUNCTION            1\n",
      "              6 POP_TOP\n",
      "\n",
      "  4           8 LOAD_GLOBAL              0 (print)\n",
      "             10 LOAD_FAST                1 (b)\n",
      "             12 CALL_FUNCTION            1\n",
      "             14 POP_TOP\n",
      "\n",
      "  5          16 LOAD_CONST               1 (9)\n",
      "             18 STORE_FAST               1 (b)\n",
      "             20 LOAD_CONST               0 (None)\n",
      "             22 RETURN_VALUE\n"
     ]
    }
   ],
   "source": [
    "dis(f2) # b를 지역 변수에서 불러옴"
   ]
  },
  {
   "cell_type": "markdown",
   "metadata": {},
   "source": [
    "# 7.5 클로저\n",
    "\n",
    "클로저는 함수 본체에서 정의하지 않고 참조하는 비전역(nonglobal) 변수를 포함한 확장 범위를 가진 함수다. 예제를 통해 알아보자."
   ]
  },
  {
   "cell_type": "code",
   "execution_count": 37,
   "metadata": {},
   "outputs": [],
   "source": [
    "class Averager():\n",
    "    def __init__(self):\n",
    "        self.series = []\n",
    "        \n",
    "    def __call__(self, new_value):\n",
    "        self.series.append(new_value)\n",
    "        total = sum(self.series)\n",
    "        return total/len(self.series)"
   ]
  },
  {
   "cell_type": "code",
   "execution_count": 38,
   "metadata": {},
   "outputs": [
    {
     "data": {
      "text/plain": [
       "10.0"
      ]
     },
     "execution_count": 38,
     "metadata": {},
     "output_type": "execute_result"
    }
   ],
   "source": [
    "avg = Averager()\n",
    "avg(10)"
   ]
  },
  {
   "cell_type": "code",
   "execution_count": 39,
   "metadata": {},
   "outputs": [
    {
     "data": {
      "text/plain": [
       "10.5"
      ]
     },
     "execution_count": 39,
     "metadata": {},
     "output_type": "execute_result"
    }
   ],
   "source": [
    "avg(11)"
   ]
  },
  {
   "cell_type": "code",
   "execution_count": 40,
   "metadata": {},
   "outputs": [
    {
     "data": {
      "text/plain": [
       "11.0"
      ]
     },
     "execution_count": 40,
     "metadata": {},
     "output_type": "execute_result"
    }
   ],
   "source": [
    "avg(12)"
   ]
  },
  {
   "cell_type": "markdown",
   "metadata": {},
   "source": [
    "고위 함수 `make_averager()`를 이용해서 구현한 예제를 보자."
   ]
  },
  {
   "cell_type": "code",
   "execution_count": 44,
   "metadata": {},
   "outputs": [],
   "source": [
    "def make_averager():\n",
    "    series = []\n",
    "    \n",
    "    def averager(new_value):\n",
    "        series.append(new_value)\n",
    "        total = sum(series)\n",
    "        return total/len(series)\n",
    "    \n",
    "    return averager"
   ]
  },
  {
   "cell_type": "code",
   "execution_count": 45,
   "metadata": {},
   "outputs": [
    {
     "data": {
      "text/plain": [
       "10.0"
      ]
     },
     "execution_count": 45,
     "metadata": {},
     "output_type": "execute_result"
    }
   ],
   "source": [
    "avg = make_averager()\n",
    "avg(10)"
   ]
  },
  {
   "cell_type": "code",
   "execution_count": 47,
   "metadata": {},
   "outputs": [
    {
     "data": {
      "text/plain": [
       "10.5"
      ]
     },
     "execution_count": 47,
     "metadata": {},
     "output_type": "execute_result"
    }
   ],
   "source": [
    "avg(11)"
   ]
  },
  {
   "cell_type": "code",
   "execution_count": 48,
   "metadata": {},
   "outputs": [
    {
     "data": {
      "text/plain": [
       "11.0"
      ]
     },
     "execution_count": 48,
     "metadata": {},
     "output_type": "execute_result"
    }
   ],
   "source": [
    "avg(12)"
   ]
  },
  {
   "cell_type": "markdown",
   "metadata": {},
   "source": [
    "두번째 예제의 `avg()` 함수는 어디에서 `series`를 찾을까? `average` 안에 있는 `series`는 자유 변수(free variable)이다. 이는 지역 범위에 바인딩되어 있지 않은 변수라는 의미이다."
   ]
  },
  {
   "cell_type": "code",
   "execution_count": 49,
   "metadata": {},
   "outputs": [
    {
     "data": {
      "text/plain": [
       "('new_value', 'total')"
      ]
     },
     "execution_count": 49,
     "metadata": {},
     "output_type": "execute_result"
    }
   ],
   "source": [
    "avg.__code__.co_varnames"
   ]
  },
  {
   "cell_type": "code",
   "execution_count": 50,
   "metadata": {},
   "outputs": [
    {
     "data": {
      "text/plain": [
       "('series',)"
      ]
     },
     "execution_count": 50,
     "metadata": {},
     "output_type": "execute_result"
    }
   ],
   "source": [
    "avg.__code__.co_freevars"
   ]
  },
  {
   "cell_type": "markdown",
   "metadata": {},
   "source": [
    "`series`에 대한 바인딩은 `avg()` 함수의 `__closure__` 속성에 저장되며, 이는 `avg.__code__.co_freevars`의 이름에 대응된다. 이 항목은 `cell` 객체이며, 이 객체의 `cell_contents` 속성에서 실제값을 찾을 수 있다."
   ]
  },
  {
   "cell_type": "code",
   "execution_count": 51,
   "metadata": {},
   "outputs": [
    {
     "data": {
      "text/plain": [
       "(<cell at 0x7ff9fe8b5378: list object at 0x7ff9ff514708>,)"
      ]
     },
     "execution_count": 51,
     "metadata": {},
     "output_type": "execute_result"
    }
   ],
   "source": [
    "avg.__closure__"
   ]
  },
  {
   "cell_type": "code",
   "execution_count": 52,
   "metadata": {},
   "outputs": [
    {
     "data": {
      "text/plain": [
       "[10, 11, 12]"
      ]
     },
     "execution_count": 52,
     "metadata": {},
     "output_type": "execute_result"
    }
   ],
   "source": [
    "avg.__closure__[0].cell_contents"
   ]
  },
  {
   "cell_type": "markdown",
   "metadata": {},
   "source": [
    "클로저는 함수를 정의할 때 존재하던 자유 변수에 대한 바인딩을 유지하는 함수다. 따라서 함수를 정의하는 범위가 사라진 후에 함수를 호출해도 자유 변수에 접근할 수 있다.\n",
    "\n",
    "함수가 '비전역' 외부 변수를 다루는 경우는 그 함수가 다른 함수 안에 정의된 경우 뿐이다."
   ]
  },
  {
   "cell_type": "markdown",
   "metadata": {},
   "source": [
    "# 7.6 nonlocal 선언\n",
    "\n",
    "앞서 구현한 `make_averager()`는 매번 합계를 재계산하므로 효율적이지 않다. 이를 개선한 다음 함수는 어디가 잘못되었을까?"
   ]
  },
  {
   "cell_type": "code",
   "execution_count": 54,
   "metadata": {},
   "outputs": [],
   "source": [
    "def make_averager():\n",
    "    count = 0\n",
    "    total = 0\n",
    "    \n",
    "    def averager(new_value):\n",
    "        count += 1\n",
    "        total += new_value\n",
    "        return total / count\n",
    "    \n",
    "    return averager"
   ]
  },
  {
   "cell_type": "code",
   "execution_count": 57,
   "metadata": {},
   "outputs": [
    {
     "ename": "UnboundLocalError",
     "evalue": "local variable 'count' referenced before assignment",
     "output_type": "error",
     "traceback": [
      "\u001b[0;31m---------------------------------------------------------------------------\u001b[0m",
      "\u001b[0;31mUnboundLocalError\u001b[0m                         Traceback (most recent call last)",
      "\u001b[0;32m<ipython-input-57-b5a6bb6dc4cd>\u001b[0m in \u001b[0;36m<module>\u001b[0;34m\u001b[0m\n\u001b[1;32m      1\u001b[0m \u001b[0mavg\u001b[0m \u001b[0;34m=\u001b[0m \u001b[0mmake_averager\u001b[0m\u001b[0;34m(\u001b[0m\u001b[0;34m)\u001b[0m\u001b[0;34m\u001b[0m\u001b[0;34m\u001b[0m\u001b[0m\n\u001b[0;32m----> 2\u001b[0;31m \u001b[0mavg\u001b[0m\u001b[0;34m(\u001b[0m\u001b[0;36m10\u001b[0m\u001b[0;34m)\u001b[0m\u001b[0;34m\u001b[0m\u001b[0;34m\u001b[0m\u001b[0m\n\u001b[0m",
      "\u001b[0;32m<ipython-input-54-441fdf395ae7>\u001b[0m in \u001b[0;36maverager\u001b[0;34m(new_value)\u001b[0m\n\u001b[1;32m      4\u001b[0m \u001b[0;34m\u001b[0m\u001b[0m\n\u001b[1;32m      5\u001b[0m     \u001b[0;32mdef\u001b[0m \u001b[0maverager\u001b[0m\u001b[0;34m(\u001b[0m\u001b[0mnew_value\u001b[0m\u001b[0;34m)\u001b[0m\u001b[0;34m:\u001b[0m\u001b[0;34m\u001b[0m\u001b[0;34m\u001b[0m\u001b[0m\n\u001b[0;32m----> 6\u001b[0;31m         \u001b[0mcount\u001b[0m \u001b[0;34m+=\u001b[0m \u001b[0;36m1\u001b[0m\u001b[0;34m\u001b[0m\u001b[0;34m\u001b[0m\u001b[0m\n\u001b[0m\u001b[1;32m      7\u001b[0m         \u001b[0mtotal\u001b[0m \u001b[0;34m+=\u001b[0m \u001b[0mnew_value\u001b[0m\u001b[0;34m\u001b[0m\u001b[0;34m\u001b[0m\u001b[0m\n\u001b[1;32m      8\u001b[0m         \u001b[0;32mreturn\u001b[0m \u001b[0mtotal\u001b[0m \u001b[0;34m/\u001b[0m \u001b[0mcount\u001b[0m\u001b[0;34m\u001b[0m\u001b[0;34m\u001b[0m\u001b[0m\n",
      "\u001b[0;31mUnboundLocalError\u001b[0m: local variable 'count' referenced before assignment"
     ]
    }
   ],
   "source": [
    "avg = make_averager()\n",
    "avg(10)"
   ]
  },
  {
   "cell_type": "markdown",
   "metadata": {},
   "source": [
    "`averager()` 본체 안에서 `count` 변수에 할당하고 있으므로 `count`를 지역 변수로 만들어 문제가 발생한다. `series`는 가변형 리스트였으므로 문제가 없었다. 그러나 `count = count + 1`과 같은 문장으로 변수를 다시 바인딩하면 암묵적으로 `count`라는 지역 변수를 만든다. `count`가 더이상 자유 변수가 아니므로 클로저에 저장되지 않는다.\n",
    "\n",
    "이를 해결하기 위해 `nonlocal` 선언이 소개되었다. 변수를 `nonlocal`로 선언하면 함수 안에서 변수에 새로운 값을 할당하더라도 그 변수는 자유 변수로 남는다."
   ]
  },
  {
   "cell_type": "code",
   "execution_count": 64,
   "metadata": {},
   "outputs": [],
   "source": [
    "def make_averager():\n",
    "    count = 0\n",
    "    total = 0\n",
    "    \n",
    "    def averager(new_value):\n",
    "        nonlocal count, total\n",
    "        count += 1\n",
    "        total += new_value\n",
    "        return total / count\n",
    "    \n",
    "    return averager"
   ]
  },
  {
   "cell_type": "code",
   "execution_count": 65,
   "metadata": {},
   "outputs": [
    {
     "data": {
      "text/plain": [
       "10.0"
      ]
     },
     "execution_count": 65,
     "metadata": {},
     "output_type": "execute_result"
    }
   ],
   "source": [
    "avg = make_averager()\n",
    "avg(10)"
   ]
  },
  {
   "cell_type": "markdown",
   "metadata": {},
   "source": [
    "# 7.7 간단한 데커레이터 구현하기\n",
    "\n",
    "데커레이트된 함수를 호출할 때마다 시간을 측정하는 데커레이터를 구현해보자."
   ]
  },
  {
   "cell_type": "code",
   "execution_count": 69,
   "metadata": {},
   "outputs": [
    {
     "name": "stdout",
     "output_type": "stream",
     "text": [
      "import time\n",
      "\n",
      "def clock(func):\n",
      "    def clocked(*args):\n",
      "        t0 = time.perf_counter()\n",
      "        result = func(*args)\n",
      "        elapsed = time.perf_counter() - t0\n",
      "        name = func.__name__\n",
      "        arg_str = ', '.join(repr(arg) for arg in args)\n",
      "        print('[%0.8fs] %s(%s) -> %r' % (elapsed, name, arg_str, result))\n",
      "        return result\n",
      "    return clocked\n",
      "\n"
     ]
    }
   ],
   "source": [
    "!cat clockdeco.py"
   ]
  },
  {
   "cell_type": "code",
   "execution_count": 70,
   "metadata": {},
   "outputs": [
    {
     "name": "stdout",
     "output_type": "stream",
     "text": [
      "import time\n",
      "from clockdeco import clock\n",
      "\n",
      "@clock\n",
      "def snooze(seconds):\n",
      "    time.sleep(seconds)\n",
      "\n",
      "@clock\n",
      "def factorial(n):\n",
      "    return 1 if n < 2 else n*factorial(n-1)\n",
      "\n",
      "if __name__=='__main__':\n",
      "    print('*'*40, 'Calling snooze(.123)')\n",
      "    snooze(.123)\n",
      "    print('*'*40, 'Calling factorial(6)')\n",
      "    print('6! =', factorial(6))\n"
     ]
    }
   ],
   "source": [
    "!cat clockdeco_demo.py"
   ]
  },
  {
   "cell_type": "markdown",
   "metadata": {},
   "source": [
    "`clock()`은 `factorial()` 함수를 `func` 인수로 받아 `clocked()` 함수를 `factorial`에 할당한다."
   ]
  },
  {
   "cell_type": "code",
   "execution_count": 73,
   "metadata": {},
   "outputs": [
    {
     "name": "stdout",
     "output_type": "stream",
     "text": [
      "**************************************** Calling snooze(.123)\n",
      "[0.12327307s] snooze(0.123) -> None\n",
      "**************************************** Calling factorial(6)\n",
      "[0.00000170s] factorial(1) -> 1\n",
      "[0.00003449s] factorial(2) -> 2\n",
      "[0.00005784s] factorial(3) -> 6\n",
      "[0.00007755s] factorial(4) -> 24\n",
      "[0.00010590s] factorial(5) -> 120\n",
      "[0.00013080s] factorial(6) -> 720\n",
      "6! = 720\n"
     ]
    }
   ],
   "source": [
    "!python clockdeco_demo.py"
   ]
  },
  {
   "cell_type": "code",
   "execution_count": 71,
   "metadata": {},
   "outputs": [
    {
     "data": {
      "text/plain": [
       "'clocked'"
      ]
     },
     "execution_count": 71,
     "metadata": {},
     "output_type": "execute_result"
    }
   ],
   "source": [
    "import clockdeco_demo\n",
    "clockdeco_demo.factorial.__name__"
   ]
  },
  {
   "cell_type": "markdown",
   "metadata": {},
   "source": [
    "따라서 `factorial`이 `clocked`를 참조하는 것을 확인할 수 있다.\n",
    "\n",
    "이렇게 구현한 `clock()` 데커레이터는 단점이 몇 개 있다. 키워드 인수를 지원하지 않으며, 데커레이트된 함수의 `__name__`과 `__doc__` 속성을 가린다. 이를 `functools.wraps()` 데커레이터를 이용해서 해결할 수 있다."
   ]
  },
  {
   "cell_type": "code",
   "execution_count": 72,
   "metadata": {},
   "outputs": [
    {
     "name": "stdout",
     "output_type": "stream",
     "text": [
      "import time\n",
      "import functools\n",
      "\n",
      "def clock(func):\n",
      "    @functools.wraps(func)\n",
      "    def clocked(*args,**kwargs):\n",
      "        t0 = time.time()\n",
      "        result = func(*args, **kwargs)\n",
      "        elapsed = time.time() - t0\n",
      "        arg_lst = []\n",
      "        name = func.__name__\n",
      "        if args:\n",
      "            arg_lst.append(', '.join(repr(arg) for arg in args))\n",
      "        if kwargs:\n",
      "            pairs = ['%s=%r' % (k,w) for k,w in sorted(kwargs.items())]\n",
      "            arg_lst.append(', '.join(pairs))\n",
      "        arg_str = ', '.join(arg_lst)\n",
      "        print('[%0.8fs] %s(%s) -> %r' % (elapsed, name, arg_str, result))\n",
      "        return result\n",
      "    return clocked\n"
     ]
    }
   ],
   "source": [
    "!cat clockdeco2.py"
   ]
  },
  {
   "cell_type": "code",
   "execution_count": 1,
   "metadata": {},
   "outputs": [
    {
     "name": "stdout",
     "output_type": "stream",
     "text": [
      "import time\n",
      "from clockdeco2 import clock\n",
      "\n",
      "@clock\n",
      "def snooze(seconds):\n",
      "    time.sleep(seconds)\n",
      "\n",
      "@clock\n",
      "def factorial(n):\n",
      "    return 1 if n < 2 else n*factorial(n-1)\n",
      "\n",
      "if __name__=='__main__':\n",
      "    print('*'*40, 'Calling snooze(.123)')\n",
      "    snooze(.123)\n",
      "    print('*'*40, 'Calling factorial(6)')\n",
      "    print('6! =', factorial(6))\n"
     ]
    }
   ],
   "source": [
    "!cat clockdeco2_demo.py"
   ]
  },
  {
   "cell_type": "code",
   "execution_count": 74,
   "metadata": {},
   "outputs": [
    {
     "name": "stdout",
     "output_type": "stream",
     "text": [
      "**************************************** Calling snooze(.123)\n",
      "[0.12323165s] snooze(0.123) -> None\n",
      "**************************************** Calling factorial(6)\n",
      "[0.00000048s] factorial(1) -> 1\n",
      "[0.00000978s] factorial(2) -> 2\n",
      "[0.00001526s] factorial(3) -> 6\n",
      "[0.00002003s] factorial(4) -> 24\n",
      "[0.00002813s] factorial(5) -> 120\n",
      "[0.00003839s] factorial(6) -> 720\n",
      "6! = 720\n"
     ]
    }
   ],
   "source": [
    "!python clockdeco2_demo.py"
   ]
  },
  {
   "cell_type": "code",
   "execution_count": 76,
   "metadata": {},
   "outputs": [
    {
     "data": {
      "text/plain": [
       "'factorial'"
      ]
     },
     "execution_count": 76,
     "metadata": {},
     "output_type": "execute_result"
    }
   ],
   "source": [
    "import clockdeco2_demo\n",
    "clockdeco2_demo.factorial.__name__"
   ]
  },
  {
   "cell_type": "markdown",
   "metadata": {},
   "source": [
    "해결!"
   ]
  },
  {
   "cell_type": "markdown",
   "metadata": {},
   "source": [
    "# 7.8 표준 라이브러리에서 제공하는 데커레이터\n",
    "\n",
    "파이썬에서는 메서드를 데커레이트하기 위해 `property()`, `classmethod()`, `staticmethod()` 등 총 3개의 내장 함수를 제공한다. 나중에 살펴보자.\n",
    "\n",
    "여기서는 `lru_cache()`와 `singledispatch()` 를 알아보자."
   ]
  },
  {
   "cell_type": "markdown",
   "metadata": {},
   "source": [
    "## 7.8.1 functools.lru_cache()를 이용한 메모이제이션\n",
    "\n",
    "`functools.lru_cache()`는 이전에 실행한 값비싼 함수의 결과를 저장함으로써 이전에 사용된 인수에 대해 다시 계산할 필요하게 없게 해주는 메모이제이션(memoization)을 구현한다. 다음 피보나치 수열 생성 예제를 살펴보자."
   ]
  },
  {
   "cell_type": "code",
   "execution_count": 80,
   "metadata": {},
   "outputs": [
    {
     "name": "stdout",
     "output_type": "stream",
     "text": [
      "from clockdemo import clock\n",
      "\n",
      "@clock\n",
      "def fibonacci(n):\n",
      "    if n<2:\n",
      "        return n\n",
      "    return fibonacci(n-1) + fibonacci(n-2)\n",
      "\n",
      "if __name__=='__main__':\n",
      "    print(fibonacci(6))"
     ]
    }
   ],
   "source": [
    "!cat fibo_demo.py"
   ]
  },
  {
   "cell_type": "code",
   "execution_count": 82,
   "metadata": {},
   "outputs": [
    {
     "name": "stdout",
     "output_type": "stream",
     "text": [
      "[0.00000024s] fibonacci(0) -> 0\n",
      "[0.00000031s] fibonacci(1) -> 1\n",
      "[0.00003866s] fibonacci(2) -> 1\n",
      "[0.00000015s] fibonacci(1) -> 1\n",
      "[0.00000019s] fibonacci(0) -> 0\n",
      "[0.00000017s] fibonacci(1) -> 1\n",
      "[0.00000751s] fibonacci(2) -> 1\n",
      "[0.00003632s] fibonacci(3) -> 2\n",
      "[0.00008208s] fibonacci(4) -> 3\n",
      "[0.00000014s] fibonacci(1) -> 1\n",
      "[0.00000014s] fibonacci(0) -> 0\n",
      "[0.00000016s] fibonacci(1) -> 1\n",
      "[0.00000749s] fibonacci(2) -> 1\n",
      "[0.00001360s] fibonacci(3) -> 2\n",
      "[0.00000013s] fibonacci(0) -> 0\n",
      "[0.00000016s] fibonacci(1) -> 1\n",
      "[0.00000746s] fibonacci(2) -> 1\n",
      "[0.00000014s] fibonacci(1) -> 1\n",
      "[0.00000021s] fibonacci(0) -> 0\n",
      "[0.00000017s] fibonacci(1) -> 1\n",
      "[0.00002089s] fibonacci(2) -> 1\n",
      "[0.00002796s] fibonacci(3) -> 2\n",
      "[0.00004227s] fibonacci(4) -> 3\n",
      "[0.00006286s] fibonacci(5) -> 5\n",
      "[0.00015219s] fibonacci(6) -> 8\n",
      "8\n"
     ]
    }
   ],
   "source": [
    "!python fibo_demo.py"
   ]
  },
  {
   "cell_type": "markdown",
   "metadata": {},
   "source": [
    "이는 계산 낭비가 엄청나다. 이를 `lru_cache()`를 이용하여 개선해보자."
   ]
  },
  {
   "cell_type": "code",
   "execution_count": 83,
   "metadata": {},
   "outputs": [
    {
     "name": "stdout",
     "output_type": "stream",
     "text": [
      "import functools\n",
      "from clockdeco import clock\n",
      "\n",
      "@functools.lru_cache()\n",
      "@clock\n",
      "def fibonacci(n):\n",
      "    if n<2:\n",
      "        return n\n",
      "    return fibonacci(n-2) + fibonacci(n-1)\n",
      "\n",
      "if __name__=='__main__':\n",
      "    print(fibonacci(6))"
     ]
    }
   ],
   "source": [
    "!cat fibo_demo_lru.py"
   ]
  },
  {
   "cell_type": "code",
   "execution_count": 84,
   "metadata": {},
   "outputs": [
    {
     "name": "stdout",
     "output_type": "stream",
     "text": [
      "[0.00000029s] fibonacci(0) -> 0\n",
      "[0.00000023s] fibonacci(1) -> 1\n",
      "[0.00004025s] fibonacci(2) -> 1\n",
      "[0.00000036s] fibonacci(3) -> 2\n",
      "[0.00006736s] fibonacci(4) -> 3\n",
      "[0.00000032s] fibonacci(5) -> 5\n",
      "[0.00009442s] fibonacci(6) -> 8\n",
      "8\n"
     ]
    }
   ],
   "source": [
    "!python fibo_demo_lru.py"
   ]
  },
  {
   "cell_type": "markdown",
   "metadata": {},
   "source": [
    "`lru_cache()`는 다음 두 개의 인수를 지닌다.\n",
    "* maxsize : 얼마나 많은 호출을 저장할지 결정\n",
    "* typed : True일 때 인수의 자료형이 다르면 결과를 따로 저장\n",
    "\n",
    "`lru_cache()`에 의해 데커레이트된 함수의 인수는 모두 해시 가능해야 한다."
   ]
  },
  {
   "cell_type": "markdown",
   "metadata": {},
   "source": [
    "## 7.8.2 단일 디스패치를 이용한 범용 함수\n",
    "\n",
    "웹 어플리케이션을 디버깅하는 도구를 만들고 있다고 가정하자."
   ]
  },
  {
   "cell_type": "code",
   "execution_count": 85,
   "metadata": {},
   "outputs": [],
   "source": [
    "import html\n",
    "\n",
    "def htmlize(obj):\n",
    "    content = html.escape(repr(obj))\n",
    "    return '<pre>{}</pre>'.format(content)"
   ]
  },
  {
   "cell_type": "code",
   "execution_count": 86,
   "metadata": {},
   "outputs": [
    {
     "data": {
      "text/plain": [
       "\u001b[0;31mSignature:\u001b[0m \u001b[0mhtml\u001b[0m\u001b[0;34m.\u001b[0m\u001b[0mescape\u001b[0m\u001b[0;34m(\u001b[0m\u001b[0ms\u001b[0m\u001b[0;34m,\u001b[0m \u001b[0mquote\u001b[0m\u001b[0;34m=\u001b[0m\u001b[0;32mTrue\u001b[0m\u001b[0;34m)\u001b[0m\u001b[0;34m\u001b[0m\u001b[0;34m\u001b[0m\u001b[0m\n",
       "\u001b[0;31mDocstring:\u001b[0m\n",
       "Replace special characters \"&\", \"<\" and \">\" to HTML-safe sequences.\n",
       "If the optional flag quote is true (the default), the quotation mark\n",
       "characters, both double quote (\") and single quote (') characters are also\n",
       "translated.\n",
       "\u001b[0;31mFile:\u001b[0m      /usr/lib/python3.7/html/__init__.py\n",
       "\u001b[0;31mType:\u001b[0m      function\n"
      ]
     },
     "metadata": {},
     "output_type": "display_data"
    }
   ],
   "source": [
    "html.escape?"
   ]
  },
  {
   "cell_type": "markdown",
   "metadata": {},
   "source": [
    "일부 자료형에 대해 다음과 같이 고유한 코드를 생성하도록 이 코드를 확장하려고 한다.\n",
    "\n",
    "* str : 개행 문자를 `<br>\\n`으로 대체하고 `<pre>` 대신 `<p>` 태그를 사용한다.\n",
    "* int : 숫자를 10진수와 16진수로 보여준다.\n",
    "* list : 각 항목을 자료형에 따라 포맷한 HTML 리스트를 출력한다.\n",
    "\n",
    "이는 `if/elif/elif`와 특화함수 등을 이용하여 구현할 수 있지만 시간이 지나면서 관리가 너무 어려워진다. \n",
    "\n",
    "이를 해결하기 위해 `functools.singledispatch()` 데커레이터가 파이썬 3.4에서 새로 소개되었다. 일반 함수를 `singledispatch()`로 데커레이트하면 이 함수는 범용 함수(generic function)이 되어, 첫 번째 인수의 자료형에 따라 서로 다른 방식으로 연산을 수행하게 된다."
   ]
  },
  {
   "cell_type": "code",
   "execution_count": 92,
   "metadata": {},
   "outputs": [],
   "source": [
    "from functools import singledispatch\n",
    "from collections import abc\n",
    "import numbers\n",
    "import html\n",
    "\n",
    "@singledispatch\n",
    "def htmlize(obj):\n",
    "    content = html.escape(repr(obj))\n",
    "    return '<pre>{}</pre>'.format(content)\n",
    "\n",
    "@htmlize.register(str) # 각각의 특화된 함수는 @<기반_함수>.register(<객체형>)으로 데커레이트\n",
    "def _(text): # 특화된 함수의 이름은 필요없음\n",
    "    content = html.escape(text).replace('\\n','<br>\\n')\n",
    "    return '<p>{}</p>'.format(content)\n",
    "\n",
    "@htmlize.register(numbers.Integral)\n",
    "def _(n):\n",
    "    return '<pre>{0} (0x{0:x})</pre>'.format(n)\n",
    "\n",
    "@htmlize.register(tuple)\n",
    "@htmlize.register(abc.MutableSequence)\n",
    "def _(seq):\n",
    "    inner = '</li>\\n<li>'.join(htmlize(item) for item in seq)\n",
    "    return '<ul>\\n<li>{}</li>\\n</ul>'.format(inner)"
   ]
  },
  {
   "cell_type": "markdown",
   "metadata": {},
   "source": [
    "가능하면 `int`나 `list`와 같은 구상 클래스보다 `numbers.Integral`이나 `abc.MutableSequence`와 같은 추상 베이스 클래스를 처리하도록 특화된 함수를 등록하는 것이 좋다.\n",
    "\n",
    "`singledispatch` 메커니즘은 특화된 함수를 시스템 어디엔, 어느 모듈에나 등록할 수 있다는 장점이 있다."
   ]
  },
  {
   "cell_type": "markdown",
   "metadata": {},
   "source": [
    "# 7.9 누적된 데커레이터\n",
    "\n",
    "하나의 함수 `f()`에 두 데커레이터 `@d1`과 `@d2`를 차례대로 적용하면 결과는 `f = d1(d2(f))`와 같다."
   ]
  },
  {
   "cell_type": "markdown",
   "metadata": {},
   "source": [
    "# 7.10 매개변수화된 데커레이터\n",
    "\n",
    "다른 인수를 받는 데커레이터를 어떻게 만들 수 있는지에 대해 알아보자."
   ]
  },
  {
   "cell_type": "code",
   "execution_count": 93,
   "metadata": {},
   "outputs": [
    {
     "name": "stdout",
     "output_type": "stream",
     "text": [
      "running register(<function f1 at 0x7ff9fec522f0>)\n",
      "running main()\n",
      "registry -> [<function f1 at 0x7ff9fec522f0>]\n",
      "running f1()\n"
     ]
    }
   ],
   "source": [
    "registry = []\n",
    "\n",
    "def register(func):\n",
    "    print('running register(%s)' % func)\n",
    "    registry.append(func)\n",
    "    return func\n",
    "\n",
    "@register\n",
    "def f1():\n",
    "    print('running f1()')\n",
    "    \n",
    "print('running main()')\n",
    "print('registry ->', registry)\n",
    "f1()"
   ]
  },
  {
   "cell_type": "markdown",
   "metadata": {},
   "source": [
    "## 7.10.1 매개변수화된 등록 데커레이터\n",
    "\n",
    "`register()`가 등록하는 함수를 활성화 혹은 비활성화하기 쉽게 만들기 위해 선택 인수 `active`를 도입하자."
   ]
  },
  {
   "cell_type": "code",
   "execution_count": 3,
   "metadata": {},
   "outputs": [
    {
     "name": "stdout",
     "output_type": "stream",
     "text": [
      "running register(active=False)->decorate(<function f1 at 0x7f98ca15e1e0>)\n",
      "running register(active=True)->decorate(<function f2 at 0x7f98ca15e400>)\n"
     ]
    }
   ],
   "source": [
    "registry = set()\n",
    "\n",
    "def register(active=True):\n",
    "    def decorate(func):\n",
    "        print('running register(active=%s)->decorate(%s)' % (active, func))\n",
    "        if active:\n",
    "            registry.add(func)\n",
    "        else:\n",
    "            registry.discard(func)\n",
    "            \n",
    "        return func\n",
    "    return decorate\n",
    "\n",
    "@register(active=False)\n",
    "def f1():\n",
    "    print('running f1()')\n",
    "    \n",
    "@register()\n",
    "def f2():\n",
    "    print('running f2()')\n",
    "\n",
    "def f3():\n",
    "    print('running f3()')"
   ]
  },
  {
   "cell_type": "code",
   "execution_count": 95,
   "metadata": {},
   "outputs": [
    {
     "data": {
      "text/plain": [
       "{<function __main__.f2()>}"
      ]
     },
     "execution_count": 95,
     "metadata": {},
     "output_type": "execute_result"
    }
   ],
   "source": [
    "registry"
   ]
  },
  {
   "cell_type": "markdown",
   "metadata": {},
   "source": [
    "## 7.10.2 매개변수화된 clock 데커레이터\n",
    "\n",
    "이 절에서는 `clock()` 데커레이터를 수정하여, 사용자가 포맷 문자열을 전달해서 데커레이트된 함수가 출력할 문자열을 설정한다."
   ]
  },
  {
   "cell_type": "code",
   "execution_count": 96,
   "metadata": {},
   "outputs": [
    {
     "name": "stdout",
     "output_type": "stream",
     "text": [
      "import time\n",
      "\n",
      "DEFAULT_FMT = '[{elapsed:0.8f}s] {name}({args}) -> {result}'\n",
      "\n",
      "def clock(fmt=DEFAULT_FMT): # 매개변수화된 데커레이터 팩토리\n",
      "    def decorate(func): # 실제 데커레이터\n",
      "        def clocked(*_args): #데커레이트된 함수를 래핑\n",
      "            t0 = time.time()\n",
      "            _result = func(*_args) # 함수의 실제 연산 결과\n",
      "            elapsed = time.time() - t0\n",
      "            name = func.__name__\n",
      "            args = ', '.join(repr(arg) for arg in _args)\n",
      "            result = repr(_result) # _result를 문자화\n",
      "            print(fmt.format(**locals())) # fmt가 clocked()의 지역 변수를 모두 참조\n",
      "            return _result # clocked는 데커레이트된 함수를 대체하므로, 원래 함수가 반환하는 값을 반환\n",
      "        return clocked\n",
      "    return decorate\n",
      "\n",
      "\n",
      "if __name__=='__main__':\n",
      "    \n",
      "    @clock()\n",
      "    def snooze(seconds):\n",
      "        time.sleep(seconds)\n",
      "        \n",
      "    for i in range(3):\n",
      "        snooze(.123)"
     ]
    }
   ],
   "source": [
    "!cat clockdeco_param.py"
   ]
  },
  {
   "cell_type": "code",
   "execution_count": 97,
   "metadata": {},
   "outputs": [
    {
     "name": "stdout",
     "output_type": "stream",
     "text": [
      "[0.12324476s] snooze(0.123) -> None\n",
      "[0.12322211s] snooze(0.123) -> None\n",
      "[0.12327051s] snooze(0.123) -> None\n"
     ]
    }
   ],
   "source": [
    "!python clockdeco_param.py"
   ]
  },
  {
   "cell_type": "markdown",
   "metadata": {},
   "source": [
    "다른 예제를 살펴보자."
   ]
  },
  {
   "cell_type": "code",
   "execution_count": 98,
   "metadata": {},
   "outputs": [
    {
     "name": "stdout",
     "output_type": "stream",
     "text": [
      "import time\n",
      "from clockdeco_param import clock\n",
      "\n",
      "@clock('{name}: {elapsed}s')\n",
      "def snooze(seconds):\n",
      "    time.sleep(seconds)\n",
      "    \n",
      "for i in range(3):\n",
      "    snooze(.123)"
     ]
    }
   ],
   "source": [
    "!cat clockdeco_param_demo1.py"
   ]
  },
  {
   "cell_type": "code",
   "execution_count": 99,
   "metadata": {},
   "outputs": [
    {
     "name": "stdout",
     "output_type": "stream",
     "text": [
      "snooze: 0.12325072288513184s\n",
      "snooze: 0.1232154369354248s\n",
      "snooze: 0.1232461929321289s\n"
     ]
    }
   ],
   "source": [
    "!python clockdeco_param_demo1.py"
   ]
  },
  {
   "cell_type": "code",
   "execution_count": 100,
   "metadata": {},
   "outputs": [
    {
     "name": "stdout",
     "output_type": "stream",
     "text": [
      "import time\n",
      "from clockdeco_param import clock\n",
      "\n",
      "@clock('{name}({args}) dt={elapsed:0.3f}s')\n",
      "def snooze(seconds):\n",
      "    time.sleep(seconds)\n",
      "    \n",
      "for i in range(3):\n",
      "    snooze(.123)"
     ]
    }
   ],
   "source": [
    "!cat clockdeco_param_demo2.py"
   ]
  },
  {
   "cell_type": "code",
   "execution_count": 101,
   "metadata": {},
   "outputs": [
    {
     "name": "stdout",
     "output_type": "stream",
     "text": [
      "snooze(0.123) dt=0.123s\n",
      "snooze(0.123) dt=0.123s\n",
      "snooze(0.123) dt=0.123s\n"
     ]
    }
   ],
   "source": [
    "!python clockdeco_param_demo2.py"
   ]
  },
  {
   "cell_type": "markdown",
   "metadata": {},
   "source": [
    "# 끗!"
   ]
  },
  {
   "cell_type": "code",
   "execution_count": null,
   "metadata": {},
   "outputs": [],
   "source": []
  }
 ],
 "metadata": {
  "kernelspec": {
   "display_name": "Python 3",
   "language": "python",
   "name": "python3"
  },
  "language_info": {
   "codemirror_mode": {
    "name": "ipython",
    "version": 3
   },
   "file_extension": ".py",
   "mimetype": "text/x-python",
   "name": "python",
   "nbconvert_exporter": "python",
   "pygments_lexer": "ipython3",
   "version": "3.7.3"
  }
 },
 "nbformat": 4,
 "nbformat_minor": 4
}
