{
 "cells": [
  {
   "cell_type": "markdown",
   "metadata": {},
   "source": [
    "# 3.1 일반적인 매핑형\n",
    "\n",
    "`collections.abc` 모듈은 `dict` 및 이와 유사한 자료형의 인터페이스를 정의하기 위해 `Mapping` 및 `MutableMapping` 추상 베이스 클래스를 제공한다."
   ]
  },
  {
   "cell_type": "code",
   "execution_count": 1,
   "metadata": {},
   "outputs": [
    {
     "data": {
      "text/plain": [
       "True"
      ]
     },
     "execution_count": 1,
     "metadata": {},
     "output_type": "execute_result"
    }
   ],
   "source": [
    "my_dict = {}\n",
    "import collections\n",
    "isinstance(my_dict, collections.abc.Mapping)"
   ]
  },
  {
   "cell_type": "markdown",
   "metadata": {},
   "source": [
    "표준 라이브러리에서 제공하는 매핑형은 모두 `dict`를 이용해서 구현하므로, 키가 __해시 가능__해야한다. 여기서 해시 가능하다는 말은 변하지 않는 해시값을 갖고 있고(`__hash__()` 메서드) 다른 객체와 비교할 수 있다(`__eq__()` 메서드)는 말이다. 원자적 불변형(str, byte, 수치형)은 모두 해시 가능하며, frozenset 또한 해시 가능하다. 튜플은 모든 항목들이 모두 해시 가능해야 해시 가능하다."
   ]
  },
  {
   "cell_type": "code",
   "execution_count": 2,
   "metadata": {},
   "outputs": [
    {
     "data": {
      "text/plain": [
       "8027212646858338501"
      ]
     },
     "execution_count": 2,
     "metadata": {},
     "output_type": "execute_result"
    }
   ],
   "source": [
    "tt = (1,2,(30,40))\n",
    "hash(tt)"
   ]
  },
  {
   "cell_type": "code",
   "execution_count": 3,
   "metadata": {},
   "outputs": [
    {
     "ename": "TypeError",
     "evalue": "unhashable type: 'list'",
     "output_type": "error",
     "traceback": [
      "\u001b[0;31m---------------------------------------------------------------------------\u001b[0m",
      "\u001b[0;31mTypeError\u001b[0m                                 Traceback (most recent call last)",
      "\u001b[0;32m<ipython-input-3-f7ea546b2bf3>\u001b[0m in \u001b[0;36m<module>\u001b[0;34m\u001b[0m\n\u001b[1;32m      1\u001b[0m \u001b[0mtl\u001b[0m \u001b[0;34m=\u001b[0m \u001b[0;34m(\u001b[0m\u001b[0;36m1\u001b[0m\u001b[0;34m,\u001b[0m\u001b[0;36m2\u001b[0m\u001b[0;34m,\u001b[0m\u001b[0;34m[\u001b[0m\u001b[0;36m30\u001b[0m\u001b[0;34m,\u001b[0m\u001b[0;36m40\u001b[0m\u001b[0;34m]\u001b[0m\u001b[0;34m)\u001b[0m\u001b[0;34m\u001b[0m\u001b[0;34m\u001b[0m\u001b[0m\n\u001b[0;32m----> 2\u001b[0;31m \u001b[0mhash\u001b[0m\u001b[0;34m(\u001b[0m\u001b[0mtl\u001b[0m\u001b[0;34m)\u001b[0m\u001b[0;34m\u001b[0m\u001b[0;34m\u001b[0m\u001b[0m\n\u001b[0m",
      "\u001b[0;31mTypeError\u001b[0m: unhashable type: 'list'"
     ]
    }
   ],
   "source": [
    "tl = (1,2,[30,40])\n",
    "hash(tl)"
   ]
  },
  {
   "cell_type": "code",
   "execution_count": 4,
   "metadata": {},
   "outputs": [
    {
     "data": {
      "text/plain": [
       "985328935373711578"
      ]
     },
     "execution_count": 4,
     "metadata": {},
     "output_type": "execute_result"
    }
   ],
   "source": [
    "tf = (1,2,frozenset([30,40]))\n",
    "hash(tf)"
   ]
  },
  {
   "cell_type": "markdown",
   "metadata": {},
   "source": [
    "딕셔너리는 다음과 같이 다양한 방법으로 구현할 수 있다."
   ]
  },
  {
   "cell_type": "code",
   "execution_count": 5,
   "metadata": {},
   "outputs": [
    {
     "data": {
      "text/plain": [
       "{'one': 1, 'two': 2}"
      ]
     },
     "execution_count": 5,
     "metadata": {},
     "output_type": "execute_result"
    }
   ],
   "source": [
    "a = dict(one=1, two=2)\n",
    "a"
   ]
  },
  {
   "cell_type": "code",
   "execution_count": 7,
   "metadata": {},
   "outputs": [
    {
     "data": {
      "text/plain": [
       "{'one': 1, 'two': 2}"
      ]
     },
     "execution_count": 7,
     "metadata": {},
     "output_type": "execute_result"
    }
   ],
   "source": [
    "b = {'one':1, 'two':2}\n",
    "b"
   ]
  },
  {
   "cell_type": "code",
   "execution_count": 8,
   "metadata": {},
   "outputs": [
    {
     "data": {
      "text/plain": [
       "{'one': 1, 'two': 2}"
      ]
     },
     "execution_count": 8,
     "metadata": {},
     "output_type": "execute_result"
    }
   ],
   "source": [
    "c = dict(zip(['one','two'],[1,2]))\n",
    "c"
   ]
  },
  {
   "cell_type": "code",
   "execution_count": 11,
   "metadata": {},
   "outputs": [
    {
     "data": {
      "text/plain": [
       "{'two': 2, 'one': 1}"
      ]
     },
     "execution_count": 11,
     "metadata": {},
     "output_type": "execute_result"
    }
   ],
   "source": [
    "d = dict([('two',2),('one',1)])\n",
    "d"
   ]
  },
  {
   "cell_type": "code",
   "execution_count": 12,
   "metadata": {},
   "outputs": [
    {
     "data": {
      "text/plain": [
       "{'one': 1, 'two': 2}"
      ]
     },
     "execution_count": 12,
     "metadata": {},
     "output_type": "execute_result"
    }
   ],
   "source": [
    "e = dict({'one':1, 'two':2})\n",
    "e"
   ]
  },
  {
   "cell_type": "code",
   "execution_count": 13,
   "metadata": {},
   "outputs": [
    {
     "data": {
      "text/plain": [
       "True"
      ]
     },
     "execution_count": 13,
     "metadata": {},
     "output_type": "execute_result"
    }
   ],
   "source": [
    "a == b == c == d == e"
   ]
  },
  {
   "cell_type": "markdown",
   "metadata": {},
   "source": [
    "# 3.2 지능형 딕셔너리"
   ]
  },
  {
   "cell_type": "code",
   "execution_count": 15,
   "metadata": {},
   "outputs": [],
   "source": [
    "DIAL_CODES = [\n",
    "    (86, 'China'),\n",
    "    (91, 'India'),\n",
    "    (55, 'Brazil'),\n",
    "]"
   ]
  },
  {
   "cell_type": "code",
   "execution_count": 16,
   "metadata": {},
   "outputs": [
    {
     "data": {
      "text/plain": [
       "{'China': 86, 'India': 91, 'Brazil': 55}"
      ]
     },
     "execution_count": 16,
     "metadata": {},
     "output_type": "execute_result"
    }
   ],
   "source": [
    "country_code = {country: code for code, country in DIAL_CODES}\n",
    "country_code"
   ]
  },
  {
   "cell_type": "code",
   "execution_count": 21,
   "metadata": {},
   "outputs": [
    {
     "data": {
      "text/plain": [
       "{55: 'BRAZIL'}"
      ]
     },
     "execution_count": 21,
     "metadata": {},
     "output_type": "execute_result"
    }
   ],
   "source": [
    "{code: country.upper() for country, code in country_code.items()\n",
    "    if code < 70}"
   ]
  },
  {
   "cell_type": "markdown",
   "metadata": {},
   "source": [
    "# 3.3 공통적인 매핑 메서드\n",
    "\n",
    "`d.update(m, [**kargs])` 메서드는 (키, 값) 쌍의 매핑이나 반복형 객체에서 가져온 항목들로 d를 갱신한다. 이 메서드가 첫 번째 인수 m을 다루는 방식은 덕 타이핑의 대표적인 사례이다.\n",
    "\n",
    "1. 먼저 m이 `keys()` 메서드를 갖고 있으면 매핑이라고 간주한다.\n",
    "1. 메서드가 없으면 `update()` 메서드는 m의 항목들이 (키, 값) 쌍으로 되어 있다고 간주하고 m을 반복한다."
   ]
  },
  {
   "cell_type": "markdown",
   "metadata": {},
   "source": [
    "## 3.3.1 존재하지 않는 키를 setdefault()로 처리하기\n",
    "\n",
    "존재하지 않는 키 k로 `d[k]`를 접근하면 조기 실패 철학에 따라 `dict`는 오류를 발생시킨다. 이 경우 `d[k]` 대신 `d.get(k, default)`를 사용하면 대신 `default`를 반환하도록 할 수 있지만, 이는 효율성이 좋지 않다."
   ]
  },
  {
   "cell_type": "code",
   "execution_count": 29,
   "metadata": {},
   "outputs": [],
   "source": [
    "\"\"\" 단어가 나타나는 위치를 가리키는 인덱스를 만든다.\"\"\"\n",
    "def index0(txt_file):\n",
    "    import sys, re\n",
    "\n",
    "    WORD_RE = re.compile(r'\\w+')\n",
    "    index = {}\n",
    "\n",
    "    with open(txt_file, encoding='utf-8') as fp:\n",
    "        for line_no, line in enumerate(fp, 1):\n",
    "            for match in WORD_RE.finditer(line):\n",
    "                word = match.group()\n",
    "                column_no = match.start()+1\n",
    "                location = (line_no, column_no)\n",
    "                occurence = index.get(word, [])\n",
    "                occurence.append(location)\n",
    "                index[word] = occurence\n",
    "                \n",
    "    for word in sorted(index, key=str.upper):\n",
    "        print(word, index[word])"
   ]
  },
  {
   "cell_type": "code",
   "execution_count": 28,
   "metadata": {
    "scrolled": true
   },
   "outputs": [
    {
     "name": "stdout",
     "output_type": "stream",
     "text": [
      "a [(19, 48), (20, 53)]\n",
      "Although [(11, 1), (16, 1), (18, 1)]\n",
      "ambiguity [(14, 16)]\n",
      "and [(15, 23)]\n",
      "are [(21, 12)]\n",
      "aren [(10, 15)]\n",
      "at [(16, 38)]\n",
      "bad [(19, 50)]\n",
      "be [(15, 14), (16, 27), (20, 50)]\n",
      "beats [(11, 23)]\n",
      "Beautiful [(3, 1)]\n",
      "better [(3, 14), (4, 13), (5, 11), (6, 12), (7, 9), (8, 11), (17, 8), (18, 25)]\n",
      "break [(10, 40)]\n",
      "by [(1, 20)]\n",
      "cases [(10, 9)]\n",
      "complex [(5, 23)]\n",
      "Complex [(6, 1)]\n",
      "complicated [(6, 24)]\n",
      "counts [(9, 13)]\n",
      "dense [(8, 23)]\n",
      "do [(15, 64), (21, 48)]\n",
      "Dutch [(16, 61)]\n",
      "easy [(20, 26)]\n",
      "enough [(10, 30)]\n",
      "Errors [(12, 1)]\n",
      "explain [(19, 34), (20, 34)]\n",
      "Explicit [(4, 1)]\n",
      "explicitly [(13, 8)]\n",
      "face [(14, 8)]\n",
      "first [(16, 41)]\n",
      "Flat [(7, 1)]\n",
      "good [(20, 55)]\n",
      "great [(21, 28)]\n",
      "guess [(14, 52)]\n",
      "hard [(19, 26)]\n",
      "honking [(21, 20)]\n",
      "idea [(19, 54), (20, 60), (21, 34)]\n",
      "If [(19, 1), (20, 1)]\n",
      "implementation [(19, 8), (20, 8)]\n",
      "implicit [(4, 25)]\n",
      "In [(14, 1)]\n",
      "is [(3, 11), (4, 10), (5, 8), (6, 9), (7, 6), (8, 8), (17, 5), (18, 16), (19, 23), (20, 23)]\n",
      "it [(15, 67), (19, 43), (20, 43)]\n",
      "let [(21, 42)]\n",
      "may [(16, 19), (20, 46)]\n",
      "more [(21, 51)]\n",
      "Namespaces [(21, 1)]\n",
      "nested [(7, 21)]\n",
      "never [(12, 15), (17, 20), (18, 10)]\n",
      "not [(16, 23)]\n",
      "Now [(17, 1)]\n",
      "now [(18, 45)]\n",
      "obvious [(15, 49), (16, 30)]\n",
      "of [(1, 9), (14, 13), (21, 56)]\n",
      "often [(18, 19)]\n",
      "one [(15, 17), (15, 43), (21, 16)]\n",
      "only [(15, 38)]\n",
      "pass [(12, 21)]\n",
      "Peters [(1, 27)]\n",
      "practicality [(11, 10)]\n",
      "preferably [(15, 27)]\n",
      "purity [(11, 29)]\n",
      "Python [(1, 12)]\n",
      "re [(16, 58)]\n",
      "Readability [(9, 1)]\n",
      "refuse [(14, 27)]\n",
      "right [(18, 38)]\n",
      "rules [(10, 50)]\n",
      "s [(19, 46), (21, 46)]\n",
      "should [(12, 8), (15, 7)]\n",
      "silenced [(13, 19)]\n",
      "silently [(12, 26)]\n",
      "Simple [(5, 1)]\n",
      "Sparse [(8, 1)]\n",
      "Special [(10, 1)]\n",
      "special [(10, 22)]\n",
      "t [(10, 20)]\n",
      "temptation [(14, 38)]\n",
      "than [(3, 21), (4, 20), (5, 18), (6, 19), (7, 16), (8, 18), (17, 15), (18, 32)]\n",
      "that [(16, 10)]\n",
      "The [(1, 1)]\n",
      "the [(10, 46), (14, 4), (14, 34), (19, 4), (20, 4)]\n",
      "There [(15, 1)]\n",
      "those [(21, 59)]\n",
      "Tim [(1, 23)]\n",
      "to [(10, 37), (14, 49), (15, 61), (19, 31), (20, 31)]\n",
      "ugly [(3, 26)]\n",
      "Unless [(13, 1)]\n",
      "unless [(16, 47)]\n",
      "way [(15, 57), (16, 15)]\n",
      "you [(16, 54)]\n",
      "Zen [(1, 5)]\n"
     ]
    }
   ],
   "source": [
    "index0('zen.txt')"
   ]
  },
  {
   "cell_type": "markdown",
   "metadata": {},
   "source": [
    "위의 코드를 `dict.setdefault()`를 사용하여 한 줄로 수정할 수 있다.\n",
    "\n",
    "> `dict.setdefault()` : k in d가 참이면 `d[k]`를 반환하고, 아니면 `d[k]=default`로 설정하고 이 값을 반환한다."
   ]
  },
  {
   "cell_type": "code",
   "execution_count": 32,
   "metadata": {},
   "outputs": [],
   "source": [
    "\"\"\" 단어가 나타나는 위치를 가리키는 인덱스를 만든다.\"\"\"\n",
    "def index1(txt_file):\n",
    "    import sys, re\n",
    "\n",
    "    WORD_RE = re.compile(r'\\w+')\n",
    "    index = {}\n",
    "\n",
    "    with open(txt_file, encoding='utf-8') as fp:\n",
    "        for line_no, line in enumerate(fp, 1):\n",
    "            for match in WORD_RE.finditer(line):\n",
    "                word = match.group()\n",
    "                column_no = match.start()+1\n",
    "                location = (line_no, column_no)\n",
    "                index.setdefault(word, []).append(location)\n",
    "                \n",
    "    for word in sorted(index, key=str.upper):\n",
    "        print(word, index[word])"
   ]
  },
  {
   "cell_type": "code",
   "execution_count": 33,
   "metadata": {
    "collapsed": true
   },
   "outputs": [
    {
     "name": "stdout",
     "output_type": "stream",
     "text": [
      "a [(19, 48), (20, 53)]\n",
      "Although [(11, 1), (16, 1), (18, 1)]\n",
      "ambiguity [(14, 16)]\n",
      "and [(15, 23)]\n",
      "are [(21, 12)]\n",
      "aren [(10, 15)]\n",
      "at [(16, 38)]\n",
      "bad [(19, 50)]\n",
      "be [(15, 14), (16, 27), (20, 50)]\n",
      "beats [(11, 23)]\n",
      "Beautiful [(3, 1)]\n",
      "better [(3, 14), (4, 13), (5, 11), (6, 12), (7, 9), (8, 11), (17, 8), (18, 25)]\n",
      "break [(10, 40)]\n",
      "by [(1, 20)]\n",
      "cases [(10, 9)]\n",
      "complex [(5, 23)]\n",
      "Complex [(6, 1)]\n",
      "complicated [(6, 24)]\n",
      "counts [(9, 13)]\n",
      "dense [(8, 23)]\n",
      "do [(15, 64), (21, 48)]\n",
      "Dutch [(16, 61)]\n",
      "easy [(20, 26)]\n",
      "enough [(10, 30)]\n",
      "Errors [(12, 1)]\n",
      "explain [(19, 34), (20, 34)]\n",
      "Explicit [(4, 1)]\n",
      "explicitly [(13, 8)]\n",
      "face [(14, 8)]\n",
      "first [(16, 41)]\n",
      "Flat [(7, 1)]\n",
      "good [(20, 55)]\n",
      "great [(21, 28)]\n",
      "guess [(14, 52)]\n",
      "hard [(19, 26)]\n",
      "honking [(21, 20)]\n",
      "idea [(19, 54), (20, 60), (21, 34)]\n",
      "If [(19, 1), (20, 1)]\n",
      "implementation [(19, 8), (20, 8)]\n",
      "implicit [(4, 25)]\n",
      "In [(14, 1)]\n",
      "is [(3, 11), (4, 10), (5, 8), (6, 9), (7, 6), (8, 8), (17, 5), (18, 16), (19, 23), (20, 23)]\n",
      "it [(15, 67), (19, 43), (20, 43)]\n",
      "let [(21, 42)]\n",
      "may [(16, 19), (20, 46)]\n",
      "more [(21, 51)]\n",
      "Namespaces [(21, 1)]\n",
      "nested [(7, 21)]\n",
      "never [(12, 15), (17, 20), (18, 10)]\n",
      "not [(16, 23)]\n",
      "Now [(17, 1)]\n",
      "now [(18, 45)]\n",
      "obvious [(15, 49), (16, 30)]\n",
      "of [(1, 9), (14, 13), (21, 56)]\n",
      "often [(18, 19)]\n",
      "one [(15, 17), (15, 43), (21, 16)]\n",
      "only [(15, 38)]\n",
      "pass [(12, 21)]\n",
      "Peters [(1, 27)]\n",
      "practicality [(11, 10)]\n",
      "preferably [(15, 27)]\n",
      "purity [(11, 29)]\n",
      "Python [(1, 12)]\n",
      "re [(16, 58)]\n",
      "Readability [(9, 1)]\n",
      "refuse [(14, 27)]\n",
      "right [(18, 38)]\n",
      "rules [(10, 50)]\n",
      "s [(19, 46), (21, 46)]\n",
      "should [(12, 8), (15, 7)]\n",
      "silenced [(13, 19)]\n",
      "silently [(12, 26)]\n",
      "Simple [(5, 1)]\n",
      "Sparse [(8, 1)]\n",
      "Special [(10, 1)]\n",
      "special [(10, 22)]\n",
      "t [(10, 20)]\n",
      "temptation [(14, 38)]\n",
      "than [(3, 21), (4, 20), (5, 18), (6, 19), (7, 16), (8, 18), (17, 15), (18, 32)]\n",
      "that [(16, 10)]\n",
      "The [(1, 1)]\n",
      "the [(10, 46), (14, 4), (14, 34), (19, 4), (20, 4)]\n",
      "There [(15, 1)]\n",
      "those [(21, 59)]\n",
      "Tim [(1, 23)]\n",
      "to [(10, 37), (14, 49), (15, 61), (19, 31), (20, 31)]\n",
      "ugly [(3, 26)]\n",
      "Unless [(13, 1)]\n",
      "unless [(16, 47)]\n",
      "way [(15, 57), (16, 15)]\n",
      "you [(16, 54)]\n",
      "Zen [(1, 5)]\n"
     ]
    }
   ],
   "source": [
    "index1('zen.txt')"
   ]
  },
  {
   "cell_type": "markdown",
   "metadata": {},
   "source": [
    "# 3.4 융퉁성 있게 키를 조회하는 매핑\n",
    "\n",
    "검색할 때 키가 존재하지 않으면 어떤 특별한 값을 반환하는 매핑이 있으면 편리하다. 이는 \n",
    "\n",
    "1. `dict` 대신 `defaultdict`를 쓰거나, \n",
    "\n",
    "1. `dict` 등의 매핑형을 상속해서 `__missing__()` 메서드를 추가하면 된다."
   ]
  },
  {
   "cell_type": "markdown",
   "metadata": {},
   "source": [
    "## 3.4.1 `defaultdict`: 존재하지 않는 키에 대한 또 다른 처리\n",
    "\n",
    "`defaultdict`는 존재하지 않는 키로 검색할 때 요청에 따라 항목을 생성한다. 작동 방식은 존재하지 않는 키 인수로 `__getitem__()` 메서드를 호출할 때마다 기본값을 생성하기 위해 사용되는 콜러블을 제공하는 것이다.\n",
    "\n",
    "예를 들어 `dd = defaultdict(list)` 코드로 생성한 후 존재하지 않는 키인 'new-key'로 `dd['new-key']` 표현식을 실행하면 다음과 같이 처리된다.\n",
    "\n",
    "1. 리스트를 새로 생성하기 위해 `list()`를 호출한다.\n",
    "1. 'new-key'를 키로 사용해서 새로운 리스트를 dd에 삽입한다.\n",
    "1. 리스트에 대한 참조를 반환한다."
   ]
  },
  {
   "cell_type": "code",
   "execution_count": 34,
   "metadata": {},
   "outputs": [],
   "source": [
    "\"\"\" 단어가 나타나는 위치를 가리키는 인덱스를 만든다.\"\"\"\n",
    "def index2(txt_file):\n",
    "    import sys, re, collections\n",
    "\n",
    "    WORD_RE = re.compile(r'\\w+')\n",
    "    index = collections.defaultdict(list)\n",
    "\n",
    "    with open(txt_file, encoding='utf-8') as fp:\n",
    "        for line_no, line in enumerate(fp, 1):\n",
    "            for match in WORD_RE.finditer(line):\n",
    "                word = match.group()\n",
    "                column_no = match.start()+1\n",
    "                location = (line_no, column_no)\n",
    "                index[word].append(location)\n",
    "                \n",
    "    for word in sorted(index, key=str.upper):\n",
    "        print(word, index[word])"
   ]
  },
  {
   "cell_type": "code",
   "execution_count": 35,
   "metadata": {
    "collapsed": true
   },
   "outputs": [
    {
     "name": "stdout",
     "output_type": "stream",
     "text": [
      "a [(19, 48), (20, 53)]\n",
      "Although [(11, 1), (16, 1), (18, 1)]\n",
      "ambiguity [(14, 16)]\n",
      "and [(15, 23)]\n",
      "are [(21, 12)]\n",
      "aren [(10, 15)]\n",
      "at [(16, 38)]\n",
      "bad [(19, 50)]\n",
      "be [(15, 14), (16, 27), (20, 50)]\n",
      "beats [(11, 23)]\n",
      "Beautiful [(3, 1)]\n",
      "better [(3, 14), (4, 13), (5, 11), (6, 12), (7, 9), (8, 11), (17, 8), (18, 25)]\n",
      "break [(10, 40)]\n",
      "by [(1, 20)]\n",
      "cases [(10, 9)]\n",
      "complex [(5, 23)]\n",
      "Complex [(6, 1)]\n",
      "complicated [(6, 24)]\n",
      "counts [(9, 13)]\n",
      "dense [(8, 23)]\n",
      "do [(15, 64), (21, 48)]\n",
      "Dutch [(16, 61)]\n",
      "easy [(20, 26)]\n",
      "enough [(10, 30)]\n",
      "Errors [(12, 1)]\n",
      "explain [(19, 34), (20, 34)]\n",
      "Explicit [(4, 1)]\n",
      "explicitly [(13, 8)]\n",
      "face [(14, 8)]\n",
      "first [(16, 41)]\n",
      "Flat [(7, 1)]\n",
      "good [(20, 55)]\n",
      "great [(21, 28)]\n",
      "guess [(14, 52)]\n",
      "hard [(19, 26)]\n",
      "honking [(21, 20)]\n",
      "idea [(19, 54), (20, 60), (21, 34)]\n",
      "If [(19, 1), (20, 1)]\n",
      "implementation [(19, 8), (20, 8)]\n",
      "implicit [(4, 25)]\n",
      "In [(14, 1)]\n",
      "is [(3, 11), (4, 10), (5, 8), (6, 9), (7, 6), (8, 8), (17, 5), (18, 16), (19, 23), (20, 23)]\n",
      "it [(15, 67), (19, 43), (20, 43)]\n",
      "let [(21, 42)]\n",
      "may [(16, 19), (20, 46)]\n",
      "more [(21, 51)]\n",
      "Namespaces [(21, 1)]\n",
      "nested [(7, 21)]\n",
      "never [(12, 15), (17, 20), (18, 10)]\n",
      "not [(16, 23)]\n",
      "Now [(17, 1)]\n",
      "now [(18, 45)]\n",
      "obvious [(15, 49), (16, 30)]\n",
      "of [(1, 9), (14, 13), (21, 56)]\n",
      "often [(18, 19)]\n",
      "one [(15, 17), (15, 43), (21, 16)]\n",
      "only [(15, 38)]\n",
      "pass [(12, 21)]\n",
      "Peters [(1, 27)]\n",
      "practicality [(11, 10)]\n",
      "preferably [(15, 27)]\n",
      "purity [(11, 29)]\n",
      "Python [(1, 12)]\n",
      "re [(16, 58)]\n",
      "Readability [(9, 1)]\n",
      "refuse [(14, 27)]\n",
      "right [(18, 38)]\n",
      "rules [(10, 50)]\n",
      "s [(19, 46), (21, 46)]\n",
      "should [(12, 8), (15, 7)]\n",
      "silenced [(13, 19)]\n",
      "silently [(12, 26)]\n",
      "Simple [(5, 1)]\n",
      "Sparse [(8, 1)]\n",
      "Special [(10, 1)]\n",
      "special [(10, 22)]\n",
      "t [(10, 20)]\n",
      "temptation [(14, 38)]\n",
      "than [(3, 21), (4, 20), (5, 18), (6, 19), (7, 16), (8, 18), (17, 15), (18, 32)]\n",
      "that [(16, 10)]\n",
      "The [(1, 1)]\n",
      "the [(10, 46), (14, 4), (14, 34), (19, 4), (20, 4)]\n",
      "There [(15, 1)]\n",
      "those [(21, 59)]\n",
      "Tim [(1, 23)]\n",
      "to [(10, 37), (14, 49), (15, 61), (19, 31), (20, 31)]\n",
      "ugly [(3, 26)]\n",
      "Unless [(13, 1)]\n",
      "unless [(16, 47)]\n",
      "way [(15, 57), (16, 15)]\n",
      "you [(16, 54)]\n",
      "Zen [(1, 5)]\n"
     ]
    }
   ],
   "source": [
    "index2('zen.txt')"
   ]
  },
  {
   "cell_type": "markdown",
   "metadata": {},
   "source": [
    "다만 `defaultdict`는 `__getitem__()` 호출에 대한 기본값을 제공할 뿐, 다른 메서드를 통해서는 호출되지 않는다. 가령 `dd.get(k)`는 None을 반환한다."
   ]
  },
  {
   "cell_type": "markdown",
   "metadata": {},
   "source": [
    "## 3.4.2 `__missing__()` 메서드\n",
    "\n",
    "`dict` 클래스를 상속하고 `__missing__()` 메서드를 정의하면 `dict.__getitem__()` 표준 메서드가 키를 발견할 수 없을 때 `KeyError`를 발생시키지 않고 `__missing__()` 메서드를 호출한다.\n",
    "\n",
    "예를 들어, 키를 문자열로 변환하는 매핑을 생각해보자."
   ]
  },
  {
   "cell_type": "code",
   "execution_count": 36,
   "metadata": {},
   "outputs": [],
   "source": [
    "class StrKeyDict0(dict):\n",
    "    \n",
    "    def __missing__(self, key):\n",
    "        if isinstance(key, str):\n",
    "            raise KeyError(key) # 키가 문자열인데 없으면 에러 발생시킴\n",
    "        return self[str(key)]\n",
    "        # 여기서 isinstance 가 없으면 __missing__() 메서드를 재귀적으로 호출함\n",
    "    \n",
    "    def get(self, key, default=None):\n",
    "        try:\n",
    "            return self[key]\n",
    "            # 이렇게 시도했을 때 키가 없으면 __missing_()으로 넘어감\n",
    "            # 그래서 그때마저 없으면 아래 except로 넘어감\n",
    "        except KeyError:\n",
    "            return default\n",
    "        \n",
    "    def __contains__(self, key):\n",
    "        return key in self.keys() or str(key) in self.keys()\n",
    "    # 여기서 key in self 라고 쓰면 재귀적으로  __contains__() 가 호출됨"
   ]
  },
  {
   "cell_type": "code",
   "execution_count": 40,
   "metadata": {},
   "outputs": [],
   "source": [
    "d = StrKeyDict0([('2','two'),('4','four')])"
   ]
  },
  {
   "cell_type": "code",
   "execution_count": 42,
   "metadata": {},
   "outputs": [
    {
     "data": {
      "text/plain": [
       "'two'"
      ]
     },
     "execution_count": 42,
     "metadata": {},
     "output_type": "execute_result"
    }
   ],
   "source": [
    "d['2']"
   ]
  },
  {
   "cell_type": "code",
   "execution_count": 43,
   "metadata": {},
   "outputs": [
    {
     "data": {
      "text/plain": [
       "'four'"
      ]
     },
     "execution_count": 43,
     "metadata": {},
     "output_type": "execute_result"
    }
   ],
   "source": [
    "d[4]"
   ]
  },
  {
   "cell_type": "code",
   "execution_count": 44,
   "metadata": {},
   "outputs": [
    {
     "ename": "KeyError",
     "evalue": "'1'",
     "output_type": "error",
     "traceback": [
      "\u001b[0;31m---------------------------------------------------------------------------\u001b[0m",
      "\u001b[0;31mKeyError\u001b[0m                                  Traceback (most recent call last)",
      "\u001b[0;32m<ipython-input-44-abe283337115>\u001b[0m in \u001b[0;36m<module>\u001b[0;34m\u001b[0m\n\u001b[0;32m----> 1\u001b[0;31m \u001b[0md\u001b[0m\u001b[0;34m[\u001b[0m\u001b[0;36m1\u001b[0m\u001b[0;34m]\u001b[0m\u001b[0;34m\u001b[0m\u001b[0;34m\u001b[0m\u001b[0m\n\u001b[0m",
      "\u001b[0;32m<ipython-input-36-919e8826755f>\u001b[0m in \u001b[0;36m__missing__\u001b[0;34m(self, key)\u001b[0m\n\u001b[1;32m      4\u001b[0m         \u001b[0;32mif\u001b[0m \u001b[0misinstance\u001b[0m\u001b[0;34m(\u001b[0m\u001b[0mkey\u001b[0m\u001b[0;34m,\u001b[0m \u001b[0mstr\u001b[0m\u001b[0;34m)\u001b[0m\u001b[0;34m:\u001b[0m\u001b[0;34m\u001b[0m\u001b[0;34m\u001b[0m\u001b[0m\n\u001b[1;32m      5\u001b[0m             \u001b[0;32mraise\u001b[0m \u001b[0mKeyError\u001b[0m\u001b[0;34m(\u001b[0m\u001b[0mkey\u001b[0m\u001b[0;34m)\u001b[0m \u001b[0;31m# 키가 문자열인데 없으면 에러 발생시킴\u001b[0m\u001b[0;34m\u001b[0m\u001b[0;34m\u001b[0m\u001b[0m\n\u001b[0;32m----> 6\u001b[0;31m         \u001b[0;32mreturn\u001b[0m \u001b[0mself\u001b[0m\u001b[0;34m[\u001b[0m\u001b[0mstr\u001b[0m\u001b[0;34m(\u001b[0m\u001b[0mkey\u001b[0m\u001b[0;34m)\u001b[0m\u001b[0;34m]\u001b[0m\u001b[0;34m\u001b[0m\u001b[0;34m\u001b[0m\u001b[0m\n\u001b[0m\u001b[1;32m      7\u001b[0m         \u001b[0;31m# 여기서 isinstance 가 없으면 __missing__() 메서드를 재귀적으로 호출함\u001b[0m\u001b[0;34m\u001b[0m\u001b[0;34m\u001b[0m\u001b[0;34m\u001b[0m\u001b[0m\n\u001b[1;32m      8\u001b[0m \u001b[0;34m\u001b[0m\u001b[0m\n",
      "\u001b[0;32m<ipython-input-36-919e8826755f>\u001b[0m in \u001b[0;36m__missing__\u001b[0;34m(self, key)\u001b[0m\n\u001b[1;32m      3\u001b[0m     \u001b[0;32mdef\u001b[0m \u001b[0m__missing__\u001b[0m\u001b[0;34m(\u001b[0m\u001b[0mself\u001b[0m\u001b[0;34m,\u001b[0m \u001b[0mkey\u001b[0m\u001b[0;34m)\u001b[0m\u001b[0;34m:\u001b[0m\u001b[0;34m\u001b[0m\u001b[0;34m\u001b[0m\u001b[0m\n\u001b[1;32m      4\u001b[0m         \u001b[0;32mif\u001b[0m \u001b[0misinstance\u001b[0m\u001b[0;34m(\u001b[0m\u001b[0mkey\u001b[0m\u001b[0;34m,\u001b[0m \u001b[0mstr\u001b[0m\u001b[0;34m)\u001b[0m\u001b[0;34m:\u001b[0m\u001b[0;34m\u001b[0m\u001b[0;34m\u001b[0m\u001b[0m\n\u001b[0;32m----> 5\u001b[0;31m             \u001b[0;32mraise\u001b[0m \u001b[0mKeyError\u001b[0m\u001b[0;34m(\u001b[0m\u001b[0mkey\u001b[0m\u001b[0;34m)\u001b[0m \u001b[0;31m# 키가 문자열인데 없으면 에러 발생시킴\u001b[0m\u001b[0;34m\u001b[0m\u001b[0;34m\u001b[0m\u001b[0m\n\u001b[0m\u001b[1;32m      6\u001b[0m         \u001b[0;32mreturn\u001b[0m \u001b[0mself\u001b[0m\u001b[0;34m[\u001b[0m\u001b[0mstr\u001b[0m\u001b[0;34m(\u001b[0m\u001b[0mkey\u001b[0m\u001b[0;34m)\u001b[0m\u001b[0;34m]\u001b[0m\u001b[0;34m\u001b[0m\u001b[0;34m\u001b[0m\u001b[0m\n\u001b[1;32m      7\u001b[0m         \u001b[0;31m# 여기서 isinstance 가 없으면 __missing__() 메서드를 재귀적으로 호출함\u001b[0m\u001b[0;34m\u001b[0m\u001b[0;34m\u001b[0m\u001b[0;34m\u001b[0m\u001b[0m\n",
      "\u001b[0;31mKeyError\u001b[0m: '1'"
     ]
    }
   ],
   "source": [
    "d[1]"
   ]
  },
  {
   "cell_type": "code",
   "execution_count": 45,
   "metadata": {},
   "outputs": [
    {
     "data": {
      "text/plain": [
       "'two'"
      ]
     },
     "execution_count": 45,
     "metadata": {},
     "output_type": "execute_result"
    }
   ],
   "source": [
    "d.get('2')"
   ]
  },
  {
   "cell_type": "code",
   "execution_count": 46,
   "metadata": {},
   "outputs": [
    {
     "data": {
      "text/plain": [
       "'four'"
      ]
     },
     "execution_count": 46,
     "metadata": {},
     "output_type": "execute_result"
    }
   ],
   "source": [
    "d.get(4)"
   ]
  },
  {
   "cell_type": "code",
   "execution_count": 47,
   "metadata": {},
   "outputs": [
    {
     "data": {
      "text/plain": [
       "'N/A'"
      ]
     },
     "execution_count": 47,
     "metadata": {},
     "output_type": "execute_result"
    }
   ],
   "source": [
    "d.get(1,'N/A')"
   ]
  },
  {
   "cell_type": "code",
   "execution_count": 48,
   "metadata": {},
   "outputs": [
    {
     "data": {
      "text/plain": [
       "True"
      ]
     },
     "execution_count": 48,
     "metadata": {},
     "output_type": "execute_result"
    }
   ],
   "source": [
    "2 in d"
   ]
  },
  {
   "cell_type": "code",
   "execution_count": 49,
   "metadata": {},
   "outputs": [
    {
     "data": {
      "text/plain": [
       "False"
      ]
     },
     "execution_count": 49,
     "metadata": {},
     "output_type": "execute_result"
    }
   ],
   "source": [
    "1 in d"
   ]
  },
  {
   "cell_type": "markdown",
   "metadata": {},
   "source": [
    "# 3.5 그 외 매핑형\n",
    "\n",
    "### collections.OrderedDict\n",
    "\n",
    "키를 삽입한 순서대로 유지함으로써 항목을 반복하는 순서를 예측할 수 있다. 따라서 `popitem()` 메서드를 사용할 수 있다.\n",
    "\n",
    "### collections.ChainMap\n",
    "\n",
    "매핑들의 목록을 담고 있으며 한꺼번에 모두 검색할 수 있다. 각 매핑을 차례대로 검색하고, 그중 하나에서라도 키가 검색되면 성공한다.\n",
    "\n",
    "### collections.Counter\n",
    "\n",
    "모든 키에 정수형 카운터를 갖고 있는 매핑. 기존 키를 갱신하면 카운터가 늘어난다. n개의 가장 널리 사용된 항목과 그들의 카운터로 구성된 튜플의 리스트를 반환하는 `most_commom([n])` 등의 메서드를 제공한다."
   ]
  },
  {
   "cell_type": "code",
   "execution_count": 50,
   "metadata": {},
   "outputs": [
    {
     "data": {
      "text/plain": [
       "Counter({'a': 5, 'b': 2, 'r': 2, 'c': 1, 'd': 1})"
      ]
     },
     "execution_count": 50,
     "metadata": {},
     "output_type": "execute_result"
    }
   ],
   "source": [
    "ct = collections.Counter('abracadabra')\n",
    "ct"
   ]
  },
  {
   "cell_type": "code",
   "execution_count": 51,
   "metadata": {},
   "outputs": [
    {
     "data": {
      "text/plain": [
       "Counter({'a': 10, 'b': 2, 'r': 2, 'c': 1, 'd': 1, 'z': 3})"
      ]
     },
     "execution_count": 51,
     "metadata": {},
     "output_type": "execute_result"
    }
   ],
   "source": [
    "ct.update('aaaaazzz')\n",
    "ct"
   ]
  },
  {
   "cell_type": "code",
   "execution_count": 52,
   "metadata": {},
   "outputs": [
    {
     "data": {
      "text/plain": [
       "[('a', 10), ('z', 3)]"
      ]
     },
     "execution_count": 52,
     "metadata": {},
     "output_type": "execute_result"
    }
   ],
   "source": [
    "ct.most_common(2)"
   ]
  },
  {
   "cell_type": "markdown",
   "metadata": {},
   "source": [
    "# 3.6 UserDict 상속하기\n",
    "\n",
    "`dict`보다는 `UserDict`를 상속해서 매핑형을 만드는 것이 쉽다. `UserDict`는 `dict`를 상속하지 않고 내부에 실제 항목을 담고 있는 `data`라고 하는 `dict` 객체를 갖고 있다. 이렇게 구현함으로써 `__setitem__()` 등의 특수 메서드를 구현할 때 발생하는 원치 않는 재귀적 호출을 피할 수 있으며, `__contains__()` 메서드를 간단히 구현할 수 있다."
   ]
  },
  {
   "cell_type": "code",
   "execution_count": 53,
   "metadata": {},
   "outputs": [],
   "source": [
    "class StrKeyDict(collections.UserDict):\n",
    "    \n",
    "    def __missing__(self, key):\n",
    "        if isinstance(key, str):\n",
    "            raise KeyError(key)\n",
    "        return self[str(key)]\n",
    "    \n",
    "    def __contains__(self, key):\n",
    "        return str(key) in self.data\n",
    "    \n",
    "    def __setitem__(self, key, item):\n",
    "        self.data[str(key)] = item"
   ]
  },
  {
   "cell_type": "code",
   "execution_count": 54,
   "metadata": {},
   "outputs": [],
   "source": [
    "d = StrKeyDict([('2','two'),('4','four')])"
   ]
  },
  {
   "cell_type": "code",
   "execution_count": 55,
   "metadata": {},
   "outputs": [
    {
     "data": {
      "text/plain": [
       "'two'"
      ]
     },
     "execution_count": 55,
     "metadata": {},
     "output_type": "execute_result"
    }
   ],
   "source": [
    "d[2]"
   ]
  },
  {
   "cell_type": "markdown",
   "metadata": {},
   "source": [
    "`UserDict` 클래스가 `MutableMapping`을 상속하므로 `StrKeyDict`는 매핑의 모든 기능을 가지게 된다. 따라서 `StrKeyDict0.get()`과 동일하게 구현된 `Mapping.get()`을 상속받으므로 구현할 필요가 없다."
   ]
  },
  {
   "cell_type": "markdown",
   "metadata": {},
   "source": [
    "# 3.7 불변 매핑\n",
    "\n",
    "매핑형은 모두 가변형이지만, `types` 모듈의 `MappingProxyType` 래퍼 클래스를 이용하면 원래 매핑의 동적인 뷰를 제공하는 `mappingproxy` 객체를 반환받는다. 따라서 원래 매핑을 변경하면 `mappingproxy`에 반영되지만, `mappingproxy`를 직접 변경할 수는 없다."
   ]
  },
  {
   "cell_type": "code",
   "execution_count": 56,
   "metadata": {},
   "outputs": [],
   "source": [
    "from types import MappingProxyType\n",
    "d = {1: 'A'}\n",
    "d_proxy = MappingProxyType(d)"
   ]
  },
  {
   "cell_type": "code",
   "execution_count": 57,
   "metadata": {},
   "outputs": [
    {
     "data": {
      "text/plain": [
       "mappingproxy({1: 'A'})"
      ]
     },
     "execution_count": 57,
     "metadata": {},
     "output_type": "execute_result"
    }
   ],
   "source": [
    "d_proxy"
   ]
  },
  {
   "cell_type": "code",
   "execution_count": 58,
   "metadata": {},
   "outputs": [
    {
     "data": {
      "text/plain": [
       "'A'"
      ]
     },
     "execution_count": 58,
     "metadata": {},
     "output_type": "execute_result"
    }
   ],
   "source": [
    "d_proxy[1]"
   ]
  },
  {
   "cell_type": "code",
   "execution_count": 60,
   "metadata": {},
   "outputs": [
    {
     "ename": "TypeError",
     "evalue": "'mappingproxy' object does not support item assignment",
     "output_type": "error",
     "traceback": [
      "\u001b[0;31m---------------------------------------------------------------------------\u001b[0m",
      "\u001b[0;31mTypeError\u001b[0m                                 Traceback (most recent call last)",
      "\u001b[0;32m<ipython-input-60-bc17a9a62754>\u001b[0m in \u001b[0;36m<module>\u001b[0;34m\u001b[0m\n\u001b[0;32m----> 1\u001b[0;31m \u001b[0md_proxy\u001b[0m\u001b[0;34m[\u001b[0m\u001b[0;36m2\u001b[0m\u001b[0;34m]\u001b[0m \u001b[0;34m=\u001b[0m \u001b[0;34m'x'\u001b[0m\u001b[0;34m\u001b[0m\u001b[0;34m\u001b[0m\u001b[0m\n\u001b[0m",
      "\u001b[0;31mTypeError\u001b[0m: 'mappingproxy' object does not support item assignment"
     ]
    }
   ],
   "source": [
    "d_proxy[2] = 'x'"
   ]
  },
  {
   "cell_type": "code",
   "execution_count": 61,
   "metadata": {},
   "outputs": [],
   "source": [
    "d[2] = 'x'"
   ]
  },
  {
   "cell_type": "code",
   "execution_count": 63,
   "metadata": {},
   "outputs": [
    {
     "data": {
      "text/plain": [
       "mappingproxy({1: 'A', 2: 'x'})"
      ]
     },
     "execution_count": 63,
     "metadata": {},
     "output_type": "execute_result"
    }
   ],
   "source": [
    "d_proxy"
   ]
  },
  {
   "cell_type": "code",
   "execution_count": 64,
   "metadata": {},
   "outputs": [
    {
     "data": {
      "text/plain": [
       "'x'"
      ]
     },
     "execution_count": 64,
     "metadata": {},
     "output_type": "execute_result"
    }
   ],
   "source": [
    "d_proxy[2]"
   ]
  },
  {
   "cell_type": "markdown",
   "metadata": {},
   "source": [
    "# 3.8 집합 이론\n",
    "\n",
    "집합 요소는 반드시 해시할 수 있어야 한다. `set`은 해시 가능하지 않지만 `frozenset`은 해시 가능하므로, `frozenset`이 `set`에 들어갈 수 있다. 또한 집합형은 다음과 같은 연산을 구현한다.\n",
    "\n",
    "* a | b : 합집합\n",
    "* a & b : 교집합\n",
    "* a - b : 차집합"
   ]
  },
  {
   "cell_type": "markdown",
   "metadata": {},
   "source": [
    "## 3.8.1 집합 리터럴\n",
    "\n",
    "공집합은 리터럴로 표기할 수 없으므로, 반드시 `set()`으로 표기해야 한다. `{1,2,3}`과 같은 리터럴 집합 구문은 `set([1,2,3])`처럼 생성자를 호출하는 것보다 더 빠르고 가독성이 좋다(리터럴 구문을 사용하면 파이썬은 `BUILD_SET`이라는 특수 바이트코드를 실행한다."
   ]
  },
  {
   "cell_type": "code",
   "execution_count": 65,
   "metadata": {},
   "outputs": [
    {
     "name": "stdout",
     "output_type": "stream",
     "text": [
      "  1           0 LOAD_CONST               0 (1)\n",
      "              2 BUILD_SET                1\n",
      "              4 RETURN_VALUE\n"
     ]
    }
   ],
   "source": [
    "from dis import dis\n",
    "dis('{1}')"
   ]
  },
  {
   "cell_type": "code",
   "execution_count": 66,
   "metadata": {},
   "outputs": [
    {
     "name": "stdout",
     "output_type": "stream",
     "text": [
      "  1           0 LOAD_NAME                0 (set)\n",
      "              2 LOAD_CONST               0 (1)\n",
      "              4 BUILD_LIST               1\n",
      "              6 CALL_FUNCTION            1\n",
      "              8 RETURN_VALUE\n"
     ]
    }
   ],
   "source": [
    "dis('set([1])')"
   ]
  },
  {
   "cell_type": "markdown",
   "metadata": {},
   "source": [
    "`frozenset`에 대한 별도 리터럴 구문은 없다."
   ]
  },
  {
   "cell_type": "code",
   "execution_count": 67,
   "metadata": {},
   "outputs": [
    {
     "data": {
      "text/plain": [
       "frozenset({0, 1, 2, 3, 4, 5, 6, 7, 8, 9})"
      ]
     },
     "execution_count": 67,
     "metadata": {},
     "output_type": "execute_result"
    }
   ],
   "source": [
    "frozenset(range(10))"
   ]
  },
  {
   "cell_type": "markdown",
   "metadata": {},
   "source": [
    "## 3.8.2 지능형 집합"
   ]
  },
  {
   "cell_type": "code",
   "execution_count": 68,
   "metadata": {},
   "outputs": [
    {
     "data": {
      "text/plain": [
       "{'#',\n",
       " '$',\n",
       " '%',\n",
       " '+',\n",
       " '<',\n",
       " '=',\n",
       " '>',\n",
       " '¢',\n",
       " '£',\n",
       " '¤',\n",
       " '¥',\n",
       " '§',\n",
       " '©',\n",
       " '¬',\n",
       " '®',\n",
       " '°',\n",
       " '±',\n",
       " 'µ',\n",
       " '¶',\n",
       " '×',\n",
       " '÷'}"
      ]
     },
     "execution_count": 68,
     "metadata": {},
     "output_type": "execute_result"
    }
   ],
   "source": [
    "from unicodedata import name\n",
    "{chr(i) for i in range(32,256) if 'SIGN' in name(chr(i),'')}"
   ]
  },
  {
   "cell_type": "code",
   "execution_count": 74,
   "metadata": {},
   "outputs": [
    {
     "data": {
      "text/plain": [
       "'LATIN SMALL LETTER D'"
      ]
     },
     "execution_count": 74,
     "metadata": {},
     "output_type": "execute_result"
    }
   ],
   "source": [
    "name(chr(100))"
   ]
  },
  {
   "cell_type": "code",
   "execution_count": 81,
   "metadata": {},
   "outputs": [
    {
     "data": {
      "text/plain": [
       "'LATIN SMALL LETTER D'"
      ]
     },
     "execution_count": 81,
     "metadata": {},
     "output_type": "execute_result"
    }
   ],
   "source": [
    "name(chr(100),'') # 문자열의 영문 설명 출력"
   ]
  },
  {
   "cell_type": "code",
   "execution_count": 80,
   "metadata": {},
   "outputs": [
    {
     "data": {
      "text/plain": [
       "('ð', 'LATIN SMALL LETTER ETH')"
      ]
     },
     "execution_count": 80,
     "metadata": {},
     "output_type": "execute_result"
    }
   ],
   "source": [
    "chr(240), name(chr(240))"
   ]
  },
  {
   "cell_type": "markdown",
   "metadata": {},
   "source": [
    "## 3.8.3 집합 연산\n",
    "\n",
    "다른 건 별거 없고, `s ^ z` 는 $(s\\cup z) - (s \\cap z)$ 이다. 그리고 부분 집합 여부는 `s < z` 메서드를 사용한다. 또한 두 집합이 교집합이 없는지 보려면 `s.isdisjoint(z)` 메서드를 사용한다. 또한 두 집합이 아니라 여러 집합에 대한 연산을 수행할 때는 `a.update(b,c,d)` 등으로 사용하면 된다."
   ]
  },
  {
   "cell_type": "markdown",
   "metadata": {},
   "source": [
    "# 3.9 dict와 set의 내부 구조\n",
    "\n",
    "어렵다..."
   ]
  },
  {
   "cell_type": "code",
   "execution_count": null,
   "metadata": {},
   "outputs": [],
   "source": []
  }
 ],
 "metadata": {
  "kernelspec": {
   "display_name": "Python 3",
   "language": "python",
   "name": "python3"
  },
  "language_info": {
   "codemirror_mode": {
    "name": "ipython",
    "version": 3
   },
   "file_extension": ".py",
   "mimetype": "text/x-python",
   "name": "python",
   "nbconvert_exporter": "python",
   "pygments_lexer": "ipython3",
   "version": "3.7.3"
  }
 },
 "nbformat": 4,
 "nbformat_minor": 2
}
