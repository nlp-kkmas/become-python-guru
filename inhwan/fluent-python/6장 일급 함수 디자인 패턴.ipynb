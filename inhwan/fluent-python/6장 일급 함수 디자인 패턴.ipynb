{
 "cells": [
  {
   "cell_type": "markdown",
   "metadata": {},
   "source": [
    "이 장에서는 함수 객체를 이용해 전략(strategy) 패턴을 리팩토링하고, 명령(command) 패턴을 단순화하는 방법을 설명한다."
   ]
  },
  {
   "cell_type": "markdown",
   "metadata": {},
   "source": [
    "# 6.1 사례: 전략 패턴의 리팩토링\n",
    "\n",
    "* 전략 패턴은 파이썬에서 함수를 일급 객체로 사용하면 더욱 간단해질 수 있는 디자인 패턴\n",
    "\n",
    "## 6.1.1 고전적인 전략\n",
    "\n",
    "전략 패턴이란 :\n",
    "\n",
    "> 일련의 알고리즘을 정의하고 각각을 하나의 클래스 안에 넣어서 교체하기 쉽게 만드는 패턴\n",
    "\n",
    "전략 패턴의 구성 요소 :\n",
    "\n",
    "* 콘텍스트(context) :  일부 계산을 서로 다른 알고리즘을 구현하는 교환 가능한 컴포넌트에 위임함으로써 서비스를 제공\n",
    "* 전략(strategy) : 여러 알고리즘을 구현하는 컴포넌트의 공통된 인터페이스\n",
    "* 구체적인 전략(concrete strategy) : 전략의 구상 서브클래스 중 하나\n",
    "\n",
    "<img src='https://img1.daumcdn.net/thumb/R720x0.q80/?scode=mtistory2&fname=http%3A%2F%2Fcfile8.uf.tistory.com%2Fimage%2F2458DE3C52DFCAF121A3FD'>"
   ]
  },
  {
   "cell_type": "markdown",
   "metadata": {},
   "source": [
    "### 전략 패턴 예제\n",
    "\n",
    "온라인 상점이 다음과 같은 할인 규칙을 갖고 있다고 가정(하나의 주문에는 하나만 적용)\n",
    "\n",
    "* 충성도 포인트가 1,000점 이상인 고객은 전체 주문에 대해 5% 할인 적용\n",
    "* 하나의 주문에서 20개 이상의 동일 상품을 구입하면 해당 상품에 대해 10% 할인 적용\n",
    "* 서로 다른 상품을 10종류 이상 주문하면 전체 주문에 대해 7% 할인 적용\n",
    "\n",
    "이를 구현한 코드는 다음과 같다. 이 예제에서는 주문 객체를 생성하기 전에 시스템이 할인 전략을 선택해서 `Order` 생성자에 전달"
   ]
  },
  {
   "cell_type": "code",
   "execution_count": 90,
   "metadata": {},
   "outputs": [],
   "source": [
    "from abc import ABC, abstractmethod\n",
    "from collections import namedtuple\n",
    "\n",
    "Customer = namedtuple('Customer', 'name fidelity')"
   ]
  },
  {
   "cell_type": "code",
   "execution_count": 91,
   "metadata": {},
   "outputs": [
    {
     "data": {
      "text/plain": [
       "Customer(name='Jack', fidelity=100)"
      ]
     },
     "execution_count": 91,
     "metadata": {},
     "output_type": "execute_result"
    }
   ],
   "source": [
    "jack = Customer('Jack',100)\n",
    "jack"
   ]
  },
  {
   "cell_type": "code",
   "execution_count": 92,
   "metadata": {},
   "outputs": [],
   "source": [
    "class LineItem:\n",
    "    \"\"\"구매할 물품/갯수 생성해서 총 가격을 반환\"\"\"\n",
    "    def __init__(self, product, quantity, price):\n",
    "        self.product = product\n",
    "        self.quantity = quantity\n",
    "        self.price = price\n",
    "        \n",
    "    def total(self):\n",
    "        return self.price * self.quantity"
   ]
  },
  {
   "cell_type": "code",
   "execution_count": 93,
   "metadata": {},
   "outputs": [],
   "source": [
    "class Order: # Context\n",
    "    \"\"\"고객(namedtuple) 및 LineItem 클래스의 인스턴스들을 cart로 받아서 총 계산할 가격을 산출\"\"\"\n",
    "    def __init__(self, customer, cart, promotion=None):\n",
    "        self.customer = customer\n",
    "        self.cart = list(cart)\n",
    "        self.promotion = promotion # 할인 객체\n",
    "        \n",
    "    def total(self):\n",
    "        \"\"\"__total 속성이 없으면 전체 계산할 값을 계산\"\"\"\n",
    "        if not hasattr(self, '__total'):\n",
    "            self.__total = sum(item.total() for item in self.cart)\n",
    "        return self.__total\n",
    "    \n",
    "    def due(self):\n",
    "        \"\"\"할인금액 차감\"\"\"\n",
    "        if self.promotion is None:\n",
    "            discount = 0\n",
    "        else:\n",
    "            discount = self.promotion.discount(self) # self = Order 객체\n",
    "        return self.total() - discount\n",
    "    \n",
    "    def __repr__(self):\n",
    "        fmt = '<Order total: {:.2f} due: {:.2f}>'\n",
    "        return fmt.format(self.total(), self.due())\n",
    "    "
   ]
  },
  {
   "cell_type": "markdown",
   "metadata": {},
   "source": [
    "이제 전략 구조를 생성하자."
   ]
  },
  {
   "cell_type": "code",
   "execution_count": 94,
   "metadata": {},
   "outputs": [],
   "source": [
    "class Promotion(ABC): # strategy : abstract base class \n",
    "    \"\"\"할인 혜택 클래스들의 형태를 선언\"\"\"\n",
    "    \n",
    "    @abstractmethod # 이 클래스를 상속하는 클래스는 반드시 이 메서드를 선언해야함\n",
    "    def discount(self, order):\n",
    "        \"\"\"할인액을 구체적인 숫자로 반환\"\"\"\n",
    "        pass"
   ]
  },
  {
   "cell_type": "markdown",
   "metadata": {},
   "source": [
    "이렇게 정의한 전략의 구체적인 전략을 생성하자."
   ]
  },
  {
   "cell_type": "code",
   "execution_count": 95,
   "metadata": {},
   "outputs": [],
   "source": [
    "class FidelityPromo(Promotion):\n",
    "    \"\"\"충성도 점수가 1000점 이상인 고객에게 전체 5% 할인 적용\"\"\"\n",
    "    \n",
    "    def discount(self, order):\n",
    "        return order.total() * 0.05 if order.customer.fidelity >= 1000 else 0\n",
    "\n",
    "class BulkItemPromo(Promotion): \n",
    "    \"\"\"20개 이상의 동일 상품을 구입하면 10% 할인 적용\"\"\"\n",
    "    \n",
    "    def discount(self, order):\n",
    "        discount = 0\n",
    "        for item in order.cart:\n",
    "            if item.quantity >= 20:\n",
    "                discount += item.total() * 0.1\n",
    "        return discount\n",
    "    \n",
    "class LargeOrderPromo(Promotion):\n",
    "    \"\"\"10종류 이상의 상품을 구입하면 전체 7% 할인 적용\"\"\"\n",
    "    \n",
    "    def discount(self, order):\n",
    "        distinct_items = {item.product for item in order.cart}\n",
    "        if len(distinct_items) >= 10:\n",
    "            return order.total() * 0.07\n",
    "        return 0"
   ]
  },
  {
   "cell_type": "markdown",
   "metadata": {},
   "source": [
    "실제 연산의 예를 들어보자."
   ]
  },
  {
   "cell_type": "code",
   "execution_count": 96,
   "metadata": {},
   "outputs": [],
   "source": [
    "joe = Customer('John Doe', 0)\n",
    "ann = Customer('Ann Smith', 1100)\n",
    "cart = [LineItem('banana', 4, .5),\n",
    "       LineItem('apple', 10, 1.5),\n",
    "       LineItem('watermellon', 5, 5.0)]"
   ]
  },
  {
   "cell_type": "code",
   "execution_count": 97,
   "metadata": {},
   "outputs": [
    {
     "data": {
      "text/plain": [
       "<Order total: 42.00 due: 42.00>"
      ]
     },
     "execution_count": 97,
     "metadata": {},
     "output_type": "execute_result"
    }
   ],
   "source": [
    "Order(joe, cart, FidelityPromo())"
   ]
  },
  {
   "cell_type": "markdown",
   "metadata": {},
   "source": [
    "Joe는 충성도가 0이므로 충성도 할인은 없다."
   ]
  },
  {
   "cell_type": "code",
   "execution_count": 98,
   "metadata": {},
   "outputs": [
    {
     "data": {
      "text/plain": [
       "<Order total: 42.00 due: 39.90>"
      ]
     },
     "execution_count": 98,
     "metadata": {},
     "output_type": "execute_result"
    }
   ],
   "source": [
    "Order(ann, cart, FidelityPromo())"
   ]
  },
  {
   "cell_type": "markdown",
   "metadata": {},
   "source": [
    "Ann은 충성도가 1000점 이상이므로 5% 할인(2.1달러)"
   ]
  },
  {
   "cell_type": "code",
   "execution_count": 99,
   "metadata": {},
   "outputs": [],
   "source": [
    "banana_cart = [LineItem('banana', 30, .5),\n",
    "               LineItem('apple', 10, 1.5)]"
   ]
  },
  {
   "cell_type": "code",
   "execution_count": 100,
   "metadata": {},
   "outputs": [
    {
     "data": {
      "text/plain": [
       "<Order total: 30.00 due: 28.50>"
      ]
     },
     "execution_count": 100,
     "metadata": {},
     "output_type": "execute_result"
    }
   ],
   "source": [
    "Order(joe, banana_cart, BulkItemPromo())"
   ]
  },
  {
   "cell_type": "markdown",
   "metadata": {},
   "source": [
    "바나나가 30개 이상이므로 10% 할인(15달러의 10%인 1.5달러)"
   ]
  },
  {
   "cell_type": "code",
   "execution_count": 101,
   "metadata": {},
   "outputs": [],
   "source": [
    "long_order = [LineItem(str(item_code), 1, 1.0)\n",
    "             for item_code in range(10)] # 물품 종류가 10개"
   ]
  },
  {
   "cell_type": "code",
   "execution_count": 102,
   "metadata": {},
   "outputs": [
    {
     "data": {
      "text/plain": [
       "<Order total: 10.00 due: 9.30>"
      ]
     },
     "execution_count": 102,
     "metadata": {},
     "output_type": "execute_result"
    }
   ],
   "source": [
    "Order(joe, long_order, LargeOrderPromo())"
   ]
  },
  {
   "cell_type": "markdown",
   "metadata": {},
   "source": [
    "10개 이상을 구입했으므로 10% 할인 적용"
   ]
  },
  {
   "cell_type": "code",
   "execution_count": 103,
   "metadata": {},
   "outputs": [
    {
     "data": {
      "text/plain": [
       "<Order total: 42.00 due: 42.00>"
      ]
     },
     "execution_count": 103,
     "metadata": {},
     "output_type": "execute_result"
    }
   ],
   "source": [
    "Order(joe, cart, LargeOrderPromo())"
   ]
  },
  {
   "cell_type": "markdown",
   "metadata": {},
   "source": [
    "물품의 갯수가 3개이므로 할인 없음\n",
    "\n",
    "위의 예제는 제대로 작동하지만, 파이썬에서 함수를 객체로 사용하면 더 적은 코드로 동일한 기능을 구현할 수 있다."
   ]
  },
  {
   "cell_type": "markdown",
   "metadata": {},
   "source": [
    "## 6.1.2 함수지향 전략\n",
    "\n",
    "위 예제에서 구체적인 전략들은 속성은 없고 `discount()`라는 메서드 하나만을 가진 클래스이므로, 이를 함수로 대신할 수 있다."
   ]
  },
  {
   "cell_type": "code",
   "execution_count": 104,
   "metadata": {},
   "outputs": [],
   "source": [
    "class Order: # Context\n",
    "    \"\"\"고객(namedtuple) 및 LineItem 클래스의 인스턴스들을 cart로 받아서 총 계산할 가격을 산출\"\"\"\n",
    "    def __init__(self, customer, cart, promotion=None):\n",
    "        self.customer = customer\n",
    "        self.cart = list(cart)\n",
    "        self.promotion = promotion # 할인 객체\n",
    "        \n",
    "    def total(self):\n",
    "        if not hasattr(self, '__total'):\n",
    "            self.__total = sum(item.total() for item in self.cart)\n",
    "        return self.__total\n",
    "    \n",
    "    def due(self):\n",
    "        if self.promotion is None:\n",
    "            discount = 0\n",
    "        else:\n",
    "            discount = self.promotion(self) # promotion은 함수 객체\n",
    "        return self.total() - discount\n",
    "    \n",
    "    def __repr__(self):\n",
    "        fmt = '<Order total: {:.2f} due: {:.2f}>'\n",
    "        return fmt.format(self.total(), self.due())\n",
    "    "
   ]
  },
  {
   "cell_type": "code",
   "execution_count": 105,
   "metadata": {},
   "outputs": [],
   "source": [
    "def fidelity_promo(order):\n",
    "    \"\"\"충성도 점수가 1000점 이상인 고객에게 전체 5% 할인 적용\"\"\"\n",
    "    return order.total() * 0.05 if order.customer.fidelity >= 1000 else 0\n",
    "\n",
    "def bulk_item_promo(order): \n",
    "    \"\"\"20개 이상의 동일 상품을 구입하면 10% 할인 적용\"\"\"\n",
    "    discount = 0\n",
    "    for item in order.cart:\n",
    "        if item.quantity >= 20:\n",
    "            discount += item.total() * 0.1\n",
    "    return discount\n",
    "    \n",
    "def large_order_promo(order):\n",
    "    \"\"\"10종류 이상의 상품을 구입하면 전체 7% 할인 적용\"\"\"\n",
    "    distinct_items = {item.product for item in order.cart}\n",
    "    if len(distinct_items) >= 10:\n",
    "        return order.total() * 0.07\n",
    "    return 0"
   ]
  },
  {
   "cell_type": "markdown",
   "metadata": {},
   "source": [
    "코드가 짧아졌으며 `Order` 객체를 사용하는 방법도 더 간단해졌다."
   ]
  },
  {
   "cell_type": "code",
   "execution_count": 106,
   "metadata": {},
   "outputs": [
    {
     "data": {
      "text/plain": [
       "<Order total: 42.00 due: 42.00>"
      ]
     },
     "execution_count": 106,
     "metadata": {},
     "output_type": "execute_result"
    }
   ],
   "source": [
    "Order(joe, cart, fidelity_promo)"
   ]
  },
  {
   "cell_type": "code",
   "execution_count": 107,
   "metadata": {},
   "outputs": [
    {
     "data": {
      "text/plain": [
       "<Order total: 42.00 due: 39.90>"
      ]
     },
     "execution_count": 107,
     "metadata": {},
     "output_type": "execute_result"
    }
   ],
   "source": [
    "Order(ann, cart, fidelity_promo)"
   ]
  },
  {
   "cell_type": "code",
   "execution_count": 108,
   "metadata": {},
   "outputs": [
    {
     "data": {
      "text/plain": [
       "<Order total: 30.00 due: 28.50>"
      ]
     },
     "execution_count": 108,
     "metadata": {},
     "output_type": "execute_result"
    }
   ],
   "source": [
    "Order(joe, banana_cart, bulk_item_promo)"
   ]
  },
  {
   "cell_type": "code",
   "execution_count": 109,
   "metadata": {},
   "outputs": [
    {
     "data": {
      "text/plain": [
       "<Order total: 10.00 due: 9.30>"
      ]
     },
     "execution_count": 109,
     "metadata": {},
     "output_type": "execute_result"
    }
   ],
   "source": [
    "Order(ann, long_order, large_order_promo)"
   ]
  },
  {
   "cell_type": "markdown",
   "metadata": {},
   "source": [
    "플라이웨이트란 :\n",
    "> 여러 콘텍스트에서 동시에 사용할 수 있는 공유 객체\n",
    "\n",
    "* 새로운 콘텍스트에서 동일 전략 객체를 반복해서 적용할 때는 새로 생성하는 비용을 줄이기 위해 플라이웨이트를 공유하는 것이 좋다. \n",
    "* 전략 객체가 내부 상태를 가지고 있지 않은 경우는 메서드를 하나만 구현하는 클래스를 만들기 보다는 일반 함수를 만드는 것이 좋다."
   ]
  },
  {
   "cell_type": "markdown",
   "metadata": {},
   "source": [
    "## 6.1.3 최선의 전략 선택하기: 단순한 접근법\n",
    "\n",
    "주어진 `Order` 객체에 대해 적용할 수 있는 가장 좋은 할인 전략을 선택하는 '메타 전략'을 만든다고 가정해보자."
   ]
  },
  {
   "cell_type": "code",
   "execution_count": 110,
   "metadata": {},
   "outputs": [],
   "source": [
    "# Order(joe, long_order, best_promo)"
   ]
  },
  {
   "cell_type": "code",
   "execution_count": 111,
   "metadata": {},
   "outputs": [],
   "source": [
    "promos = [fidelity_promo, bulk_item_promo, large_order_promo]\n",
    "# 함수들로 구현된 전략들의 리스트\n",
    "\n",
    "def best_promo(order):\n",
    "    \"\"\"최대로 할인받을 금액을 반환\"\"\"\n",
    "    return max(promo(order) for promo in promos)"
   ]
  },
  {
   "cell_type": "code",
   "execution_count": 112,
   "metadata": {},
   "outputs": [
    {
     "data": {
      "text/plain": [
       "<Order total: 10.00 due: 9.30>"
      ]
     },
     "execution_count": 112,
     "metadata": {},
     "output_type": "execute_result"
    }
   ],
   "source": [
    "Order(joe, long_order, best_promo)"
   ]
  },
  {
   "cell_type": "code",
   "execution_count": 113,
   "metadata": {},
   "outputs": [
    {
     "data": {
      "text/plain": [
       "<Order total: 30.00 due: 28.50>"
      ]
     },
     "execution_count": 113,
     "metadata": {},
     "output_type": "execute_result"
    }
   ],
   "source": [
    "Order(joe, banana_cart, best_promo)"
   ]
  },
  {
   "cell_type": "code",
   "execution_count": 114,
   "metadata": {},
   "outputs": [
    {
     "data": {
      "text/plain": [
       "<Order total: 42.00 due: 39.90>"
      ]
     },
     "execution_count": 114,
     "metadata": {},
     "output_type": "execute_result"
    }
   ],
   "source": [
    "Order(ann, cart, best_promo)"
   ]
  },
  {
   "cell_type": "markdown",
   "metadata": {},
   "source": [
    "위 코드는 제대로 작동하지만, 일부 코드가 중복되어 있어 다음과 같은 버그가 생길 여지가 있다. \n",
    "\n",
    "* 새로운 할인 전략을 추가하려면 함수를 코딩하고 이 함수를 `promos` 리스트에 추가해야 한다.\n",
    "* 아니면 새로운 할인 함수를 `Order` 객체에 인수로 전달해서 작동시킬 수 있지만 이때 `best_promo()`는 새로운 할인 함수를 고려하지 않는다."
   ]
  },
  {
   "cell_type": "markdown",
   "metadata": {},
   "source": [
    "## 6.1.4 모듈에서 전략 찾기\n",
    "\n",
    "파이썬은 모듈을 다루는 여러 함수를 표준 라이브러리에서 제공하며, `globals()` 함수도 그 중 하나이다.\n",
    "\n",
    "> __globals()__ <br>\n",
    "> 현재 전역 심벌 테이블을 나타내는 딕셔너리 객체를 반환. 이 딕셔너리는 언제나 현재 모듈에 대한 내용을 담고 있다."
   ]
  },
  {
   "cell_type": "code",
   "execution_count": 115,
   "metadata": {},
   "outputs": [
    {
     "data": {
      "text/plain": [
       "\u001b[0;31mSignature:\u001b[0m \u001b[0mglobals\u001b[0m\u001b[0;34m(\u001b[0m\u001b[0;34m)\u001b[0m\u001b[0;34m\u001b[0m\u001b[0;34m\u001b[0m\u001b[0m\n",
       "\u001b[0;31mDocstring:\u001b[0m\n",
       "Return the dictionary containing the current scope's global variables.\n",
       "\n",
       "NOTE: Updates to this dictionary *will* affect name lookups in the current\n",
       "global scope and vice-versa.\n",
       "\u001b[0;31mType:\u001b[0m      builtin_function_or_method\n"
      ]
     },
     "metadata": {},
     "output_type": "display_data"
    }
   ],
   "source": [
    "globals?"
   ]
  },
  {
   "cell_type": "code",
   "execution_count": 116,
   "metadata": {},
   "outputs": [
    {
     "data": {
      "text/plain": [
       "dict_keys(['__name__', '__doc__', '__package__', '__loader__', '__spec__', '__builtin__', '__builtins__', '_ih', '_oh', '_dh', 'In', 'Out', 'get_ipython', 'exit', 'quit', '_', '__', '___', '_i', '_ii', '_iii', '_i1', 'ABC', 'abstractclassmethod', 'namedtuple', 'Customer', '_i2', 'jac', '_i3', '_3', '_i4', 'jack', '_4', '_i5', 'LineItem', '_i6', 'Order', '_i7', '_i8', 'abstractmethod', '_i9', 'Promotion', '_i10', '_i11', '_i12', 'FidelityPromo', '_i13', '_i14', 'BulkItemPromo', 'LargeOrderPromo', '_i15', 'joe', '_i16', 'ann', 'cart', '_i17', '_17', '_i18', '_18', '_i19', '_19', '_i20', '_20', '_i21', '_21', '_i22', 'banana_cart', '_i23', '_23', '_i24', '_24', '_i25', '_25', '_i26', 'long_order', '_i27', '_27', '_i28', '_28', '_i29', '_29', '_i30', '_30', '_i31', '_i32', '_i33', 'fidelity_promo', 'bulk_item_promo', 'large_order_promo', '_i34', '_34', '_i35', '_35', '_i36', '_36', '_i37', '_37', '_i38', 'Heater', '_i39', 'heat', '_i40', '_i41', 'OKGoogle', '_i42', '_i43', 'Client', '_i44', 'cli', '_i45', '_i46', 'client', '_i47', 'Lamp', '_i48', 'modes', '_i49', '_i50', '_i51', '_i52', '_i53', '_i54', '_i55', 'Command', '_i56', '_i57', 'HeaterOnCommand', '_i58', '_i59', 'LampOnCommand', '_i60', '_i61', '_i62', '_i63', '_i64', '_i65', '_i66', '_i67', '_i68', '_i69', '_i70', '_i71', '_i72', '_i73', '_i74', '_i75', '_i76', '_i77', '_i78', '_i79', '_i80', '_i81', '_i82', '_i83', '_i84', '_i85', '_i86', '_i87', '_i88', '_i89', '_i90', '_i91', '_91', '_i92', '_i93', '_i94', '_i95', '_i96', '_i97', '_97', '_i98', '_98', '_i99', '_i100', '_100', '_i101', '_i102', '_102', '_i103', '_103', '_i104', '_i105', '_i106', '_106', '_i107', '_107', '_i108', '_108', '_i109', '_109', '_i110', '_i111', 'promos', 'best_promo', '_i112', '_112', '_i113', '_113', '_i114', '_114', '_i115', '_i116'])"
      ]
     },
     "execution_count": 116,
     "metadata": {},
     "output_type": "execute_result"
    }
   ],
   "source": [
    "globals().keys()"
   ]
  },
  {
   "cell_type": "markdown",
   "metadata": {},
   "source": [
    "이 함수를 이용하면 `best_promo()`가 자동으로 다른 `*_promo()` 함수들을 찾아내게 할 수 있다."
   ]
  },
  {
   "cell_type": "code",
   "execution_count": 145,
   "metadata": {},
   "outputs": [
    {
     "data": {
      "text/plain": [
       "'Order(joe, banana_cart, BulkItemPromo())'"
      ]
     },
     "execution_count": 145,
     "metadata": {},
     "output_type": "execute_result"
    }
   ],
   "source": [
    "globals()['_i100']"
   ]
  },
  {
   "cell_type": "code",
   "execution_count": 117,
   "metadata": {},
   "outputs": [
    {
     "data": {
      "text/plain": [
       "[<function __main__.fidelity_promo(order)>,\n",
       " <function __main__.bulk_item_promo(order)>,\n",
       " <function __main__.large_order_promo(order)>]"
      ]
     },
     "execution_count": 117,
     "metadata": {},
     "output_type": "execute_result"
    }
   ],
   "source": [
    "promos = [globals()[name] for name in globals()\n",
    "         if name.endswith('_promo')\n",
    "         and name != 'best_promo'] # 재귀호출을 피하기 위함\n",
    "promos"
   ]
  },
  {
   "cell_type": "markdown",
   "metadata": {},
   "source": [
    "별도의 모듈을 만들고 `best_promo()`를 제외한 모든 프로모션 할인 함수를 그 모듈에 넣어서 적용할 수 있는 모든 할인 함수를 모으는 방법도 있다."
   ]
  },
  {
   "cell_type": "code",
   "execution_count": 118,
   "metadata": {},
   "outputs": [
    {
     "name": "stdout",
     "output_type": "stream",
     "text": [
      "def fidelity_promo(order):\n",
      "    \"\"\"충성도 점수가 1000점 이상인 고객에게 전체 5% 할인 적용\"\"\"\n",
      "    return order.total() * 0.05 if order.customer.fidelity >= 1000 else 0\n",
      "\n",
      "def bulk_item_promo(order):\n",
      "    \"\"\"20개 이상의 동일 상품을 구입하면 10% 할인 적용\"\"\"\n",
      "    discount = 0\n",
      "    for item in order.cart:\n",
      "        if item.quantity >= 20:\n",
      "            discount += item.total() * 0.1\n",
      "    return discount\n",
      "\n",
      "def large_order_promo(order):\n",
      "    \"\"\"10종류 이상의 상품을 구입하면 전체 7% 할인 적용\"\"\"\n",
      "    distinct_items = {item.product for item in order.cart}\n",
      "    if len(distinct_items) >= 10:\n",
      "        return order.total() * 0.07\n",
      "    return 0\n"
     ]
    }
   ],
   "source": [
    "!cat promotions.py"
   ]
  },
  {
   "cell_type": "code",
   "execution_count": 119,
   "metadata": {},
   "outputs": [],
   "source": [
    "import promotions, inspect"
   ]
  },
  {
   "cell_type": "code",
   "execution_count": 120,
   "metadata": {},
   "outputs": [],
   "source": [
    "promos = [func for name, func in\n",
    "         inspect.getmembers(promotions, inspect.isfunction)]"
   ]
  },
  {
   "cell_type": "code",
   "execution_count": 121,
   "metadata": {},
   "outputs": [
    {
     "data": {
      "text/plain": [
       "[<function promotions.bulk_item_promo(order)>,\n",
       " <function promotions.fidelity_promo(order)>,\n",
       " <function promotions.large_order_promo(order)>]"
      ]
     },
     "execution_count": 121,
     "metadata": {},
     "output_type": "execute_result"
    }
   ],
   "source": [
    "promos"
   ]
  },
  {
   "cell_type": "markdown",
   "metadata": {},
   "source": [
    "`inspect.getmembers()` 함수는 조건식으로 걸러낸 객체의 속성들을 반환한다."
   ]
  },
  {
   "cell_type": "markdown",
   "metadata": {},
   "source": [
    "# 6.2 명령\n",
    "\n",
    "함수를 인수로 전달하는 기법을 사용하면 명령(command) 디자인 패턴도 구현을 단순하게 만들 수 있다. \n",
    "\n",
    "* 명령 패턴 : 연산을 실행하는 객체(호출자, invoker)와 연산을 수행하는 객체(수신자, receiver)를 분리하는 패턴\n",
    "\n",
    "### 명령 패턴 예제 \n",
    "\n",
    "구글홈을 사용하는 사용자를 Client 클래스, 구글홈을 OKGoogle 클래스, 히터를 Heater 클래스로 정의"
   ]
  },
  {
   "cell_type": "code",
   "execution_count": 122,
   "metadata": {},
   "outputs": [],
   "source": [
    "class Heater:\n",
    "    def __init__(self):\n",
    "        pass\n",
    "    \n",
    "    def powerOn(self):\n",
    "        print(\"Heater on\")"
   ]
  },
  {
   "cell_type": "code",
   "execution_count": 123,
   "metadata": {},
   "outputs": [],
   "source": [
    "class OKGoogle:\n",
    "    def __init__(self, heater):\n",
    "        self.heater = heater\n",
    "        \n",
    "    def talk(self):\n",
    "        self.heater.powerOn()"
   ]
  },
  {
   "cell_type": "code",
   "execution_count": 124,
   "metadata": {},
   "outputs": [],
   "source": [
    "class Client:\n",
    "    def __init__(self):\n",
    "        pass\n",
    "    \n",
    "    def main(self):\n",
    "        heater = Heater()\n",
    "        okGoogle = OKGoogle(heater)\n",
    "        okGoogle.talk()"
   ]
  },
  {
   "cell_type": "code",
   "execution_count": 125,
   "metadata": {},
   "outputs": [
    {
     "name": "stdout",
     "output_type": "stream",
     "text": [
      "Heater on\n"
     ]
    }
   ],
   "source": [
    "client = Client()\n",
    "client.main()"
   ]
  },
  {
   "cell_type": "markdown",
   "metadata": {},
   "source": [
    "램프를 켜는 기능을 추가하려면?\n",
    "\n",
    "`Lamp` 클래스를 정의하고 `OKGoogle` 클래스에서도 `Lamp` 객체를 참조하도록 해야한다."
   ]
  },
  {
   "cell_type": "code",
   "execution_count": 126,
   "metadata": {},
   "outputs": [],
   "source": [
    "class Lamp:\n",
    "    def __init__(self):\n",
    "        pass\n",
    "    \n",
    "    def turnOn(self):\n",
    "        print(\"Lamp on\")"
   ]
  },
  {
   "cell_type": "code",
   "execution_count": 127,
   "metadata": {},
   "outputs": [],
   "source": [
    "modes = ['heater', 'lamp']\n",
    "\n",
    "class OKGoogle:\n",
    "    def __init__(self, heater, lamp):\n",
    "        self.heater = heater\n",
    "        self.lamp = lamp\n",
    "        \n",
    "    def setMode(self, idx):\n",
    "        self.mode = modes[idx]\n",
    "        \n",
    "    def talk(self):\n",
    "        if self.mode == 'heater':\n",
    "            self.heater.powerOn()\n",
    "        elif self.mode == 'lamp':\n",
    "            self.lamp.turnOn()"
   ]
  },
  {
   "cell_type": "code",
   "execution_count": 128,
   "metadata": {},
   "outputs": [],
   "source": [
    "class Client:\n",
    "    def __init__(self):\n",
    "        pass\n",
    "    \n",
    "    def main(self):\n",
    "        heater = Heater()\n",
    "        lamp = Lamp()\n",
    "        okGoogle = OKGoogle(heater, lamp)\n",
    "        \n",
    "        # 히터 켜짐\n",
    "        okGoogle.setMode(0)\n",
    "        okGoogle.talk()\n",
    "        \n",
    "        # 램프 켜짐\n",
    "        okGoogle.setMode(1)\n",
    "        okGoogle.talk()"
   ]
  },
  {
   "cell_type": "code",
   "execution_count": 129,
   "metadata": {},
   "outputs": [
    {
     "name": "stdout",
     "output_type": "stream",
     "text": [
      "Heater on\n",
      "Lamp on\n"
     ]
    }
   ],
   "source": [
    "client = Client()\n",
    "client.main()"
   ]
  },
  {
   "cell_type": "markdown",
   "metadata": {},
   "source": [
    "`OKGoogle`에게 `mode` 설정을 통해 `mode='heater'`이면 히터, `mode='lamp'`이면 램프를 켜도록 설정함\n",
    "\n",
    "그러나 기능이 많아질 수록 객체의 프로퍼티는 더욱 늘어나고 `talk()` 메서드의 분기가 늘어나게 된다. 또한 OCP(\"클래스나 모듈은 확장에는 열려 있어야 하고 변경에는 닫혀 있어야 한다\") 원칙에도 위배된다.\n",
    "\n",
    "이를 해결하기 위해, `OKGoogle`이 할 수 있는 기능들을 클래스로 만들어서(`HeaterOnCommand`, `LampOnCommand`) 각 기능들을 캡슐화하고, `OKGoogle` 클래스의 `talk()` 메서드에서 캡슐화한 `Command` 인터페이스의 메서드를 호출하도록 한다.\n",
    "\n",
    "<img src='https://img1.daumcdn.net/thumb/R1280x0/?scode=mtistory2&fname=http%3A%2F%2Fcfile10.uf.tistory.com%2Fimage%2F997EC63E5C16561421D06C'>\n",
    "\n",
    "먼저 인터페이스를 정의한다."
   ]
  },
  {
   "cell_type": "code",
   "execution_count": 130,
   "metadata": {},
   "outputs": [],
   "source": [
    "class Command(ABC):\n",
    "\n",
    "    @abstractmethod\n",
    "    def run(self):\n",
    "        pass"
   ]
  },
  {
   "cell_type": "markdown",
   "metadata": {},
   "source": [
    "`Heater`와 `Lamp`를 켜는 명령을 클래스화하여 `HeaterOnCommand`와 `LampOnCommand`를 정의한다."
   ]
  },
  {
   "cell_type": "code",
   "execution_count": 131,
   "metadata": {},
   "outputs": [],
   "source": [
    "class HeaterOnCommand(Command):\n",
    "    def __init__(self, heater):\n",
    "        self.heater = heater\n",
    "        \n",
    "    def run(self):\n",
    "        self.heater.powerOn()"
   ]
  },
  {
   "cell_type": "code",
   "execution_count": 132,
   "metadata": {},
   "outputs": [],
   "source": [
    "class Heater:\n",
    "    \n",
    "    def powerOn(self):\n",
    "        print(\"Heater on\")"
   ]
  },
  {
   "cell_type": "code",
   "execution_count": 133,
   "metadata": {},
   "outputs": [],
   "source": [
    "class LampOnCommand(Command):\n",
    "    def __init__(self, lamp):\n",
    "        self.lamp = lamp\n",
    "        \n",
    "    def run(self):\n",
    "        self.lamp.turnOn()"
   ]
  },
  {
   "cell_type": "code",
   "execution_count": 134,
   "metadata": {},
   "outputs": [],
   "source": [
    "class Lamp:\n",
    "    \n",
    "    def turnOn(self):\n",
    "        print(\"Lamp on\")"
   ]
  },
  {
   "cell_type": "markdown",
   "metadata": {},
   "source": [
    "`OKGoogle` 클래스의 `talk()` 메서드에서는 `Command` 인터페이스의 `run()` 메서드를 통해 명령을 실행한다."
   ]
  },
  {
   "cell_type": "code",
   "execution_count": 135,
   "metadata": {},
   "outputs": [],
   "source": [
    "class OKGoogle:\n",
    "    \n",
    "    def setCommand(self, command):\n",
    "        self.command = command\n",
    "        \n",
    "    def talk(self):\n",
    "        self.command.run()"
   ]
  },
  {
   "cell_type": "markdown",
   "metadata": {},
   "source": [
    "마지막으로 `OKGoogle`을 사용하는 `Client` 클래스를 정의한다."
   ]
  },
  {
   "cell_type": "code",
   "execution_count": 136,
   "metadata": {},
   "outputs": [],
   "source": [
    "class Client:\n",
    "    def __init__(self):\n",
    "        pass\n",
    "    \n",
    "    def main(self):\n",
    "        heater = Heater()\n",
    "        lamp = Lamp()\n",
    "        \n",
    "        heaterOnCommand = HeaterOnCommand(heater)\n",
    "        lampOnCommand = LampOnCommand(lamp)\n",
    "        okGoogle = OKGoogle()\n",
    "        \n",
    "        # 히터를 켠다\n",
    "        okGoogle.setCommand(heaterOnCommand)\n",
    "        okGoogle.talk()\n",
    "        \n",
    "        # 램프를 켠다\n",
    "        okGoogle.setCommand(lampOnCommand)\n",
    "        okGoogle.talk()"
   ]
  },
  {
   "cell_type": "code",
   "execution_count": 137,
   "metadata": {},
   "outputs": [
    {
     "name": "stdout",
     "output_type": "stream",
     "text": [
      "Heater on\n",
      "Lamp on\n"
     ]
    }
   ],
   "source": [
    "client = Client()\n",
    "client.main()"
   ]
  },
  {
   "cell_type": "markdown",
   "metadata": {},
   "source": [
    "그런데 이 구조에서 `HeaterOnCommand` 클래스의 `run()`을 콜러블로 변경하여 다음과 같이 할 수 있다."
   ]
  },
  {
   "cell_type": "code",
   "execution_count": 138,
   "metadata": {},
   "outputs": [],
   "source": [
    "class Command(ABC):\n",
    "\n",
    "    @abstractmethod\n",
    "    def __call__(self):\n",
    "        pass"
   ]
  },
  {
   "cell_type": "code",
   "execution_count": 139,
   "metadata": {},
   "outputs": [],
   "source": [
    "class HeaterOnCommand(Command):\n",
    "    def __init__(self, heater):\n",
    "        self.heater = heater\n",
    "        \n",
    "    def __call__(self):\n",
    "        self.heater.powerOn()"
   ]
  },
  {
   "cell_type": "code",
   "execution_count": 140,
   "metadata": {},
   "outputs": [],
   "source": [
    "class LampOnCommand(Command):\n",
    "    def __init__(self, lamp):\n",
    "        self.lamp = lamp\n",
    "        \n",
    "    def __call__(self):\n",
    "        self.lamp.turnOn()"
   ]
  },
  {
   "cell_type": "code",
   "execution_count": 141,
   "metadata": {},
   "outputs": [],
   "source": [
    "class OKGoogle:\n",
    "    def __init__(self):\n",
    "        pass\n",
    "    \n",
    "    def setCommand(self, command):\n",
    "        self.command = command\n",
    "        \n",
    "    def talk(self):\n",
    "        self.command()"
   ]
  },
  {
   "cell_type": "code",
   "execution_count": 142,
   "metadata": {},
   "outputs": [],
   "source": [
    "class Client:\n",
    "    def __init__(self):\n",
    "        pass\n",
    "    \n",
    "    def main(self):\n",
    "        heater = Heater()\n",
    "        lamp = Lamp()\n",
    "        \n",
    "        heaterOnCommand = HeaterOnCommand(heater)\n",
    "        lampOnCommand = LampOnCommand(lamp)\n",
    "        okGoogle = OKGoogle()\n",
    "        \n",
    "        # 히터를 켠다\n",
    "        okGoogle.setCommand(heaterOnCommand)\n",
    "        okGoogle.talk()\n",
    "        \n",
    "        # 램프를 켠다\n",
    "        okGoogle.setCommand(lampOnCommand)\n",
    "        okGoogle.talk()"
   ]
  },
  {
   "cell_type": "code",
   "execution_count": 143,
   "metadata": {},
   "outputs": [
    {
     "name": "stdout",
     "output_type": "stream",
     "text": [
      "Heater on\n",
      "Lamp on\n"
     ]
    }
   ],
   "source": [
    "client = Client()\n",
    "client.main()"
   ]
  },
  {
   "cell_type": "markdown",
   "metadata": {},
   "source": [
    "## 끗!"
   ]
  }
 ],
 "metadata": {
  "kernelspec": {
   "display_name": "Python 3",
   "language": "python",
   "name": "python3"
  },
  "language_info": {
   "codemirror_mode": {
    "name": "ipython",
    "version": 3
   },
   "file_extension": ".py",
   "mimetype": "text/x-python",
   "name": "python",
   "nbconvert_exporter": "python",
   "pygments_lexer": "ipython3",
   "version": "3.7.3"
  }
 },
 "nbformat": 4,
 "nbformat_minor": 4
}
