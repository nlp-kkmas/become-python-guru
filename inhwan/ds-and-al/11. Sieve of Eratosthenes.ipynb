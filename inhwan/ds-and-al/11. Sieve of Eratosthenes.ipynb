{
 "cells": [
  {
   "cell_type": "markdown",
   "metadata": {},
   "source": [
    "# Chapter 11 : Sieve of Eratosthenes"
   ]
  },
  {
   "cell_type": "code",
   "execution_count": 1,
   "metadata": {},
   "outputs": [],
   "source": [
    "# Sieve of Eratosthenes\n",
    "def sieve(n):\n",
    "    sieve = [True] * (n+1)\n",
    "    sieve[0] = sieve[1] = False\n",
    "    i = 2\n",
    "    while (i * i <= n):\n",
    "        if (sieve[i]): # 소수를 찾으면 이후 배수를 전부 False\n",
    "            k = i * i # 이 이하의 숫자들은 이미 다른 소수의 배수\n",
    "            while (k <= n):\n",
    "                sieve[k] = False\n",
    "                k += i\n",
    "        i += 1\n",
    "    return sieve"
   ]
  },
  {
   "cell_type": "code",
   "execution_count": 8,
   "metadata": {},
   "outputs": [
    {
     "name": "stdout",
     "output_type": "stream",
     "text": [
      "[2, 3, 5, 7, 11, 13, 17, 19]\n"
     ]
    }
   ],
   "source": [
    "primes = []\n",
    "for i, p in enumerate(sieve(20)):\n",
    "    if p:\n",
    "        primes.append(i)\n",
    "print(primes)"
   ]
  },
  {
   "cell_type": "markdown",
   "metadata": {},
   "source": [
    "연산의 복잡도는 다음과 같다.\n",
    "\n",
    "$$ \\frac n2 + \\frac n3 + \\frac n5 + \\cdots = \\sum_{p_j \\le \\sqrt{n}} \\frac n {p_j} = n \\cdot \\sum_{p_j \\le \\sqrt{n}} \\frac 1 {p_j} $$\n",
    "\n",
    "$n$ 이하의 소수 갯수는 $O(\\log \\log n)$ 이므로 총 복잡도는  $O(n\\log \\log n)$이다."
   ]
  },
  {
   "cell_type": "markdown",
   "metadata": {},
   "source": [
    "## 11.1. Factorization\n",
    "\n",
    "숫자를 나누는 최소 소수를 찾아보자."
   ]
  },
  {
   "cell_type": "code",
   "execution_count": 9,
   "metadata": {},
   "outputs": [],
   "source": [
    "# Preparing the array F for factorization.\n",
    "\n",
    "def arrayF(n):\n",
    "    F = [0] * (n+1)\n",
    "    i = 2\n",
    "    while (i * i <= n):\n",
    "        if (F[i] == 0):\n",
    "            k = i * i\n",
    "            while (k <= n):\n",
    "                if (F[k]==0):\n",
    "                    F[k] = i\n",
    "                k += i\n",
    "        i += 1\n",
    "    return F"
   ]
  },
  {
   "cell_type": "code",
   "execution_count": 13,
   "metadata": {},
   "outputs": [],
   "source": [
    "F = arrayF(20)"
   ]
  },
  {
   "cell_type": "code",
   "execution_count": 17,
   "metadata": {},
   "outputs": [],
   "source": [
    "# Factorization of x\n",
    "\n",
    "def factorization(x, F):\n",
    "    primeFactors = []\n",
    "    while (F[x] > 0) :\n",
    "        primeFactors += [F[x]]\n",
    "        x = int(x/F[x])\n",
    "    primeFactors += [x]\n",
    "    return primeFactors"
   ]
  },
  {
   "cell_type": "code",
   "execution_count": 18,
   "metadata": {},
   "outputs": [
    {
     "data": {
      "text/plain": [
       "[2, 2, 5]"
      ]
     },
     "execution_count": 18,
     "metadata": {},
     "output_type": "execute_result"
    }
   ],
   "source": [
    "factorization(20, F)"
   ]
  },
  {
   "cell_type": "markdown",
   "metadata": {},
   "source": [
    "# CountNonDivisible\n",
    "\n",
    "You are given an array A consisting of N integers.\n",
    "\n",
    "For each number A[i] such that 0 ≤ i < N, we want to count the number of elements of the array that are not the divisors of A[i]. We say that these elements are non-divisors.\n",
    "\n",
    "For example, consider integer N = 5 and array A such that:\n",
    "\n",
    "    A[0] = 3\n",
    "    A[1] = 1\n",
    "    A[2] = 2\n",
    "    A[3] = 3\n",
    "    A[4] = 6\n",
    "\n",
    "For the following elements:\n",
    "\n",
    "* A[0] = 3, the non-divisors are: 2, 6,\n",
    "* A[1] = 1, the non-divisors are: 3, 2, 3, 6,\n",
    "* A[2] = 2, the non-divisors are: 3, 3, 6,\n",
    "* A[3] = 3, the non-divisors are: 2, 6,\n",
    "* A[4] = 6, there aren't any non-divisors.\n",
    "\n",
    "Write a function:\n",
    "\n",
    "    def solution(A)\n",
    "\n",
    "that, given an array A consisting of N integers, returns a sequence of integers representing the amount of non-divisors.\n",
    "\n",
    "Result array should be returned as an array of integers.\n",
    "\n",
    "For example, given:\n",
    "\n",
    "    A[0] = 3\n",
    "    A[1] = 1\n",
    "    A[2] = 2\n",
    "    A[3] = 3\n",
    "    A[4] = 6\n",
    "the function should return [2, 4, 3, 2, 0], as explained above.\n",
    "\n",
    "Write an efficient algorithm for the following assumptions:\n",
    "\n",
    "* N is an integer within the range [1..50,000];\n",
    "* each element of array A is an integer within the range [1..2 * N]."
   ]
  },
  {
   "cell_type": "code",
   "execution_count": 40,
   "metadata": {},
   "outputs": [],
   "source": [
    "A = [3,1,2,3,6]"
   ]
  },
  {
   "cell_type": "markdown",
   "metadata": {},
   "source": [
    "초딩 풀이 간다"
   ]
  },
  {
   "cell_type": "code",
   "execution_count": 24,
   "metadata": {},
   "outputs": [],
   "source": [
    "def solution(A):\n",
    "    ans = []\n",
    "    for i in range(len(A)):\n",
    "        div = 0\n",
    "        for j in range(len(A)):\n",
    "            if i != j and A[i] % A[j] != 0:\n",
    "                div += 1\n",
    "        ans.append(div)\n",
    "    return ans"
   ]
  },
  {
   "cell_type": "code",
   "execution_count": 25,
   "metadata": {},
   "outputs": [
    {
     "data": {
      "text/plain": [
       "[2, 4, 3, 2, 0]"
      ]
     },
     "execution_count": 25,
     "metadata": {},
     "output_type": "execute_result"
    }
   ],
   "source": [
    "solution(A)"
   ]
  },
  {
   "cell_type": "markdown",
   "metadata": {},
   "source": [
    "https://app.codility.com/demo/results/trainingUYVK59-9Z8/\n",
    "\n",
    "55점 $O(N^2)$"
   ]
  },
  {
   "cell_type": "code",
   "execution_count": 57,
   "metadata": {},
   "outputs": [],
   "source": [
    "M = max(A)+1\n",
    "d = dict()\n",
    "for a in set(A):\n",
    "    d[a] = set(A) - divisors(a)"
   ]
  },
  {
   "cell_type": "code",
   "execution_count": 58,
   "metadata": {},
   "outputs": [
    {
     "data": {
      "text/plain": [
       "{1: {2, 3, 6}, 2: {3, 6}, 3: {2, 6}, 6: set()}"
      ]
     },
     "execution_count": 58,
     "metadata": {},
     "output_type": "execute_result"
    }
   ],
   "source": [
    "d"
   ]
  },
  {
   "cell_type": "code",
   "execution_count": 56,
   "metadata": {},
   "outputs": [
    {
     "data": {
      "text/plain": [
       "Counter({3: 2, 1: 1, 2: 1, 6: 1})"
      ]
     },
     "execution_count": 56,
     "metadata": {},
     "output_type": "execute_result"
    }
   ],
   "source": [
    "from collections import Counter\n",
    "c = Counter(A)\n",
    "c"
   ]
  },
  {
   "cell_type": "code",
   "execution_count": 62,
   "metadata": {},
   "outputs": [
    {
     "data": {
      "text/plain": [
       "{1: 4, 2: 3, 3: 2, 6: 0}"
      ]
     },
     "execution_count": 62,
     "metadata": {},
     "output_type": "execute_result"
    }
   ],
   "source": [
    "sol = dict()\n",
    "for key, item in d.items():\n",
    "    sol[key] = 0\n",
    "    for j in item:\n",
    "        sol[key] += c[j]\n",
    "        \n",
    "sol"
   ]
  },
  {
   "cell_type": "code",
   "execution_count": 65,
   "metadata": {},
   "outputs": [],
   "source": [
    "def solution(A):\n",
    "    \n",
    "    def divisors(n):\n",
    "        i=1\n",
    "        result = set()\n",
    "        while i*i < n:\n",
    "            if n % i == 0:\n",
    "                result.update([i, int(n/i)])\n",
    "            i += 1\n",
    "        if i*i == n:\n",
    "            result.add(i)\n",
    "\n",
    "        return result\n",
    "    \n",
    "    M = max(A)+1\n",
    "    d = dict()\n",
    "    for a in set(A):\n",
    "        d[a] = set(A) - divisors(a)\n",
    "        \n",
    "    from collections import Counter\n",
    "    c = Counter(A)\n",
    "    \n",
    "    sol = dict()\n",
    "    for key, item in d.items():\n",
    "        sol[key] = 0\n",
    "        for j in item:\n",
    "            sol[key] += c[j]\n",
    "            \n",
    "    ans = []\n",
    "    for a in A:\n",
    "        ans.append(sol[a])\n",
    "    return ans"
   ]
  },
  {
   "cell_type": "markdown",
   "metadata": {},
   "source": [
    "https://app.codility.com/demo/results/trainingGVSGFP-6BN/\n",
    "\n",
    "66점"
   ]
  },
  {
   "cell_type": "markdown",
   "metadata": {},
   "source": [
    "# CountSemiprimes\n",
    "\n",
    "A prime is a positive integer X that has exactly two distinct divisors: 1 and X. The first few prime integers are 2, 3, 5, 7, 11 and 13.\n",
    "\n",
    "A semiprime is a natural number that is the product of two (not necessarily distinct) prime numbers. The first few semiprimes are 4, 6, 9, 10, 14, 15, 21, 22, 25, 26.\n",
    "\n",
    "You are given two non-empty arrays P and Q, each consisting of M integers. These arrays represent queries about the number of semiprimes within specified ranges.\n",
    "\n",
    "Query K requires you to find the number of semiprimes within the range (P[K], Q[K]), where 1 ≤ P[K] ≤ Q[K] ≤ N.\n",
    "\n",
    "For example, consider an integer N = 26 and arrays P, Q such that:\n",
    "\n",
    "    P[0] = 1    Q[0] = 26\n",
    "    P[1] = 4    Q[1] = 10\n",
    "    P[2] = 16   Q[2] = 20\n",
    "The number of semiprimes within each of these ranges is as follows:\n",
    "\n",
    "* (1, 26) is 10,\n",
    "* (4, 10) is 4,\n",
    "* (16, 20) is 0.\n",
    "\n",
    "Write a function:\n",
    "\n",
    "    def solution(N, P, Q)\n",
    "\n",
    "that, given an integer N and two non-empty arrays P and Q consisting of M integers, returns an array consisting of M elements specifying the consecutive answers to all the queries.\n",
    "\n",
    "For example, given an integer N = 26 and arrays P, Q such that:\n",
    "\n",
    "    P[0] = 1    Q[0] = 26\n",
    "    P[1] = 4    Q[1] = 10\n",
    "    P[2] = 16   Q[2] = 20\n",
    "    \n",
    "the function should return the values [10, 4, 0], as explained above.\n",
    "\n",
    "Write an efficient algorithm for the following assumptions:\n",
    "\n",
    "* N is an integer within the range [1..50,000];\n",
    "* M is an integer within the range [1..30,000];\n",
    "* each element of arrays P, Q is an integer within the range [1..N];\n",
    "* P[i] ≤ Q[i]."
   ]
  },
  {
   "cell_type": "code",
   "execution_count": 26,
   "metadata": {},
   "outputs": [],
   "source": [
    "P = [1,4,16]\n",
    "Q = [26,10,20]"
   ]
  },
  {
   "cell_type": "code",
   "execution_count": 27,
   "metadata": {},
   "outputs": [],
   "source": [
    "m = min(P)\n",
    "M = max(Q)"
   ]
  },
  {
   "cell_type": "code",
   "execution_count": 28,
   "metadata": {},
   "outputs": [],
   "source": [
    "F = arrayF(M+1)\n",
    "d = dict()\n",
    "for i in range(m,M+1):\n",
    "    if len(factorization(i, F))==2:\n",
    "        d[i] = True\n",
    "    else:\n",
    "        d[i] = False"
   ]
  },
  {
   "cell_type": "code",
   "execution_count": 30,
   "metadata": {},
   "outputs": [],
   "source": [
    "def solution(N, P,Q):\n",
    "    m = min(P)\n",
    "    M = N\n",
    "    \n",
    "    F = arrayF(M+1)\n",
    "    d = dict()\n",
    "    for i in range(m,M+1):\n",
    "        if len(factorization(i, F))==2:\n",
    "            d[i] = True\n",
    "        else:\n",
    "            d[i] = False\n",
    "        \n",
    "    n = len(P)\n",
    "    ans = []\n",
    "    for i in range(n):\n",
    "        div = 0 \n",
    "        for j in range(P[i],Q[i]+1):\n",
    "            if d[j]==True:\n",
    "                div+=1\n",
    "        ans.append(div)\n",
    "    return ans"
   ]
  },
  {
   "cell_type": "code",
   "execution_count": 31,
   "metadata": {},
   "outputs": [
    {
     "data": {
      "text/plain": [
       "[10, 4, 0]"
      ]
     },
     "execution_count": 31,
     "metadata": {},
     "output_type": "execute_result"
    }
   ],
   "source": [
    "solution(P,Q)"
   ]
  },
  {
   "cell_type": "markdown",
   "metadata": {},
   "source": [
    "https://app.codility.com/demo/results/trainingVAA433-3JK/\n",
    "\n",
    "66점"
   ]
  },
  {
   "cell_type": "code",
   "execution_count": 36,
   "metadata": {},
   "outputs": [],
   "source": [
    "def solution(N, P,Q):\n",
    "    # Preparing the array F for factorization.\n",
    "\n",
    "    def arrayF(n):\n",
    "        F = [0] * (n+1)\n",
    "        i = 2\n",
    "        while (i * i <= n):\n",
    "            if (F[i] == 0):\n",
    "                k = i * i\n",
    "                while (k <= n):\n",
    "                    if (F[k]==0):\n",
    "                        F[k] = i\n",
    "                    k += i\n",
    "            i += 1\n",
    "        return F\n",
    "\n",
    "    def factorization(x, F):\n",
    "        primeFactors = []\n",
    "        while (F[x] > 0) :\n",
    "            primeFactors += [F[x]]\n",
    "            x = int(x/F[x])\n",
    "        primeFactors += [x]\n",
    "        return primeFactors\n",
    "    \n",
    "    m = min(P)\n",
    "    M = N\n",
    "    \n",
    "    F = arrayF(M+1)\n",
    "    d = []\n",
    "    for i in range(m,M+1):\n",
    "        if len(factorization(i, F))==2:\n",
    "            d.append(i)\n",
    "    d = set(d)\n",
    "        \n",
    "    n = len(P)\n",
    "    ans = []\n",
    "    for i in range(n):\n",
    "#         div = 0 \n",
    "#         for j in range(P[i],Q[i]+1):\n",
    "#             if d[j]==True:\n",
    "#                 div+=1\n",
    "        ans.append(len(d.intersection(set(range(P[i],Q[i]+1)))))\n",
    "    return ans"
   ]
  },
  {
   "cell_type": "code",
   "execution_count": 38,
   "metadata": {},
   "outputs": [
    {
     "data": {
      "text/plain": [
       "[10, 4, 0]"
      ]
     },
     "execution_count": 38,
     "metadata": {},
     "output_type": "execute_result"
    }
   ],
   "source": [
    "solution(26, P,Q)"
   ]
  },
  {
   "cell_type": "markdown",
   "metadata": {},
   "source": [
    "https://app.codility.com/demo/results/trainingPG3UBS-KRF/\n",
    "\n",
    "66점"
   ]
  },
  {
   "cell_type": "code",
   "execution_count": null,
   "metadata": {},
   "outputs": [],
   "source": []
  }
 ],
 "metadata": {
  "kernelspec": {
   "display_name": "Python 3",
   "language": "python",
   "name": "python3"
  },
  "language_info": {
   "codemirror_mode": {
    "name": "ipython",
    "version": 3
   },
   "file_extension": ".py",
   "mimetype": "text/x-python",
   "name": "python",
   "nbconvert_exporter": "python",
   "pygments_lexer": "ipython3",
   "version": "3.7.3"
  }
 },
 "nbformat": 4,
 "nbformat_minor": 4
}
