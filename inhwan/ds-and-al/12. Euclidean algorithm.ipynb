{
 "cells": [
  {
   "cell_type": "markdown",
   "metadata": {},
   "source": [
    "# Chapter 12. Euclidean algorithm\n",
    "\n",
    "The Euclidean algorithm is one of the oldest numerical algorithms still to be in common use. It solves the problem of computing the greatest common divisor (gcd) of two positive integers."
   ]
  },
  {
   "cell_type": "markdown",
   "metadata": {},
   "source": [
    "## 12.1. Euclidean algorithm by subtraction"
   ]
  },
  {
   "cell_type": "code",
   "execution_count": 6,
   "metadata": {},
   "outputs": [],
   "source": [
    "def gcd(a, b):\n",
    "    if a == b: \n",
    "        return a\n",
    "    if a > b: \n",
    "        return gcd(a-b, b)\n",
    "    else: \n",
    "        return gcd(a, b-a)"
   ]
  },
  {
   "cell_type": "code",
   "execution_count": 7,
   "metadata": {},
   "outputs": [
    {
     "name": "stdout",
     "output_type": "stream",
     "text": [
      "4\n"
     ]
    }
   ],
   "source": [
    "print(gcd(12,4))"
   ]
  },
  {
   "cell_type": "markdown",
   "metadata": {},
   "source": [
    "복잡도는 $O(a+b)$"
   ]
  },
  {
   "cell_type": "markdown",
   "metadata": {},
   "source": [
    "## 12.2. Euclidean algorithm by division"
   ]
  },
  {
   "cell_type": "code",
   "execution_count": 8,
   "metadata": {},
   "outputs": [],
   "source": [
    "def gcd(a,b):\n",
    "    if a % b == 0:\n",
    "        return b\n",
    "    else:\n",
    "        return gcd(b, a%b)\n",
    "    "
   ]
  },
  {
   "cell_type": "code",
   "execution_count": 9,
   "metadata": {},
   "outputs": [
    {
     "data": {
      "text/plain": [
       "4"
      ]
     },
     "execution_count": 9,
     "metadata": {},
     "output_type": "execute_result"
    }
   ],
   "source": [
    "gcd(12,4)"
   ]
  },
  {
   "cell_type": "markdown",
   "metadata": {},
   "source": [
    "복잡도는 $O(\\log(a+b))$"
   ]
  },
  {
   "cell_type": "markdown",
   "metadata": {},
   "source": [
    "## 12.3. Binary Euclidean algorithm\n",
    "\n",
    "The following function calculate $gcd(a, b, res) = gcd(a,b,1)\\cdot res$."
   ]
  },
  {
   "cell_type": "code",
   "execution_count": 10,
   "metadata": {},
   "outputs": [],
   "source": [
    "def gcd(a, b, res):\n",
    "    if a==b :\n",
    "        return res * a\n",
    "    elif (a % 2 == 0) and (b % 2 == 0):\n",
    "        return gcd(a//2, b//2, 2*res)\n",
    "    elif (a % 2 == 0):\n",
    "        return gcd(a//2, b, res)\n",
    "    elif (b % 2 == 0):\n",
    "        return gcd(a, b//2, res)\n",
    "    elif a > b:\n",
    "        return gcd(a-b, b, res)\n",
    "    else:\n",
    "        return gcd(a, b-a, res)"
   ]
  },
  {
   "cell_type": "code",
   "execution_count": 11,
   "metadata": {},
   "outputs": [
    {
     "data": {
      "text/plain": [
       "4"
      ]
     },
     "execution_count": 11,
     "metadata": {},
     "output_type": "execute_result"
    }
   ],
   "source": [
    "gcd(12,4,1)"
   ]
  },
  {
   "cell_type": "markdown",
   "metadata": {},
   "source": [
    "복잡도 $O(\\log n)$ 그리고 매우 큰 수에 대해서는 12.2 보다 더 좋음(?)"
   ]
  },
  {
   "cell_type": "markdown",
   "metadata": {},
   "source": [
    "## 12.4. Least common multiple\n",
    "\n",
    "$ lcm(a,b) = \\frac{a\\cdot b}{gcd(a,b)} $"
   ]
  },
  {
   "cell_type": "markdown",
   "metadata": {},
   "source": [
    "# ChocolatesByNumbers\n",
    "\n",
    "Two positive integers N and M are given. Integer N represents the number of chocolates arranged in a circle, numbered from 0 to N − 1.\n",
    "\n",
    "You start to eat the chocolates. After eating a chocolate you leave only a wrapper.\n",
    "\n",
    "You begin with eating chocolate number 0. Then you omit the next M − 1 chocolates or wrappers on the circle, and eat the following one.\n",
    "\n",
    "More precisely, if you ate chocolate number X, then you will next eat the chocolate with number (X + M) modulo N (remainder of division).\n",
    "\n",
    "You stop eating when you encounter an empty wrapper.\n",
    "\n",
    "For example, given integers N = 10 and M = 4. You will eat the following chocolates: 0, 4, 8, 2, 6.\n",
    "\n",
    "The goal is to count the number of chocolates that you will eat, following the above rules.\n",
    "\n",
    "Write a function:\n",
    "\n",
    "    def solution(N, M)\n",
    "\n",
    "that, given two positive integers N and M, returns the number of chocolates that you will eat.\n",
    "\n",
    "For example, given integers N = 10 and M = 4. the function should return 5, as explained above.\n",
    "\n",
    "Write an efficient algorithm for the following assumptions:\n",
    "\n",
    "* N and M are integers within the range [1..1,000,000,000].\n",
    "\n",
    "https://app.codility.com/programmers/lessons/12-euclidean_algorithm/chocolates_by_numbers/start/"
   ]
  },
  {
   "cell_type": "code",
   "execution_count": 12,
   "metadata": {},
   "outputs": [],
   "source": [
    "import math"
   ]
  },
  {
   "cell_type": "code",
   "execution_count": 14,
   "metadata": {},
   "outputs": [],
   "source": [
    "def lcm(a,b):\n",
    "    return int(a*b / gcd(a,b,1))"
   ]
  },
  {
   "cell_type": "code",
   "execution_count": 15,
   "metadata": {},
   "outputs": [],
   "source": [
    "def solution(N,M):\n",
    "    return int(lcm(N,M) / M)"
   ]
  },
  {
   "cell_type": "markdown",
   "metadata": {},
   "source": [
    "https://app.codility.com/demo/results/training9NUUKS-TSV/\n",
    "\n",
    "100점"
   ]
  },
  {
   "cell_type": "markdown",
   "metadata": {},
   "source": [
    "# CommonPrimeDivisors\n",
    "\n",
    "A prime is a positive integer X that has exactly two distinct divisors: 1 and X. The first few prime integers are 2, 3, 5, 7, 11 and 13.\n",
    "\n",
    "A prime D is called a prime divisor of a positive integer P if there exists a positive integer K such that D * K = P. For example, 2 and 5 are prime divisors of 20.\n",
    "\n",
    "You are given two positive integers N and M. The goal is to check whether the sets of prime divisors of integers N and M are exactly the same.\n",
    "\n",
    "For example, given:\n",
    "\n",
    "* N = 15 and M = 75, the prime divisors are the same: {3, 5};\n",
    "* N = 10 and M = 30, the prime divisors aren't the same: {2, 5} is not equal to {2, 3, 5};\n",
    "* N = 9 and M = 5, the prime divisors aren't the same: {3} is not equal to {5}.\n",
    "\n",
    "Write a function:\n",
    "\n",
    "    def solution(A, B)\n",
    "\n",
    "that, given two non-empty arrays A and B of Z integers, returns the number of positions K for which the prime divisors of A[K] and B[K] are exactly the same.\n",
    "\n",
    "For example, given:\n",
    "\n",
    "    A[0] = 15   B[0] = 75\n",
    "    A[1] = 10   B[1] = 30\n",
    "    A[2] = 3    B[2] = 5\n",
    "    \n",
    "the function should return 1, because only one pair (15, 75) has the same set of prime divisors.\n",
    "\n",
    "Write an efficient algorithm for the following assumptions:\n",
    "\n",
    "* Z is an integer within the range [1..6,000];\n",
    "* each element of arrays A, B is an integer within the range [1..2,147,483,647].\n",
    "\n",
    "https://app.codility.com/programmers/lessons/12-euclidean_algorithm/common_prime_divisors/start/"
   ]
  },
  {
   "cell_type": "code",
   "execution_count": 16,
   "metadata": {},
   "outputs": [],
   "source": [
    "A = [15,10,3]\n",
    "B = [75,30,5]"
   ]
  },
  {
   "cell_type": "markdown",
   "metadata": {},
   "source": [
    "gcd와 lcm의 prime divisor 집합이 같은지 여부를 보자"
   ]
  },
  {
   "cell_type": "code",
   "execution_count": 62,
   "metadata": {},
   "outputs": [],
   "source": [
    "def arrayF(n):\n",
    "    ans = [0] * (n+1)\n",
    "    i = 2\n",
    "    while i <= n:\n",
    "        if ans[i]==0:\n",
    "            k = i * i\n",
    "            while k <= n:\n",
    "                ans[k] = i\n",
    "                k += i\n",
    "        i+=1\n",
    "    return ans\n",
    "            "
   ]
  },
  {
   "cell_type": "code",
   "execution_count": 63,
   "metadata": {},
   "outputs": [
    {
     "data": {
      "text/plain": [
       "[0, 0, 0, 0, 2, 0, 2, 0, 2, 3, 2]"
      ]
     },
     "execution_count": 63,
     "metadata": {},
     "output_type": "execute_result"
    }
   ],
   "source": [
    "arrayF(10)"
   ]
  },
  {
   "cell_type": "code",
   "execution_count": 64,
   "metadata": {},
   "outputs": [],
   "source": [
    "def factorization(x,F):\n",
    "    pr = []\n",
    "    while F[x] > 0:\n",
    "        pr += [F[x]]\n",
    "        x = int(x/F[x])\n",
    "    pr += [x]\n",
    "    return pr"
   ]
  },
  {
   "cell_type": "code",
   "execution_count": 41,
   "metadata": {},
   "outputs": [
    {
     "data": {
      "text/plain": [
       "[2, 2, 5]"
      ]
     },
     "execution_count": 41,
     "metadata": {},
     "output_type": "execute_result"
    }
   ],
   "source": [
    "factorization(20,arrayF(20))"
   ]
  },
  {
   "cell_type": "code",
   "execution_count": 43,
   "metadata": {},
   "outputs": [
    {
     "data": {
      "text/plain": [
       "[5, 3, 2, 2]"
      ]
     },
     "execution_count": 43,
     "metadata": {},
     "output_type": "execute_result"
    }
   ],
   "source": [
    "factorization(60,arrayF(60))"
   ]
  },
  {
   "cell_type": "code",
   "execution_count": 46,
   "metadata": {},
   "outputs": [],
   "source": [
    "def prime_div(x):\n",
    "    F = arrayF(x)\n",
    "    pr = set()\n",
    "    while F[x] > 0:\n",
    "        pr.add(F[x])\n",
    "        x = int(x/F[x])\n",
    "    pr.add(x)\n",
    "    return pr"
   ]
  },
  {
   "cell_type": "code",
   "execution_count": 47,
   "metadata": {},
   "outputs": [
    {
     "data": {
      "text/plain": [
       "{2, 5}"
      ]
     },
     "execution_count": 47,
     "metadata": {},
     "output_type": "execute_result"
    }
   ],
   "source": [
    "prime_div(20)"
   ]
  },
  {
   "cell_type": "code",
   "execution_count": 76,
   "metadata": {},
   "outputs": [],
   "source": [
    "def solution(A, B):\n",
    "    \n",
    "    def arrayF(n):\n",
    "        ans = [0] * (n+1)\n",
    "        i = 2\n",
    "        while i <= n:\n",
    "            if ans[i]==0:\n",
    "                k = i * i\n",
    "                while k <= n:\n",
    "                    ans[k] = i\n",
    "                    k += i\n",
    "            i+=1\n",
    "        return ans\n",
    "\n",
    "    def prime_div(x,F):\n",
    "        pr = set()\n",
    "        while F[x] > 0:\n",
    "            pr.add(F[x])\n",
    "            x = int(x/F[x])\n",
    "        pr.add(x)\n",
    "        return pr    \n",
    "\n",
    "    def gcd(a, b, res):\n",
    "        if a==b :\n",
    "            return res * a\n",
    "        elif (a % 2 == 0) and (b % 2 == 0):\n",
    "            return gcd(a//2, b//2, 2*res)\n",
    "        elif (a % 2 == 0):\n",
    "            return gcd(a//2, b, res)\n",
    "        elif (b % 2 == 0):\n",
    "            return gcd(a, b//2, res)\n",
    "        elif a > b:\n",
    "            return gcd(a-b, b, res)\n",
    "        else:\n",
    "            return gcd(a, b-a, res)\n",
    "\n",
    "    def lcm(a,b):\n",
    "        return int(a*b / gcd(a,b,1))\n",
    "    \n",
    "    g = []\n",
    "    l = []\n",
    "    for i in range(len(A)):\n",
    "        g.append(gcd(A[i],B[i],1))\n",
    "        l.append(int(lcm(A[i],B[i])/gcd(A[i],B[i],1)))\n",
    "        \n",
    "    ans = 0\n",
    "    F = arrayF(max(g+l)+1)\n",
    "    d = dict()\n",
    "    for n in set(g+l):\n",
    "        d[n] = prime_div(n,F)\n",
    "\n",
    "    for i in range(len(A)):\n",
    "#         print(g[i],l[i])\n",
    "#         print(d[g[i]],d[l[i]])\n",
    "        if d[l[i]].issubset(d[g[i]]) or d[l[i]]=={1}:\n",
    "            ans += 1\n",
    "            \n",
    "    return ans\n",
    "        "
   ]
  },
  {
   "cell_type": "code",
   "execution_count": 77,
   "metadata": {},
   "outputs": [
    {
     "name": "stdout",
     "output_type": "stream",
     "text": [
      "15 5\n",
      "{3, 5} {5}\n",
      "10 3\n",
      "{2, 5} {3}\n",
      "1 15\n",
      "{1} {3, 5}\n"
     ]
    },
    {
     "data": {
      "text/plain": [
       "1"
      ]
     },
     "execution_count": 77,
     "metadata": {},
     "output_type": "execute_result"
    }
   ],
   "source": [
    "solution(A,B)"
   ]
  },
  {
   "cell_type": "markdown",
   "metadata": {},
   "source": [
    "https://app.codility.com/demo/results/training5FNPJG-A26/\n",
    "\n",
    "61점 "
   ]
  },
  {
   "cell_type": "code",
   "execution_count": 89,
   "metadata": {},
   "outputs": [],
   "source": [
    "def solution(A, B):\n",
    "    \n",
    "    def arrayF(n):\n",
    "        ans = [0] * (n+1)\n",
    "        i = 2\n",
    "        while i <= n:\n",
    "            if ans[i]==0:\n",
    "                k = i * i\n",
    "                while k <= n:\n",
    "                    ans[k] = i\n",
    "                    k += i\n",
    "            i+=1\n",
    "        return ans\n",
    "\n",
    "    def prime_div(x,F):\n",
    "        pr = set()\n",
    "        while F[x] > 0:\n",
    "            pr.add(F[x])\n",
    "            x = int(x/F[x])\n",
    "        pr.add(x)\n",
    "        return pr    \n",
    "\n",
    "    def gcd(a, b, res):\n",
    "        if a==b :\n",
    "            return res * a\n",
    "        elif (a % 2 == 0) and (b % 2 == 0):\n",
    "            return gcd(a//2, b//2, 2*res)\n",
    "        elif (a % 2 == 0):\n",
    "            return gcd(a//2, b, res)\n",
    "        elif (b % 2 == 0):\n",
    "            return gcd(a, b//2, res)\n",
    "        elif a > b:\n",
    "            return gcd(a-b, b, res)\n",
    "        else:\n",
    "            return gcd(a, b-a, res)\n",
    "\n",
    "    def lcm(a,b):\n",
    "        return int(a*b / gcd(a,b,1))\n",
    "    \n",
    "    g = []\n",
    "    l = []\n",
    "    for i in range(len(A)):\n",
    "        gg = gcd(A[i],B[i],1)\n",
    "        g.append(gg)\n",
    "        l.append(int(lcm(A[i],B[i])/gg))\n",
    "        \n",
    "    ans = 0\n",
    "    F = arrayF(max(l)+1)\n",
    "    d = dict()\n",
    "    for n in set(l):\n",
    "        d[n] = prime_div(n,F)\n",
    "\n",
    "    for i in range(len(A)):\n",
    "#         print(g[i],l[i])\n",
    "#         print(d[g[i]],d[l[i]])\n",
    "        if all(g[i] %div ==0 for div in d[l[i]]):\n",
    "            ans +=1\n",
    "            \n",
    "            \n",
    "    return ans\n",
    "        "
   ]
  },
  {
   "cell_type": "code",
   "execution_count": 88,
   "metadata": {},
   "outputs": [
    {
     "data": {
      "text/plain": [
       "1"
      ]
     },
     "execution_count": 88,
     "metadata": {},
     "output_type": "execute_result"
    }
   ],
   "source": [
    "solution(A,B)"
   ]
  },
  {
   "cell_type": "markdown",
   "metadata": {},
   "source": [
    "https://app.codility.com/demo/results/trainingSVSC8F-NGT/\n",
    "\n",
    "76점..."
   ]
  },
  {
   "cell_type": "code",
   "execution_count": 108,
   "metadata": {},
   "outputs": [],
   "source": [
    "def solution(A, B):\n",
    "# Sieve of Eratosthenes\n",
    "    def primes_under(n):\n",
    "        sieve = [True] * (n+1)\n",
    "        sieve[0] = sieve[1] = False\n",
    "        i = 2\n",
    "        while (i * i <= n):\n",
    "            if (sieve[i]): # 소수를 찾으면 이후 배수를 전부 False\n",
    "                k = i * i # 이 이하의 숫자들은 이미 다른 소수의 배수\n",
    "                while (k <= n):\n",
    "                    sieve[k] = False\n",
    "                    k += i\n",
    "            i += 1\n",
    "        pr = []\n",
    "        for i,p in enumerate(sieve):\n",
    "            if p:\n",
    "                pr.append(i)\n",
    "        return pr\n",
    "    \n",
    "    def gcd(a, b, res):\n",
    "        if a==b :\n",
    "            return res * a\n",
    "        elif (a % 2 == 0) and (b % 2 == 0):\n",
    "            return gcd(a//2, b//2, 2*res)\n",
    "        elif (a % 2 == 0):\n",
    "            return gcd(a//2, b, res)\n",
    "        elif (b % 2 == 0):\n",
    "            return gcd(a, b//2, res)\n",
    "        elif a > b:\n",
    "            return gcd(a-b, b, res)\n",
    "        else:\n",
    "            return gcd(a, b-a, res)\n",
    "\n",
    "#     def lcm(a,b):\n",
    "#         return int(a*b / gcd(a,b,1))\n",
    "    \n",
    "    g = []\n",
    "    l = []\n",
    "    for i in range(len(A)):\n",
    "        gg = gcd(A[i],B[i],1)\n",
    "        g.append(gg)\n",
    "        l.append(int(A[i]*B[i]/gg/gg))\n",
    "        \n",
    "    ans = 0\n",
    "    M = max(l)\n",
    "    primes = primes_under(M)\n",
    "\n",
    "\n",
    "    for i in range(len(A)):\n",
    "#         print(g[i],l[i])\n",
    "#         print(d[g[i]],d[l[i]])\n",
    "        if all( g[i] %t==0 for t in primes if l[i] % t ==0):\n",
    "            ans +=1\n",
    "            \n",
    "            \n",
    "    return ans\n",
    "        "
   ]
  },
  {
   "cell_type": "code",
   "execution_count": 109,
   "metadata": {},
   "outputs": [
    {
     "data": {
      "text/plain": [
       "1"
      ]
     },
     "execution_count": 109,
     "metadata": {},
     "output_type": "execute_result"
    }
   ],
   "source": [
    "solution(A,B)"
   ]
  },
  {
   "cell_type": "markdown",
   "metadata": {},
   "source": [
    "76점"
   ]
  },
  {
   "cell_type": "code",
   "execution_count": 114,
   "metadata": {},
   "outputs": [],
   "source": [
    "def solution(A, B):\n",
    "    \n",
    "    def gcd(a, b, res):\n",
    "        if a==b :\n",
    "            return res * a\n",
    "        elif (a % 2 == 0) and (b % 2 == 0):\n",
    "            return gcd(a//2, b//2, 2*res)\n",
    "        elif (a % 2 == 0):\n",
    "            return gcd(a//2, b, res)\n",
    "        elif (b % 2 == 0):\n",
    "            return gcd(a, b//2, res)\n",
    "        elif a > b:\n",
    "            return gcd(a-b, b, res)\n",
    "        else:\n",
    "            return gcd(a, b-a, res)\n",
    "\n",
    "#     def lcm(a,b):\n",
    "#         return int(a*b / gcd(a,b,1))\n",
    "    \n",
    "    g = []\n",
    "    l = []\n",
    "    for i in range(len(A)):\n",
    "        gg = gcd(A[i],B[i],1)\n",
    "        g.append(gg)\n",
    "        l.append(int(A[i]*B[i]/gg/gg))\n",
    "        \n",
    "    ans = 0\n",
    "    M = max(l)\n",
    "\n",
    "\n",
    "    for i in range(len(A)):\n",
    "        if all(g[i] % j ==0 for j in range(1,l[i]+1) if l[i] % j ==0):\n",
    "            ans += 1\n",
    "            \n",
    "            \n",
    "    return ans\n",
    "        "
   ]
  },
  {
   "cell_type": "code",
   "execution_count": 115,
   "metadata": {},
   "outputs": [
    {
     "data": {
      "text/plain": [
       "1"
      ]
     },
     "execution_count": 115,
     "metadata": {},
     "output_type": "execute_result"
    }
   ],
   "source": [
    "solution(A,B)"
   ]
  },
  {
   "cell_type": "markdown",
   "metadata": {},
   "source": [
    "개망"
   ]
  },
  {
   "cell_type": "code",
   "execution_count": null,
   "metadata": {},
   "outputs": [],
   "source": []
  }
 ],
 "metadata": {
  "kernelspec": {
   "display_name": "Python 3",
   "language": "python",
   "name": "python3"
  },
  "language_info": {
   "codemirror_mode": {
    "name": "ipython",
    "version": 3
   },
   "file_extension": ".py",
   "mimetype": "text/x-python",
   "name": "python",
   "nbconvert_exporter": "python",
   "pygments_lexer": "ipython3",
   "version": "3.7.3"
  }
 },
 "nbformat": 4,
 "nbformat_minor": 4
}
