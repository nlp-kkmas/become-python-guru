{
 "cells": [
  {
   "cell_type": "markdown",
   "metadata": {},
   "source": [
    "# Lesson 14 Binary search algorithm\n",
    "\n",
    "절반씩 줄여나가면서 찾는 알고리즘..."
   ]
  },
  {
   "cell_type": "code",
   "execution_count": 3,
   "metadata": {},
   "outputs": [],
   "source": [
    "# O(log n)\n",
    "def binarySearch(A, x):\n",
    "    n = len(A)\n",
    "    beg = 0\n",
    "    end = n-1\n",
    "    result = -1\n",
    "    while (beg <= end):\n",
    "        mid = int((beg+end)/2)\n",
    "        if A[mid] <= x:\n",
    "            beg = mid + 1\n",
    "            result = mid\n",
    "        else:\n",
    "            end = mid -1\n",
    "    return result"
   ]
  },
  {
   "cell_type": "code",
   "execution_count": 4,
   "metadata": {},
   "outputs": [
    {
     "data": {
      "text/plain": [
       "10"
      ]
     },
     "execution_count": 4,
     "metadata": {},
     "output_type": "execute_result"
    }
   ],
   "source": [
    "A = range(1,17)\n",
    "x = 11\n",
    "binarySearch(A,x)"
   ]
  },
  {
   "cell_type": "markdown",
   "metadata": {},
   "source": [
    "## Binary search on the result\n",
    "\n",
    "You are given n binary values $x_0, x_1, \\ldots , x_{n−1}$, such that $x_i \\in \\{0, 1\\}$. This array represents holes in a roof (1 is a hole). You are also given k boards of the same size. The goal is to choose the optimal (minimal) size of the boards that allows all the holes to be covered by boards."
   ]
  },
  {
   "cell_type": "code",
   "execution_count": 7,
   "metadata": {},
   "outputs": [],
   "source": [
    "# O(log n)\n",
    "def boards(A, k):\n",
    "    n = len(A)\n",
    "    beg = 1\n",
    "    end = n\n",
    "    result = -1\n",
    "    while (beg <= end):\n",
    "        mid = int((beg+end)/2)\n",
    "        if check(A,mid) <= k:\n",
    "            end = mid -1\n",
    "            result = mid\n",
    "        else:\n",
    "            beg = mid + 1\n",
    "    return result"
   ]
  },
  {
   "cell_type": "code",
   "execution_count": 8,
   "metadata": {},
   "outputs": [],
   "source": [
    "def check(A, k):\n",
    "    n = len(A)\n",
    "    boards = 0\n",
    "    last = -1\n",
    "    for i in range(n):\n",
    "        if A[i] == 1 and last < i:\n",
    "            boards += 1\n",
    "            last = i + k -1\n",
    "    return boards"
   ]
  },
  {
   "cell_type": "markdown",
   "metadata": {},
   "source": [
    "## MinMaxDivision\n",
    "\n",
    "You are given integers K, M and a non-empty array A consisting of N integers. Every element of the array is not greater than M.\n",
    "\n",
    "You should divide this array into K blocks of consecutive elements. The size of the block is any integer between 0 and N. Every element of the array should belong to some block.\n",
    "\n",
    "The sum of the block from X to Y equals A[X] + A[X + 1] + ... + A[Y]. The sum of empty block equals 0.\n",
    "\n",
    "The large sum is the maximal sum of any block.\n",
    "\n",
    "For example, you are given integers K = 3, M = 5 and array A such that:\n",
    "\n",
    "    A[0] = 2\n",
    "    A[1] = 1\n",
    "    A[2] = 5\n",
    "    A[3] = 1\n",
    "    A[4] = 2\n",
    "    A[5] = 2\n",
    "    A[6] = 2\n",
    "\n",
    "The array can be divided, for example, into the following blocks:\n",
    "\n",
    "* [2, 1, 5, 1, 2, 2, 2], [], [] with a large sum of 15;\n",
    "* [2], [1, 5, 1, 2], [2, 2] with a large sum of 9;\n",
    "* [2, 1, 5], [], [1, 2, 2, 2] with a large sum of 8;\n",
    "* [2, 1], [5, 1], [2, 2, 2] with a large sum of 6.\n",
    "\n",
    "The goal is to minimize the large sum. In the above example, 6 is the minimal large sum.\n",
    "\n",
    "Write a function:\n",
    "\n",
    "    def solution(K, M, A)\n",
    "\n",
    "that, given integers K, M and a non-empty array A consisting of N integers, returns the minimal large sum.\n",
    "\n",
    "For example, given K = 3, M = 5 and array A such that:\n",
    "\n",
    "    A[0] = 2\n",
    "    A[1] = 1\n",
    "    A[2] = 5\n",
    "    A[3] = 1\n",
    "    A[4] = 2\n",
    "    A[5] = 2\n",
    "    A[6] = 2\n",
    "\n",
    "the function should return 6, as explained above.\n",
    "\n",
    "Write an efficient algorithm for the following assumptions:\n",
    "\n",
    "* N and K are integers within the range [1..100,000];\n",
    "* M is an integer within the range [0..10,000];\n",
    "* each element of array A is an integer within the range [0..M].\n",
    "\n",
    "https://app.codility.com/programmers/lessons/14-binary_search_algorithm/min_max_division/start/"
   ]
  },
  {
   "cell_type": "code",
   "execution_count": 2,
   "metadata": {},
   "outputs": [],
   "source": [
    "A = [2,1,5,1,2,2,2]"
   ]
  },
  {
   "cell_type": "code",
   "execution_count": 13,
   "metadata": {},
   "outputs": [],
   "source": [
    "def BlockValid(A, max_block_sum, max_block_cnt):\n",
    "    b_sum = 0\n",
    "    b_cnt = 1\n",
    "    for a in A:\n",
    "        if b_sum + a > max_block_sum:\n",
    "            b_sum = a\n",
    "            b_cnt += 1\n",
    "        else:\n",
    "            b_sum += a\n",
    "        if b_cnt > max_block_cnt:\n",
    "            return False\n",
    "#     if b_sum > max_block_sum:\n",
    "#         return False\n",
    "    return True"
   ]
  },
  {
   "cell_type": "code",
   "execution_count": 15,
   "metadata": {},
   "outputs": [
    {
     "data": {
      "text/plain": [
       "False"
      ]
     },
     "execution_count": 15,
     "metadata": {},
     "output_type": "execute_result"
    }
   ],
   "source": [
    "BlockValid(A, 5, 3)"
   ]
  },
  {
   "cell_type": "code",
   "execution_count": 16,
   "metadata": {},
   "outputs": [],
   "source": [
    "def solution(K, M, A):\n",
    "    M = sum(A)\n",
    "    m = max(A)\n",
    "    \n",
    "    if K == 1: return M\n",
    "    if K == len(A): return m\n",
    "    \n",
    "    while m <= M:\n",
    "        mid = (M+m) // 2\n",
    "        if BlockValid(A, mid, K):\n",
    "            M = mid - 1\n",
    "            result = mid\n",
    "        else:\n",
    "            m = mid + 1\n",
    "    return result"
   ]
  },
  {
   "cell_type": "code",
   "execution_count": 17,
   "metadata": {},
   "outputs": [
    {
     "data": {
      "text/plain": [
       "6"
      ]
     },
     "execution_count": 17,
     "metadata": {},
     "output_type": "execute_result"
    }
   ],
   "source": [
    "solution(3, 5, A)"
   ]
  },
  {
   "cell_type": "markdown",
   "metadata": {},
   "source": [
    "https://app.codility.com/demo/results/trainingGGUMNB-VE4/\n",
    "\n",
    "100점"
   ]
  },
  {
   "cell_type": "markdown",
   "metadata": {},
   "source": [
    "## NailingPlanks\n",
    "\n",
    "You are given two non-empty arrays A and B consisting of N integers. These arrays represent N planks. More precisely, A[K] is the start and B[K] the end of the K−th plank.\n",
    "\n",
    "Next, you are given a non-empty array C consisting of M integers. This array represents M nails. More precisely, C[I] is the position where you can hammer in the I−th nail.\n",
    "\n",
    "We say that a plank (A[K], B[K]) is nailed if there exists a nail C[I] such that A[K] ≤ C[I] ≤ B[K].\n",
    "\n",
    "The goal is to find the minimum number of nails that must be used until all the planks are nailed. In other words, you should find a value J such that all planks will be nailed after using only the first J nails. More precisely, for every plank (A[K], B[K]) such that 0 ≤ K < N, there should exist a nail C[I] such that I < J and A[K] ≤ C[I] ≤ B[K].\n",
    "\n",
    "For example, given arrays A, B such that:\n",
    "\n",
    "    A[0] = 1    B[0] = 4\n",
    "    A[1] = 4    B[1] = 5\n",
    "    A[2] = 5    B[2] = 9\n",
    "    A[3] = 8    B[3] = 10\n",
    "    \n",
    "four planks are represented: [1, 4], [4, 5], [5, 9] and [8, 10].\n",
    "\n",
    "Given array C such that:\n",
    "\n",
    "    C[0] = 4\n",
    "    C[1] = 6\n",
    "    C[2] = 7\n",
    "    C[3] = 10\n",
    "    C[4] = 2\n",
    "    \n",
    "if we use the following nails:\n",
    "\n",
    "* 0, then planks [1, 4] and [4, 5] will both be nailed.\n",
    "* 0, 1, then planks [1, 4], [4, 5] and [5, 9] will be nailed.\n",
    "* 0, 1, 2, then planks [1, 4], [4, 5] and [5, 9] will be nailed.\n",
    "* 0, 1, 2, 3, then all the planks will be nailed.\n",
    "\n",
    "Thus, four is the minimum number of nails that, used sequentially, allow all the planks to be nailed.\n",
    "\n",
    "Write a function:\n",
    "\n",
    "    def solution(A, B, C)\n",
    "\n",
    "that, given two non-empty arrays A and B consisting of N integers and a non-empty array C consisting of M integers, returns the minimum number of nails that, used sequentially, allow all the planks to be nailed.\n",
    "\n",
    "If it is not possible to nail all the planks, the function should return −1.\n",
    "\n",
    "For example, given arrays A, B, C such that:\n",
    "\n",
    "    A[0] = 1    B[0] = 4\n",
    "    A[1] = 4    B[1] = 5\n",
    "    A[2] = 5    B[2] = 9\n",
    "    A[3] = 8    B[3] = 10\n",
    "\n",
    "    C[0] = 4\n",
    "    C[1] = 6\n",
    "    C[2] = 7\n",
    "    C[3] = 10\n",
    "    C[4] = 2\n",
    "    \n",
    "the function should return 4, as explained above.\n",
    "\n",
    "Write an efficient algorithm for the following assumptions:\n",
    "\n",
    "* N and M are integers within the range [1..30,000];\n",
    "* each element of arrays A, B, C is an integer within the range [1..2*M];\n",
    "* A[K] ≤ B[K].\n",
    "\n",
    "https://app.codility.com/programmers/lessons/14-binary_search_algorithm/nailing_planks/start/"
   ]
  },
  {
   "cell_type": "code",
   "execution_count": 29,
   "metadata": {},
   "outputs": [],
   "source": [
    "A = [1,4,5,8]\n",
    "B = [4,5,9,10]\n",
    "C = [4,6,7,10,2]"
   ]
  },
  {
   "cell_type": "code",
   "execution_count": 50,
   "metadata": {},
   "outputs": [],
   "source": [
    "def solution(A,B,C):\n",
    "    n = len(A)\n",
    "    ans = 0\n",
    "    cand = [False] * n\n",
    "    for i, c in enumerate(C):\n",
    "        for j in range(n):\n",
    "            if cand[j] == False and c in range(A[j],B[j]+1):\n",
    "                ans += 1\n",
    "                cand[j] = True\n",
    "\n",
    "        if ans == n:\n",
    "            return i+1\n",
    "#        print(ans)\n",
    "    return -1"
   ]
  },
  {
   "cell_type": "code",
   "execution_count": 51,
   "metadata": {},
   "outputs": [
    {
     "data": {
      "text/plain": [
       "4"
      ]
     },
     "execution_count": 51,
     "metadata": {},
     "output_type": "execute_result"
    }
   ],
   "source": [
    "solution(A,B,C)"
   ]
  },
  {
   "cell_type": "code",
   "execution_count": 52,
   "metadata": {},
   "outputs": [
    {
     "data": {
      "text/plain": [
       "1"
      ]
     },
     "execution_count": 52,
     "metadata": {},
     "output_type": "execute_result"
    }
   ],
   "source": [
    "solution([1], [2], [2])"
   ]
  },
  {
   "cell_type": "markdown",
   "metadata": {},
   "source": [
    "https://app.codility.com/demo/results/trainingESRSXY-NWG/\n",
    "\n",
    "50점"
   ]
  },
  {
   "cell_type": "markdown",
   "metadata": {},
   "source": [
    "binary search 써보자"
   ]
  },
  {
   "cell_type": "code",
   "execution_count": 70,
   "metadata": {},
   "outputs": [],
   "source": [
    "def check(A,B,C,k):\n",
    "    res = [False] * len(A)\n",
    "    for i, c in enumerate(C):\n",
    "        if i <= k-1:\n",
    "            for j in range(len(A)):\n",
    "                if res[j] == False and c in range(A[j],B[j]+1):\n",
    "                    res[j] = True\n",
    "    return all(r for r in res)"
   ]
  },
  {
   "cell_type": "code",
   "execution_count": 71,
   "metadata": {},
   "outputs": [
    {
     "data": {
      "text/plain": [
       "True"
      ]
     },
     "execution_count": 71,
     "metadata": {},
     "output_type": "execute_result"
    }
   ],
   "source": [
    "check(A,B,C,4)"
   ]
  },
  {
   "cell_type": "code",
   "execution_count": 73,
   "metadata": {},
   "outputs": [],
   "source": [
    "def solution(A,B,C):\n",
    "    M = len(C)\n",
    "    m = 0\n",
    "    result = -1\n",
    "    \n",
    "    while m <= M:\n",
    "        k = (m+M) // 2\n",
    "        if check(A,B,C,k):\n",
    "            M = k - 1\n",
    "            result = k\n",
    "        else:\n",
    "            m = k + 1\n",
    "    return result"
   ]
  },
  {
   "cell_type": "code",
   "execution_count": 74,
   "metadata": {},
   "outputs": [
    {
     "data": {
      "text/plain": [
       "4"
      ]
     },
     "execution_count": 74,
     "metadata": {},
     "output_type": "execute_result"
    }
   ],
   "source": [
    "solution(A,B,C)"
   ]
  },
  {
   "cell_type": "markdown",
   "metadata": {},
   "source": [
    "https://app.codility.com/demo/results/training3JZVCK-32P/\n",
    "\n",
    "50점"
   ]
  }
 ],
 "metadata": {
  "kernelspec": {
   "display_name": "Python 3",
   "language": "python",
   "name": "python3"
  },
  "language_info": {
   "codemirror_mode": {
    "name": "ipython",
    "version": 3
   },
   "file_extension": ".py",
   "mimetype": "text/x-python",
   "name": "python",
   "nbconvert_exporter": "python",
   "pygments_lexer": "ipython3",
   "version": "3.7.3"
  }
 },
 "nbformat": 4,
 "nbformat_minor": 4
}
