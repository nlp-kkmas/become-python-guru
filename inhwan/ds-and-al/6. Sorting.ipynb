{
 "cells": [
  {
   "cell_type": "markdown",
   "metadata": {},
   "source": [
    "# Distinct\n",
    "\n",
    "Write a function\n",
    "\n",
    "    def solution(A)\n",
    "\n",
    "that, given an array A consisting of N integers, returns the number of distinct values in array A.\n",
    "\n",
    "For example, given array A consisting of six elements such that:\n",
    "\n",
    "    A[0] = 2    A[1] = 1    A[2] = 1\n",
    "    A[3] = 2    A[4] = 3    A[5] = 1\n",
    "the function should return 3, because there are 3 distinct values appearing in array A, namely 1, 2 and 3.\n",
    "\n",
    "Write an efficient algorithm for the following assumptions:\n",
    "\n",
    "* N is an integer within the range [0..100,000];\n",
    "* each element of array A is an integer within the range [−1,000,000..1,000,000]."
   ]
  },
  {
   "cell_type": "code",
   "execution_count": 1,
   "metadata": {},
   "outputs": [],
   "source": [
    "def solution(A):\n",
    "    return len(set(A))"
   ]
  },
  {
   "cell_type": "markdown",
   "metadata": {},
   "source": [
    "https://app.codility.com/demo/results/trainingDT8C7C-YA4/\n",
    "\n",
    "100점"
   ]
  },
  {
   "cell_type": "markdown",
   "metadata": {},
   "source": [
    "# MaxProductOfThree\n",
    "\n",
    "A non-empty array A consisting of N integers is given. The product of triplet (P, Q, R) equates to A[P] * A[Q] * A[R] (0 ≤ P < Q < R < N).\n",
    "\n",
    "For example, array A such that:\n",
    "\n",
    "    A[0] = -3\n",
    "    A[1] = 1\n",
    "    A[2] = 2\n",
    "    A[3] = -2\n",
    "    A[4] = 5\n",
    "    A[5] = 6\n",
    "contains the following example triplets:\n",
    "\n",
    "* (0, 1, 2), product is −3 * 1 * 2 = −6\n",
    "* (1, 2, 4), product is 1 * 2 * 5 = 10\n",
    "* (2, 4, 5), product is 2 * 5 * 6 = 60\n",
    "Your goal is to find the maximal product of any triplet.\n",
    "\n",
    "Write a function:\n",
    "\n",
    "    def solution(A)\n",
    "\n",
    "that, given a non-empty array A, returns the value of the maximal product of any triplet.\n",
    "\n",
    "For example, given array A such that:\n",
    "\n",
    "    A[0] = -3\n",
    "    A[1] = 1\n",
    "    A[2] = 2\n",
    "    A[3] = -2\n",
    "    A[4] = 5\n",
    "    A[5] = 6\n",
    "the function should return 60, as the product of triplet (2, 4, 5) is maximal.\n",
    "\n",
    "Write an efficient algorithm for the following assumptions:\n",
    "\n",
    "* N is an integer within the range [3..100,000];\n",
    "* each element of array A is an integer within the range [−1,000..1,000]."
   ]
  },
  {
   "cell_type": "code",
   "execution_count": 1,
   "metadata": {},
   "outputs": [],
   "source": [
    "A = [-3,1,2,-2,5,6]"
   ]
  },
  {
   "cell_type": "code",
   "execution_count": 3,
   "metadata": {},
   "outputs": [],
   "source": [
    "def solution(A):\n",
    "    res = sorted(set(A))\n",
    "    return max(A[-1]*A[-2]*A[-3],A[-1]*A[0]*A[1])"
   ]
  },
  {
   "cell_type": "markdown",
   "metadata": {},
   "source": [
    "https://app.codility.com/demo/results/trainingPMMTQA-BEX/\n",
    "\n",
    "100점!"
   ]
  },
  {
   "cell_type": "markdown",
   "metadata": {},
   "source": [
    "# NumberOfDiscIntersections\n",
    "\n",
    "We draw N discs on a plane. The discs are numbered from 0 to N − 1. An array A of N non-negative integers, specifying the radiuses of the discs, is given. The J-th disc is drawn with its center at (J, 0) and radius A[J].\n",
    "\n",
    "We say that the J-th disc and K-th disc intersect if J ≠ K and the J-th and K-th discs have at least one common point (assuming that the discs contain their borders).\n",
    "\n",
    "The figure below shows discs drawn for N = 6 and A as follows:\n",
    "\n",
    "    A[0] = 1\n",
    "    A[1] = 5\n",
    "    A[2] = 2\n",
    "    A[3] = 1\n",
    "    A[4] = 4\n",
    "    A[5] = 0\n",
    "\n",
    "<img src = 'https://codility-frontend-prod.s3.amazonaws.com/media/task_static/number_of_disc_intersections/static/images/auto/0eed8918b13a735f4e396c9a87182a38.png'>\n",
    "\n",
    "There are eleven (unordered) pairs of discs that intersect, namely:\n",
    "\n",
    "* discs 1 and 4 intersect, and both intersect with all the other discs;\n",
    "* disc 2 also intersects with discs 0 and 3.\n",
    "\n",
    "Write a function:\n",
    "\n",
    "    def solution(A)\n",
    "\n",
    "that, given an array A describing N discs as explained above, returns the number of (unordered) pairs of intersecting discs. The function should return −1 if the number of intersecting pairs exceeds 10,000,000.\n",
    "\n",
    "Given array A shown above, the function should return 11, as explained above.\n",
    "\n",
    "Write an efficient algorithm for the following assumptions:\n",
    "\n",
    "* N is an integer within the range [0..100,000];\n",
    "* each element of array A is an integer within the range [0..2,147,483,647]."
   ]
  },
  {
   "cell_type": "code",
   "execution_count": 2,
   "metadata": {},
   "outputs": [],
   "source": [
    "A = [1,5,2,1,4,0]"
   ]
  },
  {
   "cell_type": "code",
   "execution_count": 6,
   "metadata": {},
   "outputs": [],
   "source": [
    "def solution(A):\n",
    "    ans = 0\n",
    "    if len(A) == 0: return ans\n",
    "    for i in range(len(A)-1):\n",
    "        for j in range(i+1, len(A)):\n",
    "            if i+A[i]>=j-A[j] : ans+=1\n",
    "\n",
    "    return ans"
   ]
  },
  {
   "cell_type": "code",
   "execution_count": 7,
   "metadata": {},
   "outputs": [
    {
     "data": {
      "text/plain": [
       "11"
      ]
     },
     "execution_count": 7,
     "metadata": {},
     "output_type": "execute_result"
    }
   ],
   "source": [
    "solution(A)"
   ]
  },
  {
   "cell_type": "markdown",
   "metadata": {},
   "source": [
    "https://app.codility.com/demo/results/trainingJV8TPR-QMX/\n",
    "\n",
    "초딩풀이..\n",
    "56점 $O(N^2)$"
   ]
  },
  {
   "cell_type": "markdown",
   "metadata": {},
   "source": [
    "# Triangle\n",
    "\n",
    "An array A consisting of N integers is given. A triplet (P, Q, R) is triangular if 0 ≤ P < Q < R < N and:\n",
    "\n",
    "    A[P] + A[Q] > A[R],\n",
    "    A[Q] + A[R] > A[P],\n",
    "    A[R] + A[P] > A[Q].\n",
    "For example, consider array A such that:\n",
    "\n",
    "    A[0] = 10    A[1] = 2    A[2] = 5\n",
    "    A[3] = 1     A[4] = 8    A[5] = 20\n",
    "Triplet (0, 2, 4) is triangular.\n",
    "\n",
    "Write a function:\n",
    "\n",
    "    def solution(A)\n",
    "\n",
    "that, given an array A consisting of N integers, returns 1 if there exists a triangular triplet for this array and returns 0 otherwise.\n",
    "\n",
    "For example, given array A such that:\n",
    "\n",
    "    A[0] = 10    A[1] = 2    A[2] = 5\n",
    "    A[3] = 1     A[4] = 8    A[5] = 20\n",
    "the function should return 1, as explained above. Given array A such that:\n",
    "\n",
    "    A[0] = 10    A[1] = 50    A[2] = 5\n",
    "    A[3] = 1\n",
    "the function should return 0.\n",
    "\n",
    "Write an efficient algorithm for the following assumptions:\n",
    "\n",
    "* N is an integer within the range [0..100,000];\n",
    "* each element of array A is an integer within the range [−2,147,483,648..2,147,483,647]."
   ]
  },
  {
   "cell_type": "code",
   "execution_count": 9,
   "metadata": {},
   "outputs": [],
   "source": [
    "def determine(A,P,Q,R):\n",
    "    if A[P] + A[Q] > A[R] and A[Q] + A[R] > A[P] and A[R] + A[P] > A[Q]: \n",
    "        return 1\n",
    "    return 0"
   ]
  },
  {
   "cell_type": "code",
   "execution_count": 10,
   "metadata": {},
   "outputs": [],
   "source": [
    "A = [10,2,5,1,8,20]"
   ]
  },
  {
   "cell_type": "code",
   "execution_count": 12,
   "metadata": {},
   "outputs": [
    {
     "data": {
      "text/plain": [
       "0"
      ]
     },
     "execution_count": 12,
     "metadata": {},
     "output_type": "execute_result"
    }
   ],
   "source": [
    "determine(0,2,3)"
   ]
  },
  {
   "cell_type": "code",
   "execution_count": 13,
   "metadata": {},
   "outputs": [],
   "source": [
    "def solution(A):\n",
    "    n = len(A)\n",
    "    res = 0\n",
    "    for i in range(len(A)-2):\n",
    "        for j in range(i+1,len(A)-1):\n",
    "            for k in range(j+1, len(A)):\n",
    "                res = max(A,determine(i,j,k),res)\n",
    "    return res"
   ]
  },
  {
   "cell_type": "code",
   "execution_count": 14,
   "metadata": {},
   "outputs": [
    {
     "data": {
      "text/plain": [
       "1"
      ]
     },
     "execution_count": 14,
     "metadata": {},
     "output_type": "execute_result"
    }
   ],
   "source": [
    "solution(A)"
   ]
  },
  {
   "cell_type": "markdown",
   "metadata": {},
   "source": [
    "https://app.codility.com/demo/results/training2C48JJ-ESG/\n",
    "\n",
    "62점...$O(N^3)$"
   ]
  },
  {
   "cell_type": "code",
   "execution_count": 3,
   "metadata": {},
   "outputs": [],
   "source": [
    "A = [10,2,5,1,8,20]"
   ]
  },
  {
   "cell_type": "code",
   "execution_count": 6,
   "metadata": {},
   "outputs": [
    {
     "data": {
      "text/plain": [
       "[1, 2, 5, 8, 10, 20]"
      ]
     },
     "execution_count": 6,
     "metadata": {},
     "output_type": "execute_result"
    }
   ],
   "source": [
    "sorted(A)"
   ]
  },
  {
   "cell_type": "code",
   "execution_count": null,
   "metadata": {},
   "outputs": [],
   "source": [
    "def solution(A):\n",
    "    n = len(A)\n",
    "    sorted_A = sorted(A, reverse=True)\n",
    "    for i in range(len(A)-2):\n",
    "        if sorted_A[i+1]+sorted_A[i+2]>sorted_A[i]: return 1\n",
    "    return 0"
   ]
  },
  {
   "cell_type": "code",
   "execution_count": null,
   "metadata": {},
   "outputs": [],
   "source": [
    "solution(A)"
   ]
  },
  {
   "cell_type": "markdown",
   "metadata": {},
   "source": [
    "https://app.codility.com/demo/results/trainingV7YSPG-SC8/\n",
    "\n",
    "100점! $O(N \\log N)$"
   ]
  },
  {
   "cell_type": "code",
   "execution_count": null,
   "metadata": {},
   "outputs": [],
   "source": []
  }
 ],
 "metadata": {
  "kernelspec": {
   "display_name": "Python 3",
   "language": "python",
   "name": "python3"
  },
  "language_info": {
   "codemirror_mode": {
    "name": "ipython",
    "version": 3
   },
   "file_extension": ".py",
   "mimetype": "text/x-python",
   "name": "python",
   "nbconvert_exporter": "python",
   "pygments_lexer": "ipython3",
   "version": "3.7.3"
  }
 },
 "nbformat": 4,
 "nbformat_minor": 4
}
