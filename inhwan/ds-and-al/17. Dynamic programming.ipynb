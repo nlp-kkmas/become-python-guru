{
 "cells": [
  {
   "cell_type": "markdown",
   "metadata": {},
   "source": [
    "# Chapter 17. Dynamic programming\n",
    "\n",
    "Dynamic programming is a method by which a solution is determined based on solving\n",
    "successively similar but smaller problems. This technique is used in algorithmic tasks in which the solution of a bigger problem is relatively easy to find, if we have solutions for its sub-problems"
   ]
  },
  {
   "cell_type": "markdown",
   "metadata": {},
   "source": [
    "## 17.1. The Coin Changing problem\n",
    "\n",
    "Consider n denominations, $0 < c_0 \\le c_1 \\le \\ldots \\le c_{n−1}$. The algorithm processes the denominations and calculates the minimum number of coins needed to pay every amount from 0 to k. When considering each successive denomination, we use the previously calculated results for the smaller amounts."
   ]
  },
  {
   "cell_type": "code",
   "execution_count": 1,
   "metadata": {},
   "outputs": [],
   "source": [
    "def dynamic_coin_chaning(C, k):\n",
    "    n = len(C)\n",
    "    dp = [0] + [MAX_INT] * k\n",
    "    for i in range(1, n+1):\n",
    "        for j in range(C[i-1], k+1):\n",
    "            dp[j] = min(dp[j-C[i-1]]+1, dp[j])\n",
    "    return dp"
   ]
  },
  {
   "cell_type": "markdown",
   "metadata": {},
   "source": [
    "## 17.2. Exercise\n",
    "\n",
    "A small frog wants to get from position 0 to k ($1 \\le k \\le 10 000$). The frog can\n",
    "jump over any one of n fixed distances $s_0, s_1, \\ldots , s_{n−1}$ ($1 \\le s_i \\le k$). The goal is to count the number of different ways in which the frog can jump to position k. To avoid overflow, it is sufficient to return the result modulo q, where q is a given number"
   ]
  },
  {
   "cell_type": "code",
   "execution_count": 2,
   "metadata": {},
   "outputs": [],
   "source": [
    "def frog(S, k, q):\n",
    "    n = len(S)\n",
    "    dp = [1] + [0] * k\n",
    "    for j in range(1, k+1):\n",
    "        for i in range(n):\n",
    "            if S[i] <= j:\n",
    "                dp[j] = (dp[j] + dp[j-S[i]]) % q\n",
    "    return dp[k]"
   ]
  },
  {
   "cell_type": "markdown",
   "metadata": {},
   "source": [
    "## MinAbsSum\n",
    "\n",
    "For a given array A of N integers and a sequence S of N integers from the set {−1, 1}, we define val(A, S) as follows:\n",
    "\n",
    "    val(A, S) = |sum{ A[i]*S[i] for i = 0..N−1 }|\n",
    "\n",
    "(Assume that the sum of zero elements equals zero.)\n",
    "\n",
    "For a given array A, we are looking for such a sequence S that minimizes val(A,S).\n",
    "\n",
    "Write a function:\n",
    "\n",
    "    def solution(A)\n",
    "\n",
    "that, given an array A of N integers, computes the minimum value of val(A,S) from all possible values of val(A,S) for all possible sequences S of N integers from the set {−1, 1}.\n",
    "\n",
    "For example, given array:\n",
    "\n",
    "    A[0] =  1\n",
    "    A[1] =  5\n",
    "    A[2] =  2\n",
    "    A[3] = -2\n",
    "\n",
    "your function should return 0, since for S = [−1, 1, −1, 1], val(A, S) = 0, which is the minimum possible value.\n",
    "\n",
    "Write an efficient algorithm for the following assumptions:\n",
    "\n",
    "* N is an integer within the range [0..20,000];\n",
    "* each element of array A is an integer within the range [−100..100].\n",
    "\n",
    "https://app.codility.com/programmers/lessons/17-dynamic_programming/min_abs_sum/start/"
   ]
  },
  {
   "cell_type": "markdown",
   "metadata": {},
   "source": [
    "일단 전수조사로 간다."
   ]
  },
  {
   "cell_type": "code",
   "execution_count": 25,
   "metadata": {},
   "outputs": [],
   "source": [
    "A = [1,5,2,-2]"
   ]
  },
  {
   "cell_type": "code",
   "execution_count": 32,
   "metadata": {},
   "outputs": [],
   "source": [
    "from itertools import product\n",
    "\n",
    "def solution(A):\n",
    "    n = len(A)\n",
    "    set_S = product(*[[-1,1] for _ in range(n)])\n",
    "    m = float('infinity')\n",
    "    for S in set_S:\n",
    "        s = abs(sum(A[i]*S[i] for i in range(n)))\n",
    "        if s == 0:\n",
    "            return 0\n",
    "        m = min(m, s)\n",
    "        \n",
    "    return m"
   ]
  },
  {
   "cell_type": "code",
   "execution_count": 34,
   "metadata": {},
   "outputs": [
    {
     "data": {
      "text/plain": [
       "0"
      ]
     },
     "execution_count": 34,
     "metadata": {},
     "output_type": "execute_result"
    }
   ],
   "source": [
    "solution(A)"
   ]
  },
  {
   "cell_type": "markdown",
   "metadata": {},
   "source": [
    "https://app.codility.com/demo/results/trainingJ9NH39-CT9/\n",
    "\n",
    "63점 $O(N^2 \\cdot max(abs(A)))$"
   ]
  },
  {
   "cell_type": "code",
   "execution_count": null,
   "metadata": {},
   "outputs": [],
   "source": []
  },
  {
   "cell_type": "code",
   "execution_count": null,
   "metadata": {},
   "outputs": [],
   "source": []
  },
  {
   "cell_type": "code",
   "execution_count": null,
   "metadata": {},
   "outputs": [],
   "source": []
  },
  {
   "cell_type": "markdown",
   "metadata": {},
   "source": [
    "## NumberSolitaire\n",
    "\n",
    "A game for one player is played on a board consisting of N consecutive squares, numbered from 0 to N − 1. There is a number written on each square. A non-empty array A of N integers contains the numbers written on the squares. Moreover, some squares can be marked during the game.\n",
    "\n",
    "At the beginning of the game, there is a pebble on square number 0 and this is the only square on the board which is marked. The goal of the game is to move the pebble to square number N − 1.\n",
    "\n",
    "During each turn we throw a six-sided die, with numbers from 1 to 6 on its faces, and consider the number K, which shows on the upper face after the die comes to rest. Then we move the pebble standing on square number I to square number I + K, providing that square number I + K exists. If square number I + K does not exist, we throw the die again until we obtain a valid move. Finally, we mark square number I + K.\n",
    "\n",
    "After the game finishes (when the pebble is standing on square number N − 1), we calculate the result. The result of the game is the sum of the numbers written on all marked squares.\n",
    "\n",
    "For example, given the following array:\n",
    "\n",
    "    A[0] = 1\n",
    "    A[1] = -2\n",
    "    A[2] = 0\n",
    "    A[3] = 9\n",
    "    A[4] = -1\n",
    "    A[5] = -2\n",
    "    \n",
    "one possible game could be as follows:\n",
    "\n",
    "* the pebble is on square number 0, which is marked;\n",
    "* we throw 3; the pebble moves from square number 0 to square number 3; we mark square number 3;\n",
    "* we throw 5; the pebble does not move, since there is no square number 8 on the board;\n",
    "* we throw 2; the pebble moves to square number 5; we mark this square and the game ends.\n",
    "\n",
    "The marked squares are 0, 3 and 5, so the result of the game is 1 + 9 + (−2) = 8. This is the maximal possible result that can be achieved on this board.\n",
    "\n",
    "Write a function:\n",
    "\n",
    "    def solution(A)\n",
    "\n",
    "that, given a non-empty array A of N integers, returns the maximal result that can be achieved on the board represented by array A.\n",
    "\n",
    "For example, given the array\n",
    "\n",
    "    A[0] = 1\n",
    "    A[1] = -2\n",
    "    A[2] = 0\n",
    "    A[3] = 9\n",
    "    A[4] = -1\n",
    "    A[5] = -2\n",
    "\n",
    "the function should return 8, as explained above.\n",
    "\n",
    "Write an efficient algorithm for the following assumptions:\n",
    "\n",
    "* N is an integer within the range [2..100,000];\n",
    "* each element of array A is an integer within the range [−10,000..10,000].\n",
    "\n",
    "https://app.codility.com/programmers/lessons/17-dynamic_programming/number_solitaire/start/"
   ]
  },
  {
   "cell_type": "code",
   "execution_count": 3,
   "metadata": {},
   "outputs": [],
   "source": [
    "A = [1, -2, 0, 9, -1, -2]"
   ]
  },
  {
   "cell_type": "code",
   "execution_count": 21,
   "metadata": {},
   "outputs": [],
   "source": [
    "def solution(A):\n",
    "    n = len(A)\n",
    "    sm = [0] * n\n",
    "    sm[0] = A[0]\n",
    "    sm[1] = A[0] + A[1]\n",
    "    \n",
    "    # 먼저 처음 6칸 계산은 직접 계산\n",
    "    k = min(7,n)\n",
    "    for i in range(2, k):\n",
    "        sm[i] = A[0]+A[i]+sum([a for a in A[1:i] if a > 0])\n",
    "    # 길이가 7 이하면 바로 값 리턴\n",
    "    if k == n:\n",
    "        return sm[-1]\n",
    "    else:\n",
    "        # 7 이상이면 직전 6개의 값 중 가장 큰 값에 현재 위치 값 더해서 리턴\n",
    "        for i in range(k,n):\n",
    "            sm[i] = max(sm[i-6:i]) + A[i]\n",
    "    print(sm)\n",
    "    return sm[-1]"
   ]
  },
  {
   "cell_type": "code",
   "execution_count": 18,
   "metadata": {},
   "outputs": [
    {
     "data": {
      "text/plain": [
       "8"
      ]
     },
     "execution_count": 18,
     "metadata": {},
     "output_type": "execute_result"
    }
   ],
   "source": [
    "solution(A)"
   ]
  },
  {
   "cell_type": "code",
   "execution_count": 19,
   "metadata": {},
   "outputs": [],
   "source": [
    "B =  [0, -4, -5, -2, -7, -9, -3, -10]"
   ]
  },
  {
   "cell_type": "code",
   "execution_count": 20,
   "metadata": {},
   "outputs": [
    {
     "name": "stdout",
     "output_type": "stream",
     "text": [
      "[0, -4, -5, -2, -7, -9, -3, -12]\n"
     ]
    },
    {
     "data": {
      "text/plain": [
       "-12"
      ]
     },
     "execution_count": 20,
     "metadata": {},
     "output_type": "execute_result"
    }
   ],
   "source": [
    "solution(B)"
   ]
  },
  {
   "cell_type": "markdown",
   "metadata": {},
   "source": [
    "https://app.codility.com/demo/results/training89FGGC-QU7/\n",
    "\n",
    "100점"
   ]
  },
  {
   "cell_type": "code",
   "execution_count": null,
   "metadata": {},
   "outputs": [],
   "source": []
  }
 ],
 "metadata": {
  "kernelspec": {
   "display_name": "Python 3",
   "language": "python",
   "name": "python3"
  },
  "language_info": {
   "codemirror_mode": {
    "name": "ipython",
    "version": 3
   },
   "file_extension": ".py",
   "mimetype": "text/x-python",
   "name": "python",
   "nbconvert_exporter": "python",
   "pygments_lexer": "ipython3",
   "version": "3.7.3"
  }
 },
 "nbformat": 4,
 "nbformat_minor": 4
}
