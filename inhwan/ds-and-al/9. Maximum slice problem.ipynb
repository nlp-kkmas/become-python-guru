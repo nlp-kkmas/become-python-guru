{
 "cells": [
  {
   "cell_type": "markdown",
   "metadata": {},
   "source": [
    "# Chapter 9. Maximum slice problem\n",
    "\n",
    "You are given a seq. $a_0, \\ldots, a_{n-1}$ of n integers and the task is to find the slice with the largest sum. More precisely, we are looking for p, q s.t. $a_p + \\cdots + a_q$ is maximal. We are assume that the slice can be empty, and in this case the sum is 0."
   ]
  },
  {
   "cell_type": "markdown",
   "metadata": {},
   "source": [
    "## 9.1. Solution with $O(n^3)$ time complexity"
   ]
  },
  {
   "cell_type": "code",
   "execution_count": 1,
   "metadata": {},
   "outputs": [],
   "source": [
    "def slow_max_slice(A):\n",
    "    n = len(A)\n",
    "    result = 0\n",
    "    for p in range(n):\n",
    "        for q in range(p,n):\n",
    "            sm = 0\n",
    "            for i in range(p, q+1):\n",
    "                sm += A[i]\n",
    "            result = max(result, sm)\n",
    "    return result"
   ]
  },
  {
   "cell_type": "code",
   "execution_count": 2,
   "metadata": {},
   "outputs": [
    {
     "data": {
      "text/plain": [
       "10"
      ]
     },
     "execution_count": 2,
     "metadata": {},
     "output_type": "execute_result"
    }
   ],
   "source": [
    "A = [5,-7,3,5,-2,4,-1]\n",
    "slow_max_slice(A)"
   ]
  },
  {
   "cell_type": "markdown",
   "metadata": {},
   "source": [
    "# 9.2. Solution with $O(n^2)$ time complexity"
   ]
  },
  {
   "cell_type": "code",
   "execution_count": 3,
   "metadata": {},
   "outputs": [],
   "source": [
    "sm = 0\n",
    "pref = []\n",
    "for i in A:\n",
    "    sm += i\n",
    "    pref.append(sm)"
   ]
  },
  {
   "cell_type": "code",
   "execution_count": 8,
   "metadata": {},
   "outputs": [
    {
     "data": {
      "text/plain": [
       "(7, 7)"
      ]
     },
     "execution_count": 8,
     "metadata": {},
     "output_type": "execute_result"
    }
   ],
   "source": [
    "len(A), len(pref)"
   ]
  },
  {
   "cell_type": "code",
   "execution_count": 12,
   "metadata": {},
   "outputs": [],
   "source": [
    "def quadratic_max_slice(A, pref):\n",
    "    n = len(A)\n",
    "    result = 0\n",
    "    for p in range(n):\n",
    "        for q in range(p+1, n):\n",
    "            sm = pref[q] - pref[p]\n",
    "            result = max(result, sm)\n",
    "    return result"
   ]
  },
  {
   "cell_type": "code",
   "execution_count": 13,
   "metadata": {},
   "outputs": [
    {
     "data": {
      "text/plain": [
       "10"
      ]
     },
     "execution_count": 13,
     "metadata": {},
     "output_type": "execute_result"
    }
   ],
   "source": [
    "quadratic_max_slice(A, pref)"
   ]
  },
  {
   "cell_type": "code",
   "execution_count": 14,
   "metadata": {},
   "outputs": [],
   "source": [
    "def quadratic_max_slice(A):\n",
    "    n = len(A)\n",
    "    result = 0\n",
    "    for p in range(n):\n",
    "        sm = 0\n",
    "        for q in range(p, n):\n",
    "            sm += A[q]\n",
    "            result = max(result, sm)\n",
    "    return result"
   ]
  },
  {
   "cell_type": "code",
   "execution_count": 15,
   "metadata": {},
   "outputs": [
    {
     "data": {
      "text/plain": [
       "10"
      ]
     },
     "execution_count": 15,
     "metadata": {},
     "output_type": "execute_result"
    }
   ],
   "source": [
    "quadratic_max_slice(A)"
   ]
  },
  {
   "cell_type": "markdown",
   "metadata": {},
   "source": [
    "## 9.3. Solution with $O(n)$ time complexity\n",
    "\n",
    "For each position, we compute the largest sum that ends in that position. If we assume that the maximum sum of a slice ending in position $i$ equals $\\text{max_ending}$, then the maximum slice ending in position $i+1$ equals $max(0,\\text{max_ending}+a_{i+1})$."
   ]
  },
  {
   "cell_type": "code",
   "execution_count": 112,
   "metadata": {},
   "outputs": [],
   "source": [
    "def golden_max_slice(A):\n",
    "    max_ending = max_slice = 0\n",
    "    for a in A:\n",
    "        max_ending = max(0, max_ending + a)\n",
    "        max_slice = max(max_slice, max_ending)\n",
    "#        print(a, max_ending, max_slice)\n",
    "    return max_slice"
   ]
  },
  {
   "cell_type": "code",
   "execution_count": 113,
   "metadata": {},
   "outputs": [
    {
     "data": {
      "text/plain": [
       "5"
      ]
     },
     "execution_count": 113,
     "metadata": {},
     "output_type": "execute_result"
    }
   ],
   "source": [
    "golden_max_slice(A)"
   ]
  },
  {
   "cell_type": "code",
   "execution_count": 128,
   "metadata": {},
   "outputs": [
    {
     "data": {
      "text/plain": [
       "1"
      ]
     },
     "execution_count": 128,
     "metadata": {},
     "output_type": "execute_result"
    }
   ],
   "source": [
    "golden_max_slice([-2,1])"
   ]
  },
  {
   "cell_type": "markdown",
   "metadata": {},
   "source": [
    "# MaxDoubleSliceSum\n",
    "\n",
    "A non-empty array A consisting of N integers is given.\n",
    "\n",
    "A triplet (X, Y, Z), such that 0 ≤ X < Y < Z < N, is called a double slice.\n",
    "\n",
    "The sum of double slice (X, Y, Z) is the total of A[X + 1] + A[X + 2] + ... + A[Y − 1] + A[Y + 1] + A[Y + 2] + ... + A[Z − 1].\n",
    "\n",
    "For example, array A such that:\n",
    "\n",
    "    A[0] = 3\n",
    "    A[1] = 2\n",
    "    A[2] = 6\n",
    "    A[3] = -1\n",
    "    A[4] = 4\n",
    "    A[5] = 5\n",
    "    A[6] = -1\n",
    "    A[7] = 2\n",
    "\n",
    "contains the following example double slices:\n",
    "\n",
    "* double slice (0, 3, 6), sum is 2 + 6 + 4 + 5 = 17,\n",
    "* double slice (0, 3, 7), sum is 2 + 6 + 4 + 5 − 1 = 16,\n",
    "* double slice (3, 4, 5), sum is 0.\n",
    "\n",
    "The goal is to find the maximal sum of any double slice.\n",
    "\n",
    "Write a function:\n",
    "\n",
    "    def solution(A)\n",
    "\n",
    "that, given a non-empty array A consisting of N integers, returns the maximal sum of any double slice.\n",
    "\n",
    "For example, given:\n",
    "\n",
    "    A[0] = 3\n",
    "    A[1] = 2\n",
    "    A[2] = 6\n",
    "    A[3] = -1\n",
    "    A[4] = 4\n",
    "    A[5] = 5\n",
    "    A[6] = -1\n",
    "    A[7] = 2\n",
    "    \n",
    "the function should return 17, because no double slice of array A has a sum of greater than 17.\n",
    "\n",
    "Write an efficient algorithm for the following assumptions:\n",
    "\n",
    "* N is an integer within the range [3..100,000];\n",
    "* each element of array A is an integer within the range [−10,000..10,000]."
   ]
  },
  {
   "cell_type": "code",
   "execution_count": 282,
   "metadata": {},
   "outputs": [
    {
     "data": {
      "text/plain": [
       "[3, 2, 6, -1, 4, 5, -1, 2]"
      ]
     },
     "execution_count": 282,
     "metadata": {},
     "output_type": "execute_result"
    }
   ],
   "source": [
    "A = [0]*8\n",
    "A[0] = 3\n",
    "A[1] = 2\n",
    "A[2] = 6\n",
    "A[3] = -1\n",
    "A[4] = 4\n",
    "A[5] = 5\n",
    "A[6] = -1\n",
    "A[7] = 2\n",
    "A"
   ]
  },
  {
   "cell_type": "code",
   "execution_count": 283,
   "metadata": {},
   "outputs": [
    {
     "data": {
      "text/plain": [
       "[3, 5, 11, 10, 14, 19, 18, 20]"
      ]
     },
     "execution_count": 283,
     "metadata": {},
     "output_type": "execute_result"
    }
   ],
   "source": [
    "sm = 0\n",
    "pref = []\n",
    "for i in A:\n",
    "    sm += i\n",
    "    pref.append(sm)\n",
    "pref"
   ]
  },
  {
   "cell_type": "code",
   "execution_count": 284,
   "metadata": {},
   "outputs": [],
   "source": [
    "def res(X,Y,Z):\n",
    "    return pref[Z-1] - pref[X] - A[Y]"
   ]
  },
  {
   "cell_type": "code",
   "execution_count": 285,
   "metadata": {},
   "outputs": [
    {
     "data": {
      "text/plain": [
       "(17, 16, 0)"
      ]
     },
     "execution_count": 285,
     "metadata": {},
     "output_type": "execute_result"
    }
   ],
   "source": [
    "res(0,3,6), res(0,3,7), res(3,4,5)"
   ]
  },
  {
   "cell_type": "code",
   "execution_count": 286,
   "metadata": {},
   "outputs": [],
   "source": [
    "def solution(A):\n",
    "    sm = 0\n",
    "    pref = []\n",
    "    for i in A:\n",
    "        sm += i\n",
    "        pref.append(sm)\n",
    "        \n",
    "    def res(X,Y,Z):\n",
    "        return pref[Z-1] - pref[X] - A[Y]\n",
    "    \n",
    "    mx = -float('inf')\n",
    "    for i in range(len(A)-2):\n",
    "        for j in range(i+2, len(A)):\n",
    "            for k in range(i+1,j):\n",
    "                mx = max(mx, res(i,k,j))\n",
    "                \n",
    "    return mx"
   ]
  },
  {
   "cell_type": "code",
   "execution_count": 287,
   "metadata": {},
   "outputs": [
    {
     "data": {
      "text/plain": [
       "17"
      ]
     },
     "execution_count": 287,
     "metadata": {},
     "output_type": "execute_result"
    }
   ],
   "source": [
    "solution(A)"
   ]
  },
  {
   "cell_type": "markdown",
   "metadata": {},
   "source": [
    "https://app.codility.com/demo/results/trainingBUZ7AX-6FW/\n",
    "\n",
    "53점 $O(N^3)$"
   ]
  },
  {
   "cell_type": "code",
   "execution_count": 250,
   "metadata": {},
   "outputs": [
    {
     "data": {
      "text/plain": [
       "[3, 2, 6, -1, 4, 5, -1, 2]"
      ]
     },
     "execution_count": 250,
     "metadata": {},
     "output_type": "execute_result"
    }
   ],
   "source": [
    "A"
   ]
  },
  {
   "cell_type": "code",
   "execution_count": 276,
   "metadata": {},
   "outputs": [],
   "source": [
    "A = [5,5,5]"
   ]
  },
  {
   "cell_type": "code",
   "execution_count": 277,
   "metadata": {},
   "outputs": [],
   "source": [
    "split = []\n",
    "l = []\n",
    "r = list(A[2:len(A)-1])\n",
    "for i in range(1,len(A)-3):\n",
    "    elt = A[i]\n",
    "    l.append(elt)\n",
    "    del r[0]\n",
    "    print(l,r, subseq_max(sorted(l)), subseq_max(r))"
   ]
  },
  {
   "cell_type": "code",
   "execution_count": 249,
   "metadata": {},
   "outputs": [
    {
     "data": {
      "text/plain": [
       "[([3, 2, 6, -1, 4, 5, -1], []),\n",
       " ([3, 2, 6, -1, 4, 5, -1], []),\n",
       " ([3, 2, 6, -1, 4, 5, -1], []),\n",
       " ([3, 2, 6, -1, 4, 5, -1], []),\n",
       " ([3, 2, 6, -1, 4, 5, -1], []),\n",
       " ([3, 2, 6, -1, 4, 5, -1], []),\n",
       " ([3, 2, 6, -1, 4, 5, -1], [])]"
      ]
     },
     "execution_count": 249,
     "metadata": {},
     "output_type": "execute_result"
    }
   ],
   "source": [
    "split"
   ]
  },
  {
   "cell_type": "code",
   "execution_count": 225,
   "metadata": {},
   "outputs": [],
   "source": [
    "def subseq_max(A):\n",
    "    max_ind = A[0]\n",
    "    mx = A[0]\n",
    "    if len(A)>1:\n",
    "        for a in A[1:]:\n",
    "            mx += a\n",
    "            max_ind = max(max_ind, mx)\n",
    "    return max_ind"
   ]
  },
  {
   "cell_type": "code",
   "execution_count": 245,
   "metadata": {},
   "outputs": [
    {
     "data": {
      "text/plain": [
       "3"
      ]
     },
     "execution_count": 245,
     "metadata": {},
     "output_type": "execute_result"
    }
   ],
   "source": [
    "subseq_max([3,-1,1])"
   ]
  },
  {
   "cell_type": "code",
   "execution_count": 351,
   "metadata": {},
   "outputs": [],
   "source": [
    "def solution(A):\n",
    "    \n",
    "    def subseq_max(A):\n",
    "        max_ind = 0\n",
    "        mx = 0\n",
    "        for a in A:\n",
    "            mx += a\n",
    "            max_ind = max(max_ind, mx)\n",
    "        return max_ind\n",
    "\n",
    "    split = []\n",
    "    l = []\n",
    "    r = list(A[1:len(A)])\n",
    "    mx = 0\n",
    "    for i in range(len(A)-2):\n",
    "        #print(l,r,A[i])\n",
    "        elt = A[i]\n",
    "        l.append(elt)\n",
    "        del r[0]\n",
    "        #print(l,r, subseq_max(sorted(l[1:])),subseq_max(r[:-1]))\n",
    "        mx = max(mx, subseq_max(sorted(l[1:]))+subseq_max(r[:-1]))\n",
    "    \n",
    "    return mx"
   ]
  },
  {
   "cell_type": "code",
   "execution_count": 352,
   "metadata": {},
   "outputs": [
    {
     "data": {
      "text/plain": [
       "(17, 0, 17)"
      ]
     },
     "execution_count": 352,
     "metadata": {},
     "output_type": "execute_result"
    }
   ],
   "source": [
    "solution(A), solution([5,5,5]), solution([5, 17, 0, 3])"
   ]
  },
  {
   "cell_type": "code",
   "execution_count": 353,
   "metadata": {},
   "outputs": [
    {
     "data": {
      "text/plain": [
       "26"
      ]
     },
     "execution_count": 353,
     "metadata": {},
     "output_type": "execute_result"
    }
   ],
   "source": [
    "solution([6, 1, 5, 6, 4, 2, 9, 4])"
   ]
  },
  {
   "cell_type": "markdown",
   "metadata": {},
   "source": [
    "https://app.codility.com/demo/results/trainingTQX6G7-TVW/\n",
    "\n",
    "46점..."
   ]
  },
  {
   "cell_type": "code",
   "execution_count": 370,
   "metadata": {},
   "outputs": [
    {
     "data": {
      "text/plain": [
       "[3, 2, 6, -1, 4, 5, -1, 2]"
      ]
     },
     "execution_count": 370,
     "metadata": {},
     "output_type": "execute_result"
    }
   ],
   "source": [
    "A"
   ]
  },
  {
   "cell_type": "code",
   "execution_count": 379,
   "metadata": {},
   "outputs": [],
   "source": [
    "def solution(A):\n",
    "    print(A)\n",
    "    leftS = [0] * len(A)\n",
    "    rightS = [0] * len(A)\n",
    "    \n",
    "    for i in range(1, len(A)-1):\n",
    "        # 왼쪽으로부터의 최대합\n",
    "        leftS[i] = max(0, leftS[i-1]+A[i])\n",
    "    for i in range(len(A)-2,0,-1):\n",
    "        # 오른쪽으로부터의 최대합\n",
    "        rightS[i] = max(0, rightS[i+1]+A[i])\n",
    "\n",
    "    print(leftS, rightS)\n",
    "    \n",
    "    mx = 0\n",
    "    for i in range(1,len(A)-1):\n",
    "        mx = max(mx, leftS[i-1]+rightS[i+1])\n",
    "    return mx"
   ]
  },
  {
   "cell_type": "code",
   "execution_count": 380,
   "metadata": {},
   "outputs": [
    {
     "name": "stdout",
     "output_type": "stream",
     "text": [
      "[3, 2, 6, -1, 4, 5, -1, 2]\n",
      "[0, 2, 8, 7, 11, 16, 15, 0] [0, 16, 14, 8, 9, 5, 0, 0]\n"
     ]
    },
    {
     "data": {
      "text/plain": [
       "17"
      ]
     },
     "execution_count": 380,
     "metadata": {},
     "output_type": "execute_result"
    }
   ],
   "source": [
    "solution(A)"
   ]
  },
  {
   "cell_type": "markdown",
   "metadata": {},
   "source": [
    "https://app.codility.com/demo/results/trainingEMRE8Q-UDH/\n",
    "\n",
    "100점"
   ]
  },
  {
   "cell_type": "markdown",
   "metadata": {},
   "source": [
    "# MaxProfit\n",
    "\n",
    "An array A consisting of N integers is given. It contains daily prices of a stock share for a period of N consecutive days. If a single share was bought on day P and sold on day Q, where 0 ≤ P ≤ Q < N, then the profit of such transaction is equal to A[Q] − A[P], provided that A[Q] ≥ A[P]. Otherwise, the transaction brings loss of A[P] − A[Q].\n",
    "\n",
    "For example, consider the following array A consisting of six elements such that:\n",
    "\n",
    "    A[0] = 23171\n",
    "    A[1] = 21011\n",
    "    A[2] = 21123\n",
    "    A[3] = 21366\n",
    "    A[4] = 21013\n",
    "    A[5] = 21367\n",
    "    \n",
    "If a share was bought on day 0 and sold on day 2, a loss of 2048 would occur because A[2] − A[0] = 21123 − 23171 = −2048. If a share was bought on day 4 and sold on day 5, a profit of 354 would occur because A[5] − A[4] = 21367 − 21013 = 354. Maximum possible profit was 356. It would occur if a share was bought on day 1 and sold on day 5.\n",
    "\n",
    "Write a function,\n",
    "\n",
    "    def solution(A)\n",
    "\n",
    "that, given an array A consisting of N integers containing daily prices of a stock share for a period of N consecutive days, returns the maximum possible profit from one transaction during this period. The function should return 0 if it was impossible to gain any profit.\n",
    "\n",
    "For example, given array A consisting of six elements such that:\n",
    "\n",
    "    A[0] = 23171\n",
    "    A[1] = 21011\n",
    "    A[2] = 21123\n",
    "    A[3] = 21366\n",
    "    A[4] = 21013\n",
    "    A[5] = 21367\n",
    "    \n",
    "the function should return 356, as explained above.\n",
    "\n",
    "Write an efficient algorithm for the following assumptions:\n",
    "\n",
    "* N is an integer within the range [0..400,000];\n",
    "* each element of array A is an integer within the range [0..200,000]."
   ]
  },
  {
   "cell_type": "code",
   "execution_count": 63,
   "metadata": {},
   "outputs": [
    {
     "data": {
      "text/plain": [
       "[23171, 21011, 21123, 21366, 21013, 21367]"
      ]
     },
     "execution_count": 63,
     "metadata": {},
     "output_type": "execute_result"
    }
   ],
   "source": [
    "A = [0]*6\n",
    "A[0] = 23171\n",
    "A[1] = 21011\n",
    "A[2] = 21123\n",
    "A[3] = 21366\n",
    "A[4] = 21013\n",
    "A[5] = 21367\n",
    "A"
   ]
  },
  {
   "cell_type": "code",
   "execution_count": 64,
   "metadata": {},
   "outputs": [],
   "source": [
    "def solution(A):\n",
    "    mx = 0\n",
    "    for i in range(len(A)-1):\n",
    "        for j in range(i+1 , len(A)):\n",
    "            sm = A[j]-A[i]\n",
    "            mx = max(mx, sm)\n",
    "    return mx"
   ]
  },
  {
   "cell_type": "code",
   "execution_count": 65,
   "metadata": {},
   "outputs": [
    {
     "data": {
      "text/plain": [
       "356"
      ]
     },
     "execution_count": 65,
     "metadata": {},
     "output_type": "execute_result"
    }
   ],
   "source": [
    "solution(A)"
   ]
  },
  {
   "cell_type": "markdown",
   "metadata": {},
   "source": [
    "https://app.codility.com/demo/results/trainingHBZ4ST-ZAG/\n",
    "\n",
    "66점 $O(n^2)$"
   ]
  },
  {
   "cell_type": "code",
   "execution_count": 83,
   "metadata": {},
   "outputs": [],
   "source": [
    "def solution(A):\n",
    "    mx = 0\n",
    "    max_ending = 0\n",
    "    for i in range(1,len(A)):\n",
    "        max_ending = max(0,max_ending+A[i]-A[i-1])\n",
    "        mx = max(mx, max_ending)\n",
    "        \n",
    "    return mx"
   ]
  },
  {
   "cell_type": "code",
   "execution_count": 84,
   "metadata": {},
   "outputs": [
    {
     "data": {
      "text/plain": [
       "356"
      ]
     },
     "execution_count": 84,
     "metadata": {},
     "output_type": "execute_result"
    }
   ],
   "source": [
    "solution(A)"
   ]
  },
  {
   "cell_type": "markdown",
   "metadata": {},
   "source": [
    "예제와 동일하게 특정 날짜에 파는 최대 이익을 계산하는 방식\n",
    "\n",
    "https://app.codility.com/demo/results/trainingFGV5GP-X8Q/\n",
    "\n",
    "100점!"
   ]
  },
  {
   "cell_type": "markdown",
   "metadata": {},
   "source": [
    "# MaxSliceSum\n",
    "\n",
    "A non-empty array A consisting of N integers is given. A pair of integers (P, Q), such that 0 ≤ P ≤ Q < N, is called a slice of array A. The sum of a slice (P, Q) is the total of A[P] + A[P+1] + ... + A[Q].\n",
    "\n",
    "Write a function:\n",
    "\n",
    "    def solution(A)\n",
    "\n",
    "that, given an array A consisting of N integers, returns the maximum sum of any slice of A.\n",
    "\n",
    "For example, given array A such that:\n",
    "\n",
    "    A[0] = 3  A[1] = 2  A[2] = -6\n",
    "    A[3] = 4  A[4] = 0\n",
    "\n",
    "the function should return 5 because:\n",
    "\n",
    "* (3, 4) is a slice of A that has sum 4,\n",
    "* (2, 2) is a slice of A that has sum −6,\n",
    "* (0, 1) is a slice of A that has sum 5,\n",
    "* no other slice of A has sum greater than (0, 1).\n",
    "\n",
    "Write an efficient algorithm for the following assumptions:\n",
    "\n",
    "* N is an integer within the range [1..1,000,000];\n",
    "* each element of array A is an integer within the range [−1,000,000..1,000,000];\n",
    "* the result will be an integer within the range [−2,147,483,648..2,147,483,647]."
   ]
  },
  {
   "cell_type": "markdown",
   "metadata": {},
   "source": [
    "예제와 다른 점은, 이 문제는 empty set 을 허용하지 않는다는 점. 따라서 최소가 0일 필요가 없다."
   ]
  },
  {
   "cell_type": "code",
   "execution_count": 161,
   "metadata": {},
   "outputs": [],
   "source": [
    "A = [3,2,-6,4,0]"
   ]
  },
  {
   "cell_type": "code",
   "execution_count": 86,
   "metadata": {},
   "outputs": [],
   "source": [
    "def solution(A):\n",
    "    n = len(A)\n",
    "    mx = -float('inf')\n",
    "\n",
    "    for i in range(n):\n",
    "        for j in range(i+1,n+1):\n",
    "            sm = sum(A[i:j])\n",
    "            #|print(sm)\n",
    "            mx = max(sm,mx)\n",
    "            \n",
    "    return mx\n",
    "            "
   ]
  },
  {
   "cell_type": "code",
   "execution_count": 87,
   "metadata": {},
   "outputs": [
    {
     "data": {
      "text/plain": [
       "5"
      ]
     },
     "execution_count": 87,
     "metadata": {},
     "output_type": "execute_result"
    }
   ],
   "source": [
    "solution(A)"
   ]
  },
  {
   "cell_type": "markdown",
   "metadata": {},
   "source": [
    "https://app.codility.com/demo/results/trainingHW2FRG-4MB/\n",
    "\n",
    "69점 $O(n^3)$"
   ]
  },
  {
   "cell_type": "code",
   "execution_count": 197,
   "metadata": {},
   "outputs": [],
   "source": [
    "def solution(A):\n",
    "    max_end = 0\n",
    "    max_ind = -float('inf')\n",
    "    for a in A:\n",
    "        max_end = max(a,max_end+a)\n",
    "        max_ind = max(max_ind, max_end)\n",
    "    return max_ind"
   ]
  },
  {
   "cell_type": "code",
   "execution_count": 198,
   "metadata": {},
   "outputs": [
    {
     "data": {
      "text/plain": [
       "(-10, 10, -2, 1, 2, 3)"
      ]
     },
     "execution_count": 198,
     "metadata": {},
     "output_type": "execute_result"
    }
   ],
   "source": [
    "solution([-10]),solution([10]), solution([-2,-2]), solution([-2,1]), solution([-2,1,1]), solution([-2,1,1,1])"
   ]
  },
  {
   "cell_type": "code",
   "execution_count": 199,
   "metadata": {},
   "outputs": [
    {
     "data": {
      "text/plain": [
       "([3, 2, -6, 4, 0], 5)"
      ]
     },
     "execution_count": 199,
     "metadata": {},
     "output_type": "execute_result"
    }
   ],
   "source": [
    "A, solution(A)"
   ]
  },
  {
   "cell_type": "markdown",
   "metadata": {},
   "source": [
    "https://app.codility.com/demo/results/training36EJNF-UXC/\n",
    "\n",
    "100점!"
   ]
  },
  {
   "cell_type": "code",
   "execution_count": null,
   "metadata": {},
   "outputs": [],
   "source": []
  }
 ],
 "metadata": {
  "kernelspec": {
   "display_name": "Python 3",
   "language": "python",
   "name": "python3"
  },
  "language_info": {
   "codemirror_mode": {
    "name": "ipython",
    "version": 3
   },
   "file_extension": ".py",
   "mimetype": "text/x-python",
   "name": "python",
   "nbconvert_exporter": "python",
   "pygments_lexer": "ipython3",
   "version": "3.7.3"
  }
 },
 "nbformat": 4,
 "nbformat_minor": 4
}
