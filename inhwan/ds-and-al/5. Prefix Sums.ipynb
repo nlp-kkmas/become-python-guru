{
 "cells": [
  {
   "cell_type": "markdown",
   "metadata": {},
   "source": [
    "# Exericse\n",
    "\n",
    "You are given a non-empty, zero-indexed array $A$ of $n$ ($1\\le n \\le 100000$) intergers $a_o, \\ldots, a_{n-1}$ ($0\\le a_i \\le 1000$). You are also given integers $k$ and $m$ ($0 \\le k, m < n$). The goal is to calculate the maximum number of mushrooms that the mushroom\n",
    "picker who starts at spot number $k$ can collect in $m$ moves."
   ]
  },
  {
   "cell_type": "code",
   "execution_count": 70,
   "metadata": {},
   "outputs": [],
   "source": [
    "def prefix_sums(A):\n",
    "    n = len(A)\n",
    "    P = [0] * (n+1)\n",
    "    for k in range(1,n+1):\n",
    "        P[k] = P[k-1] + A[k-1]\n",
    "    return P"
   ]
  },
  {
   "cell_type": "code",
   "execution_count": 71,
   "metadata": {},
   "outputs": [],
   "source": [
    "A = [2,3,7,5,1,3,9]"
   ]
  },
  {
   "cell_type": "code",
   "execution_count": 72,
   "metadata": {},
   "outputs": [
    {
     "data": {
      "text/plain": [
       "[0, 2, 5, 12, 17, 18, 21, 30]"
      ]
     },
     "execution_count": 72,
     "metadata": {},
     "output_type": "execute_result"
    }
   ],
   "source": [
    "prefix_sums(A)"
   ]
  },
  {
   "cell_type": "code",
   "execution_count": 73,
   "metadata": {},
   "outputs": [
    {
     "data": {
      "text/plain": [
       "[0, 1, 3, 6, 10, 15, 21, 28, 36, 45]"
      ]
     },
     "execution_count": 73,
     "metadata": {},
     "output_type": "execute_result"
    }
   ],
   "source": [
    "prefix_sums(range(1,10))"
   ]
  },
  {
   "cell_type": "code",
   "execution_count": 74,
   "metadata": {},
   "outputs": [],
   "source": [
    "def count_total(P,x,y):\n",
    "    return P[y+1] - P[x]"
   ]
  },
  {
   "cell_type": "code",
   "execution_count": 75,
   "metadata": {},
   "outputs": [],
   "source": [
    "def mushrooms(A,k,m):\n",
    "    n = len(A)\n",
    "    result = 0\n",
    "    pref = prefix_sums(A)\n",
    "    for p in range(min(m,k)+1):\n",
    "        left_pos = k-p\n",
    "        right_pos = min(n-1, max(k, k+m-2 * p))\n",
    "        result = max(result, count_total(pref, left_pos, right_pos))\n",
    "    for p in range(min(m+1, n-k)):\n",
    "        right_pos = k+p\n",
    "        left_pos = max(0, min(k, k-m+2 * p))\n",
    "        result = max(result, count_total(pref, left_pos, right_pos))\n",
    "    return result"
   ]
  },
  {
   "cell_type": "markdown",
   "metadata": {},
   "source": [
    "이렇게 하면 $O(n+m)$ 이다"
   ]
  },
  {
   "cell_type": "code",
   "execution_count": 76,
   "metadata": {},
   "outputs": [
    {
     "data": {
      "text/plain": [
       "25"
      ]
     },
     "execution_count": 76,
     "metadata": {},
     "output_type": "execute_result"
    }
   ],
   "source": [
    "mushrooms(A,4,6)"
   ]
  },
  {
   "cell_type": "markdown",
   "metadata": {},
   "source": [
    "# CountDiv\n",
    "\n",
    "Write a function:\n",
    "\n",
    "    def solution(A, B, K)\n",
    "\n",
    "that, given three integers A, B and K, returns the number of integers within the range [A..B] that are divisible by K, i.e.:\n",
    "\n",
    "    { i : A ≤ i ≤ B, i mod K = 0 }\n",
    "\n",
    "For example, for A = 6, B = 11 and K = 2, your function should return 3, because there are three numbers divisible by 2 within the range [6..11], namely 6, 8 and 10.\n",
    "\n",
    "Write an efficient algorithm for the following assumptions:\n",
    "\n",
    "* A and B are integers within the range [0..2,000,000,000];\n",
    "* K is an integer within the range [1..2,000,000,000]; \n",
    "* A ≤ B."
   ]
  },
  {
   "cell_type": "code",
   "execution_count": 1,
   "metadata": {},
   "outputs": [
    {
     "data": {
      "text/plain": [
       "0"
      ]
     },
     "execution_count": 1,
     "metadata": {},
     "output_type": "execute_result"
    }
   ],
   "source": [
    "import math\n",
    "math.floor(0.1)"
   ]
  },
  {
   "cell_type": "code",
   "execution_count": 3,
   "metadata": {},
   "outputs": [
    {
     "data": {
      "text/plain": [
       "1"
      ]
     },
     "execution_count": 3,
     "metadata": {},
     "output_type": "execute_result"
    }
   ],
   "source": [
    "math.ceil(0.1)"
   ]
  },
  {
   "cell_type": "code",
   "execution_count": 4,
   "metadata": {},
   "outputs": [],
   "source": [
    "def solution(A, B, K):\n",
    "    import math\n",
    "    return math.floor(B/K) - math.ceil(A/K) + 1"
   ]
  },
  {
   "cell_type": "code",
   "execution_count": 5,
   "metadata": {},
   "outputs": [
    {
     "data": {
      "text/plain": [
       "3"
      ]
     },
     "execution_count": 5,
     "metadata": {},
     "output_type": "execute_result"
    }
   ],
   "source": [
    "solution(6,11,2)"
   ]
  },
  {
   "cell_type": "markdown",
   "metadata": {},
   "source": [
    "https://app.codility.com/demo/results/trainingZNRU7Y-ANB/\n",
    "\n",
    "100% !"
   ]
  },
  {
   "cell_type": "markdown",
   "metadata": {},
   "source": [
    "# GenomicRangeQuery\n",
    "\n",
    "A DNA sequence can be represented as a string consisting of the letters A, C, G and T, which correspond to the types of successive nucleotides in the sequence. Each nucleotide has an impact factor, which is an integer. Nucleotides of types A, C, G and T have impact factors of 1, 2, 3 and 4, respectively. You are going to answer several queries of the form: What is the minimal impact factor of nucleotides contained in a particular part of the given DNA sequence?\n",
    "\n",
    "The DNA sequence is given as a non-empty string S = S[0]S[1]...S[N-1] consisting of N characters. There are M queries, which are given in non-empty arrays P and Q, each consisting of M integers. The K-th query (0 ≤ K < M) requires you to find the minimal impact factor of nucleotides contained in the DNA sequence between positions P[K] and Q[K] (inclusive).\n",
    "\n",
    "For example, consider string S = CAGCCTA and arrays P, Q such that:\n",
    "\n",
    "    P[0] = 2    Q[0] = 4\n",
    "    P[1] = 5    Q[1] = 5\n",
    "    P[2] = 0    Q[2] = 6\n",
    "    \n",
    "The answers to these M = 3 queries are as follows:\n",
    "\n",
    "The part of the DNA between positions 2 and 4 contains nucleotides G and C (twice), whose impact factors are 3 and 2 respectively, so the answer is 2.\n",
    "The part between positions 5 and 5 contains a single nucleotide T, whose impact factor is 4, so the answer is 4.\n",
    "The part between positions 0 and 6 (the whole string) contains all nucleotides, in particular nucleotide A whose impact factor is 1, so the answer is 1.\n",
    "Write a function:\n",
    "\n",
    "    def solution(S, P, Q)\n",
    "\n",
    "that, given a non-empty string S consisting of N characters and two non-empty arrays P and Q consisting of M integers, returns an array consisting of M integers specifying the consecutive answers to all queries.\n",
    "\n",
    "Result array should be returned as an array of integers.\n",
    "\n",
    "For example, given the string S = CAGCCTA and arrays P, Q such that:\n",
    "\n",
    "    P[0] = 2    Q[0] = 4\n",
    "    P[1] = 5    Q[1] = 5\n",
    "    P[2] = 0    Q[2] = 6\n",
    "    \n",
    "the function should return the values [2, 4, 1], as explained above.\n",
    "\n",
    "Write an efficient algorithm for the following assumptions:\n",
    "\n",
    "* N is an integer within the range [1..100,000];\n",
    "* M is an integer within the range [1..50,000];\n",
    "* each element of arrays P, Q is an integer within the range [0..N − 1];\n",
    "* P[K] ≤ Q[K], where 0 ≤ K < M;\n",
    "* string S consists only of upper-case English letters A, C, G, T."
   ]
  },
  {
   "cell_type": "code",
   "execution_count": 1,
   "metadata": {},
   "outputs": [
    {
     "data": {
      "text/plain": [
       "{'A': 1, 'C': 2, 'G': 3, 'T': 4}"
      ]
     },
     "execution_count": 1,
     "metadata": {},
     "output_type": "execute_result"
    }
   ],
   "source": [
    "score = dict(zip(list('ACGT'),[1,2,3,4]))\n",
    "score"
   ]
  },
  {
   "cell_type": "code",
   "execution_count": 11,
   "metadata": {},
   "outputs": [],
   "source": [
    "def res(st):\n",
    "    res = 4\n",
    "    for i in range(len(st)):\n",
    "        if st[i] == 'A': return 1\n",
    "        res = min(score[st[i]],res)\n",
    "    return res"
   ]
  },
  {
   "cell_type": "code",
   "execution_count": 15,
   "metadata": {},
   "outputs": [],
   "source": [
    "def res(st):\n",
    "    alph = set(st)\n",
    "    return score[min(alph)]"
   ]
  },
  {
   "cell_type": "code",
   "execution_count": 14,
   "metadata": {},
   "outputs": [
    {
     "data": {
      "text/plain": [
       "'G'"
      ]
     },
     "execution_count": 14,
     "metadata": {},
     "output_type": "execute_result"
    }
   ],
   "source": [
    "min(set('GGGT'))"
   ]
  },
  {
   "cell_type": "code",
   "execution_count": 16,
   "metadata": {},
   "outputs": [
    {
     "data": {
      "text/plain": [
       "1"
      ]
     },
     "execution_count": 16,
     "metadata": {},
     "output_type": "execute_result"
    }
   ],
   "source": [
    "res('CAGCCTA')"
   ]
  },
  {
   "cell_type": "code",
   "execution_count": 14,
   "metadata": {},
   "outputs": [],
   "source": [
    "st = 'CAGCCTA'"
   ]
  },
  {
   "cell_type": "code",
   "execution_count": 29,
   "metadata": {},
   "outputs": [
    {
     "data": {
      "text/plain": [
       "'CAGCCTA'"
      ]
     },
     "execution_count": 29,
     "metadata": {},
     "output_type": "execute_result"
    }
   ],
   "source": [
    "st[0:7]"
   ]
  },
  {
   "cell_type": "code",
   "execution_count": 30,
   "metadata": {},
   "outputs": [],
   "source": [
    "def solution(S, P, Q):\n",
    "    score = dict(zip(list('ACGT'),[1,2,3,4]))\n",
    "    ans = []\n",
    "    for i in range(len(P)):\n",
    "        ans.append(score[min(set(S[P[i]:Q[i]+1]))])\n",
    "    return ans"
   ]
  },
  {
   "cell_type": "markdown",
   "metadata": {},
   "source": [
    "https://app.codility.com/demo/results/trainingHJ88XC-QFC/\n",
    "\n",
    "62점... O(N*M)"
   ]
  },
  {
   "cell_type": "markdown",
   "metadata": {},
   "source": [
    "재도전간다"
   ]
  },
  {
   "cell_type": "code",
   "execution_count": 8,
   "metadata": {},
   "outputs": [],
   "source": [
    "score = dict(zip(list('ACGT'),[1,2,3,4]))\n",
    "\n",
    "def find_min(A:set)->int:\n",
    "    if 'A' in A:\n",
    "        return 1\n",
    "    elif 'C' in A:\n",
    "        return 2\n",
    "    elif 'G' in A:\n",
    "        return 3\n",
    "    else:\n",
    "        return 4"
   ]
  },
  {
   "cell_type": "code",
   "execution_count": 10,
   "metadata": {},
   "outputs": [],
   "source": [
    "def solution(S, P, Q):\n",
    "    ans = []\n",
    "    for i in range(len(P)):\n",
    "        ans.append(find_min(set(S[P[i]:Q[i]+1])))\n",
    "    return ans"
   ]
  },
  {
   "cell_type": "markdown",
   "metadata": {},
   "source": [
    "https://app.codility.com/demo/results/trainingX5CQXT-PDF/\n",
    "\n",
    "62점..."
   ]
  },
  {
   "cell_type": "code",
   "execution_count": 11,
   "metadata": {},
   "outputs": [],
   "source": [
    "def solution(S, P, Q):\n",
    "    score = dict(zip(list('ACGT'),[1,2,3,4]))\n",
    "    alph = {'A','C','G','T'}\n",
    "    ans = []\n",
    "    for i in range(len(P)):\n",
    "        ans.append(score[min(set.intersection(set(S[P[i]:Q[i]+1]),alph))])\n",
    "    return ans"
   ]
  },
  {
   "cell_type": "markdown",
   "metadata": {},
   "source": [
    "https://app.codility.com/demo/results/trainingZF55FU-XDH/\n",
    "\n",
    "62점... 이 방법으론 안될듯"
   ]
  },
  {
   "cell_type": "markdown",
   "metadata": {},
   "source": [
    "걍 점수별 위치를 뽑아서 만들까"
   ]
  },
  {
   "cell_type": "code",
   "execution_count": 22,
   "metadata": {},
   "outputs": [],
   "source": [
    "def find_locs(S:list):\n",
    "    loc_1 = {i for i in range(len(S)) if S[i]=='A'}\n",
    "    loc_2 = {i for i in range(len(S)) if S[i]=='C'}\n",
    "    loc_3 = {i for i in range(len(S)) if S[i]=='G'}\n",
    "    loc_4 = {i for i in range(len(S)) if S[i]=='T'}\n",
    "    return (loc_1, loc_2, loc_3, loc_4)"
   ]
  },
  {
   "cell_type": "code",
   "execution_count": 23,
   "metadata": {},
   "outputs": [
    {
     "data": {
      "text/plain": [
       "({1, 6}, {0, 3, 4}, {2}, {5})"
      ]
     },
     "execution_count": 23,
     "metadata": {},
     "output_type": "execute_result"
    }
   ],
   "source": [
    "find_locs(st)"
   ]
  },
  {
   "cell_type": "code",
   "execution_count": 28,
   "metadata": {},
   "outputs": [
    {
     "name": "stdout",
     "output_type": "stream",
     "text": [
      "1\n"
     ]
    }
   ],
   "source": [
    "if set.intersection({1},{1,2}):\n",
    "    print(1)"
   ]
  },
  {
   "cell_type": "code",
   "execution_count": 30,
   "metadata": {},
   "outputs": [],
   "source": [
    "def find_min(i,j):\n",
    "    if set.intersection(loc_1,set(range(i,j+1))): return 1\n",
    "    elif set.intersection(loc_2,set(range(i,j+1))): return 2\n",
    "    elif set.intersection(loc_3,set(range(i,j+1))): return 3\n",
    "    else: return 4"
   ]
  },
  {
   "cell_type": "code",
   "execution_count": 32,
   "metadata": {},
   "outputs": [],
   "source": [
    "def solution(S, P, Q):\n",
    "    (loc_1, loc_2, loc_3, loc_4) = find_locs(S)\n",
    "    ans = []\n",
    "    for i in range(len(P)):\n",
    "        ans.append(find_min(P[i],Q[i]))\n",
    "    return ans"
   ]
  },
  {
   "cell_type": "markdown",
   "metadata": {},
   "source": [
    "prefix_sum 이용해보자..."
   ]
  },
  {
   "cell_type": "code",
   "execution_count": 34,
   "metadata": {},
   "outputs": [],
   "source": [
    "def prefix_sums(A):\n",
    "    n = len(A)\n",
    "    P = [0] * (n+1)\n",
    "    for k in range(1,n+1):\n",
    "        P[k] = P[k-1] + A[k-1]\n",
    "    return P"
   ]
  },
  {
   "cell_type": "code",
   "execution_count": 36,
   "metadata": {},
   "outputs": [
    {
     "data": {
      "text/plain": [
       "'CAGCCTA'"
      ]
     },
     "execution_count": 36,
     "metadata": {},
     "output_type": "execute_result"
    }
   ],
   "source": [
    "prefix_str(A:str):\n",
    "    score = dict(zip(list('ACGT'),[1,2,3,4]))\n",
    "    n = len(A)\n",
    "    P = [0] * (n+1)\n",
    "    for k in range(1,n+1):\n",
    "        P[k] = P[k-1] + A[k-1]\n",
    "    return P    "
   ]
  },
  {
   "cell_type": "code",
   "execution_count": 103,
   "metadata": {},
   "outputs": [],
   "source": [
    "from functools import reduce"
   ]
  },
  {
   "cell_type": "code",
   "execution_count": 105,
   "metadata": {},
   "outputs": [
    {
     "data": {
      "text/plain": [
       "{'A': 1, 'C': 2, 'G': 3, 'T': 4}"
      ]
     },
     "execution_count": 105,
     "metadata": {},
     "output_type": "execute_result"
    }
   ],
   "source": [
    "score = dict(zip(list('ACGT'),[1,2,3,4]))\n",
    "score"
   ]
  },
  {
   "cell_type": "code",
   "execution_count": 112,
   "metadata": {},
   "outputs": [],
   "source": [
    "lis = 'ACGT'"
   ]
  },
  {
   "cell_type": "code",
   "execution_count": 120,
   "metadata": {},
   "outputs": [
    {
     "data": {
      "text/plain": [
       "[2, 1, 3, 2, 2, 4, 1]"
      ]
     },
     "execution_count": 120,
     "metadata": {},
     "output_type": "execute_result"
    }
   ],
   "source": [
    "list(map(lambda x:score[x], st))"
   ]
  },
  {
   "cell_type": "markdown",
   "metadata": {},
   "source": [
    "카운터를 이용해서 해보자"
   ]
  },
  {
   "cell_type": "code",
   "execution_count": 39,
   "metadata": {},
   "outputs": [],
   "source": [
    "from collections import Counter"
   ]
  },
  {
   "cell_type": "code",
   "execution_count": 47,
   "metadata": {},
   "outputs": [],
   "source": [
    "counter = Counter('ACGT')\n",
    "counter2 = Counter('GT')"
   ]
  },
  {
   "cell_type": "code",
   "execution_count": 48,
   "metadata": {},
   "outputs": [
    {
     "data": {
      "text/plain": [
       "Counter({'A': 1, 'C': 1, 'G': 0, 'T': 0})"
      ]
     },
     "execution_count": 48,
     "metadata": {},
     "output_type": "execute_result"
    }
   ],
   "source": [
    "counter.subtract(counter2)\n",
    "counter"
   ]
  },
  {
   "cell_type": "code",
   "execution_count": 54,
   "metadata": {},
   "outputs": [
    {
     "data": {
      "text/plain": [
       "[1, 1, 0, 0]"
      ]
     },
     "execution_count": 54,
     "metadata": {},
     "output_type": "execute_result"
    }
   ],
   "source": [
    "val = list(counter.values())\n",
    "val"
   ]
  },
  {
   "cell_type": "code",
   "execution_count": 63,
   "metadata": {},
   "outputs": [],
   "source": [
    "def argmin(cnt):\n",
    "    lis = list(cnt.values())\n",
    "    for i in lis:\n",
    "        if i != 0: return lis.index(i)+1"
   ]
  },
  {
   "cell_type": "code",
   "execution_count": 64,
   "metadata": {},
   "outputs": [
    {
     "data": {
      "text/plain": [
       "1"
      ]
     },
     "execution_count": 64,
     "metadata": {},
     "output_type": "execute_result"
    }
   ],
   "source": [
    "argmin(counter)"
   ]
  },
  {
   "cell_type": "code",
   "execution_count": 74,
   "metadata": {},
   "outputs": [
    {
     "data": {
      "text/plain": [
       "'A'"
      ]
     },
     "execution_count": 74,
     "metadata": {},
     "output_type": "execute_result"
    }
   ],
   "source": [
    "list(counter.keys())[0]"
   ]
  },
  {
   "cell_type": "code",
   "execution_count": 71,
   "metadata": {},
   "outputs": [
    {
     "data": {
      "text/plain": [
       "'A'"
      ]
     },
     "execution_count": 71,
     "metadata": {},
     "output_type": "execute_result"
    }
   ],
   "source": [
    "next(iter(counter))"
   ]
  },
  {
   "cell_type": "code",
   "execution_count": 76,
   "metadata": {},
   "outputs": [
    {
     "ename": "AttributeError",
     "evalue": "'Counter' object has no attribute 'sorted'",
     "output_type": "error",
     "traceback": [
      "\u001b[0;31m---------------------------------------------------------------------------\u001b[0m",
      "\u001b[0;31mAttributeError\u001b[0m                            Traceback (most recent call last)",
      "\u001b[0;32m<ipython-input-76-5e5078c40a41>\u001b[0m in \u001b[0;36m<module>\u001b[0;34m\u001b[0m\n\u001b[0;32m----> 1\u001b[0;31m \u001b[0mCounter\u001b[0m\u001b[0;34m(\u001b[0m\u001b[0;34m'TG'\u001b[0m\u001b[0;34m)\u001b[0m\u001b[0;34m.\u001b[0m\u001b[0msorted\u001b[0m\u001b[0;34m(\u001b[0m\u001b[0;34m)\u001b[0m\u001b[0;34m\u001b[0m\u001b[0;34m\u001b[0m\u001b[0m\n\u001b[0m",
      "\u001b[0;31mAttributeError\u001b[0m: 'Counter' object has no attribute 'sorted'"
     ]
    }
   ],
   "source": [
    "Counter('TG').sorted()"
   ]
  },
  {
   "cell_type": "code",
   "execution_count": null,
   "metadata": {},
   "outputs": [],
   "source": []
  },
  {
   "cell_type": "code",
   "execution_count": 65,
   "metadata": {},
   "outputs": [],
   "source": [
    "from collections import Counter\n",
    "\n",
    "def solution(S, P, Q):\n",
    "    score = dict(zip(list('ACGT'),[1,2,3,4]))\n",
    "    ans = []\n",
    "    for i in range(len(P)):\n",
    "        cnt = Counter(S[P[i]:Q[i]+1])\n",
    "        ans.append(score[min(cnt.keys())])\n",
    "    return ans"
   ]
  },
  {
   "cell_type": "markdown",
   "metadata": {},
   "source": [
    "https://app.codility.com/demo/results/trainingGCXSF9-7WS/\n",
    "\n",
    "62%"
   ]
  },
  {
   "cell_type": "markdown",
   "metadata": {},
   "source": [
    "문제를 깨달음. for 문 안에 슬라이싱 같은게 오면 안되고 그 이전에 미리 값을 뽑아놔야 한다."
   ]
  },
  {
   "cell_type": "code",
   "execution_count": 100,
   "metadata": {},
   "outputs": [],
   "source": [
    "def prefix_cnts(A:str):\n",
    "    n = len(A)\n",
    "    loc_1 = [0] * (n+1)\n",
    "    loc_2 = [0] * (n+1)\n",
    "    loc_3 = [0] * (n+1)\n",
    "    loc_4 = [0] * (n+1)\n",
    "    for i in range(1,n+1):\n",
    "        loc_1[i] = loc_1[i-1]\n",
    "        loc_2[i] = loc_2[i-1]\n",
    "        loc_3[i] = loc_3[i-1]\n",
    "        loc_4[i] = loc_4[i-1]\n",
    "        if A[i-1] == 'A': loc_1[i] += 1\n",
    "        elif A[i-1] == 'C': loc_2[i] += 1\n",
    "        elif A[i-1] == 'G': loc_3[i] += 1\n",
    "        else: loc_4[i] += 1\n",
    "\n",
    "    return loc_1, loc_2, loc_3, loc_4"
   ]
  },
  {
   "cell_type": "code",
   "execution_count": 101,
   "metadata": {},
   "outputs": [
    {
     "data": {
      "text/plain": [
       "([0, 1, 1, 1, 1, 1],\n",
       " [0, 0, 1, 1, 1, 1],\n",
       " [0, 0, 0, 1, 1, 1],\n",
       " [0, 0, 0, 0, 1, 2])"
      ]
     },
     "execution_count": 101,
     "metadata": {},
     "output_type": "execute_result"
    }
   ],
   "source": [
    "P = prefix_cnts('ACGTT')\n",
    "P"
   ]
  },
  {
   "cell_type": "code",
   "execution_count": 112,
   "metadata": {},
   "outputs": [],
   "source": [
    "def count_total(P,x,y):\n",
    "    ans = []\n",
    "    for i in range(4):\n",
    "        ans.append(P[i][y+1] - P[i][x])\n",
    "    return ans"
   ]
  },
  {
   "cell_type": "code",
   "execution_count": 113,
   "metadata": {},
   "outputs": [
    {
     "data": {
      "text/plain": [
       "[0, 1, 1, 2]"
      ]
     },
     "execution_count": 113,
     "metadata": {},
     "output_type": "execute_result"
    }
   ],
   "source": [
    "count_total(P,1,4)"
   ]
  },
  {
   "cell_type": "code",
   "execution_count": 120,
   "metadata": {},
   "outputs": [],
   "source": [
    "def solution(S, P, Q):\n",
    "    score = dict(zip(list('ACGT'),[1,2,3,4]))\n",
    "    ans = []\n",
    "    pre = prefix_cnts(S)\n",
    "    for i in range(len(P)):\n",
    "        for j in range(4):\n",
    "            cnt = count_total(pre, P[i], Q[i])\n",
    "            if cnt[j] > 0: \n",
    "                ans.append(j+1)\n",
    "                break\n",
    "    return ans"
   ]
  },
  {
   "cell_type": "code",
   "execution_count": 121,
   "metadata": {},
   "outputs": [
    {
     "data": {
      "text/plain": [
       "[2, 4, 1]"
      ]
     },
     "execution_count": 121,
     "metadata": {},
     "output_type": "execute_result"
    }
   ],
   "source": [
    "solution('CAGCCTA', [2, 5, 0], [4, 5, 6])"
   ]
  },
  {
   "cell_type": "markdown",
   "metadata": {},
   "source": [
    "https://app.codility.com/demo/results/trainingTD986P-529/\n",
    "\n",
    "드디어 100점 ㅜ"
   ]
  },
  {
   "cell_type": "markdown",
   "metadata": {},
   "source": [
    "# MinAvgTwoSlice\n",
    "\n",
    "A non-empty array A consisting of N integers is given. A pair of integers (P, Q), such that 0 ≤ P < Q < N, is called a slice of array A (notice that the slice contains at least two elements). The average of a slice (P, Q) is the sum of A[P] + A[P + 1] + ... + A[Q] divided by the length of the slice. To be precise, the average equals (A[P] + A[P + 1] + ... + A[Q]) / (Q − P + 1).\n",
    "\n",
    "For example, array A such that:\n",
    "\n",
    "    A[0] = 4\n",
    "    A[1] = 2\n",
    "    A[2] = 2\n",
    "    A[3] = 5\n",
    "    A[4] = 1\n",
    "    A[5] = 5\n",
    "    A[6] = 8\n",
    "contains the following example slices:\n",
    "\n",
    "* slice (1, 2), whose average is (2 + 2) / 2 = 2;\n",
    "* slice (3, 4), whose average is (5 + 1) / 2 = 3;\n",
    "* slice (1, 4), whose average is (2 + 2 + 5 + 1) / 4 = 2.5.\n",
    "The goal is to find the starting position of a slice whose average is minimal.\n",
    "\n",
    "Write a function:\n",
    "\n",
    "    def solution(A)\n",
    "\n",
    "that, given a non-empty array A consisting of N integers, returns the starting position of the slice with the minimal average. If there is more than one slice with a minimal average, you should return the smallest starting position of such a slice.\n",
    "\n",
    "For example, given array A such that:\n",
    "\n",
    "    A[0] = 4\n",
    "    A[1] = 2\n",
    "    A[2] = 2\n",
    "    A[3] = 5\n",
    "    A[4] = 1\n",
    "    A[5] = 5\n",
    "    A[6] = 8\n",
    "the function should return 1, as explained above.\n",
    "\n",
    "Write an efficient algorithm for the following assumptions:\n",
    "\n",
    "* N is an integer within the range [2..100,000];\n",
    "* each element of array A is an integer within the range [−10,000..10,000]."
   ]
  },
  {
   "cell_type": "code",
   "execution_count": 9,
   "metadata": {},
   "outputs": [],
   "source": [
    "import math"
   ]
  },
  {
   "cell_type": "code",
   "execution_count": 21,
   "metadata": {},
   "outputs": [],
   "source": [
    "def mean(ls):\n",
    "    return float(sum(ls))/len(ls)"
   ]
  },
  {
   "cell_type": "code",
   "execution_count": 22,
   "metadata": {},
   "outputs": [
    {
     "data": {
      "text/plain": [
       "3.0"
      ]
     },
     "execution_count": 22,
     "metadata": {},
     "output_type": "execute_result"
    }
   ],
   "source": [
    "mean([1,2,3,4,5])"
   ]
  },
  {
   "cell_type": "code",
   "execution_count": 85,
   "metadata": {},
   "outputs": [],
   "source": [
    "A = [4,2,2,5,1,5,8]"
   ]
  },
  {
   "cell_type": "code",
   "execution_count": 32,
   "metadata": {},
   "outputs": [
    {
     "name": "stdout",
     "output_type": "stream",
     "text": [
      "[4, 2]\n",
      "[4, 2, 2]\n",
      "[4, 2, 2, 5]\n",
      "[4, 2, 2, 5, 1]\n",
      "[4, 2, 2, 5, 1, 5]\n",
      "[4, 2, 2, 5, 1, 5, 8]\n",
      "[2, 2]\n",
      "[2, 2, 5]\n",
      "[2, 2, 5, 1]\n",
      "[2, 2, 5, 1, 5]\n",
      "[2, 2, 5, 1, 5, 8]\n",
      "[2, 5]\n",
      "[2, 5, 1]\n",
      "[2, 5, 1, 5]\n",
      "[2, 5, 1, 5, 8]\n",
      "[5, 1]\n",
      "[5, 1, 5]\n",
      "[5, 1, 5, 8]\n",
      "[1, 5]\n",
      "[1, 5, 8]\n",
      "[5, 8]\n"
     ]
    }
   ],
   "source": [
    "for i in range(len(A)-1):\n",
    "    #print(A[i])\n",
    "    for j in range(len(A)-i-1):\n",
    "        #print(A[i],A[i+j+1])\n",
    "        print(A[i:i+j+2])"
   ]
  },
  {
   "cell_type": "code",
   "execution_count": 33,
   "metadata": {},
   "outputs": [
    {
     "name": "stdout",
     "output_type": "stream",
     "text": [
      "3.0\n",
      "2.6666666666666665\n",
      "3.25\n",
      "2.8\n",
      "3.1666666666666665\n",
      "3.857142857142857\n",
      "2.0\n",
      "3.0\n",
      "2.5\n",
      "3.0\n",
      "3.8333333333333335\n",
      "3.5\n",
      "2.6666666666666665\n",
      "3.25\n",
      "4.2\n",
      "3.0\n",
      "3.6666666666666665\n",
      "4.75\n",
      "3.0\n",
      "4.666666666666667\n",
      "6.5\n"
     ]
    }
   ],
   "source": [
    "for i in range(len(A)-1):\n",
    "    for j in range(len(A)-i-1):\n",
    "        print(mean(A[i:i+j+2]))"
   ]
  },
  {
   "cell_type": "code",
   "execution_count": null,
   "metadata": {},
   "outputs": [],
   "source": []
  },
  {
   "cell_type": "code",
   "execution_count": 67,
   "metadata": {},
   "outputs": [],
   "source": [
    "def solution(A):\n",
    "    res = []\n",
    "    for i in range(len(A)-1):\n",
    "        for j in range(len(A)-i-1):\n",
    "            res.append([i,mean(A[i:i+j+2])])\n",
    "    res.sort(key=second_elt)\n",
    "    ans = res[0][0]\n",
    "    return ans"
   ]
  },
  {
   "cell_type": "code",
   "execution_count": 68,
   "metadata": {},
   "outputs": [
    {
     "data": {
      "text/plain": [
       "1"
      ]
     },
     "execution_count": 68,
     "metadata": {},
     "output_type": "execute_result"
    }
   ],
   "source": [
    "solution(A)"
   ]
  },
  {
   "cell_type": "code",
   "execution_count": null,
   "metadata": {},
   "outputs": [],
   "source": []
  },
  {
   "cell_type": "code",
   "execution_count": 42,
   "metadata": {},
   "outputs": [],
   "source": [
    "b = [[1,5],[2,4,],[3,7]]"
   ]
  },
  {
   "cell_type": "code",
   "execution_count": 43,
   "metadata": {},
   "outputs": [],
   "source": [
    "def second_elt(ls):\n",
    "    return ls[-1]"
   ]
  },
  {
   "cell_type": "code",
   "execution_count": 46,
   "metadata": {},
   "outputs": [
    {
     "data": {
      "text/plain": [
       "[[2, 4], [1, 5], [3, 7]]"
      ]
     },
     "execution_count": 46,
     "metadata": {},
     "output_type": "execute_result"
    }
   ],
   "source": [
    "b.sort(key = second_elt)\n",
    "b"
   ]
  },
  {
   "cell_type": "code",
   "execution_count": 69,
   "metadata": {},
   "outputs": [],
   "source": [
    "def mean(ls):\n",
    "    return float(sum(ls))/len(ls)\n",
    "\n",
    "def second_elt(ls):\n",
    "    return ls[-1]\n",
    "    \n",
    "def solution(A):\n",
    "    res = []\n",
    "    for i in range(len(A)-1):\n",
    "        for j in range(len(A)-i-1):\n",
    "            res.append([i,mean(A[i:i+j+2])])\n",
    "    res.sort(key=second_elt)\n",
    "    ans = res[0][0]\n",
    "    return ans"
   ]
  },
  {
   "cell_type": "markdown",
   "metadata": {},
   "source": [
    "https://app.codility.com/demo/results/trainingXKXDY2-FAJ/\n",
    "\n",
    "50점 $O(N^3)$"
   ]
  },
  {
   "cell_type": "code",
   "execution_count": 242,
   "metadata": {},
   "outputs": [],
   "source": [
    "def prefix_sums(A):\n",
    "    n = len(A)\n",
    "    P = [0] * (n+1)\n",
    "    for k in range(1,n+1):\n",
    "        P[k] = P[k-1] + A[k-1]\n",
    "    return P"
   ]
  },
  {
   "cell_type": "code",
   "execution_count": 245,
   "metadata": {},
   "outputs": [
    {
     "data": {
      "text/plain": [
       "([2, 3, 7, 5, 1, 3, 9], [0, 2, 5, 12, 17, 18, 21, 30])"
      ]
     },
     "execution_count": 245,
     "metadata": {},
     "output_type": "execute_result"
    }
   ],
   "source": [
    "A = [2,3,7,5,1,3,9]\n",
    "P = prefix_sums(A)\n",
    "A, P"
   ]
  },
  {
   "cell_type": "code",
   "execution_count": 277,
   "metadata": {},
   "outputs": [],
   "source": [
    "def min_mean(P,l):\n",
    "    min_avg = float('inf')\n",
    "    idx = len(P)\n",
    "    for i in range(len(P)-l):\n",
    "        #print(i,P[i],P[i+l], (P[i+l]-P[i])/l)\n",
    "        min_tem = (P[i+l]-P[i])/l\n",
    "        if min_tem < min_avg:\n",
    "            min_avg = min_tem\n",
    "            idx = i+1\n",
    "    return idx, min_avg"
   ]
  },
  {
   "cell_type": "code",
   "execution_count": 278,
   "metadata": {},
   "outputs": [
    {
     "data": {
      "text/plain": [
       "(4, 3.0)"
      ]
     },
     "execution_count": 278,
     "metadata": {},
     "output_type": "execute_result"
    }
   ],
   "source": [
    "min_mean(P,3)"
   ]
  },
  {
   "cell_type": "code",
   "execution_count": 279,
   "metadata": {},
   "outputs": [],
   "source": [
    "def solution(A):\n",
    "    P = prefix_sums(A)\n",
    "    min_avg = float('inf')\n",
    "    min_idx = len(A)\n",
    "    for i in range(2,len(A)):\n",
    "        idx, avg = min_mean(P,i)\n",
    "        if avg < min_avg:\n",
    "            min_idx = idx\n",
    "    return min_idx"
   ]
  },
  {
   "cell_type": "markdown",
   "metadata": {},
   "source": [
    "https://app.codility.com/demo/results/trainingWVJBM7-9AC/\n",
    "\n",
    "망함"
   ]
  },
  {
   "cell_type": "code",
   "execution_count": 286,
   "metadata": {},
   "outputs": [],
   "source": [
    "def min_mean(P,i):\n",
    "    min_avg = float('inf')\n",
    "    idx = len(P)\n",
    "    for l in range(2,len(P)-i):\n",
    "        #print(i,P[i],P[i+l], (P[i+l]-P[i])/l)\n",
    "        min_tem = (P[i+l]-P[i])/l\n",
    "        if min_tem < min_avg:\n",
    "            min_avg = min_tem\n",
    "            idx = i+1\n",
    "    return idx, min_avg"
   ]
  },
  {
   "cell_type": "code",
   "execution_count": 287,
   "metadata": {},
   "outputs": [
    {
     "data": {
      "text/plain": [
       "(4, 3.0)"
      ]
     },
     "execution_count": 287,
     "metadata": {},
     "output_type": "execute_result"
    }
   ],
   "source": [
    "min_mean(P,3)"
   ]
  },
  {
   "cell_type": "code",
   "execution_count": 288,
   "metadata": {},
   "outputs": [],
   "source": [
    "def solution(A):\n",
    "    P = prefix_sums(A)\n",
    "    min_avg = float('inf')\n",
    "    min_idx = len(A)\n",
    "    for i in range(len(A)):\n",
    "        idx, avg = min_mean(P,i)\n",
    "        if avg < min_avg:\n",
    "            min_idx = idx\n",
    "    return min_idx"
   ]
  },
  {
   "cell_type": "code",
   "execution_count": 302,
   "metadata": {},
   "outputs": [],
   "source": [
    "def prefix_sums(A):\n",
    "    n = len(A)\n",
    "    P = [0] * (n+1)\n",
    "    for k in range(1,n+1):\n",
    "        P[k] = P[k-1] + A[k-1]\n",
    "    return P\n",
    "    \n",
    "def min_mean(P,i):\n",
    "    min_avg = float('inf')\n",
    "    idx = len(P)\n",
    "    for l in range(2,len(P)-i):\n",
    "        #print(i,P[i],P[i+l], (P[i+l]-P[i])/l)\n",
    "        min_tem = (P[i+l]-P[i])/l\n",
    "        if min_tem < min_avg:\n",
    "            min_avg = min_tem\n",
    "            #idx = i+1\n",
    "    return i, min_avg\n",
    "    \n",
    "def solution(A):\n",
    "    P = prefix_sums(A)\n",
    "    min_avg = float('inf')\n",
    "    min_idx = len(A)\n",
    "    for i in range(len(A)):\n",
    "        idx, avg = min_mean(P,i)\n",
    "        if avg < min_avg:\n",
    "            min_idx = idx\n",
    "            min_avg = avg\n",
    "    return min_idx"
   ]
  },
  {
   "cell_type": "code",
   "execution_count": 303,
   "metadata": {},
   "outputs": [],
   "source": [
    "A = ([4, 2, 2, 5, 1, 5, 8])\n",
    "n = len(A)"
   ]
  },
  {
   "cell_type": "code",
   "execution_count": 304,
   "metadata": {},
   "outputs": [
    {
     "data": {
      "text/plain": [
       "[0, 4, 6, 8, 13, 14, 19, 27]"
      ]
     },
     "execution_count": 304,
     "metadata": {},
     "output_type": "execute_result"
    }
   ],
   "source": [
    "P = prefix_sums(A)\n",
    "P"
   ]
  },
  {
   "cell_type": "code",
   "execution_count": 305,
   "metadata": {},
   "outputs": [
    {
     "data": {
      "text/plain": [
       "1"
      ]
     },
     "execution_count": 305,
     "metadata": {},
     "output_type": "execute_result"
    }
   ],
   "source": [
    "solution(A)"
   ]
  },
  {
   "cell_type": "markdown",
   "metadata": {},
   "source": [
    "https://app.codility.com/demo/results/trainingBMB9TU-QX3/\n",
    "\n",
    "60점 ㅠㅠ $O(N^2)$"
   ]
  },
  {
   "cell_type": "markdown",
   "metadata": {},
   "source": [
    "# PassingCars\n",
    "\n",
    "A non-empty array A consisting of N integers is given. The consecutive elements of array A represent consecutive cars on a road.\n",
    "\n",
    "Array A contains only 0s and/or 1s:\n",
    "\n",
    "* 0 represents a car traveling east,\n",
    "* 1 represents a car traveling west.\n",
    "The goal is to count passing cars. We say that a pair of cars (P, Q), where 0 ≤ P < Q < N, is passing when P is traveling to the east and Q is traveling to the west.\n",
    "\n",
    "For example, consider array A such that:\n",
    "\n",
    "    A[0] = 0\n",
    "    A[1] = 1\n",
    "    A[2] = 0\n",
    "    A[3] = 1\n",
    "    A[4] = 1\n",
    "\n",
    "We have five pairs of passing cars: (0, 1), (0, 3), (0, 4), (2, 3), (2, 4).\n",
    "\n",
    "Write a function:\n",
    "\n",
    "    def solution(A)\n",
    "\n",
    "that, given a non-empty array A of N integers, returns the number of pairs of passing cars.\n",
    "\n",
    "The function should return −1 if the number of pairs of passing cars exceeds 1,000,000,000.\n",
    "\n",
    "For example, given:\n",
    "\n",
    "    A[0] = 0\n",
    "    A[1] = 1\n",
    "    A[2] = 0\n",
    "    A[3] = 1\n",
    "    A[4] = 1\n",
    "the function should return 5, as explained above.\n",
    "\n",
    "Write an efficient algorithm for the following assumptions:\n",
    "\n",
    "* N is an integer within the range [1..100,000];\n",
    "* each element of array A is an integer that can have one of the following values: 0, 1."
   ]
  },
  {
   "cell_type": "code",
   "execution_count": 1,
   "metadata": {},
   "outputs": [],
   "source": [
    "A = [0,1,0,1,1]"
   ]
  },
  {
   "cell_type": "code",
   "execution_count": 2,
   "metadata": {},
   "outputs": [
    {
     "data": {
      "text/plain": [
       "[0, 2]"
      ]
     },
     "execution_count": 2,
     "metadata": {},
     "output_type": "execute_result"
    }
   ],
   "source": [
    "A_0 = [ind for ind in range(len(A)) if A[ind]==0]\n",
    "A_0"
   ]
  },
  {
   "cell_type": "code",
   "execution_count": 3,
   "metadata": {},
   "outputs": [
    {
     "name": "stdout",
     "output_type": "stream",
     "text": [
      "3 2 2\n",
      "5 0 0\n"
     ]
    }
   ],
   "source": [
    "bef = 0\n",
    "leng = len(A)\n",
    "for a in reversed(A_0):\n",
    "    leng += - a+ bef\n",
    "    bef = a\n",
    "    print(leng, a, bef)"
   ]
  },
  {
   "cell_type": "code",
   "execution_count": 4,
   "metadata": {},
   "outputs": [
    {
     "data": {
      "text/plain": [
       "([0, 2, 5, 7], 9)"
      ]
     },
     "execution_count": 4,
     "metadata": {},
     "output_type": "execute_result"
    }
   ],
   "source": [
    "A = [0,1,0,1,1,0,1,0,1]\n",
    "A_0 = [ind for ind in range(len(A)) if A[ind]==0]\n",
    "A_0, len(A)"
   ]
  },
  {
   "cell_type": "code",
   "execution_count": 8,
   "metadata": {},
   "outputs": [],
   "source": [
    "def solution(A):\n",
    "    # write your code in Python 3.6\n",
    "    A_0 = [ind for ind in range(len(A)) if A[ind]==0]\n",
    "    bef = len(A)\n",
    "    leng = 0\n",
    "    ans = 0 \n",
    "    for a in reversed(A_0):\n",
    "        leng = leng + bef - a - 1\n",
    "        ans += leng\n",
    "        bef = a\n",
    "    if ans >1000000000: ans = -1\n",
    "    return ans"
   ]
  },
  {
   "cell_type": "code",
   "execution_count": 7,
   "metadata": {},
   "outputs": [
    {
     "data": {
      "text/plain": [
       "12"
      ]
     },
     "execution_count": 7,
     "metadata": {},
     "output_type": "execute_result"
    }
   ],
   "source": [
    "solution(A)"
   ]
  },
  {
   "cell_type": "markdown",
   "metadata": {},
   "source": [
    "https://app.codility.com/demo/results/training2CB6BZ-GKZ/\n",
    "\n",
    "100점!"
   ]
  }
 ],
 "metadata": {
  "kernelspec": {
   "display_name": "Python 3",
   "language": "python",
   "name": "python3"
  },
  "language_info": {
   "codemirror_mode": {
    "name": "ipython",
    "version": 3
   },
   "file_extension": ".py",
   "mimetype": "text/x-python",
   "name": "python",
   "nbconvert_exporter": "python",
   "pygments_lexer": "ipython3",
   "version": "3.7.3"
  }
 },
 "nbformat": 4,
 "nbformat_minor": 4
}
