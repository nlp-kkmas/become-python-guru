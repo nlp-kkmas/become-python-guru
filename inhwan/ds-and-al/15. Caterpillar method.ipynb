{
 "cells": [
  {
   "cell_type": "markdown",
   "metadata": {},
   "source": [
    "# Chapter 15. Caterpillar method\n",
    "\n",
    "Let’s check whether a sequence $a_0, a_1, \\ldots , a_{n−1} (1 \\le a_i \\le 10^9)$ contains a contiguous subsequence whose sum of elements equals s."
   ]
  },
  {
   "cell_type": "code",
   "execution_count": 11,
   "metadata": {},
   "outputs": [],
   "source": [
    "# Caterpillar in O(n) time complexity.\n",
    "\n",
    "def caterpillarMethod(A,s):\n",
    "    n = len(A)\n",
    "    front, total = 0, 0\n",
    "    for back in range(n):\n",
    "        while (front < n and total + A[front] <= s):\n",
    "            total += A[front]\n",
    "            front += 1\n",
    "        if total == s:\n",
    "            return True\n",
    "        total -= A[back]\n",
    "    return False"
   ]
  },
  {
   "cell_type": "code",
   "execution_count": 10,
   "metadata": {},
   "outputs": [
    {
     "data": {
      "text/plain": [
       "False"
      ]
     },
     "execution_count": 10,
     "metadata": {},
     "output_type": "execute_result"
    }
   ],
   "source": [
    "A = [6,2,7,4,1,3,6]\n",
    "s = sum(A)\n",
    "caterpillarMethod(A,s)"
   ]
  },
  {
   "cell_type": "markdown",
   "metadata": {},
   "source": [
    "## 15.2. Exercise\n",
    "\n",
    "You are given n sticks (of lengths $1 \\le a_0 + \\ldots + a_{n−1} \\le 10^9)$. The goal is\n",
    "to count the number of triangles that can be constructed using these sticks. More precisely,\n",
    "we have to count the number of triplets at indices x < y < z, such that $a_x + a_y > a_z$."
   ]
  },
  {
   "cell_type": "code",
   "execution_count": 14,
   "metadata": {},
   "outputs": [],
   "source": [
    "# The number of triangles in O(n^2).\n",
    "\n",
    "def traingles(A):\n",
    "    n = len(A)\n",
    "    result = 0\n",
    "    for x in range(n):\n",
    "        z = x + 2\n",
    "        for y in range(x+1, n):\n",
    "            while (z<n and A[x] + A[y] > A[z]):\n",
    "                z += 1\n",
    "            result += z - y - 1\n",
    "    return result"
   ]
  },
  {
   "cell_type": "markdown",
   "metadata": {},
   "source": [
    "## AbsDistinct \n",
    "\n",
    "A non-empty array A consisting of N numbers is given. The array is sorted in non-decreasing order. The absolute distinct count of this array is the number of distinct absolute values among the elements of the array.\n",
    "\n",
    "For example, consider array A such that:\n",
    "\n",
    "    A[0] = -5\n",
    "    A[1] = -3\n",
    "    A[2] = -1\n",
    "    A[3] =  0\n",
    "    A[4] =  3\n",
    "    A[5] =  6\n",
    "    \n",
    "The absolute distinct count of this array is 5, because there are 5 distinct absolute values among the elements of this array, namely 0, 1, 3, 5 and 6.\n",
    "\n",
    "Write a function:\n",
    "\n",
    "    def solution(A)\n",
    "\n",
    "that, given a non-empty array A consisting of N numbers, returns absolute distinct count of array A.\n",
    "\n",
    "For example, given array A such that:\n",
    "\n",
    "    A[0] = -5\n",
    "    A[1] = -3\n",
    "    A[2] = -1\n",
    "    A[3] =  0\n",
    "    A[4] =  3\n",
    "    A[5] =  6\n",
    "    \n",
    "the function should return 5, as explained above.\n",
    "\n",
    "Write an efficient algorithm for the following assumptions:\n",
    "\n",
    "* N is an integer within the range [1..100,000];\n",
    "* each element of array A is an integer within the range [−2,147,483,648..2,147,483,647];\n",
    "* array A is sorted in non-decreasing order.\n",
    "\n",
    "https://app.codility.com/programmers/lessons/15-caterpillar_method/abs_distinct/start/"
   ]
  },
  {
   "cell_type": "code",
   "execution_count": 1,
   "metadata": {},
   "outputs": [],
   "source": [
    "A = [-5,-3,-1,0,3,6]"
   ]
  },
  {
   "cell_type": "code",
   "execution_count": 9,
   "metadata": {},
   "outputs": [],
   "source": [
    "def solution(A):\n",
    "    return len(set(map(abs,A)))"
   ]
  },
  {
   "cell_type": "code",
   "execution_count": 10,
   "metadata": {},
   "outputs": [
    {
     "data": {
      "text/plain": [
       "5"
      ]
     },
     "execution_count": 10,
     "metadata": {},
     "output_type": "execute_result"
    }
   ],
   "source": [
    "solution(A)"
   ]
  },
  {
   "cell_type": "markdown",
   "metadata": {},
   "source": [
    "https://app.codility.com/demo/results/trainingDCKCQV-HDD/\n",
    "\n",
    "100점"
   ]
  },
  {
   "cell_type": "markdown",
   "metadata": {},
   "source": [
    "## CountDistinctSlices\n",
    "\n",
    "An integer M and a non-empty array A consisting of N non-negative integers are given. All integers in array A are less than or equal to M.\n",
    "\n",
    "A pair of integers (P, Q), such that 0 ≤ P ≤ Q < N, is called a slice of array A. The slice consists of the elements A[P], A[P + 1], ..., A[Q]. A distinct slice is a slice consisting of only unique numbers. That is, no individual number occurs more than once in the slice.\n",
    "\n",
    "For example, consider integer M = 6 and array A such that:\n",
    "\n",
    "    A[0] = 3\n",
    "    A[1] = 4\n",
    "    A[2] = 5\n",
    "    A[3] = 5\n",
    "    A[4] = 2\n",
    "    \n",
    "There are exactly nine distinct slices: (0, 0), (0, 1), (0, 2), (1, 1), (1, 2), (2, 2), (3, 3), (3, 4) and (4, 4).\n",
    "\n",
    "The goal is to calculate the number of distinct slices.\n",
    "\n",
    "Write a function:\n",
    "\n",
    "    def solution(M, A)\n",
    "\n",
    "that, given an integer M and a non-empty array A consisting of N integers, returns the number of distinct slices.\n",
    "\n",
    "If the number of distinct slices is greater than 1,000,000,000, the function should return 1,000,000,000.\n",
    "\n",
    "For example, given integer M = 6 and array A such that:\n",
    "\n",
    "    A[0] = 3\n",
    "    A[1] = 4\n",
    "    A[2] = 5\n",
    "    A[3] = 5\n",
    "    A[4] = 2\n",
    "    \n",
    "the function should return 9, as explained above.\n",
    "\n",
    "Write an efficient algorithm for the following assumptions:\n",
    "\n",
    "* N is an integer within the range [1..100,000];\n",
    "* M is an integer within the range [0..100,000];\n",
    "* each element of array A is an integer within the range [0..M].\n",
    "\n",
    "https://app.codility.com/programmers/lessons/15-caterpillar_method/count_distinct_slices/start/"
   ]
  },
  {
   "cell_type": "code",
   "execution_count": 81,
   "metadata": {},
   "outputs": [],
   "source": [
    "A = [3,4,5,5,2]"
   ]
  },
  {
   "cell_type": "code",
   "execution_count": 70,
   "metadata": {},
   "outputs": [],
   "source": [
    "def solution(M, A):\n",
    "    n = len(A)\n",
    "    res = 0\n",
    "    for i in range(n):\n",
    "        for j in range(i,n):\n",
    "            if len(A[i:j+1]) == len(set(A[i:j+1])):\n",
    "                print(i,j)\n",
    "#                 print(A[i:j+1], set(A[i:j+1]))\n",
    "                res += 1\n",
    "    return res"
   ]
  },
  {
   "cell_type": "code",
   "execution_count": 71,
   "metadata": {},
   "outputs": [
    {
     "name": "stdout",
     "output_type": "stream",
     "text": [
      "0 0\n",
      "0 1\n",
      "0 2\n",
      "1 1\n",
      "1 2\n",
      "2 2\n",
      "3 3\n",
      "3 4\n",
      "4 4\n"
     ]
    },
    {
     "data": {
      "text/plain": [
       "9"
      ]
     },
     "execution_count": 71,
     "metadata": {},
     "output_type": "execute_result"
    }
   ],
   "source": [
    "solution(6,A)"
   ]
  },
  {
   "cell_type": "markdown",
   "metadata": {},
   "source": [
    "https://app.codility.com/demo/results/trainingHRFR83-AH2/\n",
    "\n",
    "50점 $O(N^3)$"
   ]
  },
  {
   "cell_type": "code",
   "execution_count": 78,
   "metadata": {},
   "outputs": [],
   "source": [
    "def solution(M, A):\n",
    "    n = len(A)\n",
    "    result = 0\n",
    "    end = 0\n",
    "    \n",
    "    for start in range(n):\n",
    "        ss = set()\n",
    "        end = start\n",
    "        while (end<n and A[end] not in ss):\n",
    "            ss.add(A[end])\n",
    "            result += 1\n",
    "            end += 1\n",
    "        ss.remove(A[start])\n",
    "    return result"
   ]
  },
  {
   "cell_type": "code",
   "execution_count": 79,
   "metadata": {},
   "outputs": [
    {
     "data": {
      "text/plain": [
       "9"
      ]
     },
     "execution_count": 79,
     "metadata": {},
     "output_type": "execute_result"
    }
   ],
   "source": [
    "solution(6,A)"
   ]
  },
  {
   "cell_type": "markdown",
   "metadata": {},
   "source": [
    "https://app.codility.com/demo/results/trainingQX3TT8-9AQ/\n",
    "\n",
    "70점 $O(N*(N+M))$"
   ]
  },
  {
   "cell_type": "code",
   "execution_count": 94,
   "metadata": {},
   "outputs": [],
   "source": [
    "def solution(M, A):\n",
    "    n = len(A)\n",
    "    result = 0\n",
    "    end = 0\n",
    "    ss = set()    \n",
    "    for start in range(n):\n",
    "        while (end<n and A[end] not in ss):\n",
    "            ss.add(A[end])\n",
    "            end += 1\n",
    "#             print(ss)\n",
    "        ss.remove(A[start])\n",
    "        result += end-start\n",
    "    return min(result,1000000000)"
   ]
  },
  {
   "cell_type": "code",
   "execution_count": 95,
   "metadata": {},
   "outputs": [
    {
     "data": {
      "text/plain": [
       "9"
      ]
     },
     "execution_count": 95,
     "metadata": {},
     "output_type": "execute_result"
    }
   ],
   "source": [
    "solution(6,A)"
   ]
  },
  {
   "cell_type": "markdown",
   "metadata": {},
   "source": [
    "https://app.codility.com/demo/results/training2FNH48-DSU/\n",
    "\n",
    "100점"
   ]
  },
  {
   "cell_type": "markdown",
   "metadata": {},
   "source": [
    "## CountTriangles\n",
    "\n",
    "An array A consisting of N integers is given. A triplet (P, Q, R) is triangular if it is possible to build a triangle with sides of lengths A[P], A[Q] and A[R]. In other words, triplet (P, Q, R) is triangular if 0 ≤ P < Q < R < N and:\n",
    "\n",
    "* A[P] + A[Q] > A[R],\n",
    "* A[Q] + A[R] > A[P],\n",
    "* A[R] + A[P] > A[Q].\n",
    "\n",
    "For example, consider array A such that:\n",
    "\n",
    "    A[0] = 10    A[1] = 2    A[2] = 5\n",
    "    A[3] = 1     A[4] = 8    A[5] = 12\n",
    "\n",
    "There are four triangular triplets that can be constructed from elements of this array, namely (0, 2, 4), (0, 2, 5), (0, 4, 5), and (2, 4, 5).\n",
    "\n",
    "Write a function:\n",
    "\n",
    "    def solution(A)\n",
    "\n",
    "that, given an array A consisting of N integers, returns the number of triangular triplets in this array.\n",
    "\n",
    "For example, given array A such that:\n",
    "\n",
    "    A[0] = 10    A[1] = 2    A[2] = 5\n",
    "    A[3] = 1     A[4] = 8    A[5] = 12\n",
    "\n",
    "the function should return 4, as explained above.\n",
    "\n",
    "Write an efficient algorithm for the following assumptions:\n",
    "\n",
    "* N is an integer within the range [0..1,000];\n",
    "* each element of array A is an integer within the range [1..1,000,000,000].\n",
    "\n",
    "https://app.codility.com/programmers/lessons/15-caterpillar_method/count_triangles/start/"
   ]
  },
  {
   "cell_type": "code",
   "execution_count": 50,
   "metadata": {},
   "outputs": [],
   "source": [
    "A = [10,2,5,1,8,12]"
   ]
  },
  {
   "cell_type": "code",
   "execution_count": 61,
   "metadata": {},
   "outputs": [
    {
     "data": {
      "text/plain": [
       "[1, 2, 5, 8, 10, 12]"
      ]
     },
     "execution_count": 61,
     "metadata": {},
     "output_type": "execute_result"
    }
   ],
   "source": [
    "sorted(A)"
   ]
  },
  {
   "cell_type": "code",
   "execution_count": 62,
   "metadata": {},
   "outputs": [],
   "source": [
    "# The number of triangles in O(n^2).\n",
    "\n",
    "def solution(A):\n",
    "    n = len(A)\n",
    "    A = sorted(A)\n",
    "    result = 0\n",
    "    for x in range(n):\n",
    "        z = x + 2\n",
    "        for y in range(x+1, n):\n",
    "            while (z<n and A[x] + A[y] > A[z]):\n",
    "                z += 1\n",
    "            result += z - y - 1\n",
    "    return result"
   ]
  },
  {
   "cell_type": "code",
   "execution_count": 59,
   "metadata": {},
   "outputs": [
    {
     "data": {
      "text/plain": [
       "4"
      ]
     },
     "execution_count": 59,
     "metadata": {},
     "output_type": "execute_result"
    }
   ],
   "source": [
    "solution(A)"
   ]
  },
  {
   "cell_type": "markdown",
   "metadata": {},
   "source": [
    "https://app.codility.com/demo/results/trainingFZK8MM-NZ9/\n",
    "\n",
    "100점"
   ]
  },
  {
   "cell_type": "markdown",
   "metadata": {},
   "source": [
    "## MinAbsSumOfTwo\n",
    "\n",
    "Let A be a non-empty array consisting of N integers.\n",
    "\n",
    "The abs sum of two for a pair of indices (P, Q) is the absolute value |A[P] + A[Q]|, for 0 ≤ P ≤ Q < N.\n",
    "\n",
    "For example, the following array A:\n",
    "\n",
    "    A[0] =  1\n",
    "    A[1] =  4\n",
    "    A[2] = -3\n",
    "    \n",
    "has pairs of indices (0, 0), (0, 1), (0, 2), (1, 1), (1, 2), (2, 2).\n",
    "\n",
    "* The abs sum of two for the pair (0, 0) is A[0] + A[0] = |1 + 1| = 2.\n",
    "* The abs sum of two for the pair (0, 1) is A[0] + A[1] = |1 + 4| = 5.\n",
    "* The abs sum of two for the pair (0, 2) is A[0] + A[2] = |1 + (−3)| = 2.\n",
    "* The abs sum of two for the pair (1, 1) is A[1] + A[1] = |4 + 4| = 8.\n",
    "* The abs sum of two for the pair (1, 2) is A[1] + A[2] = |4 + (−3)| = 1.\n",
    "* The abs sum of two for the pair (2, 2) is A[2] + A[2] = |(−3) + (−3)| = 6.\n",
    "\n",
    "Write a function:\n",
    "\n",
    "    def solution(A)\n",
    "\n",
    "that, given a non-empty array A consisting of N integers, returns the minimal abs sum of two for any pair of indices in this array.\n",
    "\n",
    "For example, given the following array A:\n",
    "\n",
    "    A[0] =  1\n",
    "    A[1] =  4\n",
    "    A[2] = -3\n",
    "\n",
    "the function should return 1, as explained above.\n",
    "\n",
    "Given array A:\n",
    "\n",
    "    A[0] = -8\n",
    "    A[1] =  4\n",
    "    A[2] =  5\n",
    "    A[3] =-10\n",
    "    A[4] =  3\n",
    "\n",
    "the function should return |(−8) + 5| = 3.\n",
    "\n",
    "Write an efficient algorithm for the following assumptions:\n",
    "\n",
    "* N is an integer within the range [1..100,000];\n",
    "* each element of array A is an integer within the range [−1,000,000,000..1,000,000,000].\n",
    "\n",
    "https://app.codility.com/programmers/lessons/15-caterpillar_method/min_abs_sum_of_two/start/"
   ]
  },
  {
   "cell_type": "code",
   "execution_count": 2,
   "metadata": {},
   "outputs": [],
   "source": [
    "A = [-8,4,5,-10,3]"
   ]
  },
  {
   "cell_type": "code",
   "execution_count": 48,
   "metadata": {},
   "outputs": [],
   "source": [
    "def solution(A):\n",
    "    n = len(A)\n",
    "    m = float('infinity')\n",
    "    for i in range(n):\n",
    "        for j in range(i, n):\n",
    "            m = min(m, abs(A[i]+A[j]))\n",
    "    return m"
   ]
  },
  {
   "cell_type": "code",
   "execution_count": 49,
   "metadata": {},
   "outputs": [
    {
     "data": {
      "text/plain": [
       "3"
      ]
     },
     "execution_count": 49,
     "metadata": {},
     "output_type": "execute_result"
    }
   ],
   "source": [
    "solution(A)"
   ]
  },
  {
   "cell_type": "markdown",
   "metadata": {},
   "source": [
    "https://app.codility.com/demo/results/trainingF7QGAP-CCE/\n",
    "\n",
    "36점"
   ]
  },
  {
   "cell_type": "code",
   "execution_count": 99,
   "metadata": {},
   "outputs": [],
   "source": [
    "def solution(A):\n",
    "    n = len(A)\n",
    "    if n == 1:\n",
    "        return abs(2*A[0])\n",
    "    A = sorted(A)\n",
    "    if A[0]>=0:\n",
    "        return 2*A[0]\n",
    "    elif A[-1]<0:\n",
    "        return -2*A[-1]\n",
    "    m = float('infinity')\n",
    "    for i in range(n):\n",
    "        for j in range(i, n):\n",
    "            m = min(m, abs(A[i]+A[j]))\n",
    "    return m"
   ]
  },
  {
   "cell_type": "markdown",
   "metadata": {},
   "source": [
    "https://app.codility.com/demo/results/training9X7HMC-FR8/\n",
    "\n",
    "45점"
   ]
  },
  {
   "cell_type": "code",
   "execution_count": 101,
   "metadata": {},
   "outputs": [],
   "source": [
    "A_s = sorted(A)"
   ]
  },
  {
   "cell_type": "code",
   "execution_count": 103,
   "metadata": {},
   "outputs": [
    {
     "data": {
      "text/plain": [
       "[3, 4, 5]"
      ]
     },
     "execution_count": 103,
     "metadata": {},
     "output_type": "execute_result"
    }
   ],
   "source": [
    "A_p = [a for a in A_s if a > 0]\n",
    "A_p"
   ]
  },
  {
   "cell_type": "code",
   "execution_count": 1,
   "metadata": {},
   "outputs": [],
   "source": [
    "def solution(A):\n",
    "    n = len(A)\n",
    "    if n == 1:\n",
    "        return abs(2*A[0])\n",
    "    A = sorted(A)\n",
    "    if A[0]>=0:\n",
    "        return 2*A[0]\n",
    "    elif A[-1]<0:\n",
    "        return -2*A[-1]\n",
    "    m = abs(2*A[-1])\n",
    "    start = 0\n",
    "    end = len(A)-1\n",
    "    while start <= end:\n",
    "        ab = abs(A[start]+A[end])\n",
    "        if ab < m:\n",
    "            m = ab\n",
    "        \n",
    "        if start==end: break\n",
    "        elif abs(A[start+1]+A[end])<= ab: start+=1\n",
    "        elif abs(A[start]+A[end-1])<= ab: end-=1\n",
    "        else:\n",
    "            start+=1\n",
    "            end -=1\n",
    "    return m"
   ]
  },
  {
   "cell_type": "code",
   "execution_count": 3,
   "metadata": {},
   "outputs": [
    {
     "data": {
      "text/plain": [
       "3"
      ]
     },
     "execution_count": 3,
     "metadata": {},
     "output_type": "execute_result"
    }
   ],
   "source": [
    "solution(A)"
   ]
  },
  {
   "cell_type": "markdown",
   "metadata": {},
   "source": [
    "https://app.codility.com/demo/results/trainingCGUUBH-6FK/\n",
    "\n",
    "100점"
   ]
  }
 ],
 "metadata": {
  "kernelspec": {
   "display_name": "Python 3",
   "language": "python",
   "name": "python3"
  },
  "language_info": {
   "codemirror_mode": {
    "name": "ipython",
    "version": 3
   },
   "file_extension": ".py",
   "mimetype": "text/x-python",
   "name": "python",
   "nbconvert_exporter": "python",
   "pygments_lexer": "ipython3",
   "version": "3.7.3"
  }
 },
 "nbformat": 4,
 "nbformat_minor": 4
}
