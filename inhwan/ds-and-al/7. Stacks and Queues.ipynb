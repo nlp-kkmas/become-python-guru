{
 "cells": [
  {
   "cell_type": "markdown",
   "metadata": {},
   "source": [
    "# 7.1. Stack\n",
    "\n",
    "The stack is a basic data structure in which the insertion of new elements takes place at the top and deletion of elements also takes place from the top."
   ]
  },
  {
   "cell_type": "code",
   "execution_count": 1,
   "metadata": {},
   "outputs": [],
   "source": [
    "# Push / pop function - O(1)\n",
    "N = 10\n",
    "stack = [0] * N\n",
    "size = 0\n",
    "def push(x):\n",
    "    global size\n",
    "    stack[size] = x\n",
    "    size += 1\n",
    "def pop():\n",
    "    global size\n",
    "    size -= 1\n",
    "    return stack[size]"
   ]
  },
  {
   "cell_type": "markdown",
   "metadata": {},
   "source": [
    "# 7.2. Queue\n",
    "\n",
    "The queue is a basic data structure in which new elements are inserted at the back but old elements are removed from the front."
   ]
  },
  {
   "cell_type": "code",
   "execution_count": null,
   "metadata": {},
   "outputs": [],
   "source": [
    "# Push / pop / size / empty fucntion - O(1)\n",
    "N = 10\n",
    "queue = [0] * N\n",
    "head, tail = 0, 0\n",
    "def push(x):\n",
    "    global tail\n",
    "    tail = (tail+1) % N\n",
    "    queue[tail] = x\n",
    "def pop():\n",
    "    global head\n",
    "    head = (head +1) % N\n",
    "    return queue[head]\n",
    "def size():\n",
    "    return (tail - head + N) % N\n",
    "def empty():\n",
    "    return head == tail"
   ]
  },
  {
   "cell_type": "markdown",
   "metadata": {},
   "source": [
    "The push function adds an element to the queue. The pop function removes and returns an element from the front of the queue (we shouldn’t perform a pop operation on an empty queue). The empty function check whether the queue is empty and the size function returns the number of elements in the queue."
   ]
  },
  {
   "cell_type": "markdown",
   "metadata": {},
   "source": [
    "# 7.3. Exercises\n",
    "\n",
    "You are given a zero-indexed array A consisting of n integers: $a_0, a_1, \\ldots, a_{n−1}$. Array $A$ represents a scenario in a grocery store, and contains only $0$s and/or $1$s:\n",
    "\n",
    "* 0 represents the action of a new person joining the line in the grocery store,\n",
    "* 1 represents the action of the person at the front of the queue being served and leaving the line.\n",
    "\n",
    "The goal is to count the minimum number of people who should have been in the line before the above scenario, so that the scenario is possible (it is not possible to serve a person if the line is empty)."
   ]
  },
  {
   "cell_type": "code",
   "execution_count": null,
   "metadata": {},
   "outputs": [],
   "source": [
    "def grocery_store(A):\n",
    "    n = len(A)\n",
    "    size, result = 0, 0\n",
    "    for i in range(n):\n",
    "        if A[i] == 0:\n",
    "            size += 1\n",
    "        else:\n",
    "            size -=  1\n",
    "            result = max(result, -size)\n",
    "    return result"
   ]
  },
  {
   "cell_type": "markdown",
   "metadata": {},
   "source": [
    "# Brackets\n",
    "\n",
    "A string S consisting of N characters is considered to be properly nested if any of the following conditions is true:\n",
    "\n",
    "* S is empty;\n",
    "* S has the form \"(U)\" or \"[U]\" or \"{U}\" where U is a properly nested string;\n",
    "* S has the form \"VW\" where V and W are properly nested strings.\n",
    "\n",
    "For example, the string \"{[()()]}\" is properly nested but \"([)()]\" is not.\n",
    "\n",
    "Write a function:\n",
    "\n",
    "    def solution(S)\n",
    "\n",
    "that, given a string S consisting of N characters, returns 1 if S is properly nested and 0 otherwise.\n",
    "\n",
    "For example, given S = \"{[()()]}\", the function should return 1 and given S = \"([)()]\", the function should return 0, as explained above.\n",
    "\n",
    "Write an efficient algorithm for the following assumptions:\n",
    "\n",
    "* N is an integer within the range [0..200,000];\n",
    "* string S consists only of the following characters: \"(\", \"{\", \"[\", \"]\", \"}\" and/or \")\"."
   ]
  },
  {
   "cell_type": "markdown",
   "metadata": {},
   "source": [
    "일단 처음 두 경우만 발생한다고 가정하자."
   ]
  },
  {
   "cell_type": "code",
   "execution_count": 4,
   "metadata": {},
   "outputs": [
    {
     "data": {
      "text/plain": [
       "8"
      ]
     },
     "execution_count": 4,
     "metadata": {},
     "output_type": "execute_result"
    }
   ],
   "source": [
    "S = \"{[()()]}\"\n",
    "len(S)"
   ]
  },
  {
   "cell_type": "code",
   "execution_count": 15,
   "metadata": {},
   "outputs": [
    {
     "name": "stdout",
     "output_type": "stream",
     "text": [
      "( 40\n",
      "{ 123\n",
      "[ 91\n",
      "] 93\n",
      "} 125\n",
      ") 41\n"
     ]
    }
   ],
   "source": [
    "sym = [\"(\", \"{\", \"[\", \"]\", \"}\",\")\"]\n",
    "for sym in sym:\n",
    "    print(sym,ord(sym))"
   ]
  },
  {
   "cell_type": "code",
   "execution_count": 8,
   "metadata": {},
   "outputs": [
    {
     "data": {
      "text/plain": [
       "('{', '}', '[()()]')"
      ]
     },
     "execution_count": 8,
     "metadata": {},
     "output_type": "execute_result"
    }
   ],
   "source": [
    "S[0],S[len(S)-1],S[1:len(S)-1]"
   ]
  },
  {
   "cell_type": "code",
   "execution_count": 34,
   "metadata": {},
   "outputs": [],
   "source": [
    "def sub_sol(S):\n",
    "    #sym_pairs=[{'(',')'},{'{','}'},{'[',']'}]\n",
    "    \n",
    "    # 첫번째 경우\n",
    "    if len(S)==0: return 1\n",
    "    \n",
    "    def reduction(S):\n",
    "        sym_pairs={['(',')'],['{','}'],['[',']']}\n",
    "        if {S[0],S[len(S)-1]} not in sym_pairs: return 0\n",
    "        else: return S[1:len(S)-1]\n",
    "        \n",
    "    while True:\n",
    "        S = reduction(S)\n",
    "        if S == 0: return 0\n",
    "        elif len(S)==0: return 1"
   ]
  },
  {
   "cell_type": "code",
   "execution_count": 18,
   "metadata": {},
   "outputs": [
    {
     "data": {
      "text/plain": [
       "1"
      ]
     },
     "execution_count": 18,
     "metadata": {},
     "output_type": "execute_result"
    }
   ],
   "source": [
    "sub_sol(S)"
   ]
  },
  {
   "cell_type": "code",
   "execution_count": 19,
   "metadata": {},
   "outputs": [
    {
     "data": {
      "text/plain": [
       "0"
      ]
     },
     "execution_count": 19,
     "metadata": {},
     "output_type": "execute_result"
    }
   ],
   "source": [
    "sub_sol(\"([)()]\")"
   ]
  },
  {
   "cell_type": "code",
   "execution_count": 31,
   "metadata": {},
   "outputs": [],
   "source": [
    "def solution(S):\n",
    "    if len(S)==0: return 1\n",
    "    elif len(S) % 2 == 1: return 0\n",
    "    \n",
    "    for i in range(0,len(S),2):\n",
    "        if sub_sol(S[:i]) ==1 and sub_sol(S[i:])==1: return 1\n",
    "        \n",
    "    return 0"
   ]
  },
  {
   "cell_type": "code",
   "execution_count": 32,
   "metadata": {},
   "outputs": [
    {
     "data": {
      "text/plain": [
       "1"
      ]
     },
     "execution_count": 32,
     "metadata": {},
     "output_type": "execute_result"
    }
   ],
   "source": [
    "solution(S)"
   ]
  },
  {
   "cell_type": "code",
   "execution_count": 30,
   "metadata": {},
   "outputs": [
    {
     "name": "stdout",
     "output_type": "stream",
     "text": [
      " , {[()()]}\n",
      "{[ , ()()]}\n",
      "{[() , ()]}\n",
      "{[()() , ]}\n"
     ]
    }
   ],
   "source": [
    "for i in range(0,len(S),2):\n",
    "    print(S[:i],\",\",S[i:])"
   ]
  },
  {
   "cell_type": "code",
   "execution_count": 33,
   "metadata": {},
   "outputs": [
    {
     "data": {
      "text/plain": [
       "0"
      ]
     },
     "execution_count": 33,
     "metadata": {},
     "output_type": "execute_result"
    }
   ],
   "source": [
    "solution(\"([)()]\")"
   ]
  },
  {
   "cell_type": "markdown",
   "metadata": {},
   "source": [
    "이 방법으론 망한듯... 스택을 써보자."
   ]
  },
  {
   "cell_type": "code",
   "execution_count": 38,
   "metadata": {},
   "outputs": [],
   "source": [
    "def solution(S):\n",
    "    #if len(S)==0: return 1\n",
    "    stack = []\n",
    "    for s in S:\n",
    "        if s in ('(','[','{'):\n",
    "            stack.append(s)\n",
    "        else:\n",
    "            if len(stack) == 0: return 0 # 0일떄는 무조건 왼쪽것만 허용\n",
    "            item = stack.pop() # 하나 뽑음\n",
    "            if item == '{':\n",
    "                if s != '}':\n",
    "                    return 0\n",
    "            elif item == '[':\n",
    "                if s != ']':\n",
    "                    return 0\n",
    "            elif item == '(':\n",
    "                if s != ')':\n",
    "                    return 0\n",
    "                \n",
    "    if len(stack) > 0 :\n",
    "        return 0\n",
    "    return 1"
   ]
  },
  {
   "cell_type": "markdown",
   "metadata": {},
   "source": [
    "핵심은 가장 안쪽엔 `()` 나 `{}` 나 `[]` 가 있어야 한다는 것"
   ]
  },
  {
   "cell_type": "code",
   "execution_count": 39,
   "metadata": {},
   "outputs": [
    {
     "data": {
      "text/plain": [
       "1"
      ]
     },
     "execution_count": 39,
     "metadata": {},
     "output_type": "execute_result"
    }
   ],
   "source": [
    "solution(S)"
   ]
  },
  {
   "cell_type": "markdown",
   "metadata": {},
   "source": [
    "https://app.codility.com/demo/results/trainingGU9WRZ-JT8/\n",
    "\n",
    "100점!"
   ]
  },
  {
   "cell_type": "markdown",
   "metadata": {},
   "source": [
    "# Fish\n",
    "\n",
    "You are given two non-empty arrays A and B consisting of N integers. Arrays A and B represent N voracious fish in a river, ordered downstream along the flow of the river.\n",
    "\n",
    "The fish are numbered from 0 to N − 1. If P and Q are two fish and P < Q, then fish P is initially upstream of fish Q. Initially, each fish has a unique position.\n",
    "\n",
    "Fish number P is represented by A[P] and B[P]. Array A contains the sizes of the fish. All its elements are unique. Array B contains the directions of the fish. It contains only 0s and/or 1s, where:\n",
    "\n",
    "* 0 represents a fish flowing upstream,\n",
    "* 1 represents a fish flowing downstream.\n",
    "\n",
    "If two fish move in opposite directions and there are no other (living) fish between them, they will eventually meet each other. Then only one fish can stay alive − the larger fish eats the smaller one. More precisely, we say that two fish P and Q meet each other when P < Q, B[P] = 1 and B[Q] = 0, and there are no living fish between them. After they meet:\n",
    "\n",
    "* If A[P] > A[Q] then P eats Q, and P will still be flowing downstream,\n",
    "* If A[Q] > A[P] then Q eats P, and Q will still be flowing upstream.\n",
    "\n",
    "We assume that all the fish are flowing at the same speed. That is, fish moving in the same direction never meet. The goal is to calculate the number of fish that will stay alive.\n",
    "\n",
    "For example, consider arrays A and B such that:\n",
    "\n",
    "    A[0] = 4    B[0] = 0\n",
    "    A[1] = 3    B[1] = 1\n",
    "    A[2] = 2    B[2] = 0\n",
    "    A[3] = 1    B[3] = 0\n",
    "    A[4] = 5    B[4] = 0\n",
    "\n",
    "Initially all the fish are alive and all except fish number 1 are moving upstream. Fish number 1 meets fish number 2 and eats it, then it meets fish number 3 and eats it too. Finally, it meets fish number 4 and is eaten by it. The remaining two fish, number 0 and 4, never meet and therefore stay alive.\n",
    "\n",
    "Write a function:\n",
    "\n",
    "    def solution(A, B)\n",
    "\n",
    "that, given two non-empty arrays A and B consisting of N integers, returns the number of fish that will stay alive.\n",
    "\n",
    "For example, given the arrays shown above, the function should return 2, as explained above.\n",
    "\n",
    "Write an efficient algorithm for the following assumptions:\n",
    "\n",
    "* N is an integer within the range [1..100,000];\n",
    "* each element of array A is an integer within the range [0..1,000,000,000];\n",
    "* each element of array B is an integer that can have one of the following values: 0, 1;\n",
    "* the elements of A are all distinct."
   ]
  },
  {
   "cell_type": "code",
   "execution_count": 43,
   "metadata": {},
   "outputs": [],
   "source": [
    "A = [4,3,2,1,5]\n",
    "B = [0,1,0,0,0]"
   ]
  },
  {
   "cell_type": "markdown",
   "metadata": {},
   "source": [
    "초딩 풀이 간다"
   ]
  },
  {
   "cell_type": "code",
   "execution_count": 48,
   "metadata": {},
   "outputs": [],
   "source": [
    "def solution(A,B):\n",
    "    ans = len(A)\n",
    "    for i in range(len(A)):\n",
    "        if B[i]==1:\n",
    "            for j in range(i+1,len(A)):\n",
    "                if B[j] == 0 and A[j]>A[i]: \n",
    "                    ans -= 1\n",
    "                    break\n",
    "                elif B[j] == 0: ans -= 1\n",
    "    return ans"
   ]
  },
  {
   "cell_type": "markdown",
   "metadata": {},
   "source": [
    "https://app.codility.com/demo/results/trainingS93X2J-JNB/\n",
    "\n",
    "12점\n",
    "\n",
    "뭐가 잘못됐을까?"
   ]
  },
  {
   "cell_type": "code",
   "execution_count": 75,
   "metadata": {},
   "outputs": [],
   "source": [
    "A = [1,7,3,4,5,6,9]\n",
    "B = [0,1,0,1,0,1,0]"
   ]
  },
  {
   "cell_type": "code",
   "execution_count": 76,
   "metadata": {},
   "outputs": [
    {
     "data": {
      "text/plain": [
       "2"
      ]
     },
     "execution_count": 76,
     "metadata": {},
     "output_type": "execute_result"
    }
   ],
   "source": [
    "solution(A,B)"
   ]
  },
  {
   "cell_type": "markdown",
   "metadata": {},
   "source": [
    "# Nesting\n",
    "\n",
    "A string S consisting of N characters is called properly nested if:\n",
    "\n",
    "* S is empty;\n",
    "* S has the form \"(U)\" where U is a properly nested string;\n",
    "* S has the form \"VW\" where V and W are properly nested strings.\n",
    "\n",
    "For example, string \"(()(())())\" is properly nested but string \"())\" isn't.\n",
    "\n",
    "Write a function:\n",
    "\n",
    "    def solution(S)\n",
    "\n",
    "that, given a string S consisting of N characters, returns 1 if string S is properly nested and 0 otherwise.\n",
    "\n",
    "For example, given S = \"(()(())())\", the function should return 1 and given S = \"())\", the function should return 0, as explained above.\n",
    "\n",
    "Write an efficient algorithm for the following assumptions:\n",
    "\n",
    "* N is an integer within the range [0..1,000,000];\n",
    "* string S consists only of the characters \"(\" and/or \")\"."
   ]
  },
  {
   "cell_type": "code",
   "execution_count": 40,
   "metadata": {},
   "outputs": [],
   "source": [
    "def solution(S):\n",
    "    #if len(S)==0: return 1\n",
    "    stack = []\n",
    "    for s in S:\n",
    "        if s in ('('):\n",
    "            stack.append(s)\n",
    "        else:\n",
    "            if len(stack) == 0: return 0 # 0일떄는 무조건 왼쪽것만 허용\n",
    "            item = stack.pop() # 하나 뽑음\n",
    "            if item == '(':\n",
    "                if s != ')':\n",
    "                    return 0\n",
    "                \n",
    "    if len(stack) > 0 :\n",
    "        return 0\n",
    "    return 1"
   ]
  },
  {
   "cell_type": "code",
   "execution_count": 41,
   "metadata": {},
   "outputs": [
    {
     "data": {
      "text/plain": [
       "1"
      ]
     },
     "execution_count": 41,
     "metadata": {},
     "output_type": "execute_result"
    }
   ],
   "source": [
    "S = \"(()(())())\"\n",
    "solution(S)"
   ]
  },
  {
   "cell_type": "code",
   "execution_count": 42,
   "metadata": {},
   "outputs": [
    {
     "data": {
      "text/plain": [
       "0"
      ]
     },
     "execution_count": 42,
     "metadata": {},
     "output_type": "execute_result"
    }
   ],
   "source": [
    "S = \"())\"\n",
    "solution(S)"
   ]
  },
  {
   "cell_type": "markdown",
   "metadata": {},
   "source": [
    "https://app.codility.com/demo/results/trainingXXXVTS-P3X/\n",
    "\n",
    "이건 대체 왜 나온거지... 100점"
   ]
  },
  {
   "cell_type": "markdown",
   "metadata": {},
   "source": [
    "# StoneWall\n",
    "\n",
    "You are going to build a stone wall. The wall should be straight and N meters long, and its thickness should be constant; however, it should have different heights in different places. The height of the wall is specified by an array H of N positive integers. H[I] is the height of the wall from I to I+1 meters to the right of its left end. In particular, H[0] is the height of the wall's left end and H[N−1] is the height of the wall's right end.\n",
    "\n",
    "The wall should be built of cuboid stone blocks (that is, all sides of such blocks are rectangular). Your task is to compute the minimum number of blocks needed to build the wall.\n",
    "\n",
    "Write a function:\n",
    "\n",
    "    def solution(H)\n",
    "\n",
    "that, given an array H of N positive integers specifying the height of the wall, returns the minimum number of blocks needed to build it.\n",
    "\n",
    "For example, given array H containing N = 9 integers:\n",
    "\n",
    "    H[0] = 8    H[1] = 8    H[2] = 5\n",
    "    H[3] = 7    H[4] = 9    H[5] = 8\n",
    "    H[6] = 7    H[7] = 4    H[8] = 8\n",
    "    \n",
    "the function should return 7. The figure shows one possible arrangement of seven blocks.\n",
    "\n",
    "<img src='https://codility-frontend-prod.s3.amazonaws.com/media/task_static/stone_wall/static/images/auto/4f1cef49cc46d451e88109d449ab7975.png'  style=\"background-color:white;padding:20px;\">\n",
    "\n",
    "Write an efficient algorithm for the following assumptions:\n",
    "\n",
    "* N is an integer within the range [1..100,000];\n",
    "* each element of array H is an integer within the range [1..1,000,000,000]."
   ]
  },
  {
   "cell_type": "code",
   "execution_count": null,
   "metadata": {},
   "outputs": [],
   "source": []
  }
 ],
 "metadata": {
  "kernelspec": {
   "display_name": "Python 3",
   "language": "python",
   "name": "python3"
  },
  "language_info": {
   "codemirror_mode": {
    "name": "ipython",
    "version": 3
   },
   "file_extension": ".py",
   "mimetype": "text/x-python",
   "name": "python",
   "nbconvert_exporter": "python",
   "pygments_lexer": "ipython3",
   "version": "3.7.3"
  }
 },
 "nbformat": 4,
 "nbformat_minor": 4
}
