{
 "cells": [
  {
   "cell_type": "markdown",
   "metadata": {},
   "source": [
    "# 3.1 Experimental Studies\n",
    "\n",
    "별 거 없음...\n",
    "\n",
    "# 3.2 The Seven Functions Used in This Book\n",
    "\n",
    "역시나 별 거 없음..."
   ]
  },
  {
   "cell_type": "markdown",
   "metadata": {},
   "source": [
    "# 3.3 Asymptotic Analysis\n",
    "\n",
    "Let $f(n)$ and $g(n)$ be functions mapping positive integers to positive real numbers. \n",
    "\n",
    "1. We say that $f(n)$ is $O(g(n))$ if there is a real constant $c >0$ and an integer constant $n_o \\ge 1$ such that \n",
    "$$ f(n) \\le cg(n)\\quad \\text{for }~ n\\ge n_o.$$\n",
    "\n",
    "1. We say that $f(n)$ is $\\Omega(g(n))$ if $g(n)$ is $O(f(n))$.\n",
    "\n",
    "1. We say that $f(n)$ is $\\Theta(g(n))$ if $f(n)$ is $O(g(n))$ and $f(n)$ is $\\Omega(g(n))$.\n",
    "\n",
    "## 3.3.3 Examples of Algorithm Analysis\n",
    "\n",
    "for a list `data`,\n",
    "\n",
    "* `len(data)` is $O(1)$.\n",
    "* `data[j]` is $O(1)$.\n",
    "* `max(data)` is $O(n)$ ($n$ = len(data)).\n",
    "\n",
    "### Further Analysis of the Maximum-Finding Algorithm\n",
    "\n",
    "주어진 데이터가 랜덤으로 섞여있을 경우를 생각해보자. 이때 $j$번째 원소가 처음 $j$개의 원소 중 가장 클 확률은 $1/j$ 이다. 따라서 가장 큰 원소를 업데이트할 확률은 $H_n = \\sum_j 1/j$, 즉 조화수이다. 그리고 $H_n = O(\\log n)$ 임은 자명하다."
   ]
  },
  {
   "cell_type": "markdown",
   "metadata": {},
   "source": [
    "### Prefix Averages\n",
    "\n",
    "길이가 $n$인 수열 $S$가 주어져있을 때, 수열 $A$를 다음과 같이 정의하자.\n",
    "$$A[j] = \\frac{\\sum_{i=0}^j S[i]}{j+1}.$$\n",
    "이 수열을 구하는 알고리즘을 다음 세 방법을 통해 해결해보자."
   ]
  },
  {
   "cell_type": "code",
   "execution_count": 1,
   "metadata": {},
   "outputs": [],
   "source": [
    "def method1(S):\n",
    "    n = len(S)\n",
    "    A = [0] * n\n",
    "    for j in range(n):\n",
    "        total = 0\n",
    "        for i in range(j+1):\n",
    "            total += S[i]\n",
    "        A[j] = total/(j+1)\n",
    "    return A"
   ]
  },
  {
   "cell_type": "markdown",
   "metadata": {},
   "source": [
    "이렇게 정의한 함수는 당연히 $O(n^2)$ 이다."
   ]
  },
  {
   "cell_type": "code",
   "execution_count": 2,
   "metadata": {},
   "outputs": [],
   "source": [
    "def method2(S):\n",
    "    n = len(S)\n",
    "    A = [0] * n\n",
    "    for j in range(n):\n",
    "        A[j] = sum(S[0:j+1])/(j+1)\n",
    "    return A"
   ]
  },
  {
   "cell_type": "markdown",
   "metadata": {},
   "source": [
    "얘는 좀 나아보이지만, 사실은 `sum(S[0:j+1])` 또한 $O(j+1)$이므로 똑같은 $O(n^2)$ 다."
   ]
  },
  {
   "cell_type": "code",
   "execution_count": 3,
   "metadata": {},
   "outputs": [],
   "source": [
    "def method3(S):\n",
    "    n = len(S)\n",
    "    A = [0] * n\n",
    "    total = 0\n",
    "    for j in range(n):\n",
    "        total += S[j]\n",
    "        A[j] = total / (j+1)\n",
    "    return A"
   ]
  },
  {
   "cell_type": "markdown",
   "metadata": {},
   "source": [
    "얘는 `total`을 매번 갱신하는 아이디어로 인해 $O(n)$이다!\n",
    "\n",
    "과연 실제로 그런지 검증해보자."
   ]
  },
  {
   "cell_type": "code",
   "execution_count": 4,
   "metadata": {},
   "outputs": [],
   "source": [
    "import numpy as np\n",
    "S = np.random.randn(1000)\n",
    "L = np.random.randn(10000)"
   ]
  },
  {
   "cell_type": "code",
   "execution_count": 5,
   "metadata": {},
   "outputs": [],
   "source": [
    "S_ans1 = method1(S)\n",
    "S_ans2 = method2(S)\n",
    "S_ans3 = method3(S)\n",
    "L_ans1 = method1(L)\n",
    "L_ans2 = method2(L)\n",
    "L_ans3 = method3(L)"
   ]
  },
  {
   "cell_type": "code",
   "execution_count": 6,
   "metadata": {},
   "outputs": [
    {
     "data": {
      "text/plain": [
       "True"
      ]
     },
     "execution_count": 6,
     "metadata": {},
     "output_type": "execute_result"
    }
   ],
   "source": [
    "S_ans1[:5] == S_ans2[:5] == S_ans3[:5]"
   ]
  },
  {
   "cell_type": "code",
   "execution_count": 7,
   "metadata": {},
   "outputs": [
    {
     "data": {
      "text/plain": [
       "True"
      ]
     },
     "execution_count": 7,
     "metadata": {},
     "output_type": "execute_result"
    }
   ],
   "source": [
    "L_ans1[:5] == L_ans2[:5] == L_ans3[:5]"
   ]
  },
  {
   "cell_type": "code",
   "execution_count": 27,
   "metadata": {},
   "outputs": [
    {
     "name": "stdout",
     "output_type": "stream",
     "text": [
      "71.1 ms ± 107 µs per loop (mean ± std. dev. of 7 runs, 10 loops each)\n"
     ]
    }
   ],
   "source": [
    "%%timeit\n",
    "method1(S)"
   ]
  },
  {
   "cell_type": "code",
   "execution_count": 28,
   "metadata": {},
   "outputs": [
    {
     "name": "stdout",
     "output_type": "stream",
     "text": [
      "51.8 ms ± 58.4 µs per loop (mean ± std. dev. of 7 runs, 10 loops each)\n"
     ]
    }
   ],
   "source": [
    "%%timeit\n",
    "method2(S)"
   ]
  },
  {
   "cell_type": "code",
   "execution_count": 29,
   "metadata": {},
   "outputs": [
    {
     "name": "stdout",
     "output_type": "stream",
     "text": [
      "348 µs ± 315 ns per loop (mean ± std. dev. of 7 runs, 1000 loops each)\n"
     ]
    }
   ],
   "source": [
    "%%timeit\n",
    "method3(S)"
   ]
  },
  {
   "cell_type": "code",
   "execution_count": 30,
   "metadata": {},
   "outputs": [
    {
     "name": "stdout",
     "output_type": "stream",
     "text": [
      "7.1 s ± 5.02 ms per loop (mean ± std. dev. of 7 runs, 1 loop each)\n"
     ]
    }
   ],
   "source": [
    "%%timeit\n",
    "method1(L)"
   ]
  },
  {
   "cell_type": "code",
   "execution_count": 31,
   "metadata": {},
   "outputs": [
    {
     "name": "stdout",
     "output_type": "stream",
     "text": [
      "5.05 s ± 4.61 ms per loop (mean ± std. dev. of 7 runs, 1 loop each)\n"
     ]
    }
   ],
   "source": [
    "%%timeit\n",
    "method2(L)"
   ]
  },
  {
   "cell_type": "code",
   "execution_count": 32,
   "metadata": {},
   "outputs": [
    {
     "name": "stdout",
     "output_type": "stream",
     "text": [
      "3.54 ms ± 7.35 µs per loop (mean ± std. dev. of 7 runs, 100 loops each)\n"
     ]
    }
   ],
   "source": [
    "%%timeit\n",
    "method3(L)"
   ]
  },
  {
   "cell_type": "code",
   "execution_count": 34,
   "metadata": {
    "scrolled": true
   },
   "outputs": [
    {
     "data": {
      "text/plain": [
       "0.001"
      ]
     },
     "execution_count": 34,
     "metadata": {},
     "output_type": "execute_result"
    }
   ],
   "source": [
    "10**(-3)"
   ]
  },
  {
   "cell_type": "code",
   "execution_count": 36,
   "metadata": {},
   "outputs": [],
   "source": [
    "res = np.array([[71.1*(10**(-3)), 51.8*(10**(-3)), 348*(10**(-6))],\n",
    "                [7.1, 5.05, 3.54*(10**(-3))]])"
   ]
  },
  {
   "cell_type": "code",
   "execution_count": 39,
   "metadata": {},
   "outputs": [
    {
     "data": {
      "text/plain": [
       "array([99.85935302, 97.49034749, 10.17241379])"
      ]
     },
     "execution_count": 39,
     "metadata": {},
     "output_type": "execute_result"
    }
   ],
   "source": [
    "res[1]/res[0]"
   ]
  },
  {
   "cell_type": "markdown",
   "metadata": {},
   "source": [
    "대략 1, 2번이 3번에 비해 제곱 정도로 걸리는 것을 알 수 있다!"
   ]
  },
  {
   "cell_type": "markdown",
   "metadata": {},
   "source": [
    "### Three-Way Set Disjointness\n",
    "\n",
    "Q : 세 집합 A, B, C 에 대해 $A \\cap B \\cap C = \\emptyset$을 판정해보자!"
   ]
  },
  {
   "cell_type": "code",
   "execution_count": 8,
   "metadata": {},
   "outputs": [],
   "source": [
    "def disjoint1(A,B,C):\n",
    "    for a in A:\n",
    "        for b in B:\n",
    "            for c in C:\n",
    "                if a==b==c:\n",
    "                    return False\n",
    "    return True"
   ]
  },
  {
   "cell_type": "markdown",
   "metadata": {},
   "source": [
    "얘는 당연히 $O(n^3)$ 이다."
   ]
  },
  {
   "cell_type": "code",
   "execution_count": 9,
   "metadata": {},
   "outputs": [],
   "source": [
    "def disjoint2(A,B,C):\n",
    "    for a in A:\n",
    "        for b in B:\n",
    "            if a==b:\n",
    "                for c in C:\n",
    "                    if a==c:\n",
    "                        return False\n",
    "    return True"
   ]
  },
  {
   "cell_type": "markdown",
   "metadata": {},
   "source": [
    "이 경우는 $O(n^2)$ 이다."
   ]
  },
  {
   "cell_type": "code",
   "execution_count": 13,
   "metadata": {},
   "outputs": [],
   "source": [
    "A1 = np.random.randint(low=0, high=1000000, size=100)\n",
    "A2 = np.random.randint(low=0, high=1000000, size=100)\n",
    "A3 = np.random.randint(low=0, high=1000000, size=100)\n",
    "B1 = np.random.randint(low=0, high=1000000, size=1000)\n",
    "B2 = np.random.randint(low=0, high=1000000, size=1000)\n",
    "B3 = np.random.randint(low=0, high=1000000, size=1000)"
   ]
  },
  {
   "cell_type": "code",
   "execution_count": 14,
   "metadata": {},
   "outputs": [
    {
     "name": "stdout",
     "output_type": "stream",
     "text": [
      "79.6 ms ± 1.36 ms per loop (mean ± std. dev. of 7 runs, 10 loops each)\n"
     ]
    }
   ],
   "source": [
    "%%timeit\n",
    "disjoint1(A1,A2,A3)"
   ]
  },
  {
   "cell_type": "code",
   "execution_count": 15,
   "metadata": {},
   "outputs": [
    {
     "name": "stdout",
     "output_type": "stream",
     "text": [
      "780 µs ± 1.07 µs per loop (mean ± std. dev. of 7 runs, 1000 loops each)\n"
     ]
    }
   ],
   "source": [
    "%%timeit\n",
    "disjoint2(A1,A2,A3)"
   ]
  },
  {
   "cell_type": "code",
   "execution_count": 16,
   "metadata": {},
   "outputs": [
    {
     "name": "stdout",
     "output_type": "stream",
     "text": [
      "1min 16s ± 694 ms per loop (mean ± std. dev. of 7 runs, 1 loop each)\n"
     ]
    }
   ],
   "source": [
    "%%timeit\n",
    "disjoint1(B1,B2,B3)"
   ]
  },
  {
   "cell_type": "code",
   "execution_count": 19,
   "metadata": {},
   "outputs": [
    {
     "name": "stdout",
     "output_type": "stream",
     "text": [
      "75.3 ms ± 147 µs per loop (mean ± std. dev. of 7 runs, 10 loops each)\n"
     ]
    }
   ],
   "source": [
    "%%timeit\n",
    "disjoint2(B1,B2,B3)"
   ]
  },
  {
   "cell_type": "code",
   "execution_count": 20,
   "metadata": {},
   "outputs": [],
   "source": [
    "res = np.array([[79.6*(10**(-3)), 780*(10**(-6))],\n",
    "                [76,  75.3*(10**(-3))]])"
   ]
  },
  {
   "cell_type": "code",
   "execution_count": 21,
   "metadata": {},
   "outputs": [
    {
     "data": {
      "text/plain": [
       "array([954.77386935,  96.53846154])"
      ]
     },
     "execution_count": 21,
     "metadata": {},
     "output_type": "execute_result"
    }
   ],
   "source": [
    "res[1]/res[0]"
   ]
  },
  {
   "cell_type": "markdown",
   "metadata": {},
   "source": [
    "대충 1000과 100 이므로 대략 맞는듯!"
   ]
  },
  {
   "cell_type": "markdown",
   "metadata": {},
   "source": [
    "### Element Uniqueness\n",
    "\n",
    "Q : 주어진 집합 $S$의 원소가 모두 다른지 여부?"
   ]
  },
  {
   "cell_type": "code",
   "execution_count": 17,
   "metadata": {},
   "outputs": [],
   "source": [
    "def unique1(S):\n",
    "    for j in range(len(S)):\n",
    "        for k in range(j+1, len(S)):\n",
    "            if S[j]==S[k]:\n",
    "                return False\n",
    "    return True"
   ]
  },
  {
   "cell_type": "markdown",
   "metadata": {},
   "source": [
    "얘는 $O(n^2)$"
   ]
  },
  {
   "cell_type": "code",
   "execution_count": 22,
   "metadata": {},
   "outputs": [],
   "source": [
    "def unique2(S):\n",
    "    temp = sorted(S)\n",
    "    for j in range(1, len(temp)):\n",
    "        if S[j-1]==S[j]:\n",
    "            return False\n",
    "    return True"
   ]
  },
  {
   "cell_type": "markdown",
   "metadata": {},
   "source": [
    "파이썬의 정렬 알고리즘은 $O(n\\log n)$이므로 이 함수는 $O(n \\log n)$이다."
   ]
  },
  {
   "cell_type": "code",
   "execution_count": 24,
   "metadata": {},
   "outputs": [
    {
     "name": "stdout",
     "output_type": "stream",
     "text": [
      "904 µs ± 3.68 µs per loop (mean ± std. dev. of 7 runs, 1000 loops each)\n"
     ]
    }
   ],
   "source": [
    "%%timeit\n",
    "unique1(A1)"
   ]
  },
  {
   "cell_type": "code",
   "execution_count": 26,
   "metadata": {},
   "outputs": [
    {
     "name": "stdout",
     "output_type": "stream",
     "text": [
      "34.6 µs ± 139 ns per loop (mean ± std. dev. of 7 runs, 10000 loops each)\n"
     ]
    }
   ],
   "source": [
    "%%timeit\n",
    "unique2(A1)"
   ]
  },
  {
   "cell_type": "code",
   "execution_count": 27,
   "metadata": {},
   "outputs": [
    {
     "name": "stdout",
     "output_type": "stream",
     "text": [
      "25.1 ms ± 369 µs per loop (mean ± std. dev. of 7 runs, 10 loops each)\n"
     ]
    }
   ],
   "source": [
    "%%timeit\n",
    "unique1(B1)"
   ]
  },
  {
   "cell_type": "code",
   "execution_count": 28,
   "metadata": {},
   "outputs": [
    {
     "name": "stdout",
     "output_type": "stream",
     "text": [
      "414 µs ± 696 ns per loop (mean ± std. dev. of 7 runs, 1000 loops each)\n"
     ]
    }
   ],
   "source": [
    "%%timeit\n",
    "unique2(B1)"
   ]
  },
  {
   "cell_type": "code",
   "execution_count": 29,
   "metadata": {},
   "outputs": [],
   "source": [
    "res = np.array([[904*(10**(-6)), 34.6*(10**(-6))],\n",
    "                [25.1*(10**(-3)),  414*(10**(-6))]])"
   ]
  },
  {
   "cell_type": "code",
   "execution_count": 30,
   "metadata": {},
   "outputs": [
    {
     "data": {
      "text/plain": [
       "array([27.76548673, 11.96531792])"
      ]
     },
     "execution_count": 30,
     "metadata": {},
     "output_type": "execute_result"
    }
   ],
   "source": [
    "res[1]/res[0]"
   ]
  },
  {
   "cell_type": "code",
   "execution_count": 31,
   "metadata": {},
   "outputs": [
    {
     "data": {
      "text/plain": [
       "2.3204971997776926"
      ]
     },
     "execution_count": 31,
     "metadata": {},
     "output_type": "execute_result"
    }
   ],
   "source": [
    "(res[1]/res[0])[0]/(res[1]/res[0])[1]"
   ]
  },
  {
   "cell_type": "code",
   "execution_count": 32,
   "metadata": {},
   "outputs": [
    {
     "data": {
      "text/plain": [
       "2.302585092994046"
      ]
     },
     "execution_count": 32,
     "metadata": {},
     "output_type": "execute_result"
    }
   ],
   "source": [
    "np.log(10)"
   ]
  },
  {
   "cell_type": "markdown",
   "metadata": {},
   "source": [
    "대략 맞네요!"
   ]
  },
  {
   "cell_type": "markdown",
   "metadata": {},
   "source": [
    "# 3.4 Simple Justification Techniques\n",
    "\n",
    "별 거 없음..."
   ]
  },
  {
   "cell_type": "markdown",
   "metadata": {},
   "source": [
    "# Exercise\n",
    "\n",
    "### C-3.39 Show that $\\sum_{i=1}^n i/2^i < 2$."
   ]
  },
  {
   "cell_type": "markdown",
   "metadata": {},
   "source": [
    "Let $f(n) = \\sum_{i=1}^n \\frac i{2^i}$. Then clearly $f(1) = 1/2 < 2$. \n",
    "\n",
    "Suppose that $f(n)<2$. Then\n",
    "$$ f(n+1) = \\sum_{i=1}^{n+1} \\frac i {2^i} = \\sum_{i=0}^n  \\frac{i+1} {2^{i+1}} = \\frac12 \\sum_{i=0}^n  \\frac{i} {2^{i}} + \\frac12 \\sum_{i=0}^n  \\frac{1} {2^{i}} = \\frac 12 f(n)  + \\frac12 \\sum_{i=0}^n  \\frac{1} {2^{i}}.$$"
   ]
  },
  {
   "cell_type": "markdown",
   "metadata": {},
   "source": [
    "Note that \n",
    "$$\\frac 12 \\sum_{i=0}^n \\frac 1 {2^i} = 1 - \\frac 1 {2^{n+1}}.$$\n",
    "Therefore, \n",
    "$$ f(n+1) = \\frac 12 f(n)  + \\frac12 \\sum_{i=0}^n  \\frac{1} {2^{i}} < 1 + 1 - \\frac 1 {2^{n+1}} < 2.$$\n"
   ]
  },
  {
   "cell_type": "code",
   "execution_count": null,
   "metadata": {},
   "outputs": [],
   "source": []
  }
 ],
 "metadata": {
  "kernelspec": {
   "display_name": "Python 3",
   "language": "python",
   "name": "python3"
  },
  "language_info": {
   "codemirror_mode": {
    "name": "ipython",
    "version": 3
   },
   "file_extension": ".py",
   "mimetype": "text/x-python",
   "name": "python",
   "nbconvert_exporter": "python",
   "pygments_lexer": "ipython3",
   "version": "3.7.3"
  }
 },
 "nbformat": 4,
 "nbformat_minor": 2
}
