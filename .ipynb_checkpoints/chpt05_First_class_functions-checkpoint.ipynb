{
 "cells": [
  {
   "cell_type": "markdown",
   "metadata": {},
   "source": [
    "# CHAPTER 5. 일급함수\n",
    "- 파이썬 함수는 일급 객체이다. 정수, 문자열, 딕셔너리도 일급 객체이다.\n",
    "- (일급)객체란??\n",
    "    1. 데이터 구조체의 변수나 요소에 할당할 수 있다.\n",
    "    2. 함수 인수로 전달할 수 있다.\n",
    "    3. 함수 결과로 반환할 수 있다."
   ]
  },
  {
   "cell_type": "code",
   "execution_count": 1,
   "metadata": {},
   "outputs": [
    {
     "name": "stdout",
     "output_type": "stream",
     "text": [
      "30\n",
      "10\n"
     ]
    }
   ],
   "source": [
    "# 계산기 객체 예제\n",
    "class Calc(object):\n",
    "    def __init__(self, num1, num2):\n",
    "        self.num1 = num1\n",
    "        self.num2 = num2\n",
    " \n",
    "    def sum(self):\n",
    "         return self.num1 + self.num2\n",
    " \n",
    "    def sub(self):\n",
    "         return self.num1 - self.num2\n",
    " \n",
    "C1 = Calc(20,10)\n",
    "print(C1.sum())\n",
    "print(C1.sub())"
   ]
  },
  {
   "cell_type": "code",
   "execution_count": 2,
   "metadata": {},
   "outputs": [
    {
     "name": "stdout",
     "output_type": "stream",
     "text": [
      "30\n",
      "0\n"
     ]
    }
   ],
   "source": [
    "# 계산기 함수 예제\n",
    "\n",
    "def sum(num1, num2):\n",
    "    return num1+num2\n",
    "\n",
    "def subtract(num1, num2):\n",
    "    return num1 - num2\n",
    "\n",
    "print(sum(20,10))\n",
    "print(subtract(10,10))"
   ]
  },
  {
   "cell_type": "markdown",
   "metadata": {},
   "source": [
    "> - 객체로 만들었던 sum과 sub 메서드를 함수로 정의하였함  \n",
    "- 함수로 만든 게 오히려 쉽고 간단 + 함수를 실행을 하였을 때 자체로서 완결성있음  \n",
    "- 객체 vs 함수) 객체의 코드는 함수로 만든 코드의 함수도 전부 포함하고  \n",
    "- 객체로 만들려면 클래스, 인스턴스, 생성자, 인스턴스 변수 등등을 알고 있어야지 객체지향적으로 프로그램을 할 수 있음\n",
    "- 객체지향의 필요성에 대해서는 [여기](https://server-talk.tistory.com/220) 참조"
   ]
  },
  {
   "cell_type": "markdown",
   "metadata": {},
   "source": [
    "## 5.1 함수를 객체처럼 다루기\n",
    "- 함수를 생성하고, `__doc__`속성을 읽고, 함수 객체 자체가 function클래스의 객체인지 확인해보자\n",
    "- `__doc__`속성은 객체의 도움말 텍스트를 생성하기 위해 사용된다. "
   ]
  },
  {
   "cell_type": "code",
   "execution_count": 3,
   "metadata": {},
   "outputs": [
    {
     "name": "stdout",
     "output_type": "stream",
     "text": [
      "1405006117752879898543142606244511569936384000000000\n",
      "returns n!\n",
      "<class 'function'>\n"
     ]
    }
   ],
   "source": [
    "# 예제5-1. 함수를 생성해서 테스트하고 함수의 __doc__을 읽어서 자료형 확인하기\n",
    "\n",
    "def factorial(n):\n",
    "    'returns n!'\n",
    "    return 1 if n<2 else n*factorial(n-1)\n",
    "\n",
    "print(factorial(42))\n",
    "print(factorial.__doc__)  # __doc__ : 함수 객체의 여러 속성 중 하나, 도움말 텍스트 생성\n",
    "print(type(factorial))    # factorial은 function클래스의 객체다"
   ]
  },
  {
   "cell_type": "markdown",
   "metadata": {},
   "source": [
    "## 5.2 고위 함수(high-order func)\n",
    "- 함수를 인수로 받거나, 함수를 결과로 반환하는 함수를 **고위 함수**라고 한다. \n",
    "- factorial함수를 'fact'변수에 할당하고, 이 변수명을 통해 함수를 호출하는 것도 가능하다..\n",
    "- 또한 factorial함수나 'fact'에 할당한 변수나 모두 map()의 인수로 전달할 수 있다. \n",
    "- `map()`함수는 두번째 인수의 연속된 요소(반복가능한 객체)에 첫번째 인수로 오는 '함수'를 적용한 결과를 갖는 **반복 가능형 객체**를 반환함."
   ]
  },
  {
   "cell_type": "code",
   "execution_count": 4,
   "metadata": {},
   "outputs": [
    {
     "data": {
      "text/plain": [
       "<function __main__.factorial(n)>"
      ]
     },
     "execution_count": 4,
     "metadata": {},
     "output_type": "execute_result"
    }
   ],
   "source": [
    "# 예제 5-2. \n",
    "fact = factorial\n",
    "fact"
   ]
  },
  {
   "cell_type": "code",
   "execution_count": 5,
   "metadata": {},
   "outputs": [
    {
     "data": {
      "text/plain": [
       "120"
      ]
     },
     "execution_count": 5,
     "metadata": {},
     "output_type": "execute_result"
    }
   ],
   "source": [
    "fact(5)"
   ]
  },
  {
   "cell_type": "code",
   "execution_count": 6,
   "metadata": {},
   "outputs": [
    {
     "name": "stdout",
     "output_type": "stream",
     "text": [
      "함수일 때 :  [1, 1, 2, 6, 24, 120, 720, 5040, 40320, 362880, 3628800]\n",
      "함수의 인수로 전달했을 때 :  [1, 1, 2, 6, 24, 120, 720, 5040, 40320, 362880, 3628800]\n"
     ]
    }
   ],
   "source": [
    "print(\"함수일 때 : \", list(map(factorial, range(11))))\n",
    "print(\"함수의 인수로 전달했을 때 : \", list(map(fact, range(11))))"
   ]
  },
  {
   "cell_type": "code",
   "execution_count": 7,
   "metadata": {},
   "outputs": [
    {
     "name": "stdout",
     "output_type": "stream",
     "text": [
      "ksat\n",
      "단어 길이에 따라 정렬 :  ['fig', 'apple', 'cherry', 'banana', 'raspberry', 'strawberry']\n",
      "단어 리스트의 순서만 역순 :  ['banana', 'raspberry', 'cherry', 'apple', 'fig', 'strawberry']\n",
      "단어 역순으로 정렬 :  ['banana', 'apple', 'fig', 'raspberry', 'strawberry', 'cherry']\n"
     ]
    }
   ],
   "source": [
    "# 예제 5-4. 단어 리스트를 역순으로 정렬하는 함수\n",
    "def reverse(word):\n",
    "    return word[::-1]\n",
    "\n",
    "print(reverse('task'))\n",
    "fruits = ['strawberry','fig','apple','cherry','raspberry','banana']\n",
    "print(\"단어 길이에 따라 정렬 : \", sorted(fruits, key = len)) \n",
    "print(\"단어 리스트의 순서만 역순 : \", reverse(fruits))\n",
    "print(\"단어 역순으로 정렬 : \", sorted(fruits, key = reverse)) # a, e, g, y~r, y~s, y~c 순서"
   ]
  },
  {
   "cell_type": "markdown",
   "metadata": {},
   "source": [
    "> key=len : 길이에 따라 단어 리스트 정렬  \n",
    "    key=reverse : 거꾸로 된 철자가 정렬 기준으로 사용되어 berry로 끝나는 단어들이 함께 나올 수 있다."
   ]
  },
  {
   "cell_type": "markdown",
   "metadata": {},
   "source": [
    "### 5.2.1 map(), filter(), reduce()의 대안\n",
    "- 함수형 프로그래밍에서는 map(), filter(), reduce(), apply()등의 고위 함수가 있다. \n",
    "- `map()`, `filter()`함수는 *지능형 리스트(컴프리헨션)와 제너레이터 표현식*이 소개된 후 중요성이 떨어졌다.\n",
    "- `reduce()` 함수는 파이썬3에서 functools 모듈로 떨어져 나왔다. \n",
    "- 주로 **합계**를 구하기 위해 사용됐는데, 그냥 sum() 내장 함수를 사용하는 것이 가독성과 성능에서 훨씬 낫다\n",
    "- `all(iterable)` 모든 iterable이 참이면 True반환, `any([])` iterable 중 하나라도 참이면 True반환"
   ]
  },
  {
   "cell_type": "code",
   "execution_count": 8,
   "metadata": {},
   "outputs": [
    {
     "name": "stdout",
     "output_type": "stream",
     "text": [
      "map :  [1, 1, 2, 6, 24, 120]\n",
      "com :  [1, 1, 2, 6, 24, 120]\n",
      "map with lambda :  [1, 6, 120]\n",
      "comprehension   :  [1, 6, 120]\n"
     ]
    }
   ],
   "source": [
    "# 예제 5-5. map/filter()로 생성하는 법과 지능형 리스트(comprehension)로 생성하는 법\n",
    "\n",
    "print(\"map : \", (list(map(fact, range(6)))))\n",
    "print(\"com : \", [fact(n) for n in range(6)])\n",
    "print(\"map with lambda : \", list(map(fact, filter(lambda x : x%2, range(6)))))  # 5!까지 홀수에 대한 팩토리얼 리스트 만든다.\n",
    "print(\"comprehension   : \", [fact(n) for n in range(6) if n % 2])"
   ]
  },
  {
   "cell_type": "code",
   "execution_count": 9,
   "metadata": {},
   "outputs": [
    {
     "name": "stdout",
     "output_type": "stream",
     "text": [
      "reduce() :  4950\n"
     ]
    },
    {
     "ename": "TypeError",
     "evalue": "sum() missing 1 required positional argument: 'num2'",
     "output_type": "error",
     "traceback": [
      "\u001b[0;31m---------------------------------------------------------------------------\u001b[0m",
      "\u001b[0;31mTypeError\u001b[0m                                 Traceback (most recent call last)",
      "\u001b[0;32m<ipython-input-9-25c5a22fb113>\u001b[0m in \u001b[0;36m<module>\u001b[0;34m\u001b[0m\n\u001b[1;32m      7\u001b[0m \u001b[0;34m\u001b[0m\u001b[0m\n\u001b[1;32m      8\u001b[0m \u001b[0;31m# 2. sum()\u001b[0m\u001b[0;34m\u001b[0m\u001b[0;34m\u001b[0m\u001b[0;34m\u001b[0m\u001b[0m\n\u001b[0;32m----> 9\u001b[0;31m \u001b[0mprint\u001b[0m\u001b[0;34m(\u001b[0m\u001b[0;34m\"sum() : \"\u001b[0m\u001b[0;34m,\u001b[0m \u001b[0msum\u001b[0m\u001b[0;34m(\u001b[0m\u001b[0mrange\u001b[0m\u001b[0;34m(\u001b[0m\u001b[0;36m100\u001b[0m\u001b[0;34m)\u001b[0m\u001b[0;34m)\u001b[0m\u001b[0;34m)\u001b[0m  \u001b[0;31m# 동일 작업. 함수를 임포트 할 필요없음\u001b[0m\u001b[0;34m\u001b[0m\u001b[0;34m\u001b[0m\u001b[0m\n\u001b[0m",
      "\u001b[0;31mTypeError\u001b[0m: sum() missing 1 required positional argument: 'num2'"
     ]
    }
   ],
   "source": [
    "# 예제 5-6. reduce()와 sum() 비교\n",
    "\n",
    "# 1. reduce()\n",
    "from functools import reduce\n",
    "from operator import add        # add() : 숫자들을 연결함\n",
    "print(\"reduce() : \", reduce(add, range(100)))\n",
    "\n",
    "# 2. sum()\n",
    "print(\"sum() : \", sum(range(100)))  # 동일 작업. 함수를 임포트 할 필요없음"
   ]
  },
  {
   "cell_type": "markdown",
   "metadata": {},
   "source": [
    "## 5.3 익명 함수(람다)\n",
    "- 단순한 구문이 가능하며, 할당문이나 while,try 등의 문장은 사용할 수 없다.\n",
    "- def문과 마찬가지로 람다도 하나의 함수 객체를 만든다.\n",
    "- 람다 리팩토링 방법\n",
    "    - 람다 때문에 코드를 이해하기 어렵다면 리팩토링 절차를 따라해라.\n",
    "    1. 람다가 하는 일이 무엇인지 설명하는 주석을 작성\n",
    "    2. 주석의 본질을 전달하는 이름을 생각\n",
    "    3. 그 이름을 이용해서 람다를 def문으로 변경\n",
    "    4. 주석 제거"
   ]
  },
  {
   "cell_type": "code",
   "execution_count": 10,
   "metadata": {},
   "outputs": [
    {
     "data": {
      "text/plain": [
       "['banana', 'apple', 'fig', 'raspberry', 'strawberry', 'cherry']"
      ]
     },
     "execution_count": 10,
     "metadata": {},
     "output_type": "execute_result"
    }
   ],
   "source": [
    "# 예제 5-7. lambda를 이용해서 철자 역순 정렬\n",
    "fruits = ['strawberry','fig','apple','cherry','raspberry','banana']\n",
    "sorted(fruits, key = lambda x : x[::-1])"
   ]
  },
  {
   "cell_type": "markdown",
   "metadata": {},
   "source": [
    "## 5.4 콜러블 객체\n",
    "- 호출 연산자인 ()는 사용자 정의 함수 외 다른 객체에서도 적용할 수 있다.\n",
    "- 호출할 수 있는 객체인지 알아보려면 `callable()`내장함수를 사용한다. \n",
    "- 일곱 가지 콜러블 객체 소개\n",
    "    1. **사용자 정의 함수** : def, lambda\n",
    "    2. **내장 함수** : len(), time.strftime()처럼 C언어로 구현된 함수\n",
    "    3. **내장 메서드** : dict.get()처럼 C언어로 구현된 메서드\n",
    "    4. **메서드** : 클래스 본체에 정의된 함수\n",
    "    5. **클래스**\n",
    "    6. **클래스 객체**\n",
    "    7. **제너레이터 함수** : 14장에서 자세히"
   ]
  },
  {
   "cell_type": "code",
   "execution_count": 11,
   "metadata": {},
   "outputs": [
    {
     "data": {
      "text/plain": [
       "(<function abs(x, /)>, str, 13)"
      ]
     },
     "execution_count": 11,
     "metadata": {},
     "output_type": "execute_result"
    }
   ],
   "source": [
    "abs, str, 13"
   ]
  },
  {
   "cell_type": "code",
   "execution_count": 12,
   "metadata": {},
   "outputs": [
    {
     "data": {
      "text/plain": [
       "[True, True, False]"
      ]
     },
     "execution_count": 12,
     "metadata": {},
     "output_type": "execute_result"
    }
   ],
   "source": [
    "[callable(obj) for obj in (abs, str, 13)]"
   ]
  },
  {
   "cell_type": "markdown",
   "metadata": {},
   "source": [
    "## 5.5 사용자 정의 콜러블형(클래스 객체 생성)\n",
    "- 파이썬 함수가 실제 객체일 뿐만 아니라, 모든 파이썬 객체가 함수처럼 동작하게 만들 수 있다.\n",
    "- `__call__()` 인스턴스 메서드를 구현하면 된다.\n",
    "- [예제 5-8]은 BingoCage클래스를 구현하는데, iterable객체를 받아서 그 중 한 항목을 담은 객체를 생성하며, 무작위 순으로 내부에 리스트를 저장한다. 객체를 호출하면 항목을 하나 꺼낸다."
   ]
  },
  {
   "cell_type": "code",
   "execution_count": 13,
   "metadata": {},
   "outputs": [],
   "source": [
    "# 예제 5-8. bingocall.py : 뒤섞인 리스트에서 항목을 골라낼 뿐\n",
    "\n",
    "import random\n",
    "\n",
    "class BingoCage:\n",
    "    # 초기화\n",
    "    def __init__(self, items):\n",
    "        # 1. __init__()은 반복 가능 객체를 받는다. 지역에 사본을 만들어 인수로 전달된 리스트에 예기치 않은 부작용을 예방할 수 있다.\n",
    "        self._items = list(items) \n",
    "        # 2. self._items가 리스트니까 shuffle()메서드가 실행되는 것을 보장할 수 있다. \n",
    "        random.shuffle(self._items)\n",
    "     \n",
    "    # 핵심 메서드\n",
    "    def pick(self):\n",
    "        try:\n",
    "            return self._items.pop()\n",
    "        except IndexError:\n",
    "            # self._items가 비어있으면 사용자 정의 메시지를 담은 예외를 발생시킬 것\n",
    "            raise LookupError('pick from empty BingoCage')\n",
    "            \n",
    "    # bingo.pick()에 대한 단축 형태로 bingo()를 정의한다. 즉 다른 이름의 인자로 받을 수 있게 하는 것\n",
    "    def __call__(self):\n",
    "        return self.pick()"
   ]
  },
  {
   "cell_type": "code",
   "execution_count": 14,
   "metadata": {},
   "outputs": [
    {
     "data": {
      "text/plain": [
       "1"
      ]
     },
     "execution_count": 14,
     "metadata": {},
     "output_type": "execute_result"
    }
   ],
   "source": [
    "bingo = BingoCage(range(3))\n",
    "bingo.pick()"
   ]
  },
  {
   "cell_type": "code",
   "execution_count": 15,
   "metadata": {},
   "outputs": [
    {
     "data": {
      "text/plain": [
       "0"
      ]
     },
     "execution_count": 15,
     "metadata": {},
     "output_type": "execute_result"
    }
   ],
   "source": [
    "bingo()"
   ]
  },
  {
   "cell_type": "code",
   "execution_count": 16,
   "metadata": {},
   "outputs": [
    {
     "data": {
      "text/plain": [
       "True"
      ]
     },
     "execution_count": 16,
     "metadata": {},
     "output_type": "execute_result"
    }
   ],
   "source": [
    "callable(bingo)"
   ]
  },
  {
   "cell_type": "markdown",
   "metadata": {},
   "source": [
    "> - BingoCage의 경우 객체를 함수처럼 호출할 때마다 항목을 하나 꺼낸 후 변경된 상태를 유지해야 하는데, `__call__()` 메서드를 구현하면 이런 객체를 생성하기 쉽다.  \n",
    "- 이런 예로 `decorator`가 있다. 데커레이터는 함수지만 때때로 호출된 후의 상태를 기억할 수 있는 기능을 유용하게 쓴다.  \n",
    "- 또한 `closure`가 있다. 클로저는 내부 상태를 가진 함수를 전혀 다른 방식으로 생성한다. 7장에서 자세히"
   ]
  },
  {
   "cell_type": "markdown",
   "metadata": {},
   "source": [
    "## 5.6 함수 인트로스펙션\n",
    "- dir() 함수가 factorial()함수에 대해 공개하는 속성들은 다음과 같다. \n",
    "- 이 속성들은 대부분 파이썬 객체에 존재하는 속성이다.\n",
    "- `__defaults__`, `__code__`, `__annotations__` 속성은 IDE 및 프레임워크가 함수 시그니처에 대한 정보를 추출하기 위해 사용되는데 The 5.8, 5.9에서 자세하게 설명한다.\n",
    "- `__defaults__` : (자료형-튜플) 형식 매개변수의 기본값\n",
    "- `__code__` : (자료형-코드) 바이트코드로 컴파일된 함수 메타데이터 및 함수 본체\n",
    "- `__annotations__` : (자료형-dict)매개변수 및 반환값에 대한 주석\n",
    "- **매개변수가 정확하게 뭐지?? 5.7절에서 바로 알아보자**"
   ]
  },
  {
   "cell_type": "code",
   "execution_count": 17,
   "metadata": {},
   "outputs": [
    {
     "name": "stdout",
     "output_type": "stream",
     "text": [
      "['__annotations__', '__call__', '__class__', '__closure__', '__code__', '__defaults__', '__delattr__', '__dict__', '__dir__', '__doc__', '__eq__', '__format__', '__ge__', '__get__', '__getattribute__', '__globals__', '__gt__', '__hash__', '__init__', '__init_subclass__', '__kwdefaults__', '__le__', '__lt__', '__module__', '__name__', '__ne__', '__new__', '__qualname__', '__reduce__', '__reduce_ex__', '__repr__', '__setattr__', '__sizeof__', '__str__', '__subclasshook__']\n"
     ]
    }
   ],
   "source": [
    "print(dir(factorial))"
   ]
  },
  {
   "cell_type": "markdown",
   "metadata": {},
   "source": [
    "## 5.7 매개변수 : 위치 ~ 키워드 전용\n",
    "- 기존의 함수는 인수의 순서와 용도를 모두 기억해야 하는 불편함이 있다. 그래서 파이썬3에서는 굳이 인수의 순서와 용도를 매번 기억하지 않도록 키워드 인수(keyword argument)라는 기능을 제공한다. \n",
    "- 키워드 인수는 말그대로 인수에 이름(키워드)를 붙이는 기능이며 **함수(키워드=값)** 형식으로 사용한다.\n",
    "- 키워드 전용 인수(keyword-only-argument)를 이용한 매개변수 처리 메커니즘은 파이썬3 함수에서 볼 수 있는 가장 훌륭한 기능.\n",
    "- 함수를 호출할 때 반복 가능한 객체나 매핑형을 별도의 인수로 '폭팔'시키는 *, ** 기호도 이 메커니즘과 밀접함.\n",
    "- 이 기능이 어떻게 작동되는지 예제 5-10에서 알아보자."
   ]
  },
  {
   "cell_type": "code",
   "execution_count": 18,
   "metadata": {},
   "outputs": [
    {
     "name": "stdout",
     "output_type": "stream",
     "text": [
      "10\n",
      "20\n",
      "30\n",
      "---------------------\n",
      "10\n",
      "---------------------\n",
      "10\n",
      "20\n",
      "30\n",
      "40\n"
     ]
    }
   ],
   "source": [
    "# 1. \n",
    "# 위치 인수와 리스트 언패킹\n",
    "'''\n",
    "1. 함수에 인수를 순서대로 넣는 방식을 위치 인수(positional argument)라고 한다.\n",
    "2. 리스트나 튜플을 수용해서 애스테릭을 붙이면 된다.\n",
    "3. 인수의 개수가 정해지지 않은 가변 인수(variable args)에 사용한다. 즉, 함수에 인수 1개 ok 10개 ok'''\n",
    "\n",
    "def print_numbers(a, b, c):\n",
    "    print(a)\n",
    "    print(b)\n",
    "    print(c)\n",
    "    \n",
    "x = [10, 20, 30]\n",
    "print_numbers(*x)\n",
    "print('---------------------')\n",
    "\n",
    "# a,b,c라는 인수를 굳이 안해주고 '*args(가변)'으로 받는다. 대신 for loop을 돌면서 출력한다. \n",
    "def print_numbers2(*args):\n",
    "    for arg in args:\n",
    "        print(arg)\n",
    "\n",
    "print_numbers2(10)\n",
    "print('---------------------')\n",
    "print_numbers2(10,20, 30,40)"
   ]
  },
  {
   "cell_type": "code",
   "execution_count": 19,
   "metadata": {},
   "outputs": [
    {
     "name": "stdout",
     "output_type": "stream",
     "text": [
      "이름:  홍길동\n",
      "나이:  30\n",
      "주소:  서울시 용산구 이촌동\n"
     ]
    }
   ],
   "source": [
    "# 2\n",
    "# 키워드 전용\n",
    "def personal_info(name, age, address):\n",
    "    print('이름: ', name)\n",
    "    print('나이: ', age)\n",
    "    print('주소: ', address)\n",
    "    \n",
    "# 인수의 순서를 굳이 맞추지 않아도 됨\n",
    "personal_info(age=30, address='서울시 용산구 이촌동', name='홍길동')"
   ]
  },
  {
   "cell_type": "code",
   "execution_count": 20,
   "metadata": {},
   "outputs": [],
   "source": [
    "# 예제 5-10 : HTML을 생성하는 tag()함수.\n",
    "# 클래스는 파이썬에 정의된 키워드이므로 이를 피해 class속성을 전달하기위해 '키워드 전용 매개변수'로 cls를 사용했다.\n",
    "\n",
    "def tag(name, *content, cls=None, **attrs):\n",
    "    \"\"\"하나 이상의 html태그를 생성한다.\"\"\"\n",
    "    if cls is not None:\n",
    "        attrs['class'] = cls\n",
    "    if attrs:\n",
    "        attr_str = ''.join(' %s=\"%s\"' %(attr, value) for attr, value in sorted(attrs.items()))\n",
    "    else:\n",
    "        attr_str = ''\n",
    "    if content:\n",
    "        return '\\n'.join('<%s%s>%s</%s>' % (name, attr_str, c, name) for c in content)\n",
    "    else:\n",
    "        return '<%s%s />' % (name, attr_str)"
   ]
  },
  {
   "cell_type": "code",
   "execution_count": 21,
   "metadata": {},
   "outputs": [
    {
     "data": {
      "text/plain": [
       "'<br />'"
      ]
     },
     "execution_count": 21,
     "metadata": {},
     "output_type": "execute_result"
    }
   ],
   "source": [
    "tag('br') # name  # 위치 인수 하나만 사용해서 호출하면 이름을 가진 빈 태그를 생성한다."
   ]
  },
  {
   "cell_type": "code",
   "execution_count": 22,
   "metadata": {},
   "outputs": [
    {
     "data": {
      "text/plain": [
       "'<p>hello</p>'"
      ]
     },
     "execution_count": 22,
     "metadata": {},
     "output_type": "execute_result"
    }
   ],
   "source": [
    "tag('p','hello') # name, content  # 첫번째 인수 이후의 인수들은 모두 *content 매개변수에 튜플로 전달된다."
   ]
  },
  {
   "cell_type": "code",
   "execution_count": 23,
   "metadata": {},
   "outputs": [
    {
     "name": "stdout",
     "output_type": "stream",
     "text": [
      "<p>hello</p>\n",
      "<p>world</p>\n"
     ]
    }
   ],
   "source": [
    "print(tag('p','hello','world'))   # 첫번째 인수 이후의 인수들은 모두 *content 매개변수에 튜플로 전달된다."
   ]
  },
  {
   "cell_type": "code",
   "execution_count": 24,
   "metadata": {},
   "outputs": [
    {
     "data": {
      "text/plain": [
       "'<p id=\"33\">hello</p>'"
      ]
     },
     "execution_count": 24,
     "metadata": {},
     "output_type": "execute_result"
    }
   ],
   "source": [
    "tag('p','hello', id=33)  # tag시그니처에 명시적으로 이름이 지정되지 않은 키워드 인수들(id)은 딕셔너리로 **attrs인수에 전달된다. "
   ]
  },
  {
   "cell_type": "code",
   "execution_count": 25,
   "metadata": {},
   "outputs": [
    {
     "name": "stdout",
     "output_type": "stream",
     "text": [
      "<p class=\"sidebar\">hello</p>\n",
      "<p class=\"sidebar\">world</p>\n"
     ]
    }
   ],
   "source": [
    "print(tag('p', 'hello', 'world', cls='sidebar'))  # cls 매개변수만 키워드 인수로 전달된다."
   ]
  },
  {
   "cell_type": "code",
   "execution_count": 26,
   "metadata": {},
   "outputs": [
    {
     "data": {
      "text/plain": [
       "'<img content=\"testing\" />'"
      ]
     },
     "execution_count": 26,
     "metadata": {},
     "output_type": "execute_result"
    }
   ],
   "source": [
    "tag(content='testing', name='img')  # 첫번째 위치의 인수도(content) tag가 호출되면 키워드로 전달할 수 있다. "
   ]
  },
  {
   "cell_type": "code",
   "execution_count": 27,
   "metadata": {},
   "outputs": [
    {
     "data": {
      "text/plain": [
       "'<img content=\"testing\" />'"
      ]
     },
     "execution_count": 27,
     "metadata": {},
     "output_type": "execute_result"
    }
   ],
   "source": [
    "tag(name='img', content='testing')"
   ]
  },
  {
   "cell_type": "code",
   "execution_count": 28,
   "metadata": {},
   "outputs": [
    {
     "data": {
      "text/plain": [
       "'<img class=\"framed\" src=\"sunset.jpg\" title=\"Sunset Boulevard\" />'"
      ]
     },
     "execution_count": 28,
     "metadata": {},
     "output_type": "execute_result"
    }
   ],
   "source": [
    "my_tag = {'name':'img', 'title':'Sunset Boulevard', 'src':'sunset.jpg', 'cls':'framed'}\n",
    "tag(**my_tag)  \n",
    "\n",
    "# 딕셔너리 앞에 **(아스테릭 2개)를 붙이면 딕셔너리 안의 모든 항목을 별도의 인수로 전달하고, \n",
    "# 명명된 매개변수 및 나머지는 **attrs에 전달된다."
   ]
  },
  {
   "cell_type": "markdown",
   "metadata": {},
   "source": [
    "> - 딕셔너리의 이름과 개수가 매개변수 이름과 같아야 한다.  \n",
    "- **[예제 5-10]**에서 cls 매개변수는 키워드 인수로만 전달될 수 있으며, 결코 익명의 '위치 인수'로는 전달되지 않는다.  \n",
    "- `*`는 리스트에 사용하고, `**`는 딕셔너리에 사용한다는 걸 기억하자"
   ]
  },
  {
   "cell_type": "markdown",
   "metadata": {},
   "source": [
    "## 5.8 매개변수에 대한 정보 읽기\n",
    "- 다시 5.6절에서 알아보기로 했던 `__defaults__`, `__code__`에 대해 알아보자.\n",
    "    - `__defaults__` : (자료형-튜플) 형식 매개변수의 기본값\n",
    "    - `__code__` : (자료형-코드) 바이트코드로 컴파일된 함수 메타데이터 및 함수 본체\n",
    "    \n",
    "- 함수에 어떤 매개변수가 필요한지, 매개변수에 기본값이 없는지 알 수 있는 방법은 함수 객체 안의 `__defaults__`속성에는 '위치인수와 키워드인수'의 기본값을 가진 튜플이 들어있다. 참고로 키워드 전용 인수의 기본값은 `__kwdefaults__`속성에 들어있다. \n",
    "- 인수명은 `__code__` 속성에 들어있는데, 이 속성은 여러 속성을 담고 있는 code객체를 가리킨다. \n"
   ]
  },
  {
   "cell_type": "code",
   "execution_count": 29,
   "metadata": {},
   "outputs": [],
   "source": [
    "# 예제 5-15 : 원하는 길이 가까이에 있는 공백에서 잘라서 문자열을 단축하는 함수\n",
    "# BEGIN CLIP\n",
    "\n",
    "def clip(text, max_len=80):\n",
    "    \"\"\"max_len 앞이나 뒤의 마지막 공백에서 잘라낸 텍스트를 반환한다.\"\"\"\n",
    "    \n",
    "    end = None\n",
    "    if len(text) > max_len:\n",
    "        space_before = text.rfind(' ', 0, max_len)\n",
    "        \n",
    "        if space_before >= 0:\n",
    "            end = space_before\n",
    "        else:\n",
    "            space_after = text.rfind(' ', max_len)\n",
    "            if space_after >= 0:\n",
    "                end = space_after\n",
    "                \n",
    "    if end is None:  # no spaces were found\n",
    "        end = len(text)\n",
    "        \n",
    "    return text[:end].rstrip()\n",
    "\n",
    "# END CLIP"
   ]
  },
  {
   "cell_type": "code",
   "execution_count": 30,
   "metadata": {},
   "outputs": [
    {
     "data": {
      "text/plain": [
       "(80,)"
      ]
     },
     "execution_count": 30,
     "metadata": {},
     "output_type": "execute_result"
    }
   ],
   "source": [
    "clip.__defaults__"
   ]
  },
  {
   "cell_type": "code",
   "execution_count": 31,
   "metadata": {},
   "outputs": [
    {
     "data": {
      "text/plain": [
       "<code object clip at 0x112cd4780, file \"<ipython-input-29-e13f979e537b>\", line 4>"
      ]
     },
     "execution_count": 31,
     "metadata": {},
     "output_type": "execute_result"
    }
   ],
   "source": [
    "clip.__code__"
   ]
  },
  {
   "cell_type": "code",
   "execution_count": 32,
   "metadata": {},
   "outputs": [
    {
     "data": {
      "text/plain": [
       "('text', 'max_len', 'end', 'space_before', 'space_after')"
      ]
     },
     "execution_count": 32,
     "metadata": {},
     "output_type": "execute_result"
    }
   ],
   "source": [
    "clip.__code__.co_varnames  # 함수 본체에서 생성한 지역변수명도 포함되어 있다. "
   ]
  },
  {
   "cell_type": "code",
   "execution_count": 33,
   "metadata": {},
   "outputs": [
    {
     "data": {
      "text/plain": [
       "2"
      ]
     },
     "execution_count": 33,
     "metadata": {},
     "output_type": "execute_result"
    }
   ],
   "source": [
    "clip.__code__.co_argcount  # *, **가 붙은 인수는 불포함이다. "
   ]
  },
  {
   "cell_type": "code",
   "execution_count": 34,
   "metadata": {},
   "outputs": [],
   "source": [
    "clip.__kwdefaults__"
   ]
  },
  {
   "cell_type": "markdown",
   "metadata": {},
   "source": [
    "`inspect` \n",
    "- 보기가 매우 불편하다. **inspect** 모듈로 깔끔하게 보자.\n",
    "- parameters 속성을 이용하면 정렬된 inspect.parameter객체를 읽을 수 있다.\n",
    "- 각 parameter안에는 `name, default, kind` 등의 속성들이 들어있다.\n",
    "- `kind` 속성은 클래스에 정의된 다음 다섯가지 값 중 하나를 가진다.\n",
    "    1. POSITIONAL_OR_KEYWORD : 위치인수나 키워드 인수로 전달할 수 있는 매개변수(대부분이 여기에 속함)\n",
    "    2. VAR_POSITIONAL : 위치 매개변수의 튜플\n",
    "    3. VAR_KEYWORD : 키워드 매개변수의 딕셔너리\n",
    "    4. KEYWORD_ONLY : 키워드 전용 매개변수(파이썬3)\n",
    "    5. POSITIONAL_ONLY : 위치 전용 매개변수. 현재 파이썬 함수 선언 구문에서는 지원 X. 그러나 키워드로 전달한 매개변수를 받지 않는 divmod()처럼 C언어로 구현된 기존 함수가 여기 속함.\n",
    "- `annotation` 속성도 있다. 다음 절에서 설명할 예정\n",
    "- inspect.Signature 객체에는 `bind()` 메서드가 있다. 이는 임의 개수의 인수를 받고, 인수를 매개변수에 대응시키는 일반적인 규칙을 적용해서 그것을 시그니처에 들어 있는 매개변수에 바인딩한다. 프레임워크에서 실제 함수를 호출하기 전에 인수를 검증하기 위해 사용할 수 있다. **[예제 5-18] 보자**"
   ]
  },
  {
   "cell_type": "code",
   "execution_count": 35,
   "metadata": {},
   "outputs": [],
   "source": [
    "# 예제 5-17\n",
    "from inspect import signature\n",
    "\n",
    "sig = signature(clip)"
   ]
  },
  {
   "cell_type": "code",
   "execution_count": 36,
   "metadata": {},
   "outputs": [
    {
     "data": {
      "text/plain": [
       "<Signature (text, max_len=80)>"
      ]
     },
     "execution_count": 36,
     "metadata": {},
     "output_type": "execute_result"
    }
   ],
   "source": [
    "sig"
   ]
  },
  {
   "cell_type": "code",
   "execution_count": 37,
   "metadata": {},
   "outputs": [
    {
     "data": {
      "text/plain": [
       "'(text, max_len=80)'"
      ]
     },
     "execution_count": 37,
     "metadata": {},
     "output_type": "execute_result"
    }
   ],
   "source": [
    "str(sig)"
   ]
  },
  {
   "cell_type": "code",
   "execution_count": 38,
   "metadata": {},
   "outputs": [
    {
     "name": "stdout",
     "output_type": "stream",
     "text": [
      "POSITIONAL_OR_KEYWORD : text = <class 'inspect._empty'>\n",
      "POSITIONAL_OR_KEYWORD : max_len = 80\n"
     ]
    }
   ],
   "source": [
    "for name, param in sig.parameters.items():\n",
    "    print(param.kind, \":\", name, '=', param.default)"
   ]
  },
  {
   "cell_type": "code",
   "execution_count": 39,
   "metadata": {},
   "outputs": [
    {
     "data": {
      "text/plain": [
       "<BoundArguments (name='img', cls='framed', attrs={'title': 'Sunset Boulevard', 'src': 'sunset.jpg'})>"
      ]
     },
     "execution_count": 39,
     "metadata": {},
     "output_type": "execute_result"
    }
   ],
   "source": [
    "# 예제 5-18 : tag()에서 가져온 함수 시그니처를 인수들 딕셔너리에 바인딩하기\n",
    "\n",
    "import inspect\n",
    "sig = inspect.signature(tag)\n",
    "my_tag = {'name':'img', 'title':'Sunset Boulevard', \n",
    "          'src':'sunset.jpg', 'cls':'framed'}\n",
    "\n",
    "bound_args = sig.bind(**my_tag) # 인수가 있는 딕셔너리를 bind()메서드에 전달\n",
    "bound_args  # BoundArguments 객체 생성"
   ]
  },
  {
   "cell_type": "code",
   "execution_count": 40,
   "metadata": {},
   "outputs": [
    {
     "name": "stdout",
     "output_type": "stream",
     "text": [
      "name = img\n",
      "cls = framed\n",
      "attrs = {'title': 'Sunset Boulevard', 'src': 'sunset.jpg'}\n"
     ]
    }
   ],
   "source": [
    "# ordereddict형인 bound_args.arguments 안에 들어있는 항목들을 반복해서 인수 이름과 값을 출력\n",
    "\n",
    "for name, value in bound_args.arguments.items():\n",
    "    print(name, '=', value)"
   ]
  },
  {
   "cell_type": "code",
   "execution_count": 41,
   "metadata": {
    "scrolled": true
   },
   "outputs": [
    {
     "ename": "TypeError",
     "evalue": "missing a required argument: 'name'",
     "output_type": "error",
     "traceback": [
      "\u001b[0;31m---------------------------------------------------------------------------\u001b[0m",
      "\u001b[0;31mTypeError\u001b[0m                                 Traceback (most recent call last)",
      "\u001b[0;32m<ipython-input-41-d22104d349f7>\u001b[0m in \u001b[0;36m<module>\u001b[0;34m\u001b[0m\n\u001b[1;32m      2\u001b[0m \u001b[0;34m\u001b[0m\u001b[0m\n\u001b[1;32m      3\u001b[0m \u001b[0;32mdel\u001b[0m \u001b[0mmy_tag\u001b[0m\u001b[0;34m[\u001b[0m\u001b[0;34m'name'\u001b[0m\u001b[0;34m]\u001b[0m\u001b[0;34m\u001b[0m\u001b[0;34m\u001b[0m\u001b[0m\n\u001b[0;32m----> 4\u001b[0;31m \u001b[0mbound_args\u001b[0m \u001b[0;34m=\u001b[0m \u001b[0msig\u001b[0m\u001b[0;34m.\u001b[0m\u001b[0mbind\u001b[0m\u001b[0;34m(\u001b[0m\u001b[0;34m**\u001b[0m\u001b[0mmy_tag\u001b[0m\u001b[0;34m)\u001b[0m\u001b[0;34m\u001b[0m\u001b[0;34m\u001b[0m\u001b[0m\n\u001b[0m",
      "\u001b[0;32m/usr/local/Caskroom/miniconda/base/envs/lee/lib/python3.6/inspect.py\u001b[0m in \u001b[0;36mbind\u001b[0;34m(*args, **kwargs)\u001b[0m\n\u001b[1;32m   2995\u001b[0m         \u001b[0;32mif\u001b[0m \u001b[0mthe\u001b[0m \u001b[0mpassed\u001b[0m \u001b[0marguments\u001b[0m \u001b[0mcan\u001b[0m \u001b[0;32mnot\u001b[0m \u001b[0mbe\u001b[0m \u001b[0mbound\u001b[0m\u001b[0;34m.\u001b[0m\u001b[0;34m\u001b[0m\u001b[0;34m\u001b[0m\u001b[0m\n\u001b[1;32m   2996\u001b[0m         \"\"\"\n\u001b[0;32m-> 2997\u001b[0;31m         \u001b[0;32mreturn\u001b[0m \u001b[0margs\u001b[0m\u001b[0;34m[\u001b[0m\u001b[0;36m0\u001b[0m\u001b[0;34m]\u001b[0m\u001b[0;34m.\u001b[0m\u001b[0m_bind\u001b[0m\u001b[0;34m(\u001b[0m\u001b[0margs\u001b[0m\u001b[0;34m[\u001b[0m\u001b[0;36m1\u001b[0m\u001b[0;34m:\u001b[0m\u001b[0;34m]\u001b[0m\u001b[0;34m,\u001b[0m \u001b[0mkwargs\u001b[0m\u001b[0;34m)\u001b[0m\u001b[0;34m\u001b[0m\u001b[0;34m\u001b[0m\u001b[0m\n\u001b[0m\u001b[1;32m   2998\u001b[0m \u001b[0;34m\u001b[0m\u001b[0m\n\u001b[1;32m   2999\u001b[0m     \u001b[0;32mdef\u001b[0m \u001b[0mbind_partial\u001b[0m\u001b[0;34m(\u001b[0m\u001b[0;34m*\u001b[0m\u001b[0margs\u001b[0m\u001b[0;34m,\u001b[0m \u001b[0;34m**\u001b[0m\u001b[0mkwargs\u001b[0m\u001b[0;34m)\u001b[0m\u001b[0;34m:\u001b[0m\u001b[0;34m\u001b[0m\u001b[0;34m\u001b[0m\u001b[0m\n",
      "\u001b[0;32m/usr/local/Caskroom/miniconda/base/envs/lee/lib/python3.6/inspect.py\u001b[0m in \u001b[0;36m_bind\u001b[0;34m(self, args, kwargs, partial)\u001b[0m\n\u001b[1;32m   2910\u001b[0m                             \u001b[0mmsg\u001b[0m \u001b[0;34m=\u001b[0m \u001b[0;34m'missing a required argument: {arg!r}'\u001b[0m\u001b[0;34m\u001b[0m\u001b[0;34m\u001b[0m\u001b[0m\n\u001b[1;32m   2911\u001b[0m                             \u001b[0mmsg\u001b[0m \u001b[0;34m=\u001b[0m \u001b[0mmsg\u001b[0m\u001b[0;34m.\u001b[0m\u001b[0mformat\u001b[0m\u001b[0;34m(\u001b[0m\u001b[0marg\u001b[0m\u001b[0;34m=\u001b[0m\u001b[0mparam\u001b[0m\u001b[0;34m.\u001b[0m\u001b[0mname\u001b[0m\u001b[0;34m)\u001b[0m\u001b[0;34m\u001b[0m\u001b[0;34m\u001b[0m\u001b[0m\n\u001b[0;32m-> 2912\u001b[0;31m                             \u001b[0;32mraise\u001b[0m \u001b[0mTypeError\u001b[0m\u001b[0;34m(\u001b[0m\u001b[0mmsg\u001b[0m\u001b[0;34m)\u001b[0m \u001b[0;32mfrom\u001b[0m \u001b[0;32mNone\u001b[0m\u001b[0;34m\u001b[0m\u001b[0;34m\u001b[0m\u001b[0m\n\u001b[0m\u001b[1;32m   2913\u001b[0m             \u001b[0;32melse\u001b[0m\u001b[0;34m:\u001b[0m\u001b[0;34m\u001b[0m\u001b[0;34m\u001b[0m\u001b[0m\n\u001b[1;32m   2914\u001b[0m                 \u001b[0;31m# We have a positional argument to process\u001b[0m\u001b[0;34m\u001b[0m\u001b[0;34m\u001b[0m\u001b[0;34m\u001b[0m\u001b[0m\n",
      "\u001b[0;31mTypeError\u001b[0m: missing a required argument: 'name'"
     ]
    }
   ],
   "source": [
    "# 인수 딕셔너리 중 하나를 제거하여 다시 바인딩하면 에러가 뜬다.\n",
    "\n",
    "del my_tag['name']\n",
    "bound_args = sig.bind(**my_tag)"
   ]
  },
  {
   "cell_type": "markdown",
   "metadata": {},
   "source": [
    "## 5.9 함수 annotation\n",
    "- 파이썬3는 함수의 매개변수와 반환값에 메타데이터를 추가할 수 있는 구문을 제공한다. \n",
    "- 예제 5-19는 5-15 코드에 annotation 추가한 버전이다. \n",
    "- text, max_len 각 매개변수 뒤에 콜론(:) 다음에 annotation 표현식을 추가했다.\n",
    "- 기본값이 있을 때 annotation은 인수명과 등호(=) 사이에 들어간다. \n",
    "- 반환값에 annotation을 추가하려면 **->** 표시 뒤에 자료형을 추가한다. "
   ]
  },
  {
   "cell_type": "code",
   "execution_count": 42,
   "metadata": {},
   "outputs": [],
   "source": [
    "# BEGIN CLIP_ANNOT\n",
    "\n",
    "def clip_annot(text:str, max_len:'int > 0'=80) -> str:  # <1>\n",
    "    \"\"\"Return text clipped at the last space before or after max_len\n",
    "    \"\"\"\n",
    "    end = None\n",
    "    if len(text) > max_len:\n",
    "        space_before = text.rfind(' ', 0, max_len)\n",
    "        if space_before >= 0:\n",
    "            end = space_before\n",
    "        else:\n",
    "            space_after = text.rfind(' ', max_len)\n",
    "            if space_after >= 0:\n",
    "                end = space_after\n",
    "    if end is None:  # no spaces were found\n",
    "        end = len(text)\n",
    "    return text[:end].rstrip()\n",
    "\n",
    "# END CLIP_ANNOT"
   ]
  },
  {
   "cell_type": "code",
   "execution_count": 43,
   "metadata": {},
   "outputs": [
    {
     "data": {
      "text/plain": [
       "{'text': str, 'max_len': 'int > 0', 'return': str}"
      ]
     },
     "execution_count": 43,
     "metadata": {},
     "output_type": "execute_result"
    }
   ],
   "source": [
    "clip_annot.__annotations__"
   ]
  },
  {
   "cell_type": "markdown",
   "metadata": {},
   "source": [
    "> annotation은 파이썬 인터프리터에 아무 의미가 없다. 도구(IDE등), 프레임워크, 데커레이터가 사용할 수 있는 메타데이터일 뿐!  \n",
    "함수 annotation는 Bobo와 같은 동적 설정보다는 IDE나 linter같은 정적 자료형 검사를 지원하기 위해 선택적인 자료형 정보를 제공하는 데 큰 영향을 줄 것이다...뭔말이지."
   ]
  },
  {
   "cell_type": "markdown",
   "metadata": {},
   "source": [
    "### ========================================================================================\n",
    "### 지금까지 함수 구조를 파고들었으니, 이제 표준라이브러리에서 함수형 프로그래밍을 지원하기 위해 제공하는 유용한 패키지를 알아보자  \n",
    "\n",
    "## 5.10 함수형 프로그래밍을 위한 패키지\n",
    "### 5.10.1 operator 모듈\n",
    "- 산술 연산자를 함수로 사용하는 것이 편리할 때가 있는데 예를 들어 팩토리얼을 계산하려면 재귀적으로 함수를 호출하는 대신 숫자 시퀀스를 곱하는 경우를 생각해보자.\n",
    "- 합은 sum()으로 ok, 두 항목을 곱할 땐 **reduce()**함수를 쓰면된다. \n",
    "- operator 모듈은 시퀀스에서 **항목을 가져오는** 람다를 대체하는 `itemgetter()` 함수와 **객체의 속성을 읽는** 람다를 대체하는 `attrgetter()`함수를 제공한다.\n",
    "- `attrgetter()`는 객체의 속성을 추출한다. 이 함수에 여러 속성명을 인수로 전달하면, 역시 해당 속성값으로 구성된 튜플을 반환한다. \n",
    "- `methodcaller()` : 실행 중 함수를 실행한다. 이게 생성한 함수는 인수로 전달받은 객체의 메서드를 호출한다. "
   ]
  },
  {
   "cell_type": "code",
   "execution_count": 44,
   "metadata": {},
   "outputs": [],
   "source": [
    "# 예제 5-21 reduce와 lambda로\n",
    "\n",
    "from functools import reduce\n",
    "\n",
    "def factorial_lambda(n):\n",
    "    return reduce(lambda a, b : a*b, range(1, n+1))"
   ]
  },
  {
   "cell_type": "code",
   "execution_count": 45,
   "metadata": {},
   "outputs": [],
   "source": [
    "# 예제 5-22 : operator로 --> 수십개의 연산자에 대응하는 함수 제공\n",
    "\n",
    "from functools import reduce\n",
    "from operator import mul\n",
    "\n",
    "def factorial_operator(n):\n",
    "    return reduce(mul, range(1, n+1))   # 더 편리!!"
   ]
  },
  {
   "cell_type": "code",
   "execution_count": 46,
   "metadata": {},
   "outputs": [
    {
     "data": {
      "text/plain": [
       "120"
      ]
     },
     "execution_count": 46,
     "metadata": {},
     "output_type": "execute_result"
    }
   ],
   "source": [
    "factorial_lambda(5)"
   ]
  },
  {
   "cell_type": "code",
   "execution_count": 47,
   "metadata": {},
   "outputs": [
    {
     "data": {
      "text/plain": [
       "120"
      ]
     },
     "execution_count": 47,
     "metadata": {},
     "output_type": "execute_result"
    }
   ],
   "source": [
    "factorial_operator(5)"
   ]
  },
  {
   "cell_type": "markdown",
   "metadata": {},
   "source": [
    "`itemgetter()` "
   ]
  },
  {
   "cell_type": "code",
   "execution_count": 48,
   "metadata": {},
   "outputs": [
    {
     "name": "stdout",
     "output_type": "stream",
     "text": [
      "('Sao Paulo', 'BR', 19.649, (-23.547778, -46.635833))\n",
      "('Delhi NCR', 'IN', 21.935, (28.613889, 77.208889))\n",
      "('Tokyo', 'JP', 36.933, (35.689722, 139.691667))\n",
      "('Mexico City', 'MX', 20.142, (19.433333, -99.133333))\n",
      "('New York-Newark', 'US', 20.104, (40.808611, -74.020386))\n"
     ]
    }
   ],
   "source": [
    "# 예제 5-23 : 항목을 가져오는 itemgetter()로 튜플을 반환하자\n",
    "\n",
    "metro_areas = [\n",
    "    ('Tokyo', 'JP', 36.933, (35.689722, 139.691667)),   \n",
    "    ('Delhi NCR', 'IN', 21.935, (28.613889, 77.208889)),\n",
    "    ('Mexico City', 'MX', 20.142, (19.433333, -99.133333)),\n",
    "    ('New York-Newark', 'US', 20.104, (40.808611, -74.020386)),\n",
    "    ('Sao Paulo', 'BR', 19.649, (-23.547778, -46.635833)),\n",
    "]\n",
    "\n",
    "from operator import itemgetter\n",
    "\n",
    "for city in sorted(metro_areas, key=itemgetter(1)):  \n",
    "    # lambda fields[1]과 동일\n",
    "    # 국가코드로 정렬\n",
    "    print(city)"
   ]
  },
  {
   "cell_type": "code",
   "execution_count": 49,
   "metadata": {},
   "outputs": [
    {
     "data": {
      "text/plain": [
       "operator.itemgetter(1, 0)"
      ]
     },
     "execution_count": 49,
     "metadata": {},
     "output_type": "execute_result"
    }
   ],
   "source": [
    "# itemgett()에 여러 개의 인덱스를 인수로 전달하면, \n",
    "# 생성된 함수는 해당 인덱스 값들로 구성된 튜플을 반환.\n",
    "\n",
    "cc_name = itemgetter(1, 0)  # (국가코드, 도시명)만 가져오겠다.\n",
    "cc_name"
   ]
  },
  {
   "cell_type": "code",
   "execution_count": 50,
   "metadata": {},
   "outputs": [
    {
     "name": "stdout",
     "output_type": "stream",
     "text": [
      "('JP', 'Tokyo')\n",
      "('IN', 'Delhi NCR')\n",
      "('MX', 'Mexico City')\n",
      "('US', 'New York-Newark')\n",
      "('BR', 'Sao Paulo')\n"
     ]
    }
   ],
   "source": [
    "for city in metro_areas:\n",
    "    print(cc_name(city))"
   ]
  },
  {
   "cell_type": "markdown",
   "metadata": {},
   "source": [
    "`attrgetter()`"
   ]
  },
  {
   "cell_type": "code",
   "execution_count": 51,
   "metadata": {},
   "outputs": [
    {
     "data": {
      "text/plain": [
       "[Metropolis(name='Tokyo', cc='JP', pop=36.933, coord=LatLong(lat=35.689722, long=139.691667)),\n",
       " Metropolis(name='Delhi NCR', cc='IN', pop=21.935, coord=LatLong(lat=28.613889, long=77.208889)),\n",
       " Metropolis(name='Mexico City', cc='MX', pop=20.142, coord=LatLong(lat=19.433333, long=-99.133333)),\n",
       " Metropolis(name='New York-Newark', cc='US', pop=20.104, coord=LatLong(lat=40.808611, long=-74.020386)),\n",
       " Metropolis(name='Sao Paulo', cc='BR', pop=19.649, coord=LatLong(lat=-23.547778, long=-46.635833))]"
      ]
     },
     "execution_count": 51,
     "metadata": {},
     "output_type": "execute_result"
    }
   ],
   "source": [
    "# 예제 5-24 : 속성명에 점(.)이 포함되어 있으면 attrgetter()는 내포된 객체를 찾아서 해당 속성을 가져온다.\n",
    "\n",
    "# 일단 내포된 구조체를 만들자\n",
    "from collections import namedtuple\n",
    "LatLong = namedtuple('LatLong',['lat', 'long'])\n",
    "Metropolis = namedtuple('Metropolis', ['name', 'cc','pop','coord'])\n",
    "metro_area = [Metropolis(name, cc, pop, LatLong(lat, long))\n",
    "             for name, cc, pop, (lat, long) in metro_areas ]\n",
    "metro_area"
   ]
  },
  {
   "cell_type": "code",
   "execution_count": 52,
   "metadata": {},
   "outputs": [
    {
     "data": {
      "text/plain": [
       "35.689722"
      ]
     },
     "execution_count": 52,
     "metadata": {},
     "output_type": "execute_result"
    }
   ],
   "source": [
    "metro_area[0].coord.lat"
   ]
  },
  {
   "cell_type": "code",
   "execution_count": 53,
   "metadata": {},
   "outputs": [
    {
     "name": "stdout",
     "output_type": "stream",
     "text": [
      "('Sao Paulo', -23.547778)\n",
      "('Mexico City', 19.433333)\n",
      "('Delhi NCR', 28.613889)\n",
      "('Tokyo', 35.689722)\n",
      "('New York-Newark', 40.808611)\n"
     ]
    }
   ],
   "source": [
    "# 점(.)이 포함된 속성을 처리해보자\n",
    "\n",
    "from operator import attrgetter\n",
    "\n",
    "name_lst = attrgetter('name', 'coord.lat') \n",
    "# name 및 내포된 속성인 coord.lat을 가져오기 위해 attrgetter()정의한다.\n",
    "\n",
    "for city in sorted(metro_area, key=attrgetter('coord.lat')): # 위도별 도시 정렬 후 \n",
    "    # 도시이름과 위도만 가져옴\n",
    "    print(name_lst(city))"
   ]
  },
  {
   "cell_type": "markdown",
   "metadata": {},
   "source": [
    "`methodcaller()`"
   ]
  },
  {
   "cell_type": "code",
   "execution_count": 54,
   "metadata": {},
   "outputs": [
    {
     "data": {
      "text/plain": [
       "'THE TIME HAS COME'"
      ]
     },
     "execution_count": 54,
     "metadata": {},
     "output_type": "execute_result"
    }
   ],
   "source": [
    "# 예제 5-25 \n",
    "\n",
    "from operator import methodcaller\n",
    "\n",
    "s = 'The time has come'\n",
    "upcase = methodcaller('upper')\n",
    "upcase(s)"
   ]
  },
  {
   "cell_type": "code",
   "execution_count": 55,
   "metadata": {},
   "outputs": [
    {
     "data": {
      "text/plain": [
       "'The-time-has-come'"
      ]
     },
     "execution_count": 55,
     "metadata": {},
     "output_type": "execute_result"
    }
   ],
   "source": [
    "hiphenate = methodcaller('replace',' ','-') # 공백은 하이픈으로 대치\n",
    "hiphenate(s)"
   ]
  },
  {
   "cell_type": "markdown",
   "metadata": {},
   "source": [
    "### 5.10.2 functools.partial()로 인수 고정하기\n",
    "- functools 모듈에서는 `map(), filter(), reduce()`가 대표적이다.\n",
    "- `functools.partial()`은 함수를 부분적으로 실행할 수 있게 해준다. \n",
    "- 어떤 함수가 있을 때 patial()을 적용하면 원래 함수의 일부 인수를 고정한 콜러블을 생성한다.\n",
    "- 인수가 많은 함수를 그보다 적은 인수를 받는 콜백 함수를 사용할 때 유용"
   ]
  },
  {
   "cell_type": "code",
   "execution_count": 56,
   "metadata": {},
   "outputs": [
    {
     "data": {
      "text/plain": [
       "21"
      ]
     },
     "execution_count": 56,
     "metadata": {},
     "output_type": "execute_result"
    }
   ],
   "source": [
    "# 예제 5-26\n",
    "# 인수를 하나 받는 콜러블이 필요한 곳에 인수 2개 받는 함수 사용하기\n",
    "\n",
    "from operator import mul\n",
    "from functools import partial\n",
    "\n",
    "triple = partial(mul,3)  # 첫번째 위치 인수를 바인딩해서 triple함수를 새로 만든다.\n",
    "triple(7)                # 7 * 3 = 21"
   ]
  },
  {
   "cell_type": "code",
   "execution_count": 57,
   "metadata": {},
   "outputs": [
    {
     "data": {
      "text/plain": [
       "[3, 6, 9, 12, 15, 18, 21, 24, 27]"
      ]
     },
     "execution_count": 57,
     "metadata": {},
     "output_type": "execute_result"
    }
   ],
   "source": [
    "list(map(triple, range(1,10)))   # map은 인수를 2개받고, triple은 인수를 1개 받는다."
   ]
  },
  {
   "cell_type": "code",
   "execution_count": 58,
   "metadata": {},
   "outputs": [
    {
     "data": {
      "text/plain": [
       "('café', 'café')"
      ]
     },
     "execution_count": 58,
     "metadata": {},
     "output_type": "execute_result"
    }
   ],
   "source": [
    "# 예제 5-27\n",
    "# unicode.normalize()\n",
    "'''다양한 언어로 구성된 텍스트를 사용할 때는 텍스트를 비교하거나 저장하기 전에 \n",
    "   unicode.normalize('NFC',s)를 문자열 s에 적용하면 좋다.'''\n",
    "\n",
    "import unicodedata, functools\n",
    "\n",
    "nfc = functools.partial(unicodedata.normalize, 'NFC')\n",
    "s1 = 'café'\n",
    "s2 = 'cafe\\u0301'\n",
    "s1,s2"
   ]
  },
  {
   "cell_type": "code",
   "execution_count": 59,
   "metadata": {},
   "outputs": [
    {
     "data": {
      "text/plain": [
       "True"
      ]
     },
     "execution_count": 59,
     "metadata": {},
     "output_type": "execute_result"
    }
   ],
   "source": [
    "s1==s2"
   ]
  },
  {
   "cell_type": "code",
   "execution_count": 60,
   "metadata": {},
   "outputs": [
    {
     "data": {
      "text/plain": [
       "True"
      ]
     },
     "execution_count": 60,
     "metadata": {},
     "output_type": "execute_result"
    }
   ],
   "source": [
    "nfc(s1) ==nfc(s2)"
   ]
  },
  {
   "cell_type": "code",
   "execution_count": 61,
   "metadata": {},
   "outputs": [
    {
     "data": {
      "text/plain": [
       "'<img class=\"pic-frame\" src=\"wumpus.jpeg\" />'"
      ]
     },
     "execution_count": 61,
     "metadata": {},
     "output_type": "execute_result"
    }
   ],
   "source": [
    "# 예제 5-28\n",
    "# tag()함수에 partial()을 적용해서 위치 인수 하나와 키워드 인수 하나를 고정시킨다.\n",
    "\n",
    "from functools import partial\n",
    "\n",
    "# 첫번째 위치 인수를 img로, cls키워드 인수를 'pic-frame'으로 고정한 picture()함수를 생성한다.\n",
    "picture = partial(tag, 'img', cls = 'pic-frame')  \n",
    "picture(src='wumpus.jpeg')"
   ]
  },
  {
   "cell_type": "code",
   "execution_count": 62,
   "metadata": {},
   "outputs": [
    {
     "data": {
      "text/plain": [
       "<function __main__.tag(name, *content, cls=None, **attrs)>"
      ]
     },
     "execution_count": 62,
     "metadata": {},
     "output_type": "execute_result"
    }
   ],
   "source": [
    "picture.func"
   ]
  },
  {
   "cell_type": "code",
   "execution_count": 63,
   "metadata": {},
   "outputs": [
    {
     "data": {
      "text/plain": [
       "('img',)"
      ]
     },
     "execution_count": 63,
     "metadata": {},
     "output_type": "execute_result"
    }
   ],
   "source": [
    "picture.args"
   ]
  },
  {
   "cell_type": "code",
   "execution_count": 64,
   "metadata": {},
   "outputs": [
    {
     "data": {
      "text/plain": [
       "{'cls': 'pic-frame'}"
      ]
     },
     "execution_count": 64,
     "metadata": {},
     "output_type": "execute_result"
    }
   ],
   "source": [
    "picture.keywords"
   ]
  },
  {
   "cell_type": "markdown",
   "metadata": {},
   "source": [
    "끝"
   ]
  },
  {
   "cell_type": "code",
   "execution_count": null,
   "metadata": {},
   "outputs": [],
   "source": []
  }
 ],
 "metadata": {
  "kernelspec": {
   "display_name": "Python 3",
   "language": "python",
   "name": "python3"
  },
  "language_info": {
   "codemirror_mode": {
    "name": "ipython",
    "version": 3
   },
   "file_extension": ".py",
   "mimetype": "text/x-python",
   "name": "python",
   "nbconvert_exporter": "python",
   "pygments_lexer": "ipython3",
   "version": "3.6.9"
  }
 },
 "nbformat": 4,
 "nbformat_minor": 2
}
