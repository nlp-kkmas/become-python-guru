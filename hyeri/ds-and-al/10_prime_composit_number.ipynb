{
 "cells": [
  {
   "cell_type": "markdown",
   "metadata": {},
   "source": [
    "# prime number\n",
    "- 더이상 쪼개지지 않은 소수\n",
    "- 1을 제외하면 자신의 수로 구성되어 있는 것.\n",
    "- 2(1x2), 3(1x3), 5(1x5)\n",
    "\n",
    "# composit number\n",
    "- 합성수\n",
    "- 소수와 반대로 1과 자신의 수가 아니더라고 다른 소수의 곱으로 만들어질 수 있는것.\n",
    "- 6은 1,2,3,6을 양의 약수로 갖기 때문에 소수가 아닌 합성수이다.\n",
    "\n",
    "## 10.1 Counting divisors\n",
    "- 가장 쉬운 법은 1 to n까지 돌면서 어떤 수가 divisor인지 아닌지 판별하는 방법(0(N))\n",
    "- the symmetric divisor(대칭)\n",
    "    - *a*가 divisor라면, n/a도 divisor일 것이다. \n",
    "    - 이 두개의 divisors 중 하나는 루트n과 같거나 작을 것이다. \n",
    "    - 즉 1부터 루트n까지 이터레이션 돌면서 모든 divisors를 찾는다. \n",
    "    - n이 k의 제곱으로 이뤄진 형태면, k의 symmetric divisor 역시 k일 것"
   ]
  },
  {
   "cell_type": "code",
   "execution_count": 3,
   "metadata": {},
   "outputs": [],
   "source": [
    "n = 36"
   ]
  },
  {
   "cell_type": "code",
   "execution_count": 4,
   "metadata": {},
   "outputs": [
    {
     "name": "stdout",
     "output_type": "stream",
     "text": [
      "9\n"
     ]
    }
   ],
   "source": [
    "i=1\n",
    "result = 0\n",
    "while ( i*i<n ):\n",
    "    if n%i==0:\n",
    "        result +=2\n",
    "    i +=1\n",
    "    \n",
    "if (i*i ==n):\n",
    "    result +=1\n",
    "print(result)"
   ]
  },
  {
   "cell_type": "markdown",
   "metadata": {},
   "source": [
    "## 10.2 Primality test\n",
    "- 2~(n-1)까지 인수가 n으로 나눠떨어지면 n은 합성수이고, 아니면 소수이다.\n",
    "- 예를 들어 6을 보자.\n",
    "    - 1 < k <= (6-1)까지의 연속되는 양의 정수 [2,3,4,5]로 나눠보면 나머지는 [0,0,2,1]이다.\n",
    "    - 1과 6이외에도 [2,3]으로 나누면 나머지가 0이 되니까 합성수이다.\n",
    "- 예를 들어 5를 보자.\n",
    "    - 1 < k <= (5-1)까지의 연속되는 양의 정수 [2,3,4]로 나눠보면 나머지는 [1,2,1]이다.\n",
    "    - 나머지가 0이 안되니까 소수이다."
   ]
  },
  {
   "cell_type": "code",
   "execution_count": 7,
   "metadata": {},
   "outputs": [],
   "source": [
    "def primality(n):\n",
    "    i = 2\n",
    "    while (i*i<=n):\n",
    "        if (n % i == 0):\n",
    "            return False     # 합성수임\n",
    "        i +=1\n",
    "    return True"
   ]
  },
  {
   "cell_type": "code",
   "execution_count": 8,
   "metadata": {},
   "outputs": [],
   "source": [
    "def prime_number(num):\n",
    "    '''\n",
    "    <소수의 조건>\n",
    "    1. 1은 소수가 아님 -> 먼저 걸러라\n",
    "    2. 2부터 num미만(2<k<num)까지 인수에 대해 나머지가 0이면 합성수\n",
    "    '''\n",
    "    # num이 1이 아니면, 1은 소수가 아님\n",
    "    if num !=1:\n",
    "        # 2,3,4,..,(num-1) 까지 인수에 대해\n",
    "        for f in range(2,num):\n",
    "            # num이 위의 인수 중 하나로 나눠 0이되면,\n",
    "            if num % f ==0:\n",
    "                return False   # 소수가 아님\n",
    "            \n",
    "    # num이 1이면 소수가 아님\n",
    "    else:\n",
    "        return False          \n",
    "    \n",
    "    # num이 1이 아니면서 2~(num-1)까지 인수로 나워지지 않으면\n",
    "    # 소수이다.\n",
    "    return True"
   ]
  },
  {
   "cell_type": "code",
   "execution_count": 10,
   "metadata": {},
   "outputs": [
    {
     "name": "stdout",
     "output_type": "stream",
     "text": [
      "False\n",
      "False\n"
     ]
    }
   ],
   "source": [
    "print(primality(n))\n",
    "print(prime_number(n))"
   ]
  },
  {
   "cell_type": "markdown",
   "metadata": {},
   "source": [
    "## 10.3 Excercises\n",
    "- 동전은 홀수개만 뒤집힐 것. => 홀수개의 인수를 찾는 것.\n",
    "- 모든 숫자는 sysmmetric divisor를 가지니까 k^2의 형태를 가지는 모든 숫자들은 홀수개의 divisor를 가진다. \n",
    "- 1(1^2), 4(2^2/ 1,2,4), 9(3^3/ 1,3,9), 16(4^4/ 1,2,4,8,16), 25(5^5/ 1,5,25)"
   ]
  },
  {
   "cell_type": "code",
   "execution_count": 22,
   "metadata": {},
   "outputs": [],
   "source": [
    "def coins(n):\n",
    "    result = 0\n",
    "    coin = [0]*(n+1)  # 왜 n+1로 ?\n",
    "    \n",
    "    for i in range(1, n+1):\n",
    "        k = i\n",
    "        while (k <=n):\n",
    "            coin[k] = (coin[k]+1) % 2\n",
    "            k += i\n",
    "        result += coin[i]\n",
    "    return result"
   ]
  },
  {
   "cell_type": "code",
   "execution_count": 21,
   "metadata": {},
   "outputs": [
    {
     "name": "stdout",
     "output_type": "stream",
     "text": [
      "3\n"
     ]
    }
   ],
   "source": [
    "n=10  # 1~10까지\n",
    "\n",
    "result = 0\n",
    "coin = [0]*(n+1)  # 왜 n+1로 ?\n",
    "\n",
    "for i in range(1, n+1):\n",
    "    k = i\n",
    "    while (k <=n):\n",
    "        coin[k] = (coin[k]+1) % 2\n",
    "        k += i\n",
    "    result += coin[i]\n",
    "print(result)"
   ]
  },
  {
   "cell_type": "markdown",
   "metadata": {},
   "source": [
    "# 문제1. countFactors\n",
    "\n",
    "A positive integer D is a factor of a positive integer N if there exists an integer M such that N = D * M.\n",
    "\n",
    "For example, 6 is a factor of 24, because M = 4 satisfies the above condition (24 = 6 * 4).\n",
    "\n",
    "Write a function:\n",
    "\n",
    "    def solution(N)\n",
    "\n",
    "that, given a positive integer N, returns the number of its factors.\n",
    "\n",
    "For example, given N = 24, the function should return 8, because 24 has 8 factors, namely 1, 2, 3, 4, 6, 8, 12, 24. There are no other factors of 24.\n",
    "\n",
    "Write an efficient algorithm for the following assumptions:\n",
    "\n",
    "N is an integer within the range [1..2,147,483,647]."
   ]
  },
  {
   "cell_type": "code",
   "execution_count": 27,
   "metadata": {},
   "outputs": [
    {
     "name": "stdout",
     "output_type": "stream",
     "text": [
      "8\n"
     ]
    }
   ],
   "source": [
    "N = 24\n",
    "factors = []\n",
    "for i in range(1, N+1):\n",
    "    # N=24를 2~23까지 인수 중 하나씩 나눴을 때 나눠떨어지면(나머지가 0) factors!!!\n",
    "    if N % i == 0: \n",
    "        factors.append(i)\n",
    "#         print(i)\n",
    "print(len(factors))"
   ]
  },
  {
   "cell_type": "code",
   "execution_count": 28,
   "metadata": {},
   "outputs": [
    {
     "data": {
      "text/plain": [
       "8"
      ]
     },
     "execution_count": 28,
     "metadata": {},
     "output_type": "execute_result"
    }
   ],
   "source": [
    "def solution(N):\n",
    "    factors = []\n",
    "    for i in range(1, N+1):\n",
    "        # N=24를 2~23까지 인수 중 하나씩 나눴을 때 나눠떨어지면(나머지가 0) factors!!!\n",
    "        if N % i == 0: \n",
    "            factors.append(i)\n",
    "    return len(factors)\n",
    "\n",
    "solution(24)"
   ]
  },
  {
   "cell_type": "markdown",
   "metadata": {},
   "source": [
    "점수 : 57점 =>O(N) time out  \n",
    "링크 : https://app.codility.com/demo/results/trainingR9KMG4-GR7/"
   ]
  },
  {
   "cell_type": "code",
   "execution_count": null,
   "metadata": {},
   "outputs": [],
   "source": [
    "# 루트개로 하자!!"
   ]
  },
  {
   "cell_type": "code",
   "execution_count": 35,
   "metadata": {},
   "outputs": [],
   "source": [
    "import math\n",
    "\n",
    "sqrt = math.sqrt( N )\n",
    "sqrt = int(sqrt)"
   ]
  },
  {
   "cell_type": "code",
   "execution_count": 41,
   "metadata": {},
   "outputs": [
    {
     "name": "stdout",
     "output_type": "stream",
     "text": [
      "8\n"
     ]
    }
   ],
   "source": [
    "count = 0\n",
    "for i in range(1,sqrt+1):\n",
    "#     print(i)\n",
    "    if N % i == 0 :\n",
    "        '''\n",
    "        >> print(N, N//i,i)\n",
    "        24 24 1\n",
    "        24 12 2\n",
    "        24 8 3\n",
    "        24 6 4\n",
    "        '''\n",
    "        # pair(24,1/ 12,2/ 8,3/ 6,4) 니까 인수의 개수를 2개씩 늘려준다.\n",
    "        count +=2\n",
    "\n",
    "# 16처럼 k^2형태면 1개 빼줘야 함\n",
    "# 16을 예로 들면, \n",
    "# 제곱근16(16**(1/2))은 4이다. 1~4까지 인수들을 16으로 나눴을 때 나머지가 되는 수는\n",
    "# [1,2,4] 3개이고 위의 규칙을 따르면 총 인수의 개수는 3개 x 2 = 6개 일 것.\n",
    "# 하지만 실제로는 5개이다.\n",
    "# 그러니까 16처럼 k^2인 수는 총 개수에서 -1개 해줄것.\n",
    "if sqrt * sqrt == N:\n",
    "    count -= 1\n",
    "    \n",
    "print(count)"
   ]
  },
  {
   "cell_type": "code",
   "execution_count": 42,
   "metadata": {},
   "outputs": [
    {
     "data": {
      "text/plain": [
       "8"
      ]
     },
     "execution_count": 42,
     "metadata": {},
     "output_type": "execute_result"
    }
   ],
   "source": [
    "import math\n",
    "\n",
    "def solution(N):\n",
    "    # 1 ~ sqrt(N)개의 인수로 나눠떨어지면 쌍(2개씩)으로 할 것!\n",
    "    sqrt = math.sqrt( N )\n",
    "    sqrt = int(sqrt)\n",
    "    count = 0\n",
    "    for i in range(1,sqrt+1):\n",
    "        if N % i == 0 :\n",
    "            count +=2\n",
    "\n",
    "\n",
    "    if sqrt * sqrt == N:\n",
    "        count -= 1\n",
    "\n",
    "    return count\n",
    "\n",
    "solution(N)"
   ]
  },
  {
   "cell_type": "markdown",
   "metadata": {},
   "source": [
    "점수 : 100점  \n",
    "링크 : https://app.codility.com/demo/results/trainingAMEGGB-VT5/"
   ]
  },
  {
   "attachments": {
    "image.png": {
     "image/png": "[encoded data removed]"
    }
   },
   "cell_type": "markdown",
   "metadata": {},
   "source": [
    "# 문제2. Flags\n",
    "\n",
    "A non-empty array A consisting of N integers is given.\n",
    "\n",
    "A peak is an array element which is larger than its neighbours. More precisely, it is an index P such that 0 < P < N − 1 and A[P − 1] < A[P] > A[P + 1].\n",
    "\n",
    "For example, the following array A:\n",
    "\n",
    "    A[0] = 1  \n",
    "    A[1] = 5  \n",
    "    A[2] = 3  \n",
    "    A[3] = 4  \n",
    "    A[4] = 3  \n",
    "    A[5] = 4  \n",
    "    A[6] = 1  \n",
    "    A[7] = 2  \n",
    "    A[8] = 3  \n",
    "    A[9] = 4  \n",
    "    A[10] = 6  \n",
    "    A[11] = 2  \n",
    "has exactly four peaks: elements 1, 3, 5 and 10.\n",
    "\n",
    "You are going on a trip to a range of mountains whose relative heights are represented by array A, as shown in a figure below. You have to choose how many flags you should take with you. The goal is to set the maximum number of flags on the peaks, according to certain rules.\n",
    "\n",
    "![image.png](attachment:image.png)\n",
    "\n",
    "Flags can only be set on peaks. What's more, if you take K flags, then the distance between any two flags should be greater than or equal to K. The distance between indices P and Q is the absolute value |P − Q|.\n",
    "\n",
    "For example, given the mountain range represented by array A, above, with N = 12, if you take:\n",
    "\n",
    "two flags, you can set them on peaks 1 and 5;\n",
    "three flags, you can set them on peaks 1, 5 and 10;\n",
    "four flags, you can set only three flags, on peaks 1, 5 and 10.\n",
    "You can therefore set a maximum of three flags in this case.\n",
    "\n",
    "Write a function:\n",
    "\n",
    "    def solution(A)\n",
    "\n",
    "that, given a non-empty array A of N integers, returns the maximum number of flags that can be set on the peaks of the array.\n",
    "\n",
    "For example, the following array A:\n",
    "\n",
    "    A[0] = 1  \n",
    "    A[1] = 5  \n",
    "    A[2] = 3  \n",
    "    A[3] = 4  \n",
    "    A[4] = 3  \n",
    "    A[5] = 4  \n",
    "    A[6] = 1  \n",
    "    A[7] = 2  \n",
    "    A[8] = 3  \n",
    "    A[9] = 4  \n",
    "    A[10] = 6  \n",
    "    A[11] = 2  \n",
    "the function should return 3, as explained above.\n",
    "\n",
    "Write an efficient algorithm for the following assumptions:\n",
    "\n",
    "N is an integer within the range [1..400,000];\n",
    "each element of array A is an integer within the range [0..1,000,000,000]."
   ]
  },
  {
   "cell_type": "code",
   "execution_count": 53,
   "metadata": {},
   "outputs": [],
   "source": [
    "A = [1,5,3,4,3,4,1,2,3,4,6,2]"
   ]
  },
  {
   "cell_type": "code",
   "execution_count": 56,
   "metadata": {},
   "outputs": [
    {
     "ename": "TypeError",
     "evalue": "unsupported operand type(s) for -: 'list' and 'int'",
     "output_type": "error",
     "traceback": [
      "\u001b[1;31m---------------------------------------------------------------------------\u001b[0m",
      "\u001b[1;31mTypeError\u001b[0m                                 Traceback (most recent call last)",
      "\u001b[1;32m<ipython-input-56-939a9cfe2ff8>\u001b[0m in \u001b[0;36m<module>\u001b[1;34m\u001b[0m\n\u001b[1;32m----> 1\u001b[1;33m \u001b[1;32mfor\u001b[0m \u001b[0midx\u001b[0m\u001b[1;33m,\u001b[0m \u001b[0mnum\u001b[0m \u001b[1;32min\u001b[0m \u001b[0menumerate\u001b[0m\u001b[1;33m(\u001b[0m\u001b[0mA\u001b[0m\u001b[1;33m-\u001b[0m\u001b[1;36m2\u001b[0m\u001b[1;33m)\u001b[0m\u001b[1;33m:\u001b[0m\u001b[1;33m\u001b[0m\u001b[1;33m\u001b[0m\u001b[0m\n\u001b[0m\u001b[0;32m      2\u001b[0m     \u001b[0mprint\u001b[0m\u001b[1;33m(\u001b[0m\u001b[0midx\u001b[0m\u001b[1;33m,\u001b[0m\u001b[0mnum\u001b[0m\u001b[1;33m)\u001b[0m\u001b[1;33m\u001b[0m\u001b[1;33m\u001b[0m\u001b[0m\n\u001b[0;32m      3\u001b[0m \u001b[1;31m#     if A[idx]\u001b[0m\u001b[1;33m\u001b[0m\u001b[1;33m\u001b[0m\u001b[1;33m\u001b[0m\u001b[0m\n",
      "\u001b[1;31mTypeError\u001b[0m: unsupported operand type(s) for -: 'list' and 'int'"
     ]
    }
   ],
   "source": [
    "for idx, num in enumerate(A-2):\n",
    "    print(idx,num)\n",
    "#     if A[idx]"
   ]
  },
  {
   "cell_type": "code",
   "execution_count": 72,
   "metadata": {},
   "outputs": [
    {
     "name": "stdout",
     "output_type": "stream",
     "text": [
      "1 ,, 1 5 3 ,, (1, 5)\n",
      "3 ,, 3 4 3 ,, (3, 4)\n",
      "5 ,, 3 4 1 ,, (5, 4)\n",
      "10 ,, 4 6 2 ,, (10, 6)\n"
     ]
    }
   ],
   "source": [
    "# dist = {'idx':[], 'peak':[]}\n",
    "dist = {}\n",
    "for i in range(1,len(A)-1):\n",
    "#     print(i)\n",
    "#     print(i, \",,\",A[i-1], A[i], A[i+1])\n",
    "    if (A[i-1] < A[i]) & (A[i] > A[i+1]):\n",
    "        print(i, \",,\",A[i-1], A[i], A[i+1], \",,\", (i,A[i]))\n",
    "        dist[i] = A[i]\n",
    "        "
   ]
  },
  {
   "cell_type": "code",
   "execution_count": 73,
   "metadata": {},
   "outputs": [
    {
     "data": {
      "text/plain": [
       "{1: 5, 3: 4, 5: 4, 10: 6}"
      ]
     },
     "execution_count": 73,
     "metadata": {},
     "output_type": "execute_result"
    }
   ],
   "source": [
    "dist"
   ]
  },
  {
   "cell_type": "code",
   "execution_count": null,
   "metadata": {},
   "outputs": [],
   "source": []
  },
  {
   "cell_type": "code",
   "execution_count": null,
   "metadata": {},
   "outputs": [],
   "source": []
  },
  {
   "cell_type": "code",
   "execution_count": null,
   "metadata": {},
   "outputs": [],
   "source": []
  },
  {
   "cell_type": "markdown",
   "metadata": {},
   "source": [
    "# 문제3. MinPerimeterRectangle\n",
    "\n",
    "An integer N is given, representing the area of some rectangle.\n",
    "\n",
    "The area of a rectangle whose sides are of length A and B is A * B, and the perimeter is 2 * (A + B).\n",
    "\n",
    "The goal is to find the minimal perimeter of any rectangle whose area equals N. The sides of this rectangle should be only integers.\n",
    "\n",
    "For example, given integer N = 30, rectangles of area 30 are:\n",
    "\n",
    "(1, 30), with a perimeter of 62,  \n",
    "(2, 15), with a perimeter of 34,  \n",
    "(3, 10), with a perimeter of 26,  \n",
    "(5, 6), with a perimeter of 22.  \n",
    "\n",
    "Write a function:\n",
    "\n",
    "    def solution(N)\n",
    "\n",
    "that, given an integer N, returns the minimal perimeter of any rectangle whose area is exactly equal to N.\n",
    "\n",
    "For example, given an integer N = 30, the function should return 22, as explained above.\n",
    "\n",
    "Write an efficient algorithm for the following assumptions:\n",
    "\n",
    "N is an integer within the range [1..1,000,000,000]."
   ]
  },
  {
   "cell_type": "code",
   "execution_count": 48,
   "metadata": {},
   "outputs": [
    {
     "name": "stdout",
     "output_type": "stream",
     "text": [
      ",, 16 16 1\n",
      ",, 16 8 2\n",
      ",, 16 4 4\n",
      "res  [34, 20, 16] 16\n",
      "16 4 4\n"
     ]
    }
   ],
   "source": [
    "# 둘레\n",
    "N=16\n",
    "sqrt = math.sqrt( N )\n",
    "sqrt = int(sqrt)\n",
    "perimeter_list = []\n",
    "for i in range(1,sqrt+1):\n",
    "    if N % i == 0 :\n",
    "        print(\",,\",N, N//i, i)\n",
    "        perimeter = 2 * (N//i + i)\n",
    "        perimeter_list.append(perimeter)\n",
    "\n",
    "print(\"res \", perimeter_list, min(perimeter_list))\n",
    "\n",
    "\n",
    "if sqrt * sqrt == N:\n",
    "    print(N, N//i, i)\n",
    "\n"
   ]
  },
  {
   "cell_type": "code",
   "execution_count": 52,
   "metadata": {},
   "outputs": [
    {
     "data": {
      "text/plain": [
       "22"
      ]
     },
     "execution_count": 52,
     "metadata": {},
     "output_type": "execute_result"
    }
   ],
   "source": [
    "def solution(N):\n",
    "    sqrt = math.sqrt( N )\n",
    "    sqrt = int(sqrt)\n",
    "    perimeter_list = []\n",
    "    for i in range(1,sqrt+1):\n",
    "        if N % i == 0 :\n",
    "            perimeter = 2 * (N//i + i)\n",
    "            perimeter_list.append(perimeter)\n",
    "\n",
    "#     print(\"res \", perimeter_list, min(perimeter_list))\n",
    "    return min(perimeter_list)\n",
    "\n",
    "solution(30)"
   ]
  },
  {
   "cell_type": "markdown",
   "metadata": {},
   "source": [
    "점수 : 100  \n",
    "링크 : https://app.codility.com/demo/results/trainingKGHNST-FM7/"
   ]
  },
  {
   "cell_type": "code",
   "execution_count": null,
   "metadata": {},
   "outputs": [],
   "source": []
  }
 ],
 "metadata": {
  "kernelspec": {
   "display_name": "Python 3",
   "language": "python",
   "name": "python3"
  },
  "language_info": {
   "codemirror_mode": {
    "name": "ipython",
    "version": 3
   },
   "file_extension": ".py",
   "mimetype": "text/x-python",
   "name": "python",
   "nbconvert_exporter": "python",
   "pygments_lexer": "ipython3",
   "version": "3.7.3"
  }
 },
 "nbformat": 4,
 "nbformat_minor": 2
}
