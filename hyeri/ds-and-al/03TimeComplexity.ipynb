{
 "cells": [
  {
   "cell_type": "markdown",
   "metadata": {},
   "source": [
    "# 문제 1\n",
    "# FrogJump\n",
    "\n",
    "A small frog wants to get to the other side of the road. The frog is currently located at position X and wants to get to a position greater than or equal to Y. The small frog always jumps a fixed distance, D.\n",
    "\n",
    "Count the minimal number of jumps that the small frog must perform to reach its target.\n",
    "\n",
    "Write a function:\n",
    "\n",
    "    def solution(X, Y, D)\n",
    "\n",
    "that, given three integers X, Y and D, returns the minimal number of jumps from position X to a position equal to or greater than Y.\n",
    "\n",
    "For example, given:\n",
    "\n",
    "  X = 10  \n",
    "  Y = 85  \n",
    "  D = 30  \n",
    "the function should return 3, because the frog will be positioned as follows:\n",
    "\n",
    "after the first jump, at position 10 + 30 = 40  \n",
    "after the second jump, at position 10 + 30 + 30 = 70  \n",
    "after the third jump, at position 10 + 30 + 30 + 30 = 100  \n",
    "Write an efficient algorithm for the following assumptions:\n",
    "\n",
    "X, Y and D are integers within the range [1..1,000,000,000];\n",
    "X ≤ Y."
   ]
  },
  {
   "cell_type": "code",
   "execution_count": 6,
   "metadata": {},
   "outputs": [
    {
     "data": {
      "text/plain": [
       "(2, 15)"
      ]
     },
     "execution_count": 6,
     "metadata": {},
     "output_type": "execute_result"
    }
   ],
   "source": [
    "divmod(75, 30)"
   ]
  },
  {
   "cell_type": "code",
   "execution_count": 7,
   "metadata": {},
   "outputs": [
    {
     "data": {
      "text/plain": [
       "True"
      ]
     },
     "execution_count": 7,
     "metadata": {},
     "output_type": "execute_result"
    }
   ],
   "source": [
    "bool(15)"
   ]
  },
  {
   "cell_type": "code",
   "execution_count": 16,
   "metadata": {},
   "outputs": [],
   "source": [
    "def solution(X,Y,D):\n",
    "    # 조건 1 : 출발지점은 도착지점보다 작을 수 없다.\n",
    "    if X > Y:\n",
    "        pass\n",
    "    else:\n",
    "        # 출발지점부터 목표지점까지의 거리(Y-X)는 개구리가 뒨 거리(D)*횟수(n)보다 작아지는 지점에서 횟수가 나온다.\n",
    "        # X + n*D >= Y --> n >= Y-X/D\n",
    "        # Y-X/D의 몫보다 커지는 n을 구하면 됨\n",
    "        minJump = (Y-X) // D\n",
    "#         quo, rem = divmod(Y-X, D) # 이런 방법도 있음\n",
    "        return minJump+1\n",
    "    "
   ]
  },
  {
   "cell_type": "code",
   "execution_count": 17,
   "metadata": {},
   "outputs": [
    {
     "data": {
      "text/plain": [
       "3"
      ]
     },
     "execution_count": 17,
     "metadata": {},
     "output_type": "execute_result"
    }
   ],
   "source": [
    "solution(10,85,30)"
   ]
  },
  {
   "cell_type": "markdown",
   "metadata": {},
   "source": [
    "# 문제2\n",
    "# PermMissingElem\n",
    "**Find the missing element in a given permutation.**\n",
    "\n",
    "An array A consisting of N different integers is given. The array contains integers in the range [1..(N + 1)], which means that exactly one element is missing.\n",
    "\n",
    "Your goal is to find that missing element.\n",
    "\n",
    "Write a function:\n",
    "\n",
    "    def solution(A)\n",
    "\n",
    "that, given an array A, returns the value of the missing element.\n",
    "\n",
    "For example, given array A such that:\n",
    "\n",
    "      A[0] = 2  \n",
    "      A[1] = 3  \n",
    "      A[2] = 1  \n",
    "      A[3] = 5  \n",
    "the function should return 4, as it is the missing element.\n",
    "\n",
    "Write an efficient algorithm for the following assumptions:\n",
    "\n",
    "N is an integer within the range [0..100,000];\n",
    "the elements of A are all distinct;\n",
    "each element of array A is an integer within the range [1..(N + 1)]."
   ]
  },
  {
   "cell_type": "code",
   "execution_count": 65,
   "metadata": {},
   "outputs": [],
   "source": [
    "def solution(A):\n",
    "    # 1. 배열 A의 missing이 없을 때의 연속적인 숫자 집합을 구한다.\n",
    "    A_sorted = sorted(A)\n",
    "    min_ =  min(sorted(A))\n",
    "    max_ =  max(sorted(A))\n",
    "    A_all = {i for i in range(min_,max_+1)}\n",
    "    \n",
    "    # 2. 여집합을 구한다. 또는 차집합 구한다.\n",
    "    result = list(A_all^set(A))\n",
    "    return result[0]"
   ]
  },
  {
   "cell_type": "code",
   "execution_count": 67,
   "metadata": {},
   "outputs": [
    {
     "data": {
      "text/plain": [
       "4"
      ]
     },
     "execution_count": 67,
     "metadata": {},
     "output_type": "execute_result"
    }
   ],
   "source": [
    "solution(A)"
   ]
  },
  {
   "cell_type": "code",
   "execution_count": 68,
   "metadata": {},
   "outputs": [
    {
     "data": {
      "text/plain": [
       "458"
      ]
     },
     "execution_count": 68,
     "metadata": {},
     "output_type": "execute_result"
    }
   ],
   "source": [
    "B = [456,457,459]\n",
    "solution(B)"
   ]
  },
  {
   "cell_type": "markdown",
   "metadata": {},
   "source": [
    "# 문제3\n",
    "# TapeEquilibrium\n",
    "**Minimize the value |(A[0] + ... + A[P-1]) - (A[P] + ... + A[N-1])|**\n",
    "\n",
    "A non-empty array A consisting of N integers is given. Array A represents numbers on a tape.\n",
    "\n",
    "Any integer P, such that 0 < P < N, splits this tape into two non-empty parts: A[0], A[1], ..., A[P − 1] and A[P], A[P + 1], ..., A[N − 1].\n",
    "\n",
    "The difference between the two parts is the value of: |(A[0] + A[1] + ... + A[P − 1]) − (A[P] + A[P + 1] + ... + A[N − 1])|\n",
    "\n",
    "In other words, it is the absolute difference between the sum of the first part and the sum of the second part.\n",
    "\n",
    "For example, consider array A such that:\n",
    "\n",
    "      A[0] = 3  \n",
    "      A[1] = 1  \n",
    "      A[2] = 2  \n",
    "      A[3] = 4  \n",
    "      A[4] = 3  \n",
    "We can split this tape in four places:\n",
    "\n",
    "    P = 1, difference = |3 − 10| = 7  \n",
    "    P = 2, difference = |4 − 9| = 5  \n",
    "    P = 3, difference = |6 − 7| = 1  \n",
    "    P = 4, difference = |10 − 3| = 7  \n",
    "Write a function:\n",
    "\n",
    "    def solution(A)\n",
    "\n",
    "that, given a non-empty array A of N integers, returns the minimal difference that can be achieved.\n",
    "\n",
    "For example, given:\n",
    "\n",
    "      A[0] = 3  \n",
    "      A[1] = 1  \n",
    "      A[2] = 2  \n",
    "      A[3] = 4  \n",
    "      A[4] = 3  \n",
    "the function should return 1, as explained above.\n",
    "\n",
    "Write an efficient algorithm for the following assumptions:\n",
    "\n",
    "N is an integer within the range [2..100,000];\n",
    "each element of array A is an integer within the range [−1,000..1,000]."
   ]
  },
  {
   "cell_type": "code",
   "execution_count": 125,
   "metadata": {},
   "outputs": [],
   "source": [
    "def solution(A):\n",
    "    abs_list =  [ abs( sum(A[:P])-sum(A[P:])) for P, el in enumerate(A) if len(A)>P>0] \n",
    "    min_abs = min(abs_list)\n",
    "    return min_abs"
   ]
  },
  {
   "cell_type": "code",
   "execution_count": 126,
   "metadata": {},
   "outputs": [
    {
     "data": {
      "text/plain": [
       "1"
      ]
     },
     "execution_count": 126,
     "metadata": {},
     "output_type": "execute_result"
    }
   ],
   "source": [
    "solution(A)"
   ]
  },
  {
   "cell_type": "code",
   "execution_count": null,
   "metadata": {},
   "outputs": [],
   "source": []
  }
 ],
 "metadata": {
  "kernelspec": {
   "display_name": "Python 3",
   "language": "python",
   "name": "python3"
  },
  "language_info": {
   "codemirror_mode": {
    "name": "ipython",
    "version": 3
   },
   "file_extension": ".py",
   "mimetype": "text/x-python",
   "name": "python",
   "nbconvert_exporter": "python",
   "pygments_lexer": "ipython3",
   "version": "3.7.3"
  }
 },
 "nbformat": 4,
 "nbformat_minor": 2
}
