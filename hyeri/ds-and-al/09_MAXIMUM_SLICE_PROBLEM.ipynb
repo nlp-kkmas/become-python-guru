{
 "cells": [
  {
   "cell_type": "markdown",
   "metadata": {},
   "source": [
    "# Maximim slice problem\n",
    "- To find the slice with the largest sum\n",
    "\n",
    "## 9.1 solution1\n",
    "- to analyze all the slices and choose the one with the largest sum\n",
    "- O(n^3)\n",
    "\n",
    "## 9.2 solution2 \n",
    "- prefix sum allows the sum of any slice to be computed in a constant time\n",
    "- O(N^2)\n",
    "\n",
    "## 9.3 solution3\n",
    "- Kadane's algorithm\n",
    "- 앞에 답을 기억해놨다가 끝에 걸 반영하자! 굳이 처음부터 연산하지 말고!\n",
    "- 새로 들어온 값과 이전까지 합+새로들어온 값을 비교해서 max값 뽑으면 된다.\n",
    "- localMax[i] = max(A[i], A[i]+localMax[i-1])"
   ]
  },
  {
   "cell_type": "code",
   "execution_count": null,
   "metadata": {},
   "outputs": [],
   "source": [
    "# 9.1\n",
    "def slow_max_slice(A):\n",
    "    n = len(A)\n",
    "    result = 0\n",
    "    for p in range(n):\n",
    "        for q in range(p,n):\n",
    "            sum = 0\n",
    "            for i in range(p, q+1):\n",
    "                sum_ += A[i]\n",
    "            result = max(result, sum_)\n",
    "    return result\n",
    "\n",
    "# 9.2 \n",
    "# prefix sum\n",
    "\n",
    "def quadractic_max_slice(A, pref):\n",
    "    n = len(A)\n",
    "    result = 0\n",
    "    for p in range(n):\n",
    "        for q in range(p,n):\n",
    "            sum_ = pred[q+1] - pref[p]\n",
    "            result = max(result, sum_)\n",
    "    return result\n",
    "\n",
    "def quadratic_max_slice(A):\n",
    "     n = len(A)\n",
    "    result = 0\n",
    "    for p in range(n):\n",
    "        sum_ = 0\n",
    "        for q in range(p, n):\n",
    "            sum_ += A[q]\n",
    "            result = max(result,sum_)\n",
    "    return result\n",
    "\n",
    "# 9.3\n",
    "def golden_max_slice(A):\n",
    "    max_ending = max_slice = 0\n",
    "    for a in A:\n",
    "        max_ending = max(0, max_ending+a)\n",
    "        max_slice  = max(max_slice, max_ending)\n",
    "        \n",
    "    return max_slice"
   ]
  },
  {
   "cell_type": "markdown",
   "metadata": {},
   "source": [
    "# 1. MaxDoubleSliceSum\n",
    "find the maximal sum of any double slice\n",
    "\n",
    "A non-empty array A consisting of N integers is given.\n",
    "\n",
    "A triplet (X, Y, Z), such that 0 ≤ X < Y < Z < N, is called a double slice.\n",
    "\n",
    "The sum of double slice (X, Y, Z) is the total of A[X + 1] + A[X + 2] + ... + A[Y − 1] + A[Y + 1] + A[Y + 2] + ... + A[Z − 1].\n",
    "\n",
    "For example, array A such that:\n",
    "\n",
    "    A[0] = 3  \n",
    "    A[1] = 2  \n",
    "    A[2] = 6  \n",
    "    A[3] = -1  \n",
    "    A[4] = 4  \n",
    "    A[5] = 5  \n",
    "    A[6] = -1  \n",
    "    A[7] = 2   \n",
    "contains the following example double slices:\n",
    "\n",
    "double slice (0, 3, 6), sum is 2 + 6 + 4 + 5 = 17,  \n",
    "double slice (0, 3, 7), sum is 2 + 6 + 4 + 5 − 1 = 16,  \n",
    "double slice (3, 4, 5), sum is 0.  \n",
    "The goal is to find the maximal sum of any double slice.\n",
    "\n",
    "Write a function:\n",
    "\n",
    "    def solution(A)\n",
    "\n",
    "that, given a non-empty array A consisting of N integers, returns the maximal sum of any double slice.\n",
    "\n",
    "For example, given:\n",
    "\n",
    "    A[0] = 3  \n",
    "    A[1] = 2  \n",
    "    A[2] = 6  \n",
    "    A[3] = -1  \n",
    "    A[4] = 4  \n",
    "    A[5] = 5  \n",
    "    A[6] = -1  \n",
    "    A[7] = 2  \n",
    "the function should return 17, because no double slice of array A has a sum of greater than 17.\n",
    "\n",
    "Write an efficient algorithm for the following assumptions:\n",
    "\n",
    "N is an integer within the range [3..100,000];\n",
    "each element of array A is an integer within the range [−10,000..10,000]."
   ]
  },
  {
   "cell_type": "code",
   "execution_count": 47,
   "metadata": {},
   "outputs": [],
   "source": [
    "A = [3,2,6,-1,4,5,-1,2]"
   ]
  },
  {
   "cell_type": "code",
   "execution_count": 119,
   "metadata": {},
   "outputs": [
    {
     "name": "stdout",
     "output_type": "stream",
     "text": [
      "0 2\n",
      "1 8\n",
      "2 7\n",
      "3 11\n",
      "4 16\n",
      "5 15\n",
      "6 17\n"
     ]
    }
   ],
   "source": [
    "localMax = 0\n",
    "globalMAx = 0\n",
    "for i in range(len(A)-1):\n",
    "#     print(i,A[i+1])\n",
    "    localMax = max(A[i+1], localMax+A[i+1])\n",
    "    print(i, localMax)"
   ]
  },
  {
   "cell_type": "code",
   "execution_count": 120,
   "metadata": {},
   "outputs": [
    {
     "name": "stdout",
     "output_type": "stream",
     "text": [
      "7 -1\n",
      "6 5\n",
      "5 9\n",
      "4 8\n",
      "3 14\n",
      "2 16\n",
      "1 19\n"
     ]
    }
   ],
   "source": [
    "rightMax=0\n",
    "for i in range(len(A)-1,0,-1):\n",
    "    rightMax = max(A[i-1], rightMax+A[i-1])\n",
    "    print(i, rightMax)"
   ]
  },
  {
   "cell_type": "code",
   "execution_count": 162,
   "metadata": {},
   "outputs": [
    {
     "name": "stdout",
     "output_type": "stream",
     "text": [
      "-2\n",
      "4\n",
      "4\n"
     ]
    }
   ],
   "source": [
    "for i in range(1,len(A)-1):\n",
    "    localMax = max(A[i+1], localMax+A[i+1])\n",
    "    print(i,localMax)"
   ]
  },
  {
   "cell_type": "markdown",
   "metadata": {},
   "source": [
    "# 2. MaxProfit\n",
    "An array A consisting of N integers is given. It contains daily prices of a stock share for a period of N consecutive days. If a single share was bought on day P and sold on day Q, where 0 ≤ P ≤ Q < N, then the profit of such transaction is equal to A[Q] − A[P], provided that A[Q] ≥ A[P]. Otherwise, the transaction brings loss of A[P] − A[Q].\n",
    "\n",
    "For example, consider the following array A consisting of six elements such that:\n",
    "\n",
    "  A[0] = 23171  \n",
    "  A[1] = 21011  \n",
    "  A[2] = 21123  \n",
    "  A[3] = 21366  \n",
    "  A[4] = 21013  \n",
    "  A[5] = 21367  \n",
    "  \n",
    "If a share was bought on day 0 and sold on day 2, a loss of 2048 would occur because A[2] − A[0] = 21123 − 23171 = −2048. If a share was bought on day 4 and sold on day 5, a profit of 354 would occur because A[5] − A[4] = 21367 − 21013 = 354. Maximum possible profit was 356. It would occur if a share was bought on day 1 and sold on day 5.\n",
    "\n",
    "Write a function,\n",
    "\n",
    "    def solution(A)\n",
    "\n",
    "that, given an array A consisting of N integers containing daily prices of a stock share for a period of N consecutive days, returns the maximum possible profit from one transaction during this period. The function should return 0 if it was impossible to gain any profit.\n",
    "\n",
    "For example, given array A consisting of six elements such that:\n",
    "\n",
    "  A[0] = 23171  \n",
    "  A[1] = 21011  \n",
    "  A[2] = 21123  \n",
    "  A[3] = 21366  \n",
    "  A[4] = 21013  \n",
    "  A[5] = 21367  \n",
    "the function should return 356, as explained above.\n",
    "\n",
    "Write an efficient algorithm for the following assumptions:\n",
    "\n",
    "N is an integer within the range [0..400,000];\n",
    "each element of array A is an integer within the range [0..200,000]."
   ]
  },
  {
   "cell_type": "code",
   "execution_count": 122,
   "metadata": {},
   "outputs": [],
   "source": [
    "A = [23171, 21011, 21123, 21366, 21013, 21367]"
   ]
  },
  {
   "cell_type": "code",
   "execution_count": 125,
   "metadata": {},
   "outputs": [
    {
     "name": "stdout",
     "output_type": "stream",
     "text": [
      "1 23171\n",
      "2 21011\n",
      "3 21123\n",
      "4 21366\n",
      "5 21013\n",
      "356\n"
     ]
    }
   ],
   "source": [
    "min_ = A[0]\n",
    "profit = 0\n",
    "maxprofit = 0\n",
    "\n",
    "for i in range(1,len(A)):\n",
    "    print(i, A[i-1])\n",
    "    if min_ > A[i-1]:\n",
    "        min_ = A[i-1]\n",
    "    profit = max(0, A[i]-min_)\n",
    "    maxprofit = max(profit, maxprofit)\n",
    "print(maxprofit)"
   ]
  },
  {
   "cell_type": "code",
   "execution_count": 126,
   "metadata": {},
   "outputs": [
    {
     "data": {
      "text/plain": [
       "356"
      ]
     },
     "execution_count": 126,
     "metadata": {},
     "output_type": "execute_result"
    }
   ],
   "source": [
    "def solutions(A):\n",
    "    min_ = A[0]\n",
    "    profit = 0\n",
    "    maxprofit = 0\n",
    "    \n",
    "    for i in range(1,len(A)):\n",
    "#         print(i, A[i-1])\n",
    "        if min_ > A[i-1]:\n",
    "            min_ = A[i-1]\n",
    "        profit = max(0, A[i]-min_)\n",
    "        maxprofit = max(profit, maxprofit)\n",
    "        \n",
    "    return maxprofit\n",
    "\n",
    "solutions(A)"
   ]
  },
  {
   "cell_type": "markdown",
   "metadata": {},
   "source": [
    "점수 : 88점  \n",
    "Analysis : simple_empty\n",
    "empty and [0,200000] sequence\n",
    "\n",
    "✘RUNTIME ERROR\n",
    "tested program terminated with exit code 1"
   ]
  },
  {
   "cell_type": "markdown",
   "metadata": {},
   "source": [
    "# 3. MaxSliceSum\n",
    "\n",
    "A non-empty array A consisting of N integers is given. A pair of integers (P, Q), such that 0 ≤ P ≤ Q < N, is called a slice of array A. The sum of a slice (P, Q) is the total of A[P] + A[P+1] + ... + A[Q].\n",
    "\n",
    "Write a function:\n",
    "\n",
    "    def solution(A)\n",
    "\n",
    "that, given an array A consisting of N integers, returns the maximum sum of any slice of A.\n",
    "\n",
    "For example, given array A such that:\n",
    "\n",
    "A[0] = 3  A[1] = 2  A[2] = -6  \n",
    "A[3] = 4  A[4] = 0  \n",
    "the function should return 5 because:\n",
    "\n",
    "(3, 4) is a slice of A that has sum 4,  \n",
    "(2, 2) is a slice of A that has sum −6,  \n",
    "(0, 1) is a slice of A that has sum 5,  \n",
    "no other slice of A has sum greater than (0, 1).  \n",
    "Write an efficient algorithm for the following assumptions:  \n",
    "\n",
    "N is an integer within the range [1..1,000,000];  \n",
    "each element of array A is an integer within the range [−1,000,000..1,000,000];  \n",
    "the result will be an integer within the range [−2,147,483,648..2,147,483,647]."
   ]
  },
  {
   "cell_type": "code",
   "execution_count": 140,
   "metadata": {},
   "outputs": [],
   "source": [
    "A = [3,2,-6,4,0]"
   ]
  },
  {
   "cell_type": "code",
   "execution_count": 152,
   "metadata": {},
   "outputs": [
    {
     "data": {
      "text/plain": [
       "5"
      ]
     },
     "execution_count": 152,
     "metadata": {},
     "output_type": "execute_result"
    }
   ],
   "source": [
    "def solution(A):\n",
    "    localMax = 0\n",
    "    globalMax = 0\n",
    "    \n",
    "\n",
    "    \n",
    "    for i, a in enumerate(A):\n",
    "        localMax = max(a, localMax+a)\n",
    "        if localMax > globalMax:\n",
    "            globalMax = localMax\n",
    "    return globalMax\n",
    "\n",
    "solution(A)"
   ]
  },
  {
   "cell_type": "markdown",
   "metadata": {},
   "source": [
    "점수 : 53"
   ]
  },
  {
   "cell_type": "code",
   "execution_count": 159,
   "metadata": {},
   "outputs": [
    {
     "data": {
      "text/plain": [
       "5"
      ]
     },
     "execution_count": 159,
     "metadata": {},
     "output_type": "execute_result"
    }
   ],
   "source": [
    "def solution(A):\n",
    "    globalMax = localMax = A[0]\n",
    "    for i in range(1, len(A)):\n",
    "        localMax = max(localMax + A[i], A[i])\n",
    "        globalMax = max(globalMax, localMax)\n",
    "    \n",
    "    return globalMax\n",
    "\n",
    "solution(A)"
   ]
  },
  {
   "cell_type": "markdown",
   "metadata": {},
   "source": [
    "점수:100"
   ]
  },
  {
   "cell_type": "code",
   "execution_count": null,
   "metadata": {},
   "outputs": [],
   "source": []
  }
 ],
 "metadata": {
  "kernelspec": {
   "display_name": "Python 3",
   "language": "python",
   "name": "python3"
  },
  "language_info": {
   "codemirror_mode": {
    "name": "ipython",
    "version": 3
   },
   "file_extension": ".py",
   "mimetype": "text/x-python",
   "name": "python",
   "nbconvert_exporter": "python",
   "pygments_lexer": "ipython3",
   "version": "3.7.3"
  }
 },
 "nbformat": 4,
 "nbformat_minor": 2
}
