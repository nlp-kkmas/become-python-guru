{
 "cells": [
  {
   "cell_type": "markdown",
   "metadata": {},
   "source": [
    "# 문제 1\n",
    "# CyclicRotation\n",
    "**Rotate an array to the right by a given number of steps.**\n",
    "\n",
    "An array A consisting of N integers is given. Rotation of the array means that each element is shifted right by one index, and the last element of the array is moved to the first place. For example, the rotation of array A = [3, 8, 9, 7, 6] is [6, 3, 8, 9, 7] (elements are shifted right by one index and 6 is moved to the first place).\n",
    "\n",
    "The goal is to rotate array A K times; that is, each element of A will be shifted to the right K times.\n",
    "\n",
    "Write a function:\n",
    "\n",
    "def solution(A, K)\n",
    "\n",
    "that, given an array A consisting of N integers and an integer K, returns the array A rotated K times.\n",
    "\n",
    "For example, given\n",
    "\n",
    "    A = [3, 8, 9, 7, 6]\n",
    "    K = 3\n",
    "the function should return [9, 7, 6, 3, 8]. Three rotations were made:\n",
    "\n",
    "    [3, 8, 9, 7, 6] -> [6, 3, 8, 9, 7]\n",
    "    [6, 3, 8, 9, 7] -> [7, 6, 3, 8, 9]\n",
    "    [7, 6, 3, 8, 9] -> [9, 7, 6, 3, 8]\n",
    "For another example, given\n",
    "\n",
    "    A = [0, 0, 0]\n",
    "    K = 1\n",
    "the function should return [0, 0, 0]\n",
    "\n",
    "Given\n",
    "\n",
    "    A = [1, 2, 3, 4]\n",
    "    K = 4\n",
    "the function should return [1, 2, 3, 4]\n",
    "\n",
    "Assume that:\n",
    "\n",
    "N and K are integers within the range [0..100];\n",
    "each element of array A is an integer within the range [−1,000..1,000].\n",
    "In your solution, focus on correctness. The performance of your solution will not be the focus of the assessment."
   ]
  },
  {
   "cell_type": "code",
   "execution_count": 85,
   "metadata": {},
   "outputs": [],
   "source": [
    "# 함수로 만들어보자\n",
    "def solution(A,k):\n",
    "    if k > len(A):\n",
    "        pass\n",
    "    return  A[-k:] + A[:-k]"
   ]
  },
  {
   "cell_type": "code",
   "execution_count": 86,
   "metadata": {},
   "outputs": [
    {
     "data": {
      "text/plain": [
       "[9, 7, 6, 3, 8]"
      ]
     },
     "execution_count": 86,
     "metadata": {},
     "output_type": "execute_result"
    }
   ],
   "source": [
    "A = [3,8,9,7,6]\n",
    "k = 3\n",
    "solution(A,k)"
   ]
  },
  {
   "cell_type": "code",
   "execution_count": 87,
   "metadata": {},
   "outputs": [
    {
     "data": {
      "text/plain": [
       "[0, 0, 0]"
      ]
     },
     "execution_count": 87,
     "metadata": {},
     "output_type": "execute_result"
    }
   ],
   "source": [
    "A = [0,0,0]\n",
    "k = 1\n",
    "solution(A,k)"
   ]
  },
  {
   "cell_type": "code",
   "execution_count": 91,
   "metadata": {},
   "outputs": [
    {
     "data": {
      "text/plain": [
       "[2, 3, 4, 1]"
      ]
     },
     "execution_count": 91,
     "metadata": {},
     "output_type": "execute_result"
    }
   ],
   "source": [
    "A = [1,2,3,4]\n",
    "k = 3\n",
    "solution(A,k)"
   ]
  },
  {
   "cell_type": "markdown",
   "metadata": {},
   "source": [
    "# 문제 2\n",
    "# OddOccurrencesInArray\n",
    "**Find value that occurs in odd number of elements.**\n",
    "\n",
    "A non-empty array A consisting of N integers is given. The array contains an odd number of elements, and each element of the array can be paired with another element that has the same value, except for one element that is left unpaired.\n",
    "\n",
    "For example, in array A such that:\n",
    "\n",
    "  A[0] = 9  A[1] = 3  A[2] = 9  \n",
    "  A[3] = 3  A[4] = 9  A[5] = 7  \n",
    "  A[6] = 9  \n",
    "the elements at indexes 0 and 2 have value 9,\n",
    "the elements at indexes 1 and 3 have value 3,\n",
    "the elements at indexes 4 and 6 have value 9,\n",
    "the element at index 5 has value 7 and is unpaired.\n",
    "Write a function:\n",
    "\n",
    "class Solution { public int solution(int[] A); }\n",
    "\n",
    "that, given an array A consisting of N integers fulfilling the above conditions, returns the value of the unpaired element.\n",
    "\n",
    "For example, given array A such that:\n",
    "\n",
    "  A[0] = 9  A[1] = 3  A[2] = 9  \n",
    "  A[3] = 3  A[4] = 9  A[5] = 7  \n",
    "  A[6] = 9  \n",
    "the function should return 7, as explained in the example above.\n",
    "\n",
    "Write an efficient algorithm for the following assumptions:\n",
    "\n",
    "N is an odd integer within the range [1..1,000,000];\n",
    "each element of array A is an integer within the range [1..1,000,000,000];\n",
    "all but one of the values in A occur an even number of times."
   ]
  },
  {
   "cell_type": "code",
   "execution_count": 109,
   "metadata": {},
   "outputs": [],
   "source": [
    "# from random import randint, randrange\n",
    "oddNum_list = [odd for odd in range(1, 1000000) if odd % 2 == 1]\n",
    "# oddNum_list = random.sample(oddNum_list, 3)"
   ]
  },
  {
   "cell_type": "code",
   "execution_count": null,
   "metadata": {},
   "outputs": [],
   "source": []
  }
 ],
 "metadata": {
  "kernelspec": {
   "display_name": "Python 3",
   "language": "python",
   "name": "python3"
  },
  "language_info": {
   "codemirror_mode": {
    "name": "ipython",
    "version": 3
   },
   "file_extension": ".py",
   "mimetype": "text/x-python",
   "name": "python",
   "nbconvert_exporter": "python",
   "pygments_lexer": "ipython3",
   "version": "3.7.3"
  }
 },
 "nbformat": 4,
 "nbformat_minor": 2
}
