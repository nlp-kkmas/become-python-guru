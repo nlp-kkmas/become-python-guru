{
 "cells": [
  {
   "cell_type": "markdown",
   "metadata": {},
   "source": [
    "An array A consisting of N integers is given. The dominator of array A is the value that occurs in more than half of the elements of A.  \n",
    "\n",
    "For example, consider array A such that  \n",
    "\n",
    " A[0] = 3    A[1] = 4    A[2] =  3  \n",
    " A[3] = 2    A[4] = 3    A[5] = -1  \n",
    " A[6] = 3    A[7] = 3  \n",
    "The dominator of A is 3 because it occurs in 5 out of 8 elements of A (namely in those with indices 0, 2, 4, 6 and 7) and 5 is more than a half of 8.  \n",
    "\n",
    "Write a function  \n",
    "\n",
    "    def solution(A)\n",
    "\n",
    "that, given an array A consisting of N integers, returns index of any element of array A in which the dominator of A occurs. The function should return −1 if array A does not have a dominator.\n",
    "\n",
    "For example, given array A such that\n",
    "\n",
    " A[0] = 3    A[1] = 4    A[2] =  3  \n",
    " A[3] = 2    A[4] = 3    A[5] = -1  \n",
    " A[6] = 3    A[7] = 3  \n",
    "the function may return 0, 2, 4, 6 or 7, as explained above.  \n",
    "\n",
    "Write an efficient algorithm for the following assumptions:\n",
    "\n",
    "N is an integer within the range [0..100,000];\n",
    "each element of array A is an integer within the range [−2,147,483,648..2,147,483,647]."
   ]
  },
  {
   "cell_type": "code",
   "execution_count": 41,
   "metadata": {},
   "outputs": [],
   "source": [
    "A = [3,4,3,2,3,-1,3,3]"
   ]
  },
  {
   "cell_type": "code",
   "execution_count": 2,
   "metadata": {},
   "outputs": [],
   "source": [
    "import collections"
   ]
  },
  {
   "cell_type": "code",
   "execution_count": 4,
   "metadata": {},
   "outputs": [
    {
     "data": {
      "text/plain": [
       "Counter({3: 5, 4: 1, 2: 1, -1: 1})"
      ]
     },
     "execution_count": 4,
     "metadata": {},
     "output_type": "execute_result"
    }
   ],
   "source": [
    "cnt = collections.Counter(A)\n",
    "cnt"
   ]
  },
  {
   "cell_type": "code",
   "execution_count": 60,
   "metadata": {},
   "outputs": [
    {
     "data": {
      "text/plain": [
       "5"
      ]
     },
     "execution_count": 60,
     "metadata": {},
     "output_type": "execute_result"
    }
   ],
   "source": [
    "cnt.most_common(1)[0][1]"
   ]
  },
  {
   "cell_type": "code",
   "execution_count": 63,
   "metadata": {},
   "outputs": [
    {
     "name": "stdout",
     "output_type": "stream",
     "text": [
      "T\n"
     ]
    }
   ],
   "source": [
    "if cnt.most_common(1)[0][1] > len(A)//2:\n",
    "    print('T')"
   ]
  },
  {
   "cell_type": "code",
   "execution_count": 59,
   "metadata": {},
   "outputs": [
    {
     "data": {
      "text/plain": [
       "4"
      ]
     },
     "execution_count": 59,
     "metadata": {},
     "output_type": "execute_result"
    }
   ],
   "source": [
    "len(A)//2"
   ]
  },
  {
   "cell_type": "code",
   "execution_count": 25,
   "metadata": {},
   "outputs": [
    {
     "data": {
      "text/plain": [
       "[0, 2, 4, 6, 7]"
      ]
     },
     "execution_count": 25,
     "metadata": {},
     "output_type": "execute_result"
    }
   ],
   "source": [
    "from more_itertools import locate\n",
    "list(locate(A, lambda x : x ==list(cnt)[0] ))"
   ]
  },
  {
   "cell_type": "code",
   "execution_count": 33,
   "metadata": {},
   "outputs": [
    {
     "data": {
      "text/plain": [
       "[0, 2, 4, 6, 7]"
      ]
     },
     "execution_count": 33,
     "metadata": {},
     "output_type": "execute_result"
    }
   ],
   "source": [
    "most_frequent_indexes = [i for i,el in enumerate(A) if el ==list(cnt)[0]]\n",
    "most_frequent_indexes"
   ]
  },
  {
   "cell_type": "code",
   "execution_count": 43,
   "metadata": {},
   "outputs": [
    {
     "data": {
      "text/plain": [
       "7"
      ]
     },
     "execution_count": 43,
     "metadata": {},
     "output_type": "execute_result"
    }
   ],
   "source": [
    "most_frequent_indexes.pop()"
   ]
  },
  {
   "cell_type": "code",
   "execution_count": null,
   "metadata": {},
   "outputs": [],
   "source": []
  },
  {
   "cell_type": "code",
   "execution_count": 55,
   "metadata": {},
   "outputs": [
    {
     "data": {
      "text/plain": [
       "7"
      ]
     },
     "execution_count": 55,
     "metadata": {},
     "output_type": "execute_result"
    }
   ],
   "source": [
    "# load library\n",
    "# import collections\n",
    "import collections\n",
    "def solution(A):\n",
    "    cnt_dict = collections.Counter(A)       # Counter({3: 5, 4: 1, 2: 1, -1: 1})\n",
    "    most_frequent_num = cnt_dict.most_common(1)[0][0]   # [3, 4, 2, -1] -> 3\n",
    "    most_frequent_indexes = [i for i,el in enumerate(A) if el == most_frequent_num]\n",
    "    return  -1 if len(A)==0 else most_frequent_indexes.pop()\n",
    "\n",
    "solution(A)"
   ]
  },
  {
   "cell_type": "markdown",
   "metadata": {},
   "source": [
    "result : 58점  \n",
    "link   : https://app.codility.com/demo/results/training28TBPF-CHQ/"
   ]
  },
  {
   "cell_type": "code",
   "execution_count": 56,
   "metadata": {},
   "outputs": [
    {
     "data": {
      "text/plain": [
       "4"
      ]
     },
     "execution_count": 56,
     "metadata": {},
     "output_type": "execute_result"
    }
   ],
   "source": [
    "solution([0,0,1,1,1])"
   ]
  },
  {
   "cell_type": "code",
   "execution_count": 73,
   "metadata": {},
   "outputs": [
    {
     "data": {
      "text/plain": [
       "-1"
      ]
     },
     "execution_count": 73,
     "metadata": {},
     "output_type": "execute_result"
    }
   ],
   "source": [
    "import collections\n",
    "def solution(A):\n",
    "    # 이거 안넣으면 91점\n",
    "    if len(A)==0:\n",
    "        return -1\n",
    "    \n",
    "    cnt_dict = collections.Counter(A)       # Counter({3: 5, 4: 1, 2: 1, -1: 1})\n",
    "    most_frequent_tup = cnt_dict.most_common(1)[0]\n",
    "    # cnt_dict.most_common(1)[0] : [(3,5)] == 많이 나온 숫자, 등장횟수\n",
    "    if most_frequent_tup[1] > len(A)//2:\n",
    "        most_frequent_num = most_frequent_tup[0]\n",
    "        most_frequent_indexes = [i for i,el in enumerate(A) if el == most_frequent_num]\n",
    "        return most_frequent_indexes.pop()\n",
    "    return -1\n",
    "\n",
    "#     # 왜 마지막에 넣으면 안되는 거지\n",
    "#     if len(A)==0:\n",
    "#         return -1\n",
    "    \n",
    "# solution(A)\n",
    "solution([])"
   ]
  },
  {
   "cell_type": "markdown",
   "metadata": {},
   "source": [
    "점수 : 100  \n",
    "링크 : https://app.codility.com/demo/results/training7YBGCK-DHG/"
   ]
  },
  {
   "cell_type": "markdown",
   "metadata": {},
   "source": [
    "# 문제2.\n",
    "\n",
    "A non-empty array A consisting of N integers is given.\n",
    "\n",
    "The leader of this array is the value that occurs in more than half of the elements of A.  \n",
    "\n",
    "An equi leader is an index S such that 0 ≤ S < N − 1 and two sequences A[0], A[1], ..., A[S] and A[S + 1], A[S + 2], ..., A[N − 1] have leaders of the same value.  \n",
    "\n",
    "For example, given array A such that:  \n",
    "\n",
    "    A[0] = 4  \n",
    "    A[1] = 3  \n",
    "    A[2] = 4  \n",
    "    A[3] = 4  \n",
    "    A[4] = 4  \n",
    "    A[5] = 2    \n",
    "we can find two equi leaders:\n",
    "\n",
    "0, because sequences: (4) and (3, 4, 4, 4, 2) have the same leader, whose value is 4.  \n",
    "2, because sequences: (4, 3, 4) and (4, 4, 2) have the same leader, whose value is 4.  \n",
    "The goal is to count the number of equi leaders.  \n",
    "\n",
    "Write a function:\n",
    "\n",
    "    def solution(A)\n",
    "\n",
    "that, given a non-empty array A consisting of N integers, returns the number of equi leaders.  \n",
    "\n",
    "For example, given:\n",
    "\n",
    "    A[0] = 4  \n",
    "    A[1] = 3  \n",
    "    A[2] = 4  \n",
    "    A[3] = 4  \n",
    "    A[4] = 4  \n",
    "    A[5] = 2  \n",
    "the function should return 2, as explained above.\n",
    "\n",
    "Write an efficient algorithm for the following assumptions:\n",
    "\n",
    "N is an integer within the range [1..100,000];\n",
    "each element of array A is an integer within the range [−1,000,000,000..1,000,000,000]."
   ]
  },
  {
   "cell_type": "code",
   "execution_count": 266,
   "metadata": {},
   "outputs": [],
   "source": [
    "A = [4,3,4,4,4,2]"
   ]
  },
  {
   "cell_type": "code",
   "execution_count": 192,
   "metadata": {},
   "outputs": [],
   "source": [
    "result_cnt = 0\n",
    "left_stack = []\n",
    "right_stack = []\n",
    "# left_most_freq_num = "
   ]
  },
  {
   "cell_type": "code",
   "execution_count": 193,
   "metadata": {},
   "outputs": [],
   "source": [
    "for i in range(len(A)):\n",
    "    left_stack.append(A[i])\n",
    "    right_stack.extend(A[i+1:])\n",
    "#     print(left_stack, right_stack)\n",
    "    left_most_freq_num = most_freq_num(left_stack)\n",
    "    right_most_freq_num = most_freq_num(right_stack)\n",
    "    if left_most_freq_num == right_most_freq_num:\n",
    "        result_cnt +=1\n",
    "#     break"
   ]
  },
  {
   "cell_type": "code",
   "execution_count": 194,
   "metadata": {},
   "outputs": [
    {
     "data": {
      "text/plain": [
       "[4, 3, 4, 4, 4, 2]"
      ]
     },
     "execution_count": 194,
     "metadata": {},
     "output_type": "execute_result"
    }
   ],
   "source": [
    "left_stack"
   ]
  },
  {
   "cell_type": "code",
   "execution_count": 195,
   "metadata": {},
   "outputs": [
    {
     "data": {
      "text/plain": [
       "[3, 4, 4, 4, 2, 4, 4, 4, 2, 4, 4, 2, 4, 2, 2]"
      ]
     },
     "execution_count": 195,
     "metadata": {},
     "output_type": "execute_result"
    }
   ],
   "source": [
    "right_stack"
   ]
  },
  {
   "cell_type": "code",
   "execution_count": 196,
   "metadata": {},
   "outputs": [
    {
     "data": {
      "text/plain": [
       "(4, 4, 2)"
      ]
     },
     "execution_count": 196,
     "metadata": {},
     "output_type": "execute_result"
    }
   ],
   "source": [
    "left_most_freq_num, right_most_freq_num, result_cnt"
   ]
  },
  {
   "cell_type": "code",
   "execution_count": 271,
   "metadata": {},
   "outputs": [
    {
     "name": "stdout",
     "output_type": "stream",
     "text": [
      "(3, 1)\n",
      "None\n"
     ]
    }
   ],
   "source": [
    "# test\n",
    "left_stack = [3,4]\n",
    "cnt_dict = collections.Counter(left_stack)                # Counter({3: 5, 4: 1, 2: 1, -1: 1})\n",
    "most_frequent_tup = cnt_dict.most_common(1)[0] \n",
    "print(most_frequent_tup)\n",
    "if len(left_stack)==1:\n",
    "    print(left_stack.pop())\n",
    "elif most_frequent_tup[1] > len(left_stack)//2:\n",
    "    most_frequent_num = most_frequent_tup[0]\n",
    "    print(most_frequent_num)\n",
    "else:\n",
    "    print(None)"
   ]
  },
  {
   "cell_type": "code",
   "execution_count": 272,
   "metadata": {},
   "outputs": [],
   "source": [
    "def most_freq_num(stack):\n",
    "    cnt_dict = collections.Counter(stack)                \n",
    "    most_frequent_tup = cnt_dict.most_common(1)[0] \n",
    "    if len(stack)==1:\n",
    "        return stack.pop()\n",
    "    \n",
    "    elif most_frequent_tup[1] > len(stack)//2:\n",
    "        most_frequent_num = most_frequent_tup[0]\n",
    "        return most_frequent_num\n",
    "    else:\n",
    "        return None"
   ]
  },
  {
   "cell_type": "code",
   "execution_count": 273,
   "metadata": {},
   "outputs": [],
   "source": [
    "most_freq_num([4,3])  # 아니 왜 안나와...."
   ]
  },
  {
   "cell_type": "code",
   "execution_count": 267,
   "metadata": {},
   "outputs": [],
   "source": [
    "def solution(A):\n",
    "    # 여기서 문제인듯..\n",
    "    def most_freq_num(stack):\n",
    "        cnt_dict = collections.Counter(stack)                \n",
    "        most_frequent_tup = cnt_dict.most_common(1)[0] \n",
    "        if len(stack)==1:\n",
    "            return stack.pop()\n",
    "\n",
    "        elif most_frequent_tup[1] > len(stack)//2:\n",
    "            most_frequent_num = most_frequent_tup[0]\n",
    "            return most_frequent_num\n",
    "        else:\n",
    "            return None\n",
    "    \n",
    "    result_cnt = 0\n",
    "    left_stack = []\n",
    "    right_stack = []\n",
    "    \n",
    "    for i in range(len(A)):\n",
    "        left_stack.append(A[i])\n",
    "        right_stack.extend(A[i+1:])\n",
    "        left_most_freq_num = most_freq_num(left_stack)\n",
    "        right_most_freq_num = most_freq_num(right_stack)\n",
    "        \n",
    "        if left_most_freq_num == right_most_freq_num:\n",
    "            result_cnt +=1\n",
    "            \n",
    "    return result_cnt"
   ]
  },
  {
   "cell_type": "code",
   "execution_count": 268,
   "metadata": {},
   "outputs": [
    {
     "data": {
      "text/plain": [
       "4"
      ]
     },
     "execution_count": 268,
     "metadata": {},
     "output_type": "execute_result"
    }
   ],
   "source": [
    "solution(A)"
   ]
  },
  {
   "cell_type": "code",
   "execution_count": null,
   "metadata": {},
   "outputs": [],
   "source": []
  }
 ],
 "metadata": {
  "kernelspec": {
   "display_name": "Python 3",
   "language": "python",
   "name": "python3"
  },
  "language_info": {
   "codemirror_mode": {
    "name": "ipython",
    "version": 3
   },
   "file_extension": ".py",
   "mimetype": "text/x-python",
   "name": "python",
   "nbconvert_exporter": "python",
   "pygments_lexer": "ipython3",
   "version": "3.7.3"
  }
 },
 "nbformat": 4,
 "nbformat_minor": 2
}
