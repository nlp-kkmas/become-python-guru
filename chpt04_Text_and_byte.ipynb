{
 "cells": [
  {
   "cell_type": "markdown",
   "metadata": {},
   "source": [
    "# chpt04 - Text and bytes\n",
    "이번 장에서는 아스키 텍스트를 사용하는 경우에도 문자열(str)과 바이트(bytes)를 구분하고, 전문화된 이진 시퀀스형인 '범용'파이썬2 문자열에 없는 기능을 제공한다.  \n",
    "\n",
    "## 4.1 문자 문제\n",
    "- 문자는 '유니코드 문자'다. 유니코드 표준은 `문자 단위 원소(코드포인트)`, `특정 바이트표현` 을 명확하게 구분한다.\n",
    "- **코드포인트**는 10진수 숫자이며, 유니코드 표준에서는 'U+'접두사를 붙여 4~6자리 사이의 16진수로 표현한다.\n",
    "- 문자를 표현하는 실제 바이트는 사용하는 **인코딩**에 따라 달라진다. 인코딩은 코드 포인트를 바이트 시퀀스로 변환하는 알고리즘이다. \n",
    "- 코드포인트를 바이트로 변환하는 것을 **인코딩**, 바이트를 코드포인트로 변환하는 것을 **디코딩**이라고 한다. "
   ]
  },
  {
   "cell_type": "code",
   "execution_count": 2,
   "metadata": {},
   "outputs": [
    {
     "name": "stdout",
     "output_type": "stream",
     "text": [
      "4\n",
      "b'cafe'\n",
      "4\n",
      "cafe\n"
     ]
    }
   ],
   "source": [
    "# 예제4-1 인코딩과 디코딩\n",
    "\n",
    "# cafe는 4개의 유니코드 문자를 갖고있다.\n",
    "s = 'cafe'\n",
    "print(len(s))\n",
    "\n",
    "# utf-8인코딩을 이용해서 str->bytes로 인코딩\n",
    "b = s.encode('utf8')\n",
    "print(b)\n",
    "print(len(b))\n",
    "\n",
    "# bytes -> str로 디코딩\n",
    "print(b.decode('utf8'))"
   ]
  },
  {
   "cell_type": "markdown",
   "metadata": {},
   "source": [
    "> decode()와 encode()f를 정확히 이해해보자. 바이트시퀀스는 기계언어이며, 유니코드 str은 '사람'이 읽을 수 있는 텍스트라고 보면된다. 바이트시퀀스를 텍스트로 '디코딩(해독)'하고, str을 저장하거나 전송하기 위해 bytes로 '인코딩(암호화)'한다고 보면된다.\n",
    "\n",
    "## 4.2 바이트에 대한 기본 지식\n",
    "인코딩, 디코딩 문제로 넘어가기 전에 이진 시퀀스형에 대해 먼저 알아보자.\n",
    "- 이진 시퀀스를 위해 사용되는 내장 자료형은 bytes(불변), bytearray(가변)\n",
    "- 0~255 사이의 정수이며, 슬라이싱하면 언제나 동일한 자료형의 이진 시퀀스가 만들어진다ㅏ. 슬라이스 길이가 1일 때도 마찬가지다."
   ]
  },
  {
   "cell_type": "code",
   "execution_count": 3,
   "metadata": {},
   "outputs": [
    {
     "data": {
      "text/plain": [
       "b'cafe'"
      ]
     },
     "execution_count": 3,
     "metadata": {},
     "output_type": "execute_result"
    }
   ],
   "source": [
    "cafe = bytes('cafe',encoding='utf_8')  # bytes는 str에 인코딩을 지정해서 만들 수 있다.\n",
    "cafe"
   ]
  },
  {
   "cell_type": "code",
   "execution_count": 4,
   "metadata": {},
   "outputs": [
    {
     "data": {
      "text/plain": [
       "99"
      ]
     },
     "execution_count": 4,
     "metadata": {},
     "output_type": "execute_result"
    }
   ],
   "source": [
    "cafe[0]  # 각 항목은 range(256)에 들어가는 정수다"
   ]
  },
  {
   "cell_type": "code",
   "execution_count": 5,
   "metadata": {},
   "outputs": [
    {
     "data": {
      "text/plain": [
       "b'c'"
      ]
     },
     "execution_count": 5,
     "metadata": {},
     "output_type": "execute_result"
    }
   ],
   "source": [
    "cafe[:1] # bytes는 슬라이싱해도 bytes이다. "
   ]
  },
  {
   "cell_type": "code",
   "execution_count": 6,
   "metadata": {},
   "outputs": [
    {
     "data": {
      "text/plain": [
       "bytearray(b'cafe')"
      ]
     },
     "execution_count": 6,
     "metadata": {},
     "output_type": "execute_result"
    }
   ],
   "source": [
    "cafe_arr = bytearray(cafe)\n",
    "cafe_arr"
   ]
  },
  {
   "cell_type": "code",
   "execution_count": 7,
   "metadata": {},
   "outputs": [
    {
     "data": {
      "text/plain": [
       "bytearray(b'e')"
      ]
     },
     "execution_count": 7,
     "metadata": {},
     "output_type": "execute_result"
    }
   ],
   "source": [
    "cafe_arr[-1:]"
   ]
  },
  {
   "cell_type": "markdown",
   "metadata": {},
   "source": [
    "> 책(p150~)과 다르게 bytes, bytearray의 리터럴 표기법이 아스키텍스트가 아니다.  \n",
    "> bytes, bytearray 객체를 생성하면 언제나 바이트를 복사한다. 이와 반대로 memoryview는 이진 데이터 구조체 간에 메모리를 공유할 수 있게 해준다. "
   ]
  },
  {
   "cell_type": "markdown",
   "metadata": {},
   "source": [
    "### 4.2.1 구조체와 메모리뷰\n",
    "이진 시퀀스에서 구조화된 정보를 추출하려면 struct모듈을 사용한다. struct모듈은 패킹된 바이트를 다양한 형의 필드로 구성된 튜플로 분석하고, 이와 반대로 튜플을 패킹된 바이트로 변환하는 함수를 제공한다. struct는 `bytes, bytearray, memoryview`객체와 함께 사용된다.\n",
    "- 메모리뷰는 바이트시퀀스를 생성하거나 저장할 수 없지만, 바이트를 복사하지 않고 다른 이진 시퀀스/패킹된 배열/파이썬 이미지 라이브러리 등 버퍼 데이터의 슬라이스에 공유 메모리 방식으로 접근할 수 있게 해준다.\n",
    "- 이쯤에서 패스"
   ]
  },
  {
   "cell_type": "markdown",
   "metadata": {},
   "source": [
    "## 4.3 기본 인코더/디코더\n",
    "an ISO 8859 codeset는 국가별 언어인코딩 방식을 표로 제공했다. 자세한 표는 [여기](https://docs.python.org/3/library/codecs.html) 참고하자"
   ]
  },
  {
   "cell_type": "markdown",
   "metadata": {},
   "source": [
    "## 4.4 인코딩/디코딩 에러 이해하기\n",
    "에러의 유형은 `UnicodeEncodeError`, `UnicodeDecodeError`, `SyntaxError`\n",
    "### 4.4.1 UnicodeEncodeError 처리하기\n",
    "- 대부분의 non-uft 코덱은 유니코드문자의 일부만 처리할 수 있다.\n",
    "- 텍스트를 바이트로 변환할 때 인코딩에 정의되어 있지 않거나 errors인수에 별도 처리기를 지정하지 않으면 발생한다.\n",
    "- `'ignore'`, 'replace', 'xmlcharrefreplace', 'codecs.register_error()'`"
   ]
  },
  {
   "cell_type": "code",
   "execution_count": 12,
   "metadata": {},
   "outputs": [
    {
     "name": "stdout",
     "output_type": "stream",
     "text": [
      "b'S\\xc3\\xa3o Paulo'\n",
      "b'\\xff\\xfeS\\x00\\xe3\\x00o\\x00 \\x00P\\x00a\\x00u\\x00l\\x00o\\x00'\n",
      "b'S\\xe3o Paulo'\n"
     ]
    },
    {
     "ename": "UnicodeEncodeError",
     "evalue": "'charmap' codec can't encode character '\\xe3' in position 1: character maps to <undefined>",
     "output_type": "error",
     "traceback": [
      "\u001b[0;31m---------------------------------------------------------------------------\u001b[0m",
      "\u001b[0;31mUnicodeEncodeError\u001b[0m                        Traceback (most recent call last)",
      "\u001b[0;32m<ipython-input-12-b4edcd8a1d25>\u001b[0m in \u001b[0;36m<module>\u001b[0;34m\u001b[0m\n\u001b[1;32m      4\u001b[0m \u001b[0mprint\u001b[0m\u001b[0;34m(\u001b[0m\u001b[0mcity\u001b[0m\u001b[0;34m.\u001b[0m\u001b[0mencode\u001b[0m\u001b[0;34m(\u001b[0m\u001b[0;34m'utf16'\u001b[0m\u001b[0;34m)\u001b[0m\u001b[0;34m)\u001b[0m\u001b[0;34m\u001b[0m\u001b[0;34m\u001b[0m\u001b[0m\n\u001b[1;32m      5\u001b[0m \u001b[0mprint\u001b[0m\u001b[0;34m(\u001b[0m\u001b[0mcity\u001b[0m\u001b[0;34m.\u001b[0m\u001b[0mencode\u001b[0m\u001b[0;34m(\u001b[0m\u001b[0;34m'iso8859_1'\u001b[0m\u001b[0;34m)\u001b[0m\u001b[0;34m)\u001b[0m\u001b[0;34m\u001b[0m\u001b[0;34m\u001b[0m\u001b[0m\n\u001b[0;32m----> 6\u001b[0;31m \u001b[0mprint\u001b[0m\u001b[0;34m(\u001b[0m\u001b[0mcity\u001b[0m\u001b[0;34m.\u001b[0m\u001b[0mencode\u001b[0m\u001b[0;34m(\u001b[0m\u001b[0;34m'cp437'\u001b[0m\u001b[0;34m)\u001b[0m\u001b[0;34m)\u001b[0m  \u001b[0;31m# error. cp437은 물결표가 있으면 처리할 수 없다.\u001b[0m\u001b[0;34m\u001b[0m\u001b[0;34m\u001b[0m\u001b[0m\n\u001b[0m\u001b[1;32m      7\u001b[0m \u001b[0;34m\u001b[0m\u001b[0m\n\u001b[1;32m      8\u001b[0m \u001b[0;31m# errors 처리기로 물결을 처리해보자\u001b[0m\u001b[0;34m\u001b[0m\u001b[0;34m\u001b[0m\u001b[0;34m\u001b[0m\u001b[0m\n",
      "\u001b[0;32m/usr/local/Caskroom/miniconda/base/envs/lee/lib/python3.6/encodings/cp437.py\u001b[0m in \u001b[0;36mencode\u001b[0;34m(self, input, errors)\u001b[0m\n\u001b[1;32m     10\u001b[0m \u001b[0;34m\u001b[0m\u001b[0m\n\u001b[1;32m     11\u001b[0m     \u001b[0;32mdef\u001b[0m \u001b[0mencode\u001b[0m\u001b[0;34m(\u001b[0m\u001b[0mself\u001b[0m\u001b[0;34m,\u001b[0m\u001b[0minput\u001b[0m\u001b[0;34m,\u001b[0m\u001b[0merrors\u001b[0m\u001b[0;34m=\u001b[0m\u001b[0;34m'strict'\u001b[0m\u001b[0;34m)\u001b[0m\u001b[0;34m:\u001b[0m\u001b[0;34m\u001b[0m\u001b[0;34m\u001b[0m\u001b[0m\n\u001b[0;32m---> 12\u001b[0;31m         \u001b[0;32mreturn\u001b[0m \u001b[0mcodecs\u001b[0m\u001b[0;34m.\u001b[0m\u001b[0mcharmap_encode\u001b[0m\u001b[0;34m(\u001b[0m\u001b[0minput\u001b[0m\u001b[0;34m,\u001b[0m\u001b[0merrors\u001b[0m\u001b[0;34m,\u001b[0m\u001b[0mencoding_map\u001b[0m\u001b[0;34m)\u001b[0m\u001b[0;34m\u001b[0m\u001b[0;34m\u001b[0m\u001b[0m\n\u001b[0m\u001b[1;32m     13\u001b[0m \u001b[0;34m\u001b[0m\u001b[0m\n\u001b[1;32m     14\u001b[0m     \u001b[0;32mdef\u001b[0m \u001b[0mdecode\u001b[0m\u001b[0;34m(\u001b[0m\u001b[0mself\u001b[0m\u001b[0;34m,\u001b[0m\u001b[0minput\u001b[0m\u001b[0;34m,\u001b[0m\u001b[0merrors\u001b[0m\u001b[0;34m=\u001b[0m\u001b[0;34m'strict'\u001b[0m\u001b[0;34m)\u001b[0m\u001b[0;34m:\u001b[0m\u001b[0;34m\u001b[0m\u001b[0;34m\u001b[0m\u001b[0m\n",
      "\u001b[0;31mUnicodeEncodeError\u001b[0m: 'charmap' codec can't encode character '\\xe3' in position 1: character maps to <undefined>"
     ]
    }
   ],
   "source": [
    "# 예제 4-6 바이트로 인코딩하기\n",
    "\n",
    "city = 'São Paulo'  # 상파울루 스페인어\n",
    "\n",
    "print(city.encode('utf8'))    # uft시리즈는 모든 str을 처리할 수 있다.\n",
    "print(city.encode('utf16'))\n",
    "print(city.encode('iso8859_1'))\n",
    "print(city.encode('cp437'))  # error. cp437은 물결표가 있으면 처리할 수 없다."
   ]
  },
  {
   "cell_type": "code",
   "execution_count": 24,
   "metadata": {},
   "outputs": [
    {
     "name": "stdout",
     "output_type": "stream",
     "text": [
      "b'So Paulo'\n",
      "b'S?o Paulo'\n",
      "b'S&#227;o Paulo'\n",
      "b'S o Paulo'\n"
     ]
    }
   ],
   "source": [
    "# errors 처리기로 물결을 처리해보자\n",
    "print(city.encode('cp437', errors = 'ignore'))   # 인코딩 할 수 없으면 말없이 건너뜀\n",
    "print(city.encode('cp437', errors = 'replace'))  # 인코딩 할 수 없으면 물음표로 치환\n",
    "print(city.encode('cp437', errors = 'xmlcharrefreplace'))  # 인코딩 할 수 없으면 xml개체로 치환\n",
    "\n",
    "# codecs.register_error() : 에러처리기명과 에러처리 함수를 전달해서 에러를 등록할 수 있다. \n",
    "import codecs\n",
    "codecs.register_error('replace_with_space', lambda e: (u' ',e.start + 1))\n",
    "print(city.encode('cp437', errors = 'replace_with_space'))"
   ]
  },
  {
   "cell_type": "code",
   "execution_count": null,
   "metadata": {},
   "outputs": [],
   "source": [
    "print('Olá, Mundo!')"
   ]
  },
  {
   "cell_type": "markdown",
   "metadata": {},
   "source": [
    "## 4.5 텍스트 파일 다루기\n",
    "## 4.6 유니코드 정규화하기\n",
    "아스키 세상은 간단했다. 하지만 유니코드 세상에서는 복잡한 문제인 텍스트 정규화(텍스트를 비교하기 위해 통일된 표현으로 변환하는 작업)와 정렬에 대해 설명한다.\n",
    "- 유니코드에는 결합문자가 있기 때문에 문자열 비교가 간단하지 않다. \n",
    "- 앞 문자에 연결되는 **발음 구별 기호(diacritical mark)** 는 인쇄할 때 앞문자와 하나로 결합되어 출력된다. \n",
    "- 예를 들어, 'café'는 네 개나 다섯 개의 코드 포인트를 이용해서 두가지 방식으로 표현할 수 있지만 결과는 동일하다."
   ]
  },
  {
   "cell_type": "code",
   "execution_count": 25,
   "metadata": {},
   "outputs": [
    {
     "data": {
      "text/plain": [
       "('café', 'café')"
      ]
     },
     "execution_count": 25,
     "metadata": {},
     "output_type": "execute_result"
    }
   ],
   "source": [
    "s1 = 'café'\n",
    "s2 = 'cafe\\u0301'\n",
    "s1, s2"
   ]
  },
  {
   "cell_type": "code",
   "execution_count": 26,
   "metadata": {},
   "outputs": [
    {
     "data": {
      "text/plain": [
       "(4, 5)"
      ]
     },
     "execution_count": 26,
     "metadata": {},
     "output_type": "execute_result"
    }
   ],
   "source": [
    "len(s1), len(s2)"
   ]
  },
  {
   "cell_type": "code",
   "execution_count": 27,
   "metadata": {},
   "outputs": [
    {
     "data": {
      "text/plain": [
       "False"
      ]
     },
     "execution_count": 27,
     "metadata": {},
     "output_type": "execute_result"
    }
   ],
   "source": [
    "s1 == s2"
   ]
  },
  {
   "cell_type": "markdown",
   "metadata": {},
   "source": [
    "> 코드포인트(u0301)는 'combining acute accent'이다. 'e'다음에 이 코드포인트가 오면 'é'를 만든다.  \n",
    "- 유니코드 표준에서는 'é'와 'e\\u0301' 이 두개의 시퀀스를 규범적으로 동일하다고 한다.  \n",
    "- 파이썬은 서로 다른 두 개의 코드 포인트 시퀀스를 서로 동일하지 않다고 판단한다. 이 문제를 해결하기 위해서는 `unicodedata.normalize()`함수가 제공하는 유니코드 정규화를 이용하자  \n",
    "- 파라미터 : NFC, NFD, NFKC, NFKD  \n",
    "- NFC : 코드포인트를 조합해서 가장 짧은 동일 문자열을 생성한다.  \n",
    "- NFD : 조합된 문자를 기본 문자와 별도의 결합 문자로 분리한다. "
   ]
  },
  {
   "cell_type": "code",
   "execution_count": 28,
   "metadata": {},
   "outputs": [
    {
     "name": "stdout",
     "output_type": "stream",
     "text": [
      "4 4\n",
      "5 5\n"
     ]
    }
   ],
   "source": [
    "# 유니코드 정규화 예제 : 어퍼스트로피 é\n",
    "\n",
    "from unicodedata import normalize\n",
    "s1 = 'café'\n",
    "s2 = 'cafe\\u0301'\n",
    "len(s1), len(s2)\n",
    "\n",
    "print(len(normalize('NFC',s1)), len(normalize('NFC',s2)))\n",
    "print(len(normalize('NFD',s1)), len(normalize('NFD',s2)))"
   ]
  },
  {
   "cell_type": "code",
   "execution_count": 29,
   "metadata": {},
   "outputs": [
    {
     "data": {
      "text/plain": [
       "True"
      ]
     },
     "execution_count": 29,
     "metadata": {},
     "output_type": "execute_result"
    }
   ],
   "source": [
    "normalize('NFC',s1) == normalize('NFC',s2)"
   ]
  },
  {
   "cell_type": "code",
   "execution_count": 30,
   "metadata": {},
   "outputs": [
    {
     "data": {
      "text/plain": [
       "True"
      ]
     },
     "execution_count": 30,
     "metadata": {},
     "output_type": "execute_result"
    }
   ],
   "source": [
    "normalize('NFD',s1) == normalize('NFD',s2)"
   ]
  },
  {
   "cell_type": "code",
   "execution_count": 32,
   "metadata": {},
   "outputs": [
    {
     "data": {
      "text/plain": [
       "'OHM SIGN'"
      ]
     },
     "execution_count": 32,
     "metadata": {},
     "output_type": "execute_result"
    }
   ],
   "source": [
    "# 유니코드 정규화 예제 : 전기저항 '옴' vs 그리스어 대문자 '오메가'\n",
    "\n",
    "from unicodedata import normalize,name\n",
    "ohm = '\\u2126'\n",
    "name(ohm)"
   ]
  },
  {
   "cell_type": "code",
   "execution_count": 33,
   "metadata": {},
   "outputs": [
    {
     "data": {
      "text/plain": [
       "'GREEK CAPITAL LETTER OMEGA'"
      ]
     },
     "execution_count": 33,
     "metadata": {},
     "output_type": "execute_result"
    }
   ],
   "source": [
    "ohm_c = normalize('NFC', ohm)\n",
    "name(ohm_c)"
   ]
  },
  {
   "cell_type": "code",
   "execution_count": 34,
   "metadata": {},
   "outputs": [
    {
     "data": {
      "text/plain": [
       "False"
      ]
     },
     "execution_count": 34,
     "metadata": {},
     "output_type": "execute_result"
    }
   ],
   "source": [
    "ohm == ohm_c  # 정규화 하기 전과 후는 다르지"
   ]
  },
  {
   "cell_type": "code",
   "execution_count": 35,
   "metadata": {},
   "outputs": [
    {
     "data": {
      "text/plain": [
       "True"
      ]
     },
     "execution_count": 35,
     "metadata": {},
     "output_type": "execute_result"
    }
   ],
   "source": [
    "normalize('NFC',ohm) == normalize('NFC', ohm_c) # 정규화ㅏ하면 같지"
   ]
  },
  {
   "cell_type": "markdown",
   "metadata": {},
   "source": [
    "- NFKC, NFKD에서 k는 호환성(compatibility)을 나타내는데, 정규화의 더 강력한 형태로 소위 말하는 '호환성 문자'에 영향을 미친다.\n",
    "- 예를 들면 마이크로 기호(뮤) 'μ'는 코드포인트(u+03BC(Greek small letter MU))와 같은 문자이지만, latin1과의 상호 변환을 지원하기 위해 유니코드에 추가되었다.\n",
    "- 포맷손실이 발생하더라도 '선호하는' 형태의 하나 이상의 문자로 구성된 '호환성 분할'로 치환한다. \n",
    "- 예를 들어, 절반을 나타내는 '½'의 호환성 분할은 세 개 문자의 시퀀스인 '1/2'로, 마이크로 기호 'μ'의 호환성 분할은 소문자 뮤인 'μ'로 치환된다."
   ]
  },
  {
   "cell_type": "code",
   "execution_count": 36,
   "metadata": {},
   "outputs": [
    {
     "data": {
      "text/plain": [
       "'1⁄2'"
      ]
     },
     "execution_count": 36,
     "metadata": {},
     "output_type": "execute_result"
    }
   ],
   "source": [
    "# NFKC 예 : ½, μ\n",
    "\n",
    "from unicodedata import normalize,name\n",
    "half = '½'\n",
    "normalize('NFKC', half)"
   ]
  },
  {
   "cell_type": "code",
   "execution_count": 37,
   "metadata": {},
   "outputs": [
    {
     "data": {
      "text/plain": [
       "'42'"
      ]
     },
     "execution_count": 37,
     "metadata": {},
     "output_type": "execute_result"
    }
   ],
   "source": [
    "four_squared = '42'\n",
    "normalize('NFKC', four_squared)"
   ]
  },
  {
   "cell_type": "code",
   "execution_count": 41,
   "metadata": {},
   "outputs": [
    {
     "data": {
      "text/plain": [
       "('µ', 'μ')"
      ]
     },
     "execution_count": 41,
     "metadata": {},
     "output_type": "execute_result"
    }
   ],
   "source": [
    "micro = 'µ'                         # 마이크로 기호 µ\n",
    "micro_k = normalize('NFKC', micro)  # 그리스어 소문자 뮤\n",
    "micro, micro_k"
   ]
  },
  {
   "cell_type": "code",
   "execution_count": 42,
   "metadata": {},
   "outputs": [
    {
     "data": {
      "text/plain": [
       "(181, 956)"
      ]
     },
     "execution_count": 42,
     "metadata": {},
     "output_type": "execute_result"
    }
   ],
   "source": [
    "ord(micro), ord(micro_k)"
   ]
  },
  {
   "cell_type": "code",
   "execution_count": 43,
   "metadata": {},
   "outputs": [
    {
     "data": {
      "text/plain": [
       "('MICRO SIGN', 'GREEK SMALL LETTER MU')"
      ]
     },
     "execution_count": 43,
     "metadata": {},
     "output_type": "execute_result"
    }
   ],
   "source": [
    "name(micro), name(micro_k)"
   ]
  },
  {
   "cell_type": "markdown",
   "metadata": {},
   "source": [
    "### 4.6.1 (검색 및 색인 생성을 위해 텍스트 준비할 때 ) 케이스 폴딩\n",
    "- case folding은 모든 텍스트를 소문자로 변환하는 것.\n",
    "- 다만 마이크로 기호 'µ'는 그리스 소문자 '뮤(μ)'로 변환되고, 독일어의 에스체트 'ß'는 'ss'로 변환된다. "
   ]
  },
  {
   "cell_type": "code",
   "execution_count": 49,
   "metadata": {},
   "outputs": [
    {
     "name": "stdout",
     "output_type": "stream",
     "text": [
      "MICRO SIGN\n",
      "GREEK SMALL LETTER MU\n",
      "µ μ\n",
      "------------------------------\n",
      "LATIN SMALL LETTER SHARP S\n",
      "ß ss\n"
     ]
    }
   ],
   "source": [
    "# 케이스 폴딩 예제 : µ, ß\n",
    "\n",
    "micro = 'µ'\n",
    "print(name(micro))\n",
    "\n",
    "# 케이스폴딩하면 그리스어로 변환됨\n",
    "micro_cf = micro.casefold()\n",
    "print(name(micro_cf))\n",
    "print(micro, micro_cf)\n",
    "print('-'*30)\n",
    "\n",
    "# 에스체트 -> ss\n",
    "eszett = 'ß'\n",
    "print(name(eszett))\n",
    "\n",
    "# 케이스폴딩하면 영어 ss로 변환됨\n",
    "eszett_cf = eszett.casefold()\n",
    "print(eszett, eszett_cf)"
   ]
  },
  {
   "cell_type": "markdown",
   "metadata": {},
   "source": [
    "### 4.6.2 정규화된 텍스트 매칭을 위한 유틸리티 함수\n",
    "- NFC, NFD는 유니코드 문자열을 적절히 비교할 수 있게 한다. NFC는 대부분의 어플리케이션에서 사용할 수 있는 최고의 정규화된 형태이며, \n",
    "- str.casefold()는 대소문자 구분없이 문자를 비교할 때 가장 좋은 방법이다. \n",
    "- 다양한 언어로 구성된 텍스트를 사용하는 경우 nfc_equal(), fold_equal() 처럼 메서드를 도구상자에 추가하는 것이 좋다"
   ]
  },
  {
   "cell_type": "code",
   "execution_count": null,
   "metadata": {},
   "outputs": [],
   "source": [
    "\"\"\"\n",
    "Utility functions for normalized Unicode string comparison.\n",
    "Using Normal Form C, case sensitive:\n",
    "    >>> s1 = 'café'\n",
    "    >>> s2 = 'cafe\\u0301'\n",
    "    >>> s1 == s2\n",
    "    False\n",
    "    >>> nfc_equal(s1, s2)\n",
    "    True\n",
    "    >>> nfc_equal('A', 'a')\n",
    "    False\n",
    "Using Normal Form C with case folding:\n",
    "    >>> s3 = 'Straße'\n",
    "    >>> s4 = 'strasse'\n",
    "    >>> s3 == s4\n",
    "    False\n",
    "    >>> nfc_equal(s3, s4)\n",
    "    False\n",
    "    >>> fold_equal(s3, s4)\n",
    "    True\n",
    "    >>> fold_equal(s1, s2)\n",
    "    True\n",
    "    >>> fold_equal('A', 'a')\n",
    "    True\n",
    "\"\"\""
   ]
  },
  {
   "cell_type": "code",
   "execution_count": 50,
   "metadata": {},
   "outputs": [],
   "source": [
    "from unicodedata import normalize\n",
    "\n",
    "def nfc_equal(str1, str2):\n",
    "    return normalize('NFC', str1) == normalize('NFC', str2)\n",
    "\n",
    "def fold_equal(str1, str2):\n",
    "    return (normalize('NFC', str1).casefold() == normalize('NFC', str2).casefold())"
   ]
  },
  {
   "cell_type": "code",
   "execution_count": 51,
   "metadata": {},
   "outputs": [
    {
     "data": {
      "text/plain": [
       "True"
      ]
     },
     "execution_count": 51,
     "metadata": {},
     "output_type": "execute_result"
    }
   ],
   "source": [
    "nfc_equal(s1, s2)"
   ]
  },
  {
   "cell_type": "code",
   "execution_count": 53,
   "metadata": {},
   "outputs": [],
   "source": [
    "s3 = 'Straße'\n",
    "s4 = 'strasse'"
   ]
  },
  {
   "cell_type": "code",
   "execution_count": 54,
   "metadata": {},
   "outputs": [
    {
     "data": {
      "text/plain": [
       "False"
      ]
     },
     "execution_count": 54,
     "metadata": {},
     "output_type": "execute_result"
    }
   ],
   "source": [
    "s3 == s4"
   ]
  },
  {
   "cell_type": "code",
   "execution_count": 55,
   "metadata": {},
   "outputs": [
    {
     "data": {
      "text/plain": [
       "True"
      ]
     },
     "execution_count": 55,
     "metadata": {},
     "output_type": "execute_result"
    }
   ],
   "source": [
    "fold_equal(s3, s4)"
   ]
  },
  {
   "cell_type": "markdown",
   "metadata": {},
   "source": [
    "### 4.6.3. 발음 구별 기호 제거하기\n",
    "- 문맥에 따라 악센트나 갈고리형 기호 등의 발음 구별 기호를 무시하는 방법이 있다ㅏ.\n",
    "- 하지만 발음 구별 기호를 제거하는 일은 단어의 뜻을 변경하고 검색 시 오탐이 발생할 수도 있으므로 적절한 정규화 방식은 아니다.\n",
    "- 철자법 규칙이 시대에 따라 변하기도 하므로 실제 사용되는 언어에서 악센터 용법은 생겻다가 사라지기도 한다.\n",
    "- 따라서 악센트에 너무 연연할 필요는 없다. \n",
    "- 검색 외에도 발음 구별 기호를 제거하면, 특히 라틴어의 경우 URL을 읽기 편해진다.\n",
    "- https://en.wikipedia.org/wiki/S%C3%A3o_Paulo ==> https://en.wikipedia.org/wiki/Sao_Paulo\n",
    "- %C3%A3 부분은 URL 이스케이프 처리한 부분으로, 물결표가 있는 'a'인 'ã'를 uft-8로 표기한 것 "
   ]
  },
  {
   "cell_type": "code",
   "execution_count": null,
   "metadata": {},
   "outputs": [],
   "source": [
    "# 예제 4-14 : 발음 구별 기호 모두 제거\n",
    "\n",
    "# tag::SHAVE_MARKS[]\n",
    "import unicodedata\n",
    "import string\n",
    "\n",
    "\n",
    "def shave_marks(txt):\n",
    "    \"\"\"Remove all diacritic marks\"\"\"\n",
    "    # <1> : 모든 문자를 기본 문자와 결합 표시로 분해한다.\n",
    "    norm_txt = unicodedata.normalize('NFD', txt)  # <1>\n",
    "    \n",
    "    # <2> : 결합 표시를 모두 걸러낸다. \n",
    "    shaved = ''.join(c for c in norm_txt if not unicodedata.combining(c))  # <2>\n",
    "    \n",
    "    # <3> : 문자를 모두 재결합시킨다.\n",
    "    shaved = unicodedata.normalize('NFC', shaved)  # <3> \n",
    "    \n",
    "    return shaved\n"
   ]
  },
  {
   "cell_type": "code",
   "execution_count": 57,
   "metadata": {},
   "outputs": [
    {
     "data": {
      "text/plain": [
       "'“Herr Voß: • ½ cup of Œtker™ caffe latte • bowl of acai.”'"
      ]
     },
     "execution_count": 57,
     "metadata": {},
     "output_type": "execute_result"
    }
   ],
   "source": [
    "# Handling a string with `cp1252` symbols:\n",
    "order = '“Herr Voß: • ½ cup of Œtker™ caffè latte • bowl of açaí.”'\n",
    "shave_marks(order)"
   ]
  },
  {
   "cell_type": "markdown",
   "metadata": {},
   "source": [
    "> 'è', 'ç', 'í'만 대체되었다."
   ]
  },
  {
   "cell_type": "code",
   "execution_count": 58,
   "metadata": {},
   "outputs": [
    {
     "data": {
      "text/plain": [
       "'Ζεφυρος, Zefiro'"
      ]
     },
     "execution_count": 58,
     "metadata": {},
     "output_type": "execute_result"
    }
   ],
   "source": [
    "# Handling a string with Greek and Latin accented characters:\n",
    "\n",
    "greek = 'Ζέφυρος, Zéfiro'\n",
    "shave_marks(greek)"
   ]
  },
  {
   "cell_type": "markdown",
   "metadata": {},
   "source": [
    "> 'έ', 'é'가 대체되었다."
   ]
  },
  {
   "cell_type": "markdown",
   "metadata": {},
   "source": [
    "shave_marks() 함수는 문제가 있다. 흔히 발음 구별 기호를 제거하는 것은 *라틴 텍스트*를 순수한 아스키코드로 변환하기 위한 것인데, 단지 악센트만 제거해서 아스키문자로 만들 수 없는 그리스문자도 변경한다. 따라서 예제4-16과 같이 모든 기반 문자를 분석해서 기분 문자가 라틴 알파벳인 경우에만 연결된 표시를 제거해보자"
   ]
  },
  {
   "cell_type": "code",
   "execution_count": 59,
   "metadata": {},
   "outputs": [],
   "source": [
    "# 예제 4-16 : 라틴 문자에서 결합 표시 기호를 제거하는 함수\n",
    "\n",
    "def shave_marks_latin(txt):\n",
    "    '''라틴 기반 문자에서 발음 구별 기호를 모두 제거한다.'''\n",
    "    norm_txt = unicodedata.normalize('NFC', txt)\n",
    "    latin_base = False\n",
    "    keepers = []\n",
    "    for c in norm_txt:\n",
    "        # 라틴 문자일 때 결합 표시 기호를 건너뛴다.\n",
    "        if unicodedata.combining(c) and latin_base : \n",
    "            # 라틴 기반 문자의 발음 구별 기호를 무시한다. \n",
    "            continue\n",
    "        keepers.append(c)\n",
    "        \n",
    "        # 결합 문자가 아니면, 이 문자를 새로운 기반 문자로 간주한다.\n",
    "        if not unicodedata.combining(c):\n",
    "            # 새로운 기반 문자를 찾아내고 라틴 문자인지 판단한다.\n",
    "            latin_base = c in string.ascii_letters\n",
    "    \n",
    "    # 문자들을 모두 결합하고 NFC 방식으로 정규화한다.\n",
    "    shaved = ''.join(keepers)\n",
    "    shaved = unicodedata.normalize('NFC', shaved)\n",
    "    \n",
    "    return shaved"
   ]
  },
  {
   "cell_type": "code",
   "execution_count": 60,
   "metadata": {},
   "outputs": [
    {
     "data": {
      "text/plain": [
       "'“Herr Voß: • ½ cup of Œtker™ caffè latte • bowl of açaí.”'"
      ]
     },
     "execution_count": 60,
     "metadata": {},
     "output_type": "execute_result"
    }
   ],
   "source": [
    "order = '“Herr Voß: • ½ cup of Œtker™ caffè latte • bowl of açaí.”'\n",
    "shave_marks_latin(order)"
   ]
  },
  {
   "cell_type": "code",
   "execution_count": 61,
   "metadata": {},
   "outputs": [
    {
     "data": {
      "text/plain": [
       "'Ζέφυρος, Zéfiro'"
      ]
     },
     "execution_count": 61,
     "metadata": {},
     "output_type": "execute_result"
    }
   ],
   "source": [
    "greek = 'Ζέφυρος, Zéfiro'\n",
    "shave_marks_latin(greek)"
   ]
  },
  {
   "cell_type": "markdown",
   "metadata": {},
   "source": [
    "> 뭐가 대체된거지??"
   ]
  },
  {
   "cell_type": "markdown",
   "metadata": {},
   "source": [
    "원형 따옴표, 전각 대시, 작은 점 등 서양 텍스트에서 널리 사용되는 기호들도 아스키 문자로 바꿀 수 있다. "
   ]
  },
  {
   "cell_type": "code",
   "execution_count": 64,
   "metadata": {},
   "outputs": [],
   "source": [
    "# 예제 4-17 : 서양 활자(타이포그래픽) 기호--> 아스키로 변환하기\n",
    "\n",
    "# tag::ASCIIZE[]\n",
    "\n",
    "# <1> : 문자 대 문자 치환을 위한 매핑 테이블을 만든다.\n",
    "single_map = str.maketrans(\"\"\"‚ƒ„†ˆ‹‘’“”•–—˜›\"\"\",  \n",
    "                           \"\"\"'f\"*^<''\"\"---~>\"\"\")\n",
    "\n",
    "# <2> : 문자 대 문자열 치환을 위한 매핑 테이블을 만든다. \n",
    "multi_map = str.maketrans({  \n",
    "    '€': '<euro>',\n",
    "    '…': '...',\n",
    "    'Œ': 'OE',\n",
    "    '™': '(TM)',\n",
    "    'œ': 'oe',\n",
    "    '‰': '<per mille>',\n",
    "    '‡': '**',\n",
    "})\n",
    "\n",
    "# <3> : 매핑 테이블 병합\n",
    "multi_map.update(single_map)  \n",
    "\n",
    "\n",
    "def dewinize(txt):\n",
    "    \"\"\"Replace Win1252 symbols with ASCII chars or sequences\"\"\"\n",
    "    return txt.translate(multi_map)  # <4> : 아스키나 latin1 텍스트에 영향을 미치지 않으며,\n",
    "                                     #       마이크로소프트 cp1252안의 latin1에 추가한 문자만 변경한다.\n",
    "\n",
    "\n",
    "def asciize(txt):\n",
    "    no_marks = shave_marks_latin(dewinize(txt))     # <5> : 발음 구별 기호 제거\n",
    "    no_marks = no_marks.replace('ß', 'ss')          # <6> : 에스체트 치환\n",
    "    return unicodedata.normalize('NFKC', no_marks)  # <7> : 호환성 코드 포인트로 대체된 문자열을 만든다.\n",
    "# end::ASCIIZE[]"
   ]
  },
  {
   "cell_type": "code",
   "execution_count": 65,
   "metadata": {},
   "outputs": [
    {
     "data": {
      "text/plain": [
       "'\"Herr Voß: - ½ cup of OEtker(TM) caffè latte - bowl of açaí.\"'"
      ]
     },
     "execution_count": 65,
     "metadata": {},
     "output_type": "execute_result"
    }
   ],
   "source": [
    "dewinize(order)  # 둥근 따옴표, 작은점, 상표권 기호(tm)을 대치했다"
   ]
  },
  {
   "cell_type": "code",
   "execution_count": 67,
   "metadata": {},
   "outputs": [
    {
     "data": {
      "text/plain": [
       "'\"Herr Voss: - 1⁄2 cup of OEtker(TM) caffè latte - bowl of açaí.\"'"
      ]
     },
     "execution_count": 67,
     "metadata": {},
     "output_type": "execute_result"
    }
   ],
   "source": [
    "asciize(order)   #3 둥금 따옴표, 작음점, 상표권 기호 제거한 후 에스체트를 ss로 대치한다."
   ]
  },
  {
   "cell_type": "code",
   "execution_count": 68,
   "metadata": {},
   "outputs": [
    {
     "data": {
      "text/plain": [
       "'Ζέφυρος, Zéfiro'"
      ]
     },
     "execution_count": 68,
     "metadata": {},
     "output_type": "execute_result"
    }
   ],
   "source": [
    "dewinize(greek)"
   ]
  },
  {
   "cell_type": "code",
   "execution_count": 69,
   "metadata": {},
   "outputs": [
    {
     "data": {
      "text/plain": [
       "'Ζέφυρος, Zéfiro'"
      ]
     },
     "execution_count": 69,
     "metadata": {},
     "output_type": "execute_result"
    }
   ],
   "source": [
    "asciize(greek)"
   ]
  },
  {
   "cell_type": "markdown",
   "metadata": {},
   "source": [
    "> 독일어의 움라우트 u -> ue로 대체되고, asciize()는 현재는 정교하지 않지만 포루투갈어에 대해는 제법 잘 작동한다."
   ]
  },
  {
   "cell_type": "markdown",
   "metadata": {},
   "source": [
    "## 4.7 유니코드 텍스트 정렬하기\n",
    "- 문자열은 각 단어의 코드포인트를 비교하여 정렬하는데, 불행히도 비아스키(non-asciiki) 문자를 사용하면 결과가 이상하다.\n",
    "- 브라질에서 재배하는 과일 목록을 정렬해보자."
   ]
  },
  {
   "cell_type": "code",
   "execution_count": 71,
   "metadata": {},
   "outputs": [
    {
     "name": "stdout",
     "output_type": "stream",
     "text": [
      "['acerola', 'atemoia', 'açaí', 'caju', 'cajá']\n"
     ]
    }
   ],
   "source": [
    "fruits = ['caju', 'atemoia', 'cajá', 'açaí', 'acerola']\n",
    "sorted_fruits = sorted(fruits)\n",
    "print(sorted_fruits)"
   ]
  },
  {
   "cell_type": "markdown",
   "metadata": {},
   "source": [
    "> 'cajá'보다 'caju'가 먼저 나왔다. 어퍼스트로피 'á'는 'u'보다 뒤로 인식한다.  \n",
    "정렬 규칙은 현지 언어에 따라 다르다. 포루투갈어 등 라틴 알파벳을 사용하는 언어에서는 **악센트, 갈고리형 기호**가 거의 영향을 미치지 않는다.  \n",
    "- 따라서 어퍼스트로피가 있는 'cajá'는 'caja'로 처리해서 'caju'보다 먼저 나와야 한다. \n",
    "\n",
    "비-아스키 텍스트는 `local.strxfrm()`함수를 이용해서 변환할 수 있다. `strxfrm()`함수는 문자열을 현지어 비교에 사용할 수 있는 문자열로 변환한다."
   ]
  },
  {
   "cell_type": "code",
   "execution_count": 72,
   "metadata": {},
   "outputs": [
    {
     "name": "stdout",
     "output_type": "stream",
     "text": [
      "pt_BR.UTF-8\n",
      "['acerola', 'atemoia', 'açaí', 'caju', 'cajá']\n"
     ]
    }
   ],
   "source": [
    "# 예제 4-19 : locale.strxfrm() 함수를 정렬키로 사용하기\n",
    "\n",
    "import locale\n",
    "\n",
    "# <1> : setlocale(LC_COLLATE, <지역_언어>)를 먼저 호출할 것.\n",
    "my_locale = locale.setlocale(locale.LC_COLLATE, 'pt_BR.UTF-8')\n",
    "print(my_locale)\n",
    "\n",
    "fruits = ['caju', 'atemoia', 'cajá', 'açaí', 'acerola']\n",
    "sorted_fruits_loc = sorted(fruits, key=locale.strxfrm)\n",
    "print(sorted_fruits_loc)"
   ]
  },
  {
   "cell_type": "markdown",
   "metadata": {},
   "source": [
    "> <1>번 단계에서 '지역_언어'를 찾기 힘들텐데 다행히 PyPI로 제공되는 `PyUCA 라이브러리`로 간단히 해결가능!!"
   ]
  },
  {
   "cell_type": "markdown",
   "metadata": {},
   "source": [
    "### 4.7.1 PyUCA 유니코드 대조 알고리즘으로 간편하게 정렬하기 --> 이걸써라"
   ]
  },
  {
   "cell_type": "code",
   "execution_count": 74,
   "metadata": {},
   "outputs": [
    {
     "name": "stdout",
     "output_type": "stream",
     "text": [
      "Collecting pyuca\n",
      "  Downloading pyuca-1.2-py2.py3-none-any.whl (1.5 MB)\n",
      "\u001b[K     |████████████████████████████████| 1.5 MB 260 kB/s eta 0:00:01\n",
      "\u001b[?25hInstalling collected packages: pyuca\n",
      "Successfully installed pyuca-1.2\n"
     ]
    }
   ],
   "source": [
    "!pip install pyuca"
   ]
  },
  {
   "cell_type": "code",
   "execution_count": 75,
   "metadata": {},
   "outputs": [
    {
     "name": "stdout",
     "output_type": "stream",
     "text": [
      "['açaí', 'acerola', 'atemoia', 'cajá', 'caju']\n"
     ]
    }
   ],
   "source": [
    "# 예제 4-20 : pyuca.Collator.sort_key()\n",
    "\n",
    "import pyuca\n",
    "coll = pyuca.Collator()\n",
    "fruits = ['caju', 'atemoia', 'cajá', 'açaí', 'acerola']\n",
    "sorted_fruits_coll = sorted(fruits, key=coll.sort_key)\n",
    "print(sorted_fruits_coll)"
   ]
  },
  {
   "cell_type": "markdown",
   "metadata": {},
   "source": [
    "## 4.8 유니코드 데이터베이스\n",
    "문자를 출력할 수 있는지, 문자인지 십진수인지 다른 수치형 기호인지 기록한다.\n",
    "- `unicodedata` 모듈에는 문자 메타데이터를 반환하는 함수들이 있다. \n",
    "- 예를 들어, 표준에 정의된 공식 명칭, 결합 문자인지 여부(결합 물결표 등 발음 구별기호 등), 사람이 인식하는 기호의 숫자값 등을 반환한다.\n",
    "- `unicodedata.name()`, `unicodedata.numeric()`을 str의 `isdecimal()`, `isnumeric()`메서드와 함께 쓰면 된다."
   ]
  },
  {
   "cell_type": "code",
   "execution_count": 76,
   "metadata": {},
   "outputs": [
    {
     "name": "stdout",
     "output_type": "stream",
     "text": [
      "U+0031\t  1   \tre_dig\tisdig\tisnum\t 1.00\tDIGIT ONE\n",
      "U+00bc\t  ¼   \t-\t-\tisnum\t 0.25\tVULGAR FRACTION ONE QUARTER\n",
      "U+00b2\t  ²   \t-\tisdig\tisnum\t 2.00\tSUPERSCRIPT TWO\n",
      "U+0969\t  ३   \tre_dig\tisdig\tisnum\t 3.00\tDEVANAGARI DIGIT THREE\n",
      "U+136b\t  ፫   \t-\tisdig\tisnum\t 3.00\tETHIOPIC DIGIT THREE\n",
      "U+216b\t  Ⅻ   \t-\t-\tisnum\t12.00\tROMAN NUMERAL TWELVE\n",
      "U+2466\t  ⑦   \t-\tisdig\tisnum\t 7.00\tCIRCLED DIGIT SEVEN\n",
      "U+2480\t  ⒀   \t-\t-\tisnum\t13.00\tPARENTHESIZED NUMBER THIRTEEN\n",
      "U+3285\t  ㊅   \t-\t-\tisnum\t 6.00\tCIRCLED IDEOGRAPH SIX\n"
     ]
    }
   ],
   "source": [
    "# tag::NUMERICS_DEMO[]\n",
    "import unicodedata\n",
    "import re\n",
    "\n",
    "re_digit = re.compile(r'\\d')\n",
    "\n",
    "sample = '1\\xbc\\xb2\\u0969\\u136b\\u216b\\u2466\\u2480\\u3285'\n",
    "\n",
    "for char in sample:\n",
    "    print('U+%04x' % ord(char),                       # <1>\n",
    "          char.center(6),                             # <2> : 길이가 6인 str의 중앙에 놓인 문자\n",
    "          're_dig' if re_digit.match(char) else '-',  # <3> : 정규표현과 일치하면 re_dig 표시\n",
    "          'isdig' if char.isdigit() else '-',         # <4> \n",
    "          'isnum' if char.isnumeric() else '-',       # <5>\n",
    "          format(unicodedata.numeric(char), '5.2f'),  # <6> \n",
    "          unicodedata.name(char),                     # <7> : 유니코드 문자명\n",
    "          sep='\\t')\n",
    "# end::NUMERICS_DEMO[]"
   ]
  },
  {
   "cell_type": "code",
   "execution_count": null,
   "metadata": {},
   "outputs": [],
   "source": []
  },
  {
   "cell_type": "markdown",
   "metadata": {},
   "source": [
    "## 4.9 이중 모드 str 및 bytes API\n",
    "- 표준 라이브러리에는 str이나 bytes 인수를 모두 받으며, 인수의 자료형에 따라 다르게 작동하는 함수들이 있다.\n",
    "- re, os모듈이 대표적인 예다.\n",
    "\n",
    "### 4.9.1 정규 표현식에서의 str과 bytes\n",
    "- bytes로 정규 표현식을 만들면 \\d, \\w같은 패턴은 아스키 문자만 매칭되지만, **str로 이 패턴을 만들면 아스키 문자 이외에 유니코드 숫자나 문자도 매칭**된다.\n",
    "- 아래예제는 문자, 아스키 숫자, 위첨자, 타밀 숫자가 str과 bytes패턴에 어떻게 매칭되는지 비교한다."
   ]
  },
  {
   "cell_type": "code",
   "execution_count": 77,
   "metadata": {},
   "outputs": [
    {
     "name": "stdout",
     "output_type": "stream",
     "text": [
      "Text\n",
      "  'Ramanujan saw ௧௭௨௯ as 1729 = 1³ + 12³ = 9³ + 10³.'\n",
      "Numbers\n",
      "  str  : ['௧௭௨௯', '1729', '1', '12', '9', '10']\n",
      "  bytes: [b'1729', b'1', b'12', b'9', b'10']\n",
      "Words\n",
      "  str  : ['Ramanujan', 'saw', '௧௭௨௯', 'as', '1729', '1³', '12³', '9³', '10³']\n",
      "  bytes: [b'Ramanujan', b'saw', b'as', b'1729', b'1', b'12', b'9', b'10']\n"
     ]
    }
   ],
   "source": [
    "# 예제 4-22 : ramanujan.py : 간단한 str, bytes 정규 표현식 동작 비교\n",
    "\n",
    "# tag::RE_DEMO[]\n",
    "import re\n",
    "\n",
    "re_numbers_str = re.compile(r'\\d+')     # <1> : str형 정규표현식\n",
    "re_words_str = re.compile(r'\\w+')\n",
    "re_numbers_bytes = re.compile(rb'\\d+')  # <2> : bytes형 정규표현식\n",
    "re_words_bytes = re.compile(rb'\\w+')\n",
    "\n",
    "text_str = (\"Ramanujan saw \\u0be7\\u0bed\\u0be8\\u0bef\"  # <3> : 타밀 숫자로 1729를 담고있음.\n",
    "            \" as 1729 = 1³ + 12³ = 9³ + 10³.\")        # <4> : 컴파일 시 앞 문자열에 연결됨. 2.4.2.문자열 리터럴의 연결 참조\n",
    "\n",
    "text_bytes = text_str.encode('utf_8')  # <5> : bytes 정규표현식을 검색하려면 bytes문자열이 필요함\n",
    "\n",
    "print('Text', repr(text_str), sep='\\n  ')\n",
    "print('Numbers')\n",
    "print('  str  :', re_numbers_str.findall(text_str))      # <6> : 타밀과 아스키 숫자에 매칭\n",
    "print('  bytes:', re_numbers_bytes.findall(text_bytes))  # <7> : 아스키 숫자만 매칭\n",
    "print('Words')\n",
    "print('  str  :', re_words_str.findall(text_str))        # <8> : 문자, 위첨자, 타밀, 아스키 숫자\n",
    "print('  bytes:', re_words_bytes.findall(text_bytes))    # <9> : 문자와 숫자에 대한 아스키 바이트 매칭\n",
    "# end::RE_DEMO[]"
   ]
  },
  {
   "cell_type": "markdown",
   "metadata": {},
   "source": [
    "> 정규표현식을 str, bytes에 사용할 수 있지만, bytes에 정규표현식을 사용하면 아스키 범위를 벗어나는 문자들은 숫자나 단어로 처리하지 않는다ㅏ. "
   ]
  },
  {
   "cell_type": "markdown",
   "metadata": {},
   "source": [
    "### 4.9.2 os모듈 함수에서 str, bytes\n",
    "- GNU/리눅스 커널은 유니코드를 모른다ㅏ. 따라서 실제 os의 파일명은 어떠한 인코딩 체계에서도 올바르지 않는 바이트 시퀀스로 구성되어 있으며 str로 디코딩할 수 없다.\n",
    "- 이 문제를 해결하기 위해 파일명이나 경로명을 받는 모든 os모듈 함수는 str, bytes형의 인수를 받는다.\n",
    "- `sys.getfilesystemencoding()`함수에 의해 지정된 코덱을 이용해서 자동으로 변환되고 디코딩된다.\n",
    "- 하지만 이렇게 처리할 수 없으면 bytes인수를 os함수에 전달해서 bytes 반환값을 가져온다.\n",
    "- 파일명이나 경로명에 얼마나 많은 깨진문자가 있는지에 상관없이 이 방식을 이용하자.  \n",
    "\n",
    "- 'digits-of-π.txt'를 불러온다고 가정해보자\n",
    "- 파일이나 경로명인 str혹은 bytes시퀀스를 수작업으로 처리하는 것을 도와주기 위해 os모듈은 다음과 같은 인코딩/디코딩 함수를 제공한다.\n",
    "    1. fsencode(파일명) : 파일명이 str형이면 `sys.getfilesystemencoding()`이 반환된 코덱명을 이용해서 '파일명'을 bytes형으로 인코딩한다. '파일명'이 bytes형이면 반환하지 않고 그대로 반환\n",
    "    2. fsdecode(파일명) : 파일명이 bytes형이면 `sys.getfilesystemencoding()`이 파일명을 **str**로 디코딩한다. '파일명'이 str형이면 반환하지 않고 그대로 반환"
   ]
  },
  {
   "cell_type": "code",
   "execution_count": 81,
   "metadata": {},
   "outputs": [
    {
     "data": {
      "text/plain": [
       "['chpt01_Data model.ipynb',\n",
       " 'chpt03_Dictionary_and_Set.ipynb',\n",
       " 'chpt04_Text_and_byte.ipynb',\n",
       " 'README.md',\n",
       " 'chpt02_An array of sequence.ipynb',\n",
       " '.ipynb_checkpoints',\n",
       " 'digits-of-π']"
      ]
     },
     "execution_count": 81,
     "metadata": {},
     "output_type": "execute_result"
    }
   ],
   "source": [
    "# 예제 4-23 : str, bytes인수로 호출한 listdir() 메서드와 결과\n",
    "import os\n",
    "os.listdir('.')"
   ]
  },
  {
   "cell_type": "code",
   "execution_count": 82,
   "metadata": {},
   "outputs": [
    {
     "data": {
      "text/plain": [
       "[b'chpt01_Data model.ipynb',\n",
       " b'chpt03_Dictionary_and_Set.ipynb',\n",
       " b'chpt04_Text_and_byte.ipynb',\n",
       " b'README.md',\n",
       " b'chpt02_An array of sequence.ipynb',\n",
       " b'.ipynb_checkpoints',\n",
       " b'digits-of-\\xcf\\x80']"
      ]
     },
     "execution_count": 82,
     "metadata": {},
     "output_type": "execute_result"
    }
   ],
   "source": [
    "os.listdir(b'.')"
   ]
  },
  {
   "cell_type": "markdown",
   "metadata": {},
   "source": [
    "- surrogateescape 에러처리기를 이용해서 깨진 문자 처리하기\n",
    "    - 예상치 못한 바이트나 모르는 인코딩을 처리할 때 surrogateescape 코덱 에러 처리기를 사용한다.\n",
    "    - 디코딩 할 수없는 바이트를 유니코드 표준에서 '하위 써로게이트 영역'이라고하는 코드 포인트로 치환한다.\n",
    "    - 해당 코드포인트에는 문자가 할당된게 아니라 애플리케이션 내부 용도로 사용할 수 있다.\n",
    "    - 인코딩할 때 이 코드포인트는 치환된 원래 바이트로 다시 변환된다."
   ]
  },
  {
   "cell_type": "code",
   "execution_count": 84,
   "metadata": {},
   "outputs": [
    {
     "data": {
      "text/plain": [
       "'digits-of-\\udccf\\udc80'"
      ]
     },
     "execution_count": 84,
     "metadata": {},
     "output_type": "execute_result"
    }
   ],
   "source": [
    "# 예제 4-24 : surrogateescape 에러처리\n",
    "\n",
    "os.listdir(b'.') # <1> : 인코딩 방식을 모른체 하고 파일명을 bytes로 가져오자\n",
    "pi_name_bytes = os.listdir(b'.')[6]  # b'digits-of-\\xcf\\x80.txt'\n",
    "pi_name_str = pi_name_bytes.decode('ascii', 'surrogateescape')  # str형으로 디코딩한다.\n",
    "pi_name_str"
   ]
  },
  {
   "cell_type": "code",
   "execution_count": 85,
   "metadata": {},
   "outputs": [
    {
     "data": {
      "text/plain": [
       "b'digits-of-\\xcf\\x80'"
      ]
     },
     "execution_count": 85,
     "metadata": {},
     "output_type": "execute_result"
    }
   ],
   "source": [
    "pi_name_str.encode('ascii','surrogateescape') # 다시 아스키 바이트로 인코딩"
   ]
  },
  {
   "attachments": {
    "image.png": {
     "image/png": "[encoded data removed]"
    }
   },
   "cell_type": "markdown",
   "metadata": {},
   "source": [
    "![image.png](attachment:image.png)"
   ]
  },
  {
   "cell_type": "code",
   "execution_count": null,
   "metadata": {},
   "outputs": [],
   "source": []
  }
 ],
 "metadata": {
  "kernelspec": {
   "display_name": "Python 3",
   "language": "python",
   "name": "python3"
  },
  "language_info": {
   "codemirror_mode": {
    "name": "ipython",
    "version": 3
   },
   "file_extension": ".py",
   "mimetype": "text/x-python",
   "name": "python",
   "nbconvert_exporter": "python",
   "pygments_lexer": "ipython3",
   "version": "3.6.9"
  }
 },
 "nbformat": 4,
 "nbformat_minor": 2
}
